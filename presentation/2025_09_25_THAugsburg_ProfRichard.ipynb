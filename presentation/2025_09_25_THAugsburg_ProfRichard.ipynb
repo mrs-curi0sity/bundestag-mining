{
 "cells": [
  {
   "cell_type": "code",
   "execution_count": 7,
   "id": "58478850",
   "metadata": {},
   "outputs": [],
   "source": [
    "import sys\n",
    "#print(sys.executable)  # Zeigt dir den Pfad zum Python-Interpreter\n",
    "import matplotlib.pyplot as plt\n",
    "import matplotlib.image as mpimg\n",
    "import matplotlib.patches as patches\n",
    "import plotly.graph_objects as go\n",
    "import numpy as np\n",
    "import base64\n",
    "from PIL import Image\n",
    "import io\n",
    "from IPython.display import HTML"
   ]
  },
  {
   "cell_type": "code",
   "execution_count": 8,
   "id": "65ae7e13",
   "metadata": {},
   "outputs": [],
   "source": [
    "def img_to_base64(img_path):\n",
    "    with open(img_path, 'rb') as f:\n",
    "        encoded = base64.b64encode(f.read()).decode('utf-8')\n",
    "    return f'data:image/png;base64,{encoded}'"
   ]
  },
  {
   "cell_type": "markdown",
   "id": "6d1db9a1-5bc4-4806-9e9d-70971b37af82",
   "metadata": {},
   "source": [
    "---\n",
    "title: \"Bundestagsmining - Wenn Volksvertreter nicht mehr aus dem Volk kommen\"\n",
    "format: \n",
    "  revealjs:\n",
    "    css: custom.css  # Nur einmal hier!\n",
    "    footer: \"Lena Aretz | yourcupofdata | 26.09.2025\"\n",
    "    slide-number: true\n",
    "    logo: \"./images/yourcuopfdata_logo.png\" \n",
    "    include-in-header:\n",
    "      text: |\n",
    "        <style>\n",
    "        .reveal .slide-logo {\n",
    "          max-height: 70px !important;\n",
    "          right: 12px !important;\n",
    "          bottom: 12px !important;\n",
    "        }\n",
    "        </style>\n",
    "    toc-title: \"Inhalt\"\n",
    "author: \"Lena Aretz (yourcupofdata.com | aretzlena@gmail.com)\"\n",
    "date: today\n",
    "execute:\n",
    "    echo: false\n",
    "    toc: true\n",
    "---"
   ]
  },
  {
   "cell_type": "markdown",
   "id": "a59077e7-99d4-4ac5-a78d-17a9b86e0ef0",
   "metadata": {},
   "source": [
    "# Agenda\n",
    "\n",
    "- Motivation\n",
    "- Methodik 2023\n",
    "- Methodik 2025 \n",
    "- Ergebnisse\n",
    "- Diskussion & Ausblick"
   ]
  },
  {
   "cell_type": "markdown",
   "id": "4370e3bf",
   "metadata": {},
   "source": [
    "# Wer bin ich?"
   ]
  },
  {
   "cell_type": "markdown",
   "id": "06d6ee11",
   "metadata": {},
   "source": [
    "![](./images/lena_profil_02.png)"
   ]
  },
  {
   "cell_type": "markdown",
   "id": "4d597ede",
   "metadata": {},
   "source": [
    "![](attachment:lena_profil_02.png)"
   ]
  },
  {
   "cell_type": "markdown",
   "id": "718df0c4-a2de-4b7c-9e6d-0031acde7196",
   "metadata": {},
   "source": [
    "# Motivation\n"
   ]
  },
  {
   "cell_type": "markdown",
   "id": "e8d066f6",
   "metadata": {},
   "source": [
    "## Friedrich Merz"
   ]
  },
  {
   "cell_type": "markdown",
   "id": "a59f4daf",
   "metadata": {},
   "source": [
    "::: {.image-container}\n",
    "![](./images/portrait_merz.jpg){.portrait-image}\n",
    "\n",
    "::: {.fragment .overlay-label}\n",
    "**Rechtsanwalt**\n",
    ":::\n",
    ":::"
   ]
  },
  {
   "cell_type": "markdown",
   "id": "6e9ad2d6",
   "metadata": {},
   "source": [
    "# Olaf Scholz"
   ]
  },
  {
   "cell_type": "markdown",
   "id": "788d8e4b",
   "metadata": {},
   "source": [
    "::: {.image-container}\n",
    "![](./images/portrait_scholz.jpg){.portrait-image}\n",
    "\n",
    "::: {.fragment .overlay-label}\n",
    "**Rechtsanwalt**\n",
    ":::\n",
    ":::"
   ]
  },
  {
   "cell_type": "markdown",
   "id": "82afa0d3",
   "metadata": {},
   "source": [
    "# Vorbilder"
   ]
  },
  {
   "cell_type": "markdown",
   "id": "c0add23f",
   "metadata": {},
   "source": []
  },
  {
   "cell_type": "markdown",
   "id": "c0efcfc5",
   "metadata": {},
   "source": [
    "\n",
    "\n",
    "::: {.mining-comparison}\n",
    "\n",
    "::: {.left-column}\n",
    "### Tagesschau Mining\n",
    "\n",
    "![](./images/tagesschau_mining_01.png){.mining-image}\n",
    "\n",
    "![](./images/tagesschau_mining_02.png){.mining-image}\n",
    ":::\n",
    "\n",
    "::: {.right-column}\n",
    "### Spiegel Mining\n",
    "\n",
    "![](./images/spiegel_mining.png){.mining-image}\n",
    ":::\n",
    "\n",
    ":::"
   ]
  },
  {
   "cell_type": "markdown",
   "id": "f816a8d9",
   "metadata": {},
   "source": []
  },
  {
   "cell_type": "markdown",
   "id": "99de2742",
   "metadata": {},
   "source": []
  },
  {
   "cell_type": "markdown",
   "id": "5119bed0",
   "metadata": {},
   "source": [
    "# Methodik "
   ]
  },
  {
   "cell_type": "markdown",
   "id": "d3041b4a",
   "metadata": {},
   "source": [
    "# Workflow\n",
    "\n",
    "::: {.workflow-container}\n",
    "\n",
    "::: {.workflow-step .fragment}\n",
    "::: {.step-number}\n",
    "1\n",
    ":::\n",
    "::: {.step-content}\n",
    "**Datenrecherche**\n",
    ":::\n",
    ":::\n",
    "\n",
    "\n",
    "::: {.workflow-arrow .fragment}\n",
    "<span style=\"font-size: 3rem;\">→</span>\n",
    ":::\n",
    "\n",
    "::: {.workflow-step .fragment}\n",
    "::: {.step-number}\n",
    "2\n",
    ":::\n",
    "::: {.step-content}\n",
    "**EDA**\n",
    ":::\n",
    ":::\n",
    "\n",
    "::: {.workflow-arrow .fragment}\n",
    "<span style=\"font-size: 3rem;\">→</span>\n",
    ":::\n",
    "\n",
    "::: {.workflow-step .fragment}\n",
    "::: {.step-number}\n",
    "3\n",
    ":::\n",
    "::: {.step-content}\n",
    "**Datenbereinigung**\n",
    ":::\n",
    ":::\n",
    "\n",
    "::: {.workflow-arrow .fragment}\n",
    "<span style=\"font-size: 3rem;\">→</span>\n",
    ":::\n",
    "\n",
    "::: {.workflow-step .fragment}\n",
    "::: {.step-number}\n",
    "4\n",
    ":::\n",
    "::: {.step-content}\n",
    "**Dashboard**\n",
    ":::\n",
    ":::\n",
    "\n",
    "::: {.workflow-arrow .fragment}\n",
    "<span style=\"font-size: 3rem\">→</span>\n",
    ":::\n",
    "\n",
    "::: {.workflow-step .fragment}\n",
    "::: {.step-number}\n",
    "5\n",
    ":::\n",
    "::: {.step-content}\n",
    "**Deployment**\n",
    ":::\n",
    ":::\n",
    "\n",
    ":::"
   ]
  },
  {
   "cell_type": "markdown",
   "id": "c466e726",
   "metadata": {},
   "source": []
  },
  {
   "cell_type": "markdown",
   "id": "c7b2853d",
   "metadata": {},
   "source": [
    "# Datenrecherche"
   ]
  },
  {
   "cell_type": "markdown",
   "id": "661bf8ed",
   "metadata": {},
   "source": [
    "## Workflow\n",
    "\n",
    "::: {.workflow-container}\n",
    "\n",
    "::: {.workflow-step .highlight}\n",
    "::: {.step-number}\n",
    "1\n",
    ":::\n",
    "::: {.step-content}\n",
    "**Datenrecherche**\n",
    ":::\n",
    ":::\n",
    "\n",
    "\n",
    "::: {.workflow-arrow }\n",
    "<span style=\"font-size: 3rem;\">→</span>\n",
    ":::\n",
    "\n",
    "::: {.workflow-step}\n",
    "::: {.step-number}\n",
    "2\n",
    ":::\n",
    "::: {.step-content}\n",
    "**EDA**\n",
    ":::\n",
    ":::\n",
    "\n",
    "::: {.workflow-arrow }\n",
    "<span style=\"font-size: 3rem;\">→</span>\n",
    ":::\n",
    "\n",
    "::: {.workflow-step}\n",
    "::: {.step-number}\n",
    "3\n",
    ":::\n",
    "::: {.step-content}\n",
    "**Datenbereinigung**\n",
    ":::\n",
    ":::\n",
    "\n",
    "::: {.workflow-arrow }\n",
    "<span style=\"font-size: 3rem;\">→</span>\n",
    ":::\n",
    "\n",
    "::: {.workflow-step}\n",
    "::: {.step-number}\n",
    "4\n",
    ":::\n",
    "::: {.step-content}\n",
    "**Dashboard**\n",
    ":::\n",
    ":::\n",
    "\n",
    "::: {.workflow-arrow }\n",
    "<span style=\"font-size: 3rem\">→</span>\n",
    ":::\n",
    "\n",
    "::: {.workflow-step}\n",
    "::: {.step-number}\n",
    "5\n",
    ":::\n",
    "::: {.step-content}\n",
    "**Deployment**\n",
    ":::\n",
    ":::\n",
    "\n",
    ":::"
   ]
  },
  {
   "cell_type": "markdown",
   "id": "6dcb88a1",
   "metadata": {},
   "source": [
    "## Open Data"
   ]
  },
  {
   "cell_type": "markdown",
   "id": "bdf4494f",
   "metadata": {},
   "source": [
    "![](./images/bundestag_open_data.png)"
   ]
  },
  {
   "cell_type": "markdown",
   "id": "5aa33880",
   "metadata": {},
   "source": [
    "## XML"
   ]
  },
  {
   "cell_type": "markdown",
   "id": "0dabde79",
   "metadata": {},
   "source": [
    "![](./images/merz_xml.png)"
   ]
  },
  {
   "cell_type": "markdown",
   "id": "c666a5db",
   "metadata": {},
   "source": [
    "# EDA"
   ]
  },
  {
   "cell_type": "markdown",
   "id": "a36a3403",
   "metadata": {},
   "source": [
    "## Workflow\n",
    "\n",
    "::: {.workflow-container}\n",
    "\n",
    "::: {.workflow-step}\n",
    "::: {.step-number}\n",
    "1\n",
    ":::\n",
    "::: {.step-content}\n",
    "**Datenrecherche**\n",
    ":::\n",
    ":::\n",
    "\n",
    "\n",
    "::: {.workflow-arrow }\n",
    "<span style=\"font-size: 3rem;\">→</span>\n",
    ":::\n",
    "\n",
    "::: {.workflow-step .highlight}\n",
    "::: {.step-number}\n",
    "2\n",
    ":::\n",
    "::: {.step-content}\n",
    "**EDA**\n",
    ":::\n",
    ":::\n",
    "\n",
    "::: {.workflow-arrow }\n",
    "<span style=\"font-size: 3rem;\">→</span>\n",
    ":::\n",
    "\n",
    "::: {.workflow-step}\n",
    "::: {.step-number}\n",
    "3\n",
    ":::\n",
    "::: {.step-content}\n",
    "**Datenbereinigung**\n",
    ":::\n",
    ":::\n",
    "\n",
    "::: {.workflow-arrow }\n",
    "<span style=\"font-size: 3rem;\">→</span>\n",
    ":::\n",
    "\n",
    "::: {.workflow-step}\n",
    "::: {.step-number}\n",
    "4\n",
    ":::\n",
    "::: {.step-content}\n",
    "**Dashboard**\n",
    ":::\n",
    ":::\n",
    "\n",
    "::: {.workflow-arrow }\n",
    "<span style=\"font-size: 3rem\">→</span>\n",
    ":::\n",
    "\n",
    "::: {.workflow-step}\n",
    "::: {.step-number}\n",
    "5\n",
    ":::\n",
    "::: {.step-content}\n",
    "**Deployment**\n",
    ":::\n",
    ":::\n",
    "\n",
    ":::"
   ]
  },
  {
   "cell_type": "markdown",
   "id": "a481db68",
   "metadata": {},
   "source": [
    "## Data Frame"
   ]
  },
  {
   "cell_type": "markdown",
   "id": "61ededda",
   "metadata": {},
   "source": [
    "![](./images/eda_df_01.png)"
   ]
  },
  {
   "cell_type": "markdown",
   "id": "4f31b44d",
   "metadata": {},
   "source": [
    "## Data Frame"
   ]
  },
  {
   "cell_type": "markdown",
   "id": "f18d260f",
   "metadata": {},
   "source": [
    "![](./images/eda_df_02.png)"
   ]
  },
  {
   "cell_type": "markdown",
   "id": "11d7418f",
   "metadata": {},
   "source": [
    "## Parteien\n",
    "![](./images/eda_parteien.png)"
   ]
  },
  {
   "cell_type": "markdown",
   "id": "840c1c7c",
   "metadata": {},
   "source": [
    "## Religion\n",
    "![](./images/eda_religion.png)"
   ]
  },
  {
   "cell_type": "markdown",
   "id": "d6d59b72",
   "metadata": {},
   "source": [
    "## Familienstand\n",
    "![](./images/eda_familienstand.png)"
   ]
  },
  {
   "cell_type": "markdown",
   "id": "a8d202e9",
   "metadata": {},
   "source": []
  },
  {
   "cell_type": "markdown",
   "id": "a256c265",
   "metadata": {},
   "source": []
  },
  {
   "cell_type": "markdown",
   "id": "e6783be7",
   "metadata": {},
   "source": [
    "## Berufe\n",
    "![](./images/eda_berufe.png)"
   ]
  },
  {
   "cell_type": "markdown",
   "id": "78019389",
   "metadata": {},
   "source": [
    "## Anzahl abgeordneter"
   ]
  },
  {
   "cell_type": "markdown",
   "id": "29b3fe67",
   "metadata": {},
   "source": [
    "![](./images/eda_anzahl_abgeordneter.png)"
   ]
  },
  {
   "cell_type": "markdown",
   "id": "011e3734",
   "metadata": {},
   "source": [
    "# Datenbereinigung"
   ]
  },
  {
   "cell_type": "markdown",
   "id": "5ff0881f",
   "metadata": {},
   "source": [
    "## Workflow\n",
    "\n",
    "::: {.workflow-container}\n",
    "\n",
    "::: {.workflow-step}\n",
    "::: {.step-number}\n",
    "1\n",
    ":::\n",
    "::: {.step-content}\n",
    "**Datenrecherche**\n",
    ":::\n",
    ":::\n",
    "\n",
    "\n",
    "::: {.workflow-arrow }\n",
    "<span style=\"font-size: 3rem;\">→</span>\n",
    ":::\n",
    "\n",
    "::: {.workflow-step}\n",
    "::: {.step-number}\n",
    "2\n",
    ":::\n",
    "::: {.step-content}\n",
    "**EDA**\n",
    ":::\n",
    ":::\n",
    "\n",
    "::: {.workflow-arrow }\n",
    "<span style=\"font-size: 3rem;\">→</span>\n",
    ":::\n",
    "\n",
    "::: {.workflow-step .highlight}\n",
    "::: {.step-number}\n",
    "3\n",
    ":::\n",
    "::: {.step-content }\n",
    "**Datenbereinigung**\n",
    ":::\n",
    ":::\n",
    "\n",
    "::: {.workflow-arrow }\n",
    "<span style=\"font-size: 3rem;\">→</span>\n",
    ":::\n",
    "\n",
    "::: {.workflow-step}\n",
    "::: {.step-number}\n",
    "4\n",
    ":::\n",
    "::: {.step-content}\n",
    "**Dashboard**\n",
    ":::\n",
    ":::\n",
    "\n",
    "::: {.workflow-arrow }\n",
    "<span style=\"font-size: 3rem\">→</span>\n",
    ":::\n",
    "\n",
    "::: {.workflow-step}\n",
    "::: {.step-number}\n",
    "5\n",
    ":::\n",
    "::: {.step-content}\n",
    "**Deployment**\n",
    ":::\n",
    ":::\n",
    "\n",
    ":::"
   ]
  },
  {
   "cell_type": "markdown",
   "id": "055dd56c",
   "metadata": {},
   "source": [
    "## Parteien\n",
    "![](./images/preproc_parteien.png)"
   ]
  },
  {
   "cell_type": "markdown",
   "id": "4089b1f9",
   "metadata": {},
   "source": [
    "## Religionen\n",
    "![](./images/preproc_religionen.png)"
   ]
  },
  {
   "cell_type": "markdown",
   "id": "92d36423",
   "metadata": {},
   "source": [
    "## Berufe\n",
    "![](./images/preproc_berufe_basic.png)"
   ]
  },
  {
   "cell_type": "markdown",
   "id": "3cc03960",
   "metadata": {},
   "source": [
    "## Berufe\n",
    "![](./images/preproc_berufe_gender.png)"
   ]
  },
  {
   "cell_type": "markdown",
   "id": "7bfeb7fe",
   "metadata": {},
   "source": [
    "## Berufe\n",
    "![](./images/preproc_berufe_mapping.png)"
   ]
  },
  {
   "cell_type": "markdown",
   "id": "8875f025",
   "metadata": {},
   "source": [
    "# Datenvisualisierung"
   ]
  },
  {
   "cell_type": "markdown",
   "id": "e481fc32",
   "metadata": {},
   "source": [
    "## Workflow\n",
    "\n",
    "::: {.workflow-container}\n",
    "\n",
    "::: {.workflow-step}\n",
    "::: {.step-number}\n",
    "1\n",
    ":::\n",
    "::: {.step-content}\n",
    "**Datenrecherche**\n",
    ":::\n",
    ":::\n",
    "\n",
    "\n",
    "::: {.workflow-arrow }\n",
    "<span style=\"font-size: 3rem;\">→</span>\n",
    ":::\n",
    "\n",
    "::: {.workflow-step}\n",
    "::: {.step-number}\n",
    "2\n",
    ":::\n",
    "::: {.step-content}\n",
    "**EDA**\n",
    ":::\n",
    ":::\n",
    "\n",
    "::: {.workflow-arrow }\n",
    "<span style=\"font-size: 3rem;\">→</span>\n",
    ":::\n",
    "\n",
    "::: {.workflow-step}\n",
    "::: {.step-number}\n",
    "3\n",
    ":::\n",
    "::: {.step-content }\n",
    "**Datenbereinigung**\n",
    ":::\n",
    ":::\n",
    "\n",
    "::: {.workflow-arrow }\n",
    "<span style=\"font-size: 3rem;\">→</span>\n",
    ":::\n",
    "\n",
    "::: {.workflow-step .highlight}\n",
    "::: {.step-number}\n",
    "4\n",
    ":::\n",
    "::: {.step-content}\n",
    "**Dashboard**\n",
    ":::\n",
    ":::\n",
    "\n",
    "::: {.workflow-arrow }\n",
    "<span style=\"font-size: 3rem\">→</span>\n",
    ":::\n",
    "\n",
    "::: {.workflow-step}\n",
    "::: {.step-number}\n",
    "5\n",
    ":::\n",
    "::: {.step-content}\n",
    "**Deployment**\n",
    ":::\n",
    ":::\n",
    "\n",
    ":::"
   ]
  },
  {
   "cell_type": "markdown",
   "id": "596f24a4",
   "metadata": {},
   "source": [
    "## Berufe\n",
    "![](./images/dashboard.png)"
   ]
  },
  {
   "cell_type": "markdown",
   "id": "c86a2037",
   "metadata": {},
   "source": [
    "# Ergebnisse"
   ]
  },
  {
   "cell_type": "markdown",
   "id": "5492332a",
   "metadata": {},
   "source": [
    "# Deployment"
   ]
  },
  {
   "cell_type": "markdown",
   "id": "ba8a25a2",
   "metadata": {},
   "source": [
    "## Workflow\n",
    "\n",
    "::: {.workflow-container}\n",
    "\n",
    "::: {.workflow-step}\n",
    "::: {.step-number}\n",
    "1\n",
    ":::\n",
    "::: {.step-content}\n",
    "**Datenrecherche**\n",
    ":::\n",
    ":::\n",
    "\n",
    "\n",
    "::: {.workflow-arrow }\n",
    "<span style=\"font-size: 3rem;\">→</span>\n",
    ":::\n",
    "\n",
    "::: {.workflow-step}\n",
    "::: {.step-number}\n",
    "2\n",
    ":::\n",
    "::: {.step-content}\n",
    "**EDA**\n",
    ":::\n",
    ":::\n",
    "\n",
    "::: {.workflow-arrow }\n",
    "<span style=\"font-size: 3rem;\">→</span>\n",
    ":::\n",
    "\n",
    "::: {.workflow-step}\n",
    "::: {.step-number}\n",
    "3\n",
    ":::\n",
    "::: {.step-content }\n",
    "**Datenbereinigung**\n",
    ":::\n",
    ":::\n",
    "\n",
    "::: {.workflow-arrow }\n",
    "<span style=\"font-size: 3rem;\">→</span>\n",
    ":::\n",
    "\n",
    "::: {.workflow-step}\n",
    "::: {.step-number}\n",
    "4\n",
    ":::\n",
    "::: {.step-content}\n",
    "**Dashboard**\n",
    ":::\n",
    ":::\n",
    "\n",
    "::: {.workflow-arrow }\n",
    "<span style=\"font-size: 3rem\">→</span>\n",
    ":::\n",
    "\n",
    "::: {.workflow-step  .highlight}\n",
    "::: {.step-number}\n",
    "5\n",
    ":::\n",
    "::: {.step-content}\n",
    "**Deployment**\n",
    ":::\n",
    ":::\n",
    "\n",
    ":::"
   ]
  },
  {
   "cell_type": "markdown",
   "id": "3b7f473e",
   "metadata": {},
   "source": [
    "## Docker\n",
    "![](./images/deployment_dockerfile.png)"
   ]
  },
  {
   "cell_type": "markdown",
   "id": "a77b4fad",
   "metadata": {},
   "source": [
    "## Docker\n",
    "![](./images/deployment_docker_build.png)"
   ]
  },
  {
   "cell_type": "markdown",
   "id": "b9c60b61",
   "metadata": {},
   "source": [
    "## Docker\n",
    "![](./images/deployment_docker_push.png)"
   ]
  },
  {
   "cell_type": "markdown",
   "id": "ea07854d",
   "metadata": {},
   "source": [
    "## Docker\n",
    "![](./images/deployment_google_cloud.png)"
   ]
  },
  {
   "cell_type": "markdown",
   "id": "ccbdfa43",
   "metadata": {},
   "source": [
    "# Methodik 2025\n",
    "LLMs ftw"
   ]
  },
  {
   "cell_type": "markdown",
   "id": "62b1e3d7",
   "metadata": {},
   "source": [
    "# Fazit\n",
    "- sapere aude!\n",
    "- macht eure eigenen Datenprojekte!\n",
    "- sendet eure Ideen gerne an aretzlena@gmail.com => die beste Idee poste ich auf linkedin und versuche guten Input zu geben!"
   ]
  },
  {
   "cell_type": "markdown",
   "id": "ed106b2b",
   "metadata": {},
   "source": []
  },
  {
   "cell_type": "markdown",
   "id": "6db974e0",
   "metadata": {},
   "source": []
  }
 ],
 "metadata": {
  "kernelspec": {
   "display_name": "bundestagmining",
   "language": "python",
   "name": "bundestagmining"
  },
  "language_info": {
   "codemirror_mode": {
    "name": "ipython",
    "version": 3
   },
   "file_extension": ".py",
   "mimetype": "text/x-python",
   "name": "python",
   "nbconvert_exporter": "python",
   "pygments_lexer": "ipython3",
   "version": "3.11.12"
  }
 },
 "nbformat": 4,
 "nbformat_minor": 5
}
