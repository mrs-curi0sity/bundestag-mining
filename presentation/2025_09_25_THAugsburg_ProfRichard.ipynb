{
 "cells": [
  {
   "cell_type": "code",
   "execution_count": 7,
   "id": "58478850",
   "metadata": {},
   "outputs": [],
   "source": [
    "import sys\n",
    "#print(sys.executable)  # Zeigt dir den Pfad zum Python-Interpreter\n",
    "import matplotlib.pyplot as plt\n",
    "import matplotlib.image as mpimg\n",
    "import matplotlib.patches as patches\n",
    "import plotly.graph_objects as go\n",
    "import numpy as np\n",
    "import base64\n",
    "from PIL import Image\n",
    "import io\n",
    "from IPython.display import HTML"
   ]
  },
  {
   "cell_type": "code",
   "execution_count": 8,
   "id": "65ae7e13",
   "metadata": {},
   "outputs": [],
   "source": [
    "def img_to_base64(img_path):\n",
    "    with open(img_path, 'rb') as f:\n",
    "        encoded = base64.b64encode(f.read()).decode('utf-8')\n",
    "    return f'data:image/png;base64,{encoded}'"
   ]
  },
  {
   "cell_type": "markdown",
   "id": "6d1db9a1-5bc4-4806-9e9d-70971b37af82",
   "metadata": {},
   "source": [
    "---\n",
    "title: \"Bundestagsmining - Wenn Volksvertreter nicht mehr aus dem Volk kommen\"\n",
    "format: \n",
    "  revealjs:\n",
    "    css: custom.css  # Nur einmal hier!\n",
    "    footer: \"Lena Aretz | yourcupofdata | 26.09.2025\"\n",
    "    slide-number: true\n",
    "    logo: \"./images/yourcuopfdata_logo.png\" \n",
    "    include-in-header:\n",
    "      text: |\n",
    "        <style>\n",
    "        .reveal .slide-logo {\n",
    "          max-height: 70px !important;\n",
    "          right: 12px !important;\n",
    "          bottom: 12px !important;\n",
    "        }\n",
    "        </style>\n",
    "    toc-title: \"Inhalt\"\n",
    "author: \"Lena Aretz (yourcupofdata.com <br> aretzlena@gmail.com)\"\n",
    "date: today\n",
    "execute:\n",
    "    echo: false\n",
    "    toc: true\n",
    "---"
   ]
  },
  {
   "cell_type": "markdown",
   "id": "6effb2d1",
   "metadata": {},
   "source": []
  },
  {
   "cell_type": "markdown",
   "id": "a59077e7-99d4-4ac5-a78d-17a9b86e0ef0",
   "metadata": {},
   "source": [
    "# Inhaltsverzeichnis\n",
    "\n",
    "1. Motivation\n",
    "2. Daten\n",
    "3. EDA\n",
    "4. Datenbereinigung\n",
    "5. Datenvisualisierung und Ergebnisse\n",
    "6. Deployment"
   ]
  },
  {
   "cell_type": "markdown",
   "id": "a4431177",
   "metadata": {},
   "source": [
    "## Wer bin ich?\n",
    "![](./images/lena_profil_01.png){height=\"80%\"}"
   ]
  },
  {
   "cell_type": "markdown",
   "id": "4d597ede",
   "metadata": {},
   "source": [
    "![](attachment:lena_profil_02.png)"
   ]
  },
  {
   "cell_type": "markdown",
   "id": "718df0c4-a2de-4b7c-9e6d-0031acde7196",
   "metadata": {},
   "source": [
    "# Motivation\n"
   ]
  },
  {
   "cell_type": "markdown",
   "id": "a59f4daf",
   "metadata": {},
   "source": [
    "## Friedrich Merz\n",
    "\n",
    "::: {.image-container}\n",
    "![](./images/portrait_merz.jpg){.portrait-image}\n",
    "\n",
    "::: {.fragment .overlay-label}\n",
    "**Rechtsanwalt**\n",
    ":::\n",
    ":::"
   ]
  },
  {
   "cell_type": "markdown",
   "id": "6e9ad2d6",
   "metadata": {},
   "source": [
    "## Olaf Scholz\n",
    "::: {.image-container}\n",
    "![](./images/portrait_scholz.jpg){.portrait-image}\n",
    "\n",
    "::: {.fragment .overlay-label}\n",
    "**Rechtsanwalt**\n",
    ":::\n",
    ":::"
   ]
  },
  {
   "cell_type": "markdown",
   "id": "f2e9498a",
   "metadata": {},
   "source": [
    "## Boris Pistorius\n",
    "\n",
    "::: {.image-container}\n",
    "![](./images/portrait_pistorius.jpg){.portrait-image}\n",
    "\n",
    "::: {.fragment .overlay-label}\n",
    "**Rechtsanwalt**\n",
    ":::\n",
    ":::"
   ]
  },
  {
   "cell_type": "markdown",
   "id": "016854d5",
   "metadata": {},
   "source": []
  },
  {
   "cell_type": "markdown",
   "id": "c0efcfc5",
   "metadata": {},
   "source": [
    "# Ähnliche Projekte\n",
    "\n",
    "---\n",
    "\n",
    ":::: {.columns}\n",
    "\n",
    "::: {.column width=\"50%\"}\n",
    "\n",
    "![](./images/tagesschau_mining_01.png){width=\"90%\"}\n",
    "\n",
    "![](./images/tagesschau_mining_02.png){width=\"90%\"}\n",
    "\n",
    "**David Englert** - *Software Engineer*\n",
    ":::\n",
    "\n",
    "::: {.column width=\"50%\"}\n",
    "\n",
    "![](./images/spiegel_mining.png){width=\"80%\"}\n",
    "\n",
    "**David Kriesel** - *Data Scientist*\n",
    "\n",
    "\n",
    "![](./images/bundestagsmine.png){width=\"80%\"}\n",
    "\n",
    "**Kevin Bönisch** - *Software Developer*\n",
    ":::\n",
    "\n",
    "::::"
   ]
  },
  {
   "cell_type": "markdown",
   "id": "d3041b4a",
   "metadata": {},
   "source": [
    "# Workflow\n",
    "\n",
    "::: {.workflow-container}\n",
    "\n",
    "::: {.workflow-step .fragment}\n",
    "::: {.step-number}\n",
    "1\n",
    ":::\n",
    "::: {.step-content}\n",
    "**Datenrecherche**\n",
    ":::\n",
    ":::\n",
    "\n",
    "\n",
    "::: {.workflow-arrow .fragment}\n",
    "<span style=\"font-size: 3rem;\">→</span>\n",
    ":::\n",
    "\n",
    "::: {.workflow-step .fragment}\n",
    "::: {.step-number}\n",
    "2\n",
    ":::\n",
    "::: {.step-content}\n",
    "**EDA**\n",
    ":::\n",
    ":::\n",
    "\n",
    "::: {.workflow-arrow .fragment}\n",
    "<span style=\"font-size: 3rem;\">→</span>\n",
    ":::\n",
    "\n",
    "::: {.workflow-step .fragment}\n",
    "::: {.step-number}\n",
    "3\n",
    ":::\n",
    "::: {.step-content}\n",
    "**Datenbereinigung**\n",
    ":::\n",
    ":::\n",
    "\n",
    "::: {.workflow-arrow .fragment}\n",
    "<span style=\"font-size: 3rem;\">→</span>\n",
    ":::\n",
    "\n",
    "::: {.workflow-step .fragment}\n",
    "::: {.step-number}\n",
    "4\n",
    ":::\n",
    "::: {.step-content}\n",
    "**Auswertung / Modell**\n",
    ":::\n",
    ":::\n",
    "\n",
    "::: {.workflow-arrow .fragment}\n",
    "<span style=\"font-size: 3rem\">→</span>\n",
    ":::\n",
    "\n",
    "::: {.workflow-step .fragment}\n",
    "::: {.step-number}\n",
    "5\n",
    ":::\n",
    "::: {.step-content}\n",
    "**Deployment**\n",
    ":::\n",
    ":::\n",
    "\n",
    ":::"
   ]
  },
  {
   "cell_type": "markdown",
   "id": "c466e726",
   "metadata": {},
   "source": []
  },
  {
   "cell_type": "markdown",
   "id": "c7b2853d",
   "metadata": {},
   "source": [
    "# Datenrecherche"
   ]
  },
  {
   "cell_type": "markdown",
   "id": "661bf8ed",
   "metadata": {},
   "source": [
    "## Workflow\n",
    "\n",
    "::: {.workflow-container}\n",
    "\n",
    "::: {.workflow-step .highlight}\n",
    "::: {.step-number}\n",
    "1\n",
    ":::\n",
    "::: {.step-content}\n",
    "**Datenrecherche**\n",
    ":::\n",
    ":::\n",
    "\n",
    "\n",
    "::: {.workflow-arrow }\n",
    "<span style=\"font-size: 3rem;\">→</span>\n",
    ":::\n",
    "\n",
    "::: {.workflow-step}\n",
    "::: {.step-number}\n",
    "2\n",
    ":::\n",
    "::: {.step-content}\n",
    "**EDA**\n",
    ":::\n",
    ":::\n",
    "\n",
    "::: {.workflow-arrow }\n",
    "<span style=\"font-size: 3rem;\">→</span>\n",
    ":::\n",
    "\n",
    "::: {.workflow-step}\n",
    "::: {.step-number}\n",
    "3\n",
    ":::\n",
    "::: {.step-content}\n",
    "**Datenbereinigung**\n",
    ":::\n",
    ":::\n",
    "\n",
    "::: {.workflow-arrow }\n",
    "<span style=\"font-size: 3rem;\">→</span>\n",
    ":::\n",
    "\n",
    "::: {.workflow-step}\n",
    "::: {.step-number}\n",
    "4\n",
    ":::\n",
    "::: {.step-content}\n",
    "**Auwertung**\n",
    ":::\n",
    ":::\n",
    "\n",
    "::: {.workflow-arrow }\n",
    "<span style=\"font-size: 3rem\">→</span>\n",
    ":::\n",
    "\n",
    "::: {.workflow-step}\n",
    "::: {.step-number}\n",
    "5\n",
    ":::\n",
    "::: {.step-content}\n",
    "**Deployment**\n",
    ":::\n",
    ":::\n",
    "\n",
    ":::"
   ]
  },
  {
   "cell_type": "markdown",
   "id": "6dcb88a1",
   "metadata": {},
   "source": [
    "## Open Data"
   ]
  },
  {
   "cell_type": "markdown",
   "id": "bdf4494f",
   "metadata": {},
   "source": [
    "![](./images/bundestag_open_data.png)"
   ]
  },
  {
   "cell_type": "markdown",
   "id": "5aa33880",
   "metadata": {},
   "source": []
  },
  {
   "cell_type": "markdown",
   "id": "0dabde79",
   "metadata": {},
   "source": [
    "## XML\n",
    "![](./images/merz_xml_01.png)"
   ]
  },
  {
   "cell_type": "markdown",
   "id": "85d4bb5a",
   "metadata": {},
   "source": [
    "## XML\n",
    "![](./images/merz_xml_02.png)"
   ]
  },
  {
   "cell_type": "markdown",
   "id": "00e94b95",
   "metadata": {},
   "source": [
    "## Parse XML\n",
    "![](./images/parse_xml.png)"
   ]
  },
  {
   "cell_type": "markdown",
   "id": "c666a5db",
   "metadata": {},
   "source": [
    "# EDA"
   ]
  },
  {
   "cell_type": "markdown",
   "id": "a36a3403",
   "metadata": {},
   "source": [
    "## Workflow\n",
    "\n",
    "::: {.workflow-container}\n",
    "\n",
    "::: {.workflow-step}\n",
    "::: {.step-number}\n",
    "1\n",
    ":::\n",
    "::: {.step-content}\n",
    "**Datenrecherche**\n",
    ":::\n",
    ":::\n",
    "\n",
    "\n",
    "::: {.workflow-arrow }\n",
    "<span style=\"font-size: 3rem;\">→</span>\n",
    ":::\n",
    "\n",
    "::: {.workflow-step .highlight}\n",
    "::: {.step-number}\n",
    "2\n",
    ":::\n",
    "::: {.step-content}\n",
    "**EDA**\n",
    ":::\n",
    ":::\n",
    "\n",
    "::: {.workflow-arrow }\n",
    "<span style=\"font-size: 3rem;\">→</span>\n",
    ":::\n",
    "\n",
    "::: {.workflow-step}\n",
    "::: {.step-number}\n",
    "3\n",
    ":::\n",
    "::: {.step-content}\n",
    "**Datenbereinigung**\n",
    ":::\n",
    ":::\n",
    "\n",
    "::: {.workflow-arrow }\n",
    "<span style=\"font-size: 3rem;\">→</span>\n",
    ":::\n",
    "\n",
    "::: {.workflow-step}\n",
    "::: {.step-number}\n",
    "4\n",
    ":::\n",
    "::: {.step-content}\n",
    "**Auswertung / Modell**\n",
    ":::\n",
    ":::\n",
    "\n",
    "::: {.workflow-arrow }\n",
    "<span style=\"font-size: 3rem\">→</span>\n",
    ":::\n",
    "\n",
    "::: {.workflow-step}\n",
    "::: {.step-number}\n",
    "5\n",
    ":::\n",
    "::: {.step-content}\n",
    "**Deployment**\n",
    ":::\n",
    ":::\n",
    "\n",
    ":::"
   ]
  },
  {
   "cell_type": "markdown",
   "id": "a481db68",
   "metadata": {},
   "source": [
    "## Data Frame"
   ]
  },
  {
   "cell_type": "markdown",
   "id": "61ededda",
   "metadata": {},
   "source": [
    "![](./images/eda_df_01.png)"
   ]
  },
  {
   "cell_type": "markdown",
   "id": "4f31b44d",
   "metadata": {},
   "source": [
    "## Data Frame\n",
    "![](./images/eda_df_02.png)\n",
    "\n",
    "---\n",
    "\n",
    "## Missing Values\n",
    "![](./images/missing_values.png)\n",
    "\n",
    "---\n",
    "\n",
    "![](./images/eda_geschlecht.png)"
   ]
  },
  {
   "cell_type": "markdown",
   "id": "a30358f0",
   "metadata": {},
   "source": [
    "\n",
    "## Anzahl abgeordneter\n",
    "![](./images/wrapper_barplot.png)"
   ]
  },
  {
   "cell_type": "markdown",
   "id": "3d3794c4",
   "metadata": {},
   "source": [
    "## Anzahl abgeordneter\n",
    "![](./images/eda_anzahl_abgeordneter.png)"
   ]
  },
  {
   "cell_type": "markdown",
   "id": "2bddf4fb",
   "metadata": {},
   "source": [
    "## Parteien\n",
    "\n",
    "::: {.content-container}\n",
    "![](./images/eda_parteien.png)\n",
    "\n",
    "<div class=\"meme-corner\">\n",
    "![](./images/meme_homer_01.png){width=\"400px\"}\n",
    "</div>\n",
    ":::"
   ]
  },
  {
   "cell_type": "markdown",
   "id": "e23ba293",
   "metadata": {},
   "source": [
    "## Religion\n",
    "\n",
    "\n",
    "::: {.content-container}\n",
    "![](./images/eda_religion.png)\n",
    "\n",
    "<div class=\"meme-corner\">\n",
    "![](./images/meme_homer_02.png){width=\"400px\"}\n",
    "</div>\n",
    ":::"
   ]
  },
  {
   "cell_type": "markdown",
   "id": "736890c9",
   "metadata": {},
   "source": [
    "## Familienstand\n",
    "\n",
    "::: {.image-container}\n",
    "![](./images/eda_familienstand_02.png)\n",
    "\n",
    "::: {.fragment .info-box}\n",
    "**61 verschiedene Werte!**\n",
    ":::\n",
    ":::\n",
    "\n",
    "<div class=\"meme-corner\">\n",
    "![](./images/meme_homer_03.png){width=\"400px\"}\n",
    "</div>\n",
    ":::\n",
    "\n"
   ]
  },
  {
   "cell_type": "markdown",
   "id": "e6783be7",
   "metadata": {},
   "source": [
    "## Berufe\n",
    "\n",
    "::: {.image-container}\n",
    "![](./images/eda_berufe_long.png)\n",
    "\n",
    "::: {.fragment .info-box}\n",
    "**2405 verschiedene Werte!**\n",
    ":::\n",
    ":::\n",
    "\n",
    "<div class=\"meme-corner\">\n",
    "![](./images/meme_homer_04.png){width=\"400\"}\n",
    "</div>"
   ]
  },
  {
   "cell_type": "markdown",
   "id": "29b3fe67",
   "metadata": {},
   "source": []
  },
  {
   "cell_type": "markdown",
   "id": "011e3734",
   "metadata": {},
   "source": [
    "# Datenbereinigung"
   ]
  },
  {
   "cell_type": "markdown",
   "id": "5ff0881f",
   "metadata": {},
   "source": [
    "## Workflow\n",
    "\n",
    "::: {.workflow-container}\n",
    "\n",
    "::: {.workflow-step}\n",
    "::: {.step-number}\n",
    "1\n",
    ":::\n",
    "::: {.step-content}\n",
    "**Datenrecherche**\n",
    ":::\n",
    ":::\n",
    "\n",
    "\n",
    "::: {.workflow-arrow }\n",
    "<span style=\"font-size: 3rem;\">→</span>\n",
    ":::\n",
    "\n",
    "::: {.workflow-step}\n",
    "::: {.step-number}\n",
    "2\n",
    ":::\n",
    "::: {.step-content}\n",
    "**EDA**\n",
    ":::\n",
    ":::\n",
    "\n",
    "::: {.workflow-arrow }\n",
    "<span style=\"font-size: 3rem;\">→</span>\n",
    ":::\n",
    "\n",
    "::: {.workflow-step .highlight}\n",
    "::: {.step-number}\n",
    "3\n",
    ":::\n",
    "::: {.step-content }\n",
    "**Datenbereinigung**\n",
    ":::\n",
    ":::\n",
    "\n",
    "::: {.workflow-arrow }\n",
    "<span style=\"font-size: 3rem;\">→</span>\n",
    ":::\n",
    "\n",
    "::: {.workflow-step}\n",
    "::: {.step-number}\n",
    "4\n",
    ":::\n",
    "::: {.step-content}\n",
    "**Auswertung / Modell**\n",
    ":::\n",
    ":::\n",
    "\n",
    "::: {.workflow-arrow }\n",
    "<span style=\"font-size: 3rem\">→</span>\n",
    ":::\n",
    "\n",
    "::: {.workflow-step}\n",
    "::: {.step-number}\n",
    "5\n",
    ":::\n",
    "::: {.step-content}\n",
    "**Deployment**\n",
    ":::\n",
    ":::\n",
    "\n",
    ":::"
   ]
  },
  {
   "cell_type": "markdown",
   "id": "055dd56c",
   "metadata": {},
   "source": [
    "## Parteien\n",
    "![](./images/preproc_parteien.png)"
   ]
  },
  {
   "cell_type": "markdown",
   "id": "4089b1f9",
   "metadata": {},
   "source": [
    "## Religionen\n",
    "![](./images/preproc_religionen_01.png)"
   ]
  },
  {
   "cell_type": "markdown",
   "id": "4cb54b9e",
   "metadata": {},
   "source": [
    "## Religionen\n",
    "![](./images/preproc_religionen_02.png)"
   ]
  },
  {
   "cell_type": "markdown",
   "id": "92d36423",
   "metadata": {},
   "source": [
    "## Berufe\n",
    "![](./images/preproc_berufe_basic.png)"
   ]
  },
  {
   "cell_type": "markdown",
   "id": "3cc03960",
   "metadata": {},
   "source": [
    "## Berufe\n",
    "![](./images/preproc_berufe_gender.png)"
   ]
  },
  {
   "cell_type": "markdown",
   "id": "7bfeb7fe",
   "metadata": {},
   "source": [
    "## Berufe\n",
    "![](./images/preproc_berufe_mapping.png)"
   ]
  },
  {
   "cell_type": "markdown",
   "id": "8875f025",
   "metadata": {},
   "source": [
    "# Datenvisualisierung"
   ]
  },
  {
   "cell_type": "markdown",
   "id": "e481fc32",
   "metadata": {},
   "source": [
    "## Workflow\n",
    "\n",
    "::: {.workflow-container}\n",
    "\n",
    "::: {.workflow-step}\n",
    "::: {.step-number}\n",
    "1\n",
    ":::\n",
    "::: {.step-content}\n",
    "**Datenrecherche**\n",
    ":::\n",
    ":::\n",
    "\n",
    "\n",
    "::: {.workflow-arrow }\n",
    "<span style=\"font-size: 3rem;\">→</span>\n",
    ":::\n",
    "\n",
    "::: {.workflow-step}\n",
    "::: {.step-number}\n",
    "2\n",
    ":::\n",
    "::: {.step-content}\n",
    "**EDA**\n",
    ":::\n",
    ":::\n",
    "\n",
    "::: {.workflow-arrow }\n",
    "<span style=\"font-size: 3rem;\">→</span>\n",
    ":::\n",
    "\n",
    "::: {.workflow-step}\n",
    "::: {.step-number}\n",
    "3\n",
    ":::\n",
    "::: {.step-content }\n",
    "**Datenbereinigung**\n",
    ":::\n",
    ":::\n",
    "\n",
    "::: {.workflow-arrow }\n",
    "<span style=\"font-size: 3rem;\">→</span>\n",
    ":::\n",
    "\n",
    "::: {.workflow-step .highlight}\n",
    "::: {.step-number}\n",
    "4\n",
    ":::\n",
    "::: {.step-content}\n",
    "**Dashboard**\n",
    ":::\n",
    ":::\n",
    "\n",
    "::: {.workflow-arrow }\n",
    "<span style=\"font-size: 3rem\">→</span>\n",
    ":::\n",
    "\n",
    "::: {.workflow-step}\n",
    "::: {.step-number}\n",
    "5\n",
    ":::\n",
    "::: {.step-content}\n",
    "**Auswertung / Modell**\n",
    ":::\n",
    ":::\n",
    "\n",
    ":::"
   ]
  },
  {
   "cell_type": "markdown",
   "id": "92acdd84",
   "metadata": {},
   "source": [
    "## Tools\n",
    "![](./images/visualisierung_tools_01.png)"
   ]
  },
  {
   "cell_type": "markdown",
   "id": "01032a90",
   "metadata": {},
   "source": [
    "## Tools\n",
    "![](./images/visualisierung_tools_02.png)"
   ]
  },
  {
   "cell_type": "markdown",
   "id": "596f24a4",
   "metadata": {},
   "source": [
    "## Dashboard\n",
    "![](./images/bundestagsmining.png)"
   ]
  },
  {
   "cell_type": "markdown",
   "id": "c86a2037",
   "metadata": {},
   "source": [
    "# Ergebnisse"
   ]
  },
  {
   "cell_type": "markdown",
   "id": "c500ec45",
   "metadata": {},
   "source": [
    "## gender\n",
    "![](./images/gender_01.png)"
   ]
  },
  {
   "cell_type": "markdown",
   "id": "c2fc8509",
   "metadata": {},
   "source": [
    "## gender\n",
    "![](./images/gender_02.png)"
   ]
  },
  {
   "cell_type": "markdown",
   "id": "23a55a16",
   "metadata": {},
   "source": [
    "## gender\n",
    "![](./images/gender_03.png)"
   ]
  },
  {
   "cell_type": "markdown",
   "id": "21ab99fa",
   "metadata": {},
   "source": [
    "## Verweildauer im Parlament\n",
    "![](./images/klebefaktor_01.png)"
   ]
  },
  {
   "cell_type": "markdown",
   "id": "f44cacf2",
   "metadata": {},
   "source": [
    "## Klebefaktor\n",
    "![](./images/klebefaktor_02.png)"
   ]
  },
  {
   "cell_type": "markdown",
   "id": "28d4b43e",
   "metadata": {},
   "source": [
    "## Schäuble-Faktor\n",
    "![](./images/klebefaktor_03.png)"
   ]
  },
  {
   "cell_type": "markdown",
   "id": "3f51db60",
   "metadata": {},
   "source": [
    "## Schäuble-Faktor\n",
    "![](./images/klebefaktor_04.png)"
   ]
  },
  {
   "cell_type": "markdown",
   "id": "54c9d43b",
   "metadata": {},
   "source": [
    "## Juristen\n",
    "![](./images/beruf_jurist.png)"
   ]
  },
  {
   "cell_type": "markdown",
   "id": "fb1b23f6",
   "metadata": {},
   "source": [
    "## Medizinisches Personal\n",
    "![](./images/beruf_medizin.png)"
   ]
  },
  {
   "cell_type": "markdown",
   "id": "ceb76137",
   "metadata": {},
   "source": [
    "## ITler\n",
    "![](./images/beruf_it.png)"
   ]
  },
  {
   "cell_type": "markdown",
   "id": "5492332a",
   "metadata": {},
   "source": [
    "# Deployment"
   ]
  },
  {
   "cell_type": "markdown",
   "id": "ba8a25a2",
   "metadata": {},
   "source": [
    "## Workflow\n",
    "\n",
    "::: {.workflow-container}\n",
    "\n",
    "::: {.workflow-step}\n",
    "::: {.step-number}\n",
    "1\n",
    ":::\n",
    "::: {.step-content}\n",
    "**Datenrecherche**\n",
    ":::\n",
    ":::\n",
    "\n",
    "\n",
    "::: {.workflow-arrow }\n",
    "<span style=\"font-size: 3rem;\">→</span>\n",
    ":::\n",
    "\n",
    "::: {.workflow-step}\n",
    "::: {.step-number}\n",
    "2\n",
    ":::\n",
    "::: {.step-content}\n",
    "**EDA**\n",
    ":::\n",
    ":::\n",
    "\n",
    "::: {.workflow-arrow }\n",
    "<span style=\"font-size: 3rem;\">→</span>\n",
    ":::\n",
    "\n",
    "::: {.workflow-step}\n",
    "::: {.step-number}\n",
    "3\n",
    ":::\n",
    "::: {.step-content }\n",
    "**Datenbereinigung**\n",
    ":::\n",
    ":::\n",
    "\n",
    "::: {.workflow-arrow }\n",
    "<span style=\"font-size: 3rem;\">→</span>\n",
    ":::\n",
    "\n",
    "::: {.workflow-step}\n",
    "::: {.step-number}\n",
    "4\n",
    ":::\n",
    "::: {.step-content}\n",
    "**Auswertung / Modell**\n",
    ":::\n",
    ":::\n",
    "\n",
    "::: {.workflow-arrow }\n",
    "<span style=\"font-size: 3rem\">→</span>\n",
    ":::\n",
    "\n",
    "::: {.workflow-step  .highlight}\n",
    "::: {.step-number}\n",
    "5\n",
    ":::\n",
    "::: {.step-content}\n",
    "**Deployment**\n",
    ":::\n",
    ":::\n",
    "\n",
    ":::"
   ]
  },
  {
   "cell_type": "markdown",
   "id": "dfcd2f91",
   "metadata": {},
   "source": [
    "## Cloud\n",
    "![](./images/cloud.webp)"
   ]
  },
  {
   "cell_type": "markdown",
   "id": "3b7f473e",
   "metadata": {},
   "source": [
    "## Docker\n",
    "![](./images/deployment_dockerfile.png)"
   ]
  },
  {
   "cell_type": "markdown",
   "id": "a77b4fad",
   "metadata": {},
   "source": [
    "## Docker\n",
    "![](./images/deployment_docker_build.png)"
   ]
  },
  {
   "cell_type": "markdown",
   "id": "b9c60b61",
   "metadata": {},
   "source": [
    "## Docker\n",
    "![](./images/deployment_docker_push.png)"
   ]
  },
  {
   "cell_type": "markdown",
   "id": "ea07854d",
   "metadata": {},
   "source": [
    "## CLoud\n",
    "![](./images/deployment_google_cloud.png)"
   ]
  },
  {
   "cell_type": "markdown",
   "id": "b6f2eabb",
   "metadata": {},
   "source": [
    "# Workflow Extended\n",
    "![](./images/workflow_extended.png)"
   ]
  },
  {
   "cell_type": "markdown",
   "id": "c24018fb",
   "metadata": {},
   "source": [
    "# Projektaufwand\n",
    "![](./images/projektaufwand_01.png)"
   ]
  },
  {
   "cell_type": "markdown",
   "id": "e8526442",
   "metadata": {},
   "source": [
    "# Projektaufwand\n",
    "![](./images/projektaufwand_02.png)"
   ]
  },
  {
   "cell_type": "markdown",
   "id": "bb49992f",
   "metadata": {},
   "source": [
    "# Fazit\n",
    "![](./images/drake_no.png)"
   ]
  },
  {
   "cell_type": "markdown",
   "id": "b0d8b4fc",
   "metadata": {},
   "source": [
    "# Fazit\n",
    "![](./images/drake_yes.png)"
   ]
  },
  {
   "cell_type": "markdown",
   "id": "62b1e3d7",
   "metadata": {},
   "source": [
    "# Fazit\n",
    "\n",
    "---\n",
    "\n",
    "## **3 Dinge, die ihr wirklich braucht:**\n",
    "\n",
    "::: {.fragment}\n",
    "### 1. Schaut euch die Daten an\n",
    "- Ausführliche \"manuelle\" Datenexploration\n",
    "- Sauberes Preprocessing\n",
    ":::\n",
    "\n",
    "::: {.fragment}\n",
    "### 2. Lernt Python + Pandas \n",
    "- Setup: pandas + plotly / seaborn / matplotlib + Jupyter + git\n",
    ":::\n",
    "\n",
    "::: {.fragment}\n",
    "### 3. Macht es interaktiv\n",
    "- Lernt ein Web-App-Framework: Dash, Streamlit oder Gradio\n",
    ":::\n",
    "\n",
    "::: {.fragment}\n",
    "### ... und wenn ihr der King sein wollt\n",
    "- Lernt Deployment / Devops\n",
    ":::\n"
   ]
  },
  {
   "cell_type": "markdown",
   "id": "ed106b2b",
   "metadata": {},
   "source": []
  },
  {
   "cell_type": "markdown",
   "id": "6db974e0",
   "metadata": {},
   "source": []
  }
 ],
 "metadata": {
  "kernelspec": {
   "display_name": "bundestagmining",
   "language": "python",
   "name": "bundestagmining"
  },
  "language_info": {
   "codemirror_mode": {
    "name": "ipython",
    "version": 3
   },
   "file_extension": ".py",
   "mimetype": "text/x-python",
   "name": "python",
   "nbconvert_exporter": "python",
   "pygments_lexer": "ipython3",
   "version": "3.11.12"
  }
 },
 "nbformat": 4,
 "nbformat_minor": 5
}
