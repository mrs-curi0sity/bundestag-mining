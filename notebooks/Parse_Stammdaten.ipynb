{
 "cells": [
  {
   "cell_type": "markdown",
   "id": "ccc0ce95-6434-463f-b2a1-38d2154b7e51",
   "metadata": {},
   "source": [
    "### Quelle der Daten: \n",
    "https://www.bundestag.de/services/opendata\n",
    "\n",
    "### Erläuterungen\n",
    "WP steht für Wahlperiode"
   ]
  },
  {
   "cell_type": "code",
   "execution_count": 6,
   "id": "cc18a5b6-8009-4143-9f66-3c46e90a1b39",
   "metadata": {},
   "outputs": [],
   "source": [
    "import sys\n",
    "sys.path.append(\"../src\")"
   ]
  },
  {
   "cell_type": "code",
   "execution_count": 7,
   "id": "26e608bc-1a79-47d1-99e9-fc4e6495e7da",
   "metadata": {},
   "outputs": [],
   "source": [
    "import os\n",
    "import re\n",
    "from collections import defaultdict\n",
    "from datetime import datetime\n",
    "from pathlib import Path\n",
    "\n",
    "import matplotlib.pyplot as plt\n",
    "import numpy as np\n",
    "import pandas as pd\n",
    "import seaborn as sns\n",
    "\n",
    "from config import CURRENT_YEAR, MDB_XML_PATH, DF_MDB_PATH, DF_MDB_WP_PATH, DF_MDB_WP_STARTDATEN_PATH, PLOT_PATH, list_of_parteien, religion_mapping, family_status_mapping, klassifiziere_beruf\n",
    "from berufe_mapping import basic_cleaning_berufe\n",
    "from parse_data import get_mdb_data, get_mdb_wp_data"
   ]
  },
  {
   "cell_type": "code",
   "execution_count": 8,
   "id": "d99274f0-6db8-4ddf-a75d-48b954b4ac75",
   "metadata": {},
   "outputs": [],
   "source": [
    "sns.set_theme()"
   ]
  },
  {
   "cell_type": "markdown",
   "id": "8d597687-4d1e-4d44-bd4c-d03d98c9ed0b",
   "metadata": {},
   "source": [
    "# parse xml data into dataFrame / .csv fomat"
   ]
  },
  {
   "cell_type": "code",
   "execution_count": 9,
   "id": "678fb266-28a6-489e-85f2-b08d63c11ab8",
   "metadata": {},
   "outputs": [
    {
     "name": "stdout",
     "output_type": "stream",
     "text": [
      "(4089, 34)\n"
     ]
    },
    {
     "data": {
      "text/html": [
       "<div>\n",
       "<style scoped>\n",
       "    .dataframe tbody tr th:only-of-type {\n",
       "        vertical-align: middle;\n",
       "    }\n",
       "\n",
       "    .dataframe tbody tr th {\n",
       "        vertical-align: top;\n",
       "    }\n",
       "\n",
       "    .dataframe thead th {\n",
       "        text-align: right;\n",
       "    }\n",
       "</style>\n",
       "<table border=\"1\" class=\"dataframe\">\n",
       "  <thead>\n",
       "    <tr style=\"text-align: right;\">\n",
       "      <th></th>\n",
       "      <th>ID</th>\n",
       "      <th>NACHNAME</th>\n",
       "      <th>VORNAME</th>\n",
       "      <th>GEBURTSDATUM</th>\n",
       "      <th>GEBURTSORT</th>\n",
       "      <th>GEBURTSLAND</th>\n",
       "      <th>STERBEDATUM</th>\n",
       "      <th>GESCHLECHT</th>\n",
       "      <th>FAMILIENSTAND</th>\n",
       "      <th>RELIGION</th>\n",
       "      <th>...</th>\n",
       "      <th>2</th>\n",
       "      <th>12</th>\n",
       "      <th>13</th>\n",
       "      <th>14</th>\n",
       "      <th>15</th>\n",
       "      <th>16</th>\n",
       "      <th>1</th>\n",
       "      <th>17</th>\n",
       "      <th>18</th>\n",
       "      <th>19</th>\n",
       "    </tr>\n",
       "  </thead>\n",
       "  <tbody>\n",
       "    <tr>\n",
       "      <th>0</th>\n",
       "      <td>11000001</td>\n",
       "      <td>Abelein</td>\n",
       "      <td>Manfred</td>\n",
       "      <td>20.10.1930</td>\n",
       "      <td>Stuttgart</td>\n",
       "      <td>None</td>\n",
       "      <td>17.01.2008</td>\n",
       "      <td>männlich</td>\n",
       "      <td>keine Angaben</td>\n",
       "      <td>katholisch</td>\n",
       "      <td>...</td>\n",
       "      <td>NaN</td>\n",
       "      <td>NaN</td>\n",
       "      <td>NaN</td>\n",
       "      <td>NaN</td>\n",
       "      <td>NaN</td>\n",
       "      <td>NaN</td>\n",
       "      <td>NaN</td>\n",
       "      <td>NaN</td>\n",
       "      <td>NaN</td>\n",
       "      <td>NaN</td>\n",
       "    </tr>\n",
       "    <tr>\n",
       "      <th>1</th>\n",
       "      <td>11000002</td>\n",
       "      <td>Achenbach</td>\n",
       "      <td>Ernst</td>\n",
       "      <td>09.04.1909</td>\n",
       "      <td>Siegen</td>\n",
       "      <td>None</td>\n",
       "      <td>02.12.1991</td>\n",
       "      <td>männlich</td>\n",
       "      <td>verheiratet, 3 Kinder</td>\n",
       "      <td>evangelisch</td>\n",
       "      <td>...</td>\n",
       "      <td>NaN</td>\n",
       "      <td>NaN</td>\n",
       "      <td>NaN</td>\n",
       "      <td>NaN</td>\n",
       "      <td>NaN</td>\n",
       "      <td>NaN</td>\n",
       "      <td>NaN</td>\n",
       "      <td>NaN</td>\n",
       "      <td>NaN</td>\n",
       "      <td>NaN</td>\n",
       "    </tr>\n",
       "    <tr>\n",
       "      <th>2</th>\n",
       "      <td>11000003</td>\n",
       "      <td>Ackermann</td>\n",
       "      <td>Annemarie</td>\n",
       "      <td>26.05.1913</td>\n",
       "      <td>Parabutsch</td>\n",
       "      <td>Jugoslawien</td>\n",
       "      <td>18.02.1994</td>\n",
       "      <td>weiblich</td>\n",
       "      <td>verheiratet, 5 Kinder</td>\n",
       "      <td>katholisch</td>\n",
       "      <td>...</td>\n",
       "      <td>1.0</td>\n",
       "      <td>NaN</td>\n",
       "      <td>NaN</td>\n",
       "      <td>NaN</td>\n",
       "      <td>NaN</td>\n",
       "      <td>NaN</td>\n",
       "      <td>NaN</td>\n",
       "      <td>NaN</td>\n",
       "      <td>NaN</td>\n",
       "      <td>NaN</td>\n",
       "    </tr>\n",
       "    <tr>\n",
       "      <th>3</th>\n",
       "      <td>11000004</td>\n",
       "      <td>Ackermann</td>\n",
       "      <td>Else</td>\n",
       "      <td>06.11.1933</td>\n",
       "      <td>Berlin</td>\n",
       "      <td>None</td>\n",
       "      <td>14.09.2019</td>\n",
       "      <td>weiblich</td>\n",
       "      <td>ledig</td>\n",
       "      <td>evangelisch</td>\n",
       "      <td>...</td>\n",
       "      <td>NaN</td>\n",
       "      <td>1.0</td>\n",
       "      <td>NaN</td>\n",
       "      <td>NaN</td>\n",
       "      <td>NaN</td>\n",
       "      <td>NaN</td>\n",
       "      <td>NaN</td>\n",
       "      <td>NaN</td>\n",
       "      <td>NaN</td>\n",
       "      <td>NaN</td>\n",
       "    </tr>\n",
       "    <tr>\n",
       "      <th>4</th>\n",
       "      <td>11000005</td>\n",
       "      <td>Adam</td>\n",
       "      <td>Ulrich</td>\n",
       "      <td>09.06.1950</td>\n",
       "      <td>Teterow, Kr. Teterow, Bezirk Neubrandenburg</td>\n",
       "      <td>None</td>\n",
       "      <td>None</td>\n",
       "      <td>männlich</td>\n",
       "      <td>verheiratet, 2 Kinder</td>\n",
       "      <td>evangelisch</td>\n",
       "      <td>...</td>\n",
       "      <td>NaN</td>\n",
       "      <td>1.0</td>\n",
       "      <td>1.0</td>\n",
       "      <td>1.0</td>\n",
       "      <td>1.0</td>\n",
       "      <td>1.0</td>\n",
       "      <td>NaN</td>\n",
       "      <td>NaN</td>\n",
       "      <td>NaN</td>\n",
       "      <td>NaN</td>\n",
       "    </tr>\n",
       "  </tbody>\n",
       "</table>\n",
       "<p>5 rows × 34 columns</p>\n",
       "</div>"
      ],
      "text/plain": [
       "         ID   NACHNAME    VORNAME GEBURTSDATUM  \\\n",
       "0  11000001    Abelein    Manfred   20.10.1930   \n",
       "1  11000002  Achenbach      Ernst   09.04.1909   \n",
       "2  11000003  Ackermann  Annemarie   26.05.1913   \n",
       "3  11000004  Ackermann       Else   06.11.1933   \n",
       "4  11000005       Adam     Ulrich   09.06.1950   \n",
       "\n",
       "                                    GEBURTSORT  GEBURTSLAND STERBEDATUM  \\\n",
       "0                                    Stuttgart         None  17.01.2008   \n",
       "1                                       Siegen         None  02.12.1991   \n",
       "2                                   Parabutsch  Jugoslawien  18.02.1994   \n",
       "3                                       Berlin         None  14.09.2019   \n",
       "4  Teterow, Kr. Teterow, Bezirk Neubrandenburg         None        None   \n",
       "\n",
       "  GESCHLECHT          FAMILIENSTAND     RELIGION  ...    2   12   13   14  \\\n",
       "0   männlich          keine Angaben   katholisch  ...  NaN  NaN  NaN  NaN   \n",
       "1   männlich  verheiratet, 3 Kinder  evangelisch  ...  NaN  NaN  NaN  NaN   \n",
       "2   weiblich  verheiratet, 5 Kinder   katholisch  ...  1.0  NaN  NaN  NaN   \n",
       "3   weiblich                  ledig  evangelisch  ...  NaN  1.0  NaN  NaN   \n",
       "4   männlich  verheiratet, 2 Kinder  evangelisch  ...  NaN  1.0  1.0  1.0   \n",
       "\n",
       "    15   16   1  17  18  19  \n",
       "0  NaN  NaN NaN NaN NaN NaN  \n",
       "1  NaN  NaN NaN NaN NaN NaN  \n",
       "2  NaN  NaN NaN NaN NaN NaN  \n",
       "3  NaN  NaN NaN NaN NaN NaN  \n",
       "4  1.0  1.0 NaN NaN NaN NaN  \n",
       "\n",
       "[5 rows x 34 columns]"
      ]
     },
     "execution_count": 9,
     "metadata": {},
     "output_type": "execute_result"
    }
   ],
   "source": [
    "df_mdb = get_mdb_data(MDB_XML_PATH)\n",
    "print(df_mdb.shape)\n",
    "df_mdb.head()"
   ]
  },
  {
   "cell_type": "code",
   "execution_count": 10,
   "id": "ce4b1366-2557-4991-9f9a-34930d80c43e",
   "metadata": {},
   "outputs": [],
   "source": [
    "df_mdb_wp = get_mdb_wp_data(df_mdb)"
   ]
  },
  {
   "cell_type": "code",
   "execution_count": 11,
   "id": "c82b9078-1121-4424-bc10-fdb13fe7eea6",
   "metadata": {},
   "outputs": [
    {
     "data": {
      "text/html": [
       "<div>\n",
       "<style scoped>\n",
       "    .dataframe tbody tr th:only-of-type {\n",
       "        vertical-align: middle;\n",
       "    }\n",
       "\n",
       "    .dataframe tbody tr th {\n",
       "        vertical-align: top;\n",
       "    }\n",
       "\n",
       "    .dataframe thead th {\n",
       "        text-align: right;\n",
       "    }\n",
       "</style>\n",
       "<table border=\"1\" class=\"dataframe\">\n",
       "  <thead>\n",
       "    <tr style=\"text-align: right;\">\n",
       "      <th></th>\n",
       "      <th>NACHNAME</th>\n",
       "      <th>VORNAME</th>\n",
       "    </tr>\n",
       "  </thead>\n",
       "  <tbody>\n",
       "    <tr>\n",
       "      <th>573</th>\n",
       "      <td>Freiwald</td>\n",
       "      <td>Friedrich Wilhelm</td>\n",
       "    </tr>\n",
       "    <tr>\n",
       "      <th>1895</th>\n",
       "      <td>Rutschke</td>\n",
       "      <td>Wolfgang</td>\n",
       "    </tr>\n",
       "    <tr>\n",
       "      <th>2121</th>\n",
       "      <td>Schwörer</td>\n",
       "      <td>Hermann</td>\n",
       "    </tr>\n",
       "    <tr>\n",
       "      <th>4662</th>\n",
       "      <td>Freiwald</td>\n",
       "      <td>Friedrich Wilhelm</td>\n",
       "    </tr>\n",
       "    <tr>\n",
       "      <th>5374</th>\n",
       "      <td>Lauritzen</td>\n",
       "      <td>Lauritz</td>\n",
       "    </tr>\n",
       "    <tr>\n",
       "      <th>...</th>\n",
       "      <td>...</td>\n",
       "      <td>...</td>\n",
       "    </tr>\n",
       "    <tr>\n",
       "      <th>77577</th>\n",
       "      <td>Müller</td>\n",
       "      <td>Axel</td>\n",
       "    </tr>\n",
       "    <tr>\n",
       "      <th>77607</th>\n",
       "      <td>Reusch</td>\n",
       "      <td>Roman Johannes</td>\n",
       "    </tr>\n",
       "    <tr>\n",
       "      <th>77618</th>\n",
       "      <td>Schmid</td>\n",
       "      <td>Nils</td>\n",
       "    </tr>\n",
       "    <tr>\n",
       "      <th>77632</th>\n",
       "      <td>Seitz</td>\n",
       "      <td>Thomas</td>\n",
       "    </tr>\n",
       "    <tr>\n",
       "      <th>77655</th>\n",
       "      <td>Throm</td>\n",
       "      <td>Alexander</td>\n",
       "    </tr>\n",
       "  </tbody>\n",
       "</table>\n",
       "<p>111 rows × 2 columns</p>\n",
       "</div>"
      ],
      "text/plain": [
       "        NACHNAME            VORNAME\n",
       "573     Freiwald  Friedrich Wilhelm\n",
       "1895    Rutschke           Wolfgang\n",
       "2121    Schwörer            Hermann\n",
       "4662    Freiwald  Friedrich Wilhelm\n",
       "5374   Lauritzen            Lauritz\n",
       "...          ...                ...\n",
       "77577     Müller               Axel\n",
       "77607     Reusch     Roman Johannes\n",
       "77618     Schmid               Nils\n",
       "77632      Seitz             Thomas\n",
       "77655      Throm          Alexander\n",
       "\n",
       "[111 rows x 2 columns]"
      ]
     },
     "execution_count": 11,
     "metadata": {},
     "output_type": "execute_result"
    }
   ],
   "source": [
    "# deleteme\n",
    "df_mdb_wp[df_mdb_wp.BERUF.str.contains('jurist', na=False)][['NACHNAME', 'VORNAME']]"
   ]
  },
  {
   "cell_type": "markdown",
   "id": "fc3e1891-3db0-49e1-9c07-1506c4f22a48",
   "metadata": {},
   "source": [
    "# compute Age"
   ]
  },
  {
   "cell_type": "code",
   "execution_count": 12,
   "id": "e6dc9713-83f1-438c-873d-ea56f1350e9a",
   "metadata": {},
   "outputs": [],
   "source": [
    "df_mdb['GEBURSDATUM_DATE'] = pd.to_datetime(df_mdb.GEBURTSDATUM, format='%d/%m/%Y', errors='coerce')"
   ]
  },
  {
   "cell_type": "code",
   "execution_count": 13,
   "id": "fd3d5e6b-dc45-41e6-9e61-234c4c04d2bc",
   "metadata": {},
   "outputs": [
    {
     "data": {
      "text/html": [
       "<div>\n",
       "<style scoped>\n",
       "    .dataframe tbody tr th:only-of-type {\n",
       "        vertical-align: middle;\n",
       "    }\n",
       "\n",
       "    .dataframe tbody tr th {\n",
       "        vertical-align: top;\n",
       "    }\n",
       "\n",
       "    .dataframe thead th {\n",
       "        text-align: right;\n",
       "    }\n",
       "</style>\n",
       "<table border=\"1\" class=\"dataframe\">\n",
       "  <thead>\n",
       "    <tr style=\"text-align: right;\">\n",
       "      <th></th>\n",
       "      <th>ID</th>\n",
       "      <th>NACHNAME</th>\n",
       "      <th>VORNAME</th>\n",
       "      <th>GEBURTSDATUM</th>\n",
       "      <th>GEBURTSORT</th>\n",
       "      <th>GEBURTSLAND</th>\n",
       "      <th>STERBEDATUM</th>\n",
       "      <th>GESCHLECHT</th>\n",
       "      <th>FAMILIENSTAND</th>\n",
       "      <th>RELIGION</th>\n",
       "      <th>...</th>\n",
       "      <th>12</th>\n",
       "      <th>13</th>\n",
       "      <th>14</th>\n",
       "      <th>15</th>\n",
       "      <th>16</th>\n",
       "      <th>1</th>\n",
       "      <th>17</th>\n",
       "      <th>18</th>\n",
       "      <th>19</th>\n",
       "      <th>GEBURSDATUM_DATE</th>\n",
       "    </tr>\n",
       "  </thead>\n",
       "  <tbody>\n",
       "    <tr>\n",
       "      <th>0</th>\n",
       "      <td>11000001</td>\n",
       "      <td>Abelein</td>\n",
       "      <td>Manfred</td>\n",
       "      <td>20.10.1930</td>\n",
       "      <td>Stuttgart</td>\n",
       "      <td>None</td>\n",
       "      <td>17.01.2008</td>\n",
       "      <td>männlich</td>\n",
       "      <td>keine Angaben</td>\n",
       "      <td>katholisch</td>\n",
       "      <td>...</td>\n",
       "      <td>NaN</td>\n",
       "      <td>NaN</td>\n",
       "      <td>NaN</td>\n",
       "      <td>NaN</td>\n",
       "      <td>NaN</td>\n",
       "      <td>NaN</td>\n",
       "      <td>NaN</td>\n",
       "      <td>NaN</td>\n",
       "      <td>NaN</td>\n",
       "      <td>NaT</td>\n",
       "    </tr>\n",
       "    <tr>\n",
       "      <th>1</th>\n",
       "      <td>11000002</td>\n",
       "      <td>Achenbach</td>\n",
       "      <td>Ernst</td>\n",
       "      <td>09.04.1909</td>\n",
       "      <td>Siegen</td>\n",
       "      <td>None</td>\n",
       "      <td>02.12.1991</td>\n",
       "      <td>männlich</td>\n",
       "      <td>verheiratet, 3 Kinder</td>\n",
       "      <td>evangelisch</td>\n",
       "      <td>...</td>\n",
       "      <td>NaN</td>\n",
       "      <td>NaN</td>\n",
       "      <td>NaN</td>\n",
       "      <td>NaN</td>\n",
       "      <td>NaN</td>\n",
       "      <td>NaN</td>\n",
       "      <td>NaN</td>\n",
       "      <td>NaN</td>\n",
       "      <td>NaN</td>\n",
       "      <td>NaT</td>\n",
       "    </tr>\n",
       "    <tr>\n",
       "      <th>2</th>\n",
       "      <td>11000003</td>\n",
       "      <td>Ackermann</td>\n",
       "      <td>Annemarie</td>\n",
       "      <td>26.05.1913</td>\n",
       "      <td>Parabutsch</td>\n",
       "      <td>Jugoslawien</td>\n",
       "      <td>18.02.1994</td>\n",
       "      <td>weiblich</td>\n",
       "      <td>verheiratet, 5 Kinder</td>\n",
       "      <td>katholisch</td>\n",
       "      <td>...</td>\n",
       "      <td>NaN</td>\n",
       "      <td>NaN</td>\n",
       "      <td>NaN</td>\n",
       "      <td>NaN</td>\n",
       "      <td>NaN</td>\n",
       "      <td>NaN</td>\n",
       "      <td>NaN</td>\n",
       "      <td>NaN</td>\n",
       "      <td>NaN</td>\n",
       "      <td>NaT</td>\n",
       "    </tr>\n",
       "    <tr>\n",
       "      <th>3</th>\n",
       "      <td>11000004</td>\n",
       "      <td>Ackermann</td>\n",
       "      <td>Else</td>\n",
       "      <td>06.11.1933</td>\n",
       "      <td>Berlin</td>\n",
       "      <td>None</td>\n",
       "      <td>14.09.2019</td>\n",
       "      <td>weiblich</td>\n",
       "      <td>ledig</td>\n",
       "      <td>evangelisch</td>\n",
       "      <td>...</td>\n",
       "      <td>1.0</td>\n",
       "      <td>NaN</td>\n",
       "      <td>NaN</td>\n",
       "      <td>NaN</td>\n",
       "      <td>NaN</td>\n",
       "      <td>NaN</td>\n",
       "      <td>NaN</td>\n",
       "      <td>NaN</td>\n",
       "      <td>NaN</td>\n",
       "      <td>NaT</td>\n",
       "    </tr>\n",
       "    <tr>\n",
       "      <th>4</th>\n",
       "      <td>11000005</td>\n",
       "      <td>Adam</td>\n",
       "      <td>Ulrich</td>\n",
       "      <td>09.06.1950</td>\n",
       "      <td>Teterow, Kr. Teterow, Bezirk Neubrandenburg</td>\n",
       "      <td>None</td>\n",
       "      <td>None</td>\n",
       "      <td>männlich</td>\n",
       "      <td>verheiratet, 2 Kinder</td>\n",
       "      <td>evangelisch</td>\n",
       "      <td>...</td>\n",
       "      <td>1.0</td>\n",
       "      <td>1.0</td>\n",
       "      <td>1.0</td>\n",
       "      <td>1.0</td>\n",
       "      <td>1.0</td>\n",
       "      <td>NaN</td>\n",
       "      <td>NaN</td>\n",
       "      <td>NaN</td>\n",
       "      <td>NaN</td>\n",
       "      <td>NaT</td>\n",
       "    </tr>\n",
       "  </tbody>\n",
       "</table>\n",
       "<p>5 rows × 35 columns</p>\n",
       "</div>"
      ],
      "text/plain": [
       "         ID   NACHNAME    VORNAME GEBURTSDATUM  \\\n",
       "0  11000001    Abelein    Manfred   20.10.1930   \n",
       "1  11000002  Achenbach      Ernst   09.04.1909   \n",
       "2  11000003  Ackermann  Annemarie   26.05.1913   \n",
       "3  11000004  Ackermann       Else   06.11.1933   \n",
       "4  11000005       Adam     Ulrich   09.06.1950   \n",
       "\n",
       "                                    GEBURTSORT  GEBURTSLAND STERBEDATUM  \\\n",
       "0                                    Stuttgart         None  17.01.2008   \n",
       "1                                       Siegen         None  02.12.1991   \n",
       "2                                   Parabutsch  Jugoslawien  18.02.1994   \n",
       "3                                       Berlin         None  14.09.2019   \n",
       "4  Teterow, Kr. Teterow, Bezirk Neubrandenburg         None        None   \n",
       "\n",
       "  GESCHLECHT          FAMILIENSTAND     RELIGION  ...   12   13   14   15  \\\n",
       "0   männlich          keine Angaben   katholisch  ...  NaN  NaN  NaN  NaN   \n",
       "1   männlich  verheiratet, 3 Kinder  evangelisch  ...  NaN  NaN  NaN  NaN   \n",
       "2   weiblich  verheiratet, 5 Kinder   katholisch  ...  NaN  NaN  NaN  NaN   \n",
       "3   weiblich                  ledig  evangelisch  ...  1.0  NaN  NaN  NaN   \n",
       "4   männlich  verheiratet, 2 Kinder  evangelisch  ...  1.0  1.0  1.0  1.0   \n",
       "\n",
       "    16   1  17  18  19  GEBURSDATUM_DATE  \n",
       "0  NaN NaN NaN NaN NaN               NaT  \n",
       "1  NaN NaN NaN NaN NaN               NaT  \n",
       "2  NaN NaN NaN NaN NaN               NaT  \n",
       "3  NaN NaN NaN NaN NaN               NaT  \n",
       "4  1.0 NaN NaN NaN NaN               NaT  \n",
       "\n",
       "[5 rows x 35 columns]"
      ]
     },
     "execution_count": 13,
     "metadata": {},
     "output_type": "execute_result"
    }
   ],
   "source": [
    "df_mdb.head()"
   ]
  },
  {
   "cell_type": "code",
   "execution_count": null,
   "id": "52bd881e-39d1-4d71-a178-bd4c0cffe6f9",
   "metadata": {},
   "outputs": [],
   "source": []
  },
  {
   "cell_type": "markdown",
   "id": "31752204-92de-476c-a005-b31578d8e944",
   "metadata": {},
   "source": [
    "## Insight: es werden immer mehr Abgeordnete"
   ]
  },
  {
   "cell_type": "code",
   "execution_count": 14,
   "id": "f3417b91-c51e-4030-82f9-300220020e6e",
   "metadata": {},
   "outputs": [
    {
     "data": {
      "image/png": "[encoded data removed]",
      "text/plain": [
       "<Figure size 1400x800 with 1 Axes>"
      ]
     },
     "metadata": {},
     "output_type": "display_data"
    }
   ],
   "source": [
    "# Daten vorbereiten\n",
    "wps = [column for column in df_mdb.columns if isinstance(column, int)]\n",
    "abgeordnete_pro_wp = df_mdb[wps].sum().sort_index()\n",
    "\n",
    "# Plot erstellen\n",
    "fig, ax = plt.subplots(figsize=(14, 8))\n",
    "\n",
    "# Balkendiagramm\n",
    "sns.barplot(x=abgeordnete_pro_wp.index, y=abgeordnete_pro_wp.values, ax=ax)\n",
    "\n",
    "# Beschriftungen hinzufügen\n",
    "ax.set_title('Anzahl der Abgeordneten pro Wahlperiode', fontsize=20)\n",
    "ax.set_xlabel('Wahlperiode', fontsize=14)\n",
    "ax.set_ylabel('Anzahl der Abgeordneten', fontsize=14)\n",
    "\n",
    "# Werte über den Balken anzeigen (als ganze Zahlen)\n",
    "for i, v in enumerate(abgeordnete_pro_wp.values):\n",
    "    ax.text(i, v + 5, f'{int(v)}', ha='center', va='bottom')\n",
    "\n",
    "# Y-Achse bei 0 beginnen lassen und bis zum maximalen Wert plus etwas Abstand gehen\n",
    "y_max = max(abgeordnete_pro_wp.values)\n",
    "ax.set_ylim(0, y_max * 1.1)  # 10% Abstand nach oben für die Beschriftungen\n",
    "\n",
    "# Grid für bessere Lesbarkeit\n",
    "ax.grid(axis='y', linestyle='--', alpha=0.7)\n",
    "\n",
    "# Layout optimieren\n",
    "plt.tight_layout()\n",
    "\n",
    "# SVG\n",
    "plt.savefig(PLOT_PATH / 'anzahl_abgeordneter.svg', format='svg', dpi=300, bbox_inches='tight')\n",
    "plt.show()"
   ]
  },
  {
   "cell_type": "code",
   "execution_count": 15,
   "id": "2092cfd8-8649-432e-8591-23cdc087f37e",
   "metadata": {},
   "outputs": [
    {
     "data": {
      "text/plain": [
       "15    628.0\n",
       "16    642.0\n",
       "17    652.0\n",
       "18    658.0\n",
       "19    738.0\n",
       "dtype: float64"
      ]
     },
     "execution_count": 15,
     "metadata": {},
     "output_type": "execute_result"
    }
   ],
   "source": [
    "df_mdb[wps].sum().sort_index().tail()"
   ]
  },
  {
   "cell_type": "code",
   "execution_count": 16,
   "id": "176b908c-6a91-4c10-8bec-bfae4f92b4be",
   "metadata": {},
   "outputs": [
    {
     "data": {
      "text/plain": [
       "11627.0"
      ]
     },
     "execution_count": 16,
     "metadata": {},
     "output_type": "execute_result"
    }
   ],
   "source": [
    "# total number of abgeordnete (counting multiple wps as multiple entries)\n",
    "df_mdb[wps].sum().sum()"
   ]
  },
  {
   "cell_type": "markdown",
   "id": "d64005e2-4f27-4020-b486-c7fa0554cee4",
   "metadata": {},
   "source": [
    "# look at one VITA KURZ"
   ]
  },
  {
   "cell_type": "code",
   "execution_count": 17,
   "id": "baaaf173-48af-444c-9f2b-914e4d291491",
   "metadata": {},
   "outputs": [
    {
     "name": "stdout",
     "output_type": "stream",
     "text": [
      "('2000/04 Studium der Politikwissenschaft und Öffentliches Recht in Hamburg; '\n",
      " '2000/03 freie Mitarbeit bei der Hannoverschen Allgemeinen Zeitung; 2005 '\n",
      " 'Master im Völkerrecht (LL.M.) an der LSE London; 2005/08 Büroleiterin der '\n",
      " 'Europaabgeordneten Elisabeth Schroedter in Brüssel und Potsdam. 2008/09 '\n",
      " 'Referentin für Außen- und Sicherheitspolitik bei der Grünen '\n",
      " 'Bundestagsfraktion. 2009/13 Landesvors. BÜNDNIS 90/DIE GRÜNEN Brandenburg. '\n",
      " 'Seit 2005 Mitgl. von Bündnis 90/Die Grünen, 2009/12 Mitgl. im Vorstand der '\n",
      " 'Europäischen Grünen Partei; 2012/15 Mitgl. im Parteirat von Bündnis 90/Die '\n",
      " 'Grünen, seit Jan. 2018 Bundesvors. von Bündnis90/Die Grünen. Englisch (f), '\n",
      " 'Französisch (G), Spanisch (G). - MdB seit Okt. 2013.')\n"
     ]
    }
   ],
   "source": [
    "import pprint\n",
    "pp = pprint.PrettyPrinter(indent=4)\n",
    "pp.pprint(df_mdb_wp[df_mdb_wp.NACHNAME =='Baerbock'].iloc[0].VITA_KURZ)"
   ]
  },
  {
   "cell_type": "code",
   "execution_count": 18,
   "id": "bf0cf078-bf65-4058-ac76-cfe17755702a",
   "metadata": {},
   "outputs": [],
   "source": [
    "# TODO: Vita kurz mit LLM klassifizieren"
   ]
  },
  {
   "cell_type": "markdown",
   "id": "f0649f48-0e07-4233-ab60-77bbd5a44d96",
   "metadata": {},
   "source": [
    "# clean data 1. missing values"
   ]
  },
  {
   "cell_type": "code",
   "execution_count": 19,
   "id": "4e0356b1-a584-4cf0-846a-f72b0d388ba4",
   "metadata": {},
   "outputs": [
    {
     "data": {
      "text/plain": [
       "NACHNAME            0\n",
       "VORNAME             0\n",
       "GEBURTSDATUM        0\n",
       "GEBURTSORT          4\n",
       "GEBURTSLAND      4010\n",
       "STERBEDATUM      2199\n",
       "GESCHLECHT          0\n",
       "FAMILIENSTAND      81\n",
       "RELIGION          227\n",
       "BERUF               3\n",
       "PARTEI_KURZ         3\n",
       "dtype: int64"
      ]
     },
     "execution_count": 19,
     "metadata": {},
     "output_type": "execute_result"
    }
   ],
   "source": [
    "dimensions_replace_na = ['NACHNAME', 'VORNAME', 'GEBURTSDATUM', 'GEBURTSORT', 'GEBURTSLAND', 'STERBEDATUM', 'GESCHLECHT', 'FAMILIENSTAND', 'RELIGION', 'BERUF', 'PARTEI_KURZ']\n",
    "df_mdb[dimensions_replace_na].isna().sum()"
   ]
  },
  {
   "cell_type": "code",
   "execution_count": 20,
   "id": "9cd68e71-392c-4ba2-884a-d591e09b0c2b",
   "metadata": {},
   "outputs": [],
   "source": [
    "df_mdb[dimensions_replace_na] = df_mdb[dimensions_replace_na].fillna('UNBEKANNT')"
   ]
  },
  {
   "cell_type": "code",
   "execution_count": null,
   "id": "c93a0381-79c8-473e-97cf-f49d813773e8",
   "metadata": {},
   "outputs": [],
   "source": []
  },
  {
   "cell_type": "code",
   "execution_count": null,
   "id": "d2f7229c-2b81-44c2-bfe7-0ab3efc8a373",
   "metadata": {},
   "outputs": [],
   "source": []
  },
  {
   "cell_type": "markdown",
   "id": "225e7664-d495-4067-8f90-4cfca15903f6",
   "metadata": {},
   "source": [
    "# 2. replace values: PARTEI_KURZ"
   ]
  },
  {
   "cell_type": "code",
   "execution_count": 21,
   "id": "b00d7fc2-187d-41b0-aa88-b3a1551b12d9",
   "metadata": {},
   "outputs": [
    {
     "data": {
      "text/plain": [
       "CDU                      1347\n",
       "SPD                      1329\n",
       "FDP                       460\n",
       "CSU                       269\n",
       "BÜNDNIS 90/DIE GRÜNEN     180\n",
       "DIE LINKE.                128\n",
       "AfD                        88\n",
       "PDS                        54\n",
       "GRÜNE                      51\n",
       "DIE GRÜNEN/BÜNDNIS 90      28\n",
       "DP                         27\n",
       "FU                         21\n",
       "Name: PARTEI_KURZ, dtype: int64"
      ]
     },
     "execution_count": 21,
     "metadata": {},
     "output_type": "execute_result"
    }
   ],
   "source": [
    "df_mdb.PARTEI_KURZ.value_counts()[:12]"
   ]
  },
  {
   "cell_type": "code",
   "execution_count": 22,
   "id": "325d47ff-4860-4e05-a8eb-9c9412de50a1",
   "metadata": {},
   "outputs": [],
   "source": [
    "# some cleaning necessary: 'BÜNDNIS 90/DIE GRÜNEN', 'DIE GRÜNEN/BÜNDNIS 90' => 'GRÜNE'\n",
    "for grünen_alias in ['BÜNDNIS 90/DIE GRÜNEN', 'DIE GRÜNEN/BÜNDNIS 90', 'GRÜNE']:\n",
    "    df_mdb.replace(grünen_alias, 'DIE GRÜNEN', inplace=True)"
   ]
  },
  {
   "cell_type": "markdown",
   "id": "12d9cd5e-df57-479d-8ae4-adbb053910ce",
   "metadata": {},
   "source": [
    "# replace values: RELIGION"
   ]
  },
  {
   "cell_type": "code",
   "execution_count": 23,
   "id": "0734c71f-d9e8-4459-8577-651fa9df9bf1",
   "metadata": {},
   "outputs": [],
   "source": [
    "df_mdb['RELIGION_MAPPED'] = df_mdb['RELIGION'].map(religion_mapping)"
   ]
  },
  {
   "cell_type": "code",
   "execution_count": 24,
   "id": "c3052cf3-0f0e-425f-b13b-a426df0e7032",
   "metadata": {},
   "outputs": [
    {
     "data": {
      "text/plain": [
       "ohne Angaben                 1214\n",
       "evangelisch                  1154\n",
       "katholisch                    870\n",
       "römisch-katholisch            316\n",
       "UNBEKANNT                     227\n",
       "evangelisch-lutherisch        138\n",
       "konfessionslos                118\n",
       "evangelisch-reformiert         15\n",
       "religionslos                    7\n",
       "Atheistin                       6\n",
       "muslimisch                      5\n",
       "evangelisch-freikirchlich       3\n",
       "freireligiös                    3\n",
       "Islam                           3\n",
       "Atheist                         2\n",
       "neuapostolisch                  1\n",
       "protestantisch                  1\n",
       "humanistisch                    1\n",
       "griechisch-orthodox             1\n",
       "alevitisch                      1\n",
       "alt-katholisch                  1\n",
       "orthodox                        1\n",
       "russisch-orthodox               1\n",
       "Name: RELIGION, dtype: int64"
      ]
     },
     "execution_count": 24,
     "metadata": {},
     "output_type": "execute_result"
    }
   ],
   "source": [
    "df_mdb['RELIGION'].value_counts()"
   ]
  },
  {
   "cell_type": "code",
   "execution_count": 25,
   "id": "5257f305-4d0a-4682-a697-c0d226b039c6",
   "metadata": {},
   "outputs": [
    {
     "data": {
      "text/plain": [
       "unbekannt         1441\n",
       "evangelisch       1311\n",
       "katholisch        1187\n",
       "konfessionslos     133\n",
       "muslimisch           9\n",
       "sonstige             5\n",
       "orthodox             3\n",
       "Name: RELIGION_MAPPED, dtype: int64"
      ]
     },
     "execution_count": 25,
     "metadata": {},
     "output_type": "execute_result"
    }
   ],
   "source": [
    "df_mdb['RELIGION_MAPPED'].value_counts()"
   ]
  },
  {
   "cell_type": "code",
   "execution_count": 26,
   "id": "fe6ee406-4c81-475d-adef-2e997c7e8d7d",
   "metadata": {},
   "outputs": [
    {
     "data": {
      "text/plain": [
       "<Axes: >"
      ]
     },
     "execution_count": 26,
     "metadata": {},
     "output_type": "execute_result"
    },
    {
     "data": {
      "image/png": "[encoded data removed]",
      "text/plain": [
       "<Figure size 640x480 with 1 Axes>"
      ]
     },
     "metadata": {},
     "output_type": "display_data"
    }
   ],
   "source": [
    "# erkenntnis: nur christen und einige wenige konfessionslose\n",
    "df_mdb['RELIGION_MAPPED'].value_counts().plot(kind='bar')"
   ]
  },
  {
   "cell_type": "markdown",
   "id": "b5246146-c1ce-4e3a-a6e3-ee116590d918",
   "metadata": {},
   "source": [
    "# replace values: FAMILIENSTAND"
   ]
  },
  {
   "cell_type": "code",
   "execution_count": 27,
   "id": "5dac4f0f-655c-4f73-ba93-d1a0ca3e4a4f",
   "metadata": {},
   "outputs": [
    {
     "data": {
      "text/plain": [
       "verheiratet, 2 Kinder    932\n",
       "verheiratet              565\n",
       "verheiratet, 3 Kinder    550\n",
       "keine Angaben            540\n",
       "Name: FAMILIENSTAND, dtype: int64"
      ]
     },
     "execution_count": 27,
     "metadata": {},
     "output_type": "execute_result"
    }
   ],
   "source": [
    "df_mdb['FAMILIENSTAND'].value_counts().head(4)"
   ]
  },
  {
   "cell_type": "code",
   "execution_count": 28,
   "id": "37fa9296-de58-4e22-914f-5da70fbf396a",
   "metadata": {},
   "outputs": [
    {
     "data": {
      "text/plain": [
       "<Axes: xlabel='FAMILIENSTAND_MAPPED'>"
      ]
     },
     "execution_count": 28,
     "metadata": {},
     "output_type": "execute_result"
    },
    {
     "data": {
      "image/png": "[encoded data removed]",
      "text/plain": [
       "<Figure size 1200x700 with 1 Axes>"
      ]
     },
     "metadata": {},
     "output_type": "display_data"
    }
   ],
   "source": [
    "# gehen sie weiter. hier gibt es kein Klischee zu erkennen!\n",
    "df_mdb['FAMILIENSTAND_MAPPED'] = df_mdb['FAMILIENSTAND'].map(family_status_mapping)\n",
    "\n",
    "df_mdb[['ID', 'FAMILIENSTAND_MAPPED']].groupby('FAMILIENSTAND_MAPPED').count().sort_values(by='ID', ascending=False).head(16).plot(kind='bar', figsize=(12,7))"
   ]
  },
  {
   "cell_type": "code",
   "execution_count": 29,
   "id": "7a328ae3-10f5-4dc3-90bb-1f059b27b078",
   "metadata": {},
   "outputs": [
    {
     "data": {
      "text/html": [
       "<div>\n",
       "<style scoped>\n",
       "    .dataframe tbody tr th:only-of-type {\n",
       "        vertical-align: middle;\n",
       "    }\n",
       "\n",
       "    .dataframe tbody tr th {\n",
       "        vertical-align: top;\n",
       "    }\n",
       "\n",
       "    .dataframe thead th {\n",
       "        text-align: right;\n",
       "    }\n",
       "</style>\n",
       "<table border=\"1\" class=\"dataframe\">\n",
       "  <thead>\n",
       "    <tr style=\"text-align: right;\">\n",
       "      <th></th>\n",
       "      <th>ID</th>\n",
       "    </tr>\n",
       "    <tr>\n",
       "      <th>FAMILIENSTAND_MAPPED</th>\n",
       "      <th></th>\n",
       "    </tr>\n",
       "  </thead>\n",
       "  <tbody>\n",
       "    <tr>\n",
       "      <th>verheiratet_mit_mehr_als_2_kindern</th>\n",
       "      <td>974</td>\n",
       "    </tr>\n",
       "    <tr>\n",
       "      <th>verheiratet_mit_2_kindern</th>\n",
       "      <td>932</td>\n",
       "    </tr>\n",
       "    <tr>\n",
       "      <th>unbekannt</th>\n",
       "      <td>624</td>\n",
       "    </tr>\n",
       "    <tr>\n",
       "      <th>verheiratet_ohne_kinder</th>\n",
       "      <td>565</td>\n",
       "    </tr>\n",
       "    <tr>\n",
       "      <th>verheiratet_mit_1_kind</th>\n",
       "      <td>466</td>\n",
       "    </tr>\n",
       "    <tr>\n",
       "      <th>ledig_ohne_kinder</th>\n",
       "      <td>202</td>\n",
       "    </tr>\n",
       "    <tr>\n",
       "      <th>mit_2_kindern</th>\n",
       "      <td>45</td>\n",
       "    </tr>\n",
       "    <tr>\n",
       "      <th>geschieden_mit_2_kindern</th>\n",
       "      <td>32</td>\n",
       "    </tr>\n",
       "    <tr>\n",
       "      <th>geschieden_mit_1_kind</th>\n",
       "      <td>28</td>\n",
       "    </tr>\n",
       "    <tr>\n",
       "      <th>mit_1_kind</th>\n",
       "      <td>26</td>\n",
       "    </tr>\n",
       "    <tr>\n",
       "      <th>verwitwet_mit_2_kindern</th>\n",
       "      <td>23</td>\n",
       "    </tr>\n",
       "    <tr>\n",
       "      <th>mit_mehr_als_2_kindern</th>\n",
       "      <td>23</td>\n",
       "    </tr>\n",
       "    <tr>\n",
       "      <th>ledig_mit_1_kind</th>\n",
       "      <td>21</td>\n",
       "    </tr>\n",
       "    <tr>\n",
       "      <th>geschieden_mit_mehr_als_2_kindern</th>\n",
       "      <td>20</td>\n",
       "    </tr>\n",
       "    <tr>\n",
       "      <th>geschieden_ohne_kinder</th>\n",
       "      <td>18</td>\n",
       "    </tr>\n",
       "    <tr>\n",
       "      <th>verwitwet_mit_mehr_als_2_kindern</th>\n",
       "      <td>18</td>\n",
       "    </tr>\n",
       "  </tbody>\n",
       "</table>\n",
       "</div>"
      ],
      "text/plain": [
       "                                     ID\n",
       "FAMILIENSTAND_MAPPED                   \n",
       "verheiratet_mit_mehr_als_2_kindern  974\n",
       "verheiratet_mit_2_kindern           932\n",
       "unbekannt                           624\n",
       "verheiratet_ohne_kinder             565\n",
       "verheiratet_mit_1_kind              466\n",
       "ledig_ohne_kinder                   202\n",
       "mit_2_kindern                        45\n",
       "geschieden_mit_2_kindern             32\n",
       "geschieden_mit_1_kind                28\n",
       "mit_1_kind                           26\n",
       "verwitwet_mit_2_kindern              23\n",
       "mit_mehr_als_2_kindern               23\n",
       "ledig_mit_1_kind                     21\n",
       "geschieden_mit_mehr_als_2_kindern    20\n",
       "geschieden_ohne_kinder               18\n",
       "verwitwet_mit_mehr_als_2_kindern     18"
      ]
     },
     "execution_count": 29,
     "metadata": {},
     "output_type": "execute_result"
    }
   ],
   "source": [
    "df_mdb[['ID', 'FAMILIENSTAND_MAPPED']].groupby('FAMILIENSTAND_MAPPED').count().sort_values(by='ID', ascending=False).head(16)"
   ]
  },
  {
   "cell_type": "code",
   "execution_count": null,
   "id": "8b9f2880-55c8-4d7f-96d9-7e9859142c35",
   "metadata": {},
   "outputs": [],
   "source": []
  },
  {
   "cell_type": "markdown",
   "id": "08515cd9-12a3-4b15-9a8b-c547868e0eec",
   "metadata": {},
   "source": [
    "# replace values: BERUFE"
   ]
  },
  {
   "cell_type": "code",
   "execution_count": 30,
   "id": "3c830ec1-9cea-40b9-ba14-12da6d355051",
   "metadata": {},
   "outputs": [
    {
     "data": {
      "text/plain": [
       "2201"
      ]
     },
     "execution_count": 30,
     "metadata": {},
     "output_type": "execute_result"
    }
   ],
   "source": [
    "# number of different jobs: 2k\n",
    "len(set(df_mdb.BERUF))"
   ]
  },
  {
   "cell_type": "code",
   "execution_count": 31,
   "id": "13a96f48-2015-4434-a9c0-19bb42e2c5b5",
   "metadata": {},
   "outputs": [],
   "source": [
    "df_mdb['BERUF_MAPPED'] = df_mdb['BERUF'].copy()"
   ]
  },
  {
   "cell_type": "code",
   "execution_count": 32,
   "id": "8c8d3b0f-00b0-41ee-b792-009eb75841db",
   "metadata": {},
   "outputs": [
    {
     "data": {
      "text/html": [
       "<div>\n",
       "<style scoped>\n",
       "    .dataframe tbody tr th:only-of-type {\n",
       "        vertical-align: middle;\n",
       "    }\n",
       "\n",
       "    .dataframe tbody tr th {\n",
       "        vertical-align: top;\n",
       "    }\n",
       "\n",
       "    .dataframe thead th {\n",
       "        text-align: right;\n",
       "    }\n",
       "</style>\n",
       "<table border=\"1\" class=\"dataframe\">\n",
       "  <thead>\n",
       "    <tr style=\"text-align: right;\">\n",
       "      <th></th>\n",
       "      <th>ID</th>\n",
       "    </tr>\n",
       "    <tr>\n",
       "      <th>BERUF</th>\n",
       "      <th></th>\n",
       "    </tr>\n",
       "  </thead>\n",
       "  <tbody>\n",
       "    <tr>\n",
       "      <th>Rechtsanwalt</th>\n",
       "      <td>182</td>\n",
       "    </tr>\n",
       "    <tr>\n",
       "      <th>Geschäftsführer</th>\n",
       "      <td>80</td>\n",
       "    </tr>\n",
       "    <tr>\n",
       "      <th>Landwirt</th>\n",
       "      <td>79</td>\n",
       "    </tr>\n",
       "    <tr>\n",
       "      <th>Angestellter</th>\n",
       "      <td>63</td>\n",
       "    </tr>\n",
       "    <tr>\n",
       "      <th>Rechtsanwalt und Notar</th>\n",
       "      <td>47</td>\n",
       "    </tr>\n",
       "  </tbody>\n",
       "</table>\n",
       "</div>"
      ],
      "text/plain": [
       "                         ID\n",
       "BERUF                      \n",
       "Rechtsanwalt            182\n",
       "Geschäftsführer          80\n",
       "Landwirt                 79\n",
       "Angestellter             63\n",
       "Rechtsanwalt und Notar   47"
      ]
     },
     "execution_count": 32,
     "metadata": {},
     "output_type": "execute_result"
    }
   ],
   "source": [
    "df_mdb[['ID', 'BERUF']].groupby('BERUF').count().sort_values(by='ID', ascending=False).head()"
   ]
  },
  {
   "cell_type": "code",
   "execution_count": 35,
   "id": "c5a5b735-f36a-46a7-acd9-539d03cd0925",
   "metadata": {},
   "outputs": [],
   "source": [
    "'''very basic cleaning: lowercasing, removing dipl., (fh) and a.d.'''\n",
    "df_mdb = basic_cleaning_berufe(df_mdb , column = 'BERUF_MAPPED')"
   ]
  },
  {
   "cell_type": "code",
   "execution_count": 36,
   "id": "3ba7948a-9d20-4730-92a8-95fefc31bf12",
   "metadata": {},
   "outputs": [],
   "source": [
    "df_mdb['BERUF_MAPPED'] = df_mdb['BERUF'].apply(klassifiziere_beruf)"
   ]
  },
  {
   "cell_type": "code",
   "execution_count": 37,
   "id": "72943203-6920-4c8c-8895-6d94e705342f",
   "metadata": {},
   "outputs": [
    {
     "data": {
      "text/html": [
       "<div>\n",
       "<style scoped>\n",
       "    .dataframe tbody tr th:only-of-type {\n",
       "        vertical-align: middle;\n",
       "    }\n",
       "\n",
       "    .dataframe tbody tr th {\n",
       "        vertical-align: top;\n",
       "    }\n",
       "\n",
       "    .dataframe thead th {\n",
       "        text-align: right;\n",
       "    }\n",
       "</style>\n",
       "<table border=\"1\" class=\"dataframe\">\n",
       "  <thead>\n",
       "    <tr style=\"text-align: right;\">\n",
       "      <th></th>\n",
       "      <th>ID</th>\n",
       "    </tr>\n",
       "    <tr>\n",
       "      <th>BERUF_MAPPED</th>\n",
       "      <th></th>\n",
       "    </tr>\n",
       "  </thead>\n",
       "  <tbody>\n",
       "    <tr>\n",
       "      <th>Sonstige</th>\n",
       "      <td>756</td>\n",
       "    </tr>\n",
       "    <tr>\n",
       "      <th>Jurist*in</th>\n",
       "      <td>549</td>\n",
       "    </tr>\n",
       "    <tr>\n",
       "      <th>Lehrer*in</th>\n",
       "      <td>461</td>\n",
       "    </tr>\n",
       "    <tr>\n",
       "      <th>Berufspolitiker*in</th>\n",
       "      <td>355</td>\n",
       "    </tr>\n",
       "    <tr>\n",
       "      <th>Land-/Forstwirt*in</th>\n",
       "      <td>259</td>\n",
       "    </tr>\n",
       "    <tr>\n",
       "      <th>Kaufmann/-frau</th>\n",
       "      <td>237</td>\n",
       "    </tr>\n",
       "    <tr>\n",
       "      <th>Unternehmer*in</th>\n",
       "      <td>233</td>\n",
       "    </tr>\n",
       "    <tr>\n",
       "      <th>Ingenieur*in</th>\n",
       "      <td>223</td>\n",
       "    </tr>\n",
       "  </tbody>\n",
       "</table>\n",
       "</div>"
      ],
      "text/plain": [
       "                     ID\n",
       "BERUF_MAPPED           \n",
       "Sonstige            756\n",
       "Jurist*in           549\n",
       "Lehrer*in           461\n",
       "Berufspolitiker*in  355\n",
       "Land-/Forstwirt*in  259\n",
       "Kaufmann/-frau      237\n",
       "Unternehmer*in      233\n",
       "Ingenieur*in        223"
      ]
     },
     "execution_count": 37,
     "metadata": {},
     "output_type": "execute_result"
    }
   ],
   "source": [
    "df_mdb[['ID', 'BERUF_MAPPED']].groupby('BERUF_MAPPED').count().sort_values(by='ID', ascending=False).head(8)"
   ]
  },
  {
   "cell_type": "markdown",
   "id": "2cb734b0-1f43-478b-8c2e-b4923b312574",
   "metadata": {},
   "source": [
    "# construct df_mdb_wp"
   ]
  },
  {
   "cell_type": "code",
   "execution_count": 38,
   "id": "22eb0588-3f1e-447e-b82b-2bd600fde8f0",
   "metadata": {},
   "outputs": [
    {
     "name": "stdout",
     "output_type": "stream",
     "text": [
      "(11627, 20)\n"
     ]
    }
   ],
   "source": [
    "df_mdb_wp = get_mdb_wp_data(df_mdb)\n",
    "print(df_mdb_wp.shape)"
   ]
  },
  {
   "cell_type": "code",
   "execution_count": 39,
   "id": "47c471ca-f842-4b9f-aa75-6d354a818c8b",
   "metadata": {},
   "outputs": [
    {
     "data": {
      "text/html": [
       "<div>\n",
       "<style scoped>\n",
       "    .dataframe tbody tr th:only-of-type {\n",
       "        vertical-align: middle;\n",
       "    }\n",
       "\n",
       "    .dataframe tbody tr th {\n",
       "        vertical-align: top;\n",
       "    }\n",
       "\n",
       "    .dataframe thead th {\n",
       "        text-align: right;\n",
       "    }\n",
       "</style>\n",
       "<table border=\"1\" class=\"dataframe\">\n",
       "  <thead>\n",
       "    <tr style=\"text-align: right;\">\n",
       "      <th></th>\n",
       "      <th>ID</th>\n",
       "      <th>NACHNAME</th>\n",
       "      <th>VORNAME</th>\n",
       "      <th>GEBURTSDATUM</th>\n",
       "      <th>GEBURTSORT</th>\n",
       "      <th>GEBURTSLAND</th>\n",
       "      <th>STERBEDATUM</th>\n",
       "      <th>GESCHLECHT</th>\n",
       "      <th>FAMILIENSTAND</th>\n",
       "      <th>RELIGION</th>\n",
       "      <th>BERUF</th>\n",
       "      <th>PARTEI_KURZ</th>\n",
       "      <th>VITA_KURZ</th>\n",
       "      <th>VEROEFFENTLICHUNGSPFLICHTIGES</th>\n",
       "      <th>ANZ_WAHLPERIODEN</th>\n",
       "      <th>GEBURSDATUM_DATE</th>\n",
       "      <th>RELIGION_MAPPED</th>\n",
       "      <th>FAMILIENSTAND_MAPPED</th>\n",
       "      <th>BERUF_MAPPED</th>\n",
       "      <th>WP</th>\n",
       "    </tr>\n",
       "  </thead>\n",
       "  <tbody>\n",
       "    <tr>\n",
       "      <th>42355</th>\n",
       "      <td>11001478</td>\n",
       "      <td>Merkel</td>\n",
       "      <td>Angela</td>\n",
       "      <td>17.07.1954</td>\n",
       "      <td>Hamburg</td>\n",
       "      <td>UNBEKANNT</td>\n",
       "      <td>UNBEKANNT</td>\n",
       "      <td>weiblich</td>\n",
       "      <td>verheiratet</td>\n",
       "      <td>evangelisch</td>\n",
       "      <td>Bundeskanzlerin, Dipl.-Physikerin</td>\n",
       "      <td>CDU</td>\n",
       "      <td>1973 Abitur in Templin. Physikstudium Univ. Le...</td>\n",
       "      <td>4 Funktionen in Körperschaften und Anstalten d...</td>\n",
       "      <td>8</td>\n",
       "      <td>NaT</td>\n",
       "      <td>evangelisch</td>\n",
       "      <td>verheiratet_ohne_kinder</td>\n",
       "      <td>Berufspolitiker*in</td>\n",
       "      <td>12</td>\n",
       "    </tr>\n",
       "    <tr>\n",
       "      <th>46444</th>\n",
       "      <td>11001478</td>\n",
       "      <td>Merkel</td>\n",
       "      <td>Angela</td>\n",
       "      <td>17.07.1954</td>\n",
       "      <td>Hamburg</td>\n",
       "      <td>UNBEKANNT</td>\n",
       "      <td>UNBEKANNT</td>\n",
       "      <td>weiblich</td>\n",
       "      <td>verheiratet</td>\n",
       "      <td>evangelisch</td>\n",
       "      <td>Bundeskanzlerin, Dipl.-Physikerin</td>\n",
       "      <td>CDU</td>\n",
       "      <td>1973 Abitur in Templin. Physikstudium Univ. Le...</td>\n",
       "      <td>4 Funktionen in Körperschaften und Anstalten d...</td>\n",
       "      <td>8</td>\n",
       "      <td>NaT</td>\n",
       "      <td>evangelisch</td>\n",
       "      <td>verheiratet_ohne_kinder</td>\n",
       "      <td>Berufspolitiker*in</td>\n",
       "      <td>13</td>\n",
       "    </tr>\n",
       "    <tr>\n",
       "      <th>50533</th>\n",
       "      <td>11001478</td>\n",
       "      <td>Merkel</td>\n",
       "      <td>Angela</td>\n",
       "      <td>17.07.1954</td>\n",
       "      <td>Hamburg</td>\n",
       "      <td>UNBEKANNT</td>\n",
       "      <td>UNBEKANNT</td>\n",
       "      <td>weiblich</td>\n",
       "      <td>verheiratet</td>\n",
       "      <td>evangelisch</td>\n",
       "      <td>Bundeskanzlerin, Dipl.-Physikerin</td>\n",
       "      <td>CDU</td>\n",
       "      <td>1973 Abitur in Templin. Physikstudium Univ. Le...</td>\n",
       "      <td>4 Funktionen in Körperschaften und Anstalten d...</td>\n",
       "      <td>8</td>\n",
       "      <td>NaT</td>\n",
       "      <td>evangelisch</td>\n",
       "      <td>verheiratet_ohne_kinder</td>\n",
       "      <td>Berufspolitiker*in</td>\n",
       "      <td>14</td>\n",
       "    </tr>\n",
       "    <tr>\n",
       "      <th>54622</th>\n",
       "      <td>11001478</td>\n",
       "      <td>Merkel</td>\n",
       "      <td>Angela</td>\n",
       "      <td>17.07.1954</td>\n",
       "      <td>Hamburg</td>\n",
       "      <td>UNBEKANNT</td>\n",
       "      <td>UNBEKANNT</td>\n",
       "      <td>weiblich</td>\n",
       "      <td>verheiratet</td>\n",
       "      <td>evangelisch</td>\n",
       "      <td>Bundeskanzlerin, Dipl.-Physikerin</td>\n",
       "      <td>CDU</td>\n",
       "      <td>1973 Abitur in Templin. Physikstudium Univ. Le...</td>\n",
       "      <td>4 Funktionen in Körperschaften und Anstalten d...</td>\n",
       "      <td>8</td>\n",
       "      <td>NaT</td>\n",
       "      <td>evangelisch</td>\n",
       "      <td>verheiratet_ohne_kinder</td>\n",
       "      <td>Berufspolitiker*in</td>\n",
       "      <td>15</td>\n",
       "    </tr>\n",
       "    <tr>\n",
       "      <th>56261</th>\n",
       "      <td>11003591</td>\n",
       "      <td>Merkel</td>\n",
       "      <td>Petra</td>\n",
       "      <td>18.09.1947</td>\n",
       "      <td>Berlin</td>\n",
       "      <td>UNBEKANNT</td>\n",
       "      <td>UNBEKANNT</td>\n",
       "      <td>weiblich</td>\n",
       "      <td>geschieden, 1 Kind</td>\n",
       "      <td>evangelisch</td>\n",
       "      <td>Kaufmännische Angestellte</td>\n",
       "      <td>SPD</td>\n",
       "      <td>None</td>\n",
       "      <td>None</td>\n",
       "      <td>3</td>\n",
       "      <td>NaT</td>\n",
       "      <td>evangelisch</td>\n",
       "      <td>geschieden_mit_1_kind</td>\n",
       "      <td>Kaufmann/-frau</td>\n",
       "      <td>15</td>\n",
       "    </tr>\n",
       "  </tbody>\n",
       "</table>\n",
       "</div>"
      ],
      "text/plain": [
       "             ID NACHNAME VORNAME GEBURTSDATUM GEBURTSORT GEBURTSLAND  \\\n",
       "42355  11001478   Merkel  Angela   17.07.1954    Hamburg   UNBEKANNT   \n",
       "46444  11001478   Merkel  Angela   17.07.1954    Hamburg   UNBEKANNT   \n",
       "50533  11001478   Merkel  Angela   17.07.1954    Hamburg   UNBEKANNT   \n",
       "54622  11001478   Merkel  Angela   17.07.1954    Hamburg   UNBEKANNT   \n",
       "56261  11003591   Merkel   Petra   18.09.1947     Berlin   UNBEKANNT   \n",
       "\n",
       "      STERBEDATUM GESCHLECHT       FAMILIENSTAND     RELIGION  \\\n",
       "42355   UNBEKANNT   weiblich         verheiratet  evangelisch   \n",
       "46444   UNBEKANNT   weiblich         verheiratet  evangelisch   \n",
       "50533   UNBEKANNT   weiblich         verheiratet  evangelisch   \n",
       "54622   UNBEKANNT   weiblich         verheiratet  evangelisch   \n",
       "56261   UNBEKANNT   weiblich  geschieden, 1 Kind  evangelisch   \n",
       "\n",
       "                                   BERUF PARTEI_KURZ  \\\n",
       "42355  Bundeskanzlerin, Dipl.-Physikerin         CDU   \n",
       "46444  Bundeskanzlerin, Dipl.-Physikerin         CDU   \n",
       "50533  Bundeskanzlerin, Dipl.-Physikerin         CDU   \n",
       "54622  Bundeskanzlerin, Dipl.-Physikerin         CDU   \n",
       "56261          Kaufmännische Angestellte         SPD   \n",
       "\n",
       "                                               VITA_KURZ  \\\n",
       "42355  1973 Abitur in Templin. Physikstudium Univ. Le...   \n",
       "46444  1973 Abitur in Templin. Physikstudium Univ. Le...   \n",
       "50533  1973 Abitur in Templin. Physikstudium Univ. Le...   \n",
       "54622  1973 Abitur in Templin. Physikstudium Univ. Le...   \n",
       "56261                                               None   \n",
       "\n",
       "                           VEROEFFENTLICHUNGSPFLICHTIGES  ANZ_WAHLPERIODEN  \\\n",
       "42355  4 Funktionen in Körperschaften und Anstalten d...                 8   \n",
       "46444  4 Funktionen in Körperschaften und Anstalten d...                 8   \n",
       "50533  4 Funktionen in Körperschaften und Anstalten d...                 8   \n",
       "54622  4 Funktionen in Körperschaften und Anstalten d...                 8   \n",
       "56261                                               None                 3   \n",
       "\n",
       "      GEBURSDATUM_DATE RELIGION_MAPPED     FAMILIENSTAND_MAPPED  \\\n",
       "42355              NaT     evangelisch  verheiratet_ohne_kinder   \n",
       "46444              NaT     evangelisch  verheiratet_ohne_kinder   \n",
       "50533              NaT     evangelisch  verheiratet_ohne_kinder   \n",
       "54622              NaT     evangelisch  verheiratet_ohne_kinder   \n",
       "56261              NaT     evangelisch    geschieden_mit_1_kind   \n",
       "\n",
       "             BERUF_MAPPED  WP  \n",
       "42355  Berufspolitiker*in  12  \n",
       "46444  Berufspolitiker*in  13  \n",
       "50533  Berufspolitiker*in  14  \n",
       "54622  Berufspolitiker*in  15  \n",
       "56261      Kaufmann/-frau  15  "
      ]
     },
     "execution_count": 39,
     "metadata": {},
     "output_type": "execute_result"
    }
   ],
   "source": [
    "df_mdb_wp[df_mdb_wp.NACHNAME == 'Merkel'].head()"
   ]
  },
  {
   "cell_type": "markdown",
   "id": "158b8b22-fd41-485d-a928-3dd6b2a0da4a",
   "metadata": {},
   "source": [
    "# compute age"
   ]
  },
  {
   "cell_type": "code",
   "execution_count": 40,
   "id": "dfcc80d7-c8f1-4ed2-b9e3-da2d4f662153",
   "metadata": {},
   "outputs": [
    {
     "data": {
      "text/html": [
       "<div>\n",
       "<style scoped>\n",
       "    .dataframe tbody tr th:only-of-type {\n",
       "        vertical-align: middle;\n",
       "    }\n",
       "\n",
       "    .dataframe tbody tr th {\n",
       "        vertical-align: top;\n",
       "    }\n",
       "\n",
       "    .dataframe thead th {\n",
       "        text-align: right;\n",
       "    }\n",
       "</style>\n",
       "<table border=\"1\" class=\"dataframe\">\n",
       "  <thead>\n",
       "    <tr style=\"text-align: right;\">\n",
       "      <th></th>\n",
       "      <th>START_DATE</th>\n",
       "    </tr>\n",
       "  </thead>\n",
       "  <tbody>\n",
       "    <tr>\n",
       "      <th>1</th>\n",
       "      <td>1949-09-07</td>\n",
       "    </tr>\n",
       "    <tr>\n",
       "      <th>2</th>\n",
       "      <td>1953-10-06</td>\n",
       "    </tr>\n",
       "    <tr>\n",
       "      <th>3</th>\n",
       "      <td>1957-10-15</td>\n",
       "    </tr>\n",
       "    <tr>\n",
       "      <th>4</th>\n",
       "      <td>1961-10-17</td>\n",
       "    </tr>\n",
       "    <tr>\n",
       "      <th>5</th>\n",
       "      <td>1965-10-19</td>\n",
       "    </tr>\n",
       "    <tr>\n",
       "      <th>6</th>\n",
       "      <td>1969-10-20</td>\n",
       "    </tr>\n",
       "    <tr>\n",
       "      <th>7</th>\n",
       "      <td>1972-12-13</td>\n",
       "    </tr>\n",
       "    <tr>\n",
       "      <th>8</th>\n",
       "      <td>1976-12-14</td>\n",
       "    </tr>\n",
       "    <tr>\n",
       "      <th>9</th>\n",
       "      <td>1980-11-04</td>\n",
       "    </tr>\n",
       "    <tr>\n",
       "      <th>10</th>\n",
       "      <td>1983-03-29</td>\n",
       "    </tr>\n",
       "    <tr>\n",
       "      <th>11</th>\n",
       "      <td>1987-02-18</td>\n",
       "    </tr>\n",
       "    <tr>\n",
       "      <th>12</th>\n",
       "      <td>1990-12-20</td>\n",
       "    </tr>\n",
       "    <tr>\n",
       "      <th>13</th>\n",
       "      <td>1994-11-10</td>\n",
       "    </tr>\n",
       "    <tr>\n",
       "      <th>14</th>\n",
       "      <td>1998-10-26</td>\n",
       "    </tr>\n",
       "    <tr>\n",
       "      <th>15</th>\n",
       "      <td>2002-10-17</td>\n",
       "    </tr>\n",
       "    <tr>\n",
       "      <th>16</th>\n",
       "      <td>2005-10-18</td>\n",
       "    </tr>\n",
       "    <tr>\n",
       "      <th>17</th>\n",
       "      <td>2009-10-27</td>\n",
       "    </tr>\n",
       "    <tr>\n",
       "      <th>18</th>\n",
       "      <td>2013-10-22</td>\n",
       "    </tr>\n",
       "    <tr>\n",
       "      <th>19</th>\n",
       "      <td>2017-10-24</td>\n",
       "    </tr>\n",
       "    <tr>\n",
       "      <th>20</th>\n",
       "      <td>2021-10-26</td>\n",
       "    </tr>\n",
       "  </tbody>\n",
       "</table>\n",
       "</div>"
      ],
      "text/plain": [
       "    START_DATE\n",
       "1   1949-09-07\n",
       "2   1953-10-06\n",
       "3   1957-10-15\n",
       "4   1961-10-17\n",
       "5   1965-10-19\n",
       "6   1969-10-20\n",
       "7   1972-12-13\n",
       "8   1976-12-14\n",
       "9   1980-11-04\n",
       "10  1983-03-29\n",
       "11  1987-02-18\n",
       "12  1990-12-20\n",
       "13  1994-11-10\n",
       "14  1998-10-26\n",
       "15  2002-10-17\n",
       "16  2005-10-18\n",
       "17  2009-10-27\n",
       "18  2013-10-22\n",
       "19  2017-10-24\n",
       "20  2021-10-26"
      ]
     },
     "execution_count": 40,
     "metadata": {},
     "output_type": "execute_result"
    }
   ],
   "source": [
    "df_wp_startdaten = pd.read_csv(DF_MDB_WP_STARTDATEN_PATH, index_col=0)\n",
    "df_wp_startdaten"
   ]
  },
  {
   "cell_type": "code",
   "execution_count": 41,
   "id": "bb836550-28f9-41f9-9916-067fb1becdc0",
   "metadata": {},
   "outputs": [],
   "source": [
    "df_wp_startdaten['START_DATE'] = pd.to_datetime(df_wp_startdaten['START_DATE'])"
   ]
  },
  {
   "cell_type": "code",
   "execution_count": 42,
   "id": "79f4dae4-62c5-44da-b0e4-725b93878935",
   "metadata": {},
   "outputs": [],
   "source": [
    "df_mdb_wp = df_mdb_wp.join(df_wp_startdaten, on='WP')"
   ]
  },
  {
   "cell_type": "code",
   "execution_count": 43,
   "id": "446803f6-6eb8-4179-99b8-4b8b558482c0",
   "metadata": {},
   "outputs": [
    {
     "name": "stderr",
     "output_type": "stream",
     "text": [
      "/var/folders/s9/hrwvzf4j77g5lgp9_8n3z3s00000gn/T/ipykernel_67912/845667782.py:2: UserWarning: Parsing dates in DD/MM/YYYY format when dayfirst=False (the default) was specified. This may lead to inconsistently parsed dates! Specify a format to ensure consistent parsing.\n",
      "  df_mdb_wp['GEBURTSDATUM'] = pd.to_datetime(df_mdb_wp['GEBURTSDATUM'])\n"
     ]
    }
   ],
   "source": [
    "df_mdb_wp['START_DATE'] = pd.to_datetime(df_mdb_wp['START_DATE'])\n",
    "df_mdb_wp['GEBURTSDATUM'] = pd.to_datetime(df_mdb_wp['GEBURTSDATUM'])"
   ]
  },
  {
   "cell_type": "code",
   "execution_count": null,
   "id": "c9c95fa6-15c6-461e-9d52-4170f6cd4553",
   "metadata": {},
   "outputs": [],
   "source": []
  },
  {
   "cell_type": "code",
   "execution_count": null,
   "id": "e9001f69-5778-4e10-a480-ded45e883be3",
   "metadata": {},
   "outputs": [],
   "source": [
    "def match_age(x):\n",
    "    if x < 30:\n",
    "        return ('< 30')\n",
    "    elif x < 40:\n",
    "        return('30 - 40')\n",
    "    elif x < 50:\n",
    "        return('40 - 50')\n",
    "    elif x < 60:\n",
    "        return('50 - 60')\n",
    "    elif x < 70:\n",
    "        return('70 - 80')\n",
    "    else:\n",
    "        return('>= 80')"
   ]
  },
  {
   "cell_type": "code",
   "execution_count": null,
   "id": "1611b415-ae3c-4c48-8eed-9e0e2482e00d",
   "metadata": {},
   "outputs": [],
   "source": [
    "match_age(80)"
   ]
  },
  {
   "cell_type": "code",
   "execution_count": null,
   "id": "8c890f84-e39a-42aa-890b-2080d1b9dad4",
   "metadata": {},
   "outputs": [],
   "source": [
    "df_mdb_wp['START_AGE_IN_YEARS'] = df_mdb_wp['START_DATE'] - df_mdb_wp['GEBURTSDATUM']\n",
    "df_mdb_wp['START_AGE_IN_YEARS'] = df_mdb_wp['START_AGE_IN_YEARS']/np.timedelta64(1,'Y')\n",
    "\n",
    "df_mdb_wp"
   ]
  },
  {
   "cell_type": "code",
   "execution_count": null,
   "id": "f003151d-29be-4b82-bc22-9fe7612054e8",
   "metadata": {},
   "outputs": [],
   "source": [
    "df_mdb_wp['START_AGE_IN_YEARS'].hist(bins=32)"
   ]
  },
  {
   "cell_type": "code",
   "execution_count": null,
   "id": "c0113af9-7ca5-493a-b095-36b725ae624e",
   "metadata": {},
   "outputs": [],
   "source": [
    "#df_mdb_wp['START_AGE_IN_YEARS'].plot(kind='bar')\n",
    "df_mdb_wp['START_AGE_IN_YEARS'][:4]"
   ]
  },
  {
   "cell_type": "code",
   "execution_count": null,
   "id": "65e66460-ba0c-42a4-a000-eadbe2992474",
   "metadata": {},
   "outputs": [],
   "source": [
    "df_mdb_wp['START_AGE_IN_YEARS_MAPPED'] = df_mdb_wp['START_AGE_IN_YEARS'].apply(lambda x: match_age(x)) \n",
    "df_mdb_wp['START_AGE_IN_YEARS_MAPPED'].hist()"
   ]
  },
  {
   "cell_type": "code",
   "execution_count": null,
   "id": "5f4e658f-4599-4567-9a52-1a383493dcd3",
   "metadata": {},
   "outputs": [],
   "source": [
    "list_of_altersklassen = sorted(list(set(df_mdb_wp['START_AGE_IN_YEARS_MAPPED'])))\n",
    "list_of_altersklassen = ['< 30', '30 - 40', '40 - 50', '50 - 60', '70 - 80',  '>= 80']\n",
    "list_of_altersklassen"
   ]
  },
  {
   "cell_type": "code",
   "execution_count": null,
   "id": "8c065e03-c853-4a66-840f-daeaef2e75c8",
   "metadata": {},
   "outputs": [],
   "source": []
  },
  {
   "cell_type": "markdown",
   "id": "7e678d59-7678-42cf-80d7-1f777db2141c",
   "metadata": {},
   "source": [
    "# Jahre im Amt"
   ]
  },
  {
   "cell_type": "code",
   "execution_count": null,
   "id": "9eccd261-c3e3-489b-a549-85a94b5f1417",
   "metadata": {},
   "outputs": [],
   "source": [
    "df_mdb_wp = df_mdb_wp.join(df_mdb_wp[['ID', 'START_DATE']].groupby('ID').min(), how='left', rsuffix='_FIRST', on='ID')"
   ]
  },
  {
   "cell_type": "code",
   "execution_count": null,
   "id": "e48dc9f3-d722-4f16-a620-d023421e83e2",
   "metadata": {},
   "outputs": [],
   "source": [
    "df_mdb_wp['NUM_YEARS_IN_BT'] = df_mdb_wp['START_DATE'] - df_mdb_wp['START_DATE_FIRST']\n",
    "df_mdb_wp['NUM_YEARS_IN_BT'] = df_mdb_wp['NUM_YEARS_IN_BT']/np.timedelta64(1,'Y')"
   ]
  },
  {
   "cell_type": "code",
   "execution_count": null,
   "id": "4771e246-aef7-4654-af86-1fa02937b467",
   "metadata": {},
   "outputs": [],
   "source": [
    "df_mdb_wp.shape"
   ]
  },
  {
   "cell_type": "code",
   "execution_count": null,
   "id": "6a594439-014a-4c53-86b9-9f86989e6ead",
   "metadata": {},
   "outputs": [],
   "source": [
    "df_mdb_wp.columns"
   ]
  },
  {
   "cell_type": "code",
   "execution_count": null,
   "id": "3f4014e1-9094-43a4-ad72-b5c263f125e7",
   "metadata": {},
   "outputs": [],
   "source": [
    "# delemte\n",
    "selected_df = df_mdb_wp[(df_mdb_wp['WP']>= 1) & (df_mdb_wp['WP']<= 19)]\n",
    "#selected_df = selected_df[selected_df['PARTEI_KURZ'].isin(selected_parteien)]\n",
    "grouped = selected_df[['ID', 'START_DATE', 'NUM_YEARS_IN_BT', 'PARTEI_KURZ']].groupby(['START_DATE', 'PARTEI_KURZ']).mean()"
   ]
  },
  {
   "cell_type": "code",
   "execution_count": null,
   "id": "913de320-e88b-44b9-9678-db5135298b77",
   "metadata": {},
   "outputs": [],
   "source": [
    "grouped.reset_index(inplace=True)"
   ]
  },
  {
   "cell_type": "code",
   "execution_count": null,
   "id": "8cf44519-9ae3-475b-a9c1-d90bb0f51ba9",
   "metadata": {},
   "outputs": [],
   "source": [
    "# delemte\n",
    "grouped[grouped['PARTEI_KURZ']=='CDU']['NUM_YEARS_IN_BT'].plot()"
   ]
  },
  {
   "cell_type": "code",
   "execution_count": null,
   "id": "0c26e11f-5e63-4889-abfa-c02b00518395",
   "metadata": {},
   "outputs": [],
   "source": [
    "# deleteme \n",
    "grouped[grouped['START_DATE']=='2017-10-24']\n",
    "# START_DATE"
   ]
  },
  {
   "cell_type": "code",
   "execution_count": null,
   "id": "628acdd2-4b9d-4a18-af46-8c1adaa25a58",
   "metadata": {},
   "outputs": [],
   "source": []
  },
  {
   "cell_type": "code",
   "execution_count": null,
   "id": "1356cbf5-403e-4d81-b592-af3d117c2a5c",
   "metadata": {},
   "outputs": [],
   "source": []
  },
  {
   "cell_type": "code",
   "execution_count": null,
   "id": "85bdb178-599e-4250-aced-5a13f76e9d6a",
   "metadata": {},
   "outputs": [],
   "source": [
    "import plotly.graph_objects as go\n",
    "import plotly.express as px\n",
    "\n",
    "selected_parties=['SPD', 'CDU', 'FDP', 'CSU']\n",
    "selected_df = df_mdb_wp[(df_mdb_wp['WP']>= 1) & (df_mdb_wp['WP']<= 19)]\n",
    "selected_df = selected_df[selected_df['PARTEI_KURZ'].isin(selected_parties)]\n",
    "grouped = selected_df[['ID', 'START_DATE', 'NUM_YEARS_IN_BT', 'PARTEI_KURZ']].groupby(['START_DATE', 'PARTEI_KURZ']).mean()\n",
    "#grouped.reset_index(inplace=True)\n",
    "grouped.head()"
   ]
  },
  {
   "cell_type": "code",
   "execution_count": null,
   "id": "04c6b41d-9b81-441b-a477-0f46c3203cd8",
   "metadata": {},
   "outputs": [],
   "source": [
    "#new_index = pd.MultiIndex.from_product([selected_parties, sorted(set(grouped.reset_index()['WP']))], names=['PARTEI_KURZ', 'WP'])\n",
    "new_index = pd.MultiIndex.from_product([grouped.index.levels[0], grouped.index.levels[1]], names=['START_DATE', 'PARTEI_KURZ'])\n",
    "new_index#"
   ]
  },
  {
   "cell_type": "code",
   "execution_count": null,
   "id": "5cdb94db-6490-4089-936e-48d477770e56",
   "metadata": {},
   "outputs": [],
   "source": [
    "    # create entries also for 0 values\n",
    "grouped_reindexed = grouped.reindex(new_index, fill_value=0)\n",
    "grouped_reindexed.head(12)"
   ]
  },
  {
   "cell_type": "code",
   "execution_count": null,
   "id": "d9c908ff-59ce-46f1-9c02-90f85954ddf8",
   "metadata": {},
   "outputs": [],
   "source": [
    "# double deleteme\n",
    "df_mdb_wp.sort_values(by='NUM_YEARS_IN_BT')[['NACHNAME', 'VORNAME', 'PARTEI_KURZ', 'WP', 'NUM_YEARS_IN_BT']].tail()"
   ]
  },
  {
   "cell_type": "code",
   "execution_count": null,
   "id": "66855184-58d5-4b45-99e4-99b8ae98b762",
   "metadata": {},
   "outputs": [],
   "source": [
    "df_mdb_wp[df_mdb_wp.PARTEI_KURZ=='FDP'].sort_values(by='NUM_YEARS_IN_BT')[['NACHNAME', 'VORNAME', 'PARTEI_KURZ', 'WP', 'NUM_YEARS_IN_BT']].tail()"
   ]
  },
  {
   "cell_type": "code",
   "execution_count": null,
   "id": "eef9da1a-5b3c-496f-bec6-56e59305172a",
   "metadata": {},
   "outputs": [],
   "source": [
    "grouped_reindexed.reset_index(inplace=True)"
   ]
  },
  {
   "cell_type": "code",
   "execution_count": null,
   "id": "a3d184df-8701-44cf-982b-d9720801f2ad",
   "metadata": {},
   "outputs": [],
   "source": [
    "# make it orderable\n",
    "grouped_reindexed['PARTEI_KURZ'] = pd.Categorical(grouped_reindexed['PARTEI_KURZ'], selected_parties)"
   ]
  },
  {
   "cell_type": "code",
   "execution_count": null,
   "id": "02e06c8e-c720-4704-bf6f-a0902b25496f",
   "metadata": {},
   "outputs": [],
   "source": [
    "grouped_reindexed.sort_values(by=['START_DATE', 'PARTEI_KURZ'], inplace=True)"
   ]
  },
  {
   "cell_type": "code",
   "execution_count": null,
   "id": "62466edd-b490-4068-8d43-75604f8f40f8",
   "metadata": {},
   "outputs": [],
   "source": [
    "#fig = px.scatter(x=grouped['NUM_YEARS_IN_BT'].index, y= grouped['NUM_YEARS_IN_BT'])\n",
    "fig = go.Figure(data=px.line(grouped_reindexed, x='START_DATE', y= 'NUM_YEARS_IN_BT', \n",
    "                                color='PARTEI_KURZ', color_discrete_sequence = LIST_OF_COLORS))\n",
    "fig.update_layout(title='Bleibedauer der Abgeordneten im Bundestag',\n",
    "               xaxis_title='',\n",
    "               yaxis_title='Jahre im BT bei Beginn der WP')\n",
    "fig.show()"
   ]
  },
  {
   "cell_type": "code",
   "execution_count": null,
   "id": "d419548a-de81-425c-b4cb-9433dfc2e020",
   "metadata": {},
   "outputs": [],
   "source": [
    "# end deleteme"
   ]
  },
  {
   "cell_type": "markdown",
   "id": "9235e24c-7820-4d2c-95d9-cb111974cffc",
   "metadata": {},
   "source": [
    "# save as csv"
   ]
  },
  {
   "cell_type": "code",
   "execution_count": null,
   "id": "b391fce5-2b33-4bdf-8f88-edb6aa19f532",
   "metadata": {},
   "outputs": [],
   "source": [
    "df_mdb.to_csv(DF_MDB_PATH, index=None)\n",
    "df_mdb_wp.to_csv(DF_MDB_WP_PATH, index=None)"
   ]
  },
  {
   "cell_type": "markdown",
   "id": "439eead9-6883-4edb-b1f4-f53c9a156f13",
   "metadata": {},
   "source": [
    "# read in data. exploratory data analysis"
   ]
  },
  {
   "cell_type": "code",
   "execution_count": null,
   "id": "5d51940f-459e-4b79-8e25-c07ee7c7b58d",
   "metadata": {},
   "outputs": [],
   "source": [
    "df_mdb = pd.read_csv(DF_MDB_PATH, index_col=None)\n",
    "df_mdb_wp = pd.read_csv(DF_MDB_WP_PATH, index_col=None)"
   ]
  },
  {
   "cell_type": "code",
   "execution_count": null,
   "id": "46c8cb00-8f21-4ea9-9a75-1bada0985a70",
   "metadata": {},
   "outputs": [],
   "source": [
    "df_mdb.columns"
   ]
  },
  {
   "cell_type": "code",
   "execution_count": null,
   "id": "f911c372-4cfa-4cb4-b796-9d9e0ba3e447",
   "metadata": {},
   "outputs": [],
   "source": [
    "df_mdb.tail()"
   ]
  },
  {
   "cell_type": "code",
   "execution_count": null,
   "id": "f4d54d7c-24e6-4968-a67b-ac4ec883cb41",
   "metadata": {},
   "outputs": [],
   "source": [
    "df_mdb_wp[['ID', 'WP']].groupby('WP').count().sort_values(by='WP', ascending=False).head()"
   ]
  },
  {
   "cell_type": "markdown",
   "id": "863eb41d-0086-45cb-a1a1-ec55f8dbeef3",
   "metadata": {},
   "source": [
    "# quality checks"
   ]
  },
  {
   "cell_type": "code",
   "execution_count": null,
   "id": "8a37b643-1c10-4611-a711-1902e9a96113",
   "metadata": {},
   "outputs": [],
   "source": [
    "df_mdb_wp[(df_mdb_wp.WP==19) & (df_mdb_wp.PARTEI_KURZ == 'CDU')]"
   ]
  },
  {
   "cell_type": "code",
   "execution_count": null,
   "id": "49a500ea-dfec-496f-86dd-25504a9d3580",
   "metadata": {},
   "outputs": [],
   "source": []
  },
  {
   "cell_type": "code",
   "execution_count": null,
   "id": "b24b94cd-fef3-4654-891b-3fa817349f96",
   "metadata": {},
   "outputs": [],
   "source": [
    "df_mdb_wp[(df_mdb_wp.WP==18) & (df_mdb_wp.PARTEI_KURZ == 'CDU') & (df_mdb_wp.BERUF.str.contains('Bürgermeister'))]"
   ]
  },
  {
   "cell_type": "code",
   "execution_count": null,
   "id": "0fe3f529-eb3c-4df4-9a4c-51840c8fe8ca",
   "metadata": {},
   "outputs": [],
   "source": []
  },
  {
   "cell_type": "code",
   "execution_count": null,
   "id": "c8fbefa2-06e2-487c-b2e7-0ac7b1fb97ec",
   "metadata": {},
   "outputs": [],
   "source": []
  },
  {
   "cell_type": "code",
   "execution_count": null,
   "id": "53e74498-0cd5-48a7-9c53-4982fa1792d1",
   "metadata": {},
   "outputs": [],
   "source": []
  },
  {
   "cell_type": "code",
   "execution_count": null,
   "id": "b27c7a8c-68f9-4ea1-ab74-96f886d343d1",
   "metadata": {},
   "outputs": [],
   "source": []
  }
 ],
 "metadata": {
  "kernelspec": {
   "display_name": "Python 3 (ipykernel)",
   "language": "python",
   "name": "python3"
  },
  "language_info": {
   "codemirror_mode": {
    "name": "ipython",
    "version": 3
   },
   "file_extension": ".py",
   "mimetype": "text/x-python",
   "name": "python",
   "nbconvert_exporter": "python",
   "pygments_lexer": "ipython3",
   "version": "3.11.2"
  }
 },
 "nbformat": 4,
 "nbformat_minor": 5
}
