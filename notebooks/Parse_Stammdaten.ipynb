{
 "cells": [
  {
   "cell_type": "markdown",
   "id": "ccc0ce95-6434-463f-b2a1-38d2154b7e51",
   "metadata": {},
   "source": [
    "### Quelle der Daten: \n",
    "https://www.bundestag.de/services/opendata\n",
    "\n",
    "### Erläuterungen\n",
    "WP steht für Wahlperiode"
   ]
  },
  {
   "cell_type": "code",
   "execution_count": 1,
   "id": "9cb49260-30aa-4491-af56-f63eac939d04",
   "metadata": {},
   "outputs": [],
   "source": [
    "#TODO: this is not the best way \n",
    "import sys\n",
    "sys.path.append(\"../src\")"
   ]
  },
  {
   "cell_type": "code",
   "execution_count": 2,
   "id": "26e608bc-1a79-47d1-99e9-fc4e6495e7da",
   "metadata": {},
   "outputs": [
    {
     "ename": "NameError",
     "evalue": "name 'os' is not defined",
     "output_type": "error",
     "traceback": [
      "\u001b[0;31m---------------------------------------------------------------------------\u001b[0m",
      "\u001b[0;31mNameError\u001b[0m                                 Traceback (most recent call last)",
      "Cell \u001b[0;32mIn[2], line 12\u001b[0m\n\u001b[1;32m     10\u001b[0m \u001b[38;5;28;01mfrom\u001b[39;00m \u001b[38;5;21;01mtyping\u001b[39;00m \u001b[38;5;28;01mimport\u001b[39;00m Dict, List\n\u001b[1;32m     11\u001b[0m \u001b[38;5;28;01mfrom\u001b[39;00m \u001b[38;5;21;01mcollections\u001b[39;00m \u001b[38;5;28;01mimport\u001b[39;00m defaultdict\n\u001b[0;32m---> 12\u001b[0m \u001b[38;5;28;01mfrom\u001b[39;00m \u001b[38;5;21;01mconfig\u001b[39;00m \u001b[38;5;28;01mimport\u001b[39;00m LIST_OF_COLORS\n",
      "File \u001b[0;32m~/code/bundestag-mining/notebooks/../src/config.py:9\u001b[0m\n\u001b[1;32m      6\u001b[0m LIST_OF_COLORS \u001b[38;5;241m=\u001b[39m LIST_OF_COLORS \u001b[38;5;241m+\u001b[39m LIST_OF_COLORS\n\u001b[1;32m      8\u001b[0m \u001b[38;5;66;03m# Pfad zum Hauptverzeichnis des Projekts\u001b[39;00m\n\u001b[0;32m----> 9\u001b[0m PROJECT_ROOT \u001b[38;5;241m=\u001b[39m Path(\u001b[43mos\u001b[49m\u001b[38;5;241m.\u001b[39mgetcwd())\u001b[38;5;241m.\u001b[39mparent\n\u001b[1;32m     11\u001b[0m DATA_PATH \u001b[38;5;241m=\u001b[39m PROJECT_ROOT \u001b[38;5;241m/\u001b[39m \u001b[38;5;124m'\u001b[39m\u001b[38;5;124mdata\u001b[39m\u001b[38;5;124m'\u001b[39m\n\u001b[1;32m     12\u001b[0m PLOT_PATH \u001b[38;5;241m=\u001b[39m PROJECT_ROOT \u001b[38;5;241m/\u001b[39m \u001b[38;5;124m'\u001b[39m\u001b[38;5;124mplots\u001b[39m\u001b[38;5;124m'\u001b[39m\n",
      "\u001b[0;31mNameError\u001b[0m: name 'os' is not defined"
     ]
    }
   ],
   "source": [
    "from pathlib import Path\n",
    "import os\n",
    "import pandas as pd\n",
    "import numpy as np\n",
    "import re\n",
    "from datetime import datetime\n",
    "import matplotlib.pyplot as plt\n",
    "import seaborn as sns\n",
    "import xml.etree.ElementTree as ET\n",
    "from typing import Dict, List\n",
    "from collections import defaultdict\n",
    "from config import LIST_OF_COLORS"
   ]
  },
  {
   "cell_type": "code",
   "execution_count": null,
   "id": "d99274f0-6db8-4ddf-a75d-48b954b4ac75",
   "metadata": {},
   "outputs": [],
   "source": [
    "sns.set_theme()"
   ]
  },
  {
   "cell_type": "code",
   "execution_count": null,
   "id": "6b155448-86de-4034-959a-7ee3f7ec5fcd",
   "metadata": {},
   "outputs": [],
   "source": [
    "# Pfad zum Hauptverzeichnis des Projekts\n",
    "PROJECT_ROOT = Path(os.getcwd()).parent\n",
    "\n",
    "DATA_PATH = PROJECT_ROOT / 'data'\n",
    "PLOT_PATH = PROJECT_ROOT / 'plots'\n",
    "\n",
    "CURRENT_YEAR = '2021'  # oder '2024' für aktuelle Daten\n",
    "\n",
    "MDB_XML_PATH = DATA_PATH / CURRENT_YEAR / 'input' / 'MDB_STAMMDATEN.XML'\n",
    "\n",
    "#one row per individuum, one col per wp containing 0 / 1\n",
    "DF_MDB_PATH = DATA_PATH / CURRENT_YEAR / 'output' / 'df_mdb.csv'\n",
    "\n",
    "# one row per individuum per wp, containting e.g. 12. so one abgeordneter who has been in parliament for several wp will receive one row per wp\n",
    "DF_MDB_WP_PATH = DATA_PATH / CURRENT_YEAR / 'output' / 'df_mdb_wp.csv' \n",
    "\n",
    "# startdaten der Wahlperioden\n",
    "DF_MDB_WP_STARTDATEN_PATH = DATA_PATH / CURRENT_YEAR / 'output' / 'wp_startdaten.csv'"
   ]
  },
  {
   "cell_type": "markdown",
   "id": "8d597687-4d1e-4d44-bd4c-d03d98c9ed0b",
   "metadata": {},
   "source": [
    "# parse xml data into dataFrame / .csv fomat"
   ]
  },
  {
   "cell_type": "code",
   "execution_count": null,
   "id": "88fe5b94-1517-472c-aef3-4f39726557f0",
   "metadata": {},
   "outputs": [],
   "source": [
    "def get_mdb_data(mdb_xml_path: Path = MDB_XML_PATH) -> pd.DataFrame:\n",
    "    \"\"\"Parse MDB XML data and return a DataFrame.\"\"\"\n",
    "    tree = ET.parse(mdb_xml_path)\n",
    "    root = tree.getroot()\n",
    "\n",
    "    mdb_list = []\n",
    "    for mdb in root.findall('MDB'):\n",
    "        mdb_dict = defaultdict(lambda: 0)\n",
    "        mdb_dict['ID'] = mdb.find('ID').text\n",
    "        namen = mdb.find('NAMEN/NAME')\n",
    "        mdb_dict['NACHNAME'] = namen.find('NACHNAME').text\n",
    "        mdb_dict['VORNAME'] = namen.find('VORNAME').text\n",
    "\n",
    "        bio = mdb.find('BIOGRAFISCHE_ANGABEN')\n",
    "        for element in bio:\n",
    "            mdb_dict[element.tag] = element.text\n",
    "\n",
    "        wahlperioden = mdb.find('WAHLPERIODEN')\n",
    "        mdb_dict['ANZ_WAHLPERIODEN'] = len(wahlperioden)\n",
    "        for wp in wahlperioden:\n",
    "            mdb_dict[int(wp.find('WP').text)] = 1\n",
    "\n",
    "        mdb_list.append(dict(mdb_dict))\n",
    "\n",
    "    return pd.DataFrame(mdb_list)"
   ]
  },
  {
   "cell_type": "code",
   "execution_count": null,
   "id": "d1bb74f3-12a5-4698-a1f5-776cdd0be454",
   "metadata": {},
   "outputs": [],
   "source": [
    "def get_mdb_wp_data(df_mdb: pd.DataFrame) -> pd.DataFrame:\n",
    "    \"\"\"\n",
    "    Reformat data from wide to long format, creating one row per person per Wahlperiode.\n",
    "    \"\"\"\n",
    "    wps: List[int] = [col for col in df_mdb.columns if isinstance(col, int)]\n",
    "    columns_to_keep: List[str] = [col for col in df_mdb.columns if not isinstance(col, int)]\n",
    "    \n",
    "    # Melt the dataframe to long format\n",
    "    df_long = df_mdb.melt(id_vars=columns_to_keep, \n",
    "                          value_vars=wps, \n",
    "                          var_name='WP', \n",
    "                          value_name='is_active')\n",
    "    \n",
    "    # Filter only active Wahlperioden and drop the 'is_active' column\n",
    "    return df_long[df_long['is_active'] == 1].drop('is_active', axis=1)\n"
   ]
  },
  {
   "cell_type": "code",
   "execution_count": null,
   "id": "678fb266-28a6-489e-85f2-b08d63c11ab8",
   "metadata": {},
   "outputs": [],
   "source": [
    "df_mdb = get_mdb_data(MDB_XML_PATH)\n",
    "print(df_mdb.shape)\n",
    "df_mdb.head()"
   ]
  },
  {
   "cell_type": "code",
   "execution_count": null,
   "id": "ce4b1366-2557-4991-9f9a-34930d80c43e",
   "metadata": {},
   "outputs": [],
   "source": [
    "df_mdb_wp = get_mdb_wp_data(df_mdb)"
   ]
  },
  {
   "cell_type": "code",
   "execution_count": null,
   "id": "c82b9078-1121-4424-bc10-fdb13fe7eea6",
   "metadata": {},
   "outputs": [],
   "source": [
    "# deleteme\n",
    "df_mdb_wp[df_mdb_wp.BERUF.str.contains('jurist', na=False)][['NACHNAME', 'VORNAME']]"
   ]
  },
  {
   "cell_type": "markdown",
   "id": "fc3e1891-3db0-49e1-9c07-1506c4f22a48",
   "metadata": {},
   "source": [
    "# compute Age"
   ]
  },
  {
   "cell_type": "code",
   "execution_count": null,
   "id": "e6dc9713-83f1-438c-873d-ea56f1350e9a",
   "metadata": {},
   "outputs": [],
   "source": [
    "df_mdb['GEBURSDATUM_DATE'] = pd.to_datetime(df_mdb.GEBURTSDATUM, format='%d/%m/%Y', errors='coerce')"
   ]
  },
  {
   "cell_type": "code",
   "execution_count": null,
   "id": "fd3d5e6b-dc45-41e6-9e61-234c4c04d2bc",
   "metadata": {},
   "outputs": [],
   "source": [
    "df_mdb.head()"
   ]
  },
  {
   "cell_type": "code",
   "execution_count": null,
   "id": "52bd881e-39d1-4d71-a178-bd4c0cffe6f9",
   "metadata": {},
   "outputs": [],
   "source": [
    "wp_startdaten = {\n",
    "    1:datetime(1949, 9, 7), # Der 1. Deutsche Bundestag bestand zwischen dem 7. September 1949[1] und dem 7. September 1953\n",
    "    2:datetime(1953, 10, 6), # Der 2. Deutsche Bundestag bestand zwischen dem 6. Oktober 1953[1] und dem 6. Oktober 1957\n",
    "    3:datetime(1957, 10, 15), # Der 3. Deutsche Bundestag bestand zwischen dem 15. Oktober 1957[1] und dem 15. Oktober 1961\n",
    "    4:datetime(1961, 10, 17), # Der 4. Deutsche Bundestag bestand zwischen dem 17. Oktober 1961[1] und dem 17. Oktober 196\n",
    "    5:datetime(1965, 10, 19), # Der 5. Deutsche Bundestag bestand zwischen dem 19. Oktober 1965[1] und dem 19. Oktober 1969\n",
    "    6:datetime(1969, 10, 20), # Der 6. Deutsche Bundestag bestand zwischen dem 20. Oktober 1969[1] und dem 13. Dezember 1972\n",
    "    7:datetime(1972, 12, 13), #? Der 7. Deutsche Bundestag wurde am 19. November 1972 gewählt\n",
    "    8:datetime(1976, 12, 14), # Der 8. Deutsche Bundestag bestand zwischen dem 14. Dezember 1976[1] und dem 4. November 1980\n",
    "    9:datetime(1980, 11, 4),# Der 9. Deutsche Bundestag bestand zwischen dem 4. November 1980[1] und dem 29. März 1983\n",
    "    10:datetime(1983, 3, 29), # Der 10. Deutsche Bundestag bestand zwischen dem 29. März 1983[1] und dem 18. Februar 1987\n",
    "    11:datetime(1987, 2, 18), # Der 11. Deutsche Bundestag bestand zwischen dem 18. Februar 1987[1] und dem 20. Dezember 1990\n",
    "    12:datetime(1990, 12, 20), # Der 12. Deutsche Bundestag bestand zwischen dem 20. Dezember 1990[1] und dem 10. November 1994\n",
    "    13:datetime(1994, 11, 10), # Der 13. Deutsche Bundestag bestand zwischen dem 10. November 1994[1] und dem 26. Oktober 1998\n",
    "    14:datetime(1998, 10, 26), # Der 14. Deutsche Bundestag bestand zwischen dem 26. Oktober 1998[1] und dem 17. Oktober 2002\n",
    "    15:datetime(2002, 10, 17), # Der 15. Deutsche Bundestag bestand zwischen dem 17. Oktober 2002[1] und dem 18. Oktober 2005\n",
    "    16:datetime(2005, 10, 18), # Der 16. Deutsche Bundestag bestand zwischen dem 18. Oktober 2005[1] und dem 27. Oktober 2009\n",
    "    17:datetime(2009, 10, 27), # Der 17. Deutsche Bundestag bestand zwischen dem 27. Oktober 2009[1] und dem 22. Oktober 2013\n",
    "    18:datetime(2013, 10, 22), # Der 18. Deutsche Bundestag bestand vom 22. Oktober 2013 bis zum 24. Oktober 2017\n",
    "    19:datetime(2017, 10, 24), #  Seine konstituierende Sitzung fand am 24. Oktober 2017 statt,\n",
    "    20:datetime(2021, 10, 26) #Die Wahlperiode begann mit der konstituierenden Sitzung am 26. Oktober 2021\n",
    "}\n",
    "\n",
    "df_wp_startdaten=pd.DataFrame(wp_startdaten, index=[0]).T\n",
    "df_wp_startdaten.columns =[ 'START_DATE']\n",
    "print(df_wp_startdaten.head())\n",
    "df_wp_startdaten.to_csv(DF_MDB_WP_STARTDATEN_PATH)"
   ]
  },
  {
   "cell_type": "markdown",
   "id": "31752204-92de-476c-a005-b31578d8e944",
   "metadata": {},
   "source": [
    "## Insight: es werden immer mehr Abgeordnete"
   ]
  },
  {
   "cell_type": "code",
   "execution_count": null,
   "id": "f3417b91-c51e-4030-82f9-300220020e6e",
   "metadata": {},
   "outputs": [],
   "source": [
    "# Daten vorbereiten\n",
    "wps = [column for column in df_mdb.columns if isinstance(column, int)]\n",
    "abgeordnete_pro_wp = df_mdb[wps].sum().sort_index()\n",
    "\n",
    "# Plot erstellen\n",
    "fig, ax = plt.subplots(figsize=(14, 8))\n",
    "\n",
    "# Balkendiagramm\n",
    "sns.barplot(x=abgeordnete_pro_wp.index, y=abgeordnete_pro_wp.values, ax=ax)\n",
    "\n",
    "# Beschriftungen hinzufügen\n",
    "ax.set_title('Anzahl der Abgeordneten pro Wahlperiode', fontsize=20)\n",
    "ax.set_xlabel('Wahlperiode', fontsize=14)\n",
    "ax.set_ylabel('Anzahl der Abgeordneten', fontsize=14)\n",
    "\n",
    "# Werte über den Balken anzeigen (als ganze Zahlen)\n",
    "for i, v in enumerate(abgeordnete_pro_wp.values):\n",
    "    ax.text(i, v + 5, f'{int(v)}', ha='center', va='bottom')\n",
    "\n",
    "# Y-Achse bei 0 beginnen lassen und bis zum maximalen Wert plus etwas Abstand gehen\n",
    "y_max = max(abgeordnete_pro_wp.values)\n",
    "ax.set_ylim(0, y_max * 1.1)  # 10% Abstand nach oben für die Beschriftungen\n",
    "\n",
    "# Grid für bessere Lesbarkeit\n",
    "ax.grid(axis='y', linestyle='--', alpha=0.7)\n",
    "\n",
    "# Layout optimieren\n",
    "plt.tight_layout()\n",
    "\n",
    "# SVG\n",
    "plt.savefig(PLOT_PATH / 'anzahl_abgeordneter.svg', format='svg', dpi=300, bbox_inches='tight')\n",
    "plt.show()"
   ]
  },
  {
   "cell_type": "code",
   "execution_count": null,
   "id": "2092cfd8-8649-432e-8591-23cdc087f37e",
   "metadata": {},
   "outputs": [],
   "source": [
    "df_mdb[wps].sum().sort_index().tail()"
   ]
  },
  {
   "cell_type": "code",
   "execution_count": null,
   "id": "176b908c-6a91-4c10-8bec-bfae4f92b4be",
   "metadata": {},
   "outputs": [],
   "source": [
    "# total number of abgeordnete (counting multiple wps as multiple entries)\n",
    "df_mdb[wps].sum().sum()"
   ]
  },
  {
   "cell_type": "markdown",
   "id": "d64005e2-4f27-4020-b486-c7fa0554cee4",
   "metadata": {},
   "source": [
    "# look at one VITA KURZ"
   ]
  },
  {
   "cell_type": "code",
   "execution_count": null,
   "id": "baaaf173-48af-444c-9f2b-914e4d291491",
   "metadata": {},
   "outputs": [],
   "source": [
    "import pprint\n",
    "pp = pprint.PrettyPrinter(indent=4)\n",
    "pp.pprint(df_mdb_wp[df_mdb_wp.NACHNAME =='Baerbock'].iloc[0].VITA_KURZ)"
   ]
  },
  {
   "cell_type": "markdown",
   "id": "f0649f48-0e07-4233-ab60-77bbd5a44d96",
   "metadata": {},
   "source": [
    "# clean data 1. missing values"
   ]
  },
  {
   "cell_type": "code",
   "execution_count": null,
   "id": "4e0356b1-a584-4cf0-846a-f72b0d388ba4",
   "metadata": {},
   "outputs": [],
   "source": [
    "dimensions_replace_na = ['NACHNAME', 'VORNAME', 'GEBURTSDATUM', 'GEBURTSORT', 'GEBURTSLAND', 'STERBEDATUM', 'GESCHLECHT', 'FAMILIENSTAND', 'RELIGION', 'BERUF', 'PARTEI_KURZ']\n",
    "df_mdb[dimensions_replace_na].isna().sum()"
   ]
  },
  {
   "cell_type": "code",
   "execution_count": null,
   "id": "9cd68e71-392c-4ba2-884a-d591e09b0c2b",
   "metadata": {},
   "outputs": [],
   "source": [
    "df_mdb[dimensions_replace_na] = df_mdb[dimensions_replace_na].fillna('UNBEKANNT')"
   ]
  },
  {
   "cell_type": "code",
   "execution_count": null,
   "id": "c93a0381-79c8-473e-97cf-f49d813773e8",
   "metadata": {},
   "outputs": [],
   "source": []
  },
  {
   "cell_type": "code",
   "execution_count": null,
   "id": "d2f7229c-2b81-44c2-bfe7-0ab3efc8a373",
   "metadata": {},
   "outputs": [],
   "source": []
  },
  {
   "cell_type": "markdown",
   "id": "225e7664-d495-4067-8f90-4cfca15903f6",
   "metadata": {},
   "source": [
    "# 2. replace values: PARTEI_KURZ"
   ]
  },
  {
   "cell_type": "code",
   "execution_count": null,
   "id": "b00d7fc2-187d-41b0-aa88-b3a1551b12d9",
   "metadata": {},
   "outputs": [],
   "source": [
    "df_mdb.PARTEI_KURZ.value_counts()[:12]"
   ]
  },
  {
   "cell_type": "code",
   "execution_count": null,
   "id": "325d47ff-4860-4e05-a8eb-9c9412de50a1",
   "metadata": {},
   "outputs": [],
   "source": [
    "# some cleaning necessary: 'BÜNDNIS 90/DIE GRÜNEN', 'DIE GRÜNEN/BÜNDNIS 90' => 'GRÜNE'\n",
    "for grünen_alias in ['BÜNDNIS 90/DIE GRÜNEN', 'DIE GRÜNEN/BÜNDNIS 90', 'GRÜNE']:\n",
    "    df_mdb.replace(grünen_alias, 'DIE GRÜNEN', inplace=True)"
   ]
  },
  {
   "cell_type": "markdown",
   "id": "12d9cd5e-df57-479d-8ae4-adbb053910ce",
   "metadata": {},
   "source": [
    "# replace values: RELIGION"
   ]
  },
  {
   "cell_type": "code",
   "execution_count": null,
   "id": "0734c71f-d9e8-4459-8577-651fa9df9bf1",
   "metadata": {},
   "outputs": [],
   "source": [
    "df_mdb['RELIGION_MAPPED'] = df_mdb['RELIGION']\n",
    "df_mdb.RELIGION_MAPPED.value_counts().head(12)"
   ]
  },
  {
   "cell_type": "code",
   "execution_count": null,
   "id": "3c02e9c1-7a5f-4202-bf3e-9f6c6a0376d3",
   "metadata": {},
   "outputs": [],
   "source": []
  },
  {
   "cell_type": "code",
   "execution_count": null,
   "id": "61726790-bfeb-4d57-8e30-3bb6719beb34",
   "metadata": {},
   "outputs": [],
   "source": [
    "for katholisch_alias in ['römisch-katholisch', 'alt-katholisch']:\n",
    "    df_mdb['RELIGION_MAPPED'].replace(katholisch_alias, 'katholisch', inplace=True)"
   ]
  },
  {
   "cell_type": "code",
   "execution_count": null,
   "id": "7a96d82c-8d03-4e86-83c2-e0e4b5f7c9a9",
   "metadata": {},
   "outputs": [],
   "source": [
    "for evangelisch_alias in ['evangelisch-lutherisch', 'evangelisch-reformiert', 'evangelisch-freikirchlich', 'protestantisch']:\n",
    "    df_mdb['RELIGION_MAPPED'].replace(evangelisch_alias, 'evangelisch', inplace=True)"
   ]
  },
  {
   "cell_type": "code",
   "execution_count": null,
   "id": "62bd670d-2d30-45d0-890f-5798015eca0c",
   "metadata": {},
   "outputs": [],
   "source": [
    "# it's not the same but its similar\n",
    "for konfessionslos_alias in ['religionslos', 'Atheist', 'Atheistin']:\n",
    "    df_mdb['RELIGION_MAPPED'].replace(konfessionslos_alias, 'konfessionslos', inplace=True)"
   ]
  },
  {
   "cell_type": "code",
   "execution_count": null,
   "id": "3497b937-0acc-4fb6-b6ba-a88d28f6f5d0",
   "metadata": {},
   "outputs": [],
   "source": [
    "for konfessionslos_alias in ['Islam']:\n",
    "    df_mdb['RELIGION_MAPPED'].replace(konfessionslos_alias, 'muslimisch', inplace=True)"
   ]
  },
  {
   "cell_type": "code",
   "execution_count": null,
   "id": "fe6ee406-4c81-475d-adef-2e997c7e8d7d",
   "metadata": {},
   "outputs": [],
   "source": [
    "# erkenntnis: nur christen und einige wenige konfessionslose\n",
    "df_mdb['RELIGION_MAPPED'].value_counts().plot(kind='bar')"
   ]
  },
  {
   "cell_type": "code",
   "execution_count": null,
   "id": "64ced06f-3035-4419-9eb7-5c6a59925208",
   "metadata": {},
   "outputs": [],
   "source": [
    "df_mdb['RELIGION_MAPPED'].value_counts().plot(kind='bar')"
   ]
  },
  {
   "cell_type": "markdown",
   "id": "b5246146-c1ce-4e3a-a6e3-ee116590d918",
   "metadata": {},
   "source": [
    "# replace values: FAMILIENSTAND"
   ]
  },
  {
   "cell_type": "code",
   "execution_count": null,
   "id": "37fa9296-de58-4e22-914f-5da70fbf396a",
   "metadata": {},
   "outputs": [],
   "source": [
    "# gehen sie weiter. hier gibt es kein Klischee zu erkennen!\n",
    "df_mdb['FAMILIENSTAND_MAPPED'] = df_mdb['FAMILIENSTAND']\n",
    "df_mdb.FAMILIENSTAND_MAPPED= df_mdb.FAMILIENSTAND_MAPPED.apply(lambda x: x.replace('verheiratet', 'verh.'))\n",
    "df_mdb.FAMILIENSTAND_MAPPED= df_mdb.FAMILIENSTAND_MAPPED.apply(lambda x: x.replace('geschieden', 'gesch.'))\n",
    "\n",
    "df_mdb[['ID', 'FAMILIENSTAND_MAPPED']].groupby('FAMILIENSTAND_MAPPED').count().sort_values(by='ID', ascending=False).head(28).plot(kind='bar', figsize=(12,7))"
   ]
  },
  {
   "cell_type": "code",
   "execution_count": null,
   "id": "914b1087-d886-4d60-99ab-d1f718dad6e8",
   "metadata": {},
   "outputs": [],
   "source": [
    "indikator = re.compile('^verh.,\\s([4-9] |\\d{2,}) *Kind')\n",
    "values_to_replace = set(df_mdb[df_mdb.FAMILIENSTAND_MAPPED.str.contains(indikator)].FAMILIENSTAND_MAPPED)\n",
    "print(values_to_replace)\n",
    "replace_value = 'verh., >3 Kinder'\n",
    "df_mdb['FAMILIENSTAND_MAPPED'].replace(values_to_replace, replace_value, inplace=True)"
   ]
  },
  {
   "cell_type": "code",
   "execution_count": null,
   "id": "de255bd1-34eb-4825-9c38-44514f35a163",
   "metadata": {},
   "outputs": [],
   "source": [
    "indikator = re.compile('^gesch.,\\s([1-9] |\\d{2,}) *Kind')\n",
    "values_to_replace = set(df_mdb[df_mdb.FAMILIENSTAND_MAPPED.str.contains(indikator)].FAMILIENSTAND_MAPPED)\n",
    "print(values_to_replace)\n",
    "replace_value = 'gesch., >0 Kinder'\n",
    "df_mdb['FAMILIENSTAND_MAPPED'].replace(values_to_replace, replace_value, inplace=True)"
   ]
  },
  {
   "cell_type": "code",
   "execution_count": null,
   "id": "7a328ae3-10f5-4dc3-90bb-1f059b27b078",
   "metadata": {},
   "outputs": [],
   "source": [
    "df_mdb[['ID', 'FAMILIENSTAND_MAPPED']].groupby('FAMILIENSTAND_MAPPED').count().sort_values(by='ID', ascending=False).head(16)"
   ]
  },
  {
   "cell_type": "code",
   "execution_count": null,
   "id": "8b9f2880-55c8-4d7f-96d9-7e9859142c35",
   "metadata": {},
   "outputs": [],
   "source": []
  },
  {
   "cell_type": "markdown",
   "id": "08515cd9-12a3-4b15-9a8b-c547868e0eec",
   "metadata": {},
   "source": [
    "# replace values: BERUFE"
   ]
  },
  {
   "cell_type": "code",
   "execution_count": null,
   "id": "3c830ec1-9cea-40b9-ba14-12da6d355051",
   "metadata": {},
   "outputs": [],
   "source": [
    "# number of different jobs: 2k\n",
    "len(set(df_mdb.BERUF))"
   ]
  },
  {
   "cell_type": "code",
   "execution_count": null,
   "id": "13a96f48-2015-4434-a9c0-19bb42e2c5b5",
   "metadata": {},
   "outputs": [],
   "source": [
    "df_mdb['BERUF_MAPPED'] = df_mdb['BERUF'].copy()"
   ]
  },
  {
   "cell_type": "code",
   "execution_count": null,
   "id": "8c8d3b0f-00b0-41ee-b792-009eb75841db",
   "metadata": {},
   "outputs": [],
   "source": [
    "df_mdb[['ID', 'BERUF']].groupby('BERUF').count().sort_values(by='ID', ascending=False)[8:16]"
   ]
  },
  {
   "cell_type": "code",
   "execution_count": null,
   "id": "297e0e3b-31c2-4e2d-be81-1807cf5ed0b4",
   "metadata": {},
   "outputs": [],
   "source": [
    "# deleteme\n",
    "#df_mdb['len_beruf'] = df_mdb['BERUF'].apply(lambda x: len(str(x)))\n",
    "#print(df_mdb.sort_values(by ='len_beruf', ascending=False)[['VORNAME', 'NACHNAME', 'BERUF']].head(3))\n",
    "print(df_mdb.loc[3456][['PARTEI_KURZ', 'VORNAME', 'NACHNAME', 'BERUF']])\n",
    "print(df_mdb.loc[3456].BERUF)\n",
    "#Notar, Sprecher für Recht und Verbraucherschutz, Obmann im Parlamentarischen Kontrollgremium, Staatssekretär a. D"
   ]
  },
  {
   "cell_type": "code",
   "execution_count": null,
   "id": "3ba7948a-9d20-4730-92a8-95fefc31bf12",
   "metadata": {},
   "outputs": [],
   "source": [
    "sys.path.append(\"..\") # TODO: this is not pretty!\n",
    "from importlib import reload\n",
    "import src.berufe_mapping as berufe_mapping\n",
    "reload(berufe_mapping)"
   ]
  },
  {
   "cell_type": "code",
   "execution_count": null,
   "id": "c5a5b735-f36a-46a7-acd9-539d03cd0925",
   "metadata": {},
   "outputs": [],
   "source": [
    "\n",
    "'''very basic cleaning: lowercasing, removing dipl., (fh) and a.d.'''\n",
    "df_mdb = berufe_mapping.basic_cleaning_berufe(df_mdb , column = 'BERUF_MAPPED')"
   ]
  },
  {
   "cell_type": "code",
   "execution_count": null,
   "id": "72943203-6920-4c8c-8895-6d94e705342f",
   "metadata": {},
   "outputs": [],
   "source": [
    "df_mdb[['ID', 'BERUF_MAPPED']].groupby('BERUF_MAPPED').count().sort_values(by='ID', ascending=False).head(8)"
   ]
  },
  {
   "cell_type": "code",
   "execution_count": null,
   "id": "dd1600ed-5246-4630-9527-9fa67b15f01f",
   "metadata": {},
   "outputs": [],
   "source": [
    "dict_berufe={}\n",
    "dict_berufe['Jurist*in'] = ['anwalt', 'jurist', 'richter', 'notar', re.compile('dr.*\\s*jur.*'), 'syndikus', 'rechtsberater']\n",
    "dict_berufe['Land-/Forstwirt*in'] = ['landwirt', '^[a-z]bauer\\s', 'bauer', re.compile('agrar+'), 'forst']\n",
    "dict_berufe['Unterehmer*in'] = ['unternehmer'] # 'geschäftsführer' passt leider nicht wegen z.B. Parl. Geschäftssführer\n",
    "dict_berufe['Ingenieur*in'] = ['ingenieur', 'maschinenbau', 'architekt']\n",
    "dict_berufe['Journalist*in'] = ['journalist', 'redakteur', 'publizist', 'schriftsteller']\n",
    "dict_berufe['Verleger*in'] = ['verleger', 'verlags']\n",
    "\n",
    "# direktor: nö, sonst bezirksdirektor museumsdirektor etc\n",
    "dict_berufe['Lehrer*in'] = ['erzieher', 'pädagog', 'lehrer', 'studienrat', 'studiendirektor', 'schulrat',\n",
    "                            'grundschul', 'hauptshul', 'sonderschul', 'waldorf', 'realschul', 'gymnasi',\n",
    "                            'volkshochschu', 'berufsschul', 'fremdsprachen',\n",
    "                           'schul'] #evtl trennen Erzieher - Lehrer\n",
    "dict_berufe['Professor*in'] = ['dozent', 'professor', 'prof.', 'hochschull', 'hochschulpr']\n",
    "dict_berufe['Kaufmann/-frau'] = ['kaufm']\n",
    "dict_berufe['Volkswirt*in'] = ['volkswirt']\n",
    "dict_berufe['Berufspolitiker*in'] = ['regierungsangestellt', 'stadtamtmann', 'stadtoberinspektor', 'Landesgeschäftsführer',\n",
    "                                    'landr(at|ätin)', re.compile('ministerialr(a|ä)t'), 'staatssekret', 'bürgermeist', \n",
    "                                     'regierungsrat', re.compile('regierungs(vize)*präs'), 'regierung',\n",
    "                                     'stadtdirektor', 'ministerialdirektor', 'regierungsdirektor', 'gemeindedirektor', 'regierungsdirektor',\n",
    "                                     'minister', 'bundeskanz', 'bundestagsp', re.compile('präsident(in)* d\\.*b\\.*t\\.*')]\n",
    "dict_berufe['Arzt/Ärztin'] = ['arzt', 'psycholog', 'psychother', 'apotheker']\n",
    "dict_berufe['Theolog*in'] = ['pfarrer', 'theolog', 'diakon']\n",
    "dict_berufe['Betriebswirt*in'] = ['betriebswirt', 'verwaltungs', 'steuerberater', 'bankdirektor']\n",
    "dict_berufe['Wirtschaftswissenschaftler*in'] = ['wirtschaftsw', 'ökonom', 'prokurist']\n",
    "dict_berufe['Geisteswissenschaftler*in'] = ['politolog', 'politikwiss', 'historik', 'philosoph', 'philolog', 'soziolog', 'sozialwissensch', 'kulturwissenschaft']\n",
    "dict_berufe['Naturwissenschaftler*in'] = ['chemik', 'chemie', 'physik', 'geophysik', 'biolog', 'mathemat', 'informat']\n",
    "\n",
    "dict_berufe['Handwerker*in'] = ['elektro', 'fahrzeug', 'handwerk', 'mechanik',\n",
    "                               'schlosser', 'maurer', 'beton', 'maler', 'lackier', 'tischler', 'schreiner',\n",
    "                               'bäcker', 'konditor' 'koch', 'köchin', 'müller', 'bergmann', 'werkzeugmacher']\n",
    "dict_berufe['Militär'] = ['leutnant', 'oberst^u', 'soldat', re.compile('general\\s')] # not oberstudienrat ;)\n",
    "dict_berufe['Beamter'] = ['beamter']# problematisch: Berufspolitiker, Lehrer, Militär sind auch beamte"
   ]
  },
  {
   "cell_type": "code",
   "execution_count": null,
   "id": "4a84b279-777c-41cf-a664-47535c33e57a",
   "metadata": {},
   "outputs": [],
   "source": [
    "def replace_berufsklasse(berufsklasse = 'Jurist*in', dict_berufe = dict_berufe, df = df_mdb):\n",
    "    values_to_replace = set()\n",
    "    # TODO without loop but use 'any'\n",
    "    for indikator in dict_berufe[berufsklasse]:\n",
    "        values_to_replace = values_to_replace.union(set(df_mdb[df_mdb.BERUF_MAPPED.str.contains(indikator)].BERUF_MAPPED))\n",
    "\n",
    "    print(values_to_replace)\n",
    "    df_mdb.replace(list(values_to_replace), berufsklasse, inplace=True)\n",
    "    return(df_mdb)"
   ]
  },
  {
   "cell_type": "code",
   "execution_count": null,
   "id": "e32cc5ce-7b22-447e-8e0b-78bf9f03780a",
   "metadata": {},
   "outputs": [],
   "source": [
    "df_mdb = replace_berufsklasse(berufsklasse = 'Jurist*in', dict_berufe = dict_berufe, df = df_mdb)"
   ]
  },
  {
   "cell_type": "code",
   "execution_count": null,
   "id": "127e7e02-a363-4b00-aad5-191f1631c493",
   "metadata": {},
   "outputs": [],
   "source": [
    "df_mdb = replace_berufsklasse(berufsklasse = 'Land-/Forstwirt*in', dict_berufe = dict_berufe, df = df_mdb)"
   ]
  },
  {
   "cell_type": "code",
   "execution_count": null,
   "id": "a7333e5f-aba5-417f-9adb-02908bdc8e66",
   "metadata": {},
   "outputs": [],
   "source": [
    "df_mdb = replace_berufsklasse(berufsklasse = 'Unterehmer*in', dict_berufe = dict_berufe, df = df_mdb)"
   ]
  },
  {
   "cell_type": "code",
   "execution_count": null,
   "id": "95db8991-a732-4495-9938-a22a5d5cf7b9",
   "metadata": {},
   "outputs": [],
   "source": [
    "df_mdb = replace_berufsklasse(berufsklasse = 'Ingenieur*in', dict_berufe = dict_berufe, df = df_mdb)"
   ]
  },
  {
   "cell_type": "code",
   "execution_count": null,
   "id": "0659bd2d-4a0e-4d30-98fa-dac569d93a0f",
   "metadata": {},
   "outputs": [],
   "source": [
    "len(set(df_mdb.BERUF_MAPPED))"
   ]
  },
  {
   "cell_type": "code",
   "execution_count": null,
   "id": "48ba97fa-d2d8-44df-bc88-19795ac5281a",
   "metadata": {},
   "outputs": [],
   "source": [
    "df_mdb = replace_berufsklasse(berufsklasse = 'Journalist*in', dict_berufe = dict_berufe, df = df_mdb)"
   ]
  },
  {
   "cell_type": "code",
   "execution_count": null,
   "id": "71676830-0a0b-483d-b33e-ef2eb96cf6ec",
   "metadata": {},
   "outputs": [],
   "source": [
    "df_mdb = replace_berufsklasse(berufsklasse = 'Lehrer*in', dict_berufe = dict_berufe, df = df_mdb)"
   ]
  },
  {
   "cell_type": "code",
   "execution_count": null,
   "id": "1383a96d-efa4-4678-8b71-6c516e259433",
   "metadata": {},
   "outputs": [],
   "source": [
    "df_mdb = replace_berufsklasse(berufsklasse = 'Kaufmann/-frau', dict_berufe = dict_berufe, df = df_mdb)"
   ]
  },
  {
   "cell_type": "code",
   "execution_count": null,
   "id": "2eef0c35-9c33-4859-8b3d-3fad633bb1ba",
   "metadata": {},
   "outputs": [],
   "source": [
    "df_mdb = replace_berufsklasse(berufsklasse = 'Professor*in', dict_berufe = dict_berufe, df = df_mdb)"
   ]
  },
  {
   "cell_type": "code",
   "execution_count": null,
   "id": "be618235-8667-4f9b-891a-2d393bd4c1e9",
   "metadata": {},
   "outputs": [],
   "source": [
    "len(set(df_mdb.BERUF_MAPPED))"
   ]
  },
  {
   "cell_type": "code",
   "execution_count": null,
   "id": "27b7c6bd-7c81-4e45-9902-37a599abeb0b",
   "metadata": {},
   "outputs": [],
   "source": [
    "df_mdb = replace_berufsklasse(berufsklasse = 'Volkswirt*in', dict_berufe = dict_berufe, df = df_mdb)"
   ]
  },
  {
   "cell_type": "code",
   "execution_count": null,
   "id": "e05202fc-ebd7-46f9-955a-8cb92bb49b5a",
   "metadata": {},
   "outputs": [],
   "source": [
    "df_mdb = replace_berufsklasse(berufsklasse = 'Berufspolitiker*in', dict_berufe = dict_berufe, df = df_mdb)"
   ]
  },
  {
   "cell_type": "code",
   "execution_count": null,
   "id": "e22f10d8-4da1-41ce-afdd-b74b8396e03f",
   "metadata": {},
   "outputs": [],
   "source": [
    "df_mdb = replace_berufsklasse(berufsklasse = 'Arzt/Ärztin', dict_berufe = dict_berufe, df = df_mdb)"
   ]
  },
  {
   "cell_type": "code",
   "execution_count": null,
   "id": "e8e44090-19e2-4187-aaf9-8feeeb959fb2",
   "metadata": {},
   "outputs": [],
   "source": [
    "df_mdb = replace_berufsklasse(berufsklasse = 'Theolog*in', dict_berufe = dict_berufe, df = df_mdb)"
   ]
  },
  {
   "cell_type": "code",
   "execution_count": null,
   "id": "80be1424-0b40-4f4e-854a-9836fc71c659",
   "metadata": {},
   "outputs": [],
   "source": [
    "df_mdb = replace_berufsklasse(berufsklasse = 'Betriebswirt*in', dict_berufe = dict_berufe, df = df_mdb)"
   ]
  },
  {
   "cell_type": "code",
   "execution_count": null,
   "id": "1a13fe46-14f0-42a5-81db-8eed1c05c96d",
   "metadata": {},
   "outputs": [],
   "source": [
    "df_mdb = replace_berufsklasse(berufsklasse = 'Wirtschaftswissenschaftler*in', dict_berufe = dict_berufe, df = df_mdb)"
   ]
  },
  {
   "cell_type": "code",
   "execution_count": null,
   "id": "4302e9eb-e432-46a6-a9bb-45b58183dace",
   "metadata": {},
   "outputs": [],
   "source": [
    "df_mdb = replace_berufsklasse(berufsklasse = 'Geisteswissenschaftler*in', dict_berufe = dict_berufe, df = df_mdb)"
   ]
  },
  {
   "cell_type": "code",
   "execution_count": null,
   "id": "c0b71494-420c-4cca-b38d-6be4a257962d",
   "metadata": {},
   "outputs": [],
   "source": [
    "df_mdb = replace_berufsklasse(berufsklasse = 'Naturwissenschaftler*in', dict_berufe = dict_berufe, df = df_mdb)"
   ]
  },
  {
   "cell_type": "code",
   "execution_count": null,
   "id": "82b8de5a-cc4e-4379-80d0-9c912fbcdfa5",
   "metadata": {},
   "outputs": [],
   "source": [
    "df_mdb = replace_berufsklasse(berufsklasse = 'Verleger*in', dict_berufe = dict_berufe, df = df_mdb)"
   ]
  },
  {
   "cell_type": "code",
   "execution_count": null,
   "id": "55c0ae57-29bc-44c0-9e8d-b5d42ed6d78e",
   "metadata": {},
   "outputs": [],
   "source": [
    "df_mdb = replace_berufsklasse(berufsklasse = 'Handwerker*in', dict_berufe = dict_berufe, df = df_mdb)"
   ]
  },
  {
   "cell_type": "code",
   "execution_count": null,
   "id": "b1452d7f-60d9-4d66-bab8-6a0d85006193",
   "metadata": {},
   "outputs": [],
   "source": [
    "df_mdb = replace_berufsklasse(berufsklasse = 'Militär', dict_berufe = dict_berufe, df = df_mdb)"
   ]
  },
  {
   "cell_type": "code",
   "execution_count": null,
   "id": "29efc7a3-c6e9-4b6f-a930-dede78b94247",
   "metadata": {},
   "outputs": [],
   "source": [
    "df_mdb = replace_berufsklasse(berufsklasse = 'Beamter', dict_berufe = dict_berufe, df = df_mdb)"
   ]
  },
  {
   "cell_type": "code",
   "execution_count": null,
   "id": "01c56a13-6dde-4331-abe3-05947667d4ce",
   "metadata": {},
   "outputs": [],
   "source": [
    "len(set(df_mdb.BERUF_MAPPED))"
   ]
  },
  {
   "cell_type": "code",
   "execution_count": null,
   "id": "0c90624c-5607-43cd-8eff-e11bae925f83",
   "metadata": {},
   "outputs": [],
   "source": [
    "df_mdb[['ID', 'BERUF_MAPPED']].groupby('BERUF_MAPPED').count().sort_values(by='ID', ascending=False)[16:32]"
   ]
  },
  {
   "cell_type": "code",
   "execution_count": null,
   "id": "ef9ae9a1-ad6e-4011-8a5f-23aafaa38e4c",
   "metadata": {},
   "outputs": [],
   "source": [
    "plt.figure(figsize=(16,8))\n",
    "df_mdb.groupby('BERUF_MAPPED')['ID'].count().sort_values(ascending=False)[:32].plot(kind='bar')"
   ]
  },
  {
   "cell_type": "code",
   "execution_count": null,
   "id": "822becb9-c959-4157-917c-0ac96fc9247a",
   "metadata": {},
   "outputs": [],
   "source": [
    "len(set(df_mdb['BERUF_MAPPED']))"
   ]
  },
  {
   "cell_type": "code",
   "execution_count": null,
   "id": "af431cc6-61fa-4567-bf88-7834bbe40168",
   "metadata": {},
   "outputs": [],
   "source": [
    "plt.figure(figsize=(16,8))\n",
    "df_mdb.groupby('BERUF_MAPPED')['ID'].count().sort_values(ascending=False).tail(33)#.plot(kind='bar')"
   ]
  },
  {
   "cell_type": "markdown",
   "id": "2cb734b0-1f43-478b-8c2e-b4923b312574",
   "metadata": {},
   "source": [
    "# construct df_mdb_wp"
   ]
  },
  {
   "cell_type": "code",
   "execution_count": null,
   "id": "22eb0588-3f1e-447e-b82b-2bd600fde8f0",
   "metadata": {},
   "outputs": [],
   "source": [
    "df_mdb_wp = get_mdb_wp_data(df_mdb)\n",
    "print(df_mdb_wp.shape)"
   ]
  },
  {
   "cell_type": "code",
   "execution_count": null,
   "id": "47c471ca-f842-4b9f-aa75-6d354a818c8b",
   "metadata": {},
   "outputs": [],
   "source": [
    "df_mdb_wp[df_mdb_wp.NACHNAME == 'Merkel'].head()"
   ]
  },
  {
   "cell_type": "markdown",
   "id": "158b8b22-fd41-485d-a928-3dd6b2a0da4a",
   "metadata": {},
   "source": [
    "# compute age"
   ]
  },
  {
   "cell_type": "code",
   "execution_count": null,
   "id": "dfcc80d7-c8f1-4ed2-b9e3-da2d4f662153",
   "metadata": {},
   "outputs": [],
   "source": [
    "df_wp_startdaten = pd.read_csv(DF_MDB_WP_STARTDATEN_PATH, index_col=0)\n",
    "df_wp_startdaten"
   ]
  },
  {
   "cell_type": "code",
   "execution_count": null,
   "id": "bb836550-28f9-41f9-9916-067fb1becdc0",
   "metadata": {},
   "outputs": [],
   "source": [
    "df_wp_startdaten['START_DATE'] = pd.to_datetime(df_wp_startdaten['START_DATE'])"
   ]
  },
  {
   "cell_type": "code",
   "execution_count": null,
   "id": "79f4dae4-62c5-44da-b0e4-725b93878935",
   "metadata": {},
   "outputs": [],
   "source": [
    "df_mdb_wp = df_mdb_wp.join(df_wp_startdaten, on='WP')"
   ]
  },
  {
   "cell_type": "code",
   "execution_count": null,
   "id": "446803f6-6eb8-4179-99b8-4b8b558482c0",
   "metadata": {},
   "outputs": [],
   "source": [
    "df_mdb_wp['START_DATE'] = pd.to_datetime(df_mdb_wp['START_DATE'])\n",
    "df_mdb_wp['GEBURTSDATUM'] = pd.to_datetime(df_mdb_wp['GEBURTSDATUM'])"
   ]
  },
  {
   "cell_type": "code",
   "execution_count": null,
   "id": "c9c95fa6-15c6-461e-9d52-4170f6cd4553",
   "metadata": {},
   "outputs": [],
   "source": []
  },
  {
   "cell_type": "code",
   "execution_count": null,
   "id": "e9001f69-5778-4e10-a480-ded45e883be3",
   "metadata": {},
   "outputs": [],
   "source": [
    "def match_age(x):\n",
    "    if x < 30:\n",
    "        return ('< 30')\n",
    "    elif x < 40:\n",
    "        return('30 - 40')\n",
    "    elif x < 50:\n",
    "        return('40 - 50')\n",
    "    elif x < 60:\n",
    "        return('50 - 60')\n",
    "    elif x < 70:\n",
    "        return('70 - 80')\n",
    "    else:\n",
    "        return('>= 80')"
   ]
  },
  {
   "cell_type": "code",
   "execution_count": null,
   "id": "1611b415-ae3c-4c48-8eed-9e0e2482e00d",
   "metadata": {},
   "outputs": [],
   "source": [
    "match_age(80)"
   ]
  },
  {
   "cell_type": "code",
   "execution_count": null,
   "id": "8c890f84-e39a-42aa-890b-2080d1b9dad4",
   "metadata": {},
   "outputs": [],
   "source": [
    "df_mdb_wp['START_AGE_IN_YEARS'] = df_mdb_wp['START_DATE'] - df_mdb_wp['GEBURTSDATUM']\n",
    "df_mdb_wp['START_AGE_IN_YEARS'] = df_mdb_wp['START_AGE_IN_YEARS']/np.timedelta64(1,'Y')\n",
    "\n",
    "df_mdb_wp"
   ]
  },
  {
   "cell_type": "code",
   "execution_count": null,
   "id": "f003151d-29be-4b82-bc22-9fe7612054e8",
   "metadata": {},
   "outputs": [],
   "source": [
    "df_mdb_wp['START_AGE_IN_YEARS'].hist(bins=32)"
   ]
  },
  {
   "cell_type": "code",
   "execution_count": null,
   "id": "c0113af9-7ca5-493a-b095-36b725ae624e",
   "metadata": {},
   "outputs": [],
   "source": [
    "#df_mdb_wp['START_AGE_IN_YEARS'].plot(kind='bar')\n",
    "df_mdb_wp['START_AGE_IN_YEARS'][:4]"
   ]
  },
  {
   "cell_type": "code",
   "execution_count": null,
   "id": "65e66460-ba0c-42a4-a000-eadbe2992474",
   "metadata": {},
   "outputs": [],
   "source": [
    "df_mdb_wp['START_AGE_IN_YEARS_MAPPED'] = df_mdb_wp['START_AGE_IN_YEARS'].apply(lambda x: match_age(x)) \n",
    "df_mdb_wp['START_AGE_IN_YEARS_MAPPED'].hist()"
   ]
  },
  {
   "cell_type": "code",
   "execution_count": null,
   "id": "5f4e658f-4599-4567-9a52-1a383493dcd3",
   "metadata": {},
   "outputs": [],
   "source": [
    "list_of_altersklassen = sorted(list(set(df_mdb_wp['START_AGE_IN_YEARS_MAPPED'])))\n",
    "list_of_altersklassen = ['< 30', '30 - 40', '40 - 50', '50 - 60', '70 - 80',  '>= 80']\n",
    "list_of_altersklassen"
   ]
  },
  {
   "cell_type": "code",
   "execution_count": null,
   "id": "8c065e03-c853-4a66-840f-daeaef2e75c8",
   "metadata": {},
   "outputs": [],
   "source": []
  },
  {
   "cell_type": "markdown",
   "id": "7e678d59-7678-42cf-80d7-1f777db2141c",
   "metadata": {},
   "source": [
    "# Jahre im Amt"
   ]
  },
  {
   "cell_type": "code",
   "execution_count": null,
   "id": "9eccd261-c3e3-489b-a549-85a94b5f1417",
   "metadata": {},
   "outputs": [],
   "source": [
    "df_mdb_wp = df_mdb_wp.join(df_mdb_wp[['ID', 'START_DATE']].groupby('ID').min(), how='left', rsuffix='_FIRST', on='ID')"
   ]
  },
  {
   "cell_type": "code",
   "execution_count": null,
   "id": "e48dc9f3-d722-4f16-a620-d023421e83e2",
   "metadata": {},
   "outputs": [],
   "source": [
    "df_mdb_wp['NUM_YEARS_IN_BT'] = df_mdb_wp['START_DATE'] - df_mdb_wp['START_DATE_FIRST']\n",
    "df_mdb_wp['NUM_YEARS_IN_BT'] = df_mdb_wp['NUM_YEARS_IN_BT']/np.timedelta64(1,'Y')"
   ]
  },
  {
   "cell_type": "code",
   "execution_count": null,
   "id": "4771e246-aef7-4654-af86-1fa02937b467",
   "metadata": {},
   "outputs": [],
   "source": [
    "df_mdb_wp.shape"
   ]
  },
  {
   "cell_type": "code",
   "execution_count": null,
   "id": "6a594439-014a-4c53-86b9-9f86989e6ead",
   "metadata": {},
   "outputs": [],
   "source": [
    "df_mdb_wp.columns"
   ]
  },
  {
   "cell_type": "code",
   "execution_count": null,
   "id": "3f4014e1-9094-43a4-ad72-b5c263f125e7",
   "metadata": {},
   "outputs": [],
   "source": [
    "# delemte\n",
    "selected_df = df_mdb_wp[(df_mdb_wp['WP']>= 1) & (df_mdb_wp['WP']<= 19)]\n",
    "#selected_df = selected_df[selected_df['PARTEI_KURZ'].isin(selected_parteien)]\n",
    "grouped = selected_df[['ID', 'START_DATE', 'NUM_YEARS_IN_BT', 'PARTEI_KURZ']].groupby(['START_DATE', 'PARTEI_KURZ']).mean()"
   ]
  },
  {
   "cell_type": "code",
   "execution_count": null,
   "id": "913de320-e88b-44b9-9678-db5135298b77",
   "metadata": {},
   "outputs": [],
   "source": [
    "grouped.reset_index(inplace=True)"
   ]
  },
  {
   "cell_type": "code",
   "execution_count": null,
   "id": "8cf44519-9ae3-475b-a9c1-d90bb0f51ba9",
   "metadata": {},
   "outputs": [],
   "source": [
    "# delemte\n",
    "grouped[grouped['PARTEI_KURZ']=='CDU']['NUM_YEARS_IN_BT'].plot()"
   ]
  },
  {
   "cell_type": "code",
   "execution_count": null,
   "id": "0c26e11f-5e63-4889-abfa-c02b00518395",
   "metadata": {},
   "outputs": [],
   "source": [
    "# deleteme \n",
    "grouped[grouped['START_DATE']=='2017-10-24']\n",
    "# START_DATE"
   ]
  },
  {
   "cell_type": "code",
   "execution_count": null,
   "id": "628acdd2-4b9d-4a18-af46-8c1adaa25a58",
   "metadata": {},
   "outputs": [],
   "source": []
  },
  {
   "cell_type": "code",
   "execution_count": null,
   "id": "1356cbf5-403e-4d81-b592-af3d117c2a5c",
   "metadata": {},
   "outputs": [],
   "source": []
  },
  {
   "cell_type": "code",
   "execution_count": null,
   "id": "85bdb178-599e-4250-aced-5a13f76e9d6a",
   "metadata": {},
   "outputs": [],
   "source": [
    "import plotly.graph_objects as go\n",
    "import plotly.express as px\n",
    "\n",
    "selected_parties=['SPD', 'CDU', 'FDP', 'CSU']\n",
    "selected_df = df_mdb_wp[(df_mdb_wp['WP']>= 1) & (df_mdb_wp['WP']<= 19)]\n",
    "selected_df = selected_df[selected_df['PARTEI_KURZ'].isin(selected_parties)]\n",
    "grouped = selected_df[['ID', 'START_DATE', 'NUM_YEARS_IN_BT', 'PARTEI_KURZ']].groupby(['START_DATE', 'PARTEI_KURZ']).mean()\n",
    "#grouped.reset_index(inplace=True)\n",
    "grouped.head()"
   ]
  },
  {
   "cell_type": "code",
   "execution_count": null,
   "id": "04c6b41d-9b81-441b-a477-0f46c3203cd8",
   "metadata": {},
   "outputs": [],
   "source": [
    "#new_index = pd.MultiIndex.from_product([selected_parties, sorted(set(grouped.reset_index()['WP']))], names=['PARTEI_KURZ', 'WP'])\n",
    "new_index = pd.MultiIndex.from_product([grouped.index.levels[0], grouped.index.levels[1]], names=['START_DATE', 'PARTEI_KURZ'])\n",
    "new_index#"
   ]
  },
  {
   "cell_type": "code",
   "execution_count": null,
   "id": "5cdb94db-6490-4089-936e-48d477770e56",
   "metadata": {},
   "outputs": [],
   "source": [
    "    # create entries also for 0 values\n",
    "grouped_reindexed = grouped.reindex(new_index, fill_value=0)\n",
    "grouped_reindexed.head(12)"
   ]
  },
  {
   "cell_type": "code",
   "execution_count": null,
   "id": "d9c908ff-59ce-46f1-9c02-90f85954ddf8",
   "metadata": {},
   "outputs": [],
   "source": [
    "# double deleteme\n",
    "df_mdb_wp.sort_values(by='NUM_YEARS_IN_BT')[['NACHNAME', 'VORNAME', 'PARTEI_KURZ', 'WP', 'NUM_YEARS_IN_BT']].tail()"
   ]
  },
  {
   "cell_type": "code",
   "execution_count": null,
   "id": "66855184-58d5-4b45-99e4-99b8ae98b762",
   "metadata": {},
   "outputs": [],
   "source": [
    "df_mdb_wp[df_mdb_wp.PARTEI_KURZ=='FDP'].sort_values(by='NUM_YEARS_IN_BT')[['NACHNAME', 'VORNAME', 'PARTEI_KURZ', 'WP', 'NUM_YEARS_IN_BT']].tail()"
   ]
  },
  {
   "cell_type": "code",
   "execution_count": null,
   "id": "eef9da1a-5b3c-496f-bec6-56e59305172a",
   "metadata": {},
   "outputs": [],
   "source": [
    "grouped_reindexed.reset_index(inplace=True)"
   ]
  },
  {
   "cell_type": "code",
   "execution_count": null,
   "id": "a3d184df-8701-44cf-982b-d9720801f2ad",
   "metadata": {},
   "outputs": [],
   "source": [
    "# make it orderable\n",
    "grouped_reindexed['PARTEI_KURZ'] = pd.Categorical(grouped_reindexed['PARTEI_KURZ'], selected_parties)"
   ]
  },
  {
   "cell_type": "code",
   "execution_count": null,
   "id": "02e06c8e-c720-4704-bf6f-a0902b25496f",
   "metadata": {},
   "outputs": [],
   "source": [
    "grouped_reindexed.sort_values(by=['START_DATE', 'PARTEI_KURZ'], inplace=True)"
   ]
  },
  {
   "cell_type": "code",
   "execution_count": null,
   "id": "62466edd-b490-4068-8d43-75604f8f40f8",
   "metadata": {},
   "outputs": [],
   "source": [
    "#fig = px.scatter(x=grouped['NUM_YEARS_IN_BT'].index, y= grouped['NUM_YEARS_IN_BT'])\n",
    "fig = go.Figure(data=px.line(grouped_reindexed, x='START_DATE', y= 'NUM_YEARS_IN_BT', \n",
    "                                color='PARTEI_KURZ', color_discrete_sequence = LIST_OF_COLORS))\n",
    "fig.update_layout(title='Bleibedauer der Abgeordneten im Bundestag',\n",
    "               xaxis_title='',\n",
    "               yaxis_title='Jahre im BT bei Beginn der WP')\n",
    "fig.show()"
   ]
  },
  {
   "cell_type": "code",
   "execution_count": null,
   "id": "d773e9b0-b574-4e3d-a4e4-41b7c4eebf18",
   "metadata": {},
   "outputs": [],
   "source": [
    "a"
   ]
  },
  {
   "cell_type": "code",
   "execution_count": null,
   "id": "d419548a-de81-425c-b4cb-9433dfc2e020",
   "metadata": {},
   "outputs": [],
   "source": [
    "# end deleteme"
   ]
  },
  {
   "cell_type": "markdown",
   "id": "9235e24c-7820-4d2c-95d9-cb111974cffc",
   "metadata": {},
   "source": [
    "# save as csv"
   ]
  },
  {
   "cell_type": "code",
   "execution_count": null,
   "id": "b391fce5-2b33-4bdf-8f88-edb6aa19f532",
   "metadata": {},
   "outputs": [],
   "source": [
    "df_mdb.to_csv(DF_MDB_PATH, index=None)\n",
    "df_mdb_wp.to_csv(DF_MDB_WP_PATH, index=None)"
   ]
  },
  {
   "cell_type": "markdown",
   "id": "439eead9-6883-4edb-b1f4-f53c9a156f13",
   "metadata": {},
   "source": [
    "# read in data. exploratory data analysis"
   ]
  },
  {
   "cell_type": "code",
   "execution_count": null,
   "id": "5d51940f-459e-4b79-8e25-c07ee7c7b58d",
   "metadata": {},
   "outputs": [],
   "source": [
    "df_mdb = pd.read_csv(DF_MDB_PATH, index_col=None)\n",
    "df_mdb_wp = pd.read_csv(DF_MDB_WP_PATH, index_col=None)"
   ]
  },
  {
   "cell_type": "code",
   "execution_count": null,
   "id": "46c8cb00-8f21-4ea9-9a75-1bada0985a70",
   "metadata": {},
   "outputs": [],
   "source": [
    "df_mdb.columns"
   ]
  },
  {
   "cell_type": "code",
   "execution_count": null,
   "id": "f911c372-4cfa-4cb4-b796-9d9e0ba3e447",
   "metadata": {},
   "outputs": [],
   "source": [
    "df_mdb.tail()"
   ]
  },
  {
   "cell_type": "code",
   "execution_count": null,
   "id": "f4d54d7c-24e6-4968-a67b-ac4ec883cb41",
   "metadata": {},
   "outputs": [],
   "source": [
    "df_mdb_wp[['ID', 'WP']].groupby('WP').count().sort_values(by='WP', ascending=False).head()"
   ]
  },
  {
   "cell_type": "markdown",
   "id": "863eb41d-0086-45cb-a1a1-ec55f8dbeef3",
   "metadata": {},
   "source": [
    "# quality checks"
   ]
  },
  {
   "cell_type": "code",
   "execution_count": null,
   "id": "8a37b643-1c10-4611-a711-1902e9a96113",
   "metadata": {},
   "outputs": [],
   "source": [
    "df_mdb_wp[(df_mdb_wp.WP==19) & (df_mdb_wp.PARTEI_KURZ == 'CDU')]"
   ]
  },
  {
   "cell_type": "code",
   "execution_count": null,
   "id": "49a500ea-dfec-496f-86dd-25504a9d3580",
   "metadata": {},
   "outputs": [],
   "source": []
  },
  {
   "cell_type": "code",
   "execution_count": null,
   "id": "b24b94cd-fef3-4654-891b-3fa817349f96",
   "metadata": {},
   "outputs": [],
   "source": [
    "df_mdb_wp[(df_mdb_wp.WP==18) & (df_mdb_wp.PARTEI_KURZ == 'CDU') & (df_mdb_wp.BERUF.str.contains('Bürgermeister'))]"
   ]
  },
  {
   "cell_type": "code",
   "execution_count": null,
   "id": "0fe3f529-eb3c-4df4-9a4c-51840c8fe8ca",
   "metadata": {},
   "outputs": [],
   "source": []
  },
  {
   "cell_type": "code",
   "execution_count": null,
   "id": "c8fbefa2-06e2-487c-b2e7-0ac7b1fb97ec",
   "metadata": {},
   "outputs": [],
   "source": []
  },
  {
   "cell_type": "code",
   "execution_count": null,
   "id": "53e74498-0cd5-48a7-9c53-4982fa1792d1",
   "metadata": {},
   "outputs": [],
   "source": []
  },
  {
   "cell_type": "code",
   "execution_count": null,
   "id": "b27c7a8c-68f9-4ea1-ab74-96f886d343d1",
   "metadata": {},
   "outputs": [],
   "source": []
  }
 ],
 "metadata": {
  "kernelspec": {
   "display_name": "Python 3 (ipykernel)",
   "language": "python",
   "name": "python3"
  },
  "language_info": {
   "codemirror_mode": {
    "name": "ipython",
    "version": 3
   },
   "file_extension": ".py",
   "mimetype": "text/x-python",
   "name": "python",
   "nbconvert_exporter": "python",
   "pygments_lexer": "ipython3",
   "version": "3.11.2"
  }
 },
 "nbformat": 4,
 "nbformat_minor": 5
}
