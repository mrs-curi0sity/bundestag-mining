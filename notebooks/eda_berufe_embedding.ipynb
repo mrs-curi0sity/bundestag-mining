{
 "cells": [
  {
   "cell_type": "markdown",
   "id": "68cbc34b-b3dd-4c03-81dd-568fbdb17454",
   "metadata": {},
   "source": [
    "# Embedding Berufe to 300d Glove vocab, then clusetring\n",
    "### https://deepset.ai/german-word-embeddings"
   ]
  },
  {
   "cell_type": "code",
   "execution_count": 5,
   "id": "c8224e7c-2cbf-4773-9207-89221f188d82",
   "metadata": {},
   "outputs": [],
   "source": [
    "from pathlib import Path\n",
    "import pandas as pd\n",
    "import numpy as np\n",
    "import os"
   ]
  },
  {
   "cell_type": "code",
   "execution_count": 6,
   "id": "a30a21b1-5a6e-4af9-b92f-c30eecb36bb4",
   "metadata": {},
   "outputs": [],
   "source": [
    "# Pfad zum Hauptverzeichnis des Projekts\n",
    "PROJECT_ROOT = Path(os.getcwd()).parent\n",
    "\n",
    "DATA_PATH = PROJECT_ROOT / 'data'\n",
    "PLOT_PATH = PROJECT_ROOT / 'plots'\n",
    "\n",
    "CURRENT_YEAR = '2024'  # oder '2021' für die alten Daten\n",
    "\n",
    "DF_MDB_PATH = DATA_PATH / CURRENT_YEAR / 'output' / 'df_mdb.csv'"
   ]
  },
  {
   "cell_type": "code",
   "execution_count": 8,
   "id": "b5de3ea5-ee7a-4140-9ccd-5b5ca11b36b9",
   "metadata": {},
   "outputs": [],
   "source": [
    "df_berufe = pd.read_csv(DF_MDB_PATH)"
   ]
  },
  {
   "cell_type": "code",
   "execution_count": 9,
   "id": "8ce74e5a-3b57-4302-8cc2-2592b1d8e340",
   "metadata": {},
   "outputs": [
    {
     "data": {
      "text/html": [
       "<div>\n",
       "<style scoped>\n",
       "    .dataframe tbody tr th:only-of-type {\n",
       "        vertical-align: middle;\n",
       "    }\n",
       "\n",
       "    .dataframe tbody tr th {\n",
       "        vertical-align: top;\n",
       "    }\n",
       "\n",
       "    .dataframe thead th {\n",
       "        text-align: right;\n",
       "    }\n",
       "</style>\n",
       "<table border=\"1\" class=\"dataframe\">\n",
       "  <thead>\n",
       "    <tr style=\"text-align: right;\">\n",
       "      <th></th>\n",
       "      <th>ID</th>\n",
       "      <th>NACHNAME</th>\n",
       "      <th>VORNAME</th>\n",
       "      <th>GEBURTSDATUM</th>\n",
       "      <th>GEBURTSORT</th>\n",
       "      <th>GEBURTSLAND</th>\n",
       "      <th>STERBEDATUM</th>\n",
       "      <th>GESCHLECHT</th>\n",
       "      <th>FAMILIENSTAND</th>\n",
       "      <th>RELIGION</th>\n",
       "      <th>...</th>\n",
       "      <th>16</th>\n",
       "      <th>1</th>\n",
       "      <th>17</th>\n",
       "      <th>18</th>\n",
       "      <th>19</th>\n",
       "      <th>20</th>\n",
       "      <th>GEBURSDATUM_DATE</th>\n",
       "      <th>RELIGION_MAPPED</th>\n",
       "      <th>FAMILIENSTAND_MAPPED</th>\n",
       "      <th>BERUF_MAPPED</th>\n",
       "    </tr>\n",
       "  </thead>\n",
       "  <tbody>\n",
       "    <tr>\n",
       "      <th>0</th>\n",
       "      <td>11000001</td>\n",
       "      <td>Abelein</td>\n",
       "      <td>Manfred</td>\n",
       "      <td>20.10.1930</td>\n",
       "      <td>Stuttgart</td>\n",
       "      <td>UNBEKANNT</td>\n",
       "      <td>17.01.2008</td>\n",
       "      <td>männlich</td>\n",
       "      <td>keine Angaben</td>\n",
       "      <td>katholisch</td>\n",
       "      <td>...</td>\n",
       "      <td>NaN</td>\n",
       "      <td>NaN</td>\n",
       "      <td>NaN</td>\n",
       "      <td>NaN</td>\n",
       "      <td>NaN</td>\n",
       "      <td>NaN</td>\n",
       "      <td>NaN</td>\n",
       "      <td>katholisch</td>\n",
       "      <td>keine Angaben</td>\n",
       "      <td>Jurist*in</td>\n",
       "    </tr>\n",
       "    <tr>\n",
       "      <th>1</th>\n",
       "      <td>11000002</td>\n",
       "      <td>Achenbach</td>\n",
       "      <td>Ernst</td>\n",
       "      <td>09.04.1909</td>\n",
       "      <td>Siegen</td>\n",
       "      <td>UNBEKANNT</td>\n",
       "      <td>02.12.1991</td>\n",
       "      <td>männlich</td>\n",
       "      <td>verheiratet, 3 Kinder</td>\n",
       "      <td>evangelisch</td>\n",
       "      <td>...</td>\n",
       "      <td>NaN</td>\n",
       "      <td>NaN</td>\n",
       "      <td>NaN</td>\n",
       "      <td>NaN</td>\n",
       "      <td>NaN</td>\n",
       "      <td>NaN</td>\n",
       "      <td>NaN</td>\n",
       "      <td>evangelisch</td>\n",
       "      <td>verh., 3 Kinder</td>\n",
       "      <td>Jurist*in</td>\n",
       "    </tr>\n",
       "    <tr>\n",
       "      <th>2</th>\n",
       "      <td>11000003</td>\n",
       "      <td>Ackermann</td>\n",
       "      <td>Annemarie</td>\n",
       "      <td>26.05.1913</td>\n",
       "      <td>Parabutsch</td>\n",
       "      <td>Jugoslawien</td>\n",
       "      <td>18.02.1994</td>\n",
       "      <td>weiblich</td>\n",
       "      <td>verheiratet, 5 Kinder</td>\n",
       "      <td>katholisch</td>\n",
       "      <td>...</td>\n",
       "      <td>NaN</td>\n",
       "      <td>NaN</td>\n",
       "      <td>NaN</td>\n",
       "      <td>NaN</td>\n",
       "      <td>NaN</td>\n",
       "      <td>NaN</td>\n",
       "      <td>NaN</td>\n",
       "      <td>katholisch</td>\n",
       "      <td>verh., &gt;3 Kinder</td>\n",
       "      <td>hilfsreferent</td>\n",
       "    </tr>\n",
       "    <tr>\n",
       "      <th>3</th>\n",
       "      <td>11000004</td>\n",
       "      <td>Ackermann</td>\n",
       "      <td>Else</td>\n",
       "      <td>06.11.1933</td>\n",
       "      <td>Berlin</td>\n",
       "      <td>UNBEKANNT</td>\n",
       "      <td>14.09.2019</td>\n",
       "      <td>weiblich</td>\n",
       "      <td>ledig</td>\n",
       "      <td>evangelisch</td>\n",
       "      <td>...</td>\n",
       "      <td>NaN</td>\n",
       "      <td>NaN</td>\n",
       "      <td>NaN</td>\n",
       "      <td>NaN</td>\n",
       "      <td>NaN</td>\n",
       "      <td>NaN</td>\n",
       "      <td>NaN</td>\n",
       "      <td>evangelisch</td>\n",
       "      <td>ledig</td>\n",
       "      <td>Arzt/Ärztin</td>\n",
       "    </tr>\n",
       "    <tr>\n",
       "      <th>4</th>\n",
       "      <td>11000005</td>\n",
       "      <td>Adam</td>\n",
       "      <td>Ulrich</td>\n",
       "      <td>09.06.1950</td>\n",
       "      <td>Teterow</td>\n",
       "      <td>UNBEKANNT</td>\n",
       "      <td>UNBEKANNT</td>\n",
       "      <td>männlich</td>\n",
       "      <td>verheiratet, 2 Kinder</td>\n",
       "      <td>evangelisch</td>\n",
       "      <td>...</td>\n",
       "      <td>1.0</td>\n",
       "      <td>NaN</td>\n",
       "      <td>NaN</td>\n",
       "      <td>NaN</td>\n",
       "      <td>NaN</td>\n",
       "      <td>NaN</td>\n",
       "      <td>NaN</td>\n",
       "      <td>evangelisch</td>\n",
       "      <td>verh., 2 Kinder</td>\n",
       "      <td>Naturwissenschaftler*in</td>\n",
       "    </tr>\n",
       "  </tbody>\n",
       "</table>\n",
       "<p>5 rows × 39 columns</p>\n",
       "</div>"
      ],
      "text/plain": [
       "         ID   NACHNAME    VORNAME GEBURTSDATUM  GEBURTSORT  GEBURTSLAND  \\\n",
       "0  11000001    Abelein    Manfred   20.10.1930   Stuttgart    UNBEKANNT   \n",
       "1  11000002  Achenbach      Ernst   09.04.1909      Siegen    UNBEKANNT   \n",
       "2  11000003  Ackermann  Annemarie   26.05.1913  Parabutsch  Jugoslawien   \n",
       "3  11000004  Ackermann       Else   06.11.1933      Berlin    UNBEKANNT   \n",
       "4  11000005       Adam     Ulrich   09.06.1950     Teterow    UNBEKANNT   \n",
       "\n",
       "  STERBEDATUM GESCHLECHT          FAMILIENSTAND     RELIGION  ...   16   1  \\\n",
       "0  17.01.2008   männlich          keine Angaben   katholisch  ...  NaN NaN   \n",
       "1  02.12.1991   männlich  verheiratet, 3 Kinder  evangelisch  ...  NaN NaN   \n",
       "2  18.02.1994   weiblich  verheiratet, 5 Kinder   katholisch  ...  NaN NaN   \n",
       "3  14.09.2019   weiblich                  ledig  evangelisch  ...  NaN NaN   \n",
       "4   UNBEKANNT   männlich  verheiratet, 2 Kinder  evangelisch  ...  1.0 NaN   \n",
       "\n",
       "   17  18  19  20  GEBURSDATUM_DATE  RELIGION_MAPPED  FAMILIENSTAND_MAPPED  \\\n",
       "0 NaN NaN NaN NaN               NaN       katholisch         keine Angaben   \n",
       "1 NaN NaN NaN NaN               NaN      evangelisch       verh., 3 Kinder   \n",
       "2 NaN NaN NaN NaN               NaN       katholisch      verh., >3 Kinder   \n",
       "3 NaN NaN NaN NaN               NaN      evangelisch                 ledig   \n",
       "4 NaN NaN NaN NaN               NaN      evangelisch       verh., 2 Kinder   \n",
       "\n",
       "              BERUF_MAPPED  \n",
       "0                Jurist*in  \n",
       "1                Jurist*in  \n",
       "2            hilfsreferent  \n",
       "3              Arzt/Ärztin  \n",
       "4  Naturwissenschaftler*in  \n",
       "\n",
       "[5 rows x 39 columns]"
      ]
     },
     "execution_count": 9,
     "metadata": {},
     "output_type": "execute_result"
    }
   ],
   "source": [
    "df_berufe.head()"
   ]
  },
  {
   "cell_type": "code",
   "execution_count": 10,
   "id": "4e3c46d6-451c-47a9-8d99-0f9bd48660eb",
   "metadata": {},
   "outputs": [
    {
     "data": {
      "text/html": [
       "<div>\n",
       "<style scoped>\n",
       "    .dataframe tbody tr th:only-of-type {\n",
       "        vertical-align: middle;\n",
       "    }\n",
       "\n",
       "    .dataframe tbody tr th {\n",
       "        vertical-align: top;\n",
       "    }\n",
       "\n",
       "    .dataframe thead th {\n",
       "        text-align: right;\n",
       "    }\n",
       "</style>\n",
       "<table border=\"1\" class=\"dataframe\">\n",
       "  <thead>\n",
       "    <tr style=\"text-align: right;\">\n",
       "      <th></th>\n",
       "      <th>VORNAME</th>\n",
       "      <th>NACHNAME</th>\n",
       "      <th>BERUF</th>\n",
       "      <th>BERUF_MAPPED</th>\n",
       "    </tr>\n",
       "  </thead>\n",
       "  <tbody>\n",
       "    <tr>\n",
       "      <th>3956</th>\n",
       "      <td>Heiko</td>\n",
       "      <td>Maas</td>\n",
       "      <td>Jurist</td>\n",
       "      <td>Jurist*in</td>\n",
       "    </tr>\n",
       "  </tbody>\n",
       "</table>\n",
       "</div>"
      ],
      "text/plain": [
       "     VORNAME NACHNAME   BERUF BERUF_MAPPED\n",
       "3956   Heiko     Maas  Jurist    Jurist*in"
      ]
     },
     "execution_count": 10,
     "metadata": {},
     "output_type": "execute_result"
    }
   ],
   "source": [
    "df_berufe[df_berufe['NACHNAME'] == 'Maas'][['VORNAME', 'NACHNAME', 'BERUF', 'BERUF_MAPPED']]"
   ]
  },
  {
   "cell_type": "code",
   "execution_count": 11,
   "id": "86b0b478-fae4-4262-8ac2-f7c551199493",
   "metadata": {},
   "outputs": [
    {
     "data": {
      "text/html": [
       "<div>\n",
       "<style scoped>\n",
       "    .dataframe tbody tr th:only-of-type {\n",
       "        vertical-align: middle;\n",
       "    }\n",
       "\n",
       "    .dataframe tbody tr th {\n",
       "        vertical-align: top;\n",
       "    }\n",
       "\n",
       "    .dataframe thead th {\n",
       "        text-align: right;\n",
       "    }\n",
       "</style>\n",
       "<table border=\"1\" class=\"dataframe\">\n",
       "  <thead>\n",
       "    <tr style=\"text-align: right;\">\n",
       "      <th></th>\n",
       "      <th>ID</th>\n",
       "    </tr>\n",
       "    <tr>\n",
       "      <th>BERUF</th>\n",
       "      <th></th>\n",
       "    </tr>\n",
       "  </thead>\n",
       "  <tbody>\n",
       "    <tr>\n",
       "      <th>Rechtsanwalt</th>\n",
       "      <td>202</td>\n",
       "    </tr>\n",
       "    <tr>\n",
       "      <th>Geschäftsführer</th>\n",
       "      <td>82</td>\n",
       "    </tr>\n",
       "    <tr>\n",
       "      <th>Landwirt</th>\n",
       "      <td>80</td>\n",
       "    </tr>\n",
       "    <tr>\n",
       "      <th>Angestellter</th>\n",
       "      <td>64</td>\n",
       "    </tr>\n",
       "    <tr>\n",
       "      <th>Rechtsanwalt und Notar</th>\n",
       "      <td>47</td>\n",
       "    </tr>\n",
       "  </tbody>\n",
       "</table>\n",
       "</div>"
      ],
      "text/plain": [
       "                         ID\n",
       "BERUF                      \n",
       "Rechtsanwalt            202\n",
       "Geschäftsführer          82\n",
       "Landwirt                 80\n",
       "Angestellter             64\n",
       "Rechtsanwalt und Notar   47"
      ]
     },
     "execution_count": 11,
     "metadata": {},
     "output_type": "execute_result"
    }
   ],
   "source": [
    "df_berufe[['ID','BERUF']].groupby('BERUF').count().sort_values(by='ID', ascending=False).head()"
   ]
  },
  {
   "cell_type": "code",
   "execution_count": 12,
   "id": "867fe183-1ef5-44f5-a8b0-4fdb603396b8",
   "metadata": {},
   "outputs": [
    {
     "data": {
      "text/plain": [
       "2319"
      ]
     },
     "execution_count": 12,
     "metadata": {},
     "output_type": "execute_result"
    }
   ],
   "source": [
    "len(set(df_berufe.BERUF))"
   ]
  },
  {
   "cell_type": "code",
   "execution_count": null,
   "id": "e933fb47-f0d1-4c02-afc5-bda09194c421",
   "metadata": {},
   "outputs": [],
   "source": []
  },
  {
   "cell_type": "code",
   "execution_count": 18,
   "id": "c74a4029-ee37-4c27-a08a-e9a2f5b62ca7",
   "metadata": {},
   "outputs": [
    {
     "data": {
      "text/plain": [
       "<module 'src.berufe_mapping' from '/Users/lena/code/bundestag-mining/notebooks/../src/berufe_mapping.py'>"
      ]
     },
     "execution_count": 18,
     "metadata": {},
     "output_type": "execute_result"
    }
   ],
   "source": [
    "import sys\n",
    "sys.path.append(\"..\") # TODO: this is not pretty!\n",
    "from importlib import reload\n",
    "import src.berufe_mapping as berufe_mapping\n",
    "reload(berufe_mapping)"
   ]
  },
  {
   "cell_type": "code",
   "execution_count": null,
   "id": "9706f6e9-e363-46b0-a717-0b62e75e4bc2",
   "metadata": {},
   "outputs": [],
   "source": []
  },
  {
   "cell_type": "code",
   "execution_count": 22,
   "id": "f241f9dc-4942-44c1-b235-ba158d935f20",
   "metadata": {},
   "outputs": [
    {
     "data": {
      "text/plain": [
       "1206"
      ]
     },
     "execution_count": 22,
     "metadata": {},
     "output_type": "execute_result"
    }
   ],
   "source": [
    "# already reduction: 2.2k => 0.9\n",
    "len(set(df_berufe.BERUF_MAPPED))"
   ]
  },
  {
   "cell_type": "code",
   "execution_count": 21,
   "id": "4b3902a5-3282-456d-9f58-482c9d5ff9f7",
   "metadata": {},
   "outputs": [
    {
     "data": {
      "text/html": [
       "<div>\n",
       "<style scoped>\n",
       "    .dataframe tbody tr th:only-of-type {\n",
       "        vertical-align: middle;\n",
       "    }\n",
       "\n",
       "    .dataframe tbody tr th {\n",
       "        vertical-align: top;\n",
       "    }\n",
       "\n",
       "    .dataframe thead th {\n",
       "        text-align: right;\n",
       "    }\n",
       "</style>\n",
       "<table border=\"1\" class=\"dataframe\">\n",
       "  <thead>\n",
       "    <tr style=\"text-align: right;\">\n",
       "      <th></th>\n",
       "      <th>ID</th>\n",
       "    </tr>\n",
       "    <tr>\n",
       "      <th>BERUF_MAPPED</th>\n",
       "      <th></th>\n",
       "    </tr>\n",
       "  </thead>\n",
       "  <tbody>\n",
       "    <tr>\n",
       "      <th>rechtsanwalt</th>\n",
       "      <td>397</td>\n",
       "    </tr>\n",
       "    <tr>\n",
       "      <th>geschäftsführer</th>\n",
       "      <td>109</td>\n",
       "    </tr>\n",
       "    <tr>\n",
       "      <th>landwirt</th>\n",
       "      <td>107</td>\n",
       "    </tr>\n",
       "    <tr>\n",
       "      <th>-ingenieur</th>\n",
       "      <td>99</td>\n",
       "    </tr>\n",
       "    <tr>\n",
       "      <th>jurist</th>\n",
       "      <td>90</td>\n",
       "    </tr>\n",
       "  </tbody>\n",
       "</table>\n",
       "</div>"
      ],
      "text/plain": [
       "                  ID\n",
       "BERUF_MAPPED        \n",
       "rechtsanwalt     397\n",
       "geschäftsführer  109\n",
       "landwirt         107\n",
       "-ingenieur        99\n",
       "jurist            90"
      ]
     },
     "execution_count": 21,
     "metadata": {},
     "output_type": "execute_result"
    }
   ],
   "source": [
    "df_berufe.BERUF_MAPPED = df_berufe.BERUF.copy()\n",
    "df_berufe = berufe_mapping.basic_cleaning_berufe(df_berufe, 'BERUF_MAPPED')\n",
    "df_berufe[['ID','BERUF_MAPPED']].groupby('BERUF_MAPPED').count().sort_values(by='ID', ascending=False).head()"
   ]
  },
  {
   "cell_type": "code",
   "execution_count": 23,
   "id": "646b384d-0e63-4b45-94eb-eb9e2b39b844",
   "metadata": {},
   "outputs": [
    {
     "data": {
      "text/plain": [
       "['rechtsanwalt',\n",
       " 'geschäftsführer',\n",
       " 'landwirt',\n",
       " '-ingenieur',\n",
       " 'jurist',\n",
       " 'lehrer',\n",
       " '-volkswirt',\n",
       " 'angestellter']"
      ]
     },
     "execution_count": 23,
     "metadata": {},
     "output_type": "execute_result"
    }
   ],
   "source": [
    "NUM_FREQ_JOBS = 256\n",
    "frequent_jobs = df_berufe[['ID','BERUF_MAPPED']].groupby('BERUF_MAPPED').count().sort_values(by='ID', ascending=False).head(NUM_FREQ_JOBS).index\n",
    "frequent_jobs_list = [job for job in frequent_jobs.str.lower()]\n",
    "list(frequent_jobs_list)[:8]"
   ]
  },
  {
   "cell_type": "code",
   "execution_count": 24,
   "id": "86b38aca-5d10-46c2-bcb6-fb9a2d700581",
   "metadata": {},
   "outputs": [],
   "source": [
    "# embedding source https://deepset.ai/german-word-embeddings\n",
    "glove_path = os.path.join('data', 'GloVe_vectors_de.txt')"
   ]
  },
  {
   "cell_type": "code",
   "execution_count": 25,
   "id": "34f6048f-ce0d-4fd8-982c-01e8f4916e75",
   "metadata": {},
   "outputs": [
    {
     "ename": "FileNotFoundError",
     "evalue": "[Errno 2] No such file or directory: 'data/GloVe_vectors_de.txt'",
     "output_type": "error",
     "traceback": [
      "\u001b[0;31m---------------------------------------------------------------------------\u001b[0m",
      "\u001b[0;31mFileNotFoundError\u001b[0m                         Traceback (most recent call last)",
      "Cell \u001b[0;32mIn[25], line 2\u001b[0m\n\u001b[1;32m      1\u001b[0m embeddings_index \u001b[38;5;241m=\u001b[39m {}\n\u001b[0;32m----> 2\u001b[0m \u001b[38;5;28;01mwith\u001b[39;00m \u001b[38;5;28;43mopen\u001b[39;49m\u001b[43m(\u001b[49m\u001b[43mglove_path\u001b[49m\u001b[43m)\u001b[49m \u001b[38;5;28;01mas\u001b[39;00m f:\n\u001b[1;32m      3\u001b[0m     \u001b[38;5;28;01mfor\u001b[39;00m line \u001b[38;5;129;01min\u001b[39;00m f:\n\u001b[1;32m      4\u001b[0m         word, coefs \u001b[38;5;241m=\u001b[39m line\u001b[38;5;241m.\u001b[39msplit(maxsplit\u001b[38;5;241m=\u001b[39m\u001b[38;5;241m1\u001b[39m)\n",
      "File \u001b[0;32m~/Library/Python/3.11/lib/python/site-packages/IPython/core/interactiveshell.py:282\u001b[0m, in \u001b[0;36m_modified_open\u001b[0;34m(file, *args, **kwargs)\u001b[0m\n\u001b[1;32m    275\u001b[0m \u001b[38;5;28;01mif\u001b[39;00m file \u001b[38;5;129;01min\u001b[39;00m {\u001b[38;5;241m0\u001b[39m, \u001b[38;5;241m1\u001b[39m, \u001b[38;5;241m2\u001b[39m}:\n\u001b[1;32m    276\u001b[0m     \u001b[38;5;28;01mraise\u001b[39;00m \u001b[38;5;167;01mValueError\u001b[39;00m(\n\u001b[1;32m    277\u001b[0m         \u001b[38;5;124mf\u001b[39m\u001b[38;5;124m\"\u001b[39m\u001b[38;5;124mIPython won\u001b[39m\u001b[38;5;124m'\u001b[39m\u001b[38;5;124mt let you open fd=\u001b[39m\u001b[38;5;132;01m{\u001b[39;00mfile\u001b[38;5;132;01m}\u001b[39;00m\u001b[38;5;124m by default \u001b[39m\u001b[38;5;124m\"\u001b[39m\n\u001b[1;32m    278\u001b[0m         \u001b[38;5;124m\"\u001b[39m\u001b[38;5;124mas it is likely to crash IPython. If you know what you are doing, \u001b[39m\u001b[38;5;124m\"\u001b[39m\n\u001b[1;32m    279\u001b[0m         \u001b[38;5;124m\"\u001b[39m\u001b[38;5;124myou can use builtins\u001b[39m\u001b[38;5;124m'\u001b[39m\u001b[38;5;124m open.\u001b[39m\u001b[38;5;124m\"\u001b[39m\n\u001b[1;32m    280\u001b[0m     )\n\u001b[0;32m--> 282\u001b[0m \u001b[38;5;28;01mreturn\u001b[39;00m \u001b[43mio_open\u001b[49m\u001b[43m(\u001b[49m\u001b[43mfile\u001b[49m\u001b[43m,\u001b[49m\u001b[43m \u001b[49m\u001b[38;5;241;43m*\u001b[39;49m\u001b[43margs\u001b[49m\u001b[43m,\u001b[49m\u001b[43m \u001b[49m\u001b[38;5;241;43m*\u001b[39;49m\u001b[38;5;241;43m*\u001b[39;49m\u001b[43mkwargs\u001b[49m\u001b[43m)\u001b[49m\n",
      "\u001b[0;31mFileNotFoundError\u001b[0m: [Errno 2] No such file or directory: 'data/GloVe_vectors_de.txt'"
     ]
    }
   ],
   "source": [
    "embeddings_index = {}\n",
    "with open(glove_path) as f:\n",
    "    for line in f:\n",
    "        word, coefs = line.split(maxsplit=1)\n",
    "        coefs = np.fromstring(coefs, \"f\", sep=\" \")\n",
    "        embeddings_index[word] = coefs\n",
    "\n",
    "print(\"Found %s word vectors.\" % len(embeddings_index))"
   ]
  },
  {
   "cell_type": "code",
   "execution_count": null,
   "id": "fb36ccbe-8c73-4e5e-b40c-d37ae70e28cf",
   "metadata": {},
   "outputs": [],
   "source": [
    "coefs.shape"
   ]
  },
  {
   "cell_type": "code",
   "execution_count": null,
   "id": "ed9b4807-57ea-48c2-a2b9-05cca71f1241",
   "metadata": {},
   "outputs": [],
   "source": [
    "embeddings_index['baum'].shape"
   ]
  },
  {
   "cell_type": "code",
   "execution_count": null,
   "id": "bf0f4442-a82a-4739-bd8d-a366b61f26b7",
   "metadata": {},
   "outputs": [],
   "source": [
    "job_dict = {}\n",
    "for job in frequent_jobs_list:\n",
    "    if job in embeddings_index.keys():\n",
    "        job_dict[job] = embeddings_index[job]\n",
    "    else:\n",
    "        print(f'sorry not found: {job}')"
   ]
  },
  {
   "cell_type": "code",
   "execution_count": null,
   "id": "80a5365d-d4ee-4578-91aa-db3b03e3a1d8",
   "metadata": {},
   "outputs": [],
   "source": [
    "len(job_dict)"
   ]
  },
  {
   "cell_type": "code",
   "execution_count": null,
   "id": "1e053fea-b70b-4da0-9ae6-b5b6620dad05",
   "metadata": {},
   "outputs": [],
   "source": [
    "df_job_dict = pd.DataFrame(job_dict).T\n",
    "df_job_dict"
   ]
  },
  {
   "cell_type": "code",
   "execution_count": null,
   "id": "fb72acdf-04ba-45ff-ba45-72d292c4a731",
   "metadata": {},
   "outputs": [],
   "source": [
    "from sklearn.cluster import KMeans, DBSCAN\n",
    "\n",
    "NCLUSTER = 32\n",
    "kmeans = KMeans(n_clusters=NCLUSTER).fit(df_job_dict)\n",
    "#clustering = DBSCAN(eps=3, min_samples=2).fit(df_job_dict)\n"
   ]
  },
  {
   "cell_type": "code",
   "execution_count": null,
   "id": "88282e22-239a-43ad-beae-feac7360715e",
   "metadata": {},
   "outputs": [],
   "source": [
    "labels = kmeans.labels_\n",
    "len(labels)"
   ]
  },
  {
   "cell_type": "code",
   "execution_count": null,
   "id": "ef18c272-997d-4a7f-b1f1-d94539dc0258",
   "metadata": {},
   "outputs": [],
   "source": [
    "for cluster in range(NCLUSTER):\n",
    "    print()\n",
    "    print(f'cluster number {cluster}')\n",
    "    print(df_job_dict.iloc[labels==cluster].index)"
   ]
  },
  {
   "cell_type": "code",
   "execution_count": null,
   "id": "6cd45407-538e-447e-85f4-1733a3f0928f",
   "metadata": {},
   "outputs": [],
   "source": [
    "df_job_dict.iloc[labels==6].index"
   ]
  },
  {
   "cell_type": "code",
   "execution_count": null,
   "id": "27de609b-06d9-47e1-a3f8-ec3f839785e6",
   "metadata": {},
   "outputs": [],
   "source": []
  }
 ],
 "metadata": {
  "kernelspec": {
   "display_name": "Python 3 (ipykernel)",
   "language": "python",
   "name": "python3"
  },
  "language_info": {
   "codemirror_mode": {
    "name": "ipython",
    "version": 3
   },
   "file_extension": ".py",
   "mimetype": "text/x-python",
   "name": "python",
   "nbconvert_exporter": "python",
   "pygments_lexer": "ipython3",
   "version": "3.11.12"
  }
 },
 "nbformat": 4,
 "nbformat_minor": 5
}
