{
 "cells": [
  {
   "cell_type": "code",
   "execution_count": 1,
   "id": "26e608bc-1a79-47d1-99e9-fc4e6495e7da",
   "metadata": {},
   "outputs": [],
   "source": [
    "import pandas as pd\n",
    "import numpy as np\n",
    "import re\n",
    "from datetime import datetime\n",
    "import matplotlib.pyplot as plt\n",
    "from pathlib import Path\n",
    "import xml.etree.ElementTree as ET"
   ]
  },
  {
   "cell_type": "markdown",
   "id": "ccc0ce95-6434-463f-b2a1-38d2154b7e51",
   "metadata": {},
   "source": [
    "### Quelle der Daten: \n",
    "https://www.bundestag.de/services/opendata\n",
    "\n",
    "### Erläuterungen\n",
    "WP steht für Wahlperiode"
   ]
  },
  {
   "cell_type": "code",
   "execution_count": 2,
   "id": "6b155448-86de-4034-959a-7ee3f7ec5fcd",
   "metadata": {},
   "outputs": [],
   "source": [
    "DATA_PATH = Path('data')\n",
    "MDB_XML_PATH = DATA_PATH / 'MDB_STAMMDATEN.XML'\n",
    "DF_MDB_PATH = DATA_PATH / 'df_mdb.csv' #one row per individuum, one col per wp containing 0 / 1\n",
    "DF_MDB_WP_PATH = DATA_PATH / 'df_mdb_wp.csv' # one row per individuum per wp, containting e.g. 12. so one abgeordneter who has been in parliament for several wp will receive one row per wp"
   ]
  },
  {
   "cell_type": "markdown",
   "id": "8d597687-4d1e-4d44-bd4c-d03d98c9ed0b",
   "metadata": {},
   "source": [
    "# parse xml data into dataFrame / .csv fomat"
   ]
  },
  {
   "cell_type": "code",
   "execution_count": 3,
   "id": "2106e6ee-0ad4-4c0a-9d93-5668b07eefa6",
   "metadata": {},
   "outputs": [],
   "source": [
    "def get_mdb_data(mdb_xml_path = MDB_XML_PATH):\n",
    "    \"\"\"get data frame of MDP data\n",
    "    ID | NACHNAME | VORNAME |  ... | BERUF\"\"\"\n",
    "    list_of_mdb = []\n",
    "    MDB_STAMMDATEN = ET.parse(mdb_xml_path)\n",
    "    root = MDB_STAMMDATEN.getroot()\n",
    "    \n",
    "    for mdb in root.findall('MDB'):\n",
    "        mdb_dict = {}\n",
    "        ID, NAMEN, BIOGRAFISCHE_ANGABEN, WAHLPERIODEN = mdb[0], mdb[1], mdb[2], mdb[3]\n",
    "\n",
    "        mdb_dict['ID'] = ID.text\n",
    "        mdb_dict['NACHNAME'] = NAMEN.find('NAME').find('NACHNAME').text  \n",
    "        mdb_dict['VORNAME'] = NAMEN.find('NAME').find('VORNAME').text  \n",
    "\n",
    "        #print(mdb.tag, mdb.text, mdb.findall('NACHNAME'))\n",
    "        for element in BIOGRAFISCHE_ANGABEN:\n",
    "            mdb_dict[element.tag] = element.text\n",
    "\n",
    "        mdb_dict['ANZ_WAHLPERIODEN'] = len(list(WAHLPERIODEN))\n",
    "\n",
    "        for wahlperiode in WAHLPERIODEN:\n",
    "            mdb_dict[int(wahlperiode.find('WP').text)] = 1\n",
    "\n",
    "        list_of_mdb.append(mdb_dict)\n",
    "    return pd.DataFrame(list_of_mdb)"
   ]
  },
  {
   "cell_type": "code",
   "execution_count": null,
   "id": "88fe5b94-1517-472c-aef3-4f39726557f0",
   "metadata": {},
   "outputs": [],
   "source": []
  },
  {
   "cell_type": "code",
   "execution_count": 4,
   "id": "d1bb74f3-12a5-4698-a1f5-776cdd0be454",
   "metadata": {},
   "outputs": [],
   "source": [
    "def get_mdb_wp_data(df_mdb):\n",
    "    \"\"\"\n",
    "    reformat\n",
    "    peter | lustig | wp1 | wp2\n",
    "    \n",
    "    into\n",
    "    peter | lustig | wp1\n",
    "    peter | lustig | wp2\n",
    "    \"\"\"\n",
    "    \n",
    "    wps = [column for column in df_mdb.columns if isinstance(column, int)] # probably 1 to 19 or 20\n",
    "    columns_to_keep = [column for column in df_mdb.columns if not isinstance(column, int)] # 'BERUF', 'VITA_KURZ' etc\n",
    "    \n",
    "    # should be 19 before 2021, 20 afterwards\n",
    "    max_wp = max(wps)\n",
    "    \n",
    "    # this could be optimized but only runs once for about 2 Minutes\n",
    "    new_entries = []\n",
    "    for idx, row in df_mdb.iterrows():\n",
    "        for wp in wps:\n",
    "            if row[wp] == 1:\n",
    "                new_entry = row[columns_to_keep]\n",
    "                new_entry['WP'] = wp\n",
    "                new_entries.append(new_entry)\n",
    "    \n",
    "    mdb_wp = pd.DataFrame(new_entries)\n",
    "    return(mdb_wp)"
   ]
  },
  {
   "cell_type": "code",
   "execution_count": 5,
   "id": "678fb266-28a6-489e-85f2-b08d63c11ab8",
   "metadata": {},
   "outputs": [
    {
     "name": "stdout",
     "output_type": "stream",
     "text": [
      "(4089, 34)\n"
     ]
    },
    {
     "data": {
      "text/html": [
       "<div>\n",
       "<style scoped>\n",
       "    .dataframe tbody tr th:only-of-type {\n",
       "        vertical-align: middle;\n",
       "    }\n",
       "\n",
       "    .dataframe tbody tr th {\n",
       "        vertical-align: top;\n",
       "    }\n",
       "\n",
       "    .dataframe thead th {\n",
       "        text-align: right;\n",
       "    }\n",
       "</style>\n",
       "<table border=\"1\" class=\"dataframe\">\n",
       "  <thead>\n",
       "    <tr style=\"text-align: right;\">\n",
       "      <th></th>\n",
       "      <th>ID</th>\n",
       "      <th>NACHNAME</th>\n",
       "      <th>VORNAME</th>\n",
       "      <th>GEBURTSDATUM</th>\n",
       "      <th>GEBURTSORT</th>\n",
       "      <th>GEBURTSLAND</th>\n",
       "      <th>STERBEDATUM</th>\n",
       "      <th>GESCHLECHT</th>\n",
       "      <th>FAMILIENSTAND</th>\n",
       "      <th>RELIGION</th>\n",
       "      <th>...</th>\n",
       "      <th>2</th>\n",
       "      <th>12</th>\n",
       "      <th>13</th>\n",
       "      <th>14</th>\n",
       "      <th>15</th>\n",
       "      <th>16</th>\n",
       "      <th>1</th>\n",
       "      <th>17</th>\n",
       "      <th>18</th>\n",
       "      <th>19</th>\n",
       "    </tr>\n",
       "  </thead>\n",
       "  <tbody>\n",
       "    <tr>\n",
       "      <th>0</th>\n",
       "      <td>11000001</td>\n",
       "      <td>Abelein</td>\n",
       "      <td>Manfred</td>\n",
       "      <td>20.10.1930</td>\n",
       "      <td>Stuttgart</td>\n",
       "      <td>None</td>\n",
       "      <td>17.01.2008</td>\n",
       "      <td>männlich</td>\n",
       "      <td>keine Angaben</td>\n",
       "      <td>katholisch</td>\n",
       "      <td>...</td>\n",
       "      <td>NaN</td>\n",
       "      <td>NaN</td>\n",
       "      <td>NaN</td>\n",
       "      <td>NaN</td>\n",
       "      <td>NaN</td>\n",
       "      <td>NaN</td>\n",
       "      <td>NaN</td>\n",
       "      <td>NaN</td>\n",
       "      <td>NaN</td>\n",
       "      <td>NaN</td>\n",
       "    </tr>\n",
       "    <tr>\n",
       "      <th>1</th>\n",
       "      <td>11000002</td>\n",
       "      <td>Achenbach</td>\n",
       "      <td>Ernst</td>\n",
       "      <td>09.04.1909</td>\n",
       "      <td>Siegen</td>\n",
       "      <td>None</td>\n",
       "      <td>02.12.1991</td>\n",
       "      <td>männlich</td>\n",
       "      <td>verheiratet, 3 Kinder</td>\n",
       "      <td>evangelisch</td>\n",
       "      <td>...</td>\n",
       "      <td>NaN</td>\n",
       "      <td>NaN</td>\n",
       "      <td>NaN</td>\n",
       "      <td>NaN</td>\n",
       "      <td>NaN</td>\n",
       "      <td>NaN</td>\n",
       "      <td>NaN</td>\n",
       "      <td>NaN</td>\n",
       "      <td>NaN</td>\n",
       "      <td>NaN</td>\n",
       "    </tr>\n",
       "    <tr>\n",
       "      <th>2</th>\n",
       "      <td>11000003</td>\n",
       "      <td>Ackermann</td>\n",
       "      <td>Annemarie</td>\n",
       "      <td>26.05.1913</td>\n",
       "      <td>Parabutsch</td>\n",
       "      <td>Jugoslawien</td>\n",
       "      <td>18.02.1994</td>\n",
       "      <td>weiblich</td>\n",
       "      <td>verheiratet, 5 Kinder</td>\n",
       "      <td>katholisch</td>\n",
       "      <td>...</td>\n",
       "      <td>1.0</td>\n",
       "      <td>NaN</td>\n",
       "      <td>NaN</td>\n",
       "      <td>NaN</td>\n",
       "      <td>NaN</td>\n",
       "      <td>NaN</td>\n",
       "      <td>NaN</td>\n",
       "      <td>NaN</td>\n",
       "      <td>NaN</td>\n",
       "      <td>NaN</td>\n",
       "    </tr>\n",
       "    <tr>\n",
       "      <th>3</th>\n",
       "      <td>11000004</td>\n",
       "      <td>Ackermann</td>\n",
       "      <td>Else</td>\n",
       "      <td>06.11.1933</td>\n",
       "      <td>Berlin</td>\n",
       "      <td>None</td>\n",
       "      <td>14.09.2019</td>\n",
       "      <td>weiblich</td>\n",
       "      <td>ledig</td>\n",
       "      <td>evangelisch</td>\n",
       "      <td>...</td>\n",
       "      <td>NaN</td>\n",
       "      <td>1.0</td>\n",
       "      <td>NaN</td>\n",
       "      <td>NaN</td>\n",
       "      <td>NaN</td>\n",
       "      <td>NaN</td>\n",
       "      <td>NaN</td>\n",
       "      <td>NaN</td>\n",
       "      <td>NaN</td>\n",
       "      <td>NaN</td>\n",
       "    </tr>\n",
       "    <tr>\n",
       "      <th>4</th>\n",
       "      <td>11000005</td>\n",
       "      <td>Adam</td>\n",
       "      <td>Ulrich</td>\n",
       "      <td>09.06.1950</td>\n",
       "      <td>Teterow, Kr. Teterow, Bezirk Neubrandenburg</td>\n",
       "      <td>None</td>\n",
       "      <td>None</td>\n",
       "      <td>männlich</td>\n",
       "      <td>verheiratet, 2 Kinder</td>\n",
       "      <td>evangelisch</td>\n",
       "      <td>...</td>\n",
       "      <td>NaN</td>\n",
       "      <td>1.0</td>\n",
       "      <td>1.0</td>\n",
       "      <td>1.0</td>\n",
       "      <td>1.0</td>\n",
       "      <td>1.0</td>\n",
       "      <td>NaN</td>\n",
       "      <td>NaN</td>\n",
       "      <td>NaN</td>\n",
       "      <td>NaN</td>\n",
       "    </tr>\n",
       "  </tbody>\n",
       "</table>\n",
       "<p>5 rows × 34 columns</p>\n",
       "</div>"
      ],
      "text/plain": [
       "         ID   NACHNAME    VORNAME GEBURTSDATUM  \\\n",
       "0  11000001    Abelein    Manfred   20.10.1930   \n",
       "1  11000002  Achenbach      Ernst   09.04.1909   \n",
       "2  11000003  Ackermann  Annemarie   26.05.1913   \n",
       "3  11000004  Ackermann       Else   06.11.1933   \n",
       "4  11000005       Adam     Ulrich   09.06.1950   \n",
       "\n",
       "                                    GEBURTSORT  GEBURTSLAND STERBEDATUM  \\\n",
       "0                                    Stuttgart         None  17.01.2008   \n",
       "1                                       Siegen         None  02.12.1991   \n",
       "2                                   Parabutsch  Jugoslawien  18.02.1994   \n",
       "3                                       Berlin         None  14.09.2019   \n",
       "4  Teterow, Kr. Teterow, Bezirk Neubrandenburg         None        None   \n",
       "\n",
       "  GESCHLECHT          FAMILIENSTAND     RELIGION  ...    2   12   13   14  \\\n",
       "0   männlich          keine Angaben   katholisch  ...  NaN  NaN  NaN  NaN   \n",
       "1   männlich  verheiratet, 3 Kinder  evangelisch  ...  NaN  NaN  NaN  NaN   \n",
       "2   weiblich  verheiratet, 5 Kinder   katholisch  ...  1.0  NaN  NaN  NaN   \n",
       "3   weiblich                  ledig  evangelisch  ...  NaN  1.0  NaN  NaN   \n",
       "4   männlich  verheiratet, 2 Kinder  evangelisch  ...  NaN  1.0  1.0  1.0   \n",
       "\n",
       "    15   16   1  17  18  19  \n",
       "0  NaN  NaN NaN NaN NaN NaN  \n",
       "1  NaN  NaN NaN NaN NaN NaN  \n",
       "2  NaN  NaN NaN NaN NaN NaN  \n",
       "3  NaN  NaN NaN NaN NaN NaN  \n",
       "4  1.0  1.0 NaN NaN NaN NaN  \n",
       "\n",
       "[5 rows x 34 columns]"
      ]
     },
     "execution_count": 5,
     "metadata": {},
     "output_type": "execute_result"
    }
   ],
   "source": [
    "df_mdb = get_mdb_data(MDB_XML_PATH)\n",
    "print(df_mdb.shape)\n",
    "df_mdb.head()"
   ]
  },
  {
   "cell_type": "code",
   "execution_count": 6,
   "id": "ce4b1366-2557-4991-9f9a-34930d80c43e",
   "metadata": {},
   "outputs": [],
   "source": [
    "df_mdb_wp = get_mdb_wp_data(df_mdb)"
   ]
  },
  {
   "cell_type": "markdown",
   "id": "fc3e1891-3db0-49e1-9c07-1506c4f22a48",
   "metadata": {},
   "source": [
    "# compute Age"
   ]
  },
  {
   "cell_type": "code",
   "execution_count": 7,
   "id": "e6dc9713-83f1-438c-873d-ea56f1350e9a",
   "metadata": {},
   "outputs": [],
   "source": [
    "df_mdb['GEBURSDATUM_DATE'] = pd.to_datetime(df_mdb.GEBURTSDATUM)"
   ]
  },
  {
   "cell_type": "code",
   "execution_count": 8,
   "id": "fd3d5e6b-dc45-41e6-9e61-234c4c04d2bc",
   "metadata": {},
   "outputs": [
    {
     "data": {
      "text/html": [
       "<div>\n",
       "<style scoped>\n",
       "    .dataframe tbody tr th:only-of-type {\n",
       "        vertical-align: middle;\n",
       "    }\n",
       "\n",
       "    .dataframe tbody tr th {\n",
       "        vertical-align: top;\n",
       "    }\n",
       "\n",
       "    .dataframe thead th {\n",
       "        text-align: right;\n",
       "    }\n",
       "</style>\n",
       "<table border=\"1\" class=\"dataframe\">\n",
       "  <thead>\n",
       "    <tr style=\"text-align: right;\">\n",
       "      <th></th>\n",
       "      <th>ID</th>\n",
       "      <th>NACHNAME</th>\n",
       "      <th>VORNAME</th>\n",
       "      <th>GEBURTSDATUM</th>\n",
       "      <th>GEBURTSORT</th>\n",
       "      <th>GEBURTSLAND</th>\n",
       "      <th>STERBEDATUM</th>\n",
       "      <th>GESCHLECHT</th>\n",
       "      <th>FAMILIENSTAND</th>\n",
       "      <th>RELIGION</th>\n",
       "      <th>...</th>\n",
       "      <th>12</th>\n",
       "      <th>13</th>\n",
       "      <th>14</th>\n",
       "      <th>15</th>\n",
       "      <th>16</th>\n",
       "      <th>1</th>\n",
       "      <th>17</th>\n",
       "      <th>18</th>\n",
       "      <th>19</th>\n",
       "      <th>GEBURSDATUM_DATE</th>\n",
       "    </tr>\n",
       "  </thead>\n",
       "  <tbody>\n",
       "    <tr>\n",
       "      <th>0</th>\n",
       "      <td>11000001</td>\n",
       "      <td>Abelein</td>\n",
       "      <td>Manfred</td>\n",
       "      <td>20.10.1930</td>\n",
       "      <td>Stuttgart</td>\n",
       "      <td>None</td>\n",
       "      <td>17.01.2008</td>\n",
       "      <td>männlich</td>\n",
       "      <td>keine Angaben</td>\n",
       "      <td>katholisch</td>\n",
       "      <td>...</td>\n",
       "      <td>NaN</td>\n",
       "      <td>NaN</td>\n",
       "      <td>NaN</td>\n",
       "      <td>NaN</td>\n",
       "      <td>NaN</td>\n",
       "      <td>NaN</td>\n",
       "      <td>NaN</td>\n",
       "      <td>NaN</td>\n",
       "      <td>NaN</td>\n",
       "      <td>1930-10-20</td>\n",
       "    </tr>\n",
       "    <tr>\n",
       "      <th>1</th>\n",
       "      <td>11000002</td>\n",
       "      <td>Achenbach</td>\n",
       "      <td>Ernst</td>\n",
       "      <td>09.04.1909</td>\n",
       "      <td>Siegen</td>\n",
       "      <td>None</td>\n",
       "      <td>02.12.1991</td>\n",
       "      <td>männlich</td>\n",
       "      <td>verheiratet, 3 Kinder</td>\n",
       "      <td>evangelisch</td>\n",
       "      <td>...</td>\n",
       "      <td>NaN</td>\n",
       "      <td>NaN</td>\n",
       "      <td>NaN</td>\n",
       "      <td>NaN</td>\n",
       "      <td>NaN</td>\n",
       "      <td>NaN</td>\n",
       "      <td>NaN</td>\n",
       "      <td>NaN</td>\n",
       "      <td>NaN</td>\n",
       "      <td>1909-09-04</td>\n",
       "    </tr>\n",
       "    <tr>\n",
       "      <th>2</th>\n",
       "      <td>11000003</td>\n",
       "      <td>Ackermann</td>\n",
       "      <td>Annemarie</td>\n",
       "      <td>26.05.1913</td>\n",
       "      <td>Parabutsch</td>\n",
       "      <td>Jugoslawien</td>\n",
       "      <td>18.02.1994</td>\n",
       "      <td>weiblich</td>\n",
       "      <td>verheiratet, 5 Kinder</td>\n",
       "      <td>katholisch</td>\n",
       "      <td>...</td>\n",
       "      <td>NaN</td>\n",
       "      <td>NaN</td>\n",
       "      <td>NaN</td>\n",
       "      <td>NaN</td>\n",
       "      <td>NaN</td>\n",
       "      <td>NaN</td>\n",
       "      <td>NaN</td>\n",
       "      <td>NaN</td>\n",
       "      <td>NaN</td>\n",
       "      <td>1913-05-26</td>\n",
       "    </tr>\n",
       "    <tr>\n",
       "      <th>3</th>\n",
       "      <td>11000004</td>\n",
       "      <td>Ackermann</td>\n",
       "      <td>Else</td>\n",
       "      <td>06.11.1933</td>\n",
       "      <td>Berlin</td>\n",
       "      <td>None</td>\n",
       "      <td>14.09.2019</td>\n",
       "      <td>weiblich</td>\n",
       "      <td>ledig</td>\n",
       "      <td>evangelisch</td>\n",
       "      <td>...</td>\n",
       "      <td>1.0</td>\n",
       "      <td>NaN</td>\n",
       "      <td>NaN</td>\n",
       "      <td>NaN</td>\n",
       "      <td>NaN</td>\n",
       "      <td>NaN</td>\n",
       "      <td>NaN</td>\n",
       "      <td>NaN</td>\n",
       "      <td>NaN</td>\n",
       "      <td>1933-06-11</td>\n",
       "    </tr>\n",
       "    <tr>\n",
       "      <th>4</th>\n",
       "      <td>11000005</td>\n",
       "      <td>Adam</td>\n",
       "      <td>Ulrich</td>\n",
       "      <td>09.06.1950</td>\n",
       "      <td>Teterow, Kr. Teterow, Bezirk Neubrandenburg</td>\n",
       "      <td>None</td>\n",
       "      <td>None</td>\n",
       "      <td>männlich</td>\n",
       "      <td>verheiratet, 2 Kinder</td>\n",
       "      <td>evangelisch</td>\n",
       "      <td>...</td>\n",
       "      <td>1.0</td>\n",
       "      <td>1.0</td>\n",
       "      <td>1.0</td>\n",
       "      <td>1.0</td>\n",
       "      <td>1.0</td>\n",
       "      <td>NaN</td>\n",
       "      <td>NaN</td>\n",
       "      <td>NaN</td>\n",
       "      <td>NaN</td>\n",
       "      <td>1950-09-06</td>\n",
       "    </tr>\n",
       "  </tbody>\n",
       "</table>\n",
       "<p>5 rows × 35 columns</p>\n",
       "</div>"
      ],
      "text/plain": [
       "         ID   NACHNAME    VORNAME GEBURTSDATUM  \\\n",
       "0  11000001    Abelein    Manfred   20.10.1930   \n",
       "1  11000002  Achenbach      Ernst   09.04.1909   \n",
       "2  11000003  Ackermann  Annemarie   26.05.1913   \n",
       "3  11000004  Ackermann       Else   06.11.1933   \n",
       "4  11000005       Adam     Ulrich   09.06.1950   \n",
       "\n",
       "                                    GEBURTSORT  GEBURTSLAND STERBEDATUM  \\\n",
       "0                                    Stuttgart         None  17.01.2008   \n",
       "1                                       Siegen         None  02.12.1991   \n",
       "2                                   Parabutsch  Jugoslawien  18.02.1994   \n",
       "3                                       Berlin         None  14.09.2019   \n",
       "4  Teterow, Kr. Teterow, Bezirk Neubrandenburg         None        None   \n",
       "\n",
       "  GESCHLECHT          FAMILIENSTAND     RELIGION  ...   12   13   14   15  \\\n",
       "0   männlich          keine Angaben   katholisch  ...  NaN  NaN  NaN  NaN   \n",
       "1   männlich  verheiratet, 3 Kinder  evangelisch  ...  NaN  NaN  NaN  NaN   \n",
       "2   weiblich  verheiratet, 5 Kinder   katholisch  ...  NaN  NaN  NaN  NaN   \n",
       "3   weiblich                  ledig  evangelisch  ...  1.0  NaN  NaN  NaN   \n",
       "4   männlich  verheiratet, 2 Kinder  evangelisch  ...  1.0  1.0  1.0  1.0   \n",
       "\n",
       "    16   1  17  18  19  GEBURSDATUM_DATE  \n",
       "0  NaN NaN NaN NaN NaN        1930-10-20  \n",
       "1  NaN NaN NaN NaN NaN        1909-09-04  \n",
       "2  NaN NaN NaN NaN NaN        1913-05-26  \n",
       "3  NaN NaN NaN NaN NaN        1933-06-11  \n",
       "4  1.0 NaN NaN NaN NaN        1950-09-06  \n",
       "\n",
       "[5 rows x 35 columns]"
      ]
     },
     "execution_count": 8,
     "metadata": {},
     "output_type": "execute_result"
    }
   ],
   "source": [
    "df_mdb.head()"
   ]
  },
  {
   "cell_type": "code",
   "execution_count": 9,
   "id": "52bd881e-39d1-4d71-a178-bd4c0cffe6f9",
   "metadata": {},
   "outputs": [
    {
     "name": "stdout",
     "output_type": "stream",
     "text": [
      "  START_DATE\n",
      "1 1949-09-07\n",
      "2 1953-10-06\n",
      "3 1957-10-15\n",
      "4 1961-10-17\n",
      "5 1965-10-19\n"
     ]
    }
   ],
   "source": [
    "wp_startdaten = {\n",
    "    1:datetime(1949, 9, 7), # Der 1. Deutsche Bundestag bestand zwischen dem 7. September 1949[1] und dem 7. September 1953\n",
    "    2:datetime(1953, 10, 6), # Der 2. Deutsche Bundestag bestand zwischen dem 6. Oktober 1953[1] und dem 6. Oktober 1957\n",
    "    3:datetime(1957, 10, 15), # Der 3. Deutsche Bundestag bestand zwischen dem 15. Oktober 1957[1] und dem 15. Oktober 1961\n",
    "    4:datetime(1961, 10, 17), # Der 4. Deutsche Bundestag bestand zwischen dem 17. Oktober 1961[1] und dem 17. Oktober 196\n",
    "    5:datetime(1965, 10, 19), # Der 5. Deutsche Bundestag bestand zwischen dem 19. Oktober 1965[1] und dem 19. Oktober 1969\n",
    "    6:datetime(1969, 10, 20), # Der 6. Deutsche Bundestag bestand zwischen dem 20. Oktober 1969[1] und dem 13. Dezember 1972\n",
    "    7:datetime(1972, 12, 13), #? Der 7. Deutsche Bundestag wurde am 19. November 1972 gewählt\n",
    "    8:datetime(1976, 12, 14), # Der 8. Deutsche Bundestag bestand zwischen dem 14. Dezember 1976[1] und dem 4. November 1980\n",
    "    9:datetime(1980, 11, 4),# Der 9. Deutsche Bundestag bestand zwischen dem 4. November 1980[1] und dem 29. März 1983\n",
    "    10:datetime(1983, 3, 29), # Der 10. Deutsche Bundestag bestand zwischen dem 29. März 1983[1] und dem 18. Februar 1987\n",
    "    11:datetime(1987, 2, 18), # Der 11. Deutsche Bundestag bestand zwischen dem 18. Februar 1987[1] und dem 20. Dezember 1990\n",
    "    12:datetime(1990, 12, 20), # Der 12. Deutsche Bundestag bestand zwischen dem 20. Dezember 1990[1] und dem 10. November 1994\n",
    "    13:datetime(1994, 11, 10), # Der 13. Deutsche Bundestag bestand zwischen dem 10. November 1994[1] und dem 26. Oktober 1998\n",
    "    14:datetime(1998, 10, 26), # Der 14. Deutsche Bundestag bestand zwischen dem 26. Oktober 1998[1] und dem 17. Oktober 2002\n",
    "    15:datetime(2002, 10, 17), # Der 15. Deutsche Bundestag bestand zwischen dem 17. Oktober 2002[1] und dem 18. Oktober 2005\n",
    "    16:datetime(2005, 10, 18), # Der 16. Deutsche Bundestag bestand zwischen dem 18. Oktober 2005[1] und dem 27. Oktober 2009\n",
    "    17:datetime(2009, 10, 27), # Der 17. Deutsche Bundestag bestand zwischen dem 27. Oktober 2009[1] und dem 22. Oktober 2013\n",
    "    18:datetime(2013, 10, 22), # Der 18. Deutsche Bundestag bestand vom 22. Oktober 2013 bis zum 24. Oktober 2017\n",
    "    19:datetime(2017, 10, 24) #  Seine konstituierende Sitzung fand am 24. Oktober 2017 statt,\n",
    "}\n",
    "\n",
    "df_wp_startdaten=pd.DataFrame(wp_startdaten, index=[0]).T\n",
    "df_wp_startdaten.columns =[ 'START_DATE']\n",
    "print(df_wp_startdaten.head())\n",
    "df_wp_startdaten.to_csv('data/wp_startdaten.csv')"
   ]
  },
  {
   "cell_type": "markdown",
   "id": "31752204-92de-476c-a005-b31578d8e944",
   "metadata": {},
   "source": [
    "## Insight: es werden immer mehr Abgeordnete"
   ]
  },
  {
   "cell_type": "code",
   "execution_count": 10,
   "id": "fd354245-3865-48a9-a1c9-c4927c35ed47",
   "metadata": {},
   "outputs": [
    {
     "data": {
      "image/png": "[encoded data removed]",
      "text/plain": [
       "<Figure size 432x288 with 1 Axes>"
      ]
     },
     "metadata": {
      "needs_background": "light"
     },
     "output_type": "display_data"
    }
   ],
   "source": [
    "wps = [column for column in df_mdb.columns if isinstance(column, int)]\n",
    "fig, ax = plt.subplots()#plt.figure(figsize=(8,6))\n",
    "\n",
    "# xlab / ylab not showing is nb issue\n",
    "plt.xlabel='WP'\n",
    "plt.ylabel='Anzahl Abgeordneter'\n",
    "#plt.plot(df_mdb[wps].sum().sort_index())\n",
    "df_mdb[wps].sum().sort_index().plot()\n",
    "plt.show()"
   ]
  },
  {
   "cell_type": "code",
   "execution_count": 11,
   "id": "2092cfd8-8649-432e-8591-23cdc087f37e",
   "metadata": {},
   "outputs": [
    {
     "data": {
      "text/plain": [
       "15    628.0\n",
       "16    642.0\n",
       "17    652.0\n",
       "18    658.0\n",
       "19    738.0\n",
       "dtype: float64"
      ]
     },
     "execution_count": 11,
     "metadata": {},
     "output_type": "execute_result"
    }
   ],
   "source": [
    "df_mdb[wps].sum().sort_index().tail()"
   ]
  },
  {
   "cell_type": "code",
   "execution_count": 12,
   "id": "176b908c-6a91-4c10-8bec-bfae4f92b4be",
   "metadata": {},
   "outputs": [
    {
     "data": {
      "text/plain": [
       "11627.0"
      ]
     },
     "execution_count": 12,
     "metadata": {},
     "output_type": "execute_result"
    }
   ],
   "source": [
    "# total number of abgeordnete (counting multiple wps as multiple entries)\n",
    "df_mdb[wps].sum().sum()"
   ]
  },
  {
   "cell_type": "code",
   "execution_count": null,
   "id": "28217a99-9ba2-48f9-b961-33160d6d97cb",
   "metadata": {},
   "outputs": [],
   "source": []
  },
  {
   "cell_type": "code",
   "execution_count": 13,
   "id": "baaaf173-48af-444c-9f2b-914e4d291491",
   "metadata": {},
   "outputs": [
    {
     "name": "stdout",
     "output_type": "stream",
     "text": [
      "('2000/04 Studium der Politikwissenschaft und Öffentliches Recht in Hamburg; '\n",
      " '2000/03 freie Mitarbeit bei der Hannoverschen Allgemeinen Zeitung; 2005 '\n",
      " 'Master im Völkerrecht (LL.M.) an der LSE London; 2005/08 Büroleiterin der '\n",
      " 'Europaabgeordneten Elisabeth Schroedter in Brüssel und Potsdam. 2008/09 '\n",
      " 'Referentin für Außen- und Sicherheitspolitik bei der Grünen '\n",
      " 'Bundestagsfraktion. 2009/13 Landesvors. BÜNDNIS 90/DIE GRÜNEN Brandenburg. '\n",
      " 'Seit 2005 Mitgl. von Bündnis 90/Die Grünen, 2009/12 Mitgl. im Vorstand der '\n",
      " 'Europäischen Grünen Partei; 2012/15 Mitgl. im Parteirat von Bündnis 90/Die '\n",
      " 'Grünen, seit Jan. 2018 Bundesvors. von Bündnis90/Die Grünen. Englisch (f), '\n",
      " 'Französisch (G), Spanisch (G). - MdB seit Okt. 2013.')\n"
     ]
    }
   ],
   "source": [
    "import pprint\n",
    "pp = pprint.PrettyPrinter(indent=4)\n",
    "pp.pprint(df_mdb_wp[df_mdb_wp.NACHNAME =='Baerbock'].iloc[0].VITA_KURZ)"
   ]
  },
  {
   "cell_type": "markdown",
   "id": "f0649f48-0e07-4233-ab60-77bbd5a44d96",
   "metadata": {},
   "source": [
    "# clean data 1. missing values"
   ]
  },
  {
   "cell_type": "code",
   "execution_count": 14,
   "id": "4e0356b1-a584-4cf0-846a-f72b0d388ba4",
   "metadata": {},
   "outputs": [
    {
     "data": {
      "text/plain": [
       "NACHNAME            0\n",
       "VORNAME             0\n",
       "GEBURTSDATUM        0\n",
       "GEBURTSORT          4\n",
       "GEBURTSLAND      4010\n",
       "STERBEDATUM      2199\n",
       "GESCHLECHT          0\n",
       "FAMILIENSTAND      81\n",
       "RELIGION          227\n",
       "BERUF               3\n",
       "PARTEI_KURZ         3\n",
       "dtype: int64"
      ]
     },
     "execution_count": 14,
     "metadata": {},
     "output_type": "execute_result"
    }
   ],
   "source": [
    "dimensions_replace_na = ['NACHNAME', 'VORNAME', 'GEBURTSDATUM', 'GEBURTSORT', 'GEBURTSLAND', 'STERBEDATUM', 'GESCHLECHT', 'FAMILIENSTAND', 'RELIGION', 'BERUF', 'PARTEI_KURZ']\n",
    "df_mdb[dimensions_replace_na].isna().sum()"
   ]
  },
  {
   "cell_type": "code",
   "execution_count": 15,
   "id": "9cd68e71-392c-4ba2-884a-d591e09b0c2b",
   "metadata": {},
   "outputs": [],
   "source": [
    "df_mdb[dimensions_replace_na] = df_mdb[dimensions_replace_na].fillna('UNBEKANNT')"
   ]
  },
  {
   "cell_type": "code",
   "execution_count": null,
   "id": "c93a0381-79c8-473e-97cf-f49d813773e8",
   "metadata": {},
   "outputs": [],
   "source": []
  },
  {
   "cell_type": "code",
   "execution_count": null,
   "id": "d2f7229c-2b81-44c2-bfe7-0ab3efc8a373",
   "metadata": {},
   "outputs": [],
   "source": []
  },
  {
   "cell_type": "markdown",
   "id": "225e7664-d495-4067-8f90-4cfca15903f6",
   "metadata": {},
   "source": [
    "# 2. replace values: PARTEI_KURZ"
   ]
  },
  {
   "cell_type": "code",
   "execution_count": 16,
   "id": "b00d7fc2-187d-41b0-aa88-b3a1551b12d9",
   "metadata": {},
   "outputs": [
    {
     "data": {
      "text/plain": [
       "CDU                      1347\n",
       "SPD                      1329\n",
       "FDP                       460\n",
       "CSU                       269\n",
       "BÜNDNIS 90/DIE GRÜNEN     180\n",
       "DIE LINKE.                128\n",
       "AfD                        88\n",
       "PDS                        54\n",
       "GRÜNE                      51\n",
       "DIE GRÜNEN/BÜNDNIS 90      28\n",
       "DP                         27\n",
       "FU                         21\n",
       "Name: PARTEI_KURZ, dtype: int64"
      ]
     },
     "execution_count": 16,
     "metadata": {},
     "output_type": "execute_result"
    }
   ],
   "source": [
    "df_mdb.PARTEI_KURZ.value_counts()[:12]"
   ]
  },
  {
   "cell_type": "code",
   "execution_count": 17,
   "id": "325d47ff-4860-4e05-a8eb-9c9412de50a1",
   "metadata": {},
   "outputs": [],
   "source": [
    "# some cleaning necessary: 'BÜNDNIS 90/DIE GRÜNEN', 'DIE GRÜNEN/BÜNDNIS 90' => 'GRÜNE'\n",
    "for grünen_alias in ['BÜNDNIS 90/DIE GRÜNEN', 'DIE GRÜNEN/BÜNDNIS 90', 'GRÜNE']:\n",
    "    df_mdb.replace(grünen_alias, 'DIE GRÜNEN', inplace=True)"
   ]
  },
  {
   "cell_type": "markdown",
   "id": "12d9cd5e-df57-479d-8ae4-adbb053910ce",
   "metadata": {},
   "source": [
    "# replace values: RELIGION"
   ]
  },
  {
   "cell_type": "code",
   "execution_count": 18,
   "id": "0734c71f-d9e8-4459-8577-651fa9df9bf1",
   "metadata": {},
   "outputs": [
    {
     "data": {
      "text/plain": [
       "ohne Angaben              1214\n",
       "evangelisch               1154\n",
       "katholisch                 870\n",
       "römisch-katholisch         316\n",
       "UNBEKANNT                  227\n",
       "evangelisch-lutherisch     138\n",
       "konfessionslos             118\n",
       "evangelisch-reformiert      15\n",
       "religionslos                 7\n",
       "Atheistin                    6\n",
       "muslimisch                   5\n",
       "freireligiös                 3\n",
       "Name: RELIGION_MAPPED, dtype: int64"
      ]
     },
     "execution_count": 18,
     "metadata": {},
     "output_type": "execute_result"
    }
   ],
   "source": [
    "df_mdb['RELIGION_MAPPED'] = df_mdb['RELIGION']\n",
    "df_mdb.RELIGION_MAPPED.value_counts().head(12)"
   ]
  },
  {
   "cell_type": "code",
   "execution_count": null,
   "id": "3c02e9c1-7a5f-4202-bf3e-9f6c6a0376d3",
   "metadata": {},
   "outputs": [],
   "source": []
  },
  {
   "cell_type": "code",
   "execution_count": 19,
   "id": "61726790-bfeb-4d57-8e30-3bb6719beb34",
   "metadata": {},
   "outputs": [],
   "source": [
    "for katholisch_alias in ['römisch-katholisch', 'alt-katholisch']:\n",
    "    df_mdb['RELIGION_MAPPED'].replace(katholisch_alias, 'katholisch', inplace=True)"
   ]
  },
  {
   "cell_type": "code",
   "execution_count": 20,
   "id": "7a96d82c-8d03-4e86-83c2-e0e4b5f7c9a9",
   "metadata": {},
   "outputs": [],
   "source": [
    "for evangelisch_alias in ['evangelisch-lutherisch', 'evangelisch-reformiert', 'evangelisch-freikirchlich', 'protestantisch']:\n",
    "    df_mdb['RELIGION_MAPPED'].replace(evangelisch_alias, 'evangelisch', inplace=True)"
   ]
  },
  {
   "cell_type": "code",
   "execution_count": 21,
   "id": "62bd670d-2d30-45d0-890f-5798015eca0c",
   "metadata": {},
   "outputs": [],
   "source": [
    "# it's not the same but its similar\n",
    "for konfessionslos_alias in ['religionslos', 'Atheist', 'Atheistin']:\n",
    "    df_mdb['RELIGION_MAPPED'].replace(konfessionslos_alias, 'konfessionslos', inplace=True)"
   ]
  },
  {
   "cell_type": "code",
   "execution_count": 22,
   "id": "3497b937-0acc-4fb6-b6ba-a88d28f6f5d0",
   "metadata": {},
   "outputs": [],
   "source": [
    "for konfessionslos_alias in ['Islam']:\n",
    "    df_mdb['RELIGION_MAPPED'].replace(konfessionslos_alias, 'muslimisch', inplace=True)"
   ]
  },
  {
   "cell_type": "code",
   "execution_count": 23,
   "id": "fe6ee406-4c81-475d-adef-2e997c7e8d7d",
   "metadata": {},
   "outputs": [
    {
     "data": {
      "text/plain": [
       "evangelisch            1311\n",
       "ohne Angaben           1214\n",
       "katholisch             1187\n",
       "UNBEKANNT               227\n",
       "konfessionslos          133\n",
       "muslimisch                8\n",
       "freireligiös              3\n",
       "russisch-orthodox         1\n",
       "orthodox                  1\n",
       "neuapostolisch            1\n",
       "alevitisch                1\n",
       "humanistisch              1\n",
       "griechisch-orthodox       1\n",
       "Name: RELIGION_MAPPED, dtype: int64"
      ]
     },
     "execution_count": 23,
     "metadata": {},
     "output_type": "execute_result"
    }
   ],
   "source": [
    "# erkenntnis: nur christen und einige wenige konfessionslose\n",
    "df_mdb['RELIGION_MAPPED'].value_counts().head(24)"
   ]
  },
  {
   "cell_type": "code",
   "execution_count": 24,
   "id": "64ced06f-3035-4419-9eb7-5c6a59925208",
   "metadata": {},
   "outputs": [
    {
     "data": {
      "text/plain": [
       "<AxesSubplot:>"
      ]
     },
     "execution_count": 24,
     "metadata": {},
     "output_type": "execute_result"
    },
    {
     "data": {
      "image/png": "[encoded data removed]",
      "text/plain": [
       "<Figure size 432x288 with 1 Axes>"
      ]
     },
     "metadata": {
      "needs_background": "light"
     },
     "output_type": "display_data"
    }
   ],
   "source": [
    "df_mdb['RELIGION_MAPPED'].value_counts().plot(kind='bar')"
   ]
  },
  {
   "cell_type": "markdown",
   "id": "b5246146-c1ce-4e3a-a6e3-ee116590d918",
   "metadata": {},
   "source": [
    "# replace values: FAMILIENSTAND"
   ]
  },
  {
   "cell_type": "code",
   "execution_count": 25,
   "id": "37fa9296-de58-4e22-914f-5da70fbf396a",
   "metadata": {},
   "outputs": [
    {
     "data": {
      "text/html": [
       "<div>\n",
       "<style scoped>\n",
       "    .dataframe tbody tr th:only-of-type {\n",
       "        vertical-align: middle;\n",
       "    }\n",
       "\n",
       "    .dataframe tbody tr th {\n",
       "        vertical-align: top;\n",
       "    }\n",
       "\n",
       "    .dataframe thead th {\n",
       "        text-align: right;\n",
       "    }\n",
       "</style>\n",
       "<table border=\"1\" class=\"dataframe\">\n",
       "  <thead>\n",
       "    <tr style=\"text-align: right;\">\n",
       "      <th></th>\n",
       "      <th>ID</th>\n",
       "    </tr>\n",
       "    <tr>\n",
       "      <th>FAMILIENSTAND_MAPPED</th>\n",
       "      <th></th>\n",
       "    </tr>\n",
       "  </thead>\n",
       "  <tbody>\n",
       "    <tr>\n",
       "      <th>verh., 2 Kinder</th>\n",
       "      <td>932</td>\n",
       "    </tr>\n",
       "    <tr>\n",
       "      <th>verh.</th>\n",
       "      <td>565</td>\n",
       "    </tr>\n",
       "    <tr>\n",
       "      <th>verh., 3 Kinder</th>\n",
       "      <td>550</td>\n",
       "    </tr>\n",
       "    <tr>\n",
       "      <th>keine Angaben</th>\n",
       "      <td>540</td>\n",
       "    </tr>\n",
       "    <tr>\n",
       "      <th>verh., 1 Kind</th>\n",
       "      <td>465</td>\n",
       "    </tr>\n",
       "    <tr>\n",
       "      <th>verh., 4 Kinder</th>\n",
       "      <td>251</td>\n",
       "    </tr>\n",
       "    <tr>\n",
       "      <th>ledig</th>\n",
       "      <td>202</td>\n",
       "    </tr>\n",
       "    <tr>\n",
       "      <th>verh., 5 Kinder</th>\n",
       "      <td>98</td>\n",
       "    </tr>\n",
       "    <tr>\n",
       "      <th>UNBEKANNT</th>\n",
       "      <td>81</td>\n",
       "    </tr>\n",
       "    <tr>\n",
       "      <th>verh., 6 Kinder</th>\n",
       "      <td>47</td>\n",
       "    </tr>\n",
       "    <tr>\n",
       "      <th>2 Kinder</th>\n",
       "      <td>45</td>\n",
       "    </tr>\n",
       "    <tr>\n",
       "      <th>gesch., 2 Kinder</th>\n",
       "      <td>32</td>\n",
       "    </tr>\n",
       "    <tr>\n",
       "      <th>gesch., 1 Kind</th>\n",
       "      <td>28</td>\n",
       "    </tr>\n",
       "    <tr>\n",
       "      <th>1 Kind</th>\n",
       "      <td>26</td>\n",
       "    </tr>\n",
       "    <tr>\n",
       "      <th>verwitwet, 2 Kinder</th>\n",
       "      <td>23</td>\n",
       "    </tr>\n",
       "    <tr>\n",
       "      <th>ledig, 1 Kind</th>\n",
       "      <td>21</td>\n",
       "    </tr>\n",
       "  </tbody>\n",
       "</table>\n",
       "</div>"
      ],
      "text/plain": [
       "                       ID\n",
       "FAMILIENSTAND_MAPPED     \n",
       "verh., 2 Kinder       932\n",
       "verh.                 565\n",
       "verh., 3 Kinder       550\n",
       "keine Angaben         540\n",
       "verh., 1 Kind         465\n",
       "verh., 4 Kinder       251\n",
       "ledig                 202\n",
       "verh., 5 Kinder        98\n",
       "UNBEKANNT              81\n",
       "verh., 6 Kinder        47\n",
       "2 Kinder               45\n",
       "gesch., 2 Kinder       32\n",
       "gesch., 1 Kind         28\n",
       "1 Kind                 26\n",
       "verwitwet, 2 Kinder    23\n",
       "ledig, 1 Kind          21"
      ]
     },
     "execution_count": 25,
     "metadata": {},
     "output_type": "execute_result"
    }
   ],
   "source": [
    "# gehen sie weiter. hier gibt es kein Klischee zu erkennen!\n",
    "df_mdb['FAMILIENSTAND_MAPPED'] = df_mdb['FAMILIENSTAND']\n",
    "df_mdb.FAMILIENSTAND_MAPPED= df_mdb.FAMILIENSTAND_MAPPED.apply(lambda x: x.replace('verheiratet', 'verh.'))\n",
    "df_mdb.FAMILIENSTAND_MAPPED= df_mdb.FAMILIENSTAND_MAPPED.apply(lambda x: x.replace('geschieden', 'gesch.'))\n",
    "df_mdb[['ID', 'FAMILIENSTAND_MAPPED']].groupby('FAMILIENSTAND_MAPPED').count().sort_values(by='ID', ascending=False).head(16)"
   ]
  },
  {
   "cell_type": "code",
   "execution_count": 26,
   "id": "914b1087-d886-4d60-99ab-d1f718dad6e8",
   "metadata": {},
   "outputs": [
    {
     "name": "stdout",
     "output_type": "stream",
     "text": [
      "{'verh., 6 Kinder', 'verh., 7 Kinder', 'verh., 9 Kinder', 'verh., 12 Kinder', 'verh., 8 Kinder', 'verh., 10 Kinder', 'verh., 4 Kinder', 'verh., 5 Kinder'}\n"
     ]
    },
    {
     "name": "stderr",
     "output_type": "stream",
     "text": [
      "/usr/local/lib/python3.9/site-packages/pandas/core/strings/accessor.py:101: UserWarning: This pattern has match groups. To actually get the groups, use str.extract.\n",
      "  return func(self, *args, **kwargs)\n"
     ]
    }
   ],
   "source": [
    "indikator = re.compile('^verh.,\\s([4-9] |\\d{2,}) *Kind')\n",
    "values_to_replace = set(df_mdb[df_mdb.FAMILIENSTAND_MAPPED.str.contains(indikator)].FAMILIENSTAND_MAPPED)\n",
    "print(values_to_replace)\n",
    "replace_value = 'verh., >3 Kinder'\n",
    "df_mdb['FAMILIENSTAND_MAPPED'].replace(values_to_replace, replace_value, inplace=True)"
   ]
  },
  {
   "cell_type": "code",
   "execution_count": 27,
   "id": "de255bd1-34eb-4825-9c38-44514f35a163",
   "metadata": {},
   "outputs": [
    {
     "name": "stdout",
     "output_type": "stream",
     "text": [
      "{'gesch., 2 Kinder', 'gesch., 3 Kinder', 'gesch., 5 Kinder', 'gesch., 4 Kinder', 'gesch., 1 Kind'}\n"
     ]
    }
   ],
   "source": [
    "indikator = re.compile('^gesch.,\\s([1-9] |\\d{2,}) *Kind')\n",
    "values_to_replace = set(df_mdb[df_mdb.FAMILIENSTAND_MAPPED.str.contains(indikator)].FAMILIENSTAND_MAPPED)\n",
    "print(values_to_replace)\n",
    "replace_value = 'gesch., >0 Kinder'\n",
    "df_mdb['FAMILIENSTAND_MAPPED'].replace(values_to_replace, replace_value, inplace=True)"
   ]
  },
  {
   "cell_type": "code",
   "execution_count": 28,
   "id": "7a328ae3-10f5-4dc3-90bb-1f059b27b078",
   "metadata": {},
   "outputs": [
    {
     "data": {
      "text/html": [
       "<div>\n",
       "<style scoped>\n",
       "    .dataframe tbody tr th:only-of-type {\n",
       "        vertical-align: middle;\n",
       "    }\n",
       "\n",
       "    .dataframe tbody tr th {\n",
       "        vertical-align: top;\n",
       "    }\n",
       "\n",
       "    .dataframe thead th {\n",
       "        text-align: right;\n",
       "    }\n",
       "</style>\n",
       "<table border=\"1\" class=\"dataframe\">\n",
       "  <thead>\n",
       "    <tr style=\"text-align: right;\">\n",
       "      <th></th>\n",
       "      <th>ID</th>\n",
       "    </tr>\n",
       "    <tr>\n",
       "      <th>FAMILIENSTAND_MAPPED</th>\n",
       "      <th></th>\n",
       "    </tr>\n",
       "  </thead>\n",
       "  <tbody>\n",
       "    <tr>\n",
       "      <th>verh., 2 Kinder</th>\n",
       "      <td>932</td>\n",
       "    </tr>\n",
       "    <tr>\n",
       "      <th>verh.</th>\n",
       "      <td>565</td>\n",
       "    </tr>\n",
       "    <tr>\n",
       "      <th>verh., 3 Kinder</th>\n",
       "      <td>550</td>\n",
       "    </tr>\n",
       "    <tr>\n",
       "      <th>keine Angaben</th>\n",
       "      <td>540</td>\n",
       "    </tr>\n",
       "    <tr>\n",
       "      <th>verh., 1 Kind</th>\n",
       "      <td>465</td>\n",
       "    </tr>\n",
       "    <tr>\n",
       "      <th>verh., &gt;3 Kinder</th>\n",
       "      <td>422</td>\n",
       "    </tr>\n",
       "    <tr>\n",
       "      <th>ledig</th>\n",
       "      <td>202</td>\n",
       "    </tr>\n",
       "    <tr>\n",
       "      <th>UNBEKANNT</th>\n",
       "      <td>81</td>\n",
       "    </tr>\n",
       "    <tr>\n",
       "      <th>gesch., &gt;0 Kinder</th>\n",
       "      <td>80</td>\n",
       "    </tr>\n",
       "    <tr>\n",
       "      <th>2 Kinder</th>\n",
       "      <td>45</td>\n",
       "    </tr>\n",
       "    <tr>\n",
       "      <th>1 Kind</th>\n",
       "      <td>26</td>\n",
       "    </tr>\n",
       "    <tr>\n",
       "      <th>verwitwet, 2 Kinder</th>\n",
       "      <td>23</td>\n",
       "    </tr>\n",
       "    <tr>\n",
       "      <th>ledig, 1 Kind</th>\n",
       "      <td>21</td>\n",
       "    </tr>\n",
       "    <tr>\n",
       "      <th>gesch.</th>\n",
       "      <td>18</td>\n",
       "    </tr>\n",
       "    <tr>\n",
       "      <th>3 Kinder</th>\n",
       "      <td>16</td>\n",
       "    </tr>\n",
       "    <tr>\n",
       "      <th>verwitwet</th>\n",
       "      <td>16</td>\n",
       "    </tr>\n",
       "  </tbody>\n",
       "</table>\n",
       "</div>"
      ],
      "text/plain": [
       "                       ID\n",
       "FAMILIENSTAND_MAPPED     \n",
       "verh., 2 Kinder       932\n",
       "verh.                 565\n",
       "verh., 3 Kinder       550\n",
       "keine Angaben         540\n",
       "verh., 1 Kind         465\n",
       "verh., >3 Kinder      422\n",
       "ledig                 202\n",
       "UNBEKANNT              81\n",
       "gesch., >0 Kinder      80\n",
       "2 Kinder               45\n",
       "1 Kind                 26\n",
       "verwitwet, 2 Kinder    23\n",
       "ledig, 1 Kind          21\n",
       "gesch.                 18\n",
       "3 Kinder               16\n",
       "verwitwet              16"
      ]
     },
     "execution_count": 28,
     "metadata": {},
     "output_type": "execute_result"
    }
   ],
   "source": [
    "df_mdb[['ID', 'FAMILIENSTAND_MAPPED']].groupby('FAMILIENSTAND_MAPPED').count().sort_values(by='ID', ascending=False).head(16)"
   ]
  },
  {
   "cell_type": "markdown",
   "id": "08515cd9-12a3-4b15-9a8b-c547868e0eec",
   "metadata": {},
   "source": [
    "# replace values: BERUFE"
   ]
  },
  {
   "cell_type": "code",
   "execution_count": 29,
   "id": "3c830ec1-9cea-40b9-ba14-12da6d355051",
   "metadata": {},
   "outputs": [
    {
     "data": {
      "text/plain": [
       "2201"
      ]
     },
     "execution_count": 29,
     "metadata": {},
     "output_type": "execute_result"
    }
   ],
   "source": [
    "# number of different jobs: 2k\n",
    "len(set(df_mdb.BERUF))"
   ]
  },
  {
   "cell_type": "code",
   "execution_count": 30,
   "id": "13a96f48-2015-4434-a9c0-19bb42e2c5b5",
   "metadata": {},
   "outputs": [],
   "source": [
    "df_mdb['BERUF_MAPPED'] = df_mdb['BERUF'].copy()"
   ]
  },
  {
   "cell_type": "code",
   "execution_count": 31,
   "id": "8c8d3b0f-00b0-41ee-b792-009eb75841db",
   "metadata": {},
   "outputs": [
    {
     "data": {
      "text/html": [
       "<div>\n",
       "<style scoped>\n",
       "    .dataframe tbody tr th:only-of-type {\n",
       "        vertical-align: middle;\n",
       "    }\n",
       "\n",
       "    .dataframe tbody tr th {\n",
       "        vertical-align: top;\n",
       "    }\n",
       "\n",
       "    .dataframe thead th {\n",
       "        text-align: right;\n",
       "    }\n",
       "</style>\n",
       "<table border=\"1\" class=\"dataframe\">\n",
       "  <thead>\n",
       "    <tr style=\"text-align: right;\">\n",
       "      <th></th>\n",
       "      <th>ID</th>\n",
       "    </tr>\n",
       "    <tr>\n",
       "      <th>BERUF</th>\n",
       "      <th></th>\n",
       "    </tr>\n",
       "  </thead>\n",
       "  <tbody>\n",
       "    <tr>\n",
       "      <th>Rechtsanwalt</th>\n",
       "      <td>182</td>\n",
       "    </tr>\n",
       "    <tr>\n",
       "      <th>Geschäftsführer</th>\n",
       "      <td>80</td>\n",
       "    </tr>\n",
       "    <tr>\n",
       "      <th>Landwirt</th>\n",
       "      <td>79</td>\n",
       "    </tr>\n",
       "    <tr>\n",
       "      <th>Angestellter</th>\n",
       "      <td>63</td>\n",
       "    </tr>\n",
       "    <tr>\n",
       "      <th>Rechtsanwalt und Notar</th>\n",
       "      <td>47</td>\n",
       "    </tr>\n",
       "    <tr>\n",
       "      <th>Kaufmann</th>\n",
       "      <td>45</td>\n",
       "    </tr>\n",
       "    <tr>\n",
       "      <th>Journalist</th>\n",
       "      <td>43</td>\n",
       "    </tr>\n",
       "    <tr>\n",
       "      <th>Hausfrau</th>\n",
       "      <td>41</td>\n",
       "    </tr>\n",
       "  </tbody>\n",
       "</table>\n",
       "</div>"
      ],
      "text/plain": [
       "                         ID\n",
       "BERUF                      \n",
       "Rechtsanwalt            182\n",
       "Geschäftsführer          80\n",
       "Landwirt                 79\n",
       "Angestellter             63\n",
       "Rechtsanwalt und Notar   47\n",
       "Kaufmann                 45\n",
       "Journalist               43\n",
       "Hausfrau                 41"
      ]
     },
     "execution_count": 31,
     "metadata": {},
     "output_type": "execute_result"
    }
   ],
   "source": [
    "df_mdb[['ID', 'BERUF']].groupby('BERUF').count().sort_values(by='ID', ascending=False).head(8)"
   ]
  },
  {
   "cell_type": "code",
   "execution_count": 32,
   "id": "c5a5b735-f36a-46a7-acd9-539d03cd0925",
   "metadata": {},
   "outputs": [],
   "source": [
    "from importlib import reload\n",
    "import src.berufe_mapping as berufe_mapping\n",
    "reload(berufe_mapping)\n",
    "from berufe_mapping import basic_cleaning_berufe\n",
    "\n",
    "'''very basic cleaning: lowercasing, removing dipl., (fh) and a.d.'''\n",
    "df_mdb = basic_cleaning_berufe(df_mdb , column = 'BERUF_MAPPED')"
   ]
  },
  {
   "cell_type": "code",
   "execution_count": 33,
   "id": "72943203-6920-4c8c-8895-6d94e705342f",
   "metadata": {},
   "outputs": [
    {
     "data": {
      "text/html": [
       "<div>\n",
       "<style scoped>\n",
       "    .dataframe tbody tr th:only-of-type {\n",
       "        vertical-align: middle;\n",
       "    }\n",
       "\n",
       "    .dataframe tbody tr th {\n",
       "        vertical-align: top;\n",
       "    }\n",
       "\n",
       "    .dataframe thead th {\n",
       "        text-align: right;\n",
       "    }\n",
       "</style>\n",
       "<table border=\"1\" class=\"dataframe\">\n",
       "  <thead>\n",
       "    <tr style=\"text-align: right;\">\n",
       "      <th></th>\n",
       "      <th>ID</th>\n",
       "    </tr>\n",
       "    <tr>\n",
       "      <th>BERUF_MAPPED</th>\n",
       "      <th></th>\n",
       "    </tr>\n",
       "  </thead>\n",
       "  <tbody>\n",
       "    <tr>\n",
       "      <th>rechtsanwalt</th>\n",
       "      <td>373</td>\n",
       "    </tr>\n",
       "    <tr>\n",
       "      <th>geschäftsführer</th>\n",
       "      <td>111</td>\n",
       "    </tr>\n",
       "    <tr>\n",
       "      <th>landwirt</th>\n",
       "      <td>105</td>\n",
       "    </tr>\n",
       "    <tr>\n",
       "      <th>-ingenieur</th>\n",
       "      <td>101</td>\n",
       "    </tr>\n",
       "    <tr>\n",
       "      <th>-volkswirt</th>\n",
       "      <td>82</td>\n",
       "    </tr>\n",
       "    <tr>\n",
       "      <th>lehrer</th>\n",
       "      <td>75</td>\n",
       "    </tr>\n",
       "    <tr>\n",
       "      <th>jurist</th>\n",
       "      <td>73</td>\n",
       "    </tr>\n",
       "    <tr>\n",
       "      <th>angestellter</th>\n",
       "      <td>73</td>\n",
       "    </tr>\n",
       "  </tbody>\n",
       "</table>\n",
       "</div>"
      ],
      "text/plain": [
       "                  ID\n",
       "BERUF_MAPPED        \n",
       "rechtsanwalt     373\n",
       "geschäftsführer  111\n",
       "landwirt         105\n",
       "-ingenieur       101\n",
       "-volkswirt        82\n",
       "lehrer            75\n",
       "jurist            73\n",
       "angestellter      73"
      ]
     },
     "execution_count": 33,
     "metadata": {},
     "output_type": "execute_result"
    }
   ],
   "source": [
    "df_mdb[['ID', 'BERUF_MAPPED']].groupby('BERUF_MAPPED').count().sort_values(by='ID', ascending=False).head(8)"
   ]
  },
  {
   "cell_type": "code",
   "execution_count": 34,
   "id": "a43ab553-4bfe-4f04-86f1-d57b8379e86b",
   "metadata": {},
   "outputs": [
    {
     "data": {
      "text/plain": [
       "'abc XXident xjsk XXidentin'"
      ]
     },
     "execution_count": 34,
     "metadata": {},
     "output_type": "execute_result"
    }
   ],
   "source": [
    "re.sub('regierungs(vize)*präs', 'XX', 'abc regierungspräsident xjsk regierungsvizepräsidentin')"
   ]
  },
  {
   "cell_type": "code",
   "execution_count": 35,
   "id": "dd1600ed-5246-4630-9527-9fa67b15f01f",
   "metadata": {},
   "outputs": [],
   "source": [
    "dict_berufe={}\n",
    "dict_berufe['Jurist*in'] = ['anwalt', 'jurist', 'richter', 'notar', re.compile('dr.*\\s*jur.*'), 'syndikus', 'rechtsberater']\n",
    "dict_berufe['Land-/Forstwirt*in'] = ['landwirt', '^[a-z]bauer\\s', 'bauer', re.compile('agrar+'), 'forst']\n",
    "dict_berufe['Unterehmer*in'] = ['unternehmer'] # geschäftsführer geht leider nicht wegen z.B. Parl. Geschäftssführer\n",
    "dict_berufe['Ingenieur*in'] = ['ingenieur', 'maschinenbau', 'architekt']\n",
    "dict_berufe['Journalist*in'] = ['journalist', 'redakteur', 'publizist', 'schriftsteller']\n",
    "dict_berufe['Verleger*in'] = ['verleger', 'verlags']\n",
    "\n",
    "# direktor: nö, sonst bezirksdirektor museumsdirektor etc\n",
    "dict_berufe['Lehrer*in'] = ['erzieher', 'pädagog', 'lehrer', 'studienrat', 'studiendirektor', 'schulrat',\n",
    "                            'grundschul', 'hauptshul', 'sonderschul', 'waldorf', 'realschul', 'gymnasi',\n",
    "                            'volkshochschu', 'berufsschul', 'fremdsprachen',\n",
    "                           'schul'] #evtl trennen Erzieher - Lehrer\n",
    "dict_berufe['Professor*in'] = ['dozent', 'professor', 'prof.', 'hochschull', 'hochschulpr']\n",
    "dict_berufe['Kaufmann/-frau'] = ['kaufm']\n",
    "dict_berufe['Volkswirt*in'] = ['volkswirt']\n",
    "dict_berufe['Berufspolitiker*in'] = ['regierungsangestellt', 'stadtamtmann', 'stadtoberinspektor', 'Landesgeschäftsführer',\n",
    "                                    'landr(at|ätin)', re.compile('ministerialr(a|ä)t'), 'staatssekret', 'bürgermeist', \n",
    "                                     'regierungsrat', re.compile('regierungs(vize)*präs'), 'regierung',\n",
    "                                     'stadtdirektor', 'ministerialdirektor', 'regierungsdirektor', 'gemeindedirektor', 'regierungsdirektor',\n",
    "                                     'minister', 'bundeskanz', 'bundestagsp', re.compile('präsident(in)* d\\.*b\\.*t\\.*')]\n",
    "dict_berufe['Arzt/Ärztin'] = ['arzt', 'psycholog', 'psychother', 'apotheker']\n",
    "dict_berufe['Theolog*in'] = ['pfarrer', 'theolog', 'diakon']\n",
    "dict_berufe['Betriebswirt*in'] = ['betriebswirt', 'verwaltungs', 'steuerberater', 'bankdirektor']\n",
    "dict_berufe['Wirtschaftswissenschaftler*in'] = ['wirtschaftsw', 'ökonom', 'prokurist']\n",
    "dict_berufe['Geisteswissenschaftler*in'] = ['politolog', 'politikwiss', 'historik', 'philosoph', 'philolog', 'soziolog', 'sozialwissensch', 'kulturwissenschaft']\n",
    "dict_berufe['Naturwissenschaftler*in'] = ['chemik', 'chemie', 'physik', 'geophysik', 'biolog', 'mathemat', 'informat']\n",
    "\n",
    "dict_berufe['Handwerker*in'] = ['elektro', 'fahrzeug', 'handwerk', 'mechanik',\n",
    "                               'schlosser', 'maurer', 'beton', 'maler', 'lackier', 'tischler', 'schreiner',\n",
    "                               'bäcker', 'konditor' 'koch', 'köchin', 'müller', 'bergmann', 'werkzeugmacher']\n",
    "dict_berufe['Militär'] = ['leutnant', 'oberst^u', 'soldat', re.compile('general\\s')] # not oberstudienrat ;)\n",
    "dict_berufe['Beamter'] = ['beamter']# problematisch: Berufspolitiker, Lehrer, Militär sind auch beamte"
   ]
  },
  {
   "cell_type": "code",
   "execution_count": 36,
   "id": "a56e9d9a-1525-47bb-826d-27720cb81032",
   "metadata": {},
   "outputs": [
    {
     "data": {
      "text/plain": [
       "'XXoberst'"
      ]
     },
     "execution_count": 36,
     "metadata": {},
     "output_type": "execute_result"
    }
   ],
   "source": [
    "re.sub('oberst[^u]', 'X', 'oberst oberst oberst')"
   ]
  },
  {
   "cell_type": "code",
   "execution_count": 37,
   "id": "4a84b279-777c-41cf-a664-47535c33e57a",
   "metadata": {},
   "outputs": [],
   "source": [
    "def replace_berufsklasse(berufsklasse = 'Jurist*in', dict_berufe = dict_berufe, df = df_mdb):\n",
    "    values_to_replace = set()\n",
    "    # TODO without loop but use 'any'\n",
    "    for indikator in dict_berufe[berufsklasse]:\n",
    "        values_to_replace = values_to_replace.union(set(df_mdb[df_mdb.BERUF_MAPPED.str.contains(indikator)].BERUF_MAPPED))\n",
    "\n",
    "    print(values_to_replace)\n",
    "    df_mdb.replace(list(values_to_replace), berufsklasse, inplace=True)\n",
    "    return(df_mdb)"
   ]
  },
  {
   "cell_type": "code",
   "execution_count": 38,
   "id": "e32cc5ce-7b22-447e-8e0b-78bf9f03780a",
   "metadata": {},
   "outputs": [
    {
     "name": "stdout",
     "output_type": "stream",
     "text": [
      "{'richter', 'rechtsanwalt f. steuerrecht', 'volljurist', 'rechtsanwalt', 'rechtsanwaltsgehilf', 'handelskammersyndikus', 'syndikusanwalt', 'richterin', 'richter am landgericht', 'handwerkskammersyndikus', 'richterin am landgericht', 'richter am oberlandesgericht', 'richterin am kammergericht', 'richterin i. r.', 'richter am bundesgerichtshof', 'jurist (richter)', 'notar', 'wirtschaftsjurist', 'rechtsanwalt u. notar', 'richterin a. lg.', 'richterin am amtsgericht', 'rechtsanwalts-', 'staatsanwalt', '-jurist', 'richter am oberverwaltungsgericht', 'jurist', 'rechtsanwalt (tätigkeit ruhend)', 'verwaltungsjurist', 'steuerjurist', 'vorsitzender richter am landgericht', 'oberstaatsanwalt', 'rechtsberater', 'familienrichterin', 'rechtanwalt', 'höherer dienst bund/land (ministerialrat); landrat; rechtsanwalt', 'richter i. r.', 'oberamtsrichter', 'dr. jur.', 'syndikus', 'generalbundesanwalt'}\n"
     ]
    }
   ],
   "source": [
    "df_mdb = replace_berufsklasse(berufsklasse = 'Jurist*in', dict_berufe = dict_berufe, df = df_mdb)"
   ]
  },
  {
   "cell_type": "code",
   "execution_count": 39,
   "id": "127e7e02-a363-4b00-aad5-191f1631c493",
   "metadata": {},
   "outputs": [
    {
     "name": "stdout",
     "output_type": "stream",
     "text": [
      "{'stahlbetonbauer', '-landwirt', 'landwirtschaftsmeister', 'selbstständiger landwirt', 'schiffbauer', 'maschinenbauer', 'land- u. forstwirt', 'hochschulagraringenieur', 'austragbauer', 'forstmeister i. r.', '-agraringenieur', 'oberlandwirtschaftsrat', 'straßenbauer', 'forstoberrat', '-forstingenieur', 'agraringenieur', '-agraringenieurin', '-forstwirt', 'agrarreferent', 'landwirt', 'landwirtschaftsdirektorin', 'betonbauer', 'bauer', 'oberregierungslandwirtschaftsrat', 'agrarwissenschaftler', 'forstwirt', 'landwirtschaftsrat'}\n"
     ]
    }
   ],
   "source": [
    "df_mdb = replace_berufsklasse(berufsklasse = 'Land-/Forstwirt*in', dict_berufe = dict_berufe, df = df_mdb)"
   ]
  },
  {
   "cell_type": "code",
   "execution_count": 40,
   "id": "a7333e5f-aba5-417f-9adb-02908bdc8e66",
   "metadata": {},
   "outputs": [
    {
     "name": "stdout",
     "output_type": "stream",
     "text": [
      "{'selbstständiger unternehmer', 'transportunternehmer', 'speditionsunternehmer', 'unternehmer', 'selbst. unternehmer', 'bauunternehmer', 'handwerksunternehmer', 'selbständiger unternehmer'}\n"
     ]
    }
   ],
   "source": [
    "df_mdb = replace_berufsklasse(berufsklasse = 'Unterehmer*in', dict_berufe = dict_berufe, df = df_mdb)"
   ]
  },
  {
   "cell_type": "code",
   "execution_count": 41,
   "id": "95db8991-a732-4495-9938-a22a5d5cf7b9",
   "metadata": {},
   "outputs": [
    {
     "name": "stdout",
     "output_type": "stream",
     "text": [
      "{'architekt', 'bauingenieur', 'oberingenieur', '-wirtschaftsingenieur', 'betriebsingenieur', '-wirtschaftsingenieurin', '-ingenieurökonom', 'maschinenbauingenieur', '-ingenieurin  lebensmittelkonservierer', 'bergingenieur', 'textilingenieur', 'elektroingenieur', 'hochschulingenieur', 'bauingenieur (gr', '-meliorationsingenieur', '-ingenieurin  fb architektur', 'wirtschaftsingenieur', 'ingenieurökonom', 'vertriebsingenieur', '-elektroingenieur', '-ing.  architekt', '-ingenieurin', 'gartenarchitekt', '-innenarchitekt', 'freie innenarchitekt', '-bauingenieur', 'maschinenbaumeister', 'ingenieur (gr', 'chemieingenieur', 'ingenieur', 'architekt bda', 'öffentlich bestellter vermessungsingenieur', '-ingenieur', '-ingenieur (tu)', '-maschinenbauingenieur', '-chemieingenieur'}\n"
     ]
    }
   ],
   "source": [
    "df_mdb = replace_berufsklasse(berufsklasse = 'Ingenieur*in', dict_berufe = dict_berufe, df = df_mdb)"
   ]
  },
  {
   "cell_type": "code",
   "execution_count": 42,
   "id": "0659bd2d-4a0e-4d30-98fa-dac569d93a0f",
   "metadata": {},
   "outputs": [
    {
     "data": {
      "text/plain": [
       "1001"
      ]
     },
     "execution_count": 42,
     "metadata": {},
     "output_type": "execute_result"
    }
   ],
   "source": [
    "len(set(df_mdb.BERUF_MAPPED))"
   ]
  },
  {
   "cell_type": "code",
   "execution_count": 43,
   "id": "48ba97fa-d2d8-44df-bc88-19795ac5281a",
   "metadata": {},
   "outputs": [
    {
     "name": "stdout",
     "output_type": "stream",
     "text": [
      "{'freie journalist', 'journalist', 'fernsehjournalist', 'freier journalist', 'chefredakteur', 'wissenschaftlicher redakteur', 'publizist', 'schriftsteller', 'politischer redakteur', 'freiberufliche redakteur', 'pr-journalist', 'redakteur', 'rundfunk-redakteur'}\n"
     ]
    }
   ],
   "source": [
    "df_mdb = replace_berufsklasse(berufsklasse = 'Journalist*in', dict_berufe = dict_berufe, df = df_mdb)"
   ]
  },
  {
   "cell_type": "code",
   "execution_count": 44,
   "id": "71676830-0a0b-483d-b33e-ef2eb96cf6ec",
   "metadata": {},
   "outputs": [
    {
     "name": "stdout",
     "output_type": "stream",
     "text": [
      "{'oberschulrat', 'lehrer am gymnasium (oberstudienrat)', 'schulamtsdirektor', 'stellvertr. schulleiter', 'lehrerin im hochschuldienst', 'gymnasiallehrer', 'pädagogin m a', 'fachschullehrer', 'schulleiterin', 'grund - u. hauptschullehrer', 'lehrerin', 'professor an einer wissenschaftlichen hochschule', 'lehrerin (strin)', 'realschuldirektor', 'realschullehrer', 'sonderschulpädagog', 'studiendirektorin', 'fachhochschullehrer', '-medizinpädagoge', 'studiendirektor', 'schulrat', 'pädagogischer leiter', '-lehrer', 'gewerbeschullehrer', 'regierungs- u.schulrat z. wv.', 'fachhochschulprofessor', 'sttschuldirektor', 'oberlehrer', 'pädagogische mitarbeiter', 'leitender gesamtschuldirektor', 'pädagoge', 'krankenvertretung staatlicher schuldienst', 'hochschullehrer', 'erzieher', 'hauptschulrat', 'hochschuldozent', 'volkshochschuldirektor', 'schulamtsleiter', '-sozialpädagoge', 'volksschulrektor', 'technischer lehrer', 'volkshochschulangestellter', 'realschulektorin', '-pädagoge', '-lehrer biologie/chemie', 'oberstudienrat', 'regierungsschuldirektor', 'sozialpädagog', 'sozialpädagoge/sozialarbeiter', 'oberschulrat i. r.', '-sozialpädagogin', 'hochschulprofessor', '-religionspädagoge', 'waldorflehrer', 'fachschuldozent', '-pädagogin', 'realschulrektor', 'lehrer am katholischen gymnasium ravensburg', 'studiendirektor im privatschuldienst', 'pädagogin in der erwachsenenbildung', 'schuldirektor', 'sportlehrer', 'berufsschullehrer', 'hauptlehrer', '-handelslehrer', '-wirtschaftslehrer', '-pädagog', '-ing. pädagoge', '-sportlehrer', 'hauptschuldirektor', '-sozialpädagog', 'sonderschullehrerin', 'gymnastiklehrer', 'gymnasialdirektor', 'sozialpädagoge', 'hauptschullehrer', 'sozialpädagogin gr', 'oberstudiendirektor', 'reallehrer', 'lehrer', 'oberschulrät', 'schulleiter', 'volkshochschulleiter', 'fremdsprachensekretär', 'hochschulassistent', 'sonderschullehrer', 'fremdsprachenlehrer', 'lehrerin a. a.', 'oberstudienrat i. r.', 'lehrerin (oberstudienrätin)', 'studienrat', 'oberlehrer i. r.', 'berufschullehrer', 'schulrätin', 'studienrat im hochschuldienst'}\n"
     ]
    }
   ],
   "source": [
    "df_mdb = replace_berufsklasse(berufsklasse = 'Lehrer*in', dict_berufe = dict_berufe, df = df_mdb)"
   ]
  },
  {
   "cell_type": "code",
   "execution_count": 45,
   "id": "1383a96d-efa4-4678-8b71-6c516e259433",
   "metadata": {},
   "outputs": [
    {
     "name": "stdout",
     "output_type": "stream",
     "text": [
      "{'technischer kaufmann', 'bürokaufmann', 'reiseverkehrskaufmann', 'schifffahrtskaufmann', 'textilkaufmann', 'verlagskaufmann', 'kaufmann', 'hotelkaufmann', 'datenverarbeitungskaufmann', 'grundstücks- u. wohnungswirtschaftskaufmann', 'versichrungskaufmann', 'kaufm. angestellte', 'immobilienkaufmann', 'bankkaufmann', 'mineralölkaufmann', 'kaufmännische angestellte', 'viehkaufmann', 'selbständiger einzelhandelskaufmann', '-kaufmann (univ.)', 'reisebürokaufmann', 'wirtschaftskaufmann', 'versicherungskaufmann', 'baukaufmann', 'kaufmann im einzelhandel', 'kaufmännische angest.', 'selbständiger kaufmann', 'speditionskaufmann', 'selbstständige industriekaufmann', 'außenhandelskaufmann', '-kaufmann', 'selbstständiger kaufmann', '-kaufmann wp/stb', 'selbst. kaufmann', 'großhandelskaufmann', 'industriekaufmann', 'kaufmännischer angestellter', 'kaufmännischer direktor', 'pharmazeutisch kaufmännische assistent', 'werbekaufmann', 'kaufm.angestellter', 'einzelhandelskaufmann'}\n"
     ]
    }
   ],
   "source": [
    "df_mdb = replace_berufsklasse(berufsklasse = 'Kaufmann/-frau', dict_berufe = dict_berufe, df = df_mdb)"
   ]
  },
  {
   "cell_type": "code",
   "execution_count": 46,
   "id": "2eef0c35-9c33-4859-8b3d-3fad633bb1ba",
   "metadata": {},
   "outputs": [
    {
     "name": "stdout",
     "output_type": "stream",
     "text": [
      "{'studienprofessor', 'honorarprofessor', 'universitätsprofessor der rechte', 'ordentlicher professor', 'universitätsprofessor', 'professor der betriebswirtschaft', 'prof.', 'o. professor', 'o. universitätsprofessor', 'ordentlicher universitätsprofessor', 'professor', 'dozent'}\n"
     ]
    }
   ],
   "source": [
    "df_mdb = replace_berufsklasse(berufsklasse = 'Professor*in', dict_berufe = dict_berufe, df = df_mdb)"
   ]
  },
  {
   "cell_type": "code",
   "execution_count": 47,
   "id": "be618235-8667-4f9b-891a-2d393bd4c1e9",
   "metadata": {},
   "outputs": [
    {
     "data": {
      "text/plain": [
       "844"
      ]
     },
     "execution_count": 47,
     "metadata": {},
     "output_type": "execute_result"
    }
   ],
   "source": [
    "len(set(df_mdb.BERUF_MAPPED))"
   ]
  },
  {
   "cell_type": "code",
   "execution_count": 48,
   "id": "27b7c6bd-7c81-4e45-9902-37a599abeb0b",
   "metadata": {},
   "outputs": [
    {
     "name": "stdout",
     "output_type": "stream",
     "text": [
      "{'volkswirt (gr', 'volkswirt', '-volkswirt (uni)', '-volkswirt', 'technischer -volkswirt', '-volkswirt (universität)', 'volkswirtschaftler'}\n"
     ]
    }
   ],
   "source": [
    "df_mdb = replace_berufsklasse(berufsklasse = 'Volkswirt*in', dict_berufe = dict_berufe, df = df_mdb)"
   ]
  },
  {
   "cell_type": "code",
   "execution_count": 49,
   "id": "e05202fc-ebd7-46f9-955a-8cb92bb49b5a",
   "metadata": {},
   "outputs": [
    {
     "name": "stdout",
     "output_type": "stream",
     "text": [
      "{'oberregierungsrat  bundesminister', 'präsidentin dbt', 'bundestagspräsident', 'staatsmister beim bundesminister der auswärtigen', 'regierungsassessor', 'ministerialdirigent', 'bundesminister des innern', 'bundeskanzler', 'präsident dbt', 'staatsministerin', 'oberbürgermeisterin', 'ministerialdirektor z. d.', 'landrat', 'staatssekretär i. r.', 'vizepräsident dbt', 'leitender regierungsdirektor', 'staatsminister', 'bürgermeisterin', 'bezirksbürgermeister', '1. bürgermeister', 'bundesminister des auswärtigen', 'regierungsangestellter', 'regierungsangestellte', 'regierungsrät', 'regierungspräsident', 'wirtschaftsminister u. stellvertr. ministerpräsident', 'referentin landesministerium nrw', '-betriebswirt  bürgermeister', 'ministerialdirektor i. r.', 'amtsbürgermeister', 'oberbürgermeister', 'regierungsvizepräsident', 'regierungsinspektor', 'regierungsrat', 'bundesministerin', 'regierungsdirektor', 'staatsminister im auswärtigen amt', 'regierungspräsident z. d.', 'regierungsdirektorin', 'staatssekretärin', 'parlamentarischer staatssekretär', 'landrat i. r.', 'regierungsrätin', 'bundesminister f. besondere aufgaben', 'vizepräsidentin dbt', 'ministerpräsident', 'bürgermeister', 'ministerialrat', 'gemeindedirektor', 'referent (staatsministerium)', 'ministerrialreferent', 'parl. staatssekretär', 'bundesminister der justiz', 'erster bürgermeister', 'ministerialdirektor', 'minister', 'staatss. b. minister', 'staatssekretär', 'bürgermeister i. r.', 'beamter (leitender regierungsdirektor)', 'parl. staatssekretärin', 'landesministerin  (bb)', 'landesminister', 'parl. staatssekretär im bmbf', 'staatssekretär im ministerium', 'bundesminister der finanzen', 'oberregierungsrat', 'bundesminister', 'ministerpräsident des freistaatesyern'}\n"
     ]
    },
    {
     "name": "stderr",
     "output_type": "stream",
     "text": [
      "/usr/local/lib/python3.9/site-packages/pandas/core/strings/accessor.py:101: UserWarning: This pattern has match groups. To actually get the groups, use str.extract.\n",
      "  return func(self, *args, **kwargs)\n"
     ]
    }
   ],
   "source": [
    "df_mdb = replace_berufsklasse(berufsklasse = 'Berufspolitiker*in', dict_berufe = dict_berufe, df = df_mdb)"
   ]
  },
  {
   "cell_type": "code",
   "execution_count": 50,
   "id": "e22f10d8-4da1-41ce-afdd-b74b8396e03f",
   "metadata": {},
   "outputs": [
    {
     "name": "stdout",
     "output_type": "stream",
     "text": [
      "{'-psychologe', 'chefarzt im bezirkskrankenhaus schwer', 'werksarzt', 'mannenarzt', 'arzt allgemein/ tropenmediz', 'apotheker', 'arzt', 'zahnarzt', 'kinderarzt', 'psycholog', 'facharzt', '-psycholog', 'fachpsychologin der mediz', 'tierarzt', 'beratender psychologe', 'praktischer arzt'}\n"
     ]
    }
   ],
   "source": [
    "df_mdb = replace_berufsklasse(berufsklasse = 'Arzt/Ärztin', dict_berufe = dict_berufe, df = df_mdb)"
   ]
  },
  {
   "cell_type": "code",
   "execution_count": 51,
   "id": "e8e44090-19e2-4187-aaf9-8feeeb959fb2",
   "metadata": {},
   "outputs": [
    {
     "name": "stdout",
     "output_type": "stream",
     "text": [
      "{'diakon', 'pfarrer i. r.', 'pfarrer', '-theologe', 'theolog', 'theologe', 'pfarrer im wartestand'}\n"
     ]
    }
   ],
   "source": [
    "df_mdb = replace_berufsklasse(berufsklasse = 'Theolog*in', dict_berufe = dict_berufe, df = df_mdb)"
   ]
  },
  {
   "cell_type": "code",
   "execution_count": 52,
   "id": "80be1424-0b40-4f4e-854a-9836fc71c659",
   "metadata": {},
   "outputs": [
    {
     "name": "stdout",
     "output_type": "stream",
     "text": [
      "{'verwaltungswirt', 'sparkassenbetriebswirt', '-verwaltungswirtin', 'verwaltungsfachangestellter', 'verwaltungsfachwirt', 'kreisverwaltungsdirektor', '-betriebswirtin', 'verwaltungsvollzugsbeamter', '-bankbetriebswirt (fs)', 'städtischer ltd. verwaltungsdirektor', 'selbständige steuerberater', 'verwaltungsbeamter', 'betriebswirt', 'sttverwaltungsrat', 'verwaltungsangestellter', 'bundesbankdirektor', '-betriebswirtschaftler', 'steuerberater', 'verwaltungsamtsrat', 'verwaltungsangestellte', 'kreisverwaltungsreferent', '-betriebswirtin  amtmann', 'verwaltungsamtmann', 'betriebswirtin (vwa)', 'verwaltungsamtmann (sachbearbeiter)', 'verwaltungsrat', '-verwaltungswirt', '-verwaltungswissenschaftler', 'bankdirektor', 'betriebswirtin sgd', 'landesoberverwaltungsrat', 'rechtskundige verwaltungsdirektorin', 'verwaltungsratsvorsitzender', 'verwaltungsoberinspektor', 'verwaltungsdirektor', 'verwaltungsleiter', 'verwaltungs-', '-betriebswirt', 'verwaltungs-betriebswirtin (vwa)', '-verwaltungswirt polizei', 'betriebswirt (vwa)', 'verwaltungsinspektor'}\n"
     ]
    }
   ],
   "source": [
    "df_mdb = replace_berufsklasse(berufsklasse = 'Betriebswirt*in', dict_berufe = dict_berufe, df = df_mdb)"
   ]
  },
  {
   "cell_type": "code",
   "execution_count": 53,
   "id": "1a13fe46-14f0-42a5-81db-8eed1c05c96d",
   "metadata": {},
   "outputs": [
    {
     "name": "stdout",
     "output_type": "stream",
     "text": [
      "{'ing.-ökonom', 'prokurist', 'ökonom', '-ökonom', '-sozialökonom', 'wirtschaftswissenschaftler', 'ökonomierat', 'personalmanagementökonomin (vwa)'}\n"
     ]
    }
   ],
   "source": [
    "df_mdb = replace_berufsklasse(berufsklasse = 'Wirtschaftswissenschaftler*in', dict_berufe = dict_berufe, df = df_mdb)"
   ]
  },
  {
   "cell_type": "code",
   "execution_count": 54,
   "id": "4302e9eb-e432-46a6-a9bb-45b58183dace",
   "metadata": {},
   "outputs": [
    {
     "name": "stdout",
     "output_type": "stream",
     "text": [
      "{'-soziologe', 'kulturwissenschaftler', 'politologe', 'politikwissenschaftler (m.a.)', 'philologe', '-politikwissenschaftler', '-politologe', 'politikwissenschaftler (m. a.)', 'politolog', '-politolog', 'politikwissenschaftler ma', '-sozialwissenschaftler', 'philolog', 'soziolog', '-philosoph', 'soziologe', '- politolog', 'politikwissenschaftliche doktorand', 'sozialwissenschaftler', '-historiker', 'historiker', 'kunsthistoriker', 'politikwissenschaftler m. a.', 'literaturhistoriker', 'klassischer philologe', 'politikwissenschaftler', '-soziolog'}\n"
     ]
    }
   ],
   "source": [
    "df_mdb = replace_berufsklasse(berufsklasse = 'Geisteswissenschaftler*in', dict_berufe = dict_berufe, df = df_mdb)"
   ]
  },
  {
   "cell_type": "code",
   "execution_count": 55,
   "id": "c0b71494-420c-4cca-b38d-6be4a257962d",
   "metadata": {},
   "outputs": [
    {
     "name": "stdout",
     "output_type": "stream",
     "text": [
      "{'-mathematiker', '-chemiker', 'biologe', 'physikochemiker', 'biolog', 'chemiker', 'chemielaborant', 'physiker', '-biologe', '-physiker', 'informatiker', 'mikrobiologe', 'physikalisch-technische assistent', '-biolog', 'staatlich geprüfte informatiker', '-informatiker', '-geophysiker', 'chemiefacharbeiter', 'wirtschaftsinformatiker', 'biologiestudent', 'biochemiker', 'mathematiker'}\n"
     ]
    }
   ],
   "source": [
    "df_mdb = replace_berufsklasse(berufsklasse = 'Naturwissenschaftler*in', dict_berufe = dict_berufe, df = df_mdb)"
   ]
  },
  {
   "cell_type": "code",
   "execution_count": 56,
   "id": "82b8de5a-cc4e-4379-80d0-9c912fbcdfa5",
   "metadata": {},
   "outputs": [
    {
     "name": "stdout",
     "output_type": "stream",
     "text": [
      "{'selbst. verlagsrepräsentant', 'verleger', 'verlagsgeschäftsführer', 'verlagsleiter', 'zeitungsverleger'}\n"
     ]
    }
   ],
   "source": [
    "df_mdb = replace_berufsklasse(berufsklasse = 'Verleger*in', dict_berufe = dict_berufe, df = df_mdb)"
   ]
  },
  {
   "cell_type": "code",
   "execution_count": 57,
   "id": "55c0ae57-29bc-44c0-9e8d-b5d42ed6d78e",
   "metadata": {},
   "outputs": [
    {
     "name": "stdout",
     "output_type": "stream",
     "text": [
      "{'elektromeister', 'selbstständiger bäckermeister', 'bäckerm.', 'betonfacharbeiter', 'schreiner', 'elektro.-ing.', 'schlosser', 'elektromeister in der energiewirtschaft', 'elektroniker', 'tischlermeister', 'geschäftsführer der handwerkskammer ostthüringen', 'mechaniker', 'werkzeugmacher', 'meister des maler-', 'schreinermeister', 'kfz.-mechaniker', 'bäckermeister', 'keramikmaler', 'feinmechaniker', 'maschinenschlosser', 'elektro-techniker', 'malermeister', 'maurer', 'bergmann (hauer)', 'meister im maurer-', 'industriemechaniker', 'tischlergeselle', 'bergmann', 'elektrohandwerksmeister', 'kraftfahrzeughandwerker', 'schlosservorarbeiter', 'modellschreiner', 'selbständiger kfz.-mechanikermeister', 'bäcker', 'elektroinstallateur', 'handwerksmeister', 'müllermeister', 'elektromechaniker', 'bäcker- u. konditormeister', 'elektrotechniker', '-ing. elektrotechnik', 'tischlergesell', 'funkmechaniker', 'elektromonteur', 'mechanikermeister', 'elektroschweißer'}\n"
     ]
    }
   ],
   "source": [
    "df_mdb = replace_berufsklasse(berufsklasse = 'Handwerker*in', dict_berufe = dict_berufe, df = df_mdb)"
   ]
  },
  {
   "cell_type": "code",
   "execution_count": 58,
   "id": "b1452d7f-60d9-4d66-bab8-6a0d85006193",
   "metadata": {},
   "outputs": [
    {
     "name": "stdout",
     "output_type": "stream",
     "text": [
      "{'soldat', 'berufssoldat', 'oberstleutnant'}\n"
     ]
    }
   ],
   "source": [
    "df_mdb = replace_berufsklasse(berufsklasse = 'Militär', dict_berufe = dict_berufe, df = df_mdb)"
   ]
  },
  {
   "cell_type": "code",
   "execution_count": 59,
   "id": "29efc7a3-c6e9-4b6f-a930-dede78b94247",
   "metadata": {},
   "outputs": [
    {
     "name": "stdout",
     "output_type": "stream",
     "text": [
      "{'kommunalbeamter', 'kriminalpolizeibeamter', 'postbeamter', 'eisenbahnbeamter', 'beamter (amtsrat); persönl. referent', 'kriminalbeamter', 'bundesbahnbeamter', 'steuerbeamter', 'beamter i. r.', 'fernmeldebeamter', 'feuerwehrbeamter', 'beamter', 'beamter i. s. b.', 'finanzbeamter', 'polizeibeamter', 'komunalbeamter'}\n"
     ]
    }
   ],
   "source": [
    "df_mdb = replace_berufsklasse(berufsklasse = 'Beamter', dict_berufe = dict_berufe, df = df_mdb)"
   ]
  },
  {
   "cell_type": "code",
   "execution_count": 60,
   "id": "01c56a13-6dde-4331-abe3-05947667d4ce",
   "metadata": {},
   "outputs": [
    {
     "data": {
      "text/plain": [
       "588"
      ]
     },
     "execution_count": 60,
     "metadata": {},
     "output_type": "execute_result"
    }
   ],
   "source": [
    "len(set(df_mdb.BERUF_MAPPED))"
   ]
  },
  {
   "cell_type": "code",
   "execution_count": 61,
   "id": "0c90624c-5607-43cd-8eff-e11bae925f83",
   "metadata": {},
   "outputs": [
    {
     "data": {
      "text/html": [
       "<div>\n",
       "<style scoped>\n",
       "    .dataframe tbody tr th:only-of-type {\n",
       "        vertical-align: middle;\n",
       "    }\n",
       "\n",
       "    .dataframe tbody tr th {\n",
       "        vertical-align: top;\n",
       "    }\n",
       "\n",
       "    .dataframe thead th {\n",
       "        text-align: right;\n",
       "    }\n",
       "</style>\n",
       "<table border=\"1\" class=\"dataframe\">\n",
       "  <thead>\n",
       "    <tr style=\"text-align: right;\">\n",
       "      <th></th>\n",
       "      <th>ID</th>\n",
       "    </tr>\n",
       "    <tr>\n",
       "      <th>BERUF_MAPPED</th>\n",
       "      <th></th>\n",
       "    </tr>\n",
       "  </thead>\n",
       "  <tbody>\n",
       "    <tr>\n",
       "      <th>gewerkschaftssekretär</th>\n",
       "      <td>52</td>\n",
       "    </tr>\n",
       "    <tr>\n",
       "      <th>hausmann</th>\n",
       "      <td>52</td>\n",
       "    </tr>\n",
       "    <tr>\n",
       "      <th>Wirtschaftswissenschaftler*in</th>\n",
       "      <td>38</td>\n",
       "    </tr>\n",
       "    <tr>\n",
       "      <th>Theolog*in</th>\n",
       "      <td>37</td>\n",
       "    </tr>\n",
       "    <tr>\n",
       "      <th>Unterehmer*in</th>\n",
       "      <td>28</td>\n",
       "    </tr>\n",
       "    <tr>\n",
       "      <th>Beamter</th>\n",
       "      <td>27</td>\n",
       "    </tr>\n",
       "    <tr>\n",
       "      <th>mitglied der volkskammer</th>\n",
       "      <td>23</td>\n",
       "    </tr>\n",
       "    <tr>\n",
       "      <th>fabrikant</th>\n",
       "      <td>21</td>\n",
       "    </tr>\n",
       "    <tr>\n",
       "      <th>Verleger*in</th>\n",
       "      <td>18</td>\n",
       "    </tr>\n",
       "    <tr>\n",
       "      <th>rektor</th>\n",
       "      <td>13</td>\n",
       "    </tr>\n",
       "    <tr>\n",
       "      <th>angestellte</th>\n",
       "      <td>12</td>\n",
       "    </tr>\n",
       "    <tr>\n",
       "      <th>unternehmensberater</th>\n",
       "      <td>12</td>\n",
       "    </tr>\n",
       "    <tr>\n",
       "      <th>schriftsetzer</th>\n",
       "      <td>11</td>\n",
       "    </tr>\n",
       "    <tr>\n",
       "      <th>student</th>\n",
       "      <td>11</td>\n",
       "    </tr>\n",
       "    <tr>\n",
       "      <th>sozialarbeiter</th>\n",
       "      <td>9</td>\n",
       "    </tr>\n",
       "    <tr>\n",
       "      <th>technischer angestellter</th>\n",
       "      <td>8</td>\n",
       "    </tr>\n",
       "  </tbody>\n",
       "</table>\n",
       "</div>"
      ],
      "text/plain": [
       "                               ID\n",
       "BERUF_MAPPED                     \n",
       "gewerkschaftssekretär          52\n",
       "hausmann                       52\n",
       "Wirtschaftswissenschaftler*in  38\n",
       "Theolog*in                     37\n",
       "Unterehmer*in                  28\n",
       "Beamter                        27\n",
       "mitglied der volkskammer       23\n",
       "fabrikant                      21\n",
       "Verleger*in                    18\n",
       "rektor                         13\n",
       "angestellte                    12\n",
       "unternehmensberater            12\n",
       "schriftsetzer                  11\n",
       "student                        11\n",
       "sozialarbeiter                  9\n",
       "technischer angestellter        8"
      ]
     },
     "execution_count": 61,
     "metadata": {},
     "output_type": "execute_result"
    }
   ],
   "source": [
    "df_mdb[['ID', 'BERUF_MAPPED']].groupby('BERUF_MAPPED').count().sort_values(by='ID', ascending=False)[16:32]"
   ]
  },
  {
   "cell_type": "code",
   "execution_count": 62,
   "id": "ef9ae9a1-ad6e-4011-8a5f-23aafaa38e4c",
   "metadata": {},
   "outputs": [
    {
     "data": {
      "text/plain": [
       "<AxesSubplot:xlabel='BERUF_MAPPED'>"
      ]
     },
     "execution_count": 62,
     "metadata": {},
     "output_type": "execute_result"
    },
    {
     "data": {
      "image/png": "[encoded data removed]",
      "text/plain": [
       "<Figure size 1152x576 with 1 Axes>"
      ]
     },
     "metadata": {
      "needs_background": "light"
     },
     "output_type": "display_data"
    }
   ],
   "source": [
    "plt.figure(figsize=(16,8))\n",
    "df_mdb.groupby('BERUF_MAPPED')['ID'].count().sort_values(ascending=False)[:32].plot(kind='bar')"
   ]
  },
  {
   "cell_type": "code",
   "execution_count": 63,
   "id": "822becb9-c959-4157-917c-0ac96fc9247a",
   "metadata": {},
   "outputs": [
    {
     "data": {
      "text/plain": [
       "588"
      ]
     },
     "execution_count": 63,
     "metadata": {},
     "output_type": "execute_result"
    }
   ],
   "source": [
    "len(set(df_mdb['BERUF_MAPPED']))"
   ]
  },
  {
   "cell_type": "code",
   "execution_count": null,
   "id": "af431cc6-61fa-4567-bf88-7834bbe40168",
   "metadata": {},
   "outputs": [],
   "source": []
  },
  {
   "cell_type": "markdown",
   "id": "2cb734b0-1f43-478b-8c2e-b4923b312574",
   "metadata": {},
   "source": [
    "# construct df_mdb_wp"
   ]
  },
  {
   "cell_type": "code",
   "execution_count": 64,
   "id": "22eb0588-3f1e-447e-b82b-2bd600fde8f0",
   "metadata": {},
   "outputs": [
    {
     "name": "stdout",
     "output_type": "stream",
     "text": [
      "(11627, 20)\n"
     ]
    }
   ],
   "source": [
    "df_mdb_wp = get_mdb_wp_data(df_mdb)\n",
    "print(df_mdb_wp.shape)"
   ]
  },
  {
   "cell_type": "code",
   "execution_count": 65,
   "id": "47c471ca-f842-4b9f-aa75-6d354a818c8b",
   "metadata": {},
   "outputs": [
    {
     "data": {
      "text/html": [
       "<div>\n",
       "<style scoped>\n",
       "    .dataframe tbody tr th:only-of-type {\n",
       "        vertical-align: middle;\n",
       "    }\n",
       "\n",
       "    .dataframe tbody tr th {\n",
       "        vertical-align: top;\n",
       "    }\n",
       "\n",
       "    .dataframe thead th {\n",
       "        text-align: right;\n",
       "    }\n",
       "</style>\n",
       "<table border=\"1\" class=\"dataframe\">\n",
       "  <thead>\n",
       "    <tr style=\"text-align: right;\">\n",
       "      <th></th>\n",
       "      <th>ID</th>\n",
       "      <th>NACHNAME</th>\n",
       "      <th>VORNAME</th>\n",
       "      <th>GEBURTSDATUM</th>\n",
       "      <th>GEBURTSORT</th>\n",
       "      <th>GEBURTSLAND</th>\n",
       "      <th>STERBEDATUM</th>\n",
       "      <th>GESCHLECHT</th>\n",
       "      <th>FAMILIENSTAND</th>\n",
       "      <th>RELIGION</th>\n",
       "      <th>BERUF</th>\n",
       "      <th>PARTEI_KURZ</th>\n",
       "      <th>VITA_KURZ</th>\n",
       "      <th>VEROEFFENTLICHUNGSPFLICHTIGES</th>\n",
       "      <th>ANZ_WAHLPERIODEN</th>\n",
       "      <th>GEBURSDATUM_DATE</th>\n",
       "      <th>RELIGION_MAPPED</th>\n",
       "      <th>FAMILIENSTAND_MAPPED</th>\n",
       "      <th>BERUF_MAPPED</th>\n",
       "      <th>WP</th>\n",
       "    </tr>\n",
       "  </thead>\n",
       "  <tbody>\n",
       "    <tr>\n",
       "      <th>1465</th>\n",
       "      <td>11001478</td>\n",
       "      <td>Merkel</td>\n",
       "      <td>Angela</td>\n",
       "      <td>17.07.1954</td>\n",
       "      <td>Hamburg</td>\n",
       "      <td>UNBEKANNT</td>\n",
       "      <td>UNBEKANNT</td>\n",
       "      <td>weiblich</td>\n",
       "      <td>verheiratet</td>\n",
       "      <td>evangelisch</td>\n",
       "      <td>Bundeskanzlerin, Dipl.-Physikerin</td>\n",
       "      <td>CDU</td>\n",
       "      <td>1973 Abitur in Templin. Physikstudium Univ. Le...</td>\n",
       "      <td>4 Funktionen in Körperschaften und Anstalten d...</td>\n",
       "      <td>8</td>\n",
       "      <td>1954-07-17</td>\n",
       "      <td>evangelisch</td>\n",
       "      <td>verh.</td>\n",
       "      <td>Berufspolitiker*in</td>\n",
       "      <td>12</td>\n",
       "    </tr>\n",
       "    <tr>\n",
       "      <th>1465</th>\n",
       "      <td>11001478</td>\n",
       "      <td>Merkel</td>\n",
       "      <td>Angela</td>\n",
       "      <td>17.07.1954</td>\n",
       "      <td>Hamburg</td>\n",
       "      <td>UNBEKANNT</td>\n",
       "      <td>UNBEKANNT</td>\n",
       "      <td>weiblich</td>\n",
       "      <td>verheiratet</td>\n",
       "      <td>evangelisch</td>\n",
       "      <td>Bundeskanzlerin, Dipl.-Physikerin</td>\n",
       "      <td>CDU</td>\n",
       "      <td>1973 Abitur in Templin. Physikstudium Univ. Le...</td>\n",
       "      <td>4 Funktionen in Körperschaften und Anstalten d...</td>\n",
       "      <td>8</td>\n",
       "      <td>1954-07-17</td>\n",
       "      <td>evangelisch</td>\n",
       "      <td>verh.</td>\n",
       "      <td>Berufspolitiker*in</td>\n",
       "      <td>13</td>\n",
       "    </tr>\n",
       "    <tr>\n",
       "      <th>1465</th>\n",
       "      <td>11001478</td>\n",
       "      <td>Merkel</td>\n",
       "      <td>Angela</td>\n",
       "      <td>17.07.1954</td>\n",
       "      <td>Hamburg</td>\n",
       "      <td>UNBEKANNT</td>\n",
       "      <td>UNBEKANNT</td>\n",
       "      <td>weiblich</td>\n",
       "      <td>verheiratet</td>\n",
       "      <td>evangelisch</td>\n",
       "      <td>Bundeskanzlerin, Dipl.-Physikerin</td>\n",
       "      <td>CDU</td>\n",
       "      <td>1973 Abitur in Templin. Physikstudium Univ. Le...</td>\n",
       "      <td>4 Funktionen in Körperschaften und Anstalten d...</td>\n",
       "      <td>8</td>\n",
       "      <td>1954-07-17</td>\n",
       "      <td>evangelisch</td>\n",
       "      <td>verh.</td>\n",
       "      <td>Berufspolitiker*in</td>\n",
       "      <td>14</td>\n",
       "    </tr>\n",
       "    <tr>\n",
       "      <th>1465</th>\n",
       "      <td>11001478</td>\n",
       "      <td>Merkel</td>\n",
       "      <td>Angela</td>\n",
       "      <td>17.07.1954</td>\n",
       "      <td>Hamburg</td>\n",
       "      <td>UNBEKANNT</td>\n",
       "      <td>UNBEKANNT</td>\n",
       "      <td>weiblich</td>\n",
       "      <td>verheiratet</td>\n",
       "      <td>evangelisch</td>\n",
       "      <td>Bundeskanzlerin, Dipl.-Physikerin</td>\n",
       "      <td>CDU</td>\n",
       "      <td>1973 Abitur in Templin. Physikstudium Univ. Le...</td>\n",
       "      <td>4 Funktionen in Körperschaften und Anstalten d...</td>\n",
       "      <td>8</td>\n",
       "      <td>1954-07-17</td>\n",
       "      <td>evangelisch</td>\n",
       "      <td>verh.</td>\n",
       "      <td>Berufspolitiker*in</td>\n",
       "      <td>15</td>\n",
       "    </tr>\n",
       "    <tr>\n",
       "      <th>1465</th>\n",
       "      <td>11001478</td>\n",
       "      <td>Merkel</td>\n",
       "      <td>Angela</td>\n",
       "      <td>17.07.1954</td>\n",
       "      <td>Hamburg</td>\n",
       "      <td>UNBEKANNT</td>\n",
       "      <td>UNBEKANNT</td>\n",
       "      <td>weiblich</td>\n",
       "      <td>verheiratet</td>\n",
       "      <td>evangelisch</td>\n",
       "      <td>Bundeskanzlerin, Dipl.-Physikerin</td>\n",
       "      <td>CDU</td>\n",
       "      <td>1973 Abitur in Templin. Physikstudium Univ. Le...</td>\n",
       "      <td>4 Funktionen in Körperschaften und Anstalten d...</td>\n",
       "      <td>8</td>\n",
       "      <td>1954-07-17</td>\n",
       "      <td>evangelisch</td>\n",
       "      <td>verh.</td>\n",
       "      <td>Berufspolitiker*in</td>\n",
       "      <td>16</td>\n",
       "    </tr>\n",
       "  </tbody>\n",
       "</table>\n",
       "</div>"
      ],
      "text/plain": [
       "            ID NACHNAME VORNAME GEBURTSDATUM GEBURTSORT GEBURTSLAND  \\\n",
       "1465  11001478   Merkel  Angela   17.07.1954    Hamburg   UNBEKANNT   \n",
       "1465  11001478   Merkel  Angela   17.07.1954    Hamburg   UNBEKANNT   \n",
       "1465  11001478   Merkel  Angela   17.07.1954    Hamburg   UNBEKANNT   \n",
       "1465  11001478   Merkel  Angela   17.07.1954    Hamburg   UNBEKANNT   \n",
       "1465  11001478   Merkel  Angela   17.07.1954    Hamburg   UNBEKANNT   \n",
       "\n",
       "     STERBEDATUM GESCHLECHT FAMILIENSTAND     RELIGION  \\\n",
       "1465   UNBEKANNT   weiblich   verheiratet  evangelisch   \n",
       "1465   UNBEKANNT   weiblich   verheiratet  evangelisch   \n",
       "1465   UNBEKANNT   weiblich   verheiratet  evangelisch   \n",
       "1465   UNBEKANNT   weiblich   verheiratet  evangelisch   \n",
       "1465   UNBEKANNT   weiblich   verheiratet  evangelisch   \n",
       "\n",
       "                                  BERUF PARTEI_KURZ  \\\n",
       "1465  Bundeskanzlerin, Dipl.-Physikerin         CDU   \n",
       "1465  Bundeskanzlerin, Dipl.-Physikerin         CDU   \n",
       "1465  Bundeskanzlerin, Dipl.-Physikerin         CDU   \n",
       "1465  Bundeskanzlerin, Dipl.-Physikerin         CDU   \n",
       "1465  Bundeskanzlerin, Dipl.-Physikerin         CDU   \n",
       "\n",
       "                                              VITA_KURZ  \\\n",
       "1465  1973 Abitur in Templin. Physikstudium Univ. Le...   \n",
       "1465  1973 Abitur in Templin. Physikstudium Univ. Le...   \n",
       "1465  1973 Abitur in Templin. Physikstudium Univ. Le...   \n",
       "1465  1973 Abitur in Templin. Physikstudium Univ. Le...   \n",
       "1465  1973 Abitur in Templin. Physikstudium Univ. Le...   \n",
       "\n",
       "                          VEROEFFENTLICHUNGSPFLICHTIGES  ANZ_WAHLPERIODEN  \\\n",
       "1465  4 Funktionen in Körperschaften und Anstalten d...                 8   \n",
       "1465  4 Funktionen in Körperschaften und Anstalten d...                 8   \n",
       "1465  4 Funktionen in Körperschaften und Anstalten d...                 8   \n",
       "1465  4 Funktionen in Körperschaften und Anstalten d...                 8   \n",
       "1465  4 Funktionen in Körperschaften und Anstalten d...                 8   \n",
       "\n",
       "     GEBURSDATUM_DATE RELIGION_MAPPED FAMILIENSTAND_MAPPED  \\\n",
       "1465       1954-07-17     evangelisch                verh.   \n",
       "1465       1954-07-17     evangelisch                verh.   \n",
       "1465       1954-07-17     evangelisch                verh.   \n",
       "1465       1954-07-17     evangelisch                verh.   \n",
       "1465       1954-07-17     evangelisch                verh.   \n",
       "\n",
       "            BERUF_MAPPED  WP  \n",
       "1465  Berufspolitiker*in  12  \n",
       "1465  Berufspolitiker*in  13  \n",
       "1465  Berufspolitiker*in  14  \n",
       "1465  Berufspolitiker*in  15  \n",
       "1465  Berufspolitiker*in  16  "
      ]
     },
     "execution_count": 65,
     "metadata": {},
     "output_type": "execute_result"
    }
   ],
   "source": [
    "df_mdb_wp[df_mdb_wp.NACHNAME == 'Merkel'].head()"
   ]
  },
  {
   "cell_type": "markdown",
   "id": "158b8b22-fd41-485d-a928-3dd6b2a0da4a",
   "metadata": {},
   "source": [
    "# compute age"
   ]
  },
  {
   "cell_type": "code",
   "execution_count": 66,
   "id": "dfcc80d7-c8f1-4ed2-b9e3-da2d4f662153",
   "metadata": {},
   "outputs": [
    {
     "data": {
      "text/html": [
       "<div>\n",
       "<style scoped>\n",
       "    .dataframe tbody tr th:only-of-type {\n",
       "        vertical-align: middle;\n",
       "    }\n",
       "\n",
       "    .dataframe tbody tr th {\n",
       "        vertical-align: top;\n",
       "    }\n",
       "\n",
       "    .dataframe thead th {\n",
       "        text-align: right;\n",
       "    }\n",
       "</style>\n",
       "<table border=\"1\" class=\"dataframe\">\n",
       "  <thead>\n",
       "    <tr style=\"text-align: right;\">\n",
       "      <th></th>\n",
       "      <th>START_DATE</th>\n",
       "    </tr>\n",
       "  </thead>\n",
       "  <tbody>\n",
       "    <tr>\n",
       "      <th>1</th>\n",
       "      <td>1949-09-07</td>\n",
       "    </tr>\n",
       "    <tr>\n",
       "      <th>2</th>\n",
       "      <td>1953-10-06</td>\n",
       "    </tr>\n",
       "    <tr>\n",
       "      <th>3</th>\n",
       "      <td>1957-10-15</td>\n",
       "    </tr>\n",
       "    <tr>\n",
       "      <th>4</th>\n",
       "      <td>1961-10-17</td>\n",
       "    </tr>\n",
       "    <tr>\n",
       "      <th>5</th>\n",
       "      <td>1965-10-19</td>\n",
       "    </tr>\n",
       "    <tr>\n",
       "      <th>6</th>\n",
       "      <td>1969-10-20</td>\n",
       "    </tr>\n",
       "    <tr>\n",
       "      <th>7</th>\n",
       "      <td>1972-12-13</td>\n",
       "    </tr>\n",
       "    <tr>\n",
       "      <th>8</th>\n",
       "      <td>1976-12-14</td>\n",
       "    </tr>\n",
       "    <tr>\n",
       "      <th>9</th>\n",
       "      <td>1980-11-04</td>\n",
       "    </tr>\n",
       "    <tr>\n",
       "      <th>10</th>\n",
       "      <td>1983-03-29</td>\n",
       "    </tr>\n",
       "    <tr>\n",
       "      <th>11</th>\n",
       "      <td>1987-02-18</td>\n",
       "    </tr>\n",
       "    <tr>\n",
       "      <th>12</th>\n",
       "      <td>1990-12-20</td>\n",
       "    </tr>\n",
       "    <tr>\n",
       "      <th>13</th>\n",
       "      <td>1994-11-10</td>\n",
       "    </tr>\n",
       "    <tr>\n",
       "      <th>14</th>\n",
       "      <td>1998-10-26</td>\n",
       "    </tr>\n",
       "    <tr>\n",
       "      <th>15</th>\n",
       "      <td>2002-10-17</td>\n",
       "    </tr>\n",
       "    <tr>\n",
       "      <th>16</th>\n",
       "      <td>2005-10-18</td>\n",
       "    </tr>\n",
       "    <tr>\n",
       "      <th>17</th>\n",
       "      <td>2009-10-27</td>\n",
       "    </tr>\n",
       "    <tr>\n",
       "      <th>18</th>\n",
       "      <td>2013-10-22</td>\n",
       "    </tr>\n",
       "    <tr>\n",
       "      <th>19</th>\n",
       "      <td>2017-10-24</td>\n",
       "    </tr>\n",
       "  </tbody>\n",
       "</table>\n",
       "</div>"
      ],
      "text/plain": [
       "    START_DATE\n",
       "1   1949-09-07\n",
       "2   1953-10-06\n",
       "3   1957-10-15\n",
       "4   1961-10-17\n",
       "5   1965-10-19\n",
       "6   1969-10-20\n",
       "7   1972-12-13\n",
       "8   1976-12-14\n",
       "9   1980-11-04\n",
       "10  1983-03-29\n",
       "11  1987-02-18\n",
       "12  1990-12-20\n",
       "13  1994-11-10\n",
       "14  1998-10-26\n",
       "15  2002-10-17\n",
       "16  2005-10-18\n",
       "17  2009-10-27\n",
       "18  2013-10-22\n",
       "19  2017-10-24"
      ]
     },
     "execution_count": 66,
     "metadata": {},
     "output_type": "execute_result"
    }
   ],
   "source": [
    "df_wp_startdaten = pd.read_csv('data/wp_startdaten.csv', index_col=0)\n",
    "df_wp_startdaten"
   ]
  },
  {
   "cell_type": "code",
   "execution_count": 67,
   "id": "bb836550-28f9-41f9-9916-067fb1becdc0",
   "metadata": {},
   "outputs": [],
   "source": [
    "df_wp_startdaten['START_DATE'] = pd.to_datetime(df_wp_startdaten['START_DATE'])"
   ]
  },
  {
   "cell_type": "code",
   "execution_count": 68,
   "id": "79f4dae4-62c5-44da-b0e4-725b93878935",
   "metadata": {},
   "outputs": [],
   "source": [
    "df_mdb_wp = df_mdb_wp.join(df_wp_startdaten, on='WP')"
   ]
  },
  {
   "cell_type": "code",
   "execution_count": 69,
   "id": "446803f6-6eb8-4179-99b8-4b8b558482c0",
   "metadata": {},
   "outputs": [],
   "source": [
    "df_mdb_wp['START_DATE'] = pd.to_datetime(df_mdb_wp['START_DATE'])\n",
    "df_mdb_wp['GEBURTSDATUM'] = pd.to_datetime(df_mdb_wp['GEBURTSDATUM'])"
   ]
  },
  {
   "cell_type": "code",
   "execution_count": null,
   "id": "c9c95fa6-15c6-461e-9d52-4170f6cd4553",
   "metadata": {},
   "outputs": [],
   "source": []
  },
  {
   "cell_type": "code",
   "execution_count": 70,
   "id": "e9001f69-5778-4e10-a480-ded45e883be3",
   "metadata": {},
   "outputs": [],
   "source": [
    "def match_age(x):\n",
    "    if x < 30:\n",
    "        return ('< 30')\n",
    "    elif x < 40:\n",
    "        return('30 - 40')\n",
    "    elif x < 50:\n",
    "        return('40 - 50')\n",
    "    elif x < 60:\n",
    "        return('50 - 60')\n",
    "    elif x < 70:\n",
    "        return('70 - 80')\n",
    "    else:\n",
    "        return('>= 80')"
   ]
  },
  {
   "cell_type": "code",
   "execution_count": 71,
   "id": "1611b415-ae3c-4c48-8eed-9e0e2482e00d",
   "metadata": {},
   "outputs": [
    {
     "data": {
      "text/plain": [
       "'>= 80'"
      ]
     },
     "execution_count": 71,
     "metadata": {},
     "output_type": "execute_result"
    }
   ],
   "source": [
    "match_age(80)"
   ]
  },
  {
   "cell_type": "code",
   "execution_count": 72,
   "id": "8c890f84-e39a-42aa-890b-2080d1b9dad4",
   "metadata": {},
   "outputs": [
    {
     "data": {
      "text/html": [
       "<div>\n",
       "<style scoped>\n",
       "    .dataframe tbody tr th:only-of-type {\n",
       "        vertical-align: middle;\n",
       "    }\n",
       "\n",
       "    .dataframe tbody tr th {\n",
       "        vertical-align: top;\n",
       "    }\n",
       "\n",
       "    .dataframe thead th {\n",
       "        text-align: right;\n",
       "    }\n",
       "</style>\n",
       "<table border=\"1\" class=\"dataframe\">\n",
       "  <thead>\n",
       "    <tr style=\"text-align: right;\">\n",
       "      <th></th>\n",
       "      <th>ID</th>\n",
       "      <th>NACHNAME</th>\n",
       "      <th>VORNAME</th>\n",
       "      <th>GEBURTSDATUM</th>\n",
       "      <th>GEBURTSORT</th>\n",
       "      <th>GEBURTSLAND</th>\n",
       "      <th>STERBEDATUM</th>\n",
       "      <th>GESCHLECHT</th>\n",
       "      <th>FAMILIENSTAND</th>\n",
       "      <th>RELIGION</th>\n",
       "      <th>...</th>\n",
       "      <th>VITA_KURZ</th>\n",
       "      <th>VEROEFFENTLICHUNGSPFLICHTIGES</th>\n",
       "      <th>ANZ_WAHLPERIODEN</th>\n",
       "      <th>GEBURSDATUM_DATE</th>\n",
       "      <th>RELIGION_MAPPED</th>\n",
       "      <th>FAMILIENSTAND_MAPPED</th>\n",
       "      <th>BERUF_MAPPED</th>\n",
       "      <th>WP</th>\n",
       "      <th>START_DATE</th>\n",
       "      <th>START_AGE_IN_YEARS</th>\n",
       "    </tr>\n",
       "  </thead>\n",
       "  <tbody>\n",
       "    <tr>\n",
       "      <th>0</th>\n",
       "      <td>11000001</td>\n",
       "      <td>Abelein</td>\n",
       "      <td>Manfred</td>\n",
       "      <td>1930-10-20</td>\n",
       "      <td>Stuttgart</td>\n",
       "      <td>UNBEKANNT</td>\n",
       "      <td>17.01.2008</td>\n",
       "      <td>männlich</td>\n",
       "      <td>keine Angaben</td>\n",
       "      <td>katholisch</td>\n",
       "      <td>...</td>\n",
       "      <td>None</td>\n",
       "      <td>None</td>\n",
       "      <td>7</td>\n",
       "      <td>1930-10-20</td>\n",
       "      <td>katholisch</td>\n",
       "      <td>keine Angaben</td>\n",
       "      <td>Jurist*in</td>\n",
       "      <td>5</td>\n",
       "      <td>1965-10-19</td>\n",
       "      <td>34.998665</td>\n",
       "    </tr>\n",
       "    <tr>\n",
       "      <th>0</th>\n",
       "      <td>11000001</td>\n",
       "      <td>Abelein</td>\n",
       "      <td>Manfred</td>\n",
       "      <td>1930-10-20</td>\n",
       "      <td>Stuttgart</td>\n",
       "      <td>UNBEKANNT</td>\n",
       "      <td>17.01.2008</td>\n",
       "      <td>männlich</td>\n",
       "      <td>keine Angaben</td>\n",
       "      <td>katholisch</td>\n",
       "      <td>...</td>\n",
       "      <td>None</td>\n",
       "      <td>None</td>\n",
       "      <td>7</td>\n",
       "      <td>1930-10-20</td>\n",
       "      <td>katholisch</td>\n",
       "      <td>keine Angaben</td>\n",
       "      <td>Jurist*in</td>\n",
       "      <td>6</td>\n",
       "      <td>1969-10-20</td>\n",
       "      <td>39.001485</td>\n",
       "    </tr>\n",
       "    <tr>\n",
       "      <th>0</th>\n",
       "      <td>11000001</td>\n",
       "      <td>Abelein</td>\n",
       "      <td>Manfred</td>\n",
       "      <td>1930-10-20</td>\n",
       "      <td>Stuttgart</td>\n",
       "      <td>UNBEKANNT</td>\n",
       "      <td>17.01.2008</td>\n",
       "      <td>männlich</td>\n",
       "      <td>keine Angaben</td>\n",
       "      <td>katholisch</td>\n",
       "      <td>...</td>\n",
       "      <td>None</td>\n",
       "      <td>None</td>\n",
       "      <td>7</td>\n",
       "      <td>1930-10-20</td>\n",
       "      <td>katholisch</td>\n",
       "      <td>keine Angaben</td>\n",
       "      <td>Jurist*in</td>\n",
       "      <td>7</td>\n",
       "      <td>1972-12-13</td>\n",
       "      <td>42.150078</td>\n",
       "    </tr>\n",
       "    <tr>\n",
       "      <th>0</th>\n",
       "      <td>11000001</td>\n",
       "      <td>Abelein</td>\n",
       "      <td>Manfred</td>\n",
       "      <td>1930-10-20</td>\n",
       "      <td>Stuttgart</td>\n",
       "      <td>UNBEKANNT</td>\n",
       "      <td>17.01.2008</td>\n",
       "      <td>männlich</td>\n",
       "      <td>keine Angaben</td>\n",
       "      <td>katholisch</td>\n",
       "      <td>...</td>\n",
       "      <td>None</td>\n",
       "      <td>None</td>\n",
       "      <td>7</td>\n",
       "      <td>1930-10-20</td>\n",
       "      <td>katholisch</td>\n",
       "      <td>keine Angaben</td>\n",
       "      <td>Jurist*in</td>\n",
       "      <td>8</td>\n",
       "      <td>1976-12-14</td>\n",
       "      <td>46.152898</td>\n",
       "    </tr>\n",
       "    <tr>\n",
       "      <th>0</th>\n",
       "      <td>11000001</td>\n",
       "      <td>Abelein</td>\n",
       "      <td>Manfred</td>\n",
       "      <td>1930-10-20</td>\n",
       "      <td>Stuttgart</td>\n",
       "      <td>UNBEKANNT</td>\n",
       "      <td>17.01.2008</td>\n",
       "      <td>männlich</td>\n",
       "      <td>keine Angaben</td>\n",
       "      <td>katholisch</td>\n",
       "      <td>...</td>\n",
       "      <td>None</td>\n",
       "      <td>None</td>\n",
       "      <td>7</td>\n",
       "      <td>1930-10-20</td>\n",
       "      <td>katholisch</td>\n",
       "      <td>keine Angaben</td>\n",
       "      <td>Jurist*in</td>\n",
       "      <td>9</td>\n",
       "      <td>1980-11-04</td>\n",
       "      <td>50.043464</td>\n",
       "    </tr>\n",
       "    <tr>\n",
       "      <th>...</th>\n",
       "      <td>...</td>\n",
       "      <td>...</td>\n",
       "      <td>...</td>\n",
       "      <td>...</td>\n",
       "      <td>...</td>\n",
       "      <td>...</td>\n",
       "      <td>...</td>\n",
       "      <td>...</td>\n",
       "      <td>...</td>\n",
       "      <td>...</td>\n",
       "      <td>...</td>\n",
       "      <td>...</td>\n",
       "      <td>...</td>\n",
       "      <td>...</td>\n",
       "      <td>...</td>\n",
       "      <td>...</td>\n",
       "      <td>...</td>\n",
       "      <td>...</td>\n",
       "      <td>...</td>\n",
       "      <td>...</td>\n",
       "      <td>...</td>\n",
       "    </tr>\n",
       "    <tr>\n",
       "      <th>4084</th>\n",
       "      <td>11004958</td>\n",
       "      <td>Nölke</td>\n",
       "      <td>Matthias</td>\n",
       "      <td>1980-08-01</td>\n",
       "      <td>Kassel</td>\n",
       "      <td>UNBEKANNT</td>\n",
       "      <td>UNBEKANNT</td>\n",
       "      <td>männlich</td>\n",
       "      <td>ledig</td>\n",
       "      <td>konfessionslos</td>\n",
       "      <td>...</td>\n",
       "      <td>Mitgl. des Landesvorstands der FDP Hessen, Vor...</td>\n",
       "      <td>1 Berufliche Tätigkeit vor der Mitgliedschaft ...</td>\n",
       "      <td>1</td>\n",
       "      <td>1980-08-01</td>\n",
       "      <td>konfessionslos</td>\n",
       "      <td>ledig</td>\n",
       "      <td>Jurist*in</td>\n",
       "      <td>19</td>\n",
       "      <td>2017-10-24</td>\n",
       "      <td>37.230059</td>\n",
       "    </tr>\n",
       "    <tr>\n",
       "      <th>4085</th>\n",
       "      <td>11004959</td>\n",
       "      <td>Martin</td>\n",
       "      <td>Dorothee</td>\n",
       "      <td>1978-01-21</td>\n",
       "      <td>UNBEKANNT</td>\n",
       "      <td>UNBEKANNT</td>\n",
       "      <td>UNBEKANNT</td>\n",
       "      <td>weiblich</td>\n",
       "      <td>UNBEKANNT</td>\n",
       "      <td>UNBEKANNT</td>\n",
       "      <td>...</td>\n",
       "      <td>1997 Abitur. Studium Politikwissenschaft und S...</td>\n",
       "      <td>1 Berufliche Tätigkeit vor der Mitgliedschaft ...</td>\n",
       "      <td>1</td>\n",
       "      <td>1978-01-21</td>\n",
       "      <td>UNBEKANNT</td>\n",
       "      <td>UNBEKANNT</td>\n",
       "      <td>selbstständige kommunikationsberater</td>\n",
       "      <td>19</td>\n",
       "      <td>2017-10-24</td>\n",
       "      <td>39.757148</td>\n",
       "    </tr>\n",
       "    <tr>\n",
       "      <th>4086</th>\n",
       "      <td>11004960</td>\n",
       "      <td>Wetzel</td>\n",
       "      <td>Wolfgang</td>\n",
       "      <td>1968-11-05</td>\n",
       "      <td>Schlema</td>\n",
       "      <td>UNBEKANNT</td>\n",
       "      <td>UNBEKANNT</td>\n",
       "      <td>männlich</td>\n",
       "      <td>verheiratet, 2 Kinder</td>\n",
       "      <td>römisch-katholisch</td>\n",
       "      <td>...</td>\n",
       "      <td>Abschluss 10. Klasse POS. Ausbildung zum Krank...</td>\n",
       "      <td>None</td>\n",
       "      <td>1</td>\n",
       "      <td>1968-11-05</td>\n",
       "      <td>katholisch</td>\n",
       "      <td>verh., 2 Kinder</td>\n",
       "      <td>Lehrer*in</td>\n",
       "      <td>19</td>\n",
       "      <td>2017-10-24</td>\n",
       "      <td>48.967467</td>\n",
       "    </tr>\n",
       "    <tr>\n",
       "      <th>4087</th>\n",
       "      <td>11004961</td>\n",
       "      <td>Natterer</td>\n",
       "      <td>Christian</td>\n",
       "      <td>1981-02-19</td>\n",
       "      <td>Tettnang / Deutschland</td>\n",
       "      <td>UNBEKANNT</td>\n",
       "      <td>UNBEKANNT</td>\n",
       "      <td>männlich</td>\n",
       "      <td>verheiratet, 1 Kind</td>\n",
       "      <td>römisch-katholisch</td>\n",
       "      <td>...</td>\n",
       "      <td>1992/98 Mittlere Reife am Bildungszentrum Bodn...</td>\n",
       "      <td>None</td>\n",
       "      <td>1</td>\n",
       "      <td>1981-02-19</td>\n",
       "      <td>katholisch</td>\n",
       "      <td>verh., 1 Kind</td>\n",
       "      <td>Kaufmann/-frau</td>\n",
       "      <td>19</td>\n",
       "      <td>2017-10-24</td>\n",
       "      <td>36.677002</td>\n",
       "    </tr>\n",
       "    <tr>\n",
       "      <th>4088</th>\n",
       "      <td>11004962</td>\n",
       "      <td>Dahmen</td>\n",
       "      <td>Janosch</td>\n",
       "      <td>1981-06-09</td>\n",
       "      <td>UNBEKANNT</td>\n",
       "      <td>UNBEKANNT</td>\n",
       "      <td>UNBEKANNT</td>\n",
       "      <td>männlich</td>\n",
       "      <td>UNBEKANNT</td>\n",
       "      <td>UNBEKANNT</td>\n",
       "      <td>...</td>\n",
       "      <td>1988/2001 Schulbildung. 2001/02 Zivildienst. 2...</td>\n",
       "      <td>None</td>\n",
       "      <td>1</td>\n",
       "      <td>1981-06-09</td>\n",
       "      <td>UNBEKANNT</td>\n",
       "      <td>UNBEKANNT</td>\n",
       "      <td>Arzt/Ärztin</td>\n",
       "      <td>19</td>\n",
       "      <td>2017-10-24</td>\n",
       "      <td>36.375832</td>\n",
       "    </tr>\n",
       "  </tbody>\n",
       "</table>\n",
       "<p>11627 rows × 22 columns</p>\n",
       "</div>"
      ],
      "text/plain": [
       "            ID  NACHNAME    VORNAME GEBURTSDATUM              GEBURTSORT  \\\n",
       "0     11000001   Abelein    Manfred   1930-10-20               Stuttgart   \n",
       "0     11000001   Abelein    Manfred   1930-10-20               Stuttgart   \n",
       "0     11000001   Abelein    Manfred   1930-10-20               Stuttgart   \n",
       "0     11000001   Abelein    Manfred   1930-10-20               Stuttgart   \n",
       "0     11000001   Abelein    Manfred   1930-10-20               Stuttgart   \n",
       "...        ...       ...        ...          ...                     ...   \n",
       "4084  11004958     Nölke   Matthias   1980-08-01                  Kassel   \n",
       "4085  11004959    Martin   Dorothee   1978-01-21               UNBEKANNT   \n",
       "4086  11004960    Wetzel   Wolfgang   1968-11-05                 Schlema   \n",
       "4087  11004961  Natterer  Christian   1981-02-19  Tettnang / Deutschland   \n",
       "4088  11004962    Dahmen    Janosch   1981-06-09               UNBEKANNT   \n",
       "\n",
       "     GEBURTSLAND STERBEDATUM GESCHLECHT          FAMILIENSTAND  \\\n",
       "0      UNBEKANNT  17.01.2008   männlich          keine Angaben   \n",
       "0      UNBEKANNT  17.01.2008   männlich          keine Angaben   \n",
       "0      UNBEKANNT  17.01.2008   männlich          keine Angaben   \n",
       "0      UNBEKANNT  17.01.2008   männlich          keine Angaben   \n",
       "0      UNBEKANNT  17.01.2008   männlich          keine Angaben   \n",
       "...          ...         ...        ...                    ...   \n",
       "4084   UNBEKANNT   UNBEKANNT   männlich                  ledig   \n",
       "4085   UNBEKANNT   UNBEKANNT   weiblich              UNBEKANNT   \n",
       "4086   UNBEKANNT   UNBEKANNT   männlich  verheiratet, 2 Kinder   \n",
       "4087   UNBEKANNT   UNBEKANNT   männlich    verheiratet, 1 Kind   \n",
       "4088   UNBEKANNT   UNBEKANNT   männlich              UNBEKANNT   \n",
       "\n",
       "                RELIGION  ...  \\\n",
       "0             katholisch  ...   \n",
       "0             katholisch  ...   \n",
       "0             katholisch  ...   \n",
       "0             katholisch  ...   \n",
       "0             katholisch  ...   \n",
       "...                  ...  ...   \n",
       "4084      konfessionslos  ...   \n",
       "4085           UNBEKANNT  ...   \n",
       "4086  römisch-katholisch  ...   \n",
       "4087  römisch-katholisch  ...   \n",
       "4088           UNBEKANNT  ...   \n",
       "\n",
       "                                              VITA_KURZ  \\\n",
       "0                                                  None   \n",
       "0                                                  None   \n",
       "0                                                  None   \n",
       "0                                                  None   \n",
       "0                                                  None   \n",
       "...                                                 ...   \n",
       "4084  Mitgl. des Landesvorstands der FDP Hessen, Vor...   \n",
       "4085  1997 Abitur. Studium Politikwissenschaft und S...   \n",
       "4086  Abschluss 10. Klasse POS. Ausbildung zum Krank...   \n",
       "4087  1992/98 Mittlere Reife am Bildungszentrum Bodn...   \n",
       "4088  1988/2001 Schulbildung. 2001/02 Zivildienst. 2...   \n",
       "\n",
       "                          VEROEFFENTLICHUNGSPFLICHTIGES ANZ_WAHLPERIODEN  \\\n",
       "0                                                  None                7   \n",
       "0                                                  None                7   \n",
       "0                                                  None                7   \n",
       "0                                                  None                7   \n",
       "0                                                  None                7   \n",
       "...                                                 ...              ...   \n",
       "4084  1 Berufliche Tätigkeit vor der Mitgliedschaft ...                1   \n",
       "4085  1 Berufliche Tätigkeit vor der Mitgliedschaft ...                1   \n",
       "4086                                               None                1   \n",
       "4087                                               None                1   \n",
       "4088                                               None                1   \n",
       "\n",
       "     GEBURSDATUM_DATE  RELIGION_MAPPED FAMILIENSTAND_MAPPED  \\\n",
       "0          1930-10-20       katholisch        keine Angaben   \n",
       "0          1930-10-20       katholisch        keine Angaben   \n",
       "0          1930-10-20       katholisch        keine Angaben   \n",
       "0          1930-10-20       katholisch        keine Angaben   \n",
       "0          1930-10-20       katholisch        keine Angaben   \n",
       "...               ...              ...                  ...   \n",
       "4084       1980-08-01   konfessionslos                ledig   \n",
       "4085       1978-01-21        UNBEKANNT            UNBEKANNT   \n",
       "4086       1968-11-05       katholisch      verh., 2 Kinder   \n",
       "4087       1981-02-19       katholisch        verh., 1 Kind   \n",
       "4088       1981-06-09        UNBEKANNT            UNBEKANNT   \n",
       "\n",
       "                              BERUF_MAPPED  WP START_DATE  START_AGE_IN_YEARS  \n",
       "0                                Jurist*in   5 1965-10-19           34.998665  \n",
       "0                                Jurist*in   6 1969-10-20           39.001485  \n",
       "0                                Jurist*in   7 1972-12-13           42.150078  \n",
       "0                                Jurist*in   8 1976-12-14           46.152898  \n",
       "0                                Jurist*in   9 1980-11-04           50.043464  \n",
       "...                                    ...  ..        ...                 ...  \n",
       "4084                             Jurist*in  19 2017-10-24           37.230059  \n",
       "4085  selbstständige kommunikationsberater  19 2017-10-24           39.757148  \n",
       "4086                             Lehrer*in  19 2017-10-24           48.967467  \n",
       "4087                        Kaufmann/-frau  19 2017-10-24           36.677002  \n",
       "4088                           Arzt/Ärztin  19 2017-10-24           36.375832  \n",
       "\n",
       "[11627 rows x 22 columns]"
      ]
     },
     "execution_count": 72,
     "metadata": {},
     "output_type": "execute_result"
    }
   ],
   "source": [
    "df_mdb_wp['START_AGE_IN_YEARS'] = df_mdb_wp['START_DATE'] - df_mdb_wp['GEBURTSDATUM']\n",
    "df_mdb_wp['START_AGE_IN_YEARS'] = df_mdb_wp['START_AGE_IN_YEARS']/np.timedelta64(1,'Y')\n",
    "\n",
    "df_mdb_wp"
   ]
  },
  {
   "cell_type": "code",
   "execution_count": 73,
   "id": "f003151d-29be-4b82-bc22-9fe7612054e8",
   "metadata": {},
   "outputs": [
    {
     "data": {
      "text/plain": [
       "<AxesSubplot:>"
      ]
     },
     "execution_count": 73,
     "metadata": {},
     "output_type": "execute_result"
    },
    {
     "data": {
      "image/png": "[encoded data removed]",
      "text/plain": [
       "<Figure size 432x288 with 1 Axes>"
      ]
     },
     "metadata": {
      "needs_background": "light"
     },
     "output_type": "display_data"
    }
   ],
   "source": [
    "df_mdb_wp['START_AGE_IN_YEARS'].hist()"
   ]
  },
  {
   "cell_type": "code",
   "execution_count": 74,
   "id": "65e66460-ba0c-42a4-a000-eadbe2992474",
   "metadata": {},
   "outputs": [
    {
     "data": {
      "text/plain": [
       "<AxesSubplot:>"
      ]
     },
     "execution_count": 74,
     "metadata": {},
     "output_type": "execute_result"
    },
    {
     "data": {
      "image/png": "[encoded data removed]",
      "text/plain": [
       "<Figure size 432x288 with 1 Axes>"
      ]
     },
     "metadata": {
      "needs_background": "light"
     },
     "output_type": "display_data"
    }
   ],
   "source": [
    "df_mdb_wp['START_AGE_IN_YEARS_MAPPED'] = df_mdb_wp['START_AGE_IN_YEARS'].apply(lambda x: match_age(x)) \n",
    "df_mdb_wp['START_AGE_IN_YEARS_MAPPED'].hist()"
   ]
  },
  {
   "cell_type": "code",
   "execution_count": 75,
   "id": "5f4e658f-4599-4567-9a52-1a383493dcd3",
   "metadata": {},
   "outputs": [
    {
     "data": {
      "text/plain": [
       "['< 30', '30 - 40', '40 - 50', '50 - 60', '70 - 80', '>= 80']"
      ]
     },
     "execution_count": 75,
     "metadata": {},
     "output_type": "execute_result"
    }
   ],
   "source": [
    "list_of_altersklassen = sorted(list(set(df_mdb_wp['START_AGE_IN_YEARS_MAPPED'])))\n",
    "list_of_altersklassen = ['< 30', '30 - 40', '40 - 50', '50 - 60', '70 - 80',  '>= 80']\n",
    "list_of_altersklassen"
   ]
  },
  {
   "cell_type": "code",
   "execution_count": null,
   "id": "8c065e03-c853-4a66-840f-daeaef2e75c8",
   "metadata": {},
   "outputs": [],
   "source": []
  },
  {
   "cell_type": "markdown",
   "id": "7e678d59-7678-42cf-80d7-1f777db2141c",
   "metadata": {},
   "source": [
    "# Jahre im Amt"
   ]
  },
  {
   "cell_type": "code",
   "execution_count": 76,
   "id": "9eccd261-c3e3-489b-a549-85a94b5f1417",
   "metadata": {},
   "outputs": [],
   "source": [
    "df_mdb_wp = df_mdb_wp.join(df_mdb_wp[['ID', 'START_DATE']].groupby('ID').min(), how='left', rsuffix='_FIRST', on='ID')"
   ]
  },
  {
   "cell_type": "code",
   "execution_count": 77,
   "id": "e48dc9f3-d722-4f16-a620-d023421e83e2",
   "metadata": {},
   "outputs": [],
   "source": [
    "df_mdb_wp['NUM_YEARS_IN_BT'] = df_mdb_wp['START_DATE'] - df_mdb_wp['START_DATE_FIRST']\n",
    "df_mdb_wp['NUM_YEARS_IN_BT'] = df_mdb_wp['NUM_YEARS_IN_BT']/np.timedelta64(1,'Y')"
   ]
  },
  {
   "cell_type": "code",
   "execution_count": 78,
   "id": "4771e246-aef7-4654-af86-1fa02937b467",
   "metadata": {},
   "outputs": [
    {
     "data": {
      "text/plain": [
       "(11627, 25)"
      ]
     },
     "execution_count": 78,
     "metadata": {},
     "output_type": "execute_result"
    }
   ],
   "source": [
    "df_mdb_wp.shape"
   ]
  },
  {
   "cell_type": "code",
   "execution_count": 79,
   "id": "6a594439-014a-4c53-86b9-9f86989e6ead",
   "metadata": {},
   "outputs": [
    {
     "data": {
      "text/plain": [
       "Index(['ID', 'NACHNAME', 'VORNAME', 'GEBURTSDATUM', 'GEBURTSORT',\n",
       "       'GEBURTSLAND', 'STERBEDATUM', 'GESCHLECHT', 'FAMILIENSTAND', 'RELIGION',\n",
       "       'BERUF', 'PARTEI_KURZ', 'VITA_KURZ', 'VEROEFFENTLICHUNGSPFLICHTIGES',\n",
       "       'ANZ_WAHLPERIODEN', 'GEBURSDATUM_DATE', 'RELIGION_MAPPED',\n",
       "       'FAMILIENSTAND_MAPPED', 'BERUF_MAPPED', 'WP', 'START_DATE',\n",
       "       'START_AGE_IN_YEARS', 'START_AGE_IN_YEARS_MAPPED', 'START_DATE_FIRST',\n",
       "       'NUM_YEARS_IN_BT'],\n",
       "      dtype='object')"
      ]
     },
     "execution_count": 79,
     "metadata": {},
     "output_type": "execute_result"
    }
   ],
   "source": [
    "df_mdb_wp.columns"
   ]
  },
  {
   "cell_type": "code",
   "execution_count": 92,
   "id": "3f4014e1-9094-43a4-ad72-b5c263f125e7",
   "metadata": {},
   "outputs": [],
   "source": [
    "# delemte\n",
    "selected_df = df_mdb_wp[(df_mdb_wp['WP']>= 1) & (df_mdb_wp['WP']<= 19)]\n",
    "#selected_df = selected_df[selected_df['PARTEI_KURZ'].isin(selected_parteien)]\n",
    "grouped = selected_df[['ID', 'START_DATE', 'NUM_YEARS_IN_BT', 'PARTEI_KURZ']].groupby(['START_DATE', 'PARTEI_KURZ']).mean()"
   ]
  },
  {
   "cell_type": "code",
   "execution_count": 95,
   "id": "913de320-e88b-44b9-9678-db5135298b77",
   "metadata": {},
   "outputs": [],
   "source": [
    "grouped.reset_index(inplace=True)"
   ]
  },
  {
   "cell_type": "code",
   "execution_count": 96,
   "id": "8cf44519-9ae3-475b-a9c1-d90bb0f51ba9",
   "metadata": {},
   "outputs": [
    {
     "data": {
      "text/plain": [
       "<AxesSubplot:>"
      ]
     },
     "execution_count": 96,
     "metadata": {},
     "output_type": "execute_result"
    },
    {
     "data": {
      "image/png": "[encoded data removed]",
      "text/plain": [
       "<Figure size 432x288 with 1 Axes>"
      ]
     },
     "metadata": {
      "needs_background": "light"
     },
     "output_type": "display_data"
    }
   ],
   "source": [
    "# delemte\n",
    "grouped[grouped['PARTEI_KURZ']=='CDU']['NUM_YEARS_IN_BT'].plot()"
   ]
  },
  {
   "cell_type": "code",
   "execution_count": 103,
   "id": "1356cbf5-403e-4d81-b592-af3d117c2a5c",
   "metadata": {},
   "outputs": [],
   "source": [
    "from src.config import LIST_OF_COLORS"
   ]
  },
  {
   "cell_type": "code",
   "execution_count": null,
   "id": "0c26e11f-5e63-4889-abfa-c02b00518395",
   "metadata": {},
   "outputs": [],
   "source": []
  },
  {
   "cell_type": "code",
   "execution_count": 217,
   "id": "85bdb178-599e-4250-aced-5a13f76e9d6a",
   "metadata": {},
   "outputs": [
    {
     "data": {
      "text/html": [
       "<div>\n",
       "<style scoped>\n",
       "    .dataframe tbody tr th:only-of-type {\n",
       "        vertical-align: middle;\n",
       "    }\n",
       "\n",
       "    .dataframe tbody tr th {\n",
       "        vertical-align: top;\n",
       "    }\n",
       "\n",
       "    .dataframe thead th {\n",
       "        text-align: right;\n",
       "    }\n",
       "</style>\n",
       "<table border=\"1\" class=\"dataframe\">\n",
       "  <thead>\n",
       "    <tr style=\"text-align: right;\">\n",
       "      <th></th>\n",
       "      <th></th>\n",
       "      <th>NUM_YEARS_IN_BT</th>\n",
       "    </tr>\n",
       "    <tr>\n",
       "      <th>START_DATE</th>\n",
       "      <th>PARTEI_KURZ</th>\n",
       "      <th></th>\n",
       "    </tr>\n",
       "  </thead>\n",
       "  <tbody>\n",
       "    <tr>\n",
       "      <th rowspan=\"4\" valign=\"top\">1949-09-07</th>\n",
       "      <th>CDU</th>\n",
       "      <td>0.000000</td>\n",
       "    </tr>\n",
       "    <tr>\n",
       "      <th>CSU</th>\n",
       "      <td>0.000000</td>\n",
       "    </tr>\n",
       "    <tr>\n",
       "      <th>FDP</th>\n",
       "      <td>0.000000</td>\n",
       "    </tr>\n",
       "    <tr>\n",
       "      <th>SPD</th>\n",
       "      <td>0.000000</td>\n",
       "    </tr>\n",
       "    <tr>\n",
       "      <th>1953-10-06</th>\n",
       "      <th>CDU</th>\n",
       "      <td>1.881485</td>\n",
       "    </tr>\n",
       "  </tbody>\n",
       "</table>\n",
       "</div>"
      ],
      "text/plain": [
       "                        NUM_YEARS_IN_BT\n",
       "START_DATE PARTEI_KURZ                 \n",
       "1949-09-07 CDU                 0.000000\n",
       "           CSU                 0.000000\n",
       "           FDP                 0.000000\n",
       "           SPD                 0.000000\n",
       "1953-10-06 CDU                 1.881485"
      ]
     },
     "execution_count": 217,
     "metadata": {},
     "output_type": "execute_result"
    }
   ],
   "source": [
    "import plotly.graph_objects as go\n",
    "import plotly.express as px\n",
    "\n",
    "selected_parties=['SPD', 'CDU', 'FDP', 'CSU']\n",
    "selected_df = df_mdb_wp[(df_mdb_wp['WP']>= 1) & (df_mdb_wp['WP']<= 19)]\n",
    "selected_df = selected_df[selected_df['PARTEI_KURZ'].isin(selected_parties)]\n",
    "grouped = selected_df[['ID', 'START_DATE', 'NUM_YEARS_IN_BT', 'PARTEI_KURZ']].groupby(['START_DATE', 'PARTEI_KURZ']).mean()\n",
    "#grouped.reset_index(inplace=True)\n",
    "grouped.head()"
   ]
  },
  {
   "cell_type": "code",
   "execution_count": 218,
   "id": "04c6b41d-9b81-441b-a477-0f46c3203cd8",
   "metadata": {},
   "outputs": [
    {
     "data": {
      "text/plain": [
       "MultiIndex([('1949-09-07', 'CDU'),\n",
       "            ('1949-09-07', 'CSU'),\n",
       "            ('1949-09-07', 'FDP'),\n",
       "            ('1949-09-07', 'SPD'),\n",
       "            ('1953-10-06', 'CDU'),\n",
       "            ('1953-10-06', 'CSU'),\n",
       "            ('1953-10-06', 'FDP'),\n",
       "            ('1953-10-06', 'SPD'),\n",
       "            ('1957-10-15', 'CDU'),\n",
       "            ('1957-10-15', 'CSU'),\n",
       "            ('1957-10-15', 'FDP'),\n",
       "            ('1957-10-15', 'SPD'),\n",
       "            ('1961-10-17', 'CDU'),\n",
       "            ('1961-10-17', 'CSU'),\n",
       "            ('1961-10-17', 'FDP'),\n",
       "            ('1961-10-17', 'SPD'),\n",
       "            ('1965-10-19', 'CDU'),\n",
       "            ('1965-10-19', 'CSU'),\n",
       "            ('1965-10-19', 'FDP'),\n",
       "            ('1965-10-19', 'SPD'),\n",
       "            ('1969-10-20', 'CDU'),\n",
       "            ('1969-10-20', 'CSU'),\n",
       "            ('1969-10-20', 'FDP'),\n",
       "            ('1969-10-20', 'SPD'),\n",
       "            ('1972-12-13', 'CDU'),\n",
       "            ('1972-12-13', 'CSU'),\n",
       "            ('1972-12-13', 'FDP'),\n",
       "            ('1972-12-13', 'SPD'),\n",
       "            ('1976-12-14', 'CDU'),\n",
       "            ('1976-12-14', 'CSU'),\n",
       "            ('1976-12-14', 'FDP'),\n",
       "            ('1976-12-14', 'SPD'),\n",
       "            ('1980-11-04', 'CDU'),\n",
       "            ('1980-11-04', 'CSU'),\n",
       "            ('1980-11-04', 'FDP'),\n",
       "            ('1980-11-04', 'SPD'),\n",
       "            ('1983-03-29', 'CDU'),\n",
       "            ('1983-03-29', 'CSU'),\n",
       "            ('1983-03-29', 'FDP'),\n",
       "            ('1983-03-29', 'SPD'),\n",
       "            ('1987-02-18', 'CDU'),\n",
       "            ('1987-02-18', 'CSU'),\n",
       "            ('1987-02-18', 'FDP'),\n",
       "            ('1987-02-18', 'SPD'),\n",
       "            ('1990-12-20', 'CDU'),\n",
       "            ('1990-12-20', 'CSU'),\n",
       "            ('1990-12-20', 'FDP'),\n",
       "            ('1990-12-20', 'SPD'),\n",
       "            ('1994-11-10', 'CDU'),\n",
       "            ('1994-11-10', 'CSU'),\n",
       "            ('1994-11-10', 'FDP'),\n",
       "            ('1994-11-10', 'SPD'),\n",
       "            ('1998-10-26', 'CDU'),\n",
       "            ('1998-10-26', 'CSU'),\n",
       "            ('1998-10-26', 'FDP'),\n",
       "            ('1998-10-26', 'SPD'),\n",
       "            ('2002-10-17', 'CDU'),\n",
       "            ('2002-10-17', 'CSU'),\n",
       "            ('2002-10-17', 'FDP'),\n",
       "            ('2002-10-17', 'SPD'),\n",
       "            ('2005-10-18', 'CDU'),\n",
       "            ('2005-10-18', 'CSU'),\n",
       "            ('2005-10-18', 'FDP'),\n",
       "            ('2005-10-18', 'SPD'),\n",
       "            ('2009-10-27', 'CDU'),\n",
       "            ('2009-10-27', 'CSU'),\n",
       "            ('2009-10-27', 'FDP'),\n",
       "            ('2009-10-27', 'SPD'),\n",
       "            ('2013-10-22', 'CDU'),\n",
       "            ('2013-10-22', 'CSU'),\n",
       "            ('2013-10-22', 'FDP'),\n",
       "            ('2013-10-22', 'SPD'),\n",
       "            ('2017-10-24', 'CDU'),\n",
       "            ('2017-10-24', 'CSU'),\n",
       "            ('2017-10-24', 'FDP'),\n",
       "            ('2017-10-24', 'SPD')],\n",
       "           names=['START_DATE', 'PARTEI_KURZ'])"
      ]
     },
     "execution_count": 218,
     "metadata": {},
     "output_type": "execute_result"
    }
   ],
   "source": [
    "#new_index = pd.MultiIndex.from_product([selected_parties, sorted(set(grouped.reset_index()['WP']))], names=['PARTEI_KURZ', 'WP'])\n",
    "new_index = pd.MultiIndex.from_product([grouped.index.levels[0], grouped.index.levels[1]], names=['START_DATE', 'PARTEI_KURZ'])\n",
    "new_index#"
   ]
  },
  {
   "cell_type": "code",
   "execution_count": 232,
   "id": "5cdb94db-6490-4089-936e-48d477770e56",
   "metadata": {},
   "outputs": [
    {
     "data": {
      "text/html": [
       "<div>\n",
       "<style scoped>\n",
       "    .dataframe tbody tr th:only-of-type {\n",
       "        vertical-align: middle;\n",
       "    }\n",
       "\n",
       "    .dataframe tbody tr th {\n",
       "        vertical-align: top;\n",
       "    }\n",
       "\n",
       "    .dataframe thead th {\n",
       "        text-align: right;\n",
       "    }\n",
       "</style>\n",
       "<table border=\"1\" class=\"dataframe\">\n",
       "  <thead>\n",
       "    <tr style=\"text-align: right;\">\n",
       "      <th></th>\n",
       "      <th></th>\n",
       "      <th>NUM_YEARS_IN_BT</th>\n",
       "    </tr>\n",
       "    <tr>\n",
       "      <th>START_DATE</th>\n",
       "      <th>PARTEI_KURZ</th>\n",
       "      <th></th>\n",
       "    </tr>\n",
       "  </thead>\n",
       "  <tbody>\n",
       "    <tr>\n",
       "      <th rowspan=\"4\" valign=\"top\">1949-09-07</th>\n",
       "      <th>CDU</th>\n",
       "      <td>0.000000</td>\n",
       "    </tr>\n",
       "    <tr>\n",
       "      <th>CSU</th>\n",
       "      <td>0.000000</td>\n",
       "    </tr>\n",
       "    <tr>\n",
       "      <th>FDP</th>\n",
       "      <td>0.000000</td>\n",
       "    </tr>\n",
       "    <tr>\n",
       "      <th>SPD</th>\n",
       "      <td>0.000000</td>\n",
       "    </tr>\n",
       "    <tr>\n",
       "      <th rowspan=\"4\" valign=\"top\">1953-10-06</th>\n",
       "      <th>CDU</th>\n",
       "      <td>1.881485</td>\n",
       "    </tr>\n",
       "    <tr>\n",
       "      <th>CSU</th>\n",
       "      <td>1.311262</td>\n",
       "    </tr>\n",
       "    <tr>\n",
       "      <th>FDP</th>\n",
       "      <td>2.540054</td>\n",
       "    </tr>\n",
       "    <tr>\n",
       "      <th>SPD</th>\n",
       "      <td>2.373936</td>\n",
       "    </tr>\n",
       "    <tr>\n",
       "      <th rowspan=\"4\" valign=\"top\">1957-10-15</th>\n",
       "      <th>CDU</th>\n",
       "      <td>4.026812</td>\n",
       "    </tr>\n",
       "    <tr>\n",
       "      <th>CSU</th>\n",
       "      <td>3.828821</td>\n",
       "    </tr>\n",
       "    <tr>\n",
       "      <th>FDP</th>\n",
       "      <td>2.966066</td>\n",
       "    </tr>\n",
       "    <tr>\n",
       "      <th>SPD</th>\n",
       "      <td>4.531236</td>\n",
       "    </tr>\n",
       "  </tbody>\n",
       "</table>\n",
       "</div>"
      ],
      "text/plain": [
       "                        NUM_YEARS_IN_BT\n",
       "START_DATE PARTEI_KURZ                 \n",
       "1949-09-07 CDU                 0.000000\n",
       "           CSU                 0.000000\n",
       "           FDP                 0.000000\n",
       "           SPD                 0.000000\n",
       "1953-10-06 CDU                 1.881485\n",
       "           CSU                 1.311262\n",
       "           FDP                 2.540054\n",
       "           SPD                 2.373936\n",
       "1957-10-15 CDU                 4.026812\n",
       "           CSU                 3.828821\n",
       "           FDP                 2.966066\n",
       "           SPD                 4.531236"
      ]
     },
     "execution_count": 232,
     "metadata": {},
     "output_type": "execute_result"
    }
   ],
   "source": [
    "    # create entries also for 0 values\n",
    "grouped_reindexed = grouped.reindex(new_index, fill_value=0)\n",
    "grouped_reindexed.head(12)"
   ]
  },
  {
   "cell_type": "code",
   "execution_count": 233,
   "id": "d9c908ff-59ce-46f1-9c02-90f85954ddf8",
   "metadata": {},
   "outputs": [
    {
     "data": {
      "text/html": [
       "<div>\n",
       "<style scoped>\n",
       "    .dataframe tbody tr th:only-of-type {\n",
       "        vertical-align: middle;\n",
       "    }\n",
       "\n",
       "    .dataframe tbody tr th {\n",
       "        vertical-align: top;\n",
       "    }\n",
       "\n",
       "    .dataframe thead th {\n",
       "        text-align: right;\n",
       "    }\n",
       "</style>\n",
       "<table border=\"1\" class=\"dataframe\">\n",
       "  <thead>\n",
       "    <tr style=\"text-align: right;\">\n",
       "      <th></th>\n",
       "      <th>NACHNAME</th>\n",
       "      <th>VORNAME</th>\n",
       "      <th>PARTEI_KURZ</th>\n",
       "      <th>WP</th>\n",
       "      <th>NUM_YEARS_IN_BT</th>\n",
       "    </tr>\n",
       "  </thead>\n",
       "  <tbody>\n",
       "    <tr>\n",
       "      <th>2265</th>\n",
       "      <td>Stücklen</td>\n",
       "      <td>Richard</td>\n",
       "      <td>CSU</td>\n",
       "      <td>11</td>\n",
       "      <td>37.449092</td>\n",
       "    </tr>\n",
       "    <tr>\n",
       "      <th>2254</th>\n",
       "      <td>Strauß</td>\n",
       "      <td>Franz Josef</td>\n",
       "      <td>CSU</td>\n",
       "      <td>11</td>\n",
       "      <td>37.449092</td>\n",
       "    </tr>\n",
       "    <tr>\n",
       "      <th>1924</th>\n",
       "      <td>Schäuble</td>\n",
       "      <td>Wolfgang</td>\n",
       "      <td>CDU</td>\n",
       "      <td>18</td>\n",
       "      <td>40.857786</td>\n",
       "    </tr>\n",
       "    <tr>\n",
       "      <th>241</th>\n",
       "      <td>Brandt</td>\n",
       "      <td>Willy</td>\n",
       "      <td>SPD</td>\n",
       "      <td>12</td>\n",
       "      <td>41.284900</td>\n",
       "    </tr>\n",
       "    <tr>\n",
       "      <th>1924</th>\n",
       "      <td>Schäuble</td>\n",
       "      <td>Wolfgang</td>\n",
       "      <td>CDU</td>\n",
       "      <td>19</td>\n",
       "      <td>44.863344</td>\n",
       "    </tr>\n",
       "  </tbody>\n",
       "</table>\n",
       "</div>"
      ],
      "text/plain": [
       "      NACHNAME      VORNAME PARTEI_KURZ  WP  NUM_YEARS_IN_BT\n",
       "2265  Stücklen      Richard         CSU  11        37.449092\n",
       "2254    Strauß  Franz Josef         CSU  11        37.449092\n",
       "1924  Schäuble     Wolfgang         CDU  18        40.857786\n",
       "241     Brandt        Willy         SPD  12        41.284900\n",
       "1924  Schäuble     Wolfgang         CDU  19        44.863344"
      ]
     },
     "execution_count": 233,
     "metadata": {},
     "output_type": "execute_result"
    }
   ],
   "source": [
    "# double deleteme\n",
    "df_mdb_wp.sort_values(by='NUM_YEARS_IN_BT')[['NACHNAME', 'VORNAME', 'PARTEI_KURZ', 'WP', 'NUM_YEARS_IN_BT']].tail()"
   ]
  },
  {
   "cell_type": "code",
   "execution_count": 234,
   "id": "66855184-58d5-4b45-99e4-99b8ae98b762",
   "metadata": {},
   "outputs": [
    {
     "data": {
      "text/html": [
       "<div>\n",
       "<style scoped>\n",
       "    .dataframe tbody tr th:only-of-type {\n",
       "        vertical-align: middle;\n",
       "    }\n",
       "\n",
       "    .dataframe tbody tr th {\n",
       "        vertical-align: top;\n",
       "    }\n",
       "\n",
       "    .dataframe thead th {\n",
       "        text-align: right;\n",
       "    }\n",
       "</style>\n",
       "<table border=\"1\" class=\"dataframe\">\n",
       "  <thead>\n",
       "    <tr style=\"text-align: right;\">\n",
       "      <th></th>\n",
       "      <th>NACHNAME</th>\n",
       "      <th>VORNAME</th>\n",
       "      <th>PARTEI_KURZ</th>\n",
       "      <th>WP</th>\n",
       "      <th>NUM_YEARS_IN_BT</th>\n",
       "    </tr>\n",
       "  </thead>\n",
       "  <tbody>\n",
       "    <tr>\n",
       "      <th>654</th>\n",
       "      <td>Genscher</td>\n",
       "      <td>Hans-Dietrich</td>\n",
       "      <td>FDP</td>\n",
       "      <td>13</td>\n",
       "      <td>29.060145</td>\n",
       "    </tr>\n",
       "    <tr>\n",
       "      <th>1499</th>\n",
       "      <td>Mischnick</td>\n",
       "      <td>Wolfgang</td>\n",
       "      <td>FDP</td>\n",
       "      <td>11</td>\n",
       "      <td>29.344887</td>\n",
       "    </tr>\n",
       "    <tr>\n",
       "      <th>1507</th>\n",
       "      <td>Möllemann</td>\n",
       "      <td>Jürgen W.</td>\n",
       "      <td>FDP</td>\n",
       "      <td>15</td>\n",
       "      <td>29.843186</td>\n",
       "    </tr>\n",
       "    <tr>\n",
       "      <th>1499</th>\n",
       "      <td>Mischnick</td>\n",
       "      <td>Wolfgang</td>\n",
       "      <td>FDP</td>\n",
       "      <td>12</td>\n",
       "      <td>33.180695</td>\n",
       "    </tr>\n",
       "    <tr>\n",
       "      <th>2175</th>\n",
       "      <td>Solms</td>\n",
       "      <td>Hermann Otto</td>\n",
       "      <td>FDP</td>\n",
       "      <td>19</td>\n",
       "      <td>36.969958</td>\n",
       "    </tr>\n",
       "  </tbody>\n",
       "</table>\n",
       "</div>"
      ],
      "text/plain": [
       "       NACHNAME        VORNAME PARTEI_KURZ  WP  NUM_YEARS_IN_BT\n",
       "654    Genscher  Hans-Dietrich         FDP  13        29.060145\n",
       "1499  Mischnick       Wolfgang         FDP  11        29.344887\n",
       "1507  Möllemann      Jürgen W.         FDP  15        29.843186\n",
       "1499  Mischnick       Wolfgang         FDP  12        33.180695\n",
       "2175      Solms   Hermann Otto         FDP  19        36.969958"
      ]
     },
     "execution_count": 234,
     "metadata": {},
     "output_type": "execute_result"
    }
   ],
   "source": [
    "df_mdb_wp[df_mdb_wp.PARTEI_KURZ=='FDP'].sort_values(by='NUM_YEARS_IN_BT')[['NACHNAME', 'VORNAME', 'PARTEI_KURZ', 'WP', 'NUM_YEARS_IN_BT']].tail()"
   ]
  },
  {
   "cell_type": "code",
   "execution_count": 235,
   "id": "eef9da1a-5b3c-496f-bec6-56e59305172a",
   "metadata": {},
   "outputs": [],
   "source": [
    "grouped_reindexed.reset_index(inplace=True)"
   ]
  },
  {
   "cell_type": "code",
   "execution_count": 226,
   "id": "a3d184df-8701-44cf-982b-d9720801f2ad",
   "metadata": {},
   "outputs": [],
   "source": [
    "# make it orderable\n",
    "grouped_reindexed['PARTEI_KURZ'] = pd.Categorical(grouped_reindexed['PARTEI_KURZ'], selected_parties)"
   ]
  },
  {
   "cell_type": "code",
   "execution_count": 236,
   "id": "02e06c8e-c720-4704-bf6f-a0902b25496f",
   "metadata": {},
   "outputs": [],
   "source": [
    "grouped_reindexed.sort_values(by=['START_DATE', 'PARTEI_KURZ'], inplace=True)"
   ]
  },
  {
   "cell_type": "code",
   "execution_count": 237,
   "id": "62466edd-b490-4068-8d43-75604f8f40f8",
   "metadata": {},
   "outputs": [
    {
     "data": {
      "application/vnd.plotly.v1+json": {
       "config": {
        "plotlyServerURL": "https://plot.ly"
       },
       "data": [
        {
         "hovertemplate": "PARTEI_KURZ=CDU<br>START_DATE=%{x}<br>NUM_YEARS_IN_BT=%{y}<extra></extra>",
         "legendgroup": "CDU",
         "line": {
          "color": "#ff0000",
          "dash": "solid"
         },
         "mode": "lines",
         "name": "CDU",
         "orientation": "v",
         "showlegend": true,
         "type": "scatter",
         "x": [
          "1949-09-07T00:00:00",
          "1953-10-06T00:00:00",
          "1957-10-15T00:00:00",
          "1961-10-17T00:00:00",
          "1965-10-19T00:00:00",
          "1969-10-20T00:00:00",
          "1972-12-13T00:00:00",
          "1976-12-14T00:00:00",
          "1980-11-04T00:00:00",
          "1983-03-29T00:00:00",
          "1987-02-18T00:00:00",
          "1990-12-20T00:00:00",
          "1994-11-10T00:00:00",
          "1998-10-26T00:00:00",
          "2002-10-17T00:00:00",
          "2005-10-18T00:00:00",
          "2009-10-27T00:00:00",
          "2013-10-22T00:00:00",
          "2017-10-24T00:00:00"
         ],
         "xaxis": "x",
         "y": [
          0,
          1.881484974673175,
          4.02681246626237,
          6.337523786728575,
          6.798160302320195,
          6.911814696435037,
          5.964088356822299,
          6.270907326389674,
          6.746024006973002,
          6.906345074137706,
          6.745848915264398,
          6.48282769886909,
          7.201341574433423,
          8.839938270727432,
          7.079380744709275,
          7.689868146961719,
          7.559154871395242,
          6.920523139920299,
          8.415426924926418
         ],
         "yaxis": "y"
        },
        {
         "hovertemplate": "PARTEI_KURZ=CSU<br>START_DATE=%{x}<br>NUM_YEARS_IN_BT=%{y}<extra></extra>",
         "legendgroup": "CSU",
         "line": {
          "color": "#000000",
          "dash": "solid"
         },
         "mode": "lines",
         "name": "CSU",
         "orientation": "v",
         "showlegend": true,
         "type": "scatter",
         "x": [
          "1949-09-07T00:00:00",
          "1953-10-06T00:00:00",
          "1957-10-15T00:00:00",
          "1961-10-17T00:00:00",
          "1965-10-19T00:00:00",
          "1969-10-20T00:00:00",
          "1972-12-13T00:00:00",
          "1976-12-14T00:00:00",
          "1980-11-04T00:00:00",
          "1983-03-29T00:00:00",
          "1987-02-18T00:00:00",
          "1990-12-20T00:00:00",
          "1994-11-10T00:00:00",
          "1998-10-26T00:00:00",
          "2002-10-17T00:00:00",
          "2005-10-18T00:00:00",
          "2009-10-27T00:00:00",
          "2013-10-22T00:00:00",
          "2017-10-24T00:00:00"
         ],
         "xaxis": "x",
         "y": [
          0,
          1.3112618915612817,
          3.828821333393758,
          6.029966392191488,
          7.656607647024973,
          7.2449342415979565,
          8.43589076663678,
          8.065201574200458,
          7.516720879760503,
          8.935501755682871,
          11.683794141750157,
          9.288215310080716,
          10.112537018246215,
          9.99609848251504,
          8.661699253660707,
          10.48417231325064,
          11.535113346238832,
          8.01204483518289,
          9.187483862004251
         ],
         "yaxis": "y"
        },
        {
         "hovertemplate": "PARTEI_KURZ=FDP<br>START_DATE=%{x}<br>NUM_YEARS_IN_BT=%{y}<extra></extra>",
         "legendgroup": "FDP",
         "line": {
          "color": "#ffcc00",
          "dash": "solid"
         },
         "mode": "lines",
         "name": "FDP",
         "orientation": "v",
         "showlegend": true,
         "type": "scatter",
         "x": [
          "1949-09-07T00:00:00",
          "1953-10-06T00:00:00",
          "1957-10-15T00:00:00",
          "1961-10-17T00:00:00",
          "1965-10-19T00:00:00",
          "1969-10-20T00:00:00",
          "1972-12-13T00:00:00",
          "1976-12-14T00:00:00",
          "1980-11-04T00:00:00",
          "1983-03-29T00:00:00",
          "1987-02-18T00:00:00",
          "1990-12-20T00:00:00",
          "1994-11-10T00:00:00",
          "1998-10-26T00:00:00",
          "2002-10-17T00:00:00",
          "2005-10-18T00:00:00",
          "2009-10-27T00:00:00",
          "2013-10-22T00:00:00",
          "2017-10-24T00:00:00"
         ],
         "xaxis": "x",
         "y": [
          0,
          2.540054481766508,
          2.966065924237551,
          3.3507003752799345,
          5.504803617580422,
          6.83204430255644,
          4.955830715209758,
          5.773227121643141,
          5.252013718802318,
          7.937648731094179,
          6.8813812230393,
          6.045100750442165,
          7.987045136678598,
          7.140157262336359,
          6.7173303913278035,
          5.443173028878067,
          5.300834377160377,
          0,
          2.7948163597766245
         ],
         "yaxis": "y"
        },
        {
         "hovertemplate": "PARTEI_KURZ=SPD<br>START_DATE=%{x}<br>NUM_YEARS_IN_BT=%{y}<extra></extra>",
         "legendgroup": "SPD",
         "line": {
          "color": "#0066ff",
          "dash": "solid"
         },
         "mode": "lines",
         "name": "SPD",
         "orientation": "v",
         "showlegend": true,
         "type": "scatter",
         "x": [
          "1949-09-07T00:00:00",
          "1953-10-06T00:00:00",
          "1957-10-15T00:00:00",
          "1961-10-17T00:00:00",
          "1965-10-19T00:00:00",
          "1969-10-20T00:00:00",
          "1972-12-13T00:00:00",
          "1976-12-14T00:00:00",
          "1980-11-04T00:00:00",
          "1983-03-29T00:00:00",
          "1987-02-18T00:00:00",
          "1990-12-20T00:00:00",
          "1994-11-10T00:00:00",
          "1998-10-26T00:00:00",
          "2002-10-17T00:00:00",
          "2005-10-18T00:00:00",
          "2009-10-27T00:00:00",
          "2013-10-22T00:00:00",
          "2017-10-24T00:00:00"
         ],
         "xaxis": "x",
         "y": [
          0,
          2.3739355274718936,
          4.531236096565977,
          5.629883508279374,
          6.460097408323436,
          6.185242298812126,
          5.441098621656753,
          7.249748640948513,
          7.289941993758845,
          8.239833489195714,
          7.291779522993001,
          6.661916779789393,
          6.220354927195284,
          6.465327943090235,
          7.370178289081874,
          8.018287765050736,
          9.130311444527337,
          6.194049293992579,
          7.703325374735429
         ],
         "yaxis": "y"
        }
       ],
       "layout": {
        "autosize": true,
        "legend": {
         "title": {
          "text": "PARTEI_KURZ"
         },
         "tracegroupgap": 0
        },
        "margin": {
         "t": 60
        },
        "template": {
         "data": {
          "bar": [
           {
            "error_x": {
             "color": "#2a3f5f"
            },
            "error_y": {
             "color": "#2a3f5f"
            },
            "marker": {
             "line": {
              "color": "#E5ECF6",
              "width": 0.5
             }
            },
            "type": "bar"
           }
          ],
          "barpolar": [
           {
            "marker": {
             "line": {
              "color": "#E5ECF6",
              "width": 0.5
             }
            },
            "type": "barpolar"
           }
          ],
          "carpet": [
           {
            "aaxis": {
             "endlinecolor": "#2a3f5f",
             "gridcolor": "white",
             "linecolor": "white",
             "minorgridcolor": "white",
             "startlinecolor": "#2a3f5f"
            },
            "baxis": {
             "endlinecolor": "#2a3f5f",
             "gridcolor": "white",
             "linecolor": "white",
             "minorgridcolor": "white",
             "startlinecolor": "#2a3f5f"
            },
            "type": "carpet"
           }
          ],
          "choropleth": [
           {
            "colorbar": {
             "outlinewidth": 0,
             "ticks": ""
            },
            "type": "choropleth"
           }
          ],
          "contour": [
           {
            "colorbar": {
             "outlinewidth": 0,
             "ticks": ""
            },
            "colorscale": [
             [
              0,
              "#0d0887"
             ],
             [
              0.1111111111111111,
              "#46039f"
             ],
             [
              0.2222222222222222,
              "#7201a8"
             ],
             [
              0.3333333333333333,
              "#9c179e"
             ],
             [
              0.4444444444444444,
              "#bd3786"
             ],
             [
              0.5555555555555556,
              "#d8576b"
             ],
             [
              0.6666666666666666,
              "#ed7953"
             ],
             [
              0.7777777777777778,
              "#fb9f3a"
             ],
             [
              0.8888888888888888,
              "#fdca26"
             ],
             [
              1,
              "#f0f921"
             ]
            ],
            "type": "contour"
           }
          ],
          "contourcarpet": [
           {
            "colorbar": {
             "outlinewidth": 0,
             "ticks": ""
            },
            "type": "contourcarpet"
           }
          ],
          "heatmap": [
           {
            "colorbar": {
             "outlinewidth": 0,
             "ticks": ""
            },
            "colorscale": [
             [
              0,
              "#0d0887"
             ],
             [
              0.1111111111111111,
              "#46039f"
             ],
             [
              0.2222222222222222,
              "#7201a8"
             ],
             [
              0.3333333333333333,
              "#9c179e"
             ],
             [
              0.4444444444444444,
              "#bd3786"
             ],
             [
              0.5555555555555556,
              "#d8576b"
             ],
             [
              0.6666666666666666,
              "#ed7953"
             ],
             [
              0.7777777777777778,
              "#fb9f3a"
             ],
             [
              0.8888888888888888,
              "#fdca26"
             ],
             [
              1,
              "#f0f921"
             ]
            ],
            "type": "heatmap"
           }
          ],
          "heatmapgl": [
           {
            "colorbar": {
             "outlinewidth": 0,
             "ticks": ""
            },
            "colorscale": [
             [
              0,
              "#0d0887"
             ],
             [
              0.1111111111111111,
              "#46039f"
             ],
             [
              0.2222222222222222,
              "#7201a8"
             ],
             [
              0.3333333333333333,
              "#9c179e"
             ],
             [
              0.4444444444444444,
              "#bd3786"
             ],
             [
              0.5555555555555556,
              "#d8576b"
             ],
             [
              0.6666666666666666,
              "#ed7953"
             ],
             [
              0.7777777777777778,
              "#fb9f3a"
             ],
             [
              0.8888888888888888,
              "#fdca26"
             ],
             [
              1,
              "#f0f921"
             ]
            ],
            "type": "heatmapgl"
           }
          ],
          "histogram": [
           {
            "marker": {
             "colorbar": {
              "outlinewidth": 0,
              "ticks": ""
             }
            },
            "type": "histogram"
           }
          ],
          "histogram2d": [
           {
            "colorbar": {
             "outlinewidth": 0,
             "ticks": ""
            },
            "colorscale": [
             [
              0,
              "#0d0887"
             ],
             [
              0.1111111111111111,
              "#46039f"
             ],
             [
              0.2222222222222222,
              "#7201a8"
             ],
             [
              0.3333333333333333,
              "#9c179e"
             ],
             [
              0.4444444444444444,
              "#bd3786"
             ],
             [
              0.5555555555555556,
              "#d8576b"
             ],
             [
              0.6666666666666666,
              "#ed7953"
             ],
             [
              0.7777777777777778,
              "#fb9f3a"
             ],
             [
              0.8888888888888888,
              "#fdca26"
             ],
             [
              1,
              "#f0f921"
             ]
            ],
            "type": "histogram2d"
           }
          ],
          "histogram2dcontour": [
           {
            "colorbar": {
             "outlinewidth": 0,
             "ticks": ""
            },
            "colorscale": [
             [
              0,
              "#0d0887"
             ],
             [
              0.1111111111111111,
              "#46039f"
             ],
             [
              0.2222222222222222,
              "#7201a8"
             ],
             [
              0.3333333333333333,
              "#9c179e"
             ],
             [
              0.4444444444444444,
              "#bd3786"
             ],
             [
              0.5555555555555556,
              "#d8576b"
             ],
             [
              0.6666666666666666,
              "#ed7953"
             ],
             [
              0.7777777777777778,
              "#fb9f3a"
             ],
             [
              0.8888888888888888,
              "#fdca26"
             ],
             [
              1,
              "#f0f921"
             ]
            ],
            "type": "histogram2dcontour"
           }
          ],
          "mesh3d": [
           {
            "colorbar": {
             "outlinewidth": 0,
             "ticks": ""
            },
            "type": "mesh3d"
           }
          ],
          "parcoords": [
           {
            "line": {
             "colorbar": {
              "outlinewidth": 0,
              "ticks": ""
             }
            },
            "type": "parcoords"
           }
          ],
          "pie": [
           {
            "automargin": true,
            "type": "pie"
           }
          ],
          "scatter": [
           {
            "marker": {
             "colorbar": {
              "outlinewidth": 0,
              "ticks": ""
             }
            },
            "type": "scatter"
           }
          ],
          "scatter3d": [
           {
            "line": {
             "colorbar": {
              "outlinewidth": 0,
              "ticks": ""
             }
            },
            "marker": {
             "colorbar": {
              "outlinewidth": 0,
              "ticks": ""
             }
            },
            "type": "scatter3d"
           }
          ],
          "scattercarpet": [
           {
            "marker": {
             "colorbar": {
              "outlinewidth": 0,
              "ticks": ""
             }
            },
            "type": "scattercarpet"
           }
          ],
          "scattergeo": [
           {
            "marker": {
             "colorbar": {
              "outlinewidth": 0,
              "ticks": ""
             }
            },
            "type": "scattergeo"
           }
          ],
          "scattergl": [
           {
            "marker": {
             "colorbar": {
              "outlinewidth": 0,
              "ticks": ""
             }
            },
            "type": "scattergl"
           }
          ],
          "scattermapbox": [
           {
            "marker": {
             "colorbar": {
              "outlinewidth": 0,
              "ticks": ""
             }
            },
            "type": "scattermapbox"
           }
          ],
          "scatterpolar": [
           {
            "marker": {
             "colorbar": {
              "outlinewidth": 0,
              "ticks": ""
             }
            },
            "type": "scatterpolar"
           }
          ],
          "scatterpolargl": [
           {
            "marker": {
             "colorbar": {
              "outlinewidth": 0,
              "ticks": ""
             }
            },
            "type": "scatterpolargl"
           }
          ],
          "scatterternary": [
           {
            "marker": {
             "colorbar": {
              "outlinewidth": 0,
              "ticks": ""
             }
            },
            "type": "scatterternary"
           }
          ],
          "surface": [
           {
            "colorbar": {
             "outlinewidth": 0,
             "ticks": ""
            },
            "colorscale": [
             [
              0,
              "#0d0887"
             ],
             [
              0.1111111111111111,
              "#46039f"
             ],
             [
              0.2222222222222222,
              "#7201a8"
             ],
             [
              0.3333333333333333,
              "#9c179e"
             ],
             [
              0.4444444444444444,
              "#bd3786"
             ],
             [
              0.5555555555555556,
              "#d8576b"
             ],
             [
              0.6666666666666666,
              "#ed7953"
             ],
             [
              0.7777777777777778,
              "#fb9f3a"
             ],
             [
              0.8888888888888888,
              "#fdca26"
             ],
             [
              1,
              "#f0f921"
             ]
            ],
            "type": "surface"
           }
          ],
          "table": [
           {
            "cells": {
             "fill": {
              "color": "#EBF0F8"
             },
             "line": {
              "color": "white"
             }
            },
            "header": {
             "fill": {
              "color": "#C8D4E3"
             },
             "line": {
              "color": "white"
             }
            },
            "type": "table"
           }
          ]
         },
         "layout": {
          "annotationdefaults": {
           "arrowcolor": "#2a3f5f",
           "arrowhead": 0,
           "arrowwidth": 1
          },
          "autotypenumbers": "strict",
          "coloraxis": {
           "colorbar": {
            "outlinewidth": 0,
            "ticks": ""
           }
          },
          "colorscale": {
           "diverging": [
            [
             0,
             "#8e0152"
            ],
            [
             0.1,
             "#c51b7d"
            ],
            [
             0.2,
             "#de77ae"
            ],
            [
             0.3,
             "#f1b6da"
            ],
            [
             0.4,
             "#fde0ef"
            ],
            [
             0.5,
             "#f7f7f7"
            ],
            [
             0.6,
             "#e6f5d0"
            ],
            [
             0.7,
             "#b8e186"
            ],
            [
             0.8,
             "#7fbc41"
            ],
            [
             0.9,
             "#4d9221"
            ],
            [
             1,
             "#276419"
            ]
           ],
           "sequential": [
            [
             0,
             "#0d0887"
            ],
            [
             0.1111111111111111,
             "#46039f"
            ],
            [
             0.2222222222222222,
             "#7201a8"
            ],
            [
             0.3333333333333333,
             "#9c179e"
            ],
            [
             0.4444444444444444,
             "#bd3786"
            ],
            [
             0.5555555555555556,
             "#d8576b"
            ],
            [
             0.6666666666666666,
             "#ed7953"
            ],
            [
             0.7777777777777778,
             "#fb9f3a"
            ],
            [
             0.8888888888888888,
             "#fdca26"
            ],
            [
             1,
             "#f0f921"
            ]
           ],
           "sequentialminus": [
            [
             0,
             "#0d0887"
            ],
            [
             0.1111111111111111,
             "#46039f"
            ],
            [
             0.2222222222222222,
             "#7201a8"
            ],
            [
             0.3333333333333333,
             "#9c179e"
            ],
            [
             0.4444444444444444,
             "#bd3786"
            ],
            [
             0.5555555555555556,
             "#d8576b"
            ],
            [
             0.6666666666666666,
             "#ed7953"
            ],
            [
             0.7777777777777778,
             "#fb9f3a"
            ],
            [
             0.8888888888888888,
             "#fdca26"
            ],
            [
             1,
             "#f0f921"
            ]
           ]
          },
          "colorway": [
           "#636efa",
           "#EF553B",
           "#00cc96",
           "#ab63fa",
           "#FFA15A",
           "#19d3f3",
           "#FF6692",
           "#B6E880",
           "#FF97FF",
           "#FECB52"
          ],
          "font": {
           "color": "#2a3f5f"
          },
          "geo": {
           "bgcolor": "white",
           "lakecolor": "white",
           "landcolor": "#E5ECF6",
           "showlakes": true,
           "showland": true,
           "subunitcolor": "white"
          },
          "hoverlabel": {
           "align": "left"
          },
          "hovermode": "closest",
          "mapbox": {
           "style": "light"
          },
          "paper_bgcolor": "white",
          "plot_bgcolor": "#E5ECF6",
          "polar": {
           "angularaxis": {
            "gridcolor": "white",
            "linecolor": "white",
            "ticks": ""
           },
           "bgcolor": "#E5ECF6",
           "radialaxis": {
            "gridcolor": "white",
            "linecolor": "white",
            "ticks": ""
           }
          },
          "scene": {
           "xaxis": {
            "backgroundcolor": "#E5ECF6",
            "gridcolor": "white",
            "gridwidth": 2,
            "linecolor": "white",
            "showbackground": true,
            "ticks": "",
            "zerolinecolor": "white"
           },
           "yaxis": {
            "backgroundcolor": "#E5ECF6",
            "gridcolor": "white",
            "gridwidth": 2,
            "linecolor": "white",
            "showbackground": true,
            "ticks": "",
            "zerolinecolor": "white"
           },
           "zaxis": {
            "backgroundcolor": "#E5ECF6",
            "gridcolor": "white",
            "gridwidth": 2,
            "linecolor": "white",
            "showbackground": true,
            "ticks": "",
            "zerolinecolor": "white"
           }
          },
          "shapedefaults": {
           "line": {
            "color": "#2a3f5f"
           }
          },
          "ternary": {
           "aaxis": {
            "gridcolor": "white",
            "linecolor": "white",
            "ticks": ""
           },
           "baxis": {
            "gridcolor": "white",
            "linecolor": "white",
            "ticks": ""
           },
           "bgcolor": "#E5ECF6",
           "caxis": {
            "gridcolor": "white",
            "linecolor": "white",
            "ticks": ""
           }
          },
          "title": {
           "x": 0.05
          },
          "xaxis": {
           "automargin": true,
           "gridcolor": "white",
           "linecolor": "white",
           "ticks": "",
           "title": {
            "standoff": 15
           },
           "zerolinecolor": "white",
           "zerolinewidth": 2
          },
          "yaxis": {
           "automargin": true,
           "gridcolor": "white",
           "linecolor": "white",
           "ticks": "",
           "title": {
            "standoff": 15
           },
           "zerolinecolor": "white",
           "zerolinewidth": 2
          }
         }
        },
        "title": {
         "text": "Bleibedauer der Abgeordneten im Bundestag"
        },
        "xaxis": {
         "anchor": "y",
         "autorange": true,
         "domain": [
          0,
          1
         ],
         "range": [
          "1949-09-07",
          "2017-10-24"
         ],
         "title": {
          "text": ""
         },
         "type": "date"
        },
        "yaxis": {
         "anchor": "x",
         "autorange": true,
         "domain": [
          0,
          1
         ],
         "range": [
          -0.6490996745416755,
          12.332893816291833
         ],
         "title": {
          "text": "Jahre im BT bei Beginn der WP"
         },
         "type": "linear"
        }
       }
      },
      "image/png": "[encoded data removed]",
      "text/html": [
       "<div>                            <div id=\"c0df858a-5c21-4ce4-a724-7c83fe2aca07\" class=\"plotly-graph-div\" style=\"height:525px; width:100%;\"></div>            <script type=\"text/javascript\">                require([\"plotly\"], function(Plotly) {                    window.PLOTLYENV=window.PLOTLYENV || {};                                    if (document.getElementById(\"c0df858a-5c21-4ce4-a724-7c83fe2aca07\")) {                    Plotly.newPlot(                        \"c0df858a-5c21-4ce4-a724-7c83fe2aca07\",                        [{\"hovertemplate\": \"PARTEI_KURZ=CDU<br>START_DATE=%{x}<br>NUM_YEARS_IN_BT=%{y}<extra></extra>\", \"legendgroup\": \"CDU\", \"line\": {\"color\": \"#ff0000\", \"dash\": \"solid\"}, \"mode\": \"lines\", \"name\": \"CDU\", \"orientation\": \"v\", \"showlegend\": true, \"type\": \"scatter\", \"x\": [\"1949-09-07T00:00:00\", \"1953-10-06T00:00:00\", \"1957-10-15T00:00:00\", \"1961-10-17T00:00:00\", \"1965-10-19T00:00:00\", \"1969-10-20T00:00:00\", \"1972-12-13T00:00:00\", \"1976-12-14T00:00:00\", \"1980-11-04T00:00:00\", \"1983-03-29T00:00:00\", \"1987-02-18T00:00:00\", \"1990-12-20T00:00:00\", \"1994-11-10T00:00:00\", \"1998-10-26T00:00:00\", \"2002-10-17T00:00:00\", \"2005-10-18T00:00:00\", \"2009-10-27T00:00:00\", \"2013-10-22T00:00:00\", \"2017-10-24T00:00:00\"], \"xaxis\": \"x\", \"y\": [0.0, 1.881484974673175, 4.02681246626237, 6.337523786728575, 6.798160302320195, 6.911814696435037, 5.964088356822299, 6.270907326389674, 6.746024006973002, 6.906345074137706, 6.745848915264398, 6.48282769886909, 7.201341574433423, 8.839938270727432, 7.079380744709275, 7.689868146961719, 7.559154871395242, 6.920523139920299, 8.415426924926418], \"yaxis\": \"y\"}, {\"hovertemplate\": \"PARTEI_KURZ=CSU<br>START_DATE=%{x}<br>NUM_YEARS_IN_BT=%{y}<extra></extra>\", \"legendgroup\": \"CSU\", \"line\": {\"color\": \"#000000\", \"dash\": \"solid\"}, \"mode\": \"lines\", \"name\": \"CSU\", \"orientation\": \"v\", \"showlegend\": true, \"type\": \"scatter\", \"x\": [\"1949-09-07T00:00:00\", \"1953-10-06T00:00:00\", \"1957-10-15T00:00:00\", \"1961-10-17T00:00:00\", \"1965-10-19T00:00:00\", \"1969-10-20T00:00:00\", \"1972-12-13T00:00:00\", \"1976-12-14T00:00:00\", \"1980-11-04T00:00:00\", \"1983-03-29T00:00:00\", \"1987-02-18T00:00:00\", \"1990-12-20T00:00:00\", \"1994-11-10T00:00:00\", \"1998-10-26T00:00:00\", \"2002-10-17T00:00:00\", \"2005-10-18T00:00:00\", \"2009-10-27T00:00:00\", \"2013-10-22T00:00:00\", \"2017-10-24T00:00:00\"], \"xaxis\": \"x\", \"y\": [0.0, 1.3112618915612817, 3.828821333393758, 6.029966392191488, 7.656607647024973, 7.2449342415979565, 8.43589076663678, 8.065201574200458, 7.516720879760503, 8.935501755682871, 11.683794141750157, 9.288215310080716, 10.112537018246215, 9.99609848251504, 8.661699253660707, 10.48417231325064, 11.535113346238832, 8.01204483518289, 9.187483862004251], \"yaxis\": \"y\"}, {\"hovertemplate\": \"PARTEI_KURZ=FDP<br>START_DATE=%{x}<br>NUM_YEARS_IN_BT=%{y}<extra></extra>\", \"legendgroup\": \"FDP\", \"line\": {\"color\": \"#ffcc00\", \"dash\": \"solid\"}, \"mode\": \"lines\", \"name\": \"FDP\", \"orientation\": \"v\", \"showlegend\": true, \"type\": \"scatter\", \"x\": [\"1949-09-07T00:00:00\", \"1953-10-06T00:00:00\", \"1957-10-15T00:00:00\", \"1961-10-17T00:00:00\", \"1965-10-19T00:00:00\", \"1969-10-20T00:00:00\", \"1972-12-13T00:00:00\", \"1976-12-14T00:00:00\", \"1980-11-04T00:00:00\", \"1983-03-29T00:00:00\", \"1987-02-18T00:00:00\", \"1990-12-20T00:00:00\", \"1994-11-10T00:00:00\", \"1998-10-26T00:00:00\", \"2002-10-17T00:00:00\", \"2005-10-18T00:00:00\", \"2009-10-27T00:00:00\", \"2013-10-22T00:00:00\", \"2017-10-24T00:00:00\"], \"xaxis\": \"x\", \"y\": [0.0, 2.540054481766508, 2.966065924237551, 3.3507003752799345, 5.504803617580422, 6.83204430255644, 4.955830715209758, 5.773227121643141, 5.252013718802318, 7.937648731094179, 6.8813812230393, 6.045100750442165, 7.987045136678598, 7.140157262336359, 6.7173303913278035, 5.443173028878067, 5.300834377160377, 0.0, 2.7948163597766245], \"yaxis\": \"y\"}, {\"hovertemplate\": \"PARTEI_KURZ=SPD<br>START_DATE=%{x}<br>NUM_YEARS_IN_BT=%{y}<extra></extra>\", \"legendgroup\": \"SPD\", \"line\": {\"color\": \"#0066ff\", \"dash\": \"solid\"}, \"mode\": \"lines\", \"name\": \"SPD\", \"orientation\": \"v\", \"showlegend\": true, \"type\": \"scatter\", \"x\": [\"1949-09-07T00:00:00\", \"1953-10-06T00:00:00\", \"1957-10-15T00:00:00\", \"1961-10-17T00:00:00\", \"1965-10-19T00:00:00\", \"1969-10-20T00:00:00\", \"1972-12-13T00:00:00\", \"1976-12-14T00:00:00\", \"1980-11-04T00:00:00\", \"1983-03-29T00:00:00\", \"1987-02-18T00:00:00\", \"1990-12-20T00:00:00\", \"1994-11-10T00:00:00\", \"1998-10-26T00:00:00\", \"2002-10-17T00:00:00\", \"2005-10-18T00:00:00\", \"2009-10-27T00:00:00\", \"2013-10-22T00:00:00\", \"2017-10-24T00:00:00\"], \"xaxis\": \"x\", \"y\": [0.0, 2.3739355274718936, 4.531236096565977, 5.629883508279374, 6.460097408323436, 6.185242298812126, 5.441098621656753, 7.249748640948513, 7.289941993758845, 8.239833489195714, 7.291779522993001, 6.661916779789393, 6.220354927195284, 6.465327943090235, 7.370178289081874, 8.018287765050736, 9.130311444527337, 6.194049293992579, 7.703325374735429], \"yaxis\": \"y\"}],                        {\"legend\": {\"title\": {\"text\": \"PARTEI_KURZ\"}, \"tracegroupgap\": 0}, \"margin\": {\"t\": 60}, \"template\": {\"data\": {\"bar\": [{\"error_x\": {\"color\": \"#2a3f5f\"}, \"error_y\": {\"color\": \"#2a3f5f\"}, \"marker\": {\"line\": {\"color\": \"#E5ECF6\", \"width\": 0.5}}, \"type\": \"bar\"}], \"barpolar\": [{\"marker\": {\"line\": {\"color\": \"#E5ECF6\", \"width\": 0.5}}, \"type\": \"barpolar\"}], \"carpet\": [{\"aaxis\": {\"endlinecolor\": \"#2a3f5f\", \"gridcolor\": \"white\", \"linecolor\": \"white\", \"minorgridcolor\": \"white\", \"startlinecolor\": \"#2a3f5f\"}, \"baxis\": {\"endlinecolor\": \"#2a3f5f\", \"gridcolor\": \"white\", \"linecolor\": \"white\", \"minorgridcolor\": \"white\", \"startlinecolor\": \"#2a3f5f\"}, \"type\": \"carpet\"}], \"choropleth\": [{\"colorbar\": {\"outlinewidth\": 0, \"ticks\": \"\"}, \"type\": \"choropleth\"}], \"contour\": [{\"colorbar\": {\"outlinewidth\": 0, \"ticks\": \"\"}, \"colorscale\": [[0.0, \"#0d0887\"], [0.1111111111111111, \"#46039f\"], [0.2222222222222222, \"#7201a8\"], [0.3333333333333333, \"#9c179e\"], [0.4444444444444444, \"#bd3786\"], [0.5555555555555556, \"#d8576b\"], [0.6666666666666666, \"#ed7953\"], [0.7777777777777778, \"#fb9f3a\"], [0.8888888888888888, \"#fdca26\"], [1.0, \"#f0f921\"]], \"type\": \"contour\"}], \"contourcarpet\": [{\"colorbar\": {\"outlinewidth\": 0, \"ticks\": \"\"}, \"type\": \"contourcarpet\"}], \"heatmap\": [{\"colorbar\": {\"outlinewidth\": 0, \"ticks\": \"\"}, \"colorscale\": [[0.0, \"#0d0887\"], [0.1111111111111111, \"#46039f\"], [0.2222222222222222, \"#7201a8\"], [0.3333333333333333, \"#9c179e\"], [0.4444444444444444, \"#bd3786\"], [0.5555555555555556, \"#d8576b\"], [0.6666666666666666, \"#ed7953\"], [0.7777777777777778, \"#fb9f3a\"], [0.8888888888888888, \"#fdca26\"], [1.0, \"#f0f921\"]], \"type\": \"heatmap\"}], \"heatmapgl\": [{\"colorbar\": {\"outlinewidth\": 0, \"ticks\": \"\"}, \"colorscale\": [[0.0, \"#0d0887\"], [0.1111111111111111, \"#46039f\"], [0.2222222222222222, \"#7201a8\"], [0.3333333333333333, \"#9c179e\"], [0.4444444444444444, \"#bd3786\"], [0.5555555555555556, \"#d8576b\"], [0.6666666666666666, \"#ed7953\"], [0.7777777777777778, \"#fb9f3a\"], [0.8888888888888888, \"#fdca26\"], [1.0, \"#f0f921\"]], \"type\": \"heatmapgl\"}], \"histogram\": [{\"marker\": {\"colorbar\": {\"outlinewidth\": 0, \"ticks\": \"\"}}, \"type\": \"histogram\"}], \"histogram2d\": [{\"colorbar\": {\"outlinewidth\": 0, \"ticks\": \"\"}, \"colorscale\": [[0.0, \"#0d0887\"], [0.1111111111111111, \"#46039f\"], [0.2222222222222222, \"#7201a8\"], [0.3333333333333333, \"#9c179e\"], [0.4444444444444444, \"#bd3786\"], [0.5555555555555556, \"#d8576b\"], [0.6666666666666666, \"#ed7953\"], [0.7777777777777778, \"#fb9f3a\"], [0.8888888888888888, \"#fdca26\"], [1.0, \"#f0f921\"]], \"type\": \"histogram2d\"}], \"histogram2dcontour\": [{\"colorbar\": {\"outlinewidth\": 0, \"ticks\": \"\"}, \"colorscale\": [[0.0, \"#0d0887\"], [0.1111111111111111, \"#46039f\"], [0.2222222222222222, \"#7201a8\"], [0.3333333333333333, \"#9c179e\"], [0.4444444444444444, \"#bd3786\"], [0.5555555555555556, \"#d8576b\"], [0.6666666666666666, \"#ed7953\"], [0.7777777777777778, \"#fb9f3a\"], [0.8888888888888888, \"#fdca26\"], [1.0, \"#f0f921\"]], \"type\": \"histogram2dcontour\"}], \"mesh3d\": [{\"colorbar\": {\"outlinewidth\": 0, \"ticks\": \"\"}, \"type\": \"mesh3d\"}], \"parcoords\": [{\"line\": {\"colorbar\": {\"outlinewidth\": 0, \"ticks\": \"\"}}, \"type\": \"parcoords\"}], \"pie\": [{\"automargin\": true, \"type\": \"pie\"}], \"scatter\": [{\"marker\": {\"colorbar\": {\"outlinewidth\": 0, \"ticks\": \"\"}}, \"type\": \"scatter\"}], \"scatter3d\": [{\"line\": {\"colorbar\": {\"outlinewidth\": 0, \"ticks\": \"\"}}, \"marker\": {\"colorbar\": {\"outlinewidth\": 0, \"ticks\": \"\"}}, \"type\": \"scatter3d\"}], \"scattercarpet\": [{\"marker\": {\"colorbar\": {\"outlinewidth\": 0, \"ticks\": \"\"}}, \"type\": \"scattercarpet\"}], \"scattergeo\": [{\"marker\": {\"colorbar\": {\"outlinewidth\": 0, \"ticks\": \"\"}}, \"type\": \"scattergeo\"}], \"scattergl\": [{\"marker\": {\"colorbar\": {\"outlinewidth\": 0, \"ticks\": \"\"}}, \"type\": \"scattergl\"}], \"scattermapbox\": [{\"marker\": {\"colorbar\": {\"outlinewidth\": 0, \"ticks\": \"\"}}, \"type\": \"scattermapbox\"}], \"scatterpolar\": [{\"marker\": {\"colorbar\": {\"outlinewidth\": 0, \"ticks\": \"\"}}, \"type\": \"scatterpolar\"}], \"scatterpolargl\": [{\"marker\": {\"colorbar\": {\"outlinewidth\": 0, \"ticks\": \"\"}}, \"type\": \"scatterpolargl\"}], \"scatterternary\": [{\"marker\": {\"colorbar\": {\"outlinewidth\": 0, \"ticks\": \"\"}}, \"type\": \"scatterternary\"}], \"surface\": [{\"colorbar\": {\"outlinewidth\": 0, \"ticks\": \"\"}, \"colorscale\": [[0.0, \"#0d0887\"], [0.1111111111111111, \"#46039f\"], [0.2222222222222222, \"#7201a8\"], [0.3333333333333333, \"#9c179e\"], [0.4444444444444444, \"#bd3786\"], [0.5555555555555556, \"#d8576b\"], [0.6666666666666666, \"#ed7953\"], [0.7777777777777778, \"#fb9f3a\"], [0.8888888888888888, \"#fdca26\"], [1.0, \"#f0f921\"]], \"type\": \"surface\"}], \"table\": [{\"cells\": {\"fill\": {\"color\": \"#EBF0F8\"}, \"line\": {\"color\": \"white\"}}, \"header\": {\"fill\": {\"color\": \"#C8D4E3\"}, \"line\": {\"color\": \"white\"}}, \"type\": \"table\"}]}, \"layout\": {\"annotationdefaults\": {\"arrowcolor\": \"#2a3f5f\", \"arrowhead\": 0, \"arrowwidth\": 1}, \"autotypenumbers\": \"strict\", \"coloraxis\": {\"colorbar\": {\"outlinewidth\": 0, \"ticks\": \"\"}}, \"colorscale\": {\"diverging\": [[0, \"#8e0152\"], [0.1, \"#c51b7d\"], [0.2, \"#de77ae\"], [0.3, \"#f1b6da\"], [0.4, \"#fde0ef\"], [0.5, \"#f7f7f7\"], [0.6, \"#e6f5d0\"], [0.7, \"#b8e186\"], [0.8, \"#7fbc41\"], [0.9, \"#4d9221\"], [1, \"#276419\"]], \"sequential\": [[0.0, \"#0d0887\"], [0.1111111111111111, \"#46039f\"], [0.2222222222222222, \"#7201a8\"], [0.3333333333333333, \"#9c179e\"], [0.4444444444444444, \"#bd3786\"], [0.5555555555555556, \"#d8576b\"], [0.6666666666666666, \"#ed7953\"], [0.7777777777777778, \"#fb9f3a\"], [0.8888888888888888, \"#fdca26\"], [1.0, \"#f0f921\"]], \"sequentialminus\": [[0.0, \"#0d0887\"], [0.1111111111111111, \"#46039f\"], [0.2222222222222222, \"#7201a8\"], [0.3333333333333333, \"#9c179e\"], [0.4444444444444444, \"#bd3786\"], [0.5555555555555556, \"#d8576b\"], [0.6666666666666666, \"#ed7953\"], [0.7777777777777778, \"#fb9f3a\"], [0.8888888888888888, \"#fdca26\"], [1.0, \"#f0f921\"]]}, \"colorway\": [\"#636efa\", \"#EF553B\", \"#00cc96\", \"#ab63fa\", \"#FFA15A\", \"#19d3f3\", \"#FF6692\", \"#B6E880\", \"#FF97FF\", \"#FECB52\"], \"font\": {\"color\": \"#2a3f5f\"}, \"geo\": {\"bgcolor\": \"white\", \"lakecolor\": \"white\", \"landcolor\": \"#E5ECF6\", \"showlakes\": true, \"showland\": true, \"subunitcolor\": \"white\"}, \"hoverlabel\": {\"align\": \"left\"}, \"hovermode\": \"closest\", \"mapbox\": {\"style\": \"light\"}, \"paper_bgcolor\": \"white\", \"plot_bgcolor\": \"#E5ECF6\", \"polar\": {\"angularaxis\": {\"gridcolor\": \"white\", \"linecolor\": \"white\", \"ticks\": \"\"}, \"bgcolor\": \"#E5ECF6\", \"radialaxis\": {\"gridcolor\": \"white\", \"linecolor\": \"white\", \"ticks\": \"\"}}, \"scene\": {\"xaxis\": {\"backgroundcolor\": \"#E5ECF6\", \"gridcolor\": \"white\", \"gridwidth\": 2, \"linecolor\": \"white\", \"showbackground\": true, \"ticks\": \"\", \"zerolinecolor\": \"white\"}, \"yaxis\": {\"backgroundcolor\": \"#E5ECF6\", \"gridcolor\": \"white\", \"gridwidth\": 2, \"linecolor\": \"white\", \"showbackground\": true, \"ticks\": \"\", \"zerolinecolor\": \"white\"}, \"zaxis\": {\"backgroundcolor\": \"#E5ECF6\", \"gridcolor\": \"white\", \"gridwidth\": 2, \"linecolor\": \"white\", \"showbackground\": true, \"ticks\": \"\", \"zerolinecolor\": \"white\"}}, \"shapedefaults\": {\"line\": {\"color\": \"#2a3f5f\"}}, \"ternary\": {\"aaxis\": {\"gridcolor\": \"white\", \"linecolor\": \"white\", \"ticks\": \"\"}, \"baxis\": {\"gridcolor\": \"white\", \"linecolor\": \"white\", \"ticks\": \"\"}, \"bgcolor\": \"#E5ECF6\", \"caxis\": {\"gridcolor\": \"white\", \"linecolor\": \"white\", \"ticks\": \"\"}}, \"title\": {\"x\": 0.05}, \"xaxis\": {\"automargin\": true, \"gridcolor\": \"white\", \"linecolor\": \"white\", \"ticks\": \"\", \"title\": {\"standoff\": 15}, \"zerolinecolor\": \"white\", \"zerolinewidth\": 2}, \"yaxis\": {\"automargin\": true, \"gridcolor\": \"white\", \"linecolor\": \"white\", \"ticks\": \"\", \"title\": {\"standoff\": 15}, \"zerolinecolor\": \"white\", \"zerolinewidth\": 2}}}, \"title\": {\"text\": \"Bleibedauer der Abgeordneten im Bundestag\"}, \"xaxis\": {\"anchor\": \"y\", \"domain\": [0.0, 1.0], \"title\": {\"text\": \"\"}}, \"yaxis\": {\"anchor\": \"x\", \"domain\": [0.0, 1.0], \"title\": {\"text\": \"Jahre im BT bei Beginn der WP\"}}},                        {\"responsive\": true}                    ).then(function(){\n",
       "                            \n",
       "var gd = document.getElementById('c0df858a-5c21-4ce4-a724-7c83fe2aca07');\n",
       "var x = new MutationObserver(function (mutations, observer) {{\n",
       "        var display = window.getComputedStyle(gd).display;\n",
       "        if (!display || display === 'none') {{\n",
       "            console.log([gd, 'removed!']);\n",
       "            Plotly.purge(gd);\n",
       "            observer.disconnect();\n",
       "        }}\n",
       "}});\n",
       "\n",
       "// Listen for the removal of the full notebook cells\n",
       "var notebookContainer = gd.closest('#notebook-container');\n",
       "if (notebookContainer) {{\n",
       "    x.observe(notebookContainer, {childList: true});\n",
       "}}\n",
       "\n",
       "// Listen for the clearing of the current output cell\n",
       "var outputEl = gd.closest('.output');\n",
       "if (outputEl) {{\n",
       "    x.observe(outputEl, {childList: true});\n",
       "}}\n",
       "\n",
       "                        })                };                });            </script>        </div>"
      ]
     },
     "metadata": {},
     "output_type": "display_data"
    }
   ],
   "source": [
    "#fig = px.scatter(x=grouped['NUM_YEARS_IN_BT'].index, y= grouped['NUM_YEARS_IN_BT'])\n",
    "fig = go.Figure(data=px.line(grouped_reindexed, x='START_DATE', y= 'NUM_YEARS_IN_BT', \n",
    "                                color='PARTEI_KURZ', color_discrete_sequence = LIST_OF_COLORS))\n",
    "fig.update_layout(title='Bleibedauer der Abgeordneten im Bundestag',\n",
    "               xaxis_title='',\n",
    "               yaxis_title='Jahre im BT bei Beginn der WP')\n",
    "fig.show()"
   ]
  },
  {
   "cell_type": "code",
   "execution_count": 210,
   "id": "d773e9b0-b574-4e3d-a4e4-41b7c4eebf18",
   "metadata": {},
   "outputs": [
    {
     "ename": "NameError",
     "evalue": "name 'a' is not defined",
     "output_type": "error",
     "traceback": [
      "\u001b[0;31m---------------------------------------------------------------------------\u001b[0m",
      "\u001b[0;31mNameError\u001b[0m                                 Traceback (most recent call last)",
      "\u001b[0;32m<ipython-input-210-3f786850e387>\u001b[0m in \u001b[0;36m<module>\u001b[0;34m\u001b[0m\n\u001b[0;32m----> 1\u001b[0;31m \u001b[0ma\u001b[0m\u001b[0;34m\u001b[0m\u001b[0;34m\u001b[0m\u001b[0m\n\u001b[0m",
      "\u001b[0;31mNameError\u001b[0m: name 'a' is not defined"
     ]
    }
   ],
   "source": [
    "a"
   ]
  },
  {
   "cell_type": "code",
   "execution_count": null,
   "id": "d419548a-de81-425c-b4cb-9433dfc2e020",
   "metadata": {},
   "outputs": [],
   "source": [
    "# end deleteme"
   ]
  },
  {
   "cell_type": "markdown",
   "id": "9235e24c-7820-4d2c-95d9-cb111974cffc",
   "metadata": {},
   "source": [
    "# save as csv"
   ]
  },
  {
   "cell_type": "code",
   "execution_count": null,
   "id": "b391fce5-2b33-4bdf-8f88-edb6aa19f532",
   "metadata": {},
   "outputs": [],
   "source": [
    "df_mdb.to_csv(DF_MDB_PATH, index=None)\n",
    "df_mdb_wp.to_csv(DF_MDB_WP_PATH, index=None)"
   ]
  },
  {
   "cell_type": "markdown",
   "id": "439eead9-6883-4edb-b1f4-f53c9a156f13",
   "metadata": {},
   "source": [
    "# read in data. exploratory data analysis"
   ]
  },
  {
   "cell_type": "code",
   "execution_count": null,
   "id": "5d51940f-459e-4b79-8e25-c07ee7c7b58d",
   "metadata": {},
   "outputs": [],
   "source": [
    "df_mdb = pd.read_csv(DF_MDB_PATH, index_col=None)\n",
    "df_mdb_wp = pd.read_csv(DF_MDB_WP_PATH, index_col=None)"
   ]
  },
  {
   "cell_type": "code",
   "execution_count": null,
   "id": "46c8cb00-8f21-4ea9-9a75-1bada0985a70",
   "metadata": {},
   "outputs": [],
   "source": [
    "df_mdb.columns"
   ]
  },
  {
   "cell_type": "code",
   "execution_count": null,
   "id": "f911c372-4cfa-4cb4-b796-9d9e0ba3e447",
   "metadata": {},
   "outputs": [],
   "source": [
    "df_mdb.tail()"
   ]
  },
  {
   "cell_type": "code",
   "execution_count": null,
   "id": "f4d54d7c-24e6-4968-a67b-ac4ec883cb41",
   "metadata": {},
   "outputs": [],
   "source": [
    "df_mdb_wp[['ID', 'WP']].groupby('WP').count().sort_values(by='WP', ascending=False).head()"
   ]
  },
  {
   "cell_type": "markdown",
   "id": "863eb41d-0086-45cb-a1a1-ec55f8dbeef3",
   "metadata": {},
   "source": [
    "# quality checks"
   ]
  },
  {
   "cell_type": "code",
   "execution_count": null,
   "id": "8a37b643-1c10-4611-a711-1902e9a96113",
   "metadata": {},
   "outputs": [],
   "source": [
    "df_mdb_wp[(df_mdb_wp.WP==19) & (df_mdb_wp.PARTEI_KURZ == 'CDU')]"
   ]
  },
  {
   "cell_type": "code",
   "execution_count": null,
   "id": "49a500ea-dfec-496f-86dd-25504a9d3580",
   "metadata": {},
   "outputs": [],
   "source": []
  },
  {
   "cell_type": "code",
   "execution_count": null,
   "id": "b24b94cd-fef3-4654-891b-3fa817349f96",
   "metadata": {},
   "outputs": [],
   "source": [
    "df_mdb_wp[(df_mdb_wp.WP==18) & (df_mdb_wp.PARTEI_KURZ == 'CDU') & (df_mdb_wp.BERUF.str.contains('Bürgermeister'))]"
   ]
  },
  {
   "cell_type": "code",
   "execution_count": null,
   "id": "0fe3f529-eb3c-4df4-9a4c-51840c8fe8ca",
   "metadata": {},
   "outputs": [],
   "source": []
  },
  {
   "cell_type": "code",
   "execution_count": null,
   "id": "c8fbefa2-06e2-487c-b2e7-0ac7b1fb97ec",
   "metadata": {},
   "outputs": [],
   "source": []
  },
  {
   "cell_type": "code",
   "execution_count": null,
   "id": "53e74498-0cd5-48a7-9c53-4982fa1792d1",
   "metadata": {},
   "outputs": [],
   "source": []
  },
  {
   "cell_type": "code",
   "execution_count": null,
   "id": "b27c7a8c-68f9-4ea1-ab74-96f886d343d1",
   "metadata": {},
   "outputs": [],
   "source": []
  }
 ],
 "metadata": {
  "kernelspec": {
   "display_name": "Python 3",
   "language": "python",
   "name": "python3"
  },
  "language_info": {
   "codemirror_mode": {
    "name": "ipython",
    "version": 3
   },
   "file_extension": ".py",
   "mimetype": "text/x-python",
   "name": "python",
   "nbconvert_exporter": "python",
   "pygments_lexer": "ipython3",
   "version": "3.9.5"
  }
 },
 "nbformat": 4,
 "nbformat_minor": 5
}
