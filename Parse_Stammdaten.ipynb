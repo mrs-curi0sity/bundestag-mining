{
 "cells": [
  {
   "cell_type": "code",
   "execution_count": 40,
   "id": "26e608bc-1a79-47d1-99e9-fc4e6495e7da",
   "metadata": {},
   "outputs": [],
   "source": [
    "import pandas as pd\n",
    "import numpy as np\n",
    "from pathlib import Path\n",
    "import xml.etree.ElementTree as ET"
   ]
  },
  {
   "cell_type": "markdown",
   "id": "ccc0ce95-6434-463f-b2a1-38d2154b7e51",
   "metadata": {},
   "source": [
    "# WP: Wahlperiode\n",
    "# Quelle der Daten: "
   ]
  },
  {
   "cell_type": "code",
   "execution_count": 53,
   "id": "6b155448-86de-4034-959a-7ee3f7ec5fcd",
   "metadata": {},
   "outputs": [],
   "source": [
    "DATA_PATH = Path('data')\n",
    "MDB_XML_PATH = DATA_PATH / 'MDB_STAMMDATEN.XML'\n",
    "DF_MDB_PATH = DATA_PATH / 'df_mdb.csv' #one row per individuum, one col per wp containing 0 / 1\n",
    "DF_MDB_WP_PATH = DATA_PATH / 'df_mdb_wp.csv' # one row per individuum per wp, containting e.g. 12. so one abgeordneter who has been in parliament for several wp will receive one row per wp"
   ]
  },
  {
   "cell_type": "markdown",
   "id": "8d597687-4d1e-4d44-bd4c-d03d98c9ed0b",
   "metadata": {},
   "source": [
    "# parse xml data into dataFrame / .csv fomat"
   ]
  },
  {
   "cell_type": "code",
   "execution_count": 42,
   "id": "2106e6ee-0ad4-4c0a-9d93-5668b07eefa6",
   "metadata": {},
   "outputs": [],
   "source": [
    "def get_mdb_data(mdb_xml_path = MDB_XML_PATH):\n",
    "    list_of_mdb = []\n",
    "    MDB_STAMMDATEN = ET.parse(mdb_xml_path)\n",
    "    root = MDB_STAMMDATEN.getroot()\n",
    "    \n",
    "    for mdb in root.findall('MDB'):\n",
    "        mdb_dict = {}\n",
    "        ID, NAMEN, BIOGRAFISCHE_ANGABEN, WAHLPERIODEN = mdb[0], mdb[1], mdb[2], mdb[3]\n",
    "\n",
    "        mdb_dict['ID'] = ID.text\n",
    "        mdb_dict['NACHNAME'] = NAMEN.find('NAME').find('NACHNAME').text  \n",
    "        mdb_dict['VORNAME'] = NAMEN.find('NAME').find('VORNAME').text  \n",
    "\n",
    "        #print(mdb.tag, mdb.text, mdb.findall('NACHNAME'))\n",
    "        for element in BIOGRAFISCHE_ANGABEN:\n",
    "            mdb_dict[element.tag] = element.text\n",
    "\n",
    "        mdb_dict['ANZ_WAHLPERIODEN'] = len(list(WAHLPERIODEN))\n",
    "\n",
    "        for wahlperiode in WAHLPERIODEN:\n",
    "            mdb_dict[int(wahlperiode.find('WP').text)] = 1\n",
    "\n",
    "        list_of_mdb.append(mdb_dict)\n",
    "    return pd.DataFrame(list_of_mdb)"
   ]
  },
  {
   "cell_type": "code",
   "execution_count": 47,
   "id": "88fe5b94-1517-472c-aef3-4f39726557f0",
   "metadata": {},
   "outputs": [],
   "source": [
    "def get_mdb_wp_data(mdb_xml_path = MDB_XML_PATH):\n",
    "    list_of_mdb = []\n",
    "    MDB_STAMMDATEN = ET.parse(mdb_xml_path)\n",
    "    root = MDB_STAMMDATEN.getroot()\n",
    "    \n",
    "    for mdb in root.findall('MDB'):\n",
    "        mdb_dict = {}\n",
    "        ID, NAMEN, BIOGRAFISCHE_ANGABEN, WAHLPERIODEN = mdb[0], mdb[1], mdb[2], mdb[3]\n",
    "\n",
    "        mdb_dict['ID'] = ID.text\n",
    "        mdb_dict['NACHNAME'] = NAMEN.find('NAME').find('NACHNAME').text  \n",
    "        mdb_dict['VORNAME'] = NAMEN.find('NAME').find('VORNAME').text  \n",
    "\n",
    "        #print(mdb.tag, mdb.text, mdb.findall('NACHNAME'))\n",
    "        for element in BIOGRAFISCHE_ANGABEN:\n",
    "            mdb_dict[element.tag] = element.text\n",
    "\n",
    "        mdb_dict['ANZ_WAHLPERIODEN'] = len(list(WAHLPERIODEN))\n",
    "\n",
    "        for wahlperiode in WAHLPERIODEN:\n",
    "            # one seperate entry per wp\n",
    "            mdb_dict['WP']=int(wahlperiode.find('WP').text)\n",
    "            list_of_mdb.append(mdb_dict)\n",
    "    return pd.DataFrame(list_of_mdb)"
   ]
  },
  {
   "cell_type": "code",
   "execution_count": 48,
   "id": "678fb266-28a6-489e-85f2-b08d63c11ab8",
   "metadata": {},
   "outputs": [
    {
     "name": "stdout",
     "output_type": "stream",
     "text": [
      "(4089, 34)\n"
     ]
    },
    {
     "data": {
      "text/html": [
       "<div>\n",
       "<style scoped>\n",
       "    .dataframe tbody tr th:only-of-type {\n",
       "        vertical-align: middle;\n",
       "    }\n",
       "\n",
       "    .dataframe tbody tr th {\n",
       "        vertical-align: top;\n",
       "    }\n",
       "\n",
       "    .dataframe thead th {\n",
       "        text-align: right;\n",
       "    }\n",
       "</style>\n",
       "<table border=\"1\" class=\"dataframe\">\n",
       "  <thead>\n",
       "    <tr style=\"text-align: right;\">\n",
       "      <th></th>\n",
       "      <th>ID</th>\n",
       "      <th>NACHNAME</th>\n",
       "      <th>VORNAME</th>\n",
       "      <th>GEBURTSDATUM</th>\n",
       "      <th>GEBURTSORT</th>\n",
       "      <th>GEBURTSLAND</th>\n",
       "      <th>STERBEDATUM</th>\n",
       "      <th>GESCHLECHT</th>\n",
       "      <th>FAMILIENSTAND</th>\n",
       "      <th>RELIGION</th>\n",
       "      <th>...</th>\n",
       "      <th>2</th>\n",
       "      <th>12</th>\n",
       "      <th>13</th>\n",
       "      <th>14</th>\n",
       "      <th>15</th>\n",
       "      <th>16</th>\n",
       "      <th>1</th>\n",
       "      <th>17</th>\n",
       "      <th>18</th>\n",
       "      <th>19</th>\n",
       "    </tr>\n",
       "  </thead>\n",
       "  <tbody>\n",
       "    <tr>\n",
       "      <th>0</th>\n",
       "      <td>11000001</td>\n",
       "      <td>Abelein</td>\n",
       "      <td>Manfred</td>\n",
       "      <td>20.10.1930</td>\n",
       "      <td>Stuttgart</td>\n",
       "      <td>None</td>\n",
       "      <td>17.01.2008</td>\n",
       "      <td>männlich</td>\n",
       "      <td>keine Angaben</td>\n",
       "      <td>katholisch</td>\n",
       "      <td>...</td>\n",
       "      <td>NaN</td>\n",
       "      <td>NaN</td>\n",
       "      <td>NaN</td>\n",
       "      <td>NaN</td>\n",
       "      <td>NaN</td>\n",
       "      <td>NaN</td>\n",
       "      <td>NaN</td>\n",
       "      <td>NaN</td>\n",
       "      <td>NaN</td>\n",
       "      <td>NaN</td>\n",
       "    </tr>\n",
       "    <tr>\n",
       "      <th>1</th>\n",
       "      <td>11000002</td>\n",
       "      <td>Achenbach</td>\n",
       "      <td>Ernst</td>\n",
       "      <td>09.04.1909</td>\n",
       "      <td>Siegen</td>\n",
       "      <td>None</td>\n",
       "      <td>02.12.1991</td>\n",
       "      <td>männlich</td>\n",
       "      <td>verheiratet, 3 Kinder</td>\n",
       "      <td>evangelisch</td>\n",
       "      <td>...</td>\n",
       "      <td>NaN</td>\n",
       "      <td>NaN</td>\n",
       "      <td>NaN</td>\n",
       "      <td>NaN</td>\n",
       "      <td>NaN</td>\n",
       "      <td>NaN</td>\n",
       "      <td>NaN</td>\n",
       "      <td>NaN</td>\n",
       "      <td>NaN</td>\n",
       "      <td>NaN</td>\n",
       "    </tr>\n",
       "    <tr>\n",
       "      <th>2</th>\n",
       "      <td>11000003</td>\n",
       "      <td>Ackermann</td>\n",
       "      <td>Annemarie</td>\n",
       "      <td>26.05.1913</td>\n",
       "      <td>Parabutsch</td>\n",
       "      <td>Jugoslawien</td>\n",
       "      <td>18.02.1994</td>\n",
       "      <td>weiblich</td>\n",
       "      <td>verheiratet, 5 Kinder</td>\n",
       "      <td>katholisch</td>\n",
       "      <td>...</td>\n",
       "      <td>1.0</td>\n",
       "      <td>NaN</td>\n",
       "      <td>NaN</td>\n",
       "      <td>NaN</td>\n",
       "      <td>NaN</td>\n",
       "      <td>NaN</td>\n",
       "      <td>NaN</td>\n",
       "      <td>NaN</td>\n",
       "      <td>NaN</td>\n",
       "      <td>NaN</td>\n",
       "    </tr>\n",
       "    <tr>\n",
       "      <th>3</th>\n",
       "      <td>11000004</td>\n",
       "      <td>Ackermann</td>\n",
       "      <td>Else</td>\n",
       "      <td>06.11.1933</td>\n",
       "      <td>Berlin</td>\n",
       "      <td>None</td>\n",
       "      <td>14.09.2019</td>\n",
       "      <td>weiblich</td>\n",
       "      <td>ledig</td>\n",
       "      <td>evangelisch</td>\n",
       "      <td>...</td>\n",
       "      <td>NaN</td>\n",
       "      <td>1.0</td>\n",
       "      <td>NaN</td>\n",
       "      <td>NaN</td>\n",
       "      <td>NaN</td>\n",
       "      <td>NaN</td>\n",
       "      <td>NaN</td>\n",
       "      <td>NaN</td>\n",
       "      <td>NaN</td>\n",
       "      <td>NaN</td>\n",
       "    </tr>\n",
       "    <tr>\n",
       "      <th>4</th>\n",
       "      <td>11000005</td>\n",
       "      <td>Adam</td>\n",
       "      <td>Ulrich</td>\n",
       "      <td>09.06.1950</td>\n",
       "      <td>Teterow, Kr. Teterow, Bezirk Neubrandenburg</td>\n",
       "      <td>None</td>\n",
       "      <td>None</td>\n",
       "      <td>männlich</td>\n",
       "      <td>verheiratet, 2 Kinder</td>\n",
       "      <td>evangelisch</td>\n",
       "      <td>...</td>\n",
       "      <td>NaN</td>\n",
       "      <td>1.0</td>\n",
       "      <td>1.0</td>\n",
       "      <td>1.0</td>\n",
       "      <td>1.0</td>\n",
       "      <td>1.0</td>\n",
       "      <td>NaN</td>\n",
       "      <td>NaN</td>\n",
       "      <td>NaN</td>\n",
       "      <td>NaN</td>\n",
       "    </tr>\n",
       "  </tbody>\n",
       "</table>\n",
       "<p>5 rows × 34 columns</p>\n",
       "</div>"
      ],
      "text/plain": [
       "         ID   NACHNAME    VORNAME GEBURTSDATUM  \\\n",
       "0  11000001    Abelein    Manfred   20.10.1930   \n",
       "1  11000002  Achenbach      Ernst   09.04.1909   \n",
       "2  11000003  Ackermann  Annemarie   26.05.1913   \n",
       "3  11000004  Ackermann       Else   06.11.1933   \n",
       "4  11000005       Adam     Ulrich   09.06.1950   \n",
       "\n",
       "                                    GEBURTSORT  GEBURTSLAND STERBEDATUM  \\\n",
       "0                                    Stuttgart         None  17.01.2008   \n",
       "1                                       Siegen         None  02.12.1991   \n",
       "2                                   Parabutsch  Jugoslawien  18.02.1994   \n",
       "3                                       Berlin         None  14.09.2019   \n",
       "4  Teterow, Kr. Teterow, Bezirk Neubrandenburg         None        None   \n",
       "\n",
       "  GESCHLECHT          FAMILIENSTAND     RELIGION  ...    2   12   13   14  \\\n",
       "0   männlich          keine Angaben   katholisch  ...  NaN  NaN  NaN  NaN   \n",
       "1   männlich  verheiratet, 3 Kinder  evangelisch  ...  NaN  NaN  NaN  NaN   \n",
       "2   weiblich  verheiratet, 5 Kinder   katholisch  ...  1.0  NaN  NaN  NaN   \n",
       "3   weiblich                  ledig  evangelisch  ...  NaN  1.0  NaN  NaN   \n",
       "4   männlich  verheiratet, 2 Kinder  evangelisch  ...  NaN  1.0  1.0  1.0   \n",
       "\n",
       "    15   16   1  17  18  19  \n",
       "0  NaN  NaN NaN NaN NaN NaN  \n",
       "1  NaN  NaN NaN NaN NaN NaN  \n",
       "2  NaN  NaN NaN NaN NaN NaN  \n",
       "3  NaN  NaN NaN NaN NaN NaN  \n",
       "4  1.0  1.0 NaN NaN NaN NaN  \n",
       "\n",
       "[5 rows x 34 columns]"
      ]
     },
     "execution_count": 48,
     "metadata": {},
     "output_type": "execute_result"
    }
   ],
   "source": [
    "df_mdb = get_mdb_data(MDB_XML_PATH)\n",
    "print(df_mdb.shape)\n",
    "df_mdb.head()"
   ]
  },
  {
   "cell_type": "code",
   "execution_count": 50,
   "id": "29b686c1-847a-4033-945b-d7cbb0d81bc0",
   "metadata": {},
   "outputs": [
    {
     "name": "stdout",
     "output_type": "stream",
     "text": [
      "(11627, 16)\n"
     ]
    },
    {
     "data": {
      "text/html": [
       "<div>\n",
       "<style scoped>\n",
       "    .dataframe tbody tr th:only-of-type {\n",
       "        vertical-align: middle;\n",
       "    }\n",
       "\n",
       "    .dataframe tbody tr th {\n",
       "        vertical-align: top;\n",
       "    }\n",
       "\n",
       "    .dataframe thead th {\n",
       "        text-align: right;\n",
       "    }\n",
       "</style>\n",
       "<table border=\"1\" class=\"dataframe\">\n",
       "  <thead>\n",
       "    <tr style=\"text-align: right;\">\n",
       "      <th></th>\n",
       "      <th>ID</th>\n",
       "      <th>NACHNAME</th>\n",
       "      <th>VORNAME</th>\n",
       "      <th>GEBURTSDATUM</th>\n",
       "      <th>GEBURTSORT</th>\n",
       "      <th>GEBURTSLAND</th>\n",
       "      <th>STERBEDATUM</th>\n",
       "      <th>GESCHLECHT</th>\n",
       "      <th>FAMILIENSTAND</th>\n",
       "      <th>RELIGION</th>\n",
       "      <th>BERUF</th>\n",
       "      <th>PARTEI_KURZ</th>\n",
       "      <th>VITA_KURZ</th>\n",
       "      <th>VEROEFFENTLICHUNGSPFLICHTIGES</th>\n",
       "      <th>ANZ_WAHLPERIODEN</th>\n",
       "      <th>WP</th>\n",
       "    </tr>\n",
       "  </thead>\n",
       "  <tbody>\n",
       "    <tr>\n",
       "      <th>0</th>\n",
       "      <td>11000001</td>\n",
       "      <td>Abelein</td>\n",
       "      <td>Manfred</td>\n",
       "      <td>20.10.1930</td>\n",
       "      <td>Stuttgart</td>\n",
       "      <td>None</td>\n",
       "      <td>17.01.2008</td>\n",
       "      <td>männlich</td>\n",
       "      <td>keine Angaben</td>\n",
       "      <td>katholisch</td>\n",
       "      <td>Rechtsanwalt, Wirtschaftsprüfer, Universitätsp...</td>\n",
       "      <td>CDU</td>\n",
       "      <td>None</td>\n",
       "      <td>None</td>\n",
       "      <td>7</td>\n",
       "      <td>11</td>\n",
       "    </tr>\n",
       "    <tr>\n",
       "      <th>1</th>\n",
       "      <td>11000001</td>\n",
       "      <td>Abelein</td>\n",
       "      <td>Manfred</td>\n",
       "      <td>20.10.1930</td>\n",
       "      <td>Stuttgart</td>\n",
       "      <td>None</td>\n",
       "      <td>17.01.2008</td>\n",
       "      <td>männlich</td>\n",
       "      <td>keine Angaben</td>\n",
       "      <td>katholisch</td>\n",
       "      <td>Rechtsanwalt, Wirtschaftsprüfer, Universitätsp...</td>\n",
       "      <td>CDU</td>\n",
       "      <td>None</td>\n",
       "      <td>None</td>\n",
       "      <td>7</td>\n",
       "      <td>11</td>\n",
       "    </tr>\n",
       "    <tr>\n",
       "      <th>2</th>\n",
       "      <td>11000001</td>\n",
       "      <td>Abelein</td>\n",
       "      <td>Manfred</td>\n",
       "      <td>20.10.1930</td>\n",
       "      <td>Stuttgart</td>\n",
       "      <td>None</td>\n",
       "      <td>17.01.2008</td>\n",
       "      <td>männlich</td>\n",
       "      <td>keine Angaben</td>\n",
       "      <td>katholisch</td>\n",
       "      <td>Rechtsanwalt, Wirtschaftsprüfer, Universitätsp...</td>\n",
       "      <td>CDU</td>\n",
       "      <td>None</td>\n",
       "      <td>None</td>\n",
       "      <td>7</td>\n",
       "      <td>11</td>\n",
       "    </tr>\n",
       "    <tr>\n",
       "      <th>3</th>\n",
       "      <td>11000001</td>\n",
       "      <td>Abelein</td>\n",
       "      <td>Manfred</td>\n",
       "      <td>20.10.1930</td>\n",
       "      <td>Stuttgart</td>\n",
       "      <td>None</td>\n",
       "      <td>17.01.2008</td>\n",
       "      <td>männlich</td>\n",
       "      <td>keine Angaben</td>\n",
       "      <td>katholisch</td>\n",
       "      <td>Rechtsanwalt, Wirtschaftsprüfer, Universitätsp...</td>\n",
       "      <td>CDU</td>\n",
       "      <td>None</td>\n",
       "      <td>None</td>\n",
       "      <td>7</td>\n",
       "      <td>11</td>\n",
       "    </tr>\n",
       "    <tr>\n",
       "      <th>4</th>\n",
       "      <td>11000001</td>\n",
       "      <td>Abelein</td>\n",
       "      <td>Manfred</td>\n",
       "      <td>20.10.1930</td>\n",
       "      <td>Stuttgart</td>\n",
       "      <td>None</td>\n",
       "      <td>17.01.2008</td>\n",
       "      <td>männlich</td>\n",
       "      <td>keine Angaben</td>\n",
       "      <td>katholisch</td>\n",
       "      <td>Rechtsanwalt, Wirtschaftsprüfer, Universitätsp...</td>\n",
       "      <td>CDU</td>\n",
       "      <td>None</td>\n",
       "      <td>None</td>\n",
       "      <td>7</td>\n",
       "      <td>11</td>\n",
       "    </tr>\n",
       "  </tbody>\n",
       "</table>\n",
       "</div>"
      ],
      "text/plain": [
       "         ID NACHNAME  VORNAME GEBURTSDATUM GEBURTSORT GEBURTSLAND STERBEDATUM  \\\n",
       "0  11000001  Abelein  Manfred   20.10.1930  Stuttgart        None  17.01.2008   \n",
       "1  11000001  Abelein  Manfred   20.10.1930  Stuttgart        None  17.01.2008   \n",
       "2  11000001  Abelein  Manfred   20.10.1930  Stuttgart        None  17.01.2008   \n",
       "3  11000001  Abelein  Manfred   20.10.1930  Stuttgart        None  17.01.2008   \n",
       "4  11000001  Abelein  Manfred   20.10.1930  Stuttgart        None  17.01.2008   \n",
       "\n",
       "  GESCHLECHT  FAMILIENSTAND    RELIGION  \\\n",
       "0   männlich  keine Angaben  katholisch   \n",
       "1   männlich  keine Angaben  katholisch   \n",
       "2   männlich  keine Angaben  katholisch   \n",
       "3   männlich  keine Angaben  katholisch   \n",
       "4   männlich  keine Angaben  katholisch   \n",
       "\n",
       "                                               BERUF PARTEI_KURZ VITA_KURZ  \\\n",
       "0  Rechtsanwalt, Wirtschaftsprüfer, Universitätsp...         CDU      None   \n",
       "1  Rechtsanwalt, Wirtschaftsprüfer, Universitätsp...         CDU      None   \n",
       "2  Rechtsanwalt, Wirtschaftsprüfer, Universitätsp...         CDU      None   \n",
       "3  Rechtsanwalt, Wirtschaftsprüfer, Universitätsp...         CDU      None   \n",
       "4  Rechtsanwalt, Wirtschaftsprüfer, Universitätsp...         CDU      None   \n",
       "\n",
       "  VEROEFFENTLICHUNGSPFLICHTIGES  ANZ_WAHLPERIODEN  WP  \n",
       "0                          None                 7  11  \n",
       "1                          None                 7  11  \n",
       "2                          None                 7  11  \n",
       "3                          None                 7  11  \n",
       "4                          None                 7  11  "
      ]
     },
     "execution_count": 50,
     "metadata": {},
     "output_type": "execute_result"
    }
   ],
   "source": [
    "df_mdb_wp = get_mdb_wp_data()\n",
    "print(df_mdb_wp.shape)\n",
    "df_mdb_wp.head()"
   ]
  },
  {
   "cell_type": "markdown",
   "id": "f0649f48-0e07-4233-ab60-77bbd5a44d96",
   "metadata": {},
   "source": [
    "# clean data"
   ]
  },
  {
   "cell_type": "code",
   "execution_count": 51,
   "id": "325d47ff-4860-4e05-a8eb-9c9412de50a1",
   "metadata": {},
   "outputs": [],
   "source": [
    "# ok, quite expected. some cleaning necessarry: 'BÜNDNIS 90/DIE GRÜNEN', 'DIE GRÜNEN/BÜNDNIS 90', 'GRÜNE'\n",
    "for grünen_alias in ['BÜNDNIS 90/DIE GRÜNEN', 'DIE GRÜNEN/BÜNDNIS 90', 'GRÜNE']:\n",
    "    df_mdb.replace(grünen_alias, 'DIE GRÜNEN', inplace=True)\n",
    "    df_mdb_wp.replace(grünen_alias, 'DIE GRÜNEN', inplace=True)"
   ]
  },
  {
   "cell_type": "markdown",
   "id": "9235e24c-7820-4d2c-95d9-cb111974cffc",
   "metadata": {},
   "source": [
    "# save as csv"
   ]
  },
  {
   "cell_type": "code",
   "execution_count": 54,
   "id": "b391fce5-2b33-4bdf-8f88-edb6aa19f532",
   "metadata": {},
   "outputs": [],
   "source": [
    "df_mdb.to_csv(DF_MDB_PATH, index=None)\n",
    "df_mdb_wp.to_csv(DF_MDB_WP_PATH, index=None)"
   ]
  },
  {
   "cell_type": "markdown",
   "id": "439eead9-6883-4edb-b1f4-f53c9a156f13",
   "metadata": {},
   "source": [
    "# read in data. exploratory data analysis"
   ]
  },
  {
   "cell_type": "code",
   "execution_count": 55,
   "id": "5d51940f-459e-4b79-8e25-c07ee7c7b58d",
   "metadata": {},
   "outputs": [],
   "source": [
    "df_mdb = pd.read_csv(DF_MDB_PATH, index_col=None)"
   ]
  },
  {
   "cell_type": "code",
   "execution_count": 56,
   "id": "46c8cb00-8f21-4ea9-9a75-1bada0985a70",
   "metadata": {},
   "outputs": [
    {
     "data": {
      "text/plain": [
       "Index(['ID', 'NACHNAME', 'VORNAME', 'GEBURTSDATUM', 'GEBURTSORT',\n",
       "       'GEBURTSLAND', 'STERBEDATUM', 'GESCHLECHT', 'FAMILIENSTAND', 'RELIGION',\n",
       "       'BERUF', 'PARTEI_KURZ', 'VITA_KURZ', 'VEROEFFENTLICHUNGSPFLICHTIGES',\n",
       "       'ANZ_WAHLPERIODEN', '5', '6', '7', '8', '9', '10', '11', '3', '4', '2',\n",
       "       '12', '13', '14', '15', '16', '1', '17', '18', '19'],\n",
       "      dtype='object')"
      ]
     },
     "execution_count": 56,
     "metadata": {},
     "output_type": "execute_result"
    }
   ],
   "source": [
    "df_mdb.columns"
   ]
  },
  {
   "cell_type": "code",
   "execution_count": 9,
   "id": "f911c372-4cfa-4cb4-b796-9d9e0ba3e447",
   "metadata": {},
   "outputs": [
    {
     "data": {
      "text/html": [
       "<div>\n",
       "<style scoped>\n",
       "    .dataframe tbody tr th:only-of-type {\n",
       "        vertical-align: middle;\n",
       "    }\n",
       "\n",
       "    .dataframe tbody tr th {\n",
       "        vertical-align: top;\n",
       "    }\n",
       "\n",
       "    .dataframe thead th {\n",
       "        text-align: right;\n",
       "    }\n",
       "</style>\n",
       "<table border=\"1\" class=\"dataframe\">\n",
       "  <thead>\n",
       "    <tr style=\"text-align: right;\">\n",
       "      <th></th>\n",
       "      <th>ID</th>\n",
       "      <th>NACHNAME</th>\n",
       "      <th>VORNAME</th>\n",
       "      <th>GEBURTSDATUM</th>\n",
       "      <th>GEBURTSORT</th>\n",
       "      <th>GEBURTSLAND</th>\n",
       "      <th>STERBEDATUM</th>\n",
       "      <th>GESCHLECHT</th>\n",
       "      <th>FAMILIENSTAND</th>\n",
       "      <th>RELIGION</th>\n",
       "      <th>...</th>\n",
       "      <th>2</th>\n",
       "      <th>12</th>\n",
       "      <th>13</th>\n",
       "      <th>14</th>\n",
       "      <th>15</th>\n",
       "      <th>16</th>\n",
       "      <th>1</th>\n",
       "      <th>17</th>\n",
       "      <th>18</th>\n",
       "      <th>19</th>\n",
       "    </tr>\n",
       "  </thead>\n",
       "  <tbody>\n",
       "    <tr>\n",
       "      <th>4084</th>\n",
       "      <td>11004958</td>\n",
       "      <td>Nölke</td>\n",
       "      <td>Matthias</td>\n",
       "      <td>08.01.1980</td>\n",
       "      <td>Kassel</td>\n",
       "      <td>NaN</td>\n",
       "      <td>NaN</td>\n",
       "      <td>männlich</td>\n",
       "      <td>ledig</td>\n",
       "      <td>konfessionslos</td>\n",
       "      <td>...</td>\n",
       "      <td>NaN</td>\n",
       "      <td>NaN</td>\n",
       "      <td>NaN</td>\n",
       "      <td>NaN</td>\n",
       "      <td>NaN</td>\n",
       "      <td>NaN</td>\n",
       "      <td>NaN</td>\n",
       "      <td>NaN</td>\n",
       "      <td>NaN</td>\n",
       "      <td>1.0</td>\n",
       "    </tr>\n",
       "    <tr>\n",
       "      <th>4085</th>\n",
       "      <td>11004959</td>\n",
       "      <td>Martin</td>\n",
       "      <td>Dorothee</td>\n",
       "      <td>21.01.1978</td>\n",
       "      <td>NaN</td>\n",
       "      <td>NaN</td>\n",
       "      <td>NaN</td>\n",
       "      <td>weiblich</td>\n",
       "      <td>NaN</td>\n",
       "      <td>NaN</td>\n",
       "      <td>...</td>\n",
       "      <td>NaN</td>\n",
       "      <td>NaN</td>\n",
       "      <td>NaN</td>\n",
       "      <td>NaN</td>\n",
       "      <td>NaN</td>\n",
       "      <td>NaN</td>\n",
       "      <td>NaN</td>\n",
       "      <td>NaN</td>\n",
       "      <td>NaN</td>\n",
       "      <td>1.0</td>\n",
       "    </tr>\n",
       "    <tr>\n",
       "      <th>4086</th>\n",
       "      <td>11004960</td>\n",
       "      <td>Wetzel</td>\n",
       "      <td>Wolfgang</td>\n",
       "      <td>11.05.1968</td>\n",
       "      <td>Schlema</td>\n",
       "      <td>NaN</td>\n",
       "      <td>NaN</td>\n",
       "      <td>männlich</td>\n",
       "      <td>verheiratet, 2 Kinder</td>\n",
       "      <td>römisch-katholisch</td>\n",
       "      <td>...</td>\n",
       "      <td>NaN</td>\n",
       "      <td>NaN</td>\n",
       "      <td>NaN</td>\n",
       "      <td>NaN</td>\n",
       "      <td>NaN</td>\n",
       "      <td>NaN</td>\n",
       "      <td>NaN</td>\n",
       "      <td>NaN</td>\n",
       "      <td>NaN</td>\n",
       "      <td>1.0</td>\n",
       "    </tr>\n",
       "    <tr>\n",
       "      <th>4087</th>\n",
       "      <td>11004961</td>\n",
       "      <td>Natterer</td>\n",
       "      <td>Christian</td>\n",
       "      <td>19.02.1981</td>\n",
       "      <td>Tettnang / Deutschland</td>\n",
       "      <td>NaN</td>\n",
       "      <td>NaN</td>\n",
       "      <td>männlich</td>\n",
       "      <td>verheiratet, 1 Kind</td>\n",
       "      <td>römisch-katholisch</td>\n",
       "      <td>...</td>\n",
       "      <td>NaN</td>\n",
       "      <td>NaN</td>\n",
       "      <td>NaN</td>\n",
       "      <td>NaN</td>\n",
       "      <td>NaN</td>\n",
       "      <td>NaN</td>\n",
       "      <td>NaN</td>\n",
       "      <td>NaN</td>\n",
       "      <td>NaN</td>\n",
       "      <td>1.0</td>\n",
       "    </tr>\n",
       "    <tr>\n",
       "      <th>4088</th>\n",
       "      <td>11004962</td>\n",
       "      <td>Dahmen</td>\n",
       "      <td>Janosch</td>\n",
       "      <td>06.09.1981</td>\n",
       "      <td>NaN</td>\n",
       "      <td>NaN</td>\n",
       "      <td>NaN</td>\n",
       "      <td>männlich</td>\n",
       "      <td>NaN</td>\n",
       "      <td>NaN</td>\n",
       "      <td>...</td>\n",
       "      <td>NaN</td>\n",
       "      <td>NaN</td>\n",
       "      <td>NaN</td>\n",
       "      <td>NaN</td>\n",
       "      <td>NaN</td>\n",
       "      <td>NaN</td>\n",
       "      <td>NaN</td>\n",
       "      <td>NaN</td>\n",
       "      <td>NaN</td>\n",
       "      <td>1.0</td>\n",
       "    </tr>\n",
       "  </tbody>\n",
       "</table>\n",
       "<p>5 rows × 34 columns</p>\n",
       "</div>"
      ],
      "text/plain": [
       "            ID  NACHNAME    VORNAME GEBURTSDATUM              GEBURTSORT  \\\n",
       "4084  11004958     Nölke   Matthias   08.01.1980                  Kassel   \n",
       "4085  11004959    Martin   Dorothee   21.01.1978                     NaN   \n",
       "4086  11004960    Wetzel   Wolfgang   11.05.1968                 Schlema   \n",
       "4087  11004961  Natterer  Christian   19.02.1981  Tettnang / Deutschland   \n",
       "4088  11004962    Dahmen    Janosch   06.09.1981                     NaN   \n",
       "\n",
       "     GEBURTSLAND STERBEDATUM GESCHLECHT          FAMILIENSTAND  \\\n",
       "4084         NaN         NaN   männlich                  ledig   \n",
       "4085         NaN         NaN   weiblich                    NaN   \n",
       "4086         NaN         NaN   männlich  verheiratet, 2 Kinder   \n",
       "4087         NaN         NaN   männlich    verheiratet, 1 Kind   \n",
       "4088         NaN         NaN   männlich                    NaN   \n",
       "\n",
       "                RELIGION  ...   2  12  13  14  15  16   1  17  18   19  \n",
       "4084      konfessionslos  ... NaN NaN NaN NaN NaN NaN NaN NaN NaN  1.0  \n",
       "4085                 NaN  ... NaN NaN NaN NaN NaN NaN NaN NaN NaN  1.0  \n",
       "4086  römisch-katholisch  ... NaN NaN NaN NaN NaN NaN NaN NaN NaN  1.0  \n",
       "4087  römisch-katholisch  ... NaN NaN NaN NaN NaN NaN NaN NaN NaN  1.0  \n",
       "4088                 NaN  ... NaN NaN NaN NaN NaN NaN NaN NaN NaN  1.0  \n",
       "\n",
       "[5 rows x 34 columns]"
      ]
     },
     "execution_count": 9,
     "metadata": {},
     "output_type": "execute_result"
    }
   ],
   "source": [
    "df_mdb.tail()"
   ]
  },
  {
   "cell_type": "code",
   "execution_count": null,
   "id": "f4d54d7c-24e6-4968-a67b-ac4ec883cb41",
   "metadata": {},
   "outputs": [],
   "source": []
  },
  {
   "cell_type": "code",
   "execution_count": 58,
   "id": "871e5dde-460b-4aed-a3c7-0ed7e61e45c7",
   "metadata": {},
   "outputs": [
    {
     "data": {
      "text/html": [
       "<div>\n",
       "<style scoped>\n",
       "    .dataframe tbody tr th:only-of-type {\n",
       "        vertical-align: middle;\n",
       "    }\n",
       "\n",
       "    .dataframe tbody tr th {\n",
       "        vertical-align: top;\n",
       "    }\n",
       "\n",
       "    .dataframe thead th {\n",
       "        text-align: right;\n",
       "    }\n",
       "</style>\n",
       "<table border=\"1\" class=\"dataframe\">\n",
       "  <thead>\n",
       "    <tr style=\"text-align: right;\">\n",
       "      <th></th>\n",
       "      <th>ID</th>\n",
       "    </tr>\n",
       "    <tr>\n",
       "      <th>PARTEI_KURZ</th>\n",
       "      <th></th>\n",
       "    </tr>\n",
       "  </thead>\n",
       "  <tbody>\n",
       "    <tr>\n",
       "      <th>SPD</th>\n",
       "      <td>4250</td>\n",
       "    </tr>\n",
       "    <tr>\n",
       "      <th>CDU</th>\n",
       "      <td>4150</td>\n",
       "    </tr>\n",
       "    <tr>\n",
       "      <th>FDP</th>\n",
       "      <td>1036</td>\n",
       "    </tr>\n",
       "    <tr>\n",
       "      <th>CSU</th>\n",
       "      <td>993</td>\n",
       "    </tr>\n",
       "    <tr>\n",
       "      <th>DIE GRÜNEN</th>\n",
       "      <td>536</td>\n",
       "    </tr>\n",
       "    <tr>\n",
       "      <th>DIE LINKE.</th>\n",
       "      <td>297</td>\n",
       "    </tr>\n",
       "    <tr>\n",
       "      <th>AfD</th>\n",
       "      <td>90</td>\n",
       "    </tr>\n",
       "    <tr>\n",
       "      <th>PDS</th>\n",
       "      <td>77</td>\n",
       "    </tr>\n",
       "    <tr>\n",
       "      <th>Plos</th>\n",
       "      <td>41</td>\n",
       "    </tr>\n",
       "    <tr>\n",
       "      <th>DP</th>\n",
       "      <td>37</td>\n",
       "    </tr>\n",
       "  </tbody>\n",
       "</table>\n",
       "</div>"
      ],
      "text/plain": [
       "               ID\n",
       "PARTEI_KURZ      \n",
       "SPD          4250\n",
       "CDU          4150\n",
       "FDP          1036\n",
       "CSU           993\n",
       "DIE GRÜNEN    536\n",
       "DIE LINKE.    297\n",
       "AfD            90\n",
       "PDS            77\n",
       "Plos           41\n",
       "DP             37"
      ]
     },
     "execution_count": 58,
     "metadata": {},
     "output_type": "execute_result"
    }
   ],
   "source": [
    "df_mdb_wp[['ID', 'PARTEI_KURZ']].groupby('PARTEI_KURZ').count().sort_values(by='ID', ascending=False).head(10)"
   ]
  },
  {
   "cell_type": "code",
   "execution_count": 59,
   "id": "7e008294-2e91-4438-a755-60e5f0cafdfa",
   "metadata": {},
   "outputs": [
    {
     "data": {
      "text/html": [
       "<div>\n",
       "<style scoped>\n",
       "    .dataframe tbody tr th:only-of-type {\n",
       "        vertical-align: middle;\n",
       "    }\n",
       "\n",
       "    .dataframe tbody tr th {\n",
       "        vertical-align: top;\n",
       "    }\n",
       "\n",
       "    .dataframe thead th {\n",
       "        text-align: right;\n",
       "    }\n",
       "</style>\n",
       "<table border=\"1\" class=\"dataframe\">\n",
       "  <thead>\n",
       "    <tr style=\"text-align: right;\">\n",
       "      <th></th>\n",
       "      <th>ID</th>\n",
       "    </tr>\n",
       "    <tr>\n",
       "      <th>GESCHLECHT</th>\n",
       "      <th></th>\n",
       "    </tr>\n",
       "  </thead>\n",
       "  <tbody>\n",
       "    <tr>\n",
       "      <th>männlich</th>\n",
       "      <td>9382</td>\n",
       "    </tr>\n",
       "    <tr>\n",
       "      <th>weiblich</th>\n",
       "      <td>2245</td>\n",
       "    </tr>\n",
       "  </tbody>\n",
       "</table>\n",
       "</div>"
      ],
      "text/plain": [
       "              ID\n",
       "GESCHLECHT      \n",
       "männlich    9382\n",
       "weiblich    2245"
      ]
     },
     "execution_count": 59,
     "metadata": {},
     "output_type": "execute_result"
    }
   ],
   "source": [
    "# wie - nur 2 Geschlechter? for the records: heute ist der 02.05.2021\n",
    "df_mdb_wp[['ID', 'GESCHLECHT']].groupby('GESCHLECHT').count().sort_values(by='ID', ascending=False).head()"
   ]
  },
  {
   "cell_type": "code",
   "execution_count": 60,
   "id": "11f946bf-fddb-4ea0-a7f3-3bd73ca0de43",
   "metadata": {},
   "outputs": [
    {
     "data": {
      "text/html": [
       "<div>\n",
       "<style scoped>\n",
       "    .dataframe tbody tr th:only-of-type {\n",
       "        vertical-align: middle;\n",
       "    }\n",
       "\n",
       "    .dataframe tbody tr th {\n",
       "        vertical-align: top;\n",
       "    }\n",
       "\n",
       "    .dataframe thead th {\n",
       "        text-align: right;\n",
       "    }\n",
       "</style>\n",
       "<table border=\"1\" class=\"dataframe\">\n",
       "  <thead>\n",
       "    <tr style=\"text-align: right;\">\n",
       "      <th></th>\n",
       "      <th>ID</th>\n",
       "    </tr>\n",
       "    <tr>\n",
       "      <th>RELIGION</th>\n",
       "      <th></th>\n",
       "    </tr>\n",
       "  </thead>\n",
       "  <tbody>\n",
       "    <tr>\n",
       "      <th>evangelisch</th>\n",
       "      <td>3406</td>\n",
       "    </tr>\n",
       "    <tr>\n",
       "      <th>ohne Angaben</th>\n",
       "      <td>3275</td>\n",
       "    </tr>\n",
       "    <tr>\n",
       "      <th>katholisch</th>\n",
       "      <td>2985</td>\n",
       "    </tr>\n",
       "    <tr>\n",
       "      <th>römisch-katholisch</th>\n",
       "      <td>831</td>\n",
       "    </tr>\n",
       "    <tr>\n",
       "      <th>evangelisch-lutherisch</th>\n",
       "      <td>366</td>\n",
       "    </tr>\n",
       "    <tr>\n",
       "      <th>konfessionslos</th>\n",
       "      <td>234</td>\n",
       "    </tr>\n",
       "    <tr>\n",
       "      <th>evangelisch-reformiert</th>\n",
       "      <td>34</td>\n",
       "    </tr>\n",
       "    <tr>\n",
       "      <th>Atheistin</th>\n",
       "      <td>12</td>\n",
       "    </tr>\n",
       "    <tr>\n",
       "      <th>Islam</th>\n",
       "      <td>9</td>\n",
       "    </tr>\n",
       "    <tr>\n",
       "      <th>religionslos</th>\n",
       "      <td>9</td>\n",
       "    </tr>\n",
       "    <tr>\n",
       "      <th>evangelisch-freikirchlich</th>\n",
       "      <td>9</td>\n",
       "    </tr>\n",
       "    <tr>\n",
       "      <th>freireligiös</th>\n",
       "      <td>8</td>\n",
       "    </tr>\n",
       "    <tr>\n",
       "      <th>muslimisch</th>\n",
       "      <td>7</td>\n",
       "    </tr>\n",
       "    <tr>\n",
       "      <th>Atheist</th>\n",
       "      <td>6</td>\n",
       "    </tr>\n",
       "    <tr>\n",
       "      <th>griechisch-orthodox</th>\n",
       "      <td>1</td>\n",
       "    </tr>\n",
       "    <tr>\n",
       "      <th>neuapostolisch</th>\n",
       "      <td>1</td>\n",
       "    </tr>\n",
       "  </tbody>\n",
       "</table>\n",
       "</div>"
      ],
      "text/plain": [
       "                             ID\n",
       "RELIGION                       \n",
       "evangelisch                3406\n",
       "ohne Angaben               3275\n",
       "katholisch                 2985\n",
       "römisch-katholisch          831\n",
       "evangelisch-lutherisch      366\n",
       "konfessionslos              234\n",
       "evangelisch-reformiert       34\n",
       "Atheistin                    12\n",
       "Islam                         9\n",
       "religionslos                  9\n",
       "evangelisch-freikirchlich     9\n",
       "freireligiös                  8\n",
       "muslimisch                    7\n",
       "Atheist                       6\n",
       "griechisch-orthodox           1\n",
       "neuapostolisch                1"
      ]
     },
     "execution_count": 60,
     "metadata": {},
     "output_type": "execute_result"
    }
   ],
   "source": [
    "# auch hier: such diversity. wow\n",
    "df_mdb_wp[['ID', 'RELIGION']].groupby('RELIGION').count().sort_values(by='ID', ascending=False).head(n=16)"
   ]
  },
  {
   "cell_type": "code",
   "execution_count": 62,
   "id": "dcdec27b-8443-497a-a739-8d4035969727",
   "metadata": {},
   "outputs": [
    {
     "data": {
      "text/html": [
       "<div>\n",
       "<style scoped>\n",
       "    .dataframe tbody tr th:only-of-type {\n",
       "        vertical-align: middle;\n",
       "    }\n",
       "\n",
       "    .dataframe tbody tr th {\n",
       "        vertical-align: top;\n",
       "    }\n",
       "\n",
       "    .dataframe thead th {\n",
       "        text-align: right;\n",
       "    }\n",
       "</style>\n",
       "<table border=\"1\" class=\"dataframe\">\n",
       "  <thead>\n",
       "    <tr style=\"text-align: right;\">\n",
       "      <th></th>\n",
       "      <th>ID</th>\n",
       "    </tr>\n",
       "    <tr>\n",
       "      <th>BERUF</th>\n",
       "      <th></th>\n",
       "    </tr>\n",
       "  </thead>\n",
       "  <tbody>\n",
       "    <tr>\n",
       "      <th>Rechtsanwalt</th>\n",
       "      <td>567</td>\n",
       "    </tr>\n",
       "    <tr>\n",
       "      <th>Geschäftsführer</th>\n",
       "      <td>223</td>\n",
       "    </tr>\n",
       "    <tr>\n",
       "      <th>Landwirt</th>\n",
       "      <td>212</td>\n",
       "    </tr>\n",
       "    <tr>\n",
       "      <th>Angestellter</th>\n",
       "      <td>190</td>\n",
       "    </tr>\n",
       "    <tr>\n",
       "      <th>Rechtsanwalt und Notar</th>\n",
       "      <td>126</td>\n",
       "    </tr>\n",
       "    <tr>\n",
       "      <th>Journalist</th>\n",
       "      <td>117</td>\n",
       "    </tr>\n",
       "    <tr>\n",
       "      <th>Dipl.-Ingenieur</th>\n",
       "      <td>109</td>\n",
       "    </tr>\n",
       "    <tr>\n",
       "      <th>Kaufmann</th>\n",
       "      <td>104</td>\n",
       "    </tr>\n",
       "    <tr>\n",
       "      <th>Jurist</th>\n",
       "      <td>102</td>\n",
       "    </tr>\n",
       "    <tr>\n",
       "      <th>Dipl.-Volkswirt</th>\n",
       "      <td>101</td>\n",
       "    </tr>\n",
       "    <tr>\n",
       "      <th>Hausfrau</th>\n",
       "      <td>100</td>\n",
       "    </tr>\n",
       "    <tr>\n",
       "      <th>Bundesminister a. D.</th>\n",
       "      <td>95</td>\n",
       "    </tr>\n",
       "    <tr>\n",
       "      <th>Gewerkschaftssekretär</th>\n",
       "      <td>94</td>\n",
       "    </tr>\n",
       "    <tr>\n",
       "      <th>Redakteur</th>\n",
       "      <td>76</td>\n",
       "    </tr>\n",
       "    <tr>\n",
       "      <th>Oberstudienrat a. D.</th>\n",
       "      <td>56</td>\n",
       "    </tr>\n",
       "    <tr>\n",
       "      <th>Rechtsanwältin</th>\n",
       "      <td>55</td>\n",
       "    </tr>\n",
       "  </tbody>\n",
       "</table>\n",
       "</div>"
      ],
      "text/plain": [
       "                         ID\n",
       "BERUF                      \n",
       "Rechtsanwalt            567\n",
       "Geschäftsführer         223\n",
       "Landwirt                212\n",
       "Angestellter            190\n",
       "Rechtsanwalt und Notar  126\n",
       "Journalist              117\n",
       "Dipl.-Ingenieur         109\n",
       "Kaufmann                104\n",
       "Jurist                  102\n",
       "Dipl.-Volkswirt         101\n",
       "Hausfrau                100\n",
       "Bundesminister a. D.     95\n",
       "Gewerkschaftssekretär    94\n",
       "Redakteur                76\n",
       "Oberstudienrat a. D.     56\n",
       "Rechtsanwältin           55"
      ]
     },
     "execution_count": 62,
     "metadata": {},
     "output_type": "execute_result"
    }
   ],
   "source": [
    "# jetzt wirds richtig vielseitig. so viele Busfahrer und Krankenschwestern!\n",
    "df_mdb_wp[['ID', 'BERUF']].groupby('BERUF').count().sort_values(by='ID', ascending=False).head(16).head(16)"
   ]
  },
  {
   "cell_type": "code",
   "execution_count": 63,
   "id": "96e26cb7-192d-4013-9317-f360b8b0f6ce",
   "metadata": {},
   "outputs": [
    {
     "data": {
      "text/html": [
       "<div>\n",
       "<style scoped>\n",
       "    .dataframe tbody tr th:only-of-type {\n",
       "        vertical-align: middle;\n",
       "    }\n",
       "\n",
       "    .dataframe tbody tr th {\n",
       "        vertical-align: top;\n",
       "    }\n",
       "\n",
       "    .dataframe thead th {\n",
       "        text-align: right;\n",
       "    }\n",
       "</style>\n",
       "<table border=\"1\" class=\"dataframe\">\n",
       "  <thead>\n",
       "    <tr style=\"text-align: right;\">\n",
       "      <th></th>\n",
       "      <th>ID</th>\n",
       "    </tr>\n",
       "    <tr>\n",
       "      <th>FAMILIENSTAND</th>\n",
       "      <th></th>\n",
       "    </tr>\n",
       "  </thead>\n",
       "  <tbody>\n",
       "    <tr>\n",
       "      <th>verheiratet, 2 Kinder</th>\n",
       "      <td>2726</td>\n",
       "    </tr>\n",
       "    <tr>\n",
       "      <th>verheiratet, 3 Kinder</th>\n",
       "      <td>1816</td>\n",
       "    </tr>\n",
       "    <tr>\n",
       "      <th>verheiratet</th>\n",
       "      <td>1720</td>\n",
       "    </tr>\n",
       "    <tr>\n",
       "      <th>verheiratet, 1 Kind</th>\n",
       "      <td>1365</td>\n",
       "    </tr>\n",
       "    <tr>\n",
       "      <th>keine Angaben</th>\n",
       "      <td>1043</td>\n",
       "    </tr>\n",
       "    <tr>\n",
       "      <th>verheiratet, 4 Kinder</th>\n",
       "      <td>891</td>\n",
       "    </tr>\n",
       "    <tr>\n",
       "      <th>ledig</th>\n",
       "      <td>424</td>\n",
       "    </tr>\n",
       "    <tr>\n",
       "      <th>verheiratet, 5 Kinder</th>\n",
       "      <td>329</td>\n",
       "    </tr>\n",
       "    <tr>\n",
       "      <th>verheiratet, 6 Kinder</th>\n",
       "      <td>178</td>\n",
       "    </tr>\n",
       "    <tr>\n",
       "      <th>2 Kinder</th>\n",
       "      <td>113</td>\n",
       "    </tr>\n",
       "    <tr>\n",
       "      <th>verwitwet, 2 Kinder</th>\n",
       "      <td>77</td>\n",
       "    </tr>\n",
       "    <tr>\n",
       "      <th>1 Kind</th>\n",
       "      <td>76</td>\n",
       "    </tr>\n",
       "    <tr>\n",
       "      <th>geschieden, 2 Kinder</th>\n",
       "      <td>71</td>\n",
       "    </tr>\n",
       "    <tr>\n",
       "      <th>geschieden, 1 Kind</th>\n",
       "      <td>69</td>\n",
       "    </tr>\n",
       "    <tr>\n",
       "      <th>verwitwet</th>\n",
       "      <td>63</td>\n",
       "    </tr>\n",
       "    <tr>\n",
       "      <th>3 Kinder</th>\n",
       "      <td>50</td>\n",
       "    </tr>\n",
       "  </tbody>\n",
       "</table>\n",
       "</div>"
      ],
      "text/plain": [
       "                         ID\n",
       "FAMILIENSTAND              \n",
       "verheiratet, 2 Kinder  2726\n",
       "verheiratet, 3 Kinder  1816\n",
       "verheiratet            1720\n",
       "verheiratet, 1 Kind    1365\n",
       "keine Angaben          1043\n",
       "verheiratet, 4 Kinder   891\n",
       "ledig                   424\n",
       "verheiratet, 5 Kinder   329\n",
       "verheiratet, 6 Kinder   178\n",
       "2 Kinder                113\n",
       "verwitwet, 2 Kinder      77\n",
       "1 Kind                   76\n",
       "geschieden, 2 Kinder     71\n",
       "geschieden, 1 Kind       69\n",
       "verwitwet                63\n",
       "3 Kinder                 50"
      ]
     },
     "execution_count": 63,
     "metadata": {},
     "output_type": "execute_result"
    }
   ],
   "source": [
    "# gehen sie weiter. hier gibt es kein Klischee zu erkennen!\n",
    "df_mdb_wp[['ID', 'FAMILIENSTAND']].groupby('FAMILIENSTAND').count().sort_values(by='ID', ascending=False).head(16)"
   ]
  },
  {
   "cell_type": "code",
   "execution_count": 143,
   "id": "215e8a01-b2f7-42ea-a115-233db2d60133",
   "metadata": {},
   "outputs": [
    {
     "data": {
      "text/html": [
       "<div>\n",
       "<style scoped>\n",
       "    .dataframe tbody tr th:only-of-type {\n",
       "        vertical-align: middle;\n",
       "    }\n",
       "\n",
       "    .dataframe tbody tr th {\n",
       "        vertical-align: top;\n",
       "    }\n",
       "\n",
       "    .dataframe thead th {\n",
       "        text-align: right;\n",
       "    }\n",
       "</style>\n",
       "<table border=\"1\" class=\"dataframe\">\n",
       "  <thead>\n",
       "    <tr style=\"text-align: right;\">\n",
       "      <th></th>\n",
       "      <th>ID</th>\n",
       "      <th>NACHNAME</th>\n",
       "      <th>VORNAME</th>\n",
       "      <th>GEBURTSDATUM</th>\n",
       "      <th>GEBURTSORT</th>\n",
       "      <th>GEBURTSLAND</th>\n",
       "      <th>STERBEDATUM</th>\n",
       "      <th>GESCHLECHT</th>\n",
       "      <th>FAMILIENSTAND</th>\n",
       "      <th>RELIGION</th>\n",
       "      <th>BERUF</th>\n",
       "      <th>PARTEI_KURZ</th>\n",
       "      <th>VITA_KURZ</th>\n",
       "      <th>VEROEFFENTLICHUNGSPFLICHTIGES</th>\n",
       "      <th>ANZ_WAHLPERIODEN</th>\n",
       "      <th>WP</th>\n",
       "    </tr>\n",
       "  </thead>\n",
       "  <tbody>\n",
       "    <tr>\n",
       "      <th>0</th>\n",
       "      <td>11000001</td>\n",
       "      <td>Abelein</td>\n",
       "      <td>Manfred</td>\n",
       "      <td>20.10.1930</td>\n",
       "      <td>Stuttgart</td>\n",
       "      <td>None</td>\n",
       "      <td>17.01.2008</td>\n",
       "      <td>männlich</td>\n",
       "      <td>keine Angaben</td>\n",
       "      <td>katholisch</td>\n",
       "      <td>Rechtsanwalt, Wirtschaftsprüfer, Universitätsp...</td>\n",
       "      <td>CDU</td>\n",
       "      <td>None</td>\n",
       "      <td>None</td>\n",
       "      <td>7</td>\n",
       "      <td>11</td>\n",
       "    </tr>\n",
       "    <tr>\n",
       "      <th>1</th>\n",
       "      <td>11000001</td>\n",
       "      <td>Abelein</td>\n",
       "      <td>Manfred</td>\n",
       "      <td>20.10.1930</td>\n",
       "      <td>Stuttgart</td>\n",
       "      <td>None</td>\n",
       "      <td>17.01.2008</td>\n",
       "      <td>männlich</td>\n",
       "      <td>keine Angaben</td>\n",
       "      <td>katholisch</td>\n",
       "      <td>Rechtsanwalt, Wirtschaftsprüfer, Universitätsp...</td>\n",
       "      <td>CDU</td>\n",
       "      <td>None</td>\n",
       "      <td>None</td>\n",
       "      <td>7</td>\n",
       "      <td>11</td>\n",
       "    </tr>\n",
       "    <tr>\n",
       "      <th>2</th>\n",
       "      <td>11000001</td>\n",
       "      <td>Abelein</td>\n",
       "      <td>Manfred</td>\n",
       "      <td>20.10.1930</td>\n",
       "      <td>Stuttgart</td>\n",
       "      <td>None</td>\n",
       "      <td>17.01.2008</td>\n",
       "      <td>männlich</td>\n",
       "      <td>keine Angaben</td>\n",
       "      <td>katholisch</td>\n",
       "      <td>Rechtsanwalt, Wirtschaftsprüfer, Universitätsp...</td>\n",
       "      <td>CDU</td>\n",
       "      <td>None</td>\n",
       "      <td>None</td>\n",
       "      <td>7</td>\n",
       "      <td>11</td>\n",
       "    </tr>\n",
       "    <tr>\n",
       "      <th>3</th>\n",
       "      <td>11000001</td>\n",
       "      <td>Abelein</td>\n",
       "      <td>Manfred</td>\n",
       "      <td>20.10.1930</td>\n",
       "      <td>Stuttgart</td>\n",
       "      <td>None</td>\n",
       "      <td>17.01.2008</td>\n",
       "      <td>männlich</td>\n",
       "      <td>keine Angaben</td>\n",
       "      <td>katholisch</td>\n",
       "      <td>Rechtsanwalt, Wirtschaftsprüfer, Universitätsp...</td>\n",
       "      <td>CDU</td>\n",
       "      <td>None</td>\n",
       "      <td>None</td>\n",
       "      <td>7</td>\n",
       "      <td>11</td>\n",
       "    </tr>\n",
       "    <tr>\n",
       "      <th>4</th>\n",
       "      <td>11000001</td>\n",
       "      <td>Abelein</td>\n",
       "      <td>Manfred</td>\n",
       "      <td>20.10.1930</td>\n",
       "      <td>Stuttgart</td>\n",
       "      <td>None</td>\n",
       "      <td>17.01.2008</td>\n",
       "      <td>männlich</td>\n",
       "      <td>keine Angaben</td>\n",
       "      <td>katholisch</td>\n",
       "      <td>Rechtsanwalt, Wirtschaftsprüfer, Universitätsp...</td>\n",
       "      <td>CDU</td>\n",
       "      <td>None</td>\n",
       "      <td>None</td>\n",
       "      <td>7</td>\n",
       "      <td>11</td>\n",
       "    </tr>\n",
       "  </tbody>\n",
       "</table>\n",
       "</div>"
      ],
      "text/plain": [
       "         ID NACHNAME  VORNAME GEBURTSDATUM GEBURTSORT GEBURTSLAND STERBEDATUM  \\\n",
       "0  11000001  Abelein  Manfred   20.10.1930  Stuttgart        None  17.01.2008   \n",
       "1  11000001  Abelein  Manfred   20.10.1930  Stuttgart        None  17.01.2008   \n",
       "2  11000001  Abelein  Manfred   20.10.1930  Stuttgart        None  17.01.2008   \n",
       "3  11000001  Abelein  Manfred   20.10.1930  Stuttgart        None  17.01.2008   \n",
       "4  11000001  Abelein  Manfred   20.10.1930  Stuttgart        None  17.01.2008   \n",
       "\n",
       "  GESCHLECHT  FAMILIENSTAND    RELIGION  \\\n",
       "0   männlich  keine Angaben  katholisch   \n",
       "1   männlich  keine Angaben  katholisch   \n",
       "2   männlich  keine Angaben  katholisch   \n",
       "3   männlich  keine Angaben  katholisch   \n",
       "4   männlich  keine Angaben  katholisch   \n",
       "\n",
       "                                               BERUF PARTEI_KURZ VITA_KURZ  \\\n",
       "0  Rechtsanwalt, Wirtschaftsprüfer, Universitätsp...         CDU      None   \n",
       "1  Rechtsanwalt, Wirtschaftsprüfer, Universitätsp...         CDU      None   \n",
       "2  Rechtsanwalt, Wirtschaftsprüfer, Universitätsp...         CDU      None   \n",
       "3  Rechtsanwalt, Wirtschaftsprüfer, Universitätsp...         CDU      None   \n",
       "4  Rechtsanwalt, Wirtschaftsprüfer, Universitätsp...         CDU      None   \n",
       "\n",
       "  VEROEFFENTLICHUNGSPFLICHTIGES  ANZ_WAHLPERIODEN  WP  \n",
       "0                          None                 7  11  \n",
       "1                          None                 7  11  \n",
       "2                          None                 7  11  \n",
       "3                          None                 7  11  \n",
       "4                          None                 7  11  "
      ]
     },
     "execution_count": 143,
     "metadata": {},
     "output_type": "execute_result"
    }
   ],
   "source": [
    "# deleteme\n",
    "start_date=1\n",
    "end_date=17\n",
    "#wps = range(start_date, end_date)\n",
    "#selected_df = pd.concat([df_mdb[df_mdb[str(i)] == 1] for i in range(start_date,end_date+1)]).drop_duplicates()# deleteme\n",
    "selected_df = df_mdb_wp[(df_mdb_wp['WP']>= start_date) & (df_mdb_wp['WP']<= end_date)]\n",
    "selected_df.head()"
   ]
  },
  {
   "cell_type": "code",
   "execution_count": null,
   "id": "60e096bf-3d4f-4526-8e49-ce2714ce5bf7",
   "metadata": {},
   "outputs": [],
   "source": []
  },
  {
   "cell_type": "code",
   "execution_count": 137,
   "id": "96d7f07d-2ad0-4b2a-a258-f33469373d79",
   "metadata": {},
   "outputs": [
    {
     "data": {
      "text/html": [
       "<div>\n",
       "<style scoped>\n",
       "    .dataframe tbody tr th:only-of-type {\n",
       "        vertical-align: middle;\n",
       "    }\n",
       "\n",
       "    .dataframe tbody tr th {\n",
       "        vertical-align: top;\n",
       "    }\n",
       "\n",
       "    .dataframe thead th {\n",
       "        text-align: right;\n",
       "    }\n",
       "</style>\n",
       "<table border=\"1\" class=\"dataframe\">\n",
       "  <thead>\n",
       "    <tr style=\"text-align: right;\">\n",
       "      <th></th>\n",
       "      <th></th>\n",
       "      <th>ID</th>\n",
       "    </tr>\n",
       "    <tr>\n",
       "      <th>GESCHLECHT</th>\n",
       "      <th>WP</th>\n",
       "      <th></th>\n",
       "    </tr>\n",
       "  </thead>\n",
       "  <tbody>\n",
       "    <tr>\n",
       "      <th rowspan=\"17\" valign=\"top\">männlich</th>\n",
       "      <th>1</th>\n",
       "      <td>190</td>\n",
       "    </tr>\n",
       "    <tr>\n",
       "      <th>2</th>\n",
       "      <td>255</td>\n",
       "    </tr>\n",
       "    <tr>\n",
       "      <th>3</th>\n",
       "      <td>280</td>\n",
       "    </tr>\n",
       "    <tr>\n",
       "      <th>4</th>\n",
       "      <td>443</td>\n",
       "    </tr>\n",
       "    <tr>\n",
       "      <th>5</th>\n",
       "      <td>513</td>\n",
       "    </tr>\n",
       "    <tr>\n",
       "      <th>6</th>\n",
       "      <td>514</td>\n",
       "    </tr>\n",
       "    <tr>\n",
       "      <th>7</th>\n",
       "      <td>395</td>\n",
       "    </tr>\n",
       "    <tr>\n",
       "      <th>8</th>\n",
       "      <td>520</td>\n",
       "    </tr>\n",
       "    <tr>\n",
       "      <th>9</th>\n",
       "      <td>305</td>\n",
       "    </tr>\n",
       "    <tr>\n",
       "      <th>10</th>\n",
       "      <td>457</td>\n",
       "    </tr>\n",
       "    <tr>\n",
       "      <th>11</th>\n",
       "      <td>641</td>\n",
       "    </tr>\n",
       "    <tr>\n",
       "      <th>12</th>\n",
       "      <td>681</td>\n",
       "    </tr>\n",
       "    <tr>\n",
       "      <th>13</th>\n",
       "      <td>522</td>\n",
       "    </tr>\n",
       "    <tr>\n",
       "      <th>14</th>\n",
       "      <td>622</td>\n",
       "    </tr>\n",
       "    <tr>\n",
       "      <th>15</th>\n",
       "      <td>350</td>\n",
       "    </tr>\n",
       "    <tr>\n",
       "      <th>16</th>\n",
       "      <td>494</td>\n",
       "    </tr>\n",
       "    <tr>\n",
       "      <th>17</th>\n",
       "      <td>520</td>\n",
       "    </tr>\n",
       "    <tr>\n",
       "      <th rowspan=\"17\" valign=\"top\">weiblich</th>\n",
       "      <th>1</th>\n",
       "      <td>14</td>\n",
       "    </tr>\n",
       "    <tr>\n",
       "      <th>2</th>\n",
       "      <td>21</td>\n",
       "    </tr>\n",
       "    <tr>\n",
       "      <th>3</th>\n",
       "      <td>31</td>\n",
       "    </tr>\n",
       "    <tr>\n",
       "      <th>4</th>\n",
       "      <td>44</td>\n",
       "    </tr>\n",
       "    <tr>\n",
       "      <th>5</th>\n",
       "      <td>64</td>\n",
       "    </tr>\n",
       "    <tr>\n",
       "      <th>6</th>\n",
       "      <td>65</td>\n",
       "    </tr>\n",
       "    <tr>\n",
       "      <th>7</th>\n",
       "      <td>21</td>\n",
       "    </tr>\n",
       "    <tr>\n",
       "      <th>8</th>\n",
       "      <td>32</td>\n",
       "    </tr>\n",
       "    <tr>\n",
       "      <th>9</th>\n",
       "      <td>19</td>\n",
       "    </tr>\n",
       "    <tr>\n",
       "      <th>10</th>\n",
       "      <td>35</td>\n",
       "    </tr>\n",
       "    <tr>\n",
       "      <th>11</th>\n",
       "      <td>111</td>\n",
       "    </tr>\n",
       "    <tr>\n",
       "      <th>12</th>\n",
       "      <td>81</td>\n",
       "    </tr>\n",
       "    <tr>\n",
       "      <th>13</th>\n",
       "      <td>90</td>\n",
       "    </tr>\n",
       "    <tr>\n",
       "      <th>14</th>\n",
       "      <td>200</td>\n",
       "    </tr>\n",
       "    <tr>\n",
       "      <th>15</th>\n",
       "      <td>160</td>\n",
       "    </tr>\n",
       "    <tr>\n",
       "      <th>16</th>\n",
       "      <td>183</td>\n",
       "    </tr>\n",
       "    <tr>\n",
       "      <th>17</th>\n",
       "      <td>221</td>\n",
       "    </tr>\n",
       "  </tbody>\n",
       "</table>\n",
       "</div>"
      ],
      "text/plain": [
       "                ID\n",
       "GESCHLECHT WP     \n",
       "männlich   1   190\n",
       "           2   255\n",
       "           3   280\n",
       "           4   443\n",
       "           5   513\n",
       "           6   514\n",
       "           7   395\n",
       "           8   520\n",
       "           9   305\n",
       "           10  457\n",
       "           11  641\n",
       "           12  681\n",
       "           13  522\n",
       "           14  622\n",
       "           15  350\n",
       "           16  494\n",
       "           17  520\n",
       "weiblich   1    14\n",
       "           2    21\n",
       "           3    31\n",
       "           4    44\n",
       "           5    64\n",
       "           6    65\n",
       "           7    21\n",
       "           8    32\n",
       "           9    19\n",
       "           10   35\n",
       "           11  111\n",
       "           12   81\n",
       "           13   90\n",
       "           14  200\n",
       "           15  160\n",
       "           16  183\n",
       "           17  221"
      ]
     },
     "execution_count": 137,
     "metadata": {},
     "output_type": "execute_result"
    }
   ],
   "source": [
    "# deleteme\n",
    "grouped = selected_df[['ID', 'WP', 'GESCHLECHT']].groupby(['GESCHLECHT', 'WP']).count()\n",
    "grouped"
   ]
  },
  {
   "cell_type": "code",
   "execution_count": null,
   "id": "ed6c4583-010c-4d70-94fc-f4fcd9a10be4",
   "metadata": {},
   "outputs": [],
   "source": []
  },
  {
   "cell_type": "code",
   "execution_count": 122,
   "id": "8a37b643-1c10-4611-a711-1902e9a96113",
   "metadata": {},
   "outputs": [
    {
     "data": {
      "text/html": [
       "<div>\n",
       "<style scoped>\n",
       "    .dataframe tbody tr th:only-of-type {\n",
       "        vertical-align: middle;\n",
       "    }\n",
       "\n",
       "    .dataframe tbody tr th {\n",
       "        vertical-align: top;\n",
       "    }\n",
       "\n",
       "    .dataframe thead th {\n",
       "        text-align: right;\n",
       "    }\n",
       "</style>\n",
       "<table border=\"1\" class=\"dataframe\">\n",
       "  <thead>\n",
       "    <tr style=\"text-align: right;\">\n",
       "      <th></th>\n",
       "      <th>GESCHLECHT</th>\n",
       "      <th>WP</th>\n",
       "      <th>ID</th>\n",
       "    </tr>\n",
       "  </thead>\n",
       "  <tbody>\n",
       "    <tr>\n",
       "      <th>0</th>\n",
       "      <td>männlich</td>\n",
       "      <td>2</td>\n",
       "      <td>255</td>\n",
       "    </tr>\n",
       "    <tr>\n",
       "      <th>1</th>\n",
       "      <td>männlich</td>\n",
       "      <td>3</td>\n",
       "      <td>280</td>\n",
       "    </tr>\n",
       "    <tr>\n",
       "      <th>2</th>\n",
       "      <td>männlich</td>\n",
       "      <td>4</td>\n",
       "      <td>443</td>\n",
       "    </tr>\n",
       "    <tr>\n",
       "      <th>3</th>\n",
       "      <td>männlich</td>\n",
       "      <td>5</td>\n",
       "      <td>513</td>\n",
       "    </tr>\n",
       "    <tr>\n",
       "      <th>4</th>\n",
       "      <td>männlich</td>\n",
       "      <td>6</td>\n",
       "      <td>514</td>\n",
       "    </tr>\n",
       "    <tr>\n",
       "      <th>5</th>\n",
       "      <td>männlich</td>\n",
       "      <td>7</td>\n",
       "      <td>395</td>\n",
       "    </tr>\n",
       "    <tr>\n",
       "      <th>6</th>\n",
       "      <td>weiblich</td>\n",
       "      <td>2</td>\n",
       "      <td>21</td>\n",
       "    </tr>\n",
       "    <tr>\n",
       "      <th>7</th>\n",
       "      <td>weiblich</td>\n",
       "      <td>3</td>\n",
       "      <td>31</td>\n",
       "    </tr>\n",
       "    <tr>\n",
       "      <th>8</th>\n",
       "      <td>weiblich</td>\n",
       "      <td>4</td>\n",
       "      <td>44</td>\n",
       "    </tr>\n",
       "    <tr>\n",
       "      <th>9</th>\n",
       "      <td>weiblich</td>\n",
       "      <td>5</td>\n",
       "      <td>64</td>\n",
       "    </tr>\n",
       "    <tr>\n",
       "      <th>10</th>\n",
       "      <td>weiblich</td>\n",
       "      <td>6</td>\n",
       "      <td>65</td>\n",
       "    </tr>\n",
       "    <tr>\n",
       "      <th>11</th>\n",
       "      <td>weiblich</td>\n",
       "      <td>7</td>\n",
       "      <td>21</td>\n",
       "    </tr>\n",
       "  </tbody>\n",
       "</table>\n",
       "</div>"
      ],
      "text/plain": [
       "   GESCHLECHT  WP   ID\n",
       "0    männlich   2  255\n",
       "1    männlich   3  280\n",
       "2    männlich   4  443\n",
       "3    männlich   5  513\n",
       "4    männlich   6  514\n",
       "5    männlich   7  395\n",
       "6    weiblich   2   21\n",
       "7    weiblich   3   31\n",
       "8    weiblich   4   44\n",
       "9    weiblich   5   64\n",
       "10   weiblich   6   65\n",
       "11   weiblich   7   21"
      ]
     },
     "execution_count": 122,
     "metadata": {},
     "output_type": "execute_result"
    }
   ],
   "source": [
    "grouped.reset_index(inplace=True)\n",
    "grouped"
   ]
  },
  {
   "cell_type": "code",
   "execution_count": 130,
   "id": "60ff22da-33ad-4712-acb7-04be089980f5",
   "metadata": {},
   "outputs": [
    {
     "data": {
      "text/plain": [
       "[array([255, 280, 443, 513, 514, 395]), array([21, 31, 44, 64, 65, 21])]"
      ]
     },
     "execution_count": 130,
     "metadata": {},
     "output_type": "execute_result"
    }
   ],
   "source": [
    "# deleteme\n",
    "wps = list(range(start_date, end_date +1))\n",
    "geschlechter = list(set(grouped.GESCHLECHT))\n",
    "traces_values = []\n",
    "\n",
    "for geschlecht in geschlechter:\n",
    "    trace = grouped[grouped['GESCHLECHT'] == geschlecht].sort_values(by='WP').ID.values\n",
    "    traces_values.append(trace)\n",
    "traces_values"
   ]
  },
  {
   "cell_type": "code",
   "execution_count": 135,
   "id": "ed92e8f0-d5b8-427b-969d-d14f98aa3f79",
   "metadata": {},
   "outputs": [
    {
     "name": "stdout",
     "output_type": "stream",
     "text": [
      "\n",
      " 3\n"
     ]
    }
   ],
   "source": [
    "print('\\n' , 3)"
   ]
  },
  {
   "cell_type": "code",
   "execution_count": 132,
   "id": "6afc01e9-3097-4b65-b6be-505cb09fe99d",
   "metadata": {},
   "outputs": [
    {
     "data": {
      "text/plain": [
       "[Bar({\n",
       "     'marker': {'color': '#0099ff'},\n",
       "     'name': 'männlich',\n",
       "     'x': [2, 3, 4, 5, 6, 7],\n",
       "     'xaxis': 'x2',\n",
       "     'y': array([255, 280, 443, 513, 514, 395]),\n",
       "     'yaxis': 'y2'\n",
       " }),\n",
       " Bar({\n",
       "     'marker': {'color': '#0099ff'},\n",
       "     'name': 'weiblich',\n",
       "     'x': [2, 3, 4, 5, 6, 7],\n",
       "     'xaxis': 'x2',\n",
       "     'y': array([21, 31, 44, 64, 65, 21]),\n",
       "     'yaxis': 'y2'\n",
       " })]"
      ]
     },
     "execution_count": 132,
     "metadata": {},
     "output_type": "execute_result"
    }
   ],
   "source": [
    "traces = [go.Bar(x=wps, y=trace, xaxis='x2', yaxis='y2',\n",
    "                marker=dict(color='#0099ff'),\n",
    "                name=f'{gender}') for trace, gender in zip(traces_values, geschlechter)]\n",
    "traces"
   ]
  },
  {
   "cell_type": "code",
   "execution_count": 133,
   "id": "38beb523-895c-4524-91e7-9efccfab8607",
   "metadata": {},
   "outputs": [],
   "source": [
    "myfigure = {'data': traces,\n",
    "        'layout': go.Layout(title = 'My plot',\n",
    "        xaxis = {'title' : 'WP', 'type': 'log'},\n",
    "        yaxis = {'title' : 'gender per WP'})}"
   ]
  },
  {
   "cell_type": "code",
   "execution_count": 119,
   "id": "e22195b3-674d-40d6-bba8-70ea829eb0be",
   "metadata": {},
   "outputs": [
    {
     "ename": "NameError",
     "evalue": "name 'dcc' is not defined",
     "output_type": "error",
     "traceback": [
      "\u001b[0;31m---------------------------------------------------------------------------\u001b[0m",
      "\u001b[0;31mNameError\u001b[0m                                 Traceback (most recent call last)",
      "\u001b[0;32m<ipython-input-119-4ddda5256959>\u001b[0m in \u001b[0;36m<module>\u001b[0;34m\u001b[0m\n\u001b[0;32m----> 1\u001b[0;31m \u001b[0mfig\u001b[0m \u001b[0;34m=\u001b[0m \u001b[0mdcc\u001b[0m\u001b[0;34m.\u001b[0m\u001b[0mFigure\u001b[0m\u001b[0;34m(\u001b[0m\u001b[0mmyfigure\u001b[0m\u001b[0;34m)\u001b[0m\u001b[0;34m\u001b[0m\u001b[0;34m\u001b[0m\u001b[0m\n\u001b[0m",
      "\u001b[0;31mNameError\u001b[0m: name 'dcc' is not defined"
     ]
    }
   ],
   "source": [
    "fig = dcc.Figure(myfigure)"
   ]
  },
  {
   "cell_type": "code",
   "execution_count": 113,
   "id": "0e2be33b-5224-4fa7-9fa0-04c6df797f0b",
   "metadata": {},
   "outputs": [
    {
     "data": {
      "application/vnd.plotly.v1+json": {
       "config": {
        "plotlyServerURL": "https://plot.ly"
       },
       "data": [
        {
         "marker": {
          "color": "#0099ff"
         },
         "name": "männlich",
         "type": "bar",
         "x": [
          "männlich",
          "weiblich"
         ],
         "xaxis": "x2",
         "y": [
          255,
          280,
          443
         ],
         "yaxis": "y2"
        },
        {
         "marker": {
          "color": "#0099ff"
         },
         "name": "weiblich",
         "type": "bar",
         "x": [
          "männlich",
          "weiblich"
         ],
         "xaxis": "x2",
         "y": [
          21,
          31,
          44
         ],
         "yaxis": "y2"
        }
       ],
       "layout": {
        "template": {
         "data": {
          "bar": [
           {
            "error_x": {
             "color": "#2a3f5f"
            },
            "error_y": {
             "color": "#2a3f5f"
            },
            "marker": {
             "line": {
              "color": "#E5ECF6",
              "width": 0.5
             }
            },
            "type": "bar"
           }
          ],
          "barpolar": [
           {
            "marker": {
             "line": {
              "color": "#E5ECF6",
              "width": 0.5
             }
            },
            "type": "barpolar"
           }
          ],
          "carpet": [
           {
            "aaxis": {
             "endlinecolor": "#2a3f5f",
             "gridcolor": "white",
             "linecolor": "white",
             "minorgridcolor": "white",
             "startlinecolor": "#2a3f5f"
            },
            "baxis": {
             "endlinecolor": "#2a3f5f",
             "gridcolor": "white",
             "linecolor": "white",
             "minorgridcolor": "white",
             "startlinecolor": "#2a3f5f"
            },
            "type": "carpet"
           }
          ],
          "choropleth": [
           {
            "colorbar": {
             "outlinewidth": 0,
             "ticks": ""
            },
            "type": "choropleth"
           }
          ],
          "contour": [
           {
            "colorbar": {
             "outlinewidth": 0,
             "ticks": ""
            },
            "colorscale": [
             [
              0,
              "#0d0887"
             ],
             [
              0.1111111111111111,
              "#46039f"
             ],
             [
              0.2222222222222222,
              "#7201a8"
             ],
             [
              0.3333333333333333,
              "#9c179e"
             ],
             [
              0.4444444444444444,
              "#bd3786"
             ],
             [
              0.5555555555555556,
              "#d8576b"
             ],
             [
              0.6666666666666666,
              "#ed7953"
             ],
             [
              0.7777777777777778,
              "#fb9f3a"
             ],
             [
              0.8888888888888888,
              "#fdca26"
             ],
             [
              1,
              "#f0f921"
             ]
            ],
            "type": "contour"
           }
          ],
          "contourcarpet": [
           {
            "colorbar": {
             "outlinewidth": 0,
             "ticks": ""
            },
            "type": "contourcarpet"
           }
          ],
          "heatmap": [
           {
            "colorbar": {
             "outlinewidth": 0,
             "ticks": ""
            },
            "colorscale": [
             [
              0,
              "#0d0887"
             ],
             [
              0.1111111111111111,
              "#46039f"
             ],
             [
              0.2222222222222222,
              "#7201a8"
             ],
             [
              0.3333333333333333,
              "#9c179e"
             ],
             [
              0.4444444444444444,
              "#bd3786"
             ],
             [
              0.5555555555555556,
              "#d8576b"
             ],
             [
              0.6666666666666666,
              "#ed7953"
             ],
             [
              0.7777777777777778,
              "#fb9f3a"
             ],
             [
              0.8888888888888888,
              "#fdca26"
             ],
             [
              1,
              "#f0f921"
             ]
            ],
            "type": "heatmap"
           }
          ],
          "heatmapgl": [
           {
            "colorbar": {
             "outlinewidth": 0,
             "ticks": ""
            },
            "colorscale": [
             [
              0,
              "#0d0887"
             ],
             [
              0.1111111111111111,
              "#46039f"
             ],
             [
              0.2222222222222222,
              "#7201a8"
             ],
             [
              0.3333333333333333,
              "#9c179e"
             ],
             [
              0.4444444444444444,
              "#bd3786"
             ],
             [
              0.5555555555555556,
              "#d8576b"
             ],
             [
              0.6666666666666666,
              "#ed7953"
             ],
             [
              0.7777777777777778,
              "#fb9f3a"
             ],
             [
              0.8888888888888888,
              "#fdca26"
             ],
             [
              1,
              "#f0f921"
             ]
            ],
            "type": "heatmapgl"
           }
          ],
          "histogram": [
           {
            "marker": {
             "colorbar": {
              "outlinewidth": 0,
              "ticks": ""
             }
            },
            "type": "histogram"
           }
          ],
          "histogram2d": [
           {
            "colorbar": {
             "outlinewidth": 0,
             "ticks": ""
            },
            "colorscale": [
             [
              0,
              "#0d0887"
             ],
             [
              0.1111111111111111,
              "#46039f"
             ],
             [
              0.2222222222222222,
              "#7201a8"
             ],
             [
              0.3333333333333333,
              "#9c179e"
             ],
             [
              0.4444444444444444,
              "#bd3786"
             ],
             [
              0.5555555555555556,
              "#d8576b"
             ],
             [
              0.6666666666666666,
              "#ed7953"
             ],
             [
              0.7777777777777778,
              "#fb9f3a"
             ],
             [
              0.8888888888888888,
              "#fdca26"
             ],
             [
              1,
              "#f0f921"
             ]
            ],
            "type": "histogram2d"
           }
          ],
          "histogram2dcontour": [
           {
            "colorbar": {
             "outlinewidth": 0,
             "ticks": ""
            },
            "colorscale": [
             [
              0,
              "#0d0887"
             ],
             [
              0.1111111111111111,
              "#46039f"
             ],
             [
              0.2222222222222222,
              "#7201a8"
             ],
             [
              0.3333333333333333,
              "#9c179e"
             ],
             [
              0.4444444444444444,
              "#bd3786"
             ],
             [
              0.5555555555555556,
              "#d8576b"
             ],
             [
              0.6666666666666666,
              "#ed7953"
             ],
             [
              0.7777777777777778,
              "#fb9f3a"
             ],
             [
              0.8888888888888888,
              "#fdca26"
             ],
             [
              1,
              "#f0f921"
             ]
            ],
            "type": "histogram2dcontour"
           }
          ],
          "mesh3d": [
           {
            "colorbar": {
             "outlinewidth": 0,
             "ticks": ""
            },
            "type": "mesh3d"
           }
          ],
          "parcoords": [
           {
            "line": {
             "colorbar": {
              "outlinewidth": 0,
              "ticks": ""
             }
            },
            "type": "parcoords"
           }
          ],
          "pie": [
           {
            "automargin": true,
            "type": "pie"
           }
          ],
          "scatter": [
           {
            "marker": {
             "colorbar": {
              "outlinewidth": 0,
              "ticks": ""
             }
            },
            "type": "scatter"
           }
          ],
          "scatter3d": [
           {
            "line": {
             "colorbar": {
              "outlinewidth": 0,
              "ticks": ""
             }
            },
            "marker": {
             "colorbar": {
              "outlinewidth": 0,
              "ticks": ""
             }
            },
            "type": "scatter3d"
           }
          ],
          "scattercarpet": [
           {
            "marker": {
             "colorbar": {
              "outlinewidth": 0,
              "ticks": ""
             }
            },
            "type": "scattercarpet"
           }
          ],
          "scattergeo": [
           {
            "marker": {
             "colorbar": {
              "outlinewidth": 0,
              "ticks": ""
             }
            },
            "type": "scattergeo"
           }
          ],
          "scattergl": [
           {
            "marker": {
             "colorbar": {
              "outlinewidth": 0,
              "ticks": ""
             }
            },
            "type": "scattergl"
           }
          ],
          "scattermapbox": [
           {
            "marker": {
             "colorbar": {
              "outlinewidth": 0,
              "ticks": ""
             }
            },
            "type": "scattermapbox"
           }
          ],
          "scatterpolar": [
           {
            "marker": {
             "colorbar": {
              "outlinewidth": 0,
              "ticks": ""
             }
            },
            "type": "scatterpolar"
           }
          ],
          "scatterpolargl": [
           {
            "marker": {
             "colorbar": {
              "outlinewidth": 0,
              "ticks": ""
             }
            },
            "type": "scatterpolargl"
           }
          ],
          "scatterternary": [
           {
            "marker": {
             "colorbar": {
              "outlinewidth": 0,
              "ticks": ""
             }
            },
            "type": "scatterternary"
           }
          ],
          "surface": [
           {
            "colorbar": {
             "outlinewidth": 0,
             "ticks": ""
            },
            "colorscale": [
             [
              0,
              "#0d0887"
             ],
             [
              0.1111111111111111,
              "#46039f"
             ],
             [
              0.2222222222222222,
              "#7201a8"
             ],
             [
              0.3333333333333333,
              "#9c179e"
             ],
             [
              0.4444444444444444,
              "#bd3786"
             ],
             [
              0.5555555555555556,
              "#d8576b"
             ],
             [
              0.6666666666666666,
              "#ed7953"
             ],
             [
              0.7777777777777778,
              "#fb9f3a"
             ],
             [
              0.8888888888888888,
              "#fdca26"
             ],
             [
              1,
              "#f0f921"
             ]
            ],
            "type": "surface"
           }
          ],
          "table": [
           {
            "cells": {
             "fill": {
              "color": "#EBF0F8"
             },
             "line": {
              "color": "white"
             }
            },
            "header": {
             "fill": {
              "color": "#C8D4E3"
             },
             "line": {
              "color": "white"
             }
            },
            "type": "table"
           }
          ]
         },
         "layout": {
          "annotationdefaults": {
           "arrowcolor": "#2a3f5f",
           "arrowhead": 0,
           "arrowwidth": 1
          },
          "autotypenumbers": "strict",
          "coloraxis": {
           "colorbar": {
            "outlinewidth": 0,
            "ticks": ""
           }
          },
          "colorscale": {
           "diverging": [
            [
             0,
             "#8e0152"
            ],
            [
             0.1,
             "#c51b7d"
            ],
            [
             0.2,
             "#de77ae"
            ],
            [
             0.3,
             "#f1b6da"
            ],
            [
             0.4,
             "#fde0ef"
            ],
            [
             0.5,
             "#f7f7f7"
            ],
            [
             0.6,
             "#e6f5d0"
            ],
            [
             0.7,
             "#b8e186"
            ],
            [
             0.8,
             "#7fbc41"
            ],
            [
             0.9,
             "#4d9221"
            ],
            [
             1,
             "#276419"
            ]
           ],
           "sequential": [
            [
             0,
             "#0d0887"
            ],
            [
             0.1111111111111111,
             "#46039f"
            ],
            [
             0.2222222222222222,
             "#7201a8"
            ],
            [
             0.3333333333333333,
             "#9c179e"
            ],
            [
             0.4444444444444444,
             "#bd3786"
            ],
            [
             0.5555555555555556,
             "#d8576b"
            ],
            [
             0.6666666666666666,
             "#ed7953"
            ],
            [
             0.7777777777777778,
             "#fb9f3a"
            ],
            [
             0.8888888888888888,
             "#fdca26"
            ],
            [
             1,
             "#f0f921"
            ]
           ],
           "sequentialminus": [
            [
             0,
             "#0d0887"
            ],
            [
             0.1111111111111111,
             "#46039f"
            ],
            [
             0.2222222222222222,
             "#7201a8"
            ],
            [
             0.3333333333333333,
             "#9c179e"
            ],
            [
             0.4444444444444444,
             "#bd3786"
            ],
            [
             0.5555555555555556,
             "#d8576b"
            ],
            [
             0.6666666666666666,
             "#ed7953"
            ],
            [
             0.7777777777777778,
             "#fb9f3a"
            ],
            [
             0.8888888888888888,
             "#fdca26"
            ],
            [
             1,
             "#f0f921"
            ]
           ]
          },
          "colorway": [
           "#636efa",
           "#EF553B",
           "#00cc96",
           "#ab63fa",
           "#FFA15A",
           "#19d3f3",
           "#FF6692",
           "#B6E880",
           "#FF97FF",
           "#FECB52"
          ],
          "font": {
           "color": "#2a3f5f"
          },
          "geo": {
           "bgcolor": "white",
           "lakecolor": "white",
           "landcolor": "#E5ECF6",
           "showlakes": true,
           "showland": true,
           "subunitcolor": "white"
          },
          "hoverlabel": {
           "align": "left"
          },
          "hovermode": "closest",
          "mapbox": {
           "style": "light"
          },
          "paper_bgcolor": "white",
          "plot_bgcolor": "#E5ECF6",
          "polar": {
           "angularaxis": {
            "gridcolor": "white",
            "linecolor": "white",
            "ticks": ""
           },
           "bgcolor": "#E5ECF6",
           "radialaxis": {
            "gridcolor": "white",
            "linecolor": "white",
            "ticks": ""
           }
          },
          "scene": {
           "xaxis": {
            "backgroundcolor": "#E5ECF6",
            "gridcolor": "white",
            "gridwidth": 2,
            "linecolor": "white",
            "showbackground": true,
            "ticks": "",
            "zerolinecolor": "white"
           },
           "yaxis": {
            "backgroundcolor": "#E5ECF6",
            "gridcolor": "white",
            "gridwidth": 2,
            "linecolor": "white",
            "showbackground": true,
            "ticks": "",
            "zerolinecolor": "white"
           },
           "zaxis": {
            "backgroundcolor": "#E5ECF6",
            "gridcolor": "white",
            "gridwidth": 2,
            "linecolor": "white",
            "showbackground": true,
            "ticks": "",
            "zerolinecolor": "white"
           }
          },
          "shapedefaults": {
           "line": {
            "color": "#2a3f5f"
           }
          },
          "ternary": {
           "aaxis": {
            "gridcolor": "white",
            "linecolor": "white",
            "ticks": ""
           },
           "baxis": {
            "gridcolor": "white",
            "linecolor": "white",
            "ticks": ""
           },
           "bgcolor": "#E5ECF6",
           "caxis": {
            "gridcolor": "white",
            "linecolor": "white",
            "ticks": ""
           }
          },
          "title": {
           "x": 0.05
          },
          "xaxis": {
           "automargin": true,
           "gridcolor": "white",
           "linecolor": "white",
           "ticks": "",
           "title": {
            "standoff": 15
           },
           "zerolinecolor": "white",
           "zerolinewidth": 2
          },
          "yaxis": {
           "automargin": true,
           "gridcolor": "white",
           "linecolor": "white",
           "ticks": "",
           "title": {
            "standoff": 15
           },
           "zerolinecolor": "white",
           "zerolinewidth": 2
          }
         }
        },
        "title": {
         "text": "gender"
        }
       }
      },
      "text/html": [
       "<div>                            <div id=\"406c60d0-bdad-47c2-acaf-099fe48c3e60\" class=\"plotly-graph-div\" style=\"height:525px; width:100%;\"></div>            <script type=\"text/javascript\">                require([\"plotly\"], function(Plotly) {                    window.PLOTLYENV=window.PLOTLYENV || {};                                    if (document.getElementById(\"406c60d0-bdad-47c2-acaf-099fe48c3e60\")) {                    Plotly.newPlot(                        \"406c60d0-bdad-47c2-acaf-099fe48c3e60\",                        [{\"marker\": {\"color\": \"#0099ff\"}, \"name\": \"m\\u00e4nnlich\", \"type\": \"bar\", \"x\": [\"m\\u00e4nnlich\", \"weiblich\"], \"xaxis\": \"x2\", \"y\": [255, 280, 443], \"yaxis\": \"y2\"}, {\"marker\": {\"color\": \"#0099ff\"}, \"name\": \"weiblich\", \"type\": \"bar\", \"x\": [\"m\\u00e4nnlich\", \"weiblich\"], \"xaxis\": \"x2\", \"y\": [21, 31, 44], \"yaxis\": \"y2\"}],                        {\"template\": {\"data\": {\"bar\": [{\"error_x\": {\"color\": \"#2a3f5f\"}, \"error_y\": {\"color\": \"#2a3f5f\"}, \"marker\": {\"line\": {\"color\": \"#E5ECF6\", \"width\": 0.5}}, \"type\": \"bar\"}], \"barpolar\": [{\"marker\": {\"line\": {\"color\": \"#E5ECF6\", \"width\": 0.5}}, \"type\": \"barpolar\"}], \"carpet\": [{\"aaxis\": {\"endlinecolor\": \"#2a3f5f\", \"gridcolor\": \"white\", \"linecolor\": \"white\", \"minorgridcolor\": \"white\", \"startlinecolor\": \"#2a3f5f\"}, \"baxis\": {\"endlinecolor\": \"#2a3f5f\", \"gridcolor\": \"white\", \"linecolor\": \"white\", \"minorgridcolor\": \"white\", \"startlinecolor\": \"#2a3f5f\"}, \"type\": \"carpet\"}], \"choropleth\": [{\"colorbar\": {\"outlinewidth\": 0, \"ticks\": \"\"}, \"type\": \"choropleth\"}], \"contour\": [{\"colorbar\": {\"outlinewidth\": 0, \"ticks\": \"\"}, \"colorscale\": [[0.0, \"#0d0887\"], [0.1111111111111111, \"#46039f\"], [0.2222222222222222, \"#7201a8\"], [0.3333333333333333, \"#9c179e\"], [0.4444444444444444, \"#bd3786\"], [0.5555555555555556, \"#d8576b\"], [0.6666666666666666, \"#ed7953\"], [0.7777777777777778, \"#fb9f3a\"], [0.8888888888888888, \"#fdca26\"], [1.0, \"#f0f921\"]], \"type\": \"contour\"}], \"contourcarpet\": [{\"colorbar\": {\"outlinewidth\": 0, \"ticks\": \"\"}, \"type\": \"contourcarpet\"}], \"heatmap\": [{\"colorbar\": {\"outlinewidth\": 0, \"ticks\": \"\"}, \"colorscale\": [[0.0, \"#0d0887\"], [0.1111111111111111, \"#46039f\"], [0.2222222222222222, \"#7201a8\"], [0.3333333333333333, \"#9c179e\"], [0.4444444444444444, \"#bd3786\"], [0.5555555555555556, \"#d8576b\"], [0.6666666666666666, \"#ed7953\"], [0.7777777777777778, \"#fb9f3a\"], [0.8888888888888888, \"#fdca26\"], [1.0, \"#f0f921\"]], \"type\": \"heatmap\"}], \"heatmapgl\": [{\"colorbar\": {\"outlinewidth\": 0, \"ticks\": \"\"}, \"colorscale\": [[0.0, \"#0d0887\"], [0.1111111111111111, \"#46039f\"], [0.2222222222222222, \"#7201a8\"], [0.3333333333333333, \"#9c179e\"], [0.4444444444444444, \"#bd3786\"], [0.5555555555555556, \"#d8576b\"], [0.6666666666666666, \"#ed7953\"], [0.7777777777777778, \"#fb9f3a\"], [0.8888888888888888, \"#fdca26\"], [1.0, \"#f0f921\"]], \"type\": \"heatmapgl\"}], \"histogram\": [{\"marker\": {\"colorbar\": {\"outlinewidth\": 0, \"ticks\": \"\"}}, \"type\": \"histogram\"}], \"histogram2d\": [{\"colorbar\": {\"outlinewidth\": 0, \"ticks\": \"\"}, \"colorscale\": [[0.0, \"#0d0887\"], [0.1111111111111111, \"#46039f\"], [0.2222222222222222, \"#7201a8\"], [0.3333333333333333, \"#9c179e\"], [0.4444444444444444, \"#bd3786\"], [0.5555555555555556, \"#d8576b\"], [0.6666666666666666, \"#ed7953\"], [0.7777777777777778, \"#fb9f3a\"], [0.8888888888888888, \"#fdca26\"], [1.0, \"#f0f921\"]], \"type\": \"histogram2d\"}], \"histogram2dcontour\": [{\"colorbar\": {\"outlinewidth\": 0, \"ticks\": \"\"}, \"colorscale\": [[0.0, \"#0d0887\"], [0.1111111111111111, \"#46039f\"], [0.2222222222222222, \"#7201a8\"], [0.3333333333333333, \"#9c179e\"], [0.4444444444444444, \"#bd3786\"], [0.5555555555555556, \"#d8576b\"], [0.6666666666666666, \"#ed7953\"], [0.7777777777777778, \"#fb9f3a\"], [0.8888888888888888, \"#fdca26\"], [1.0, \"#f0f921\"]], \"type\": \"histogram2dcontour\"}], \"mesh3d\": [{\"colorbar\": {\"outlinewidth\": 0, \"ticks\": \"\"}, \"type\": \"mesh3d\"}], \"parcoords\": [{\"line\": {\"colorbar\": {\"outlinewidth\": 0, \"ticks\": \"\"}}, \"type\": \"parcoords\"}], \"pie\": [{\"automargin\": true, \"type\": \"pie\"}], \"scatter\": [{\"marker\": {\"colorbar\": {\"outlinewidth\": 0, \"ticks\": \"\"}}, \"type\": \"scatter\"}], \"scatter3d\": [{\"line\": {\"colorbar\": {\"outlinewidth\": 0, \"ticks\": \"\"}}, \"marker\": {\"colorbar\": {\"outlinewidth\": 0, \"ticks\": \"\"}}, \"type\": \"scatter3d\"}], \"scattercarpet\": [{\"marker\": {\"colorbar\": {\"outlinewidth\": 0, \"ticks\": \"\"}}, \"type\": \"scattercarpet\"}], \"scattergeo\": [{\"marker\": {\"colorbar\": {\"outlinewidth\": 0, \"ticks\": \"\"}}, \"type\": \"scattergeo\"}], \"scattergl\": [{\"marker\": {\"colorbar\": {\"outlinewidth\": 0, \"ticks\": \"\"}}, \"type\": \"scattergl\"}], \"scattermapbox\": [{\"marker\": {\"colorbar\": {\"outlinewidth\": 0, \"ticks\": \"\"}}, \"type\": \"scattermapbox\"}], \"scatterpolar\": [{\"marker\": {\"colorbar\": {\"outlinewidth\": 0, \"ticks\": \"\"}}, \"type\": \"scatterpolar\"}], \"scatterpolargl\": [{\"marker\": {\"colorbar\": {\"outlinewidth\": 0, \"ticks\": \"\"}}, \"type\": \"scatterpolargl\"}], \"scatterternary\": [{\"marker\": {\"colorbar\": {\"outlinewidth\": 0, \"ticks\": \"\"}}, \"type\": \"scatterternary\"}], \"surface\": [{\"colorbar\": {\"outlinewidth\": 0, \"ticks\": \"\"}, \"colorscale\": [[0.0, \"#0d0887\"], [0.1111111111111111, \"#46039f\"], [0.2222222222222222, \"#7201a8\"], [0.3333333333333333, \"#9c179e\"], [0.4444444444444444, \"#bd3786\"], [0.5555555555555556, \"#d8576b\"], [0.6666666666666666, \"#ed7953\"], [0.7777777777777778, \"#fb9f3a\"], [0.8888888888888888, \"#fdca26\"], [1.0, \"#f0f921\"]], \"type\": \"surface\"}], \"table\": [{\"cells\": {\"fill\": {\"color\": \"#EBF0F8\"}, \"line\": {\"color\": \"white\"}}, \"header\": {\"fill\": {\"color\": \"#C8D4E3\"}, \"line\": {\"color\": \"white\"}}, \"type\": \"table\"}]}, \"layout\": {\"annotationdefaults\": {\"arrowcolor\": \"#2a3f5f\", \"arrowhead\": 0, \"arrowwidth\": 1}, \"autotypenumbers\": \"strict\", \"coloraxis\": {\"colorbar\": {\"outlinewidth\": 0, \"ticks\": \"\"}}, \"colorscale\": {\"diverging\": [[0, \"#8e0152\"], [0.1, \"#c51b7d\"], [0.2, \"#de77ae\"], [0.3, \"#f1b6da\"], [0.4, \"#fde0ef\"], [0.5, \"#f7f7f7\"], [0.6, \"#e6f5d0\"], [0.7, \"#b8e186\"], [0.8, \"#7fbc41\"], [0.9, \"#4d9221\"], [1, \"#276419\"]], \"sequential\": [[0.0, \"#0d0887\"], [0.1111111111111111, \"#46039f\"], [0.2222222222222222, \"#7201a8\"], [0.3333333333333333, \"#9c179e\"], [0.4444444444444444, \"#bd3786\"], [0.5555555555555556, \"#d8576b\"], [0.6666666666666666, \"#ed7953\"], [0.7777777777777778, \"#fb9f3a\"], [0.8888888888888888, \"#fdca26\"], [1.0, \"#f0f921\"]], \"sequentialminus\": [[0.0, \"#0d0887\"], [0.1111111111111111, \"#46039f\"], [0.2222222222222222, \"#7201a8\"], [0.3333333333333333, \"#9c179e\"], [0.4444444444444444, \"#bd3786\"], [0.5555555555555556, \"#d8576b\"], [0.6666666666666666, \"#ed7953\"], [0.7777777777777778, \"#fb9f3a\"], [0.8888888888888888, \"#fdca26\"], [1.0, \"#f0f921\"]]}, \"colorway\": [\"#636efa\", \"#EF553B\", \"#00cc96\", \"#ab63fa\", \"#FFA15A\", \"#19d3f3\", \"#FF6692\", \"#B6E880\", \"#FF97FF\", \"#FECB52\"], \"font\": {\"color\": \"#2a3f5f\"}, \"geo\": {\"bgcolor\": \"white\", \"lakecolor\": \"white\", \"landcolor\": \"#E5ECF6\", \"showlakes\": true, \"showland\": true, \"subunitcolor\": \"white\"}, \"hoverlabel\": {\"align\": \"left\"}, \"hovermode\": \"closest\", \"mapbox\": {\"style\": \"light\"}, \"paper_bgcolor\": \"white\", \"plot_bgcolor\": \"#E5ECF6\", \"polar\": {\"angularaxis\": {\"gridcolor\": \"white\", \"linecolor\": \"white\", \"ticks\": \"\"}, \"bgcolor\": \"#E5ECF6\", \"radialaxis\": {\"gridcolor\": \"white\", \"linecolor\": \"white\", \"ticks\": \"\"}}, \"scene\": {\"xaxis\": {\"backgroundcolor\": \"#E5ECF6\", \"gridcolor\": \"white\", \"gridwidth\": 2, \"linecolor\": \"white\", \"showbackground\": true, \"ticks\": \"\", \"zerolinecolor\": \"white\"}, \"yaxis\": {\"backgroundcolor\": \"#E5ECF6\", \"gridcolor\": \"white\", \"gridwidth\": 2, \"linecolor\": \"white\", \"showbackground\": true, \"ticks\": \"\", \"zerolinecolor\": \"white\"}, \"zaxis\": {\"backgroundcolor\": \"#E5ECF6\", \"gridcolor\": \"white\", \"gridwidth\": 2, \"linecolor\": \"white\", \"showbackground\": true, \"ticks\": \"\", \"zerolinecolor\": \"white\"}}, \"shapedefaults\": {\"line\": {\"color\": \"#2a3f5f\"}}, \"ternary\": {\"aaxis\": {\"gridcolor\": \"white\", \"linecolor\": \"white\", \"ticks\": \"\"}, \"baxis\": {\"gridcolor\": \"white\", \"linecolor\": \"white\", \"ticks\": \"\"}, \"bgcolor\": \"#E5ECF6\", \"caxis\": {\"gridcolor\": \"white\", \"linecolor\": \"white\", \"ticks\": \"\"}}, \"title\": {\"x\": 0.05}, \"xaxis\": {\"automargin\": true, \"gridcolor\": \"white\", \"linecolor\": \"white\", \"ticks\": \"\", \"title\": {\"standoff\": 15}, \"zerolinecolor\": \"white\", \"zerolinewidth\": 2}, \"yaxis\": {\"automargin\": true, \"gridcolor\": \"white\", \"linecolor\": \"white\", \"ticks\": \"\", \"title\": {\"standoff\": 15}, \"zerolinecolor\": \"white\", \"zerolinewidth\": 2}}}, \"title\": {\"text\": \"gender\"}},                        {\"responsive\": true}                    ).then(function(){\n",
       "                            \n",
       "var gd = document.getElementById('406c60d0-bdad-47c2-acaf-099fe48c3e60');\n",
       "var x = new MutationObserver(function (mutations, observer) {{\n",
       "        var display = window.getComputedStyle(gd).display;\n",
       "        if (!display || display === 'none') {{\n",
       "            console.log([gd, 'removed!']);\n",
       "            Plotly.purge(gd);\n",
       "            observer.disconnect();\n",
       "        }}\n",
       "}});\n",
       "\n",
       "// Listen for the removal of the full notebook cells\n",
       "var notebookContainer = gd.closest('#notebook-container');\n",
       "if (notebookContainer) {{\n",
       "    x.observe(notebookContainer, {childList: true});\n",
       "}}\n",
       "\n",
       "// Listen for the clearing of the current output cell\n",
       "var outputEl = gd.closest('.output');\n",
       "if (outputEl) {{\n",
       "    x.observe(outputEl, {childList: true});\n",
       "}}\n",
       "\n",
       "                        })                };                });            </script>        </div>"
      ]
     },
     "metadata": {},
     "output_type": "display_data"
    }
   ],
   "source": [
    "#import plotly.figure_factory as ff\n",
    "# does not work / does not show\n",
    "fig = go.Figure()\n",
    "fig.add_traces(traces)\n",
    "fig.layout.update({'title': 'gender'})\n",
    "fig.show()"
   ]
  },
  {
   "cell_type": "code",
   "execution_count": 18,
   "id": "f7e888bd-5f25-47a0-9453-ba4bf964b00d",
   "metadata": {},
   "outputs": [
    {
     "data": {
      "text/plain": [
       "[{'NACHNAME': 'Ackermann',\n",
       "  'VORNAME': 'Annemarie',\n",
       "  'GEBURTSDATUM': '26.05.1913',\n",
       "  'PARTEI_KURZ': 'CDU',\n",
       "  'GESCHLECHT': 'weiblich',\n",
       "  'FAMILIENSTAND': 'verheiratet, 5 Kinder',\n",
       "  'RELIGION': 'katholisch',\n",
       "  'BERUF': 'Hilfsreferentin',\n",
       "  'VITA_KURZ': nan},\n",
       " {'NACHNAME': 'Adenauer',\n",
       "  'VORNAME': 'Konrad',\n",
       "  'GEBURTSDATUM': '05.01.1876',\n",
       "  'PARTEI_KURZ': 'CDU',\n",
       "  'GESCHLECHT': 'männlich',\n",
       "  'FAMILIENSTAND': 'keine Angaben',\n",
       "  'RELIGION': 'katholisch',\n",
       "  'BERUF': 'Bundeskanzler a. D.',\n",
       "  'VITA_KURZ': nan},\n",
       " {'NACHNAME': 'Albers',\n",
       "  'VORNAME': 'Johannes',\n",
       "  'GEBURTSDATUM': '08.03.1890',\n",
       "  'PARTEI_KURZ': 'CDU',\n",
       "  'GESCHLECHT': 'männlich',\n",
       "  'FAMILIENSTAND': 'keine Angaben',\n",
       "  'RELIGION': 'katholisch',\n",
       "  'BERUF': 'Geschäftsführer',\n",
       "  'VITA_KURZ': nan},\n",
       " {'NACHNAME': 'Albertz',\n",
       "  'VORNAME': 'Luise',\n",
       "  'GEBURTSDATUM': '22.06.1901',\n",
       "  'PARTEI_KURZ': 'SPD',\n",
       "  'GESCHLECHT': 'weiblich',\n",
       "  'FAMILIENSTAND': 'keine Angaben',\n",
       "  'RELIGION': 'ohne Angaben',\n",
       "  'BERUF': 'Buchhalterin',\n",
       "  'VITA_KURZ': nan}]"
      ]
     },
     "execution_count": 18,
     "metadata": {},
     "output_type": "execute_result"
    }
   ],
   "source": [
    "# deleteme\n",
    "page_current = 0\n",
    "page_size = 4\n",
    "COLUMNS_FOR_DISPLAY = ['NACHNAME', 'VORNAME', 'GEBURTSDATUM', 'PARTEI_KURZ', 'GESCHLECHT', 'FAMILIENSTAND', 'RELIGION', 'BERUF', 'VITA_KURZ']\n",
    "    \n",
    "selected_df.iloc[\n",
    "        page_current*page_size:(page_current+ 1)*page_size\n",
    "    ][COLUMNS_FOR_DISPLAY].to_dict('records')"
   ]
  },
  {
   "cell_type": "code",
   "execution_count": 29,
   "id": "5833223f-e19f-4981-a4c7-b26c7ab29d35",
   "metadata": {},
   "outputs": [
    {
     "data": {
      "text/plain": [
       "Histogram({\n",
       "    'histfunc': 'count',\n",
       "    'x': array(['weiblich', 'männlich', 'männlich', ..., 'männlich', 'weiblich',\n",
       "                'männlich'], dtype=object)\n",
       "})"
      ]
     },
     "execution_count": 29,
     "metadata": {},
     "output_type": "execute_result"
    }
   ],
   "source": [
    "# deleteme\n",
    "#! pip3 install plotly\n",
    "from plotly import graph_objs as go\n",
    "fig = go.Figure()\n",
    "hist = go.Histogram(histfunc=\"count\",  x=selected_df['GESCHLECHT'])\n",
    "hist"
   ]
  },
  {
   "cell_type": "code",
   "execution_count": 32,
   "id": "41af1265-0e64-4e5d-981f-55c10e29ed33",
   "metadata": {},
   "outputs": [
    {
     "data": {
      "text/html": [
       "<div>\n",
       "<style scoped>\n",
       "    .dataframe tbody tr th:only-of-type {\n",
       "        vertical-align: middle;\n",
       "    }\n",
       "\n",
       "    .dataframe tbody tr th {\n",
       "        vertical-align: top;\n",
       "    }\n",
       "\n",
       "    .dataframe thead th {\n",
       "        text-align: right;\n",
       "    }\n",
       "</style>\n",
       "<table border=\"1\" class=\"dataframe\">\n",
       "  <thead>\n",
       "    <tr style=\"text-align: right;\">\n",
       "      <th></th>\n",
       "      <th>ID</th>\n",
       "    </tr>\n",
       "    <tr>\n",
       "      <th>GESCHLECHT</th>\n",
       "      <th></th>\n",
       "    </tr>\n",
       "  </thead>\n",
       "  <tbody>\n",
       "    <tr>\n",
       "      <th>männlich</th>\n",
       "      <td>625</td>\n",
       "    </tr>\n",
       "    <tr>\n",
       "      <th>weiblich</th>\n",
       "      <td>66</td>\n",
       "    </tr>\n",
       "  </tbody>\n",
       "</table>\n",
       "</div>"
      ],
      "text/plain": [
       "             ID\n",
       "GESCHLECHT     \n",
       "männlich    625\n",
       "weiblich     66"
      ]
     },
     "execution_count": 32,
     "metadata": {},
     "output_type": "execute_result"
    }
   ],
   "source": [
    "# deleteme\n",
    "selected_df[['ID', 'GESCHLECHT', ]].groupby('GESCHLECHT').count().sort_values(by='ID', ascending=False).head(16)"
   ]
  },
  {
   "cell_type": "code",
   "execution_count": 39,
   "id": "47c9d701-fb03-4be1-8c38-f8a8d77007aa",
   "metadata": {},
   "outputs": [
    {
     "data": {
      "text/plain": [
       "Index(['ID', 'NACHNAME', 'VORNAME', 'GEBURTSDATUM', 'GEBURTSORT',\n",
       "       'GEBURTSLAND', 'STERBEDATUM', 'GESCHLECHT', 'FAMILIENSTAND', 'RELIGION',\n",
       "       'BERUF', 'PARTEI_KURZ', 'VITA_KURZ', 'VEROEFFENTLICHUNGSPFLICHTIGES',\n",
       "       'ANZ_WAHLPERIODEN'],\n",
       "      dtype='object')"
      ]
     },
     "execution_count": 39,
     "metadata": {},
     "output_type": "execute_result"
    }
   ],
   "source": [
    "# deleteme\n",
    "columns_to_keep = selected_df.columns[:15]\n",
    "list_of_entries = []\n",
    "for row in selected_df:\n",
    "    \n",
    "columns_to_keep"
   ]
  },
  {
   "cell_type": "code",
   "execution_count": null,
   "id": "49a500ea-dfec-496f-86dd-25504a9d3580",
   "metadata": {},
   "outputs": [],
   "source": []
  }
 ],
 "metadata": {
  "kernelspec": {
   "display_name": "Python 3",
   "language": "python",
   "name": "python3"
  },
  "language_info": {
   "codemirror_mode": {
    "name": "ipython",
    "version": 3
   },
   "file_extension": ".py",
   "mimetype": "text/x-python",
   "name": "python",
   "nbconvert_exporter": "python",
   "pygments_lexer": "ipython3",
   "version": "3.9.4"
  }
 },
 "nbformat": 4,
 "nbformat_minor": 5
}
