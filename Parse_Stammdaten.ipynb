{
 "cells": [
  {
   "cell_type": "code",
   "execution_count": 24,
   "id": "26e608bc-1a79-47d1-99e9-fc4e6495e7da",
   "metadata": {},
   "outputs": [],
   "source": [
    "import pandas as pd\n",
    "import numpy as np\n",
    "import re\n",
    "import matplotlib.pyplot as plt\n",
    "from pathlib import Path\n",
    "import xml.etree.ElementTree as ET"
   ]
  },
  {
   "cell_type": "markdown",
   "id": "ccc0ce95-6434-463f-b2a1-38d2154b7e51",
   "metadata": {},
   "source": [
    "### Quelle der Daten: \n",
    "https://www.bundestag.de/services/opendata\n",
    "\n",
    "### Erläuterungen\n",
    "WP steht für Wahlperiode"
   ]
  },
  {
   "cell_type": "code",
   "execution_count": 2,
   "id": "6b155448-86de-4034-959a-7ee3f7ec5fcd",
   "metadata": {},
   "outputs": [],
   "source": [
    "DATA_PATH = Path('data')\n",
    "MDB_XML_PATH = DATA_PATH / 'MDB_STAMMDATEN.XML'\n",
    "DF_MDB_PATH = DATA_PATH / 'df_mdb.csv' #one row per individuum, one col per wp containing 0 / 1\n",
    "DF_MDB_WP_PATH = DATA_PATH / 'df_mdb_wp.csv' # one row per individuum per wp, containting e.g. 12. so one abgeordneter who has been in parliament for several wp will receive one row per wp"
   ]
  },
  {
   "cell_type": "markdown",
   "id": "8d597687-4d1e-4d44-bd4c-d03d98c9ed0b",
   "metadata": {},
   "source": [
    "# parse xml data into dataFrame / .csv fomat"
   ]
  },
  {
   "cell_type": "code",
   "execution_count": 3,
   "id": "2106e6ee-0ad4-4c0a-9d93-5668b07eefa6",
   "metadata": {},
   "outputs": [],
   "source": [
    "def get_mdb_data(mdb_xml_path = MDB_XML_PATH):\n",
    "    \"\"\"get data frame of MDP data\n",
    "    ID | NACHNAME | VORNAME |  ... | BERUF\"\"\"\n",
    "    list_of_mdb = []\n",
    "    MDB_STAMMDATEN = ET.parse(mdb_xml_path)\n",
    "    root = MDB_STAMMDATEN.getroot()\n",
    "    \n",
    "    for mdb in root.findall('MDB'):\n",
    "        mdb_dict = {}\n",
    "        ID, NAMEN, BIOGRAFISCHE_ANGABEN, WAHLPERIODEN = mdb[0], mdb[1], mdb[2], mdb[3]\n",
    "\n",
    "        mdb_dict['ID'] = ID.text\n",
    "        mdb_dict['NACHNAME'] = NAMEN.find('NAME').find('NACHNAME').text  \n",
    "        mdb_dict['VORNAME'] = NAMEN.find('NAME').find('VORNAME').text  \n",
    "\n",
    "        #print(mdb.tag, mdb.text, mdb.findall('NACHNAME'))\n",
    "        for element in BIOGRAFISCHE_ANGABEN:\n",
    "            mdb_dict[element.tag] = element.text\n",
    "\n",
    "        mdb_dict['ANZ_WAHLPERIODEN'] = len(list(WAHLPERIODEN))\n",
    "\n",
    "        for wahlperiode in WAHLPERIODEN:\n",
    "            mdb_dict[int(wahlperiode.find('WP').text)] = 1\n",
    "\n",
    "        list_of_mdb.append(mdb_dict)\n",
    "    return pd.DataFrame(list_of_mdb)"
   ]
  },
  {
   "cell_type": "code",
   "execution_count": null,
   "id": "88fe5b94-1517-472c-aef3-4f39726557f0",
   "metadata": {},
   "outputs": [],
   "source": []
  },
  {
   "cell_type": "code",
   "execution_count": 4,
   "id": "d1bb74f3-12a5-4698-a1f5-776cdd0be454",
   "metadata": {},
   "outputs": [],
   "source": [
    "def get_mdb_wp_data(df_mdb):\n",
    "    \"\"\"\n",
    "    reformat\n",
    "    peter | lustig | wp1 | wp2\n",
    "    \n",
    "    into\n",
    "    peter | lustig | wp1\n",
    "    peter | lustig | wp2\n",
    "    \"\"\"\n",
    "    \n",
    "    wps = [column for column in df_mdb.columns if isinstance(column, int)] # probably 1 to 19 or 20\n",
    "    columns_to_keep = [column for column in df_mdb.columns if not isinstance(column, int)] # 'BERUF', 'VITA_KURZ' etc\n",
    "    \n",
    "    # should be 19 before 2021, 20 afterwards\n",
    "    max_wp = max(wps)\n",
    "    \n",
    "    # this could be optimized but only runs once for about 2 Minutes\n",
    "    new_entries = []\n",
    "    for idx, row in df_mdb.iterrows():\n",
    "        for wp in wps:\n",
    "            if row[wp] == 1:\n",
    "                new_entry = row[columns_to_keep]\n",
    "                new_entry['WP'] = wp\n",
    "                new_entries.append(new_entry)\n",
    "    \n",
    "    mdb_wp = pd.DataFrame(new_entries)\n",
    "    return(mdb_wp)"
   ]
  },
  {
   "cell_type": "code",
   "execution_count": 5,
   "id": "678fb266-28a6-489e-85f2-b08d63c11ab8",
   "metadata": {},
   "outputs": [
    {
     "name": "stdout",
     "output_type": "stream",
     "text": [
      "(4089, 34)\n"
     ]
    },
    {
     "data": {
      "text/html": [
       "<div>\n",
       "<style scoped>\n",
       "    .dataframe tbody tr th:only-of-type {\n",
       "        vertical-align: middle;\n",
       "    }\n",
       "\n",
       "    .dataframe tbody tr th {\n",
       "        vertical-align: top;\n",
       "    }\n",
       "\n",
       "    .dataframe thead th {\n",
       "        text-align: right;\n",
       "    }\n",
       "</style>\n",
       "<table border=\"1\" class=\"dataframe\">\n",
       "  <thead>\n",
       "    <tr style=\"text-align: right;\">\n",
       "      <th></th>\n",
       "      <th>ID</th>\n",
       "      <th>NACHNAME</th>\n",
       "      <th>VORNAME</th>\n",
       "      <th>GEBURTSDATUM</th>\n",
       "      <th>GEBURTSORT</th>\n",
       "      <th>GEBURTSLAND</th>\n",
       "      <th>STERBEDATUM</th>\n",
       "      <th>GESCHLECHT</th>\n",
       "      <th>FAMILIENSTAND</th>\n",
       "      <th>RELIGION</th>\n",
       "      <th>...</th>\n",
       "      <th>2</th>\n",
       "      <th>12</th>\n",
       "      <th>13</th>\n",
       "      <th>14</th>\n",
       "      <th>15</th>\n",
       "      <th>16</th>\n",
       "      <th>1</th>\n",
       "      <th>17</th>\n",
       "      <th>18</th>\n",
       "      <th>19</th>\n",
       "    </tr>\n",
       "  </thead>\n",
       "  <tbody>\n",
       "    <tr>\n",
       "      <th>0</th>\n",
       "      <td>11000001</td>\n",
       "      <td>Abelein</td>\n",
       "      <td>Manfred</td>\n",
       "      <td>20.10.1930</td>\n",
       "      <td>Stuttgart</td>\n",
       "      <td>None</td>\n",
       "      <td>17.01.2008</td>\n",
       "      <td>männlich</td>\n",
       "      <td>keine Angaben</td>\n",
       "      <td>katholisch</td>\n",
       "      <td>...</td>\n",
       "      <td>NaN</td>\n",
       "      <td>NaN</td>\n",
       "      <td>NaN</td>\n",
       "      <td>NaN</td>\n",
       "      <td>NaN</td>\n",
       "      <td>NaN</td>\n",
       "      <td>NaN</td>\n",
       "      <td>NaN</td>\n",
       "      <td>NaN</td>\n",
       "      <td>NaN</td>\n",
       "    </tr>\n",
       "    <tr>\n",
       "      <th>1</th>\n",
       "      <td>11000002</td>\n",
       "      <td>Achenbach</td>\n",
       "      <td>Ernst</td>\n",
       "      <td>09.04.1909</td>\n",
       "      <td>Siegen</td>\n",
       "      <td>None</td>\n",
       "      <td>02.12.1991</td>\n",
       "      <td>männlich</td>\n",
       "      <td>verheiratet, 3 Kinder</td>\n",
       "      <td>evangelisch</td>\n",
       "      <td>...</td>\n",
       "      <td>NaN</td>\n",
       "      <td>NaN</td>\n",
       "      <td>NaN</td>\n",
       "      <td>NaN</td>\n",
       "      <td>NaN</td>\n",
       "      <td>NaN</td>\n",
       "      <td>NaN</td>\n",
       "      <td>NaN</td>\n",
       "      <td>NaN</td>\n",
       "      <td>NaN</td>\n",
       "    </tr>\n",
       "    <tr>\n",
       "      <th>2</th>\n",
       "      <td>11000003</td>\n",
       "      <td>Ackermann</td>\n",
       "      <td>Annemarie</td>\n",
       "      <td>26.05.1913</td>\n",
       "      <td>Parabutsch</td>\n",
       "      <td>Jugoslawien</td>\n",
       "      <td>18.02.1994</td>\n",
       "      <td>weiblich</td>\n",
       "      <td>verheiratet, 5 Kinder</td>\n",
       "      <td>katholisch</td>\n",
       "      <td>...</td>\n",
       "      <td>1.0</td>\n",
       "      <td>NaN</td>\n",
       "      <td>NaN</td>\n",
       "      <td>NaN</td>\n",
       "      <td>NaN</td>\n",
       "      <td>NaN</td>\n",
       "      <td>NaN</td>\n",
       "      <td>NaN</td>\n",
       "      <td>NaN</td>\n",
       "      <td>NaN</td>\n",
       "    </tr>\n",
       "    <tr>\n",
       "      <th>3</th>\n",
       "      <td>11000004</td>\n",
       "      <td>Ackermann</td>\n",
       "      <td>Else</td>\n",
       "      <td>06.11.1933</td>\n",
       "      <td>Berlin</td>\n",
       "      <td>None</td>\n",
       "      <td>14.09.2019</td>\n",
       "      <td>weiblich</td>\n",
       "      <td>ledig</td>\n",
       "      <td>evangelisch</td>\n",
       "      <td>...</td>\n",
       "      <td>NaN</td>\n",
       "      <td>1.0</td>\n",
       "      <td>NaN</td>\n",
       "      <td>NaN</td>\n",
       "      <td>NaN</td>\n",
       "      <td>NaN</td>\n",
       "      <td>NaN</td>\n",
       "      <td>NaN</td>\n",
       "      <td>NaN</td>\n",
       "      <td>NaN</td>\n",
       "    </tr>\n",
       "    <tr>\n",
       "      <th>4</th>\n",
       "      <td>11000005</td>\n",
       "      <td>Adam</td>\n",
       "      <td>Ulrich</td>\n",
       "      <td>09.06.1950</td>\n",
       "      <td>Teterow, Kr. Teterow, Bezirk Neubrandenburg</td>\n",
       "      <td>None</td>\n",
       "      <td>None</td>\n",
       "      <td>männlich</td>\n",
       "      <td>verheiratet, 2 Kinder</td>\n",
       "      <td>evangelisch</td>\n",
       "      <td>...</td>\n",
       "      <td>NaN</td>\n",
       "      <td>1.0</td>\n",
       "      <td>1.0</td>\n",
       "      <td>1.0</td>\n",
       "      <td>1.0</td>\n",
       "      <td>1.0</td>\n",
       "      <td>NaN</td>\n",
       "      <td>NaN</td>\n",
       "      <td>NaN</td>\n",
       "      <td>NaN</td>\n",
       "    </tr>\n",
       "  </tbody>\n",
       "</table>\n",
       "<p>5 rows × 34 columns</p>\n",
       "</div>"
      ],
      "text/plain": [
       "         ID   NACHNAME    VORNAME GEBURTSDATUM  \\\n",
       "0  11000001    Abelein    Manfred   20.10.1930   \n",
       "1  11000002  Achenbach      Ernst   09.04.1909   \n",
       "2  11000003  Ackermann  Annemarie   26.05.1913   \n",
       "3  11000004  Ackermann       Else   06.11.1933   \n",
       "4  11000005       Adam     Ulrich   09.06.1950   \n",
       "\n",
       "                                    GEBURTSORT  GEBURTSLAND STERBEDATUM  \\\n",
       "0                                    Stuttgart         None  17.01.2008   \n",
       "1                                       Siegen         None  02.12.1991   \n",
       "2                                   Parabutsch  Jugoslawien  18.02.1994   \n",
       "3                                       Berlin         None  14.09.2019   \n",
       "4  Teterow, Kr. Teterow, Bezirk Neubrandenburg         None        None   \n",
       "\n",
       "  GESCHLECHT          FAMILIENSTAND     RELIGION  ...    2   12   13   14  \\\n",
       "0   männlich          keine Angaben   katholisch  ...  NaN  NaN  NaN  NaN   \n",
       "1   männlich  verheiratet, 3 Kinder  evangelisch  ...  NaN  NaN  NaN  NaN   \n",
       "2   weiblich  verheiratet, 5 Kinder   katholisch  ...  1.0  NaN  NaN  NaN   \n",
       "3   weiblich                  ledig  evangelisch  ...  NaN  1.0  NaN  NaN   \n",
       "4   männlich  verheiratet, 2 Kinder  evangelisch  ...  NaN  1.0  1.0  1.0   \n",
       "\n",
       "    15   16   1  17  18  19  \n",
       "0  NaN  NaN NaN NaN NaN NaN  \n",
       "1  NaN  NaN NaN NaN NaN NaN  \n",
       "2  NaN  NaN NaN NaN NaN NaN  \n",
       "3  NaN  NaN NaN NaN NaN NaN  \n",
       "4  1.0  1.0 NaN NaN NaN NaN  \n",
       "\n",
       "[5 rows x 34 columns]"
      ]
     },
     "execution_count": 5,
     "metadata": {},
     "output_type": "execute_result"
    }
   ],
   "source": [
    "df_mdb = get_mdb_data(MDB_XML_PATH)\n",
    "print(df_mdb.shape)\n",
    "df_mdb.head()"
   ]
  },
  {
   "cell_type": "code",
   "execution_count": 6,
   "id": "ce4b1366-2557-4991-9f9a-34930d80c43e",
   "metadata": {},
   "outputs": [],
   "source": [
    "df_mdb_wp = get_mdb_wp_data(df_mdb)"
   ]
  },
  {
   "cell_type": "markdown",
   "id": "31752204-92de-476c-a005-b31578d8e944",
   "metadata": {},
   "source": [
    "## Insight: es werden immer mehr Abgeordnete"
   ]
  },
  {
   "cell_type": "code",
   "execution_count": 7,
   "id": "fd354245-3865-48a9-a1c9-c4927c35ed47",
   "metadata": {},
   "outputs": [
    {
     "data": {
      "image/png": "[encoded data removed]",
      "text/plain": [
       "<Figure size 432x288 with 1 Axes>"
      ]
     },
     "metadata": {
      "needs_background": "light"
     },
     "output_type": "display_data"
    }
   ],
   "source": [
    "wps = [column for column in df_mdb.columns if isinstance(column, int)]\n",
    "fig, ax = plt.subplots()#plt.figure(figsize=(8,6))\n",
    "\n",
    "# xlab / ylab not showing is nb issue\n",
    "plt.xlabel='WP'\n",
    "plt.ylabel='Anzahl Abgeordneter'\n",
    "#plt.plot(df_mdb[wps].sum().sort_index())\n",
    "df_mdb[wps].sum().sort_index().plot()\n",
    "plt.show()"
   ]
  },
  {
   "cell_type": "code",
   "execution_count": 8,
   "id": "2092cfd8-8649-432e-8591-23cdc087f37e",
   "metadata": {},
   "outputs": [
    {
     "data": {
      "text/plain": [
       "15    628.0\n",
       "16    642.0\n",
       "17    652.0\n",
       "18    658.0\n",
       "19    738.0\n",
       "dtype: float64"
      ]
     },
     "execution_count": 8,
     "metadata": {},
     "output_type": "execute_result"
    }
   ],
   "source": [
    "df_mdb[wps].sum().sort_index().tail()"
   ]
  },
  {
   "cell_type": "code",
   "execution_count": 9,
   "id": "176b908c-6a91-4c10-8bec-bfae4f92b4be",
   "metadata": {},
   "outputs": [
    {
     "data": {
      "text/plain": [
       "11627.0"
      ]
     },
     "execution_count": 9,
     "metadata": {},
     "output_type": "execute_result"
    }
   ],
   "source": [
    "# total number of abgeordnete (counting multiple wps as multiple entries)\n",
    "df_mdb[wps].sum().sum()"
   ]
  },
  {
   "cell_type": "code",
   "execution_count": null,
   "id": "28217a99-9ba2-48f9-b961-33160d6d97cb",
   "metadata": {},
   "outputs": [],
   "source": []
  },
  {
   "cell_type": "code",
   "execution_count": 10,
   "id": "baaaf173-48af-444c-9f2b-914e4d291491",
   "metadata": {},
   "outputs": [
    {
     "name": "stdout",
     "output_type": "stream",
     "text": [
      "('2000/04 Studium der Politikwissenschaft und Öffentliches Recht in Hamburg; '\n",
      " '2000/03 freie Mitarbeit bei der Hannoverschen Allgemeinen Zeitung; 2005 '\n",
      " 'Master im Völkerrecht (LL.M.) an der LSE London; 2005/08 Büroleiterin der '\n",
      " 'Europaabgeordneten Elisabeth Schroedter in Brüssel und Potsdam. 2008/09 '\n",
      " 'Referentin für Außen- und Sicherheitspolitik bei der Grünen '\n",
      " 'Bundestagsfraktion. 2009/13 Landesvors. BÜNDNIS 90/DIE GRÜNEN Brandenburg. '\n",
      " 'Seit 2005 Mitgl. von Bündnis 90/Die Grünen, 2009/12 Mitgl. im Vorstand der '\n",
      " 'Europäischen Grünen Partei; 2012/15 Mitgl. im Parteirat von Bündnis 90/Die '\n",
      " 'Grünen, seit Jan. 2018 Bundesvors. von Bündnis90/Die Grünen. Englisch (f), '\n",
      " 'Französisch (G), Spanisch (G). - MdB seit Okt. 2013.')\n"
     ]
    }
   ],
   "source": [
    "import pprint\n",
    "pp = pprint.PrettyPrinter(indent=4)\n",
    "pp.pprint(df_mdb_wp[df_mdb_wp.NACHNAME =='Baerbock'].iloc[0].VITA_KURZ)"
   ]
  },
  {
   "cell_type": "markdown",
   "id": "f0649f48-0e07-4233-ab60-77bbd5a44d96",
   "metadata": {},
   "source": [
    "# clean data 1. missing values"
   ]
  },
  {
   "cell_type": "code",
   "execution_count": 11,
   "id": "4e0356b1-a584-4cf0-846a-f72b0d388ba4",
   "metadata": {},
   "outputs": [
    {
     "data": {
      "text/plain": [
       "NACHNAME            0\n",
       "VORNAME             0\n",
       "GEBURTSDATUM        0\n",
       "GEBURTSORT          4\n",
       "GEBURTSLAND      4010\n",
       "STERBEDATUM      2199\n",
       "GESCHLECHT          0\n",
       "FAMILIENSTAND      81\n",
       "RELIGION          227\n",
       "BERUF               3\n",
       "PARTEI_KURZ         3\n",
       "dtype: int64"
      ]
     },
     "execution_count": 11,
     "metadata": {},
     "output_type": "execute_result"
    }
   ],
   "source": [
    "dimensions_replace_na = ['NACHNAME', 'VORNAME', 'GEBURTSDATUM', 'GEBURTSORT', 'GEBURTSLAND', 'STERBEDATUM', 'GESCHLECHT', 'FAMILIENSTAND', 'RELIGION', 'BERUF', 'PARTEI_KURZ']\n",
    "df_mdb[dimensions_replace_na].isna().sum()"
   ]
  },
  {
   "cell_type": "code",
   "execution_count": 12,
   "id": "9cd68e71-392c-4ba2-884a-d591e09b0c2b",
   "metadata": {},
   "outputs": [],
   "source": [
    "df_mdb[dimensions_replace_na] = df_mdb[dimensions_replace_na].fillna('UNBEKANNT')"
   ]
  },
  {
   "cell_type": "code",
   "execution_count": null,
   "id": "c93a0381-79c8-473e-97cf-f49d813773e8",
   "metadata": {},
   "outputs": [],
   "source": []
  },
  {
   "cell_type": "code",
   "execution_count": null,
   "id": "d2f7229c-2b81-44c2-bfe7-0ab3efc8a373",
   "metadata": {},
   "outputs": [],
   "source": []
  },
  {
   "cell_type": "markdown",
   "id": "225e7664-d495-4067-8f90-4cfca15903f6",
   "metadata": {},
   "source": [
    "# 2. replace values: PARTEI_KURZ"
   ]
  },
  {
   "cell_type": "code",
   "execution_count": 13,
   "id": "b00d7fc2-187d-41b0-aa88-b3a1551b12d9",
   "metadata": {},
   "outputs": [
    {
     "data": {
      "text/plain": [
       "CDU                      1347\n",
       "SPD                      1329\n",
       "FDP                       460\n",
       "CSU                       269\n",
       "BÜNDNIS 90/DIE GRÜNEN     180\n",
       "DIE LINKE.                128\n",
       "AfD                        88\n",
       "PDS                        54\n",
       "GRÜNE                      51\n",
       "DIE GRÜNEN/BÜNDNIS 90      28\n",
       "DP                         27\n",
       "FU                         21\n",
       "Name: PARTEI_KURZ, dtype: int64"
      ]
     },
     "execution_count": 13,
     "metadata": {},
     "output_type": "execute_result"
    }
   ],
   "source": [
    "df_mdb.PARTEI_KURZ.value_counts()[:12]"
   ]
  },
  {
   "cell_type": "code",
   "execution_count": 14,
   "id": "325d47ff-4860-4e05-a8eb-9c9412de50a1",
   "metadata": {},
   "outputs": [],
   "source": [
    "# some cleaning necessary: 'BÜNDNIS 90/DIE GRÜNEN', 'DIE GRÜNEN/BÜNDNIS 90' => 'GRÜNE'\n",
    "for grünen_alias in ['BÜNDNIS 90/DIE GRÜNEN', 'DIE GRÜNEN/BÜNDNIS 90', 'GRÜNE']:\n",
    "    df_mdb.replace(grünen_alias, 'DIE GRÜNEN', inplace=True)"
   ]
  },
  {
   "cell_type": "markdown",
   "id": "12d9cd5e-df57-479d-8ae4-adbb053910ce",
   "metadata": {},
   "source": [
    "# replace values: RELIGION"
   ]
  },
  {
   "cell_type": "code",
   "execution_count": 15,
   "id": "0734c71f-d9e8-4459-8577-651fa9df9bf1",
   "metadata": {},
   "outputs": [
    {
     "data": {
      "text/plain": [
       "ohne Angaben              1214\n",
       "evangelisch               1154\n",
       "katholisch                 870\n",
       "römisch-katholisch         316\n",
       "UNBEKANNT                  227\n",
       "evangelisch-lutherisch     138\n",
       "konfessionslos             118\n",
       "evangelisch-reformiert      15\n",
       "religionslos                 7\n",
       "Atheistin                    6\n",
       "muslimisch                   5\n",
       "Islam                        3\n",
       "Name: RELIGION_MAPPED, dtype: int64"
      ]
     },
     "execution_count": 15,
     "metadata": {},
     "output_type": "execute_result"
    }
   ],
   "source": [
    "df_mdb['RELIGION_MAPPED'] = df_mdb['RELIGION']\n",
    "df_mdb.RELIGION_MAPPED.value_counts().head(12)"
   ]
  },
  {
   "cell_type": "code",
   "execution_count": null,
   "id": "3c02e9c1-7a5f-4202-bf3e-9f6c6a0376d3",
   "metadata": {},
   "outputs": [],
   "source": []
  },
  {
   "cell_type": "code",
   "execution_count": 16,
   "id": "61726790-bfeb-4d57-8e30-3bb6719beb34",
   "metadata": {},
   "outputs": [],
   "source": [
    "for katholisch_alias in ['römisch-katholisch', 'alt-katholisch']:\n",
    "    df_mdb['RELIGION_MAPPED'].replace(katholisch_alias, 'katholisch', inplace=True)"
   ]
  },
  {
   "cell_type": "code",
   "execution_count": 17,
   "id": "7a96d82c-8d03-4e86-83c2-e0e4b5f7c9a9",
   "metadata": {},
   "outputs": [],
   "source": [
    "for evangelisch_alias in ['evangelisch-lutherisch', 'evangelisch-reformiert', 'evangelisch-freikirchlich', 'protestantisch']:\n",
    "    df_mdb['RELIGION_MAPPED'].replace(evangelisch_alias, 'evangelisch', inplace=True)"
   ]
  },
  {
   "cell_type": "code",
   "execution_count": 18,
   "id": "62bd670d-2d30-45d0-890f-5798015eca0c",
   "metadata": {},
   "outputs": [],
   "source": [
    "# it's not the same but its similar\n",
    "for konfessionslos_alias in ['religionslos', 'Atheist', 'Atheistin']:\n",
    "    df_mdb['RELIGION_MAPPED'].replace(konfessionslos_alias, 'konfessionslos', inplace=True)"
   ]
  },
  {
   "cell_type": "code",
   "execution_count": 19,
   "id": "3497b937-0acc-4fb6-b6ba-a88d28f6f5d0",
   "metadata": {},
   "outputs": [],
   "source": [
    "for konfessionslos_alias in ['Islam']:\n",
    "    df_mdb['RELIGION_MAPPED'].replace(konfessionslos_alias, 'muslimisch', inplace=True)"
   ]
  },
  {
   "cell_type": "code",
   "execution_count": 20,
   "id": "fe6ee406-4c81-475d-adef-2e997c7e8d7d",
   "metadata": {},
   "outputs": [
    {
     "data": {
      "text/plain": [
       "evangelisch            1311\n",
       "ohne Angaben           1214\n",
       "katholisch             1187\n",
       "UNBEKANNT               227\n",
       "konfessionslos          133\n",
       "muslimisch                8\n",
       "freireligiös              3\n",
       "humanistisch              1\n",
       "neuapostolisch            1\n",
       "orthodox                  1\n",
       "alevitisch                1\n",
       "griechisch-orthodox       1\n",
       "russisch-orthodox         1\n",
       "Name: RELIGION_MAPPED, dtype: int64"
      ]
     },
     "execution_count": 20,
     "metadata": {},
     "output_type": "execute_result"
    }
   ],
   "source": [
    "# erkenntnis: nur christen und einige wenige konfessionslose\n",
    "df_mdb['RELIGION_MAPPED'].value_counts().head(24)"
   ]
  },
  {
   "cell_type": "code",
   "execution_count": 21,
   "id": "64ced06f-3035-4419-9eb7-5c6a59925208",
   "metadata": {},
   "outputs": [
    {
     "data": {
      "text/plain": [
       "<AxesSubplot:>"
      ]
     },
     "execution_count": 21,
     "metadata": {},
     "output_type": "execute_result"
    },
    {
     "data": {
      "image/png": "[encoded data removed]",
      "text/plain": [
       "<Figure size 432x288 with 1 Axes>"
      ]
     },
     "metadata": {
      "needs_background": "light"
     },
     "output_type": "display_data"
    }
   ],
   "source": [
    "df_mdb['RELIGION_MAPPED'].value_counts().plot(kind='bar')"
   ]
  },
  {
   "cell_type": "markdown",
   "id": "b5246146-c1ce-4e3a-a6e3-ee116590d918",
   "metadata": {},
   "source": [
    "# replace values: FAMILIENSTAND"
   ]
  },
  {
   "cell_type": "code",
   "execution_count": 22,
   "id": "37fa9296-de58-4e22-914f-5da70fbf396a",
   "metadata": {},
   "outputs": [
    {
     "data": {
      "text/html": [
       "<div>\n",
       "<style scoped>\n",
       "    .dataframe tbody tr th:only-of-type {\n",
       "        vertical-align: middle;\n",
       "    }\n",
       "\n",
       "    .dataframe tbody tr th {\n",
       "        vertical-align: top;\n",
       "    }\n",
       "\n",
       "    .dataframe thead th {\n",
       "        text-align: right;\n",
       "    }\n",
       "</style>\n",
       "<table border=\"1\" class=\"dataframe\">\n",
       "  <thead>\n",
       "    <tr style=\"text-align: right;\">\n",
       "      <th></th>\n",
       "      <th>ID</th>\n",
       "    </tr>\n",
       "    <tr>\n",
       "      <th>FAMILIENSTAND_MAPPED</th>\n",
       "      <th></th>\n",
       "    </tr>\n",
       "  </thead>\n",
       "  <tbody>\n",
       "    <tr>\n",
       "      <th>verh., 2 Kinder</th>\n",
       "      <td>932</td>\n",
       "    </tr>\n",
       "    <tr>\n",
       "      <th>verh.</th>\n",
       "      <td>565</td>\n",
       "    </tr>\n",
       "    <tr>\n",
       "      <th>verh., 3 Kinder</th>\n",
       "      <td>550</td>\n",
       "    </tr>\n",
       "    <tr>\n",
       "      <th>keine Angaben</th>\n",
       "      <td>540</td>\n",
       "    </tr>\n",
       "    <tr>\n",
       "      <th>verh., 1 Kind</th>\n",
       "      <td>465</td>\n",
       "    </tr>\n",
       "    <tr>\n",
       "      <th>verh., 4 Kinder</th>\n",
       "      <td>251</td>\n",
       "    </tr>\n",
       "    <tr>\n",
       "      <th>ledig</th>\n",
       "      <td>202</td>\n",
       "    </tr>\n",
       "    <tr>\n",
       "      <th>verh., 5 Kinder</th>\n",
       "      <td>98</td>\n",
       "    </tr>\n",
       "    <tr>\n",
       "      <th>UNBEKANNT</th>\n",
       "      <td>81</td>\n",
       "    </tr>\n",
       "    <tr>\n",
       "      <th>verh., 6 Kinder</th>\n",
       "      <td>47</td>\n",
       "    </tr>\n",
       "    <tr>\n",
       "      <th>2 Kinder</th>\n",
       "      <td>45</td>\n",
       "    </tr>\n",
       "    <tr>\n",
       "      <th>gesch., 2 Kinder</th>\n",
       "      <td>32</td>\n",
       "    </tr>\n",
       "    <tr>\n",
       "      <th>gesch., 1 Kind</th>\n",
       "      <td>28</td>\n",
       "    </tr>\n",
       "    <tr>\n",
       "      <th>1 Kind</th>\n",
       "      <td>26</td>\n",
       "    </tr>\n",
       "    <tr>\n",
       "      <th>verwitwet, 2 Kinder</th>\n",
       "      <td>23</td>\n",
       "    </tr>\n",
       "    <tr>\n",
       "      <th>ledig, 1 Kind</th>\n",
       "      <td>21</td>\n",
       "    </tr>\n",
       "  </tbody>\n",
       "</table>\n",
       "</div>"
      ],
      "text/plain": [
       "                       ID\n",
       "FAMILIENSTAND_MAPPED     \n",
       "verh., 2 Kinder       932\n",
       "verh.                 565\n",
       "verh., 3 Kinder       550\n",
       "keine Angaben         540\n",
       "verh., 1 Kind         465\n",
       "verh., 4 Kinder       251\n",
       "ledig                 202\n",
       "verh., 5 Kinder        98\n",
       "UNBEKANNT              81\n",
       "verh., 6 Kinder        47\n",
       "2 Kinder               45\n",
       "gesch., 2 Kinder       32\n",
       "gesch., 1 Kind         28\n",
       "1 Kind                 26\n",
       "verwitwet, 2 Kinder    23\n",
       "ledig, 1 Kind          21"
      ]
     },
     "execution_count": 22,
     "metadata": {},
     "output_type": "execute_result"
    }
   ],
   "source": [
    "# gehen sie weiter. hier gibt es kein Klischee zu erkennen!\n",
    "df_mdb['FAMILIENSTAND_MAPPED'] = df_mdb['FAMILIENSTAND']\n",
    "df_mdb.FAMILIENSTAND_MAPPED= df_mdb.FAMILIENSTAND_MAPPED.apply(lambda x: x.replace('verheiratet', 'verh.'))\n",
    "df_mdb.FAMILIENSTAND_MAPPED= df_mdb.FAMILIENSTAND_MAPPED.apply(lambda x: x.replace('geschieden', 'gesch.'))\n",
    "df_mdb[['ID', 'FAMILIENSTAND_MAPPED']].groupby('FAMILIENSTAND_MAPPED').count().sort_values(by='ID', ascending=False).head(16)"
   ]
  },
  {
   "cell_type": "code",
   "execution_count": 25,
   "id": "914b1087-d886-4d60-99ab-d1f718dad6e8",
   "metadata": {},
   "outputs": [
    {
     "name": "stdout",
     "output_type": "stream",
     "text": [
      "{'verh., 12 Kinder', 'verh., 4 Kinder', 'verh., 6 Kinder', 'verh., 10 Kinder', 'verh., 7 Kinder', 'verh., 9 Kinder', 'verh., 5 Kinder', 'verh., 8 Kinder'}\n"
     ]
    },
    {
     "name": "stderr",
     "output_type": "stream",
     "text": [
      "/usr/local/lib/python3.9/site-packages/pandas/core/strings/accessor.py:101: UserWarning: This pattern has match groups. To actually get the groups, use str.extract.\n",
      "  return func(self, *args, **kwargs)\n"
     ]
    }
   ],
   "source": [
    "indikator = re.compile('^verh.,\\s([4-9] |\\d{2,}) *Kind')\n",
    "values_to_replace = set(df_mdb[df_mdb.FAMILIENSTAND_MAPPED.str.contains(indikator)].FAMILIENSTAND_MAPPED)\n",
    "print(values_to_replace)\n",
    "replace_value = 'verh., >3 Kinder'\n",
    "df_mdb['FAMILIENSTAND_MAPPED'].replace(values_to_replace, replace_value, inplace=True)"
   ]
  },
  {
   "cell_type": "code",
   "execution_count": 26,
   "id": "de255bd1-34eb-4825-9c38-44514f35a163",
   "metadata": {},
   "outputs": [
    {
     "name": "stdout",
     "output_type": "stream",
     "text": [
      "{'gesch., 5 Kinder', 'gesch., 1 Kind', 'gesch., 2 Kinder', 'gesch., 4 Kinder', 'gesch., 3 Kinder'}\n"
     ]
    }
   ],
   "source": [
    "indikator = re.compile('^gesch.,\\s([1-9] |\\d{2,}) *Kind')\n",
    "values_to_replace = set(df_mdb[df_mdb.FAMILIENSTAND_MAPPED.str.contains(indikator)].FAMILIENSTAND_MAPPED)\n",
    "print(values_to_replace)\n",
    "replace_value = 'gesch., >0 Kinder'\n",
    "df_mdb['FAMILIENSTAND_MAPPED'].replace(values_to_replace, replace_value, inplace=True)"
   ]
  },
  {
   "cell_type": "code",
   "execution_count": 27,
   "id": "7a328ae3-10f5-4dc3-90bb-1f059b27b078",
   "metadata": {},
   "outputs": [
    {
     "data": {
      "text/html": [
       "<div>\n",
       "<style scoped>\n",
       "    .dataframe tbody tr th:only-of-type {\n",
       "        vertical-align: middle;\n",
       "    }\n",
       "\n",
       "    .dataframe tbody tr th {\n",
       "        vertical-align: top;\n",
       "    }\n",
       "\n",
       "    .dataframe thead th {\n",
       "        text-align: right;\n",
       "    }\n",
       "</style>\n",
       "<table border=\"1\" class=\"dataframe\">\n",
       "  <thead>\n",
       "    <tr style=\"text-align: right;\">\n",
       "      <th></th>\n",
       "      <th>ID</th>\n",
       "    </tr>\n",
       "    <tr>\n",
       "      <th>FAMILIENSTAND_MAPPED</th>\n",
       "      <th></th>\n",
       "    </tr>\n",
       "  </thead>\n",
       "  <tbody>\n",
       "    <tr>\n",
       "      <th>verh., 2 Kinder</th>\n",
       "      <td>932</td>\n",
       "    </tr>\n",
       "    <tr>\n",
       "      <th>verh.</th>\n",
       "      <td>565</td>\n",
       "    </tr>\n",
       "    <tr>\n",
       "      <th>verh., 3 Kinder</th>\n",
       "      <td>550</td>\n",
       "    </tr>\n",
       "    <tr>\n",
       "      <th>keine Angaben</th>\n",
       "      <td>540</td>\n",
       "    </tr>\n",
       "    <tr>\n",
       "      <th>verh., 1 Kind</th>\n",
       "      <td>465</td>\n",
       "    </tr>\n",
       "    <tr>\n",
       "      <th>verh., &gt;3 Kinder</th>\n",
       "      <td>422</td>\n",
       "    </tr>\n",
       "    <tr>\n",
       "      <th>ledig</th>\n",
       "      <td>202</td>\n",
       "    </tr>\n",
       "    <tr>\n",
       "      <th>UNBEKANNT</th>\n",
       "      <td>81</td>\n",
       "    </tr>\n",
       "    <tr>\n",
       "      <th>gesch., &gt;0 Kinder</th>\n",
       "      <td>80</td>\n",
       "    </tr>\n",
       "    <tr>\n",
       "      <th>2 Kinder</th>\n",
       "      <td>45</td>\n",
       "    </tr>\n",
       "    <tr>\n",
       "      <th>1 Kind</th>\n",
       "      <td>26</td>\n",
       "    </tr>\n",
       "    <tr>\n",
       "      <th>verwitwet, 2 Kinder</th>\n",
       "      <td>23</td>\n",
       "    </tr>\n",
       "    <tr>\n",
       "      <th>ledig, 1 Kind</th>\n",
       "      <td>21</td>\n",
       "    </tr>\n",
       "    <tr>\n",
       "      <th>gesch.</th>\n",
       "      <td>18</td>\n",
       "    </tr>\n",
       "    <tr>\n",
       "      <th>3 Kinder</th>\n",
       "      <td>16</td>\n",
       "    </tr>\n",
       "    <tr>\n",
       "      <th>verwitwet</th>\n",
       "      <td>16</td>\n",
       "    </tr>\n",
       "  </tbody>\n",
       "</table>\n",
       "</div>"
      ],
      "text/plain": [
       "                       ID\n",
       "FAMILIENSTAND_MAPPED     \n",
       "verh., 2 Kinder       932\n",
       "verh.                 565\n",
       "verh., 3 Kinder       550\n",
       "keine Angaben         540\n",
       "verh., 1 Kind         465\n",
       "verh., >3 Kinder      422\n",
       "ledig                 202\n",
       "UNBEKANNT              81\n",
       "gesch., >0 Kinder      80\n",
       "2 Kinder               45\n",
       "1 Kind                 26\n",
       "verwitwet, 2 Kinder    23\n",
       "ledig, 1 Kind          21\n",
       "gesch.                 18\n",
       "3 Kinder               16\n",
       "verwitwet              16"
      ]
     },
     "execution_count": 27,
     "metadata": {},
     "output_type": "execute_result"
    }
   ],
   "source": [
    "df_mdb[['ID', 'FAMILIENSTAND_MAPPED']].groupby('FAMILIENSTAND_MAPPED').count().sort_values(by='ID', ascending=False).head(16)"
   ]
  },
  {
   "cell_type": "markdown",
   "id": "08515cd9-12a3-4b15-9a8b-c547868e0eec",
   "metadata": {},
   "source": [
    "# replace values: BERUFE"
   ]
  },
  {
   "cell_type": "code",
   "execution_count": 28,
   "id": "3c830ec1-9cea-40b9-ba14-12da6d355051",
   "metadata": {},
   "outputs": [
    {
     "data": {
      "text/plain": [
       "2201"
      ]
     },
     "execution_count": 28,
     "metadata": {},
     "output_type": "execute_result"
    }
   ],
   "source": [
    "# number of different jobs: 2k\n",
    "len(set(df_mdb.BERUF))"
   ]
  },
  {
   "cell_type": "code",
   "execution_count": 29,
   "id": "13a96f48-2015-4434-a9c0-19bb42e2c5b5",
   "metadata": {},
   "outputs": [],
   "source": [
    "df_mdb['BERUF_MAPPED'] = df_mdb['BERUF'].copy()"
   ]
  },
  {
   "cell_type": "code",
   "execution_count": 30,
   "id": "8c8d3b0f-00b0-41ee-b792-009eb75841db",
   "metadata": {},
   "outputs": [
    {
     "data": {
      "text/html": [
       "<div>\n",
       "<style scoped>\n",
       "    .dataframe tbody tr th:only-of-type {\n",
       "        vertical-align: middle;\n",
       "    }\n",
       "\n",
       "    .dataframe tbody tr th {\n",
       "        vertical-align: top;\n",
       "    }\n",
       "\n",
       "    .dataframe thead th {\n",
       "        text-align: right;\n",
       "    }\n",
       "</style>\n",
       "<table border=\"1\" class=\"dataframe\">\n",
       "  <thead>\n",
       "    <tr style=\"text-align: right;\">\n",
       "      <th></th>\n",
       "      <th>ID</th>\n",
       "    </tr>\n",
       "    <tr>\n",
       "      <th>BERUF</th>\n",
       "      <th></th>\n",
       "    </tr>\n",
       "  </thead>\n",
       "  <tbody>\n",
       "    <tr>\n",
       "      <th>Rechtsanwalt</th>\n",
       "      <td>182</td>\n",
       "    </tr>\n",
       "    <tr>\n",
       "      <th>Geschäftsführer</th>\n",
       "      <td>80</td>\n",
       "    </tr>\n",
       "    <tr>\n",
       "      <th>Landwirt</th>\n",
       "      <td>79</td>\n",
       "    </tr>\n",
       "    <tr>\n",
       "      <th>Angestellter</th>\n",
       "      <td>63</td>\n",
       "    </tr>\n",
       "    <tr>\n",
       "      <th>Rechtsanwalt und Notar</th>\n",
       "      <td>47</td>\n",
       "    </tr>\n",
       "    <tr>\n",
       "      <th>Kaufmann</th>\n",
       "      <td>45</td>\n",
       "    </tr>\n",
       "    <tr>\n",
       "      <th>Journalist</th>\n",
       "      <td>43</td>\n",
       "    </tr>\n",
       "    <tr>\n",
       "      <th>Hausfrau</th>\n",
       "      <td>41</td>\n",
       "    </tr>\n",
       "  </tbody>\n",
       "</table>\n",
       "</div>"
      ],
      "text/plain": [
       "                         ID\n",
       "BERUF                      \n",
       "Rechtsanwalt            182\n",
       "Geschäftsführer          80\n",
       "Landwirt                 79\n",
       "Angestellter             63\n",
       "Rechtsanwalt und Notar   47\n",
       "Kaufmann                 45\n",
       "Journalist               43\n",
       "Hausfrau                 41"
      ]
     },
     "execution_count": 30,
     "metadata": {},
     "output_type": "execute_result"
    }
   ],
   "source": [
    "df_mdb[['ID', 'BERUF']].groupby('BERUF').count().sort_values(by='ID', ascending=False).head(8)"
   ]
  },
  {
   "cell_type": "code",
   "execution_count": 31,
   "id": "c5a5b735-f36a-46a7-acd9-539d03cd0925",
   "metadata": {},
   "outputs": [],
   "source": [
    "from importlib import reload\n",
    "import berufe_mapping \n",
    "reload(berufe_mapping)\n",
    "from berufe_mapping import basic_cleaning_berufe\n",
    "\n",
    "'''very basic cleaning: lowercasing, removing dipl., (fh) and a.d.'''\n",
    "df_mdb = basic_cleaning_berufe(df_mdb , column = 'BERUF_MAPPED')"
   ]
  },
  {
   "cell_type": "code",
   "execution_count": 32,
   "id": "72943203-6920-4c8c-8895-6d94e705342f",
   "metadata": {},
   "outputs": [
    {
     "data": {
      "text/html": [
       "<div>\n",
       "<style scoped>\n",
       "    .dataframe tbody tr th:only-of-type {\n",
       "        vertical-align: middle;\n",
       "    }\n",
       "\n",
       "    .dataframe tbody tr th {\n",
       "        vertical-align: top;\n",
       "    }\n",
       "\n",
       "    .dataframe thead th {\n",
       "        text-align: right;\n",
       "    }\n",
       "</style>\n",
       "<table border=\"1\" class=\"dataframe\">\n",
       "  <thead>\n",
       "    <tr style=\"text-align: right;\">\n",
       "      <th></th>\n",
       "      <th>ID</th>\n",
       "    </tr>\n",
       "    <tr>\n",
       "      <th>BERUF_MAPPED</th>\n",
       "      <th></th>\n",
       "    </tr>\n",
       "  </thead>\n",
       "  <tbody>\n",
       "    <tr>\n",
       "      <th>rechtsanwalt</th>\n",
       "      <td>373</td>\n",
       "    </tr>\n",
       "    <tr>\n",
       "      <th>geschäftsführer</th>\n",
       "      <td>111</td>\n",
       "    </tr>\n",
       "    <tr>\n",
       "      <th>landwirt</th>\n",
       "      <td>105</td>\n",
       "    </tr>\n",
       "    <tr>\n",
       "      <th>-ingenieur</th>\n",
       "      <td>101</td>\n",
       "    </tr>\n",
       "    <tr>\n",
       "      <th>-volkswirt</th>\n",
       "      <td>82</td>\n",
       "    </tr>\n",
       "    <tr>\n",
       "      <th>lehrer</th>\n",
       "      <td>75</td>\n",
       "    </tr>\n",
       "    <tr>\n",
       "      <th>jurist</th>\n",
       "      <td>73</td>\n",
       "    </tr>\n",
       "    <tr>\n",
       "      <th>angestellter</th>\n",
       "      <td>73</td>\n",
       "    </tr>\n",
       "  </tbody>\n",
       "</table>\n",
       "</div>"
      ],
      "text/plain": [
       "                  ID\n",
       "BERUF_MAPPED        \n",
       "rechtsanwalt     373\n",
       "geschäftsführer  111\n",
       "landwirt         105\n",
       "-ingenieur       101\n",
       "-volkswirt        82\n",
       "lehrer            75\n",
       "jurist            73\n",
       "angestellter      73"
      ]
     },
     "execution_count": 32,
     "metadata": {},
     "output_type": "execute_result"
    }
   ],
   "source": [
    "df_mdb[['ID', 'BERUF_MAPPED']].groupby('BERUF_MAPPED').count().sort_values(by='ID', ascending=False).head(8)"
   ]
  },
  {
   "cell_type": "code",
   "execution_count": 33,
   "id": "a43ab553-4bfe-4f04-86f1-d57b8379e86b",
   "metadata": {},
   "outputs": [
    {
     "data": {
      "text/plain": [
       "'abc XXident xjsk XXidentin'"
      ]
     },
     "execution_count": 33,
     "metadata": {},
     "output_type": "execute_result"
    }
   ],
   "source": [
    "re.sub('regierungs(vize)*präs', 'XX', 'abc regierungspräsident xjsk regierungsvizepräsidentin')"
   ]
  },
  {
   "cell_type": "code",
   "execution_count": 34,
   "id": "dd1600ed-5246-4630-9527-9fa67b15f01f",
   "metadata": {},
   "outputs": [],
   "source": [
    "dict_berufe={}\n",
    "dict_berufe['Jurist*in'] = ['anwalt', 'jurist', 'richter', 'notar', re.compile('dr.*\\s*jur.*'), 'syndikus', 'rechtsberater']\n",
    "dict_berufe['Land-/Forstwirt*in'] = ['landwirt', '^[a-z]bauer\\s', 'bauer', re.compile('agrar+'), 'forst']\n",
    "dict_berufe['Unterehmer*in'] = ['unternehmer'] # geschäftsführer geht leider nicht wegen z.B. Parl. Geschäftssführer\n",
    "dict_berufe['Ingenieur*in'] = ['ingenieur', 'maschinenbau', 'architekt']\n",
    "dict_berufe['Journalist*in'] = ['journalist', 'redakteur', 'publizist', 'schriftsteller']\n",
    "dict_berufe['Verleger*in'] = ['verleger', 'verlags']\n",
    "\n",
    "# direktor: nö, sonst bezirksdirektor museumsdirektor etc\n",
    "dict_berufe['Lehrer*in'] = ['erzieher', 'pädagog', 'lehrer', 'studienrat', 'studiendirektor', 'schulrat',\n",
    "                            'grundschul', 'hauptshul', 'sonderschul', 'waldorf', 'realschul', 'gymnasi',\n",
    "                            'volkshochschu', 'berufsschul', 'fremdsprachen',\n",
    "                           'schul'] #evtl trennen Erzieher - Lehrer\n",
    "dict_berufe['Professor*in'] = ['dozent', 'professor', 'prof.', 'hochschull', 'hochschulpr']\n",
    "dict_berufe['Kaufmann/-frau'] = ['kaufm']\n",
    "dict_berufe['Volkswirt*in'] = ['volkswirt']\n",
    "dict_berufe['Berufspolitiker*in'] = ['regierungsangestellt', 'stadtamtmann', 'stadtoberinspektor', 'Landesgeschäftsführer',\n",
    "                                    'landr(at|ätin)', re.compile('ministerialr(a|ä)t'), 'staatssekret', 'bürgermeist', \n",
    "                                     'regierungsrat', re.compile('regierungs(vize)*präs'), 'regierung',\n",
    "                                     'stadtdirektor', 'ministerialdirektor', 'regierungsdirektor', 'gemeindedirektor', 'regierungsdirektor',\n",
    "                                     'minister', 'bundeskanz', 'bundestagsp', re.compile('präsident(in)* d\\.*b\\.*t\\.*')]\n",
    "dict_berufe['Arzt/Ärztin'] = ['arzt', 'psycholog', 'psychother', 'apotheker']\n",
    "dict_berufe['Theolog*in'] = ['pfarrer', 'theolog', 'diakon']\n",
    "dict_berufe['Betriebswirt*in'] = ['betriebswirt', 'verwaltungs', 'steuerberater', 'bankdirektor']\n",
    "dict_berufe['Wirtschaftswissenschaftler*in'] = ['wirtschaftsw', 'ökonom', 'prokurist']\n",
    "dict_berufe['Geisteswissenschaftler*in'] = ['politolog', 'politikwiss', 'historik', 'philosoph', 'philolog', 'soziolog', 'sozialwissensch', 'kulturwissenschaft']\n",
    "dict_berufe['Naturwissenschaftler*in'] = ['chemik', 'chemie', 'physik', 'geophysik', 'biolog', 'mathemat', 'informat']\n",
    "\n",
    "dict_berufe['Handwerker*in'] = ['elektro', 'fahrzeug', 'handwerk', 'mechanik',\n",
    "                               'schlosser', 'maurer', 'beton', 'maler', 'lackier', 'tischler', 'schreiner',\n",
    "                               'bäcker', 'konditor' 'koch', 'köchin', 'müller', 'bergmann', 'werkzeugmacher']\n",
    "dict_berufe['Militär'] = ['leutnant', 'oberst^u', 'soldat', re.compile('general\\s')] # not oberstudienrat ;)\n",
    "dict_berufe['Beamter'] = ['beamter']# problematisch: Berufspolitiker, Lehrer, Militär sind auch beamte"
   ]
  },
  {
   "cell_type": "code",
   "execution_count": 35,
   "id": "a56e9d9a-1525-47bb-826d-27720cb81032",
   "metadata": {},
   "outputs": [
    {
     "data": {
      "text/plain": [
       "'XXoberst'"
      ]
     },
     "execution_count": 35,
     "metadata": {},
     "output_type": "execute_result"
    }
   ],
   "source": [
    "re.sub('oberst[^u]', 'X', 'oberst oberst oberst')"
   ]
  },
  {
   "cell_type": "code",
   "execution_count": 36,
   "id": "4a84b279-777c-41cf-a664-47535c33e57a",
   "metadata": {},
   "outputs": [],
   "source": [
    "def replace_berufsklasse(berufsklasse = 'Jurist*in', dict_berufe = dict_berufe, df = df_mdb):\n",
    "    values_to_replace = set()\n",
    "    # TODO without loop but use 'any'\n",
    "    for indikator in dict_berufe[berufsklasse]:\n",
    "        values_to_replace = values_to_replace.union(set(df_mdb[df_mdb.BERUF_MAPPED.str.contains(indikator)].BERUF_MAPPED))\n",
    "\n",
    "    print(values_to_replace)\n",
    "    df_mdb.replace(list(values_to_replace), berufsklasse, inplace=True)\n",
    "    return(df_mdb)"
   ]
  },
  {
   "cell_type": "code",
   "execution_count": 37,
   "id": "e32cc5ce-7b22-447e-8e0b-78bf9f03780a",
   "metadata": {},
   "outputs": [
    {
     "name": "stdout",
     "output_type": "stream",
     "text": [
      "{'rechtsanwalt f. steuerrecht', 'rechtsanwalts-', 'vorsitzender richter am landgericht', 'rechtsanwaltsgehilf', 'handelskammersyndikus', 'syndikusanwalt', 'steuerjurist', 'generalbundesanwalt', 'verwaltungsjurist', 'dr. jur.', 'richter', 'rechtsanwalt u. notar', 'richter am bundesgerichtshof', 'jurist', 'richterin', 'jurist (richter)', 'notar', 'richter am oberverwaltungsgericht', 'wirtschaftsjurist', '-jurist', 'richter am oberlandesgericht', 'richterin am amtsgericht', 'oberstaatsanwalt', 'richterin am landgericht', 'höherer dienst bund/land (ministerialrat); landrat; rechtsanwalt', 'volljurist', 'richter am landgericht', 'oberamtsrichter', 'richterin am kammergericht', 'rechtsanwalt', 'richterin a. lg.', 'richter i. r.', 'syndikus', 'rechtsanwalt (tätigkeit ruhend)', 'handwerkskammersyndikus', 'staatsanwalt', 'rechtanwalt', 'familienrichterin', 'richterin i. r.', 'rechtsberater'}\n"
     ]
    }
   ],
   "source": [
    "df_mdb = replace_berufsklasse(berufsklasse = 'Jurist*in', dict_berufe = dict_berufe, df = df_mdb)"
   ]
  },
  {
   "cell_type": "code",
   "execution_count": 38,
   "id": "127e7e02-a363-4b00-aad5-191f1631c493",
   "metadata": {},
   "outputs": [
    {
     "name": "stdout",
     "output_type": "stream",
     "text": [
      "{'austragbauer', 'bauer', '-forstingenieur', 'agrarwissenschaftler', 'landwirtschaftsdirektorin', '-forstwirt', 'agraringenieur', 'land- u. forstwirt', 'schiffbauer', 'maschinenbauer', 'forstwirt', 'hochschulagraringenieur', 'oberregierungslandwirtschaftsrat', '-landwirt', '-agraringenieurin', 'landwirtschaftsmeister', 'selbstständiger landwirt', '-agraringenieur', 'straßenbauer', 'landwirtschaftsrat', 'oberlandwirtschaftsrat', 'forstoberrat', 'landwirt', 'betonbauer', 'stahlbetonbauer', 'forstmeister i. r.', 'agrarreferent'}\n"
     ]
    }
   ],
   "source": [
    "df_mdb = replace_berufsklasse(berufsklasse = 'Land-/Forstwirt*in', dict_berufe = dict_berufe, df = df_mdb)"
   ]
  },
  {
   "cell_type": "code",
   "execution_count": 39,
   "id": "a7333e5f-aba5-417f-9adb-02908bdc8e66",
   "metadata": {},
   "outputs": [
    {
     "name": "stdout",
     "output_type": "stream",
     "text": [
      "{'speditionsunternehmer', 'selbst. unternehmer', 'bauunternehmer', 'selbständiger unternehmer', 'handwerksunternehmer', 'selbstständiger unternehmer', 'unternehmer', 'transportunternehmer'}\n"
     ]
    }
   ],
   "source": [
    "df_mdb = replace_berufsklasse(berufsklasse = 'Unterehmer*in', dict_berufe = dict_berufe, df = df_mdb)"
   ]
  },
  {
   "cell_type": "code",
   "execution_count": 40,
   "id": "95db8991-a732-4495-9938-a22a5d5cf7b9",
   "metadata": {},
   "outputs": [
    {
     "name": "stdout",
     "output_type": "stream",
     "text": [
      "{'hochschulingenieur', 'ingenieurökonom', 'öffentlich bestellter vermessungsingenieur', 'oberingenieur', '-ingenieur', '-ingenieurökonom', 'wirtschaftsingenieur', 'ingenieur (gr', '-wirtschaftsingenieurin', 'maschinenbaumeister', 'bauingenieur', 'vertriebsingenieur', '-ingenieurin  fb architektur', '-ing.  architekt', 'elektroingenieur', '-innenarchitekt', 'textilingenieur', 'bauingenieur (gr', 'maschinenbauingenieur', 'gartenarchitekt', 'architekt bda', '-maschinenbauingenieur', '-bauingenieur', '-ingenieurin  lebensmittelkonservierer', '-meliorationsingenieur', '-wirtschaftsingenieur', '-chemieingenieur', '-ingenieur (tu)', 'ingenieur', '-ingenieurin', '-elektroingenieur', 'freie innenarchitekt', 'bergingenieur', 'chemieingenieur', 'betriebsingenieur', 'architekt'}\n"
     ]
    }
   ],
   "source": [
    "df_mdb = replace_berufsklasse(berufsklasse = 'Ingenieur*in', dict_berufe = dict_berufe, df = df_mdb)"
   ]
  },
  {
   "cell_type": "code",
   "execution_count": 41,
   "id": "0659bd2d-4a0e-4d30-98fa-dac569d93a0f",
   "metadata": {},
   "outputs": [
    {
     "data": {
      "text/plain": [
       "1001"
      ]
     },
     "execution_count": 41,
     "metadata": {},
     "output_type": "execute_result"
    }
   ],
   "source": [
    "len(set(df_mdb.BERUF_MAPPED))"
   ]
  },
  {
   "cell_type": "code",
   "execution_count": 42,
   "id": "48ba97fa-d2d8-44df-bc88-19795ac5281a",
   "metadata": {},
   "outputs": [
    {
     "name": "stdout",
     "output_type": "stream",
     "text": [
      "{'rundfunk-redakteur', 'freiberufliche redakteur', 'wissenschaftlicher redakteur', 'publizist', 'chefredakteur', 'freier journalist', 'freie journalist', 'redakteur', 'politischer redakteur', 'journalist', 'pr-journalist', 'schriftsteller', 'fernsehjournalist'}\n"
     ]
    }
   ],
   "source": [
    "df_mdb = replace_berufsklasse(berufsklasse = 'Journalist*in', dict_berufe = dict_berufe, df = df_mdb)"
   ]
  },
  {
   "cell_type": "code",
   "execution_count": 43,
   "id": "71676830-0a0b-483d-b33e-ef2eb96cf6ec",
   "metadata": {},
   "outputs": [
    {
     "name": "stdout",
     "output_type": "stream",
     "text": [
      "{'erzieher', '-sozialpädagog', 'reallehrer', 'sozialpädagog', 'hauptschullehrer', 'oberschulrat i. r.', 'lehrerin', 'lehrer am gymnasium (oberstudienrat)', 'hauptlehrer', 'oberstudienrat', 'schulrätin', '-lehrer biologie/chemie', 'fachschullehrer', 'sonderschullehrerin', 'sozialpädagoge', 'hochschulprofessor', 'pädagogischer leiter', 'regierungs- u.schulrat z. wv.', '-pädagoge', 'volkshochschulangestellter', 'gewerbeschullehrer', 'fachschuldozent', 'realschullehrer', 'schulleiterin', 'studienrat', '-religionspädagoge', '-sportlehrer', '-handelslehrer', 'volkshochschuldirektor', 'sozialpädagoge/sozialarbeiter', 'leitender gesamtschuldirektor', 'lehrerin a. a.', 'schulleiter', 'realschuldirektor', 'schulamtsdirektor', 'fachhochschullehrer', 'hochschullehrer', 'sonderschullehrer', 'gymnastiklehrer', 'berufschullehrer', 'schuldirektor', 'volkshochschulleiter', '-wirtschaftslehrer', 'oberlehrer', 'professor an einer wissenschaftlichen hochschule', 'sttschuldirektor', '-ing. pädagoge', 'lehrerin im hochschuldienst', '-medizinpädagoge', 'oberstudienrat i. r.', 'oberschulrät', 'hochschulassistent', 'hauptschulrat', 'lehrer', 'realschulektorin', 'krankenvertretung staatlicher schuldienst', '-pädagog', 'lehrer am katholischen gymnasium ravensburg', 'pädagogische mitarbeiter', 'grund - u. hauptschullehrer', 'studiendirektor im privatschuldienst', 'realschulrektor', 'studiendirektor', 'lehrerin (oberstudienrätin)', '-pädagogin', 'sozialpädagogin gr', '-sozialpädagogin', 'oberstudiendirektor', 'technischer lehrer', 'berufsschullehrer', 'stellvertr. schulleiter', 'schulrat', 'pädagoge', 'sportlehrer', 'fachhochschulprofessor', 'sonderschulpädagog', 'hochschuldozent', 'regierungsschuldirektor', 'fremdsprachenlehrer', 'gymnasiallehrer', '-lehrer', '-sozialpädagoge', 'schulamtsleiter', 'hauptschuldirektor', 'pädagogin in der erwachsenenbildung', 'volksschulrektor', 'waldorflehrer', 'studienrat im hochschuldienst', 'fremdsprachensekretär', 'oberlehrer i. r.', 'oberschulrat', 'gymnasialdirektor', 'pädagogin m a', 'studiendirektorin', 'lehrerin (strin)'}\n"
     ]
    }
   ],
   "source": [
    "df_mdb = replace_berufsklasse(berufsklasse = 'Lehrer*in', dict_berufe = dict_berufe, df = df_mdb)"
   ]
  },
  {
   "cell_type": "code",
   "execution_count": 44,
   "id": "1383a96d-efa4-4678-8b71-6c516e259433",
   "metadata": {},
   "outputs": [
    {
     "name": "stdout",
     "output_type": "stream",
     "text": [
      "{'wirtschaftskaufmann', 'kaufmännischer angestellter', 'einzelhandelskaufmann', 'kaufmännische angestellte', 'kaufmann', 'kaufmännische angest.', 'industriekaufmann', 'reisebürokaufmann', 'reiseverkehrskaufmann', 'kaufmann im einzelhandel', 'großhandelskaufmann', '-kaufmann wp/stb', 'pharmazeutisch kaufmännische assistent', 'selbstständiger kaufmann', 'kaufm.angestellter', '-kaufmann (univ.)', 'versicherungskaufmann', 'versichrungskaufmann', 'mineralölkaufmann', 'viehkaufmann', '-kaufmann', 'bankkaufmann', 'textilkaufmann', 'grundstücks- u. wohnungswirtschaftskaufmann', 'technischer kaufmann', 'kaufmännischer direktor', 'werbekaufmann', 'selbstständige industriekaufmann', 'immobilienkaufmann', 'hotelkaufmann', 'außenhandelskaufmann', 'selbständiger einzelhandelskaufmann', 'speditionskaufmann', 'selbständiger kaufmann', 'bürokaufmann', 'verlagskaufmann', 'selbst. kaufmann', 'schifffahrtskaufmann', 'kaufm. angestellte', 'datenverarbeitungskaufmann', 'baukaufmann'}\n"
     ]
    }
   ],
   "source": [
    "df_mdb = replace_berufsklasse(berufsklasse = 'Kaufmann/-frau', dict_berufe = dict_berufe, df = df_mdb)"
   ]
  },
  {
   "cell_type": "code",
   "execution_count": 45,
   "id": "2eef0c35-9c33-4859-8b3d-3fad633bb1ba",
   "metadata": {},
   "outputs": [
    {
     "name": "stdout",
     "output_type": "stream",
     "text": [
      "{'ordentlicher universitätsprofessor', 'prof.', 'ordentlicher professor', 'professor', 'o. universitätsprofessor', 'professor der betriebswirtschaft', 'studienprofessor', 'o. professor', 'universitätsprofessor', 'universitätsprofessor der rechte', 'dozent', 'honorarprofessor'}\n"
     ]
    }
   ],
   "source": [
    "df_mdb = replace_berufsklasse(berufsklasse = 'Professor*in', dict_berufe = dict_berufe, df = df_mdb)"
   ]
  },
  {
   "cell_type": "code",
   "execution_count": 46,
   "id": "be618235-8667-4f9b-891a-2d393bd4c1e9",
   "metadata": {},
   "outputs": [
    {
     "data": {
      "text/plain": [
       "844"
      ]
     },
     "execution_count": 46,
     "metadata": {},
     "output_type": "execute_result"
    }
   ],
   "source": [
    "len(set(df_mdb.BERUF_MAPPED))"
   ]
  },
  {
   "cell_type": "code",
   "execution_count": 47,
   "id": "27b7c6bd-7c81-4e45-9902-37a599abeb0b",
   "metadata": {},
   "outputs": [
    {
     "name": "stdout",
     "output_type": "stream",
     "text": [
      "{'volkswirt', '-volkswirt', 'volkswirtschaftler', '-volkswirt (uni)', 'volkswirt (gr', 'technischer -volkswirt', '-volkswirt (universität)'}\n"
     ]
    }
   ],
   "source": [
    "df_mdb = replace_berufsklasse(berufsklasse = 'Volkswirt*in', dict_berufe = dict_berufe, df = df_mdb)"
   ]
  },
  {
   "cell_type": "code",
   "execution_count": 48,
   "id": "e05202fc-ebd7-46f9-955a-8cb92bb49b5a",
   "metadata": {},
   "outputs": [
    {
     "name": "stderr",
     "output_type": "stream",
     "text": [
      "/usr/local/lib/python3.9/site-packages/pandas/core/strings/accessor.py:101: UserWarning: This pattern has match groups. To actually get the groups, use str.extract.\n",
      "  return func(self, *args, **kwargs)\n"
     ]
    },
    {
     "name": "stdout",
     "output_type": "stream",
     "text": [
      "{'regierungsangestellte', 'staatsminister im auswärtigen amt', 'staatss. b. minister', 'bürgermeisterin', 'referent (staatsministerium)', 'landrat i. r.', 'bundesminister der justiz', 'staatssekretär im ministerium', '1. bürgermeister', 'regierungsdirektor', 'leitender regierungsdirektor', 'bundesministerin', 'regierungsrät', 'beamter (leitender regierungsdirektor)', 'ministerialdirigent', 'wirtschaftsminister u. stellvertr. ministerpräsident', 'bürgermeister i. r.', 'präsidentin dbt', 'vizepräsident dbt', 'erster bürgermeister', 'ministerrialreferent', 'präsident dbt', 'parlamentarischer staatssekretär', 'regierungspräsident z. d.', 'staatssekretärin', 'bundesminister des innern', 'regierungspräsident', 'oberbürgermeisterin', 'regierungsinspektor', 'regierungsdirektorin', 'staatsminister', 'ministerpräsident', 'vizepräsidentin dbt', 'referentin landesministerium nrw', 'parl. staatssekretär', 'regierungsvizepräsident', 'oberbürgermeister', 'ministerialdirektor', 'staatsmister beim bundesminister der auswärtigen', 'bundeskanzler', 'ministerpräsident des freistaatesyern', 'landrat', 'ministerialdirektor i. r.', 'ministerialdirektor z. d.', 'parl. staatssekretär im bmbf', 'oberregierungsrat', 'regierungsassessor', 'gemeindedirektor', 'landesminister', 'bürgermeister', 'bundesminister des auswärtigen', '-betriebswirt  bürgermeister', 'staatssekretär i. r.', 'regierungsrätin', 'landesministerin  (bb)', 'ministerialrat', 'parl. staatssekretärin', 'regierungsangestellter', 'bundesminister der finanzen', 'regierungsrat', 'bezirksbürgermeister', 'minister', 'oberregierungsrat  bundesminister', 'staatssekretär', 'bundesminister f. besondere aufgaben', 'amtsbürgermeister', 'staatsministerin', 'bundestagspräsident', 'bundesminister'}\n"
     ]
    }
   ],
   "source": [
    "df_mdb = replace_berufsklasse(berufsklasse = 'Berufspolitiker*in', dict_berufe = dict_berufe, df = df_mdb)"
   ]
  },
  {
   "cell_type": "code",
   "execution_count": 49,
   "id": "e22f10d8-4da1-41ce-afdd-b74b8396e03f",
   "metadata": {},
   "outputs": [
    {
     "name": "stdout",
     "output_type": "stream",
     "text": [
      "{'beratender psychologe', 'tierarzt', 'werksarzt', 'kinderarzt', 'fachpsychologin der mediz', '-psychologe', 'zahnarzt', 'arzt allgemein/ tropenmediz', 'psycholog', 'chefarzt im bezirkskrankenhaus schwer', 'apotheker', 'facharzt', 'mannenarzt', '-psycholog', 'arzt', 'praktischer arzt'}\n"
     ]
    }
   ],
   "source": [
    "df_mdb = replace_berufsklasse(berufsklasse = 'Arzt/Ärztin', dict_berufe = dict_berufe, df = df_mdb)"
   ]
  },
  {
   "cell_type": "code",
   "execution_count": 50,
   "id": "e8e44090-19e2-4187-aaf9-8feeeb959fb2",
   "metadata": {},
   "outputs": [
    {
     "name": "stdout",
     "output_type": "stream",
     "text": [
      "{'-theologe', 'pfarrer im wartestand', 'pfarrer', 'pfarrer i. r.', 'diakon', 'theolog', 'theologe'}\n"
     ]
    }
   ],
   "source": [
    "df_mdb = replace_berufsklasse(berufsklasse = 'Theolog*in', dict_berufe = dict_berufe, df = df_mdb)"
   ]
  },
  {
   "cell_type": "code",
   "execution_count": 51,
   "id": "80be1424-0b40-4f4e-854a-9836fc71c659",
   "metadata": {},
   "outputs": [
    {
     "name": "stdout",
     "output_type": "stream",
     "text": [
      "{'städtischer ltd. verwaltungsdirektor', 'kreisverwaltungsreferent', 'bundesbankdirektor', 'bankdirektor', 'steuerberater', '-verwaltungswissenschaftler', 'verwaltungsdirektor', 'sttverwaltungsrat', '-verwaltungswirt', '-bankbetriebswirt (fs)', 'verwaltungs-', 'betriebswirt', 'verwaltungsangestellter', 'verwaltungsamtmann (sachbearbeiter)', 'verwaltungswirt', 'betriebswirt (vwa)', '-betriebswirtschaftler', 'betriebswirtin sgd', 'verwaltungsangestellte', 'verwaltungsfachangestellter', 'verwaltungsamtsrat', 'verwaltungsleiter', 'landesoberverwaltungsrat', '-betriebswirtin  amtmann', 'verwaltungsamtmann', 'verwaltungs-betriebswirtin (vwa)', 'verwaltungsratsvorsitzender', '-verwaltungswirt polizei', '-betriebswirtin', 'verwaltungsfachwirt', 'betriebswirtin (vwa)', 'kreisverwaltungsdirektor', '-betriebswirt', 'verwaltungsvollzugsbeamter', 'verwaltungsrat', 'sparkassenbetriebswirt', 'verwaltungsoberinspektor', 'rechtskundige verwaltungsdirektorin', 'selbständige steuerberater', '-verwaltungswirtin', 'verwaltungsbeamter', 'verwaltungsinspektor'}\n"
     ]
    }
   ],
   "source": [
    "df_mdb = replace_berufsklasse(berufsklasse = 'Betriebswirt*in', dict_berufe = dict_berufe, df = df_mdb)"
   ]
  },
  {
   "cell_type": "code",
   "execution_count": 52,
   "id": "1a13fe46-14f0-42a5-81db-8eed1c05c96d",
   "metadata": {},
   "outputs": [
    {
     "name": "stdout",
     "output_type": "stream",
     "text": [
      "{'prokurist', 'personalmanagementökonomin (vwa)', 'ökonomierat', '-sozialökonom', 'wirtschaftswissenschaftler', 'ing.-ökonom', 'ökonom', '-ökonom'}\n"
     ]
    }
   ],
   "source": [
    "df_mdb = replace_berufsklasse(berufsklasse = 'Wirtschaftswissenschaftler*in', dict_berufe = dict_berufe, df = df_mdb)"
   ]
  },
  {
   "cell_type": "code",
   "execution_count": 53,
   "id": "4302e9eb-e432-46a6-a9bb-45b58183dace",
   "metadata": {},
   "outputs": [
    {
     "name": "stdout",
     "output_type": "stream",
     "text": [
      "{'politologe', '-soziologe', 'kulturwissenschaftler', 'politikwissenschaftler (m. a.)', 'literaturhistoriker', '-philosoph', '-politolog', '- politolog', 'politikwissenschaftler (m.a.)', 'philolog', 'politikwissenschaftliche doktorand', 'sozialwissenschaftler', 'politikwissenschaftler', '-historiker', 'historiker', '-politologe', 'soziolog', '-soziolog', '-sozialwissenschaftler', 'politolog', 'kunsthistoriker', 'soziologe', 'politikwissenschaftler ma', 'klassischer philologe', 'philologe', 'politikwissenschaftler m. a.', '-politikwissenschaftler'}\n"
     ]
    }
   ],
   "source": [
    "df_mdb = replace_berufsklasse(berufsklasse = 'Geisteswissenschaftler*in', dict_berufe = dict_berufe, df = df_mdb)"
   ]
  },
  {
   "cell_type": "code",
   "execution_count": 54,
   "id": "c0b71494-420c-4cca-b38d-6be4a257962d",
   "metadata": {},
   "outputs": [
    {
     "name": "stdout",
     "output_type": "stream",
     "text": [
      "{'biologe', 'biochemiker', 'physikalisch-technische assistent', '-chemiker', '-mathematiker', '-biolog', 'mathematiker', '-biologe', 'chemielaborant', '-physiker', '-informatiker', 'biologiestudent', 'wirtschaftsinformatiker', 'chemiefacharbeiter', 'biolog', 'informatiker', 'physiker', 'physikochemiker', '-geophysiker', 'staatlich geprüfte informatiker', 'mikrobiologe', 'chemiker'}\n"
     ]
    }
   ],
   "source": [
    "df_mdb = replace_berufsklasse(berufsklasse = 'Naturwissenschaftler*in', dict_berufe = dict_berufe, df = df_mdb)"
   ]
  },
  {
   "cell_type": "code",
   "execution_count": 55,
   "id": "82b8de5a-cc4e-4379-80d0-9c912fbcdfa5",
   "metadata": {},
   "outputs": [
    {
     "name": "stdout",
     "output_type": "stream",
     "text": [
      "{'verlagsleiter', 'selbst. verlagsrepräsentant', 'zeitungsverleger', 'verlagsgeschäftsführer', 'verleger'}\n"
     ]
    }
   ],
   "source": [
    "df_mdb = replace_berufsklasse(berufsklasse = 'Verleger*in', dict_berufe = dict_berufe, df = df_mdb)"
   ]
  },
  {
   "cell_type": "code",
   "execution_count": 56,
   "id": "55c0ae57-29bc-44c0-9e8d-b5d42ed6d78e",
   "metadata": {},
   "outputs": [
    {
     "name": "stdout",
     "output_type": "stream",
     "text": [
      "{'feinmechaniker', 'kraftfahrzeughandwerker', 'elektromeister', 'tischlergesell', 'bergmann (hauer)', 'elektrotechniker', 'selbstständiger bäckermeister', 'betonfacharbeiter', 'schlosser', 'tischlermeister', 'werkzeugmacher', 'keramikmaler', 'elektroniker', 'bäcker- u. konditormeister', 'elektroinstallateur', 'malermeister', 'meister im maurer-', 'meister des maler-', 'elektrohandwerksmeister', 'bäcker', 'elektro.-ing.', 'bäckermeister', 'elektro-techniker', 'elektroschweißer', '-ing. elektrotechnik', 'handwerksmeister', 'mechanikermeister', 'maschinenschlosser', 'tischlergeselle', 'funkmechaniker', 'schreinermeister', 'industriemechaniker', 'bäckerm.', 'elektromonteur', 'selbständiger kfz.-mechanikermeister', 'elektromechaniker', 'schreiner', 'geschäftsführer der handwerkskammer ostthüringen', 'müllermeister', 'bergmann', 'elektromeister in der energiewirtschaft', 'maurer', 'schlosservorarbeiter', 'modellschreiner', 'kfz.-mechaniker', 'mechaniker'}\n"
     ]
    }
   ],
   "source": [
    "df_mdb = replace_berufsklasse(berufsklasse = 'Handwerker*in', dict_berufe = dict_berufe, df = df_mdb)"
   ]
  },
  {
   "cell_type": "code",
   "execution_count": 57,
   "id": "b1452d7f-60d9-4d66-bab8-6a0d85006193",
   "metadata": {},
   "outputs": [
    {
     "name": "stdout",
     "output_type": "stream",
     "text": [
      "{'soldat', 'oberstleutnant', 'berufssoldat'}\n"
     ]
    }
   ],
   "source": [
    "df_mdb = replace_berufsklasse(berufsklasse = 'Militär', dict_berufe = dict_berufe, df = df_mdb)"
   ]
  },
  {
   "cell_type": "code",
   "execution_count": 58,
   "id": "29efc7a3-c6e9-4b6f-a930-dede78b94247",
   "metadata": {},
   "outputs": [
    {
     "name": "stdout",
     "output_type": "stream",
     "text": [
      "{'postbeamter', 'polizeibeamter', 'kriminalbeamter', 'steuerbeamter', 'fernmeldebeamter', 'bundesbahnbeamter', 'beamter i. s. b.', 'beamter', 'beamter i. r.', 'kriminalpolizeibeamter', 'komunalbeamter', 'kommunalbeamter', 'beamter (amtsrat); persönl. referent', 'eisenbahnbeamter', 'finanzbeamter', 'feuerwehrbeamter'}\n"
     ]
    }
   ],
   "source": [
    "df_mdb = replace_berufsklasse(berufsklasse = 'Beamter', dict_berufe = dict_berufe, df = df_mdb)"
   ]
  },
  {
   "cell_type": "code",
   "execution_count": 59,
   "id": "01c56a13-6dde-4331-abe3-05947667d4ce",
   "metadata": {},
   "outputs": [
    {
     "data": {
      "text/plain": [
       "588"
      ]
     },
     "execution_count": 59,
     "metadata": {},
     "output_type": "execute_result"
    }
   ],
   "source": [
    "len(set(df_mdb.BERUF_MAPPED))"
   ]
  },
  {
   "cell_type": "code",
   "execution_count": 60,
   "id": "0c90624c-5607-43cd-8eff-e11bae925f83",
   "metadata": {},
   "outputs": [
    {
     "data": {
      "text/html": [
       "<div>\n",
       "<style scoped>\n",
       "    .dataframe tbody tr th:only-of-type {\n",
       "        vertical-align: middle;\n",
       "    }\n",
       "\n",
       "    .dataframe tbody tr th {\n",
       "        vertical-align: top;\n",
       "    }\n",
       "\n",
       "    .dataframe thead th {\n",
       "        text-align: right;\n",
       "    }\n",
       "</style>\n",
       "<table border=\"1\" class=\"dataframe\">\n",
       "  <thead>\n",
       "    <tr style=\"text-align: right;\">\n",
       "      <th></th>\n",
       "      <th>ID</th>\n",
       "    </tr>\n",
       "    <tr>\n",
       "      <th>BERUF_MAPPED</th>\n",
       "      <th></th>\n",
       "    </tr>\n",
       "  </thead>\n",
       "  <tbody>\n",
       "    <tr>\n",
       "      <th>gewerkschaftssekretär</th>\n",
       "      <td>52</td>\n",
       "    </tr>\n",
       "    <tr>\n",
       "      <th>hausmann</th>\n",
       "      <td>52</td>\n",
       "    </tr>\n",
       "    <tr>\n",
       "      <th>Wirtschaftswissenschaftler*in</th>\n",
       "      <td>38</td>\n",
       "    </tr>\n",
       "    <tr>\n",
       "      <th>Theolog*in</th>\n",
       "      <td>37</td>\n",
       "    </tr>\n",
       "    <tr>\n",
       "      <th>Unterehmer*in</th>\n",
       "      <td>28</td>\n",
       "    </tr>\n",
       "    <tr>\n",
       "      <th>Beamter</th>\n",
       "      <td>27</td>\n",
       "    </tr>\n",
       "    <tr>\n",
       "      <th>mitglied der volkskammer</th>\n",
       "      <td>23</td>\n",
       "    </tr>\n",
       "    <tr>\n",
       "      <th>fabrikant</th>\n",
       "      <td>21</td>\n",
       "    </tr>\n",
       "    <tr>\n",
       "      <th>Verleger*in</th>\n",
       "      <td>18</td>\n",
       "    </tr>\n",
       "    <tr>\n",
       "      <th>rektor</th>\n",
       "      <td>13</td>\n",
       "    </tr>\n",
       "    <tr>\n",
       "      <th>angestellte</th>\n",
       "      <td>12</td>\n",
       "    </tr>\n",
       "    <tr>\n",
       "      <th>unternehmensberater</th>\n",
       "      <td>12</td>\n",
       "    </tr>\n",
       "    <tr>\n",
       "      <th>schriftsetzer</th>\n",
       "      <td>11</td>\n",
       "    </tr>\n",
       "    <tr>\n",
       "      <th>student</th>\n",
       "      <td>11</td>\n",
       "    </tr>\n",
       "    <tr>\n",
       "      <th>sozialarbeiter</th>\n",
       "      <td>9</td>\n",
       "    </tr>\n",
       "    <tr>\n",
       "      <th>technischer angestellter</th>\n",
       "      <td>8</td>\n",
       "    </tr>\n",
       "  </tbody>\n",
       "</table>\n",
       "</div>"
      ],
      "text/plain": [
       "                               ID\n",
       "BERUF_MAPPED                     \n",
       "gewerkschaftssekretär          52\n",
       "hausmann                       52\n",
       "Wirtschaftswissenschaftler*in  38\n",
       "Theolog*in                     37\n",
       "Unterehmer*in                  28\n",
       "Beamter                        27\n",
       "mitglied der volkskammer       23\n",
       "fabrikant                      21\n",
       "Verleger*in                    18\n",
       "rektor                         13\n",
       "angestellte                    12\n",
       "unternehmensberater            12\n",
       "schriftsetzer                  11\n",
       "student                        11\n",
       "sozialarbeiter                  9\n",
       "technischer angestellter        8"
      ]
     },
     "execution_count": 60,
     "metadata": {},
     "output_type": "execute_result"
    }
   ],
   "source": [
    "df_mdb[['ID', 'BERUF_MAPPED']].groupby('BERUF_MAPPED').count().sort_values(by='ID', ascending=False)[16:32]"
   ]
  },
  {
   "cell_type": "code",
   "execution_count": 62,
   "id": "ef9ae9a1-ad6e-4011-8a5f-23aafaa38e4c",
   "metadata": {},
   "outputs": [
    {
     "data": {
      "text/plain": [
       "<AxesSubplot:xlabel='BERUF_MAPPED'>"
      ]
     },
     "execution_count": 62,
     "metadata": {},
     "output_type": "execute_result"
    },
    {
     "data": {
      "image/png": "[encoded data removed]",
      "text/plain": [
       "<Figure size 1152x576 with 1 Axes>"
      ]
     },
     "metadata": {
      "needs_background": "light"
     },
     "output_type": "display_data"
    }
   ],
   "source": [
    "plt.figure(figsize=(16,8))\n",
    "df_mdb.groupby('BERUF_MAPPED')['ID'].count().sort_values(ascending=False)[:32].plot(kind='bar')"
   ]
  },
  {
   "cell_type": "code",
   "execution_count": 63,
   "id": "822becb9-c959-4157-917c-0ac96fc9247a",
   "metadata": {},
   "outputs": [
    {
     "data": {
      "text/plain": [
       "588"
      ]
     },
     "execution_count": 63,
     "metadata": {},
     "output_type": "execute_result"
    }
   ],
   "source": [
    "len(set(df_mdb['BERUF_MAPPED']))"
   ]
  },
  {
   "cell_type": "code",
   "execution_count": null,
   "id": "af431cc6-61fa-4567-bf88-7834bbe40168",
   "metadata": {},
   "outputs": [],
   "source": []
  },
  {
   "cell_type": "markdown",
   "id": "2cb734b0-1f43-478b-8c2e-b4923b312574",
   "metadata": {},
   "source": [
    "# construct df_mdb_wp"
   ]
  },
  {
   "cell_type": "code",
   "execution_count": 64,
   "id": "22eb0588-3f1e-447e-b82b-2bd600fde8f0",
   "metadata": {},
   "outputs": [
    {
     "name": "stdout",
     "output_type": "stream",
     "text": [
      "(11627, 19)\n"
     ]
    }
   ],
   "source": [
    "df_mdb_wp = get_mdb_wp_data(df_mdb)\n",
    "print(df_mdb_wp.shape)"
   ]
  },
  {
   "cell_type": "code",
   "execution_count": 65,
   "id": "47c471ca-f842-4b9f-aa75-6d354a818c8b",
   "metadata": {},
   "outputs": [
    {
     "data": {
      "text/html": [
       "<div>\n",
       "<style scoped>\n",
       "    .dataframe tbody tr th:only-of-type {\n",
       "        vertical-align: middle;\n",
       "    }\n",
       "\n",
       "    .dataframe tbody tr th {\n",
       "        vertical-align: top;\n",
       "    }\n",
       "\n",
       "    .dataframe thead th {\n",
       "        text-align: right;\n",
       "    }\n",
       "</style>\n",
       "<table border=\"1\" class=\"dataframe\">\n",
       "  <thead>\n",
       "    <tr style=\"text-align: right;\">\n",
       "      <th></th>\n",
       "      <th>ID</th>\n",
       "      <th>NACHNAME</th>\n",
       "      <th>VORNAME</th>\n",
       "      <th>GEBURTSDATUM</th>\n",
       "      <th>GEBURTSORT</th>\n",
       "      <th>GEBURTSLAND</th>\n",
       "      <th>STERBEDATUM</th>\n",
       "      <th>GESCHLECHT</th>\n",
       "      <th>FAMILIENSTAND</th>\n",
       "      <th>RELIGION</th>\n",
       "      <th>BERUF</th>\n",
       "      <th>PARTEI_KURZ</th>\n",
       "      <th>VITA_KURZ</th>\n",
       "      <th>VEROEFFENTLICHUNGSPFLICHTIGES</th>\n",
       "      <th>ANZ_WAHLPERIODEN</th>\n",
       "      <th>RELIGION_MAPPED</th>\n",
       "      <th>FAMILIENSTAND_MAPPED</th>\n",
       "      <th>BERUF_MAPPED</th>\n",
       "      <th>WP</th>\n",
       "    </tr>\n",
       "  </thead>\n",
       "  <tbody>\n",
       "    <tr>\n",
       "      <th>1465</th>\n",
       "      <td>11001478</td>\n",
       "      <td>Merkel</td>\n",
       "      <td>Angela</td>\n",
       "      <td>17.07.1954</td>\n",
       "      <td>Hamburg</td>\n",
       "      <td>UNBEKANNT</td>\n",
       "      <td>UNBEKANNT</td>\n",
       "      <td>weiblich</td>\n",
       "      <td>verheiratet</td>\n",
       "      <td>evangelisch</td>\n",
       "      <td>Bundeskanzlerin, Dipl.-Physikerin</td>\n",
       "      <td>CDU</td>\n",
       "      <td>1973 Abitur in Templin. Physikstudium Univ. Le...</td>\n",
       "      <td>4 Funktionen in Körperschaften und Anstalten d...</td>\n",
       "      <td>8</td>\n",
       "      <td>evangelisch</td>\n",
       "      <td>verh.</td>\n",
       "      <td>Berufspolitiker*in</td>\n",
       "      <td>12</td>\n",
       "    </tr>\n",
       "    <tr>\n",
       "      <th>1465</th>\n",
       "      <td>11001478</td>\n",
       "      <td>Merkel</td>\n",
       "      <td>Angela</td>\n",
       "      <td>17.07.1954</td>\n",
       "      <td>Hamburg</td>\n",
       "      <td>UNBEKANNT</td>\n",
       "      <td>UNBEKANNT</td>\n",
       "      <td>weiblich</td>\n",
       "      <td>verheiratet</td>\n",
       "      <td>evangelisch</td>\n",
       "      <td>Bundeskanzlerin, Dipl.-Physikerin</td>\n",
       "      <td>CDU</td>\n",
       "      <td>1973 Abitur in Templin. Physikstudium Univ. Le...</td>\n",
       "      <td>4 Funktionen in Körperschaften und Anstalten d...</td>\n",
       "      <td>8</td>\n",
       "      <td>evangelisch</td>\n",
       "      <td>verh.</td>\n",
       "      <td>Berufspolitiker*in</td>\n",
       "      <td>13</td>\n",
       "    </tr>\n",
       "    <tr>\n",
       "      <th>1465</th>\n",
       "      <td>11001478</td>\n",
       "      <td>Merkel</td>\n",
       "      <td>Angela</td>\n",
       "      <td>17.07.1954</td>\n",
       "      <td>Hamburg</td>\n",
       "      <td>UNBEKANNT</td>\n",
       "      <td>UNBEKANNT</td>\n",
       "      <td>weiblich</td>\n",
       "      <td>verheiratet</td>\n",
       "      <td>evangelisch</td>\n",
       "      <td>Bundeskanzlerin, Dipl.-Physikerin</td>\n",
       "      <td>CDU</td>\n",
       "      <td>1973 Abitur in Templin. Physikstudium Univ. Le...</td>\n",
       "      <td>4 Funktionen in Körperschaften und Anstalten d...</td>\n",
       "      <td>8</td>\n",
       "      <td>evangelisch</td>\n",
       "      <td>verh.</td>\n",
       "      <td>Berufspolitiker*in</td>\n",
       "      <td>14</td>\n",
       "    </tr>\n",
       "    <tr>\n",
       "      <th>1465</th>\n",
       "      <td>11001478</td>\n",
       "      <td>Merkel</td>\n",
       "      <td>Angela</td>\n",
       "      <td>17.07.1954</td>\n",
       "      <td>Hamburg</td>\n",
       "      <td>UNBEKANNT</td>\n",
       "      <td>UNBEKANNT</td>\n",
       "      <td>weiblich</td>\n",
       "      <td>verheiratet</td>\n",
       "      <td>evangelisch</td>\n",
       "      <td>Bundeskanzlerin, Dipl.-Physikerin</td>\n",
       "      <td>CDU</td>\n",
       "      <td>1973 Abitur in Templin. Physikstudium Univ. Le...</td>\n",
       "      <td>4 Funktionen in Körperschaften und Anstalten d...</td>\n",
       "      <td>8</td>\n",
       "      <td>evangelisch</td>\n",
       "      <td>verh.</td>\n",
       "      <td>Berufspolitiker*in</td>\n",
       "      <td>15</td>\n",
       "    </tr>\n",
       "    <tr>\n",
       "      <th>1465</th>\n",
       "      <td>11001478</td>\n",
       "      <td>Merkel</td>\n",
       "      <td>Angela</td>\n",
       "      <td>17.07.1954</td>\n",
       "      <td>Hamburg</td>\n",
       "      <td>UNBEKANNT</td>\n",
       "      <td>UNBEKANNT</td>\n",
       "      <td>weiblich</td>\n",
       "      <td>verheiratet</td>\n",
       "      <td>evangelisch</td>\n",
       "      <td>Bundeskanzlerin, Dipl.-Physikerin</td>\n",
       "      <td>CDU</td>\n",
       "      <td>1973 Abitur in Templin. Physikstudium Univ. Le...</td>\n",
       "      <td>4 Funktionen in Körperschaften und Anstalten d...</td>\n",
       "      <td>8</td>\n",
       "      <td>evangelisch</td>\n",
       "      <td>verh.</td>\n",
       "      <td>Berufspolitiker*in</td>\n",
       "      <td>16</td>\n",
       "    </tr>\n",
       "  </tbody>\n",
       "</table>\n",
       "</div>"
      ],
      "text/plain": [
       "            ID NACHNAME VORNAME GEBURTSDATUM GEBURTSORT GEBURTSLAND  \\\n",
       "1465  11001478   Merkel  Angela   17.07.1954    Hamburg   UNBEKANNT   \n",
       "1465  11001478   Merkel  Angela   17.07.1954    Hamburg   UNBEKANNT   \n",
       "1465  11001478   Merkel  Angela   17.07.1954    Hamburg   UNBEKANNT   \n",
       "1465  11001478   Merkel  Angela   17.07.1954    Hamburg   UNBEKANNT   \n",
       "1465  11001478   Merkel  Angela   17.07.1954    Hamburg   UNBEKANNT   \n",
       "\n",
       "     STERBEDATUM GESCHLECHT FAMILIENSTAND     RELIGION  \\\n",
       "1465   UNBEKANNT   weiblich   verheiratet  evangelisch   \n",
       "1465   UNBEKANNT   weiblich   verheiratet  evangelisch   \n",
       "1465   UNBEKANNT   weiblich   verheiratet  evangelisch   \n",
       "1465   UNBEKANNT   weiblich   verheiratet  evangelisch   \n",
       "1465   UNBEKANNT   weiblich   verheiratet  evangelisch   \n",
       "\n",
       "                                  BERUF PARTEI_KURZ  \\\n",
       "1465  Bundeskanzlerin, Dipl.-Physikerin         CDU   \n",
       "1465  Bundeskanzlerin, Dipl.-Physikerin         CDU   \n",
       "1465  Bundeskanzlerin, Dipl.-Physikerin         CDU   \n",
       "1465  Bundeskanzlerin, Dipl.-Physikerin         CDU   \n",
       "1465  Bundeskanzlerin, Dipl.-Physikerin         CDU   \n",
       "\n",
       "                                              VITA_KURZ  \\\n",
       "1465  1973 Abitur in Templin. Physikstudium Univ. Le...   \n",
       "1465  1973 Abitur in Templin. Physikstudium Univ. Le...   \n",
       "1465  1973 Abitur in Templin. Physikstudium Univ. Le...   \n",
       "1465  1973 Abitur in Templin. Physikstudium Univ. Le...   \n",
       "1465  1973 Abitur in Templin. Physikstudium Univ. Le...   \n",
       "\n",
       "                          VEROEFFENTLICHUNGSPFLICHTIGES  ANZ_WAHLPERIODEN  \\\n",
       "1465  4 Funktionen in Körperschaften und Anstalten d...                 8   \n",
       "1465  4 Funktionen in Körperschaften und Anstalten d...                 8   \n",
       "1465  4 Funktionen in Körperschaften und Anstalten d...                 8   \n",
       "1465  4 Funktionen in Körperschaften und Anstalten d...                 8   \n",
       "1465  4 Funktionen in Körperschaften und Anstalten d...                 8   \n",
       "\n",
       "     RELIGION_MAPPED FAMILIENSTAND_MAPPED        BERUF_MAPPED  WP  \n",
       "1465     evangelisch                verh.  Berufspolitiker*in  12  \n",
       "1465     evangelisch                verh.  Berufspolitiker*in  13  \n",
       "1465     evangelisch                verh.  Berufspolitiker*in  14  \n",
       "1465     evangelisch                verh.  Berufspolitiker*in  15  \n",
       "1465     evangelisch                verh.  Berufspolitiker*in  16  "
      ]
     },
     "execution_count": 65,
     "metadata": {},
     "output_type": "execute_result"
    }
   ],
   "source": [
    "df_mdb_wp[df_mdb_wp.NACHNAME == 'Merkel'].head()"
   ]
  },
  {
   "cell_type": "markdown",
   "id": "9235e24c-7820-4d2c-95d9-cb111974cffc",
   "metadata": {},
   "source": [
    "# save as csv"
   ]
  },
  {
   "cell_type": "code",
   "execution_count": 66,
   "id": "b391fce5-2b33-4bdf-8f88-edb6aa19f532",
   "metadata": {},
   "outputs": [],
   "source": [
    "df_mdb.to_csv(DF_MDB_PATH, index=None)\n",
    "df_mdb_wp.to_csv(DF_MDB_WP_PATH, index=None)"
   ]
  },
  {
   "cell_type": "markdown",
   "id": "439eead9-6883-4edb-b1f4-f53c9a156f13",
   "metadata": {},
   "source": [
    "# read in data. exploratory data analysis"
   ]
  },
  {
   "cell_type": "code",
   "execution_count": 67,
   "id": "5d51940f-459e-4b79-8e25-c07ee7c7b58d",
   "metadata": {},
   "outputs": [],
   "source": [
    "df_mdb = pd.read_csv(DF_MDB_PATH, index_col=None)\n",
    "df_mdb_wp = pd.read_csv(DF_MDB_WP_PATH, index_col=None)"
   ]
  },
  {
   "cell_type": "code",
   "execution_count": 68,
   "id": "46c8cb00-8f21-4ea9-9a75-1bada0985a70",
   "metadata": {},
   "outputs": [
    {
     "data": {
      "text/plain": [
       "Index(['ID', 'NACHNAME', 'VORNAME', 'GEBURTSDATUM', 'GEBURTSORT',\n",
       "       'GEBURTSLAND', 'STERBEDATUM', 'GESCHLECHT', 'FAMILIENSTAND', 'RELIGION',\n",
       "       'BERUF', 'PARTEI_KURZ', 'VITA_KURZ', 'VEROEFFENTLICHUNGSPFLICHTIGES',\n",
       "       'ANZ_WAHLPERIODEN', '5', '6', '7', '8', '9', '10', '11', '3', '4', '2',\n",
       "       '12', '13', '14', '15', '16', '1', '17', '18', '19', 'RELIGION_MAPPED',\n",
       "       'FAMILIENSTAND_MAPPED', 'BERUF_MAPPED'],\n",
       "      dtype='object')"
      ]
     },
     "execution_count": 68,
     "metadata": {},
     "output_type": "execute_result"
    }
   ],
   "source": [
    "df_mdb.columns"
   ]
  },
  {
   "cell_type": "code",
   "execution_count": 69,
   "id": "f911c372-4cfa-4cb4-b796-9d9e0ba3e447",
   "metadata": {},
   "outputs": [
    {
     "data": {
      "text/html": [
       "<div>\n",
       "<style scoped>\n",
       "    .dataframe tbody tr th:only-of-type {\n",
       "        vertical-align: middle;\n",
       "    }\n",
       "\n",
       "    .dataframe tbody tr th {\n",
       "        vertical-align: top;\n",
       "    }\n",
       "\n",
       "    .dataframe thead th {\n",
       "        text-align: right;\n",
       "    }\n",
       "</style>\n",
       "<table border=\"1\" class=\"dataframe\">\n",
       "  <thead>\n",
       "    <tr style=\"text-align: right;\">\n",
       "      <th></th>\n",
       "      <th>ID</th>\n",
       "      <th>NACHNAME</th>\n",
       "      <th>VORNAME</th>\n",
       "      <th>GEBURTSDATUM</th>\n",
       "      <th>GEBURTSORT</th>\n",
       "      <th>GEBURTSLAND</th>\n",
       "      <th>STERBEDATUM</th>\n",
       "      <th>GESCHLECHT</th>\n",
       "      <th>FAMILIENSTAND</th>\n",
       "      <th>RELIGION</th>\n",
       "      <th>...</th>\n",
       "      <th>14</th>\n",
       "      <th>15</th>\n",
       "      <th>16</th>\n",
       "      <th>1</th>\n",
       "      <th>17</th>\n",
       "      <th>18</th>\n",
       "      <th>19</th>\n",
       "      <th>RELIGION_MAPPED</th>\n",
       "      <th>FAMILIENSTAND_MAPPED</th>\n",
       "      <th>BERUF_MAPPED</th>\n",
       "    </tr>\n",
       "  </thead>\n",
       "  <tbody>\n",
       "    <tr>\n",
       "      <th>4084</th>\n",
       "      <td>11004958</td>\n",
       "      <td>Nölke</td>\n",
       "      <td>Matthias</td>\n",
       "      <td>08.01.1980</td>\n",
       "      <td>Kassel</td>\n",
       "      <td>UNBEKANNT</td>\n",
       "      <td>UNBEKANNT</td>\n",
       "      <td>männlich</td>\n",
       "      <td>ledig</td>\n",
       "      <td>konfessionslos</td>\n",
       "      <td>...</td>\n",
       "      <td>NaN</td>\n",
       "      <td>NaN</td>\n",
       "      <td>NaN</td>\n",
       "      <td>NaN</td>\n",
       "      <td>NaN</td>\n",
       "      <td>NaN</td>\n",
       "      <td>1.0</td>\n",
       "      <td>konfessionslos</td>\n",
       "      <td>ledig</td>\n",
       "      <td>Jurist*in</td>\n",
       "    </tr>\n",
       "    <tr>\n",
       "      <th>4085</th>\n",
       "      <td>11004959</td>\n",
       "      <td>Martin</td>\n",
       "      <td>Dorothee</td>\n",
       "      <td>21.01.1978</td>\n",
       "      <td>UNBEKANNT</td>\n",
       "      <td>UNBEKANNT</td>\n",
       "      <td>UNBEKANNT</td>\n",
       "      <td>weiblich</td>\n",
       "      <td>UNBEKANNT</td>\n",
       "      <td>UNBEKANNT</td>\n",
       "      <td>...</td>\n",
       "      <td>NaN</td>\n",
       "      <td>NaN</td>\n",
       "      <td>NaN</td>\n",
       "      <td>NaN</td>\n",
       "      <td>NaN</td>\n",
       "      <td>NaN</td>\n",
       "      <td>1.0</td>\n",
       "      <td>UNBEKANNT</td>\n",
       "      <td>UNBEKANNT</td>\n",
       "      <td>selbstständige kommunikationsberater</td>\n",
       "    </tr>\n",
       "    <tr>\n",
       "      <th>4086</th>\n",
       "      <td>11004960</td>\n",
       "      <td>Wetzel</td>\n",
       "      <td>Wolfgang</td>\n",
       "      <td>11.05.1968</td>\n",
       "      <td>Schlema</td>\n",
       "      <td>UNBEKANNT</td>\n",
       "      <td>UNBEKANNT</td>\n",
       "      <td>männlich</td>\n",
       "      <td>verheiratet, 2 Kinder</td>\n",
       "      <td>römisch-katholisch</td>\n",
       "      <td>...</td>\n",
       "      <td>NaN</td>\n",
       "      <td>NaN</td>\n",
       "      <td>NaN</td>\n",
       "      <td>NaN</td>\n",
       "      <td>NaN</td>\n",
       "      <td>NaN</td>\n",
       "      <td>1.0</td>\n",
       "      <td>katholisch</td>\n",
       "      <td>verh., 2 Kinder</td>\n",
       "      <td>Lehrer*in</td>\n",
       "    </tr>\n",
       "    <tr>\n",
       "      <th>4087</th>\n",
       "      <td>11004961</td>\n",
       "      <td>Natterer</td>\n",
       "      <td>Christian</td>\n",
       "      <td>19.02.1981</td>\n",
       "      <td>Tettnang / Deutschland</td>\n",
       "      <td>UNBEKANNT</td>\n",
       "      <td>UNBEKANNT</td>\n",
       "      <td>männlich</td>\n",
       "      <td>verheiratet, 1 Kind</td>\n",
       "      <td>römisch-katholisch</td>\n",
       "      <td>...</td>\n",
       "      <td>NaN</td>\n",
       "      <td>NaN</td>\n",
       "      <td>NaN</td>\n",
       "      <td>NaN</td>\n",
       "      <td>NaN</td>\n",
       "      <td>NaN</td>\n",
       "      <td>1.0</td>\n",
       "      <td>katholisch</td>\n",
       "      <td>verh., 1 Kind</td>\n",
       "      <td>Kaufmann/-frau</td>\n",
       "    </tr>\n",
       "    <tr>\n",
       "      <th>4088</th>\n",
       "      <td>11004962</td>\n",
       "      <td>Dahmen</td>\n",
       "      <td>Janosch</td>\n",
       "      <td>06.09.1981</td>\n",
       "      <td>UNBEKANNT</td>\n",
       "      <td>UNBEKANNT</td>\n",
       "      <td>UNBEKANNT</td>\n",
       "      <td>männlich</td>\n",
       "      <td>UNBEKANNT</td>\n",
       "      <td>UNBEKANNT</td>\n",
       "      <td>...</td>\n",
       "      <td>NaN</td>\n",
       "      <td>NaN</td>\n",
       "      <td>NaN</td>\n",
       "      <td>NaN</td>\n",
       "      <td>NaN</td>\n",
       "      <td>NaN</td>\n",
       "      <td>1.0</td>\n",
       "      <td>UNBEKANNT</td>\n",
       "      <td>UNBEKANNT</td>\n",
       "      <td>Arzt/Ärztin</td>\n",
       "    </tr>\n",
       "  </tbody>\n",
       "</table>\n",
       "<p>5 rows × 37 columns</p>\n",
       "</div>"
      ],
      "text/plain": [
       "            ID  NACHNAME    VORNAME GEBURTSDATUM              GEBURTSORT  \\\n",
       "4084  11004958     Nölke   Matthias   08.01.1980                  Kassel   \n",
       "4085  11004959    Martin   Dorothee   21.01.1978               UNBEKANNT   \n",
       "4086  11004960    Wetzel   Wolfgang   11.05.1968                 Schlema   \n",
       "4087  11004961  Natterer  Christian   19.02.1981  Tettnang / Deutschland   \n",
       "4088  11004962    Dahmen    Janosch   06.09.1981               UNBEKANNT   \n",
       "\n",
       "     GEBURTSLAND STERBEDATUM GESCHLECHT          FAMILIENSTAND  \\\n",
       "4084   UNBEKANNT   UNBEKANNT   männlich                  ledig   \n",
       "4085   UNBEKANNT   UNBEKANNT   weiblich              UNBEKANNT   \n",
       "4086   UNBEKANNT   UNBEKANNT   männlich  verheiratet, 2 Kinder   \n",
       "4087   UNBEKANNT   UNBEKANNT   männlich    verheiratet, 1 Kind   \n",
       "4088   UNBEKANNT   UNBEKANNT   männlich              UNBEKANNT   \n",
       "\n",
       "                RELIGION  ...  14  15  16   1  17  18   19  RELIGION_MAPPED  \\\n",
       "4084      konfessionslos  ... NaN NaN NaN NaN NaN NaN  1.0   konfessionslos   \n",
       "4085           UNBEKANNT  ... NaN NaN NaN NaN NaN NaN  1.0        UNBEKANNT   \n",
       "4086  römisch-katholisch  ... NaN NaN NaN NaN NaN NaN  1.0       katholisch   \n",
       "4087  römisch-katholisch  ... NaN NaN NaN NaN NaN NaN  1.0       katholisch   \n",
       "4088           UNBEKANNT  ... NaN NaN NaN NaN NaN NaN  1.0        UNBEKANNT   \n",
       "\n",
       "      FAMILIENSTAND_MAPPED                          BERUF_MAPPED  \n",
       "4084                 ledig                             Jurist*in  \n",
       "4085             UNBEKANNT  selbstständige kommunikationsberater  \n",
       "4086       verh., 2 Kinder                             Lehrer*in  \n",
       "4087         verh., 1 Kind                        Kaufmann/-frau  \n",
       "4088             UNBEKANNT                           Arzt/Ärztin  \n",
       "\n",
       "[5 rows x 37 columns]"
      ]
     },
     "execution_count": 69,
     "metadata": {},
     "output_type": "execute_result"
    }
   ],
   "source": [
    "df_mdb.tail()"
   ]
  },
  {
   "cell_type": "code",
   "execution_count": 70,
   "id": "f4d54d7c-24e6-4968-a67b-ac4ec883cb41",
   "metadata": {},
   "outputs": [
    {
     "data": {
      "text/html": [
       "<div>\n",
       "<style scoped>\n",
       "    .dataframe tbody tr th:only-of-type {\n",
       "        vertical-align: middle;\n",
       "    }\n",
       "\n",
       "    .dataframe tbody tr th {\n",
       "        vertical-align: top;\n",
       "    }\n",
       "\n",
       "    .dataframe thead th {\n",
       "        text-align: right;\n",
       "    }\n",
       "</style>\n",
       "<table border=\"1\" class=\"dataframe\">\n",
       "  <thead>\n",
       "    <tr style=\"text-align: right;\">\n",
       "      <th></th>\n",
       "      <th>ID</th>\n",
       "    </tr>\n",
       "    <tr>\n",
       "      <th>WP</th>\n",
       "      <th></th>\n",
       "    </tr>\n",
       "  </thead>\n",
       "  <tbody>\n",
       "    <tr>\n",
       "      <th>19</th>\n",
       "      <td>738</td>\n",
       "    </tr>\n",
       "    <tr>\n",
       "      <th>18</th>\n",
       "      <td>658</td>\n",
       "    </tr>\n",
       "    <tr>\n",
       "      <th>17</th>\n",
       "      <td>652</td>\n",
       "    </tr>\n",
       "    <tr>\n",
       "      <th>16</th>\n",
       "      <td>642</td>\n",
       "    </tr>\n",
       "    <tr>\n",
       "      <th>15</th>\n",
       "      <td>628</td>\n",
       "    </tr>\n",
       "  </tbody>\n",
       "</table>\n",
       "</div>"
      ],
      "text/plain": [
       "     ID\n",
       "WP     \n",
       "19  738\n",
       "18  658\n",
       "17  652\n",
       "16  642\n",
       "15  628"
      ]
     },
     "execution_count": 70,
     "metadata": {},
     "output_type": "execute_result"
    }
   ],
   "source": [
    "df_mdb_wp[['ID', 'WP']].groupby('WP').count().sort_values(by='WP', ascending=False).head()"
   ]
  },
  {
   "cell_type": "markdown",
   "id": "863eb41d-0086-45cb-a1a1-ec55f8dbeef3",
   "metadata": {},
   "source": [
    "# quality checks"
   ]
  },
  {
   "cell_type": "code",
   "execution_count": null,
   "id": "8a37b643-1c10-4611-a711-1902e9a96113",
   "metadata": {},
   "outputs": [],
   "source": [
    "df_mdb_wp[(df_mdb_wp.WP==19) & (df_mdb_wp.PARTEI_KURZ == 'CDU')]"
   ]
  },
  {
   "cell_type": "code",
   "execution_count": null,
   "id": "49a500ea-dfec-496f-86dd-25504a9d3580",
   "metadata": {},
   "outputs": [],
   "source": []
  },
  {
   "cell_type": "code",
   "execution_count": null,
   "id": "b24b94cd-fef3-4654-891b-3fa817349f96",
   "metadata": {},
   "outputs": [],
   "source": [
    "df_mdb_wp[(df_mdb_wp.WP==18) & (df_mdb_wp.PARTEI_KURZ == 'CDU') & (df_mdb_wp.BERUF.str.contains('Bürgermeister'))]"
   ]
  },
  {
   "cell_type": "code",
   "execution_count": null,
   "id": "0fe3f529-eb3c-4df4-9a4c-51840c8fe8ca",
   "metadata": {},
   "outputs": [],
   "source": []
  },
  {
   "cell_type": "code",
   "execution_count": null,
   "id": "c8fbefa2-06e2-487c-b2e7-0ac7b1fb97ec",
   "metadata": {},
   "outputs": [],
   "source": []
  },
  {
   "cell_type": "code",
   "execution_count": null,
   "id": "53e74498-0cd5-48a7-9c53-4982fa1792d1",
   "metadata": {},
   "outputs": [],
   "source": []
  },
  {
   "cell_type": "code",
   "execution_count": null,
   "id": "b27c7a8c-68f9-4ea1-ab74-96f886d343d1",
   "metadata": {},
   "outputs": [],
   "source": []
  }
 ],
 "metadata": {
  "kernelspec": {
   "display_name": "Python 3",
   "language": "python",
   "name": "python3"
  },
  "language_info": {
   "codemirror_mode": {
    "name": "ipython",
    "version": 3
   },
   "file_extension": ".py",
   "mimetype": "text/x-python",
   "name": "python",
   "nbconvert_exporter": "python",
   "pygments_lexer": "ipython3",
   "version": "3.9.5"
  }
 },
 "nbformat": 4,
 "nbformat_minor": 5
}
