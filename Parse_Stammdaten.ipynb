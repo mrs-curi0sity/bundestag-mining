{
 "cells": [
  {
   "cell_type": "code",
   "execution_count": 1,
   "id": "26e608bc-1a79-47d1-99e9-fc4e6495e7da",
   "metadata": {},
   "outputs": [],
   "source": [
    "import pandas as pd\n",
    "import numpy as np\n",
    "from pathlib import Path\n",
    "import xml.etree.ElementTree as ET"
   ]
  },
  {
   "cell_type": "markdown",
   "id": "ccc0ce95-6434-463f-b2a1-38d2154b7e51",
   "metadata": {},
   "source": [
    "# WP: Wahlperiode\n",
    "# Quelle der Daten: "
   ]
  },
  {
   "cell_type": "code",
   "execution_count": 2,
   "id": "6b155448-86de-4034-959a-7ee3f7ec5fcd",
   "metadata": {},
   "outputs": [],
   "source": [
    "DATA_PATH = Path('data')\n",
    "MDB_XML_PATH = DATA_PATH / 'MDB_STAMMDATEN.XML'\n",
    "DF_MDB_PATH = DATA_PATH / 'df_mdb.csv' #one row per individuum, one col per wp containing 0 / 1\n",
    "DF_MDB_WP_PATH = DATA_PATH / 'df_mdb_wp.csv' # one row per individuum per wp, containting e.g. 12. so one abgeordneter who has been in parliament for several wp will receive one row per wp"
   ]
  },
  {
   "cell_type": "markdown",
   "id": "8d597687-4d1e-4d44-bd4c-d03d98c9ed0b",
   "metadata": {},
   "source": [
    "# parse xml data into dataFrame / .csv fomat"
   ]
  },
  {
   "cell_type": "code",
   "execution_count": 3,
   "id": "2106e6ee-0ad4-4c0a-9d93-5668b07eefa6",
   "metadata": {},
   "outputs": [],
   "source": [
    "def get_mdb_data(mdb_xml_path = MDB_XML_PATH):\n",
    "    list_of_mdb = []\n",
    "    MDB_STAMMDATEN = ET.parse(mdb_xml_path)\n",
    "    root = MDB_STAMMDATEN.getroot()\n",
    "    \n",
    "    for mdb in root.findall('MDB'):\n",
    "        mdb_dict = {}\n",
    "        ID, NAMEN, BIOGRAFISCHE_ANGABEN, WAHLPERIODEN = mdb[0], mdb[1], mdb[2], mdb[3]\n",
    "\n",
    "        mdb_dict['ID'] = ID.text\n",
    "        mdb_dict['NACHNAME'] = NAMEN.find('NAME').find('NACHNAME').text  \n",
    "        mdb_dict['VORNAME'] = NAMEN.find('NAME').find('VORNAME').text  \n",
    "\n",
    "        #print(mdb.tag, mdb.text, mdb.findall('NACHNAME'))\n",
    "        for element in BIOGRAFISCHE_ANGABEN:\n",
    "            mdb_dict[element.tag] = element.text\n",
    "\n",
    "        mdb_dict['ANZ_WAHLPERIODEN'] = len(list(WAHLPERIODEN))\n",
    "\n",
    "        for wahlperiode in WAHLPERIODEN:\n",
    "            mdb_dict[int(wahlperiode.find('WP').text)] = 1\n",
    "\n",
    "        list_of_mdb.append(mdb_dict)\n",
    "    return pd.DataFrame(list_of_mdb)"
   ]
  },
  {
   "cell_type": "code",
   "execution_count": 4,
   "id": "88fe5b94-1517-472c-aef3-4f39726557f0",
   "metadata": {},
   "outputs": [
    {
     "data": {
      "text/plain": [
       "\"\\ndef get_mdb_wp_data(mdb_xml_path = MDB_XML_PATH):\\n    list_of_mdb = []\\n    MDB_STAMMDATEN = ET.parse(mdb_xml_path)\\n    root = MDB_STAMMDATEN.getroot()\\n    \\n    for mdb in root.findall('MDB'):\\n        mdb_dict = {}\\n        ID, NAMEN, BIOGRAFISCHE_ANGABEN, WAHLPERIODEN = mdb[0], mdb[1], mdb[2], mdb[3]\\n\\n        mdb_dict['ID'] = ID.text\\n        mdb_dict['NACHNAME'] = NAMEN.find('NAME').find('NACHNAME').text  \\n        mdb_dict['VORNAME'] = NAMEN.find('NAME').find('VORNAME').text  \\n\\n        #print(mdb.tag, mdb.text, mdb.findall('NACHNAME'))\\n        for element in BIOGRAFISCHE_ANGABEN:\\n            mdb_dict[element.tag] = element.text\\n\\n        mdb_dict['ANZ_WAHLPERIODEN'] = len(list(WAHLPERIODEN))\\n\\n        for wahlperiode in WAHLPERIODEN:\\n            # one seperate entry per wp\\n            mdb_dict = mdb_dict.copy()\\n            mdb_dict['WP']=int(wahlperiode.find('WP').text)\\n            list_of_mdb.append(mdb_dict)\\n    return pd.DataFrame(list_of_mdb)\\n\""
      ]
     },
     "execution_count": 4,
     "metadata": {},
     "output_type": "execute_result"
    }
   ],
   "source": [
    "\"\"\"\n",
    "def get_mdb_wp_data(mdb_xml_path = MDB_XML_PATH):\n",
    "    list_of_mdb = []\n",
    "    MDB_STAMMDATEN = ET.parse(mdb_xml_path)\n",
    "    root = MDB_STAMMDATEN.getroot()\n",
    "    \n",
    "    for mdb in root.findall('MDB'):\n",
    "        mdb_dict = {}\n",
    "        ID, NAMEN, BIOGRAFISCHE_ANGABEN, WAHLPERIODEN = mdb[0], mdb[1], mdb[2], mdb[3]\n",
    "\n",
    "        mdb_dict['ID'] = ID.text\n",
    "        mdb_dict['NACHNAME'] = NAMEN.find('NAME').find('NACHNAME').text  \n",
    "        mdb_dict['VORNAME'] = NAMEN.find('NAME').find('VORNAME').text  \n",
    "\n",
    "        #print(mdb.tag, mdb.text, mdb.findall('NACHNAME'))\n",
    "        for element in BIOGRAFISCHE_ANGABEN:\n",
    "            mdb_dict[element.tag] = element.text\n",
    "\n",
    "        mdb_dict['ANZ_WAHLPERIODEN'] = len(list(WAHLPERIODEN))\n",
    "\n",
    "        for wahlperiode in WAHLPERIODEN:\n",
    "            # one seperate entry per wp\n",
    "            mdb_dict = mdb_dict.copy()\n",
    "            mdb_dict['WP']=int(wahlperiode.find('WP').text)\n",
    "            list_of_mdb.append(mdb_dict)\n",
    "    return pd.DataFrame(list_of_mdb)\n",
    "\"\"\""
   ]
  },
  {
   "cell_type": "code",
   "execution_count": 37,
   "id": "d1bb74f3-12a5-4698-a1f5-776cdd0be454",
   "metadata": {},
   "outputs": [],
   "source": [
    "def get_mdb_wp_data(df_mdb):\n",
    "    \"\"\"\n",
    "    reformat\n",
    "    peter | lustig | wp1 | wp2\n",
    "    \n",
    "    into\n",
    "    peter | lustig | wp1\n",
    "    peter | lustig | wp2\n",
    "    \"\"\"\n",
    "    \n",
    "    wps = [column for column in df_mdb.columns if isinstance(column, int)] # probably 1 to 19 or 20\n",
    "    columns_to_keep = [column for column in df_mdb.columns if not isinstance(column, int)] # 'BERUF', 'VITA_KURZ' etc\n",
    "    \n",
    "    # should be 19 before 2021, 20 afterwards\n",
    "    max_wp = max(wps)\n",
    "    \n",
    "    # this could be optimized but only runs once for about 2 Minutes\n",
    "    new_entries = []\n",
    "    for idx, row in df_mdb.iterrows():\n",
    "        for wp in wps:\n",
    "            if row[wp] == 1:\n",
    "                new_entry = row[columns_to_keep]\n",
    "                new_entry['WP'] = wp\n",
    "                new_entries.append(new_entry)\n",
    "    \n",
    "    mdb_wp = pd.DataFrame(new_entries)\n",
    "    return(mdb_wp)"
   ]
  },
  {
   "cell_type": "code",
   "execution_count": 38,
   "id": "678fb266-28a6-489e-85f2-b08d63c11ab8",
   "metadata": {},
   "outputs": [
    {
     "name": "stdout",
     "output_type": "stream",
     "text": [
      "(4089, 34)\n"
     ]
    },
    {
     "data": {
      "text/html": [
       "<div>\n",
       "<style scoped>\n",
       "    .dataframe tbody tr th:only-of-type {\n",
       "        vertical-align: middle;\n",
       "    }\n",
       "\n",
       "    .dataframe tbody tr th {\n",
       "        vertical-align: top;\n",
       "    }\n",
       "\n",
       "    .dataframe thead th {\n",
       "        text-align: right;\n",
       "    }\n",
       "</style>\n",
       "<table border=\"1\" class=\"dataframe\">\n",
       "  <thead>\n",
       "    <tr style=\"text-align: right;\">\n",
       "      <th></th>\n",
       "      <th>ID</th>\n",
       "      <th>NACHNAME</th>\n",
       "      <th>VORNAME</th>\n",
       "      <th>GEBURTSDATUM</th>\n",
       "      <th>GEBURTSORT</th>\n",
       "      <th>GEBURTSLAND</th>\n",
       "      <th>STERBEDATUM</th>\n",
       "      <th>GESCHLECHT</th>\n",
       "      <th>FAMILIENSTAND</th>\n",
       "      <th>RELIGION</th>\n",
       "      <th>...</th>\n",
       "      <th>2</th>\n",
       "      <th>12</th>\n",
       "      <th>13</th>\n",
       "      <th>14</th>\n",
       "      <th>15</th>\n",
       "      <th>16</th>\n",
       "      <th>1</th>\n",
       "      <th>17</th>\n",
       "      <th>18</th>\n",
       "      <th>19</th>\n",
       "    </tr>\n",
       "  </thead>\n",
       "  <tbody>\n",
       "    <tr>\n",
       "      <th>0</th>\n",
       "      <td>11000001</td>\n",
       "      <td>Abelein</td>\n",
       "      <td>Manfred</td>\n",
       "      <td>20.10.1930</td>\n",
       "      <td>Stuttgart</td>\n",
       "      <td>None</td>\n",
       "      <td>17.01.2008</td>\n",
       "      <td>männlich</td>\n",
       "      <td>keine Angaben</td>\n",
       "      <td>katholisch</td>\n",
       "      <td>...</td>\n",
       "      <td>NaN</td>\n",
       "      <td>NaN</td>\n",
       "      <td>NaN</td>\n",
       "      <td>NaN</td>\n",
       "      <td>NaN</td>\n",
       "      <td>NaN</td>\n",
       "      <td>NaN</td>\n",
       "      <td>NaN</td>\n",
       "      <td>NaN</td>\n",
       "      <td>NaN</td>\n",
       "    </tr>\n",
       "    <tr>\n",
       "      <th>1</th>\n",
       "      <td>11000002</td>\n",
       "      <td>Achenbach</td>\n",
       "      <td>Ernst</td>\n",
       "      <td>09.04.1909</td>\n",
       "      <td>Siegen</td>\n",
       "      <td>None</td>\n",
       "      <td>02.12.1991</td>\n",
       "      <td>männlich</td>\n",
       "      <td>verheiratet, 3 Kinder</td>\n",
       "      <td>evangelisch</td>\n",
       "      <td>...</td>\n",
       "      <td>NaN</td>\n",
       "      <td>NaN</td>\n",
       "      <td>NaN</td>\n",
       "      <td>NaN</td>\n",
       "      <td>NaN</td>\n",
       "      <td>NaN</td>\n",
       "      <td>NaN</td>\n",
       "      <td>NaN</td>\n",
       "      <td>NaN</td>\n",
       "      <td>NaN</td>\n",
       "    </tr>\n",
       "    <tr>\n",
       "      <th>2</th>\n",
       "      <td>11000003</td>\n",
       "      <td>Ackermann</td>\n",
       "      <td>Annemarie</td>\n",
       "      <td>26.05.1913</td>\n",
       "      <td>Parabutsch</td>\n",
       "      <td>Jugoslawien</td>\n",
       "      <td>18.02.1994</td>\n",
       "      <td>weiblich</td>\n",
       "      <td>verheiratet, 5 Kinder</td>\n",
       "      <td>katholisch</td>\n",
       "      <td>...</td>\n",
       "      <td>1.0</td>\n",
       "      <td>NaN</td>\n",
       "      <td>NaN</td>\n",
       "      <td>NaN</td>\n",
       "      <td>NaN</td>\n",
       "      <td>NaN</td>\n",
       "      <td>NaN</td>\n",
       "      <td>NaN</td>\n",
       "      <td>NaN</td>\n",
       "      <td>NaN</td>\n",
       "    </tr>\n",
       "    <tr>\n",
       "      <th>3</th>\n",
       "      <td>11000004</td>\n",
       "      <td>Ackermann</td>\n",
       "      <td>Else</td>\n",
       "      <td>06.11.1933</td>\n",
       "      <td>Berlin</td>\n",
       "      <td>None</td>\n",
       "      <td>14.09.2019</td>\n",
       "      <td>weiblich</td>\n",
       "      <td>ledig</td>\n",
       "      <td>evangelisch</td>\n",
       "      <td>...</td>\n",
       "      <td>NaN</td>\n",
       "      <td>1.0</td>\n",
       "      <td>NaN</td>\n",
       "      <td>NaN</td>\n",
       "      <td>NaN</td>\n",
       "      <td>NaN</td>\n",
       "      <td>NaN</td>\n",
       "      <td>NaN</td>\n",
       "      <td>NaN</td>\n",
       "      <td>NaN</td>\n",
       "    </tr>\n",
       "    <tr>\n",
       "      <th>4</th>\n",
       "      <td>11000005</td>\n",
       "      <td>Adam</td>\n",
       "      <td>Ulrich</td>\n",
       "      <td>09.06.1950</td>\n",
       "      <td>Teterow, Kr. Teterow, Bezirk Neubrandenburg</td>\n",
       "      <td>None</td>\n",
       "      <td>None</td>\n",
       "      <td>männlich</td>\n",
       "      <td>verheiratet, 2 Kinder</td>\n",
       "      <td>evangelisch</td>\n",
       "      <td>...</td>\n",
       "      <td>NaN</td>\n",
       "      <td>1.0</td>\n",
       "      <td>1.0</td>\n",
       "      <td>1.0</td>\n",
       "      <td>1.0</td>\n",
       "      <td>1.0</td>\n",
       "      <td>NaN</td>\n",
       "      <td>NaN</td>\n",
       "      <td>NaN</td>\n",
       "      <td>NaN</td>\n",
       "    </tr>\n",
       "  </tbody>\n",
       "</table>\n",
       "<p>5 rows × 34 columns</p>\n",
       "</div>"
      ],
      "text/plain": [
       "         ID   NACHNAME    VORNAME GEBURTSDATUM  \\\n",
       "0  11000001    Abelein    Manfred   20.10.1930   \n",
       "1  11000002  Achenbach      Ernst   09.04.1909   \n",
       "2  11000003  Ackermann  Annemarie   26.05.1913   \n",
       "3  11000004  Ackermann       Else   06.11.1933   \n",
       "4  11000005       Adam     Ulrich   09.06.1950   \n",
       "\n",
       "                                    GEBURTSORT  GEBURTSLAND STERBEDATUM  \\\n",
       "0                                    Stuttgart         None  17.01.2008   \n",
       "1                                       Siegen         None  02.12.1991   \n",
       "2                                   Parabutsch  Jugoslawien  18.02.1994   \n",
       "3                                       Berlin         None  14.09.2019   \n",
       "4  Teterow, Kr. Teterow, Bezirk Neubrandenburg         None        None   \n",
       "\n",
       "  GESCHLECHT          FAMILIENSTAND     RELIGION  ...    2   12   13   14  \\\n",
       "0   männlich          keine Angaben   katholisch  ...  NaN  NaN  NaN  NaN   \n",
       "1   männlich  verheiratet, 3 Kinder  evangelisch  ...  NaN  NaN  NaN  NaN   \n",
       "2   weiblich  verheiratet, 5 Kinder   katholisch  ...  1.0  NaN  NaN  NaN   \n",
       "3   weiblich                  ledig  evangelisch  ...  NaN  1.0  NaN  NaN   \n",
       "4   männlich  verheiratet, 2 Kinder  evangelisch  ...  NaN  1.0  1.0  1.0   \n",
       "\n",
       "    15   16   1  17  18  19  \n",
       "0  NaN  NaN NaN NaN NaN NaN  \n",
       "1  NaN  NaN NaN NaN NaN NaN  \n",
       "2  NaN  NaN NaN NaN NaN NaN  \n",
       "3  NaN  NaN NaN NaN NaN NaN  \n",
       "4  1.0  1.0 NaN NaN NaN NaN  \n",
       "\n",
       "[5 rows x 34 columns]"
      ]
     },
     "execution_count": 38,
     "metadata": {},
     "output_type": "execute_result"
    }
   ],
   "source": [
    "df_mdb = get_mdb_data(MDB_XML_PATH)\n",
    "print(df_mdb.shape)\n",
    "df_mdb.head()"
   ]
  },
  {
   "cell_type": "code",
   "execution_count": 39,
   "id": "ce4b1366-2557-4991-9f9a-34930d80c43e",
   "metadata": {},
   "outputs": [],
   "source": [
    "df_mdb_wp = get_mdb_wp_data(df_mdb)"
   ]
  },
  {
   "cell_type": "code",
   "execution_count": 40,
   "id": "fd354245-3865-48a9-a1c9-c4927c35ed47",
   "metadata": {},
   "outputs": [
    {
     "data": {
      "text/plain": [
       "<AxesSubplot:>"
      ]
     },
     "execution_count": 40,
     "metadata": {},
     "output_type": "execute_result"
    },
    {
     "data": {
      "image/png": "[encoded data removed]",
      "text/plain": [
       "<Figure size 432x288 with 1 Axes>"
      ]
     },
     "metadata": {
      "needs_background": "light"
     },
     "output_type": "display_data"
    }
   ],
   "source": [
    "wps = [column for column in df_mdb.columns if isinstance(column, int)]\n",
    "# aha: es werden immer mehr abgeordnete\n",
    "df_mdb[wps].sum().sort_index().plot()"
   ]
  },
  {
   "cell_type": "code",
   "execution_count": 41,
   "id": "2092cfd8-8649-432e-8591-23cdc087f37e",
   "metadata": {},
   "outputs": [
    {
     "data": {
      "text/plain": [
       "15    628.0\n",
       "16    642.0\n",
       "17    652.0\n",
       "18    658.0\n",
       "19    738.0\n",
       "dtype: float64"
      ]
     },
     "execution_count": 41,
     "metadata": {},
     "output_type": "execute_result"
    }
   ],
   "source": [
    "df_mdb[wps].sum().sort_index().tail()"
   ]
  },
  {
   "cell_type": "code",
   "execution_count": 42,
   "id": "176b908c-6a91-4c10-8bec-bfae4f92b4be",
   "metadata": {},
   "outputs": [
    {
     "data": {
      "text/plain": [
       "11627.0"
      ]
     },
     "execution_count": 42,
     "metadata": {},
     "output_type": "execute_result"
    }
   ],
   "source": [
    "# total number of abgeordnete (counting multiple wps as multiple entries)\n",
    "df_mdb[wps].sum().sum()"
   ]
  },
  {
   "cell_type": "code",
   "execution_count": 43,
   "id": "28217a99-9ba2-48f9-b961-33160d6d97cb",
   "metadata": {},
   "outputs": [
    {
     "data": {
      "text/plain": [
       "(11627, 16)"
      ]
     },
     "execution_count": 43,
     "metadata": {},
     "output_type": "execute_result"
    }
   ],
   "source": [
    "df_mdb_wp.shape"
   ]
  },
  {
   "cell_type": "code",
   "execution_count": 44,
   "id": "baaaf173-48af-444c-9f2b-914e4d291491",
   "metadata": {},
   "outputs": [
    {
     "data": {
      "text/html": [
       "<div>\n",
       "<style scoped>\n",
       "    .dataframe tbody tr th:only-of-type {\n",
       "        vertical-align: middle;\n",
       "    }\n",
       "\n",
       "    .dataframe tbody tr th {\n",
       "        vertical-align: top;\n",
       "    }\n",
       "\n",
       "    .dataframe thead th {\n",
       "        text-align: right;\n",
       "    }\n",
       "</style>\n",
       "<table border=\"1\" class=\"dataframe\">\n",
       "  <thead>\n",
       "    <tr style=\"text-align: right;\">\n",
       "      <th></th>\n",
       "      <th>ID</th>\n",
       "      <th>NACHNAME</th>\n",
       "      <th>VORNAME</th>\n",
       "      <th>GEBURTSDATUM</th>\n",
       "      <th>GEBURTSORT</th>\n",
       "      <th>GEBURTSLAND</th>\n",
       "      <th>STERBEDATUM</th>\n",
       "      <th>GESCHLECHT</th>\n",
       "      <th>FAMILIENSTAND</th>\n",
       "      <th>RELIGION</th>\n",
       "      <th>BERUF</th>\n",
       "      <th>PARTEI_KURZ</th>\n",
       "      <th>VITA_KURZ</th>\n",
       "      <th>VEROEFFENTLICHUNGSPFLICHTIGES</th>\n",
       "      <th>ANZ_WAHLPERIODEN</th>\n",
       "      <th>WP</th>\n",
       "    </tr>\n",
       "  </thead>\n",
       "  <tbody>\n",
       "    <tr>\n",
       "      <th>3575</th>\n",
       "      <td>11004245</td>\n",
       "      <td>Baerbock</td>\n",
       "      <td>Annalena</td>\n",
       "      <td>15.12.1980</td>\n",
       "      <td>Hannover</td>\n",
       "      <td>None</td>\n",
       "      <td>None</td>\n",
       "      <td>weiblich</td>\n",
       "      <td>verheiratet, 2 Kinder</td>\n",
       "      <td>evangelisch-lutherisch</td>\n",
       "      <td>Völkerrechtlerin</td>\n",
       "      <td>BÜNDNIS 90/DIE GRÜNEN</td>\n",
       "      <td>2000/04 Studium der Politikwissenschaft und Öf...</td>\n",
       "      <td>5 Funktionen in Vereinen, Verbänden und Stiftu...</td>\n",
       "      <td>2</td>\n",
       "      <td>18</td>\n",
       "    </tr>\n",
       "    <tr>\n",
       "      <th>3575</th>\n",
       "      <td>11004245</td>\n",
       "      <td>Baerbock</td>\n",
       "      <td>Annalena</td>\n",
       "      <td>15.12.1980</td>\n",
       "      <td>Hannover</td>\n",
       "      <td>None</td>\n",
       "      <td>None</td>\n",
       "      <td>weiblich</td>\n",
       "      <td>verheiratet, 2 Kinder</td>\n",
       "      <td>evangelisch-lutherisch</td>\n",
       "      <td>Völkerrechtlerin</td>\n",
       "      <td>BÜNDNIS 90/DIE GRÜNEN</td>\n",
       "      <td>2000/04 Studium der Politikwissenschaft und Öf...</td>\n",
       "      <td>5 Funktionen in Vereinen, Verbänden und Stiftu...</td>\n",
       "      <td>2</td>\n",
       "      <td>19</td>\n",
       "    </tr>\n",
       "  </tbody>\n",
       "</table>\n",
       "</div>"
      ],
      "text/plain": [
       "            ID  NACHNAME   VORNAME GEBURTSDATUM GEBURTSORT GEBURTSLAND  \\\n",
       "3575  11004245  Baerbock  Annalena   15.12.1980   Hannover        None   \n",
       "3575  11004245  Baerbock  Annalena   15.12.1980   Hannover        None   \n",
       "\n",
       "     STERBEDATUM GESCHLECHT          FAMILIENSTAND                RELIGION  \\\n",
       "3575        None   weiblich  verheiratet, 2 Kinder  evangelisch-lutherisch   \n",
       "3575        None   weiblich  verheiratet, 2 Kinder  evangelisch-lutherisch   \n",
       "\n",
       "                 BERUF            PARTEI_KURZ  \\\n",
       "3575  Völkerrechtlerin  BÜNDNIS 90/DIE GRÜNEN   \n",
       "3575  Völkerrechtlerin  BÜNDNIS 90/DIE GRÜNEN   \n",
       "\n",
       "                                              VITA_KURZ  \\\n",
       "3575  2000/04 Studium der Politikwissenschaft und Öf...   \n",
       "3575  2000/04 Studium der Politikwissenschaft und Öf...   \n",
       "\n",
       "                          VEROEFFENTLICHUNGSPFLICHTIGES  ANZ_WAHLPERIODEN  WP  \n",
       "3575  5 Funktionen in Vereinen, Verbänden und Stiftu...                 2  18  \n",
       "3575  5 Funktionen in Vereinen, Verbänden und Stiftu...                 2  19  "
      ]
     },
     "execution_count": 44,
     "metadata": {},
     "output_type": "execute_result"
    }
   ],
   "source": [
    "df_mdb_wp[df_mdb_wp.NACHNAME =='Baerbock']"
   ]
  },
  {
   "cell_type": "markdown",
   "id": "f0649f48-0e07-4233-ab60-77bbd5a44d96",
   "metadata": {},
   "source": [
    "# clean data 1. missing values"
   ]
  },
  {
   "cell_type": "code",
   "execution_count": 45,
   "id": "4e0356b1-a584-4cf0-846a-f72b0d388ba4",
   "metadata": {},
   "outputs": [
    {
     "data": {
      "text/plain": [
       "NACHNAME            0\n",
       "VORNAME             0\n",
       "GEBURTSDATUM        0\n",
       "GEBURTSORT          4\n",
       "GEBURTSLAND      4010\n",
       "STERBEDATUM      2199\n",
       "GESCHLECHT          0\n",
       "FAMILIENSTAND      81\n",
       "RELIGION          227\n",
       "BERUF               3\n",
       "PARTEI_KURZ         3\n",
       "dtype: int64"
      ]
     },
     "execution_count": 45,
     "metadata": {},
     "output_type": "execute_result"
    }
   ],
   "source": [
    "dimensions_replace_na = ['NACHNAME', 'VORNAME', 'GEBURTSDATUM', 'GEBURTSORT', 'GEBURTSLAND', 'STERBEDATUM', 'GESCHLECHT', 'FAMILIENSTAND', 'RELIGION', 'BERUF', 'PARTEI_KURZ']\n",
    "df_mdb[dimensions_replace_na].isna().sum()"
   ]
  },
  {
   "cell_type": "code",
   "execution_count": 46,
   "id": "9cd68e71-392c-4ba2-884a-d591e09b0c2b",
   "metadata": {},
   "outputs": [],
   "source": [
    "df_mdb[dimensions_replace_na] = df_mdb[dimensions_replace_na].fillna('UNBEKANNT')"
   ]
  },
  {
   "cell_type": "code",
   "execution_count": null,
   "id": "c93a0381-79c8-473e-97cf-f49d813773e8",
   "metadata": {},
   "outputs": [],
   "source": []
  },
  {
   "cell_type": "code",
   "execution_count": null,
   "id": "d2f7229c-2b81-44c2-bfe7-0ab3efc8a373",
   "metadata": {},
   "outputs": [],
   "source": []
  },
  {
   "cell_type": "markdown",
   "id": "225e7664-d495-4067-8f90-4cfca15903f6",
   "metadata": {},
   "source": [
    "# 2. replacec values"
   ]
  },
  {
   "cell_type": "code",
   "execution_count": 47,
   "id": "b00d7fc2-187d-41b0-aa88-b3a1551b12d9",
   "metadata": {},
   "outputs": [
    {
     "data": {
      "text/plain": [
       "CDU                      1347\n",
       "SPD                      1329\n",
       "FDP                       460\n",
       "CSU                       269\n",
       "BÜNDNIS 90/DIE GRÜNEN     180\n",
       "DIE LINKE.                128\n",
       "AfD                        88\n",
       "PDS                        54\n",
       "GRÜNE                      51\n",
       "DIE GRÜNEN/BÜNDNIS 90      28\n",
       "DP                         27\n",
       "FU                         21\n",
       "Name: PARTEI_KURZ, dtype: int64"
      ]
     },
     "execution_count": 47,
     "metadata": {},
     "output_type": "execute_result"
    }
   ],
   "source": [
    "df_mdb.PARTEI_KURZ.value_counts()[:12]"
   ]
  },
  {
   "cell_type": "code",
   "execution_count": 48,
   "id": "325d47ff-4860-4e05-a8eb-9c9412de50a1",
   "metadata": {},
   "outputs": [],
   "source": [
    "# ok, quite expected. some cleaning necessarry: 'BÜNDNIS 90/DIE GRÜNEN', 'DIE GRÜNEN/BÜNDNIS 90', 'GRÜNE'\n",
    "for grünen_alias in ['BÜNDNIS 90/DIE GRÜNEN', 'DIE GRÜNEN/BÜNDNIS 90', 'GRÜNE']:\n",
    "    df_mdb.replace(grünen_alias, 'DIE GRÜNEN', inplace=True)"
   ]
  },
  {
   "cell_type": "code",
   "execution_count": 49,
   "id": "0734c71f-d9e8-4459-8577-651fa9df9bf1",
   "metadata": {},
   "outputs": [
    {
     "data": {
      "text/plain": [
       "ohne Angaben                 1214\n",
       "evangelisch                  1154\n",
       "katholisch                    870\n",
       "römisch-katholisch            316\n",
       "UNBEKANNT                     227\n",
       "evangelisch-lutherisch        138\n",
       "konfessionslos                118\n",
       "evangelisch-reformiert         15\n",
       "religionslos                    7\n",
       "Atheistin                       6\n",
       "muslimisch                      5\n",
       "evangelisch-freikirchlich       3\n",
       "Name: RELIGION, dtype: int64"
      ]
     },
     "execution_count": 49,
     "metadata": {},
     "output_type": "execute_result"
    }
   ],
   "source": [
    "df_mdb.RELIGION.value_counts().head(12)"
   ]
  },
  {
   "cell_type": "code",
   "execution_count": 50,
   "id": "61726790-bfeb-4d57-8e30-3bb6719beb34",
   "metadata": {},
   "outputs": [],
   "source": [
    "for katholisch_alias in ['römisch-katholisch', 'alt-katholisch']:\n",
    "    df_mdb.RELIGION.replace(katholisch_alias, 'katholisch', inplace=True)"
   ]
  },
  {
   "cell_type": "code",
   "execution_count": 51,
   "id": "7a96d82c-8d03-4e86-83c2-e0e4b5f7c9a9",
   "metadata": {},
   "outputs": [],
   "source": [
    "for evangelisch_alias in ['evangelisch-lutherisch', 'evangelisch-reformiert', 'evangelisch-freikirchlich']:\n",
    "    df_mdb.RELIGION.replace(evangelisch_alias, 'evangelisch', inplace=True)"
   ]
  },
  {
   "cell_type": "code",
   "execution_count": 52,
   "id": "3c830ec1-9cea-40b9-ba14-12da6d355051",
   "metadata": {},
   "outputs": [
    {
     "data": {
      "text/plain": [
       "2201"
      ]
     },
     "execution_count": 52,
     "metadata": {},
     "output_type": "execute_result"
    }
   ],
   "source": [
    "# number of different jobs: 2k\n",
    "len(set(df_mdb.BERUF))"
   ]
  },
  {
   "cell_type": "code",
   "execution_count": 53,
   "id": "13a96f48-2015-4434-a9c0-19bb42e2c5b5",
   "metadata": {},
   "outputs": [],
   "source": [
    "df_mdb['BERUF_MAPPED'] = df_mdb['BERUF'].copy()"
   ]
  },
  {
   "cell_type": "code",
   "execution_count": 54,
   "id": "8c8d3b0f-00b0-41ee-b792-009eb75841db",
   "metadata": {},
   "outputs": [
    {
     "data": {
      "text/html": [
       "<div>\n",
       "<style scoped>\n",
       "    .dataframe tbody tr th:only-of-type {\n",
       "        vertical-align: middle;\n",
       "    }\n",
       "\n",
       "    .dataframe tbody tr th {\n",
       "        vertical-align: top;\n",
       "    }\n",
       "\n",
       "    .dataframe thead th {\n",
       "        text-align: right;\n",
       "    }\n",
       "</style>\n",
       "<table border=\"1\" class=\"dataframe\">\n",
       "  <thead>\n",
       "    <tr style=\"text-align: right;\">\n",
       "      <th></th>\n",
       "      <th>ID</th>\n",
       "    </tr>\n",
       "    <tr>\n",
       "      <th>BERUF</th>\n",
       "      <th></th>\n",
       "    </tr>\n",
       "  </thead>\n",
       "  <tbody>\n",
       "    <tr>\n",
       "      <th>Rechtsanwalt</th>\n",
       "      <td>182</td>\n",
       "    </tr>\n",
       "    <tr>\n",
       "      <th>Geschäftsführer</th>\n",
       "      <td>80</td>\n",
       "    </tr>\n",
       "    <tr>\n",
       "      <th>Landwirt</th>\n",
       "      <td>79</td>\n",
       "    </tr>\n",
       "    <tr>\n",
       "      <th>Angestellter</th>\n",
       "      <td>63</td>\n",
       "    </tr>\n",
       "    <tr>\n",
       "      <th>Rechtsanwalt und Notar</th>\n",
       "      <td>47</td>\n",
       "    </tr>\n",
       "    <tr>\n",
       "      <th>Kaufmann</th>\n",
       "      <td>45</td>\n",
       "    </tr>\n",
       "    <tr>\n",
       "      <th>Journalist</th>\n",
       "      <td>43</td>\n",
       "    </tr>\n",
       "    <tr>\n",
       "      <th>Hausfrau</th>\n",
       "      <td>41</td>\n",
       "    </tr>\n",
       "    <tr>\n",
       "      <th>Dipl.-Ingenieur</th>\n",
       "      <td>37</td>\n",
       "    </tr>\n",
       "    <tr>\n",
       "      <th>Jurist</th>\n",
       "      <td>37</td>\n",
       "    </tr>\n",
       "    <tr>\n",
       "      <th>Gewerkschaftssekretär</th>\n",
       "      <td>36</td>\n",
       "    </tr>\n",
       "    <tr>\n",
       "      <th>Dipl.-Volkswirt</th>\n",
       "      <td>30</td>\n",
       "    </tr>\n",
       "    <tr>\n",
       "      <th>Rechtsanwältin</th>\n",
       "      <td>28</td>\n",
       "    </tr>\n",
       "    <tr>\n",
       "      <th>Lehrer</th>\n",
       "      <td>25</td>\n",
       "    </tr>\n",
       "    <tr>\n",
       "      <th>Redakteur</th>\n",
       "      <td>25</td>\n",
       "    </tr>\n",
       "    <tr>\n",
       "      <th>Lehrerin</th>\n",
       "      <td>21</td>\n",
       "    </tr>\n",
       "  </tbody>\n",
       "</table>\n",
       "</div>"
      ],
      "text/plain": [
       "                         ID\n",
       "BERUF                      \n",
       "Rechtsanwalt            182\n",
       "Geschäftsführer          80\n",
       "Landwirt                 79\n",
       "Angestellter             63\n",
       "Rechtsanwalt und Notar   47\n",
       "Kaufmann                 45\n",
       "Journalist               43\n",
       "Hausfrau                 41\n",
       "Dipl.-Ingenieur          37\n",
       "Jurist                   37\n",
       "Gewerkschaftssekretär    36\n",
       "Dipl.-Volkswirt          30\n",
       "Rechtsanwältin           28\n",
       "Lehrer                   25\n",
       "Redakteur                25\n",
       "Lehrerin                 21"
      ]
     },
     "execution_count": 54,
     "metadata": {},
     "output_type": "execute_result"
    }
   ],
   "source": [
    "df_mdb[['ID', 'BERUF']].groupby('BERUF').count().sort_values(by='ID', ascending=False).head(16)"
   ]
  },
  {
   "cell_type": "code",
   "execution_count": 55,
   "id": "c5a5b735-f36a-46a7-acd9-539d03cd0925",
   "metadata": {},
   "outputs": [
    {
     "name": "stderr",
     "output_type": "stream",
     "text": [
      "<ipython-input-55-0fd005d88285>:14: FutureWarning: The default value of regex will change from True to False in a future version.\n",
      "  df_mdb.BERUF_MAPPED = df_mdb.BERUF_MAPPED.str.replace('Dipl.-', '')\n",
      "<ipython-input-55-0fd005d88285>:17: FutureWarning: The default value of regex will change from True to False in a future version.\n",
      "  df_mdb.BERUF_MAPPED = df_mdb.BERUF_MAPPED.str.replace(' (FH)', '')\n",
      "<ipython-input-55-0fd005d88285>:18: FutureWarning: The default value of regex will change from True to False in a future version.\n",
      "  df_mdb.BERUF_MAPPED = df_mdb.BERUF_MAPPED.str.replace(' (FH)', '')\n",
      "<ipython-input-55-0fd005d88285>:19: FutureWarning: The default value of regex will change from True to False in a future version.\n",
      "  df_mdb.BERUF_MAPPED = df_mdb.BERUF_MAPPED.str.replace(' (BA)', '')\n",
      "<ipython-input-55-0fd005d88285>:20: FutureWarning: The default value of regex will change from True to False in a future version.\n",
      "  df_mdb.BERUF_MAPPED = df_mdb.BERUF_MAPPED.str.replace(' (B. A.)', '')\n",
      "<ipython-input-55-0fd005d88285>:21: FutureWarning: The default value of regex will change from True to False in a future version.\n",
      "  df_mdb.BERUF_MAPPED = df_mdb.BERUF_MAPPED.str.replace(' (MBA)', '')\n",
      "<ipython-input-55-0fd005d88285>:22: FutureWarning: The default value of regex will change from True to False in a future version.\n",
      "  df_mdb.BERUF_MAPPED = df_mdb.BERUF_MAPPED.str.replace(' (M. Sc.)', '')\n",
      "<ipython-input-55-0fd005d88285>:24: FutureWarning: The default value of regex will change from True to False in a future version.\n",
      "  df_mdb.BERUF_MAPPED = df_mdb.BERUF_MAPPED.str.replace(' a. D.', '')\n",
      "<ipython-input-55-0fd005d88285>:25: FutureWarning: The default value of regex will change from True to False in a future version.\n",
      "  df_mdb.BERUF_MAPPED = df_mdb.BERUF_MAPPED.str.replace(' i. R.', '')\n"
     ]
    },
    {
     "data": {
      "text/plain": [
       "1214"
      ]
     },
     "execution_count": 55,
     "metadata": {},
     "output_type": "execute_result"
    }
   ],
   "source": [
    "# leere einträge durch <unbekannt> ersetzen\n",
    "df_mdb.BERUF_MAPPED.fillna('unbekannt', inplace=True)\n",
    "\n",
    "# Geschäftsführer, Parl. Staatssekretär => Geschäftsführer, Rechtsanwalt, Parl. Staatssekretär a. D.' = 'Rechtsanwalt'\n",
    "df_mdb.BERUF_MAPPED = df_mdb.BERUF_MAPPED.apply(lambda beruf: beruf.split(',')[0])\n",
    "\n",
    "#Bäckermeister und Konditor  => Bäckermeister, Rechtsanwalt und Fachanwalt für Steuerrecht  => Rechtsanwalt\n",
    "df_mdb.BERUF_MAPPED = df_mdb.BERUF_MAPPED.apply(lambda beruf: beruf.split(' und ')[0])\n",
    "\n",
    "# Kaufmann / Informatiker => Kaufmann\n",
    "df_mdb.BERUF_MAPPED = df_mdb.BERUF_MAPPED.apply(lambda beruf: beruf.split(' / ')[0])\n",
    "\n",
    "# Dipl.-Kaufmann => Kaufmann, Dipl.-Ingenieur => Ingenieur usw\n",
    "df_mdb.BERUF_MAPPED = df_mdb.BERUF_MAPPED.str.replace('Dipl.-', '')\n",
    "df_mdb.BERUF_MAPPED = df_mdb.BERUF_MAPPED.str.replace('Diplom-', '')\n",
    "df_mdb.BERUF_MAPPED = df_mdb.BERUF_MAPPED.str.replace('Diplom ', '')\n",
    "df_mdb.BERUF_MAPPED = df_mdb.BERUF_MAPPED.str.replace(' (FH)', '')\n",
    "df_mdb.BERUF_MAPPED = df_mdb.BERUF_MAPPED.str.replace(' (FH)', '')\n",
    "df_mdb.BERUF_MAPPED = df_mdb.BERUF_MAPPED.str.replace(' (BA)', '')\n",
    "df_mdb.BERUF_MAPPED = df_mdb.BERUF_MAPPED.str.replace(' (B. A.)', '')\n",
    "df_mdb.BERUF_MAPPED = df_mdb.BERUF_MAPPED.str.replace(' (MBA)', '')\n",
    "df_mdb.BERUF_MAPPED = df_mdb.BERUF_MAPPED.str.replace(' (M. Sc.)', '')\n",
    " \n",
    "df_mdb.BERUF_MAPPED = df_mdb.BERUF_MAPPED.str.replace(' a. D.', '')\n",
    "df_mdb.BERUF_MAPPED = df_mdb.BERUF_MAPPED.str.replace(' i. R.', '')\n",
    "\n",
    "len(set(df_mdb.BERUF_MAPPED))"
   ]
  },
  {
   "cell_type": "code",
   "execution_count": 56,
   "id": "127e7e02-a363-4b00-aad5-191f1631c493",
   "metadata": {},
   "outputs": [],
   "source": [
    "df_mdb.BERUF_MAPPED.replace(['Rechtsanwalt', 'Rechtsanwältin', 'Jurist', 'Juristin', 'Volljurist', 'Volljuristin',\n",
    "                                'Oberstaatsanwalt', 'Oberstaatsanwältin','Staatsanwalt', 'Staatsanwältin',\n",
    "                                'Rechtsanwalt und Notar', 'Richter', 'Richterin',\n",
    "                               'Verwaltungsjurist', 'Verwaltungsjuristin', 'Steuerjurist', 'Steuerjuristin',\n",
    "                                'Wirtschaftsjurist', 'Wirtschaftsjuristin',\n",
    "                               'Notar', 'Notarin', 'Dr. jur.', 'Syndikus', 'Rechtsberater'], 'Jurist*in', inplace=True)"
   ]
  },
  {
   "cell_type": "code",
   "execution_count": 57,
   "id": "a7333e5f-aba5-417f-9adb-02908bdc8e66",
   "metadata": {},
   "outputs": [],
   "source": [
    "Jurist_String = df_mdb[df_mdb.BERUF_MAPPED.str.contains('nwalt', na=False) | (df_mdb.BERUF_MAPPED.str.contains('urist', na=False))].BERUF_MAPPED\n",
    "#Kaufmann_Strings = df_mdb_wp[(df_mdb_wp.BERUF_MAPPED.str.contains('aufmann', na=False)) |(df_mdb_wp.BERUF_MAPPED.str.contains('auffrau', na=False))].BERUF_MAPPED \n",
    "df_mdb.BERUF_MAPPED.replace(list(Jurist_String), 'Jurist*in', inplace=True)"
   ]
  },
  {
   "cell_type": "code",
   "execution_count": 58,
   "id": "76c1f023-947a-4026-8258-537067076e83",
   "metadata": {},
   "outputs": [],
   "source": [
    "df_mdb.BERUF_MAPPED.replace(['Landwirt', 'Landwirtin', 'Landwirtschaftsmeister', 'Landwirtschaftsmeisterin', \n",
    "                                'Land-', 'Bauer', \n",
    "                                'Agraringenieur', 'Agraringenieurin', 'Agrarwissenschaftler', 'Agrarwissenschaftlerin', \n",
    "                                'Land- und Forstwirt', 'Ingenieur für Agrarwissenschaften', 'Forstwirt', 'Forstwirtin',\n",
    "                               'Ökonomierat'], 'Land-/Forstwirt*in', inplace=True)"
   ]
  },
  {
   "cell_type": "code",
   "execution_count": 59,
   "id": "5c9f0e39-fd33-470f-a1ff-aac32a19aff2",
   "metadata": {},
   "outputs": [],
   "source": [
    "Landwirt_String = df_mdb[df_mdb.BERUF_MAPPED.str.contains('Forst', na=False) | (df_mdb.BERUF_MAPPED.str.contains('grar', na=False))].BERUF_MAPPED\n",
    "#Kaufmann_Strings = df_mdb_wp[(df_mdb_wp.BERUF_MAPPED.str.contains('aufmann', na=False)) |(df_mdb_wp.BERUF_MAPPED.str.contains('auffrau', na=False))].BERUF_MAPPED \n",
    "df_mdb.BERUF_MAPPED.replace(list(Landwirt_String), 'Land-/Forstwirt*in', inplace=True)"
   ]
  },
  {
   "cell_type": "code",
   "execution_count": 60,
   "id": "95db8991-a732-4495-9938-a22a5d5cf7b9",
   "metadata": {},
   "outputs": [],
   "source": [
    "Unternehmer_Strings = df_mdb[df_mdb.BERUF_MAPPED.str.contains('rnehmer', na=False)].BERUF_MAPPED\n",
    "df_mdb.BERUF_MAPPED.replace(list(Unternehmer_Strings), 'Geschäftsführer*in/Unternehmer*in', inplace=True)"
   ]
  },
  {
   "cell_type": "code",
   "execution_count": 61,
   "id": "0659bd2d-4a0e-4d30-98fa-dac569d93a0f",
   "metadata": {},
   "outputs": [],
   "source": [
    "df_mdb.BERUF_MAPPED.replace(['Geschäftsführer', 'Geschäftsführerin', 'Hauptgeschäftsführer', 'Hauptgeschäftsführerin', \n",
    "                                'Unternehmer', 'Unternehmerin', 'Selbständiger Unternehmer', 'Selbständige Unternehmerin',\n",
    "                               'Fabrikant', 'Fabrikantin'], 'Geschäftsführer*in/Unternehmer*in', inplace=True)"
   ]
  },
  {
   "cell_type": "code",
   "execution_count": 62,
   "id": "48ba97fa-d2d8-44df-bc88-19795ac5281a",
   "metadata": {},
   "outputs": [],
   "source": [
    "df_mdb.BERUF_MAPPED.replace(['Ingenieur', 'Ingenieurin', 'Ingenieur (FH)', 'Ingenieurin (FH)',\n",
    "                               'Bauingenieur', 'Bauingenieurin', 'Maschinenbaumeister', 'Maschinenbaumeisterin',\n",
    "                               'Bergingenieur', 'Bergingenieurin',\n",
    "                               'Wirtschaftsingenieur', 'Wirtschaftsingenieurin'], 'Ingenieur*in', inplace=True)"
   ]
  },
  {
   "cell_type": "code",
   "execution_count": 63,
   "id": "71676830-0a0b-483d-b33e-ef2eb96cf6ec",
   "metadata": {},
   "outputs": [],
   "source": [
    "Ingenieur_Strings = df_mdb[df_mdb.BERUF_MAPPED.str.contains('genieur', na=False)].BERUF_MAPPED\n",
    "df_mdb.BERUF_MAPPED.replace(list(Ingenieur_Strings), 'Ingenieur*in', inplace=True)\n"
   ]
  },
  {
   "cell_type": "code",
   "execution_count": 64,
   "id": "1383a96d-efa4-4678-8b71-6c516e259433",
   "metadata": {},
   "outputs": [],
   "source": [
    "df_mdb.BERUF_MAPPED.replace(['Journalist', 'Journalistin', 'Redakteur', 'Redakteurin', \n",
    "                               'Freier Journalist', 'Freie Journalistin', 'Fernsehjournalist', 'Fernsehjournalistin', \n",
    "                               'PR-Journalistin'], 'Journalist*in / Redakteur*in', inplace=True)"
   ]
  },
  {
   "cell_type": "code",
   "execution_count": 65,
   "id": "2eef0c35-9c33-4859-8b3d-3fad633bb1ba",
   "metadata": {},
   "outputs": [],
   "source": [
    "Journalist_Strings = df_mdb[df_mdb.BERUF_MAPPED.str.contains('edakteur', na=False)].BERUF_MAPPED\n",
    "df_mdb.BERUF_MAPPED.replace(list(Journalist_Strings), 'Journalist*in / Redakteur*in', inplace=True)"
   ]
  },
  {
   "cell_type": "code",
   "execution_count": null,
   "id": "be618235-8667-4f9b-891a-2d393bd4c1e9",
   "metadata": {},
   "outputs": [],
   "source": []
  },
  {
   "cell_type": "code",
   "execution_count": 66,
   "id": "a41d9f00-30d4-4971-ae9b-cee8441ad4e8",
   "metadata": {},
   "outputs": [],
   "source": [
    "Beamte_String = df_mdb[df_mdb.BERUF_MAPPED.str.contains('amte', na=False)].BERUF_MAPPED\n",
    "df_mdb.BERUF_MAPPED.replace(list(Beamte_String), 'Angestellt[e] / Beamter*in', inplace=True)"
   ]
  },
  {
   "cell_type": "code",
   "execution_count": 67,
   "id": "c47d38ca-5b45-4b05-9037-c372143bde02",
   "metadata": {},
   "outputs": [],
   "source": [
    "df_mdb.BERUF_MAPPED.replace(['Angestellter', 'Angestellte', 'Regierungsdirektor', 'Regierungsdirektorin'], 'Angestellt[e] / Beamter*in', inplace=True)"
   ]
  },
  {
   "cell_type": "code",
   "execution_count": null,
   "id": "7c56dda0-0729-423a-be68-98b89b9b16c0",
   "metadata": {},
   "outputs": [],
   "source": []
  },
  {
   "cell_type": "code",
   "execution_count": 68,
   "id": "9a3c04f4-d823-4099-9d2c-4d922174a952",
   "metadata": {},
   "outputs": [],
   "source": [
    "Lehrer_Strings = df_mdb[df_mdb.BERUF_MAPPED.str.contains('ädagoge', na=False)].BERUF_MAPPED\n",
    "df_mdb.BERUF_MAPPED.replace(list(Journalist_Strings), 'Lehrer*in / Rektor*in [a. D.]', inplace=True)"
   ]
  },
  {
   "cell_type": "code",
   "execution_count": 69,
   "id": "5ed872ee-b40c-425f-af9f-800dd0ed70f2",
   "metadata": {},
   "outputs": [],
   "source": [
    "df_mdb.BERUF_MAPPED.replace(['Lehrer', 'Lehrerin', 'Erzieherin', 'Erzieher', 'Studienrat', 'Studienrätin', 'Oberstudienrat', 'Oberstudienrätin',\n",
    "                                'Realschullehrer', 'Realschullehrerin', 'Oberlehrer', 'Gymnasiallehrerin', 'Gymnasiallehrer','Lehrer am Gymnasium (Oberstudienrat)',\n",
    "                                'Oberstudienrat', 'Oberstudienrätin', 'Oberstudienrat a. D.', \n",
    "                                'Oberschulrat', 'Oberschulrätin',\n",
    "                                'Studiendirektor', 'Studiendirektorin',\n",
    "                                'Oberstudiendirektor', 'Oberstudiendirektorin','Direktor', 'Direktorin',\n",
    "                                'Volkshochschuldirektor', 'Volkshochschuldirektorin', 'Realschuldirektor', 'Realschuldirektorin',\n",
    "                                'Schuldirektor', 'Schuldirektorin', 'Hauptschuldirektor', 'Hauptschuldirektorin', 'Stadtschuldirektor', 'Stadtschuldirektorin',\n",
    "                                'Rektor', 'Rektorin','Volksschulrektor', 'Volksschulrektorin','Gymnasialdirektor', 'Gymnasialdirektorin',\n",
    "                                'Reallehrer', 'Reallehrerin','Realschulrektor', 'Realschulrektorin','Konrektor', 'Konrektorin',\n",
    "                                'Konrektorin a.D.',\n",
    "                                'Hauptschullehrerin', 'Hauptschullehrer','Hauptschulrat', 'Hauptschulrätin',\n",
    "                                'Grund - u. Hauptschullehrer', 'Hauptlehrer', 'Hauptlehrerin',\n",
    "                                'Sonderschullehrerin',  'Sonderschullehrer',\n",
    "                                'Waldorflehrer', 'Waldorflehrerin',\n",
    "                                'Berufsschullehrer', 'Berufschullehrerin', 'Sportlehrerin', 'Sportlehrer','Gymnastiklehrer', 'Gymnastiklehrerin',\n",
    "                                'Lehrer Biologie/Chemie',\n",
    "                                'Handelslehrer', \n",
    "                                'Fachhochschullehrer', 'Fachhochschullehrerin','Fachschullehrer', 'Fachschullehrerin',\n",
    "                                'Handelslehrerin', 'Wirtschaftslehrerin', 'Technischer Lehrer', \n",
    "                                'Gewerbeschullehrer', 'Gewerbeschullehrerin','Fremdsprachenlehrer', 'Fremdsprachenlehrerin',\n",
    "                                'Pädagoge', 'Pädagogin', 'Sozialpädagogin', 'Sozialpädagoge',\n",
    "                                'Lehrer am katholischen Gymnasium Ravensburg','Lehrerin (Oberstudienrätin)','Lehrerin (StRin)', 'Lehrerin a. A.'], \n",
    "                               'Lehrer*in / Rektor*in [a. D.]', inplace=True)"
   ]
  },
  {
   "cell_type": "code",
   "execution_count": 70,
   "id": "1c2c7d74-8fa1-43dd-a78d-944801412817",
   "metadata": {},
   "outputs": [],
   "source": [
    "Kaufmann_Strings = df_mdb[(df_mdb.BERUF_MAPPED.str.contains('aufmann', na=False)) |(df_mdb.BERUF_MAPPED.str.contains('auffrau', na=False))].BERUF_MAPPED \n",
    "df_mdb.BERUF_MAPPED.replace(list(Kaufmann_Strings), 'Kaufmann/-frau', inplace=True)"
   ]
  },
  {
   "cell_type": "code",
   "execution_count": 71,
   "id": "27b7c6bd-7c81-4e45-9902-37a599abeb0b",
   "metadata": {},
   "outputs": [],
   "source": [
    "df_mdb.BERUF_MAPPED.replace(['Kaufmann', 'Kauffrau', 'Bürokauffrau', 'Bürokaufmann', 'Versicherungskaufmann', 'Versicherungskauffrau',\n",
    "                                'Industriekaufmann', 'Industriekauffrau', 'Kaufmännischer Angestellter', \n",
    "                                'Bankkaufmann', 'Bankkauffrau', 'Einzelhandelskaufmann', 'Einzelhandelskauffrau',\n",
    "                                'Baukaufmann', 'Baukauffrau',\n",
    "                                'Großhandelskaufmann', 'Großhandelskauffrau',\n",
    "                               'Hotelkauffrau', 'Hotelkaufmann', 'Selbständiger Kaufmann',\n",
    "                               'Kaufmännische Angestellte', 'Kaufmännischer Angestellter', 'Kaufmännischer Direktor', 'Kaufmännische Direktorin'], 'Kaufmann/-frau', inplace=True)"
   ]
  },
  {
   "cell_type": "code",
   "execution_count": 72,
   "id": "e05202fc-ebd7-46f9-955a-8cb92bb49b5a",
   "metadata": {},
   "outputs": [],
   "source": [
    "df_mdb.BERUF_MAPPED.replace(['Volkswirt', 'Volkswirtin'], 'Volkswirtin*in', inplace=True)"
   ]
  },
  {
   "cell_type": "code",
   "execution_count": 73,
   "id": "0c90624c-5607-43cd-8eff-e11bae925f83",
   "metadata": {},
   "outputs": [],
   "source": [
    "Prof_Strings = df_mdb[df_mdb.BERUF_MAPPED.str.contains('Dozent', na=False)].BERUF_MAPPED\n",
    "df_mdb.BERUF_MAPPED.replace(list(Prof_Strings), 'Professor*in', inplace=True)"
   ]
  },
  {
   "cell_type": "code",
   "execution_count": 74,
   "id": "e8e44090-19e2-4187-aaf9-8feeeb959fb2",
   "metadata": {},
   "outputs": [],
   "source": [
    "# unnötig df_mdb_wp.BERUF_MAPPED.replace(['Fabrikant', 'Fabrikantin'], 'Fabrikant*in', inplace=True)\n",
    "df_mdb.BERUF_MAPPED.replace(['Professor', 'Professorin', 'Universitätsprofessor', 'Universitätsprofessorin', 'Prof.',\n",
    "                                'Hochschullehrer', 'Hochschullehrerin', 'Fachhochschulprofessor', 'Fachhochschulprofessorin',\n",
    "                                'Dozent', 'Dozentin', 'Honorarprofessor', 'Honorarprofessorin',\n",
    "                               'Lehrerin im Hochschuldienst', 'Studienrat im Hochschuldienst'], 'Professor*in', inplace=True)"
   ]
  },
  {
   "cell_type": "code",
   "execution_count": 75,
   "id": "80be1424-0b40-4f4e-854a-9836fc71c659",
   "metadata": {},
   "outputs": [],
   "source": [
    "# hihi gibt es nicht df_mdb_wp.BERUF_MAPPED.replace(['Hausfrau', 'Hausmann'], 'Hausfrau/-mann', inplace=True)\n",
    "df_mdb.BERUF_MAPPED.replace(['Bundeskanzler', 'Bundeskanzlerin', 'Ministerpräsident', 'Ministerpräsidentin',\n",
    "                                'Ministerpräsident des Freistaates Bayern',\n",
    "                                'Bundestagspräsident', 'Bundestagspräsidentin',\n",
    "                                'Präsident DBT', 'Präsidentin DBT', 'Vizepräsident DBT', 'Vizepräsidentin DBT', 'Vizepräsident des Deutschen Bundestages',\n",
    "                                'Parl. Staatssekretär', 'Parl. Staatssekretärin',\n",
    "                               'Präsident DBT a.D.', 'Präsidentin DBT a.D.',\n",
    "                                'Landrat', 'Landrätin', 'Landrat a. D.', 'Landrätin a. D.',\n",
    "                               'Bundesminister', 'Bundesministerin', 'Bundesminister a. D.',\n",
    "                               'Bürgermeister', 'Bürgermeisterin', 'Oberbürgermeister', 'Oberbürgermeisterin',\n",
    "                               'Amtsbürgermeister', 'Amtsbürgermeisterin', '1. Bürgermeister', '1. Bürgermeisterin',\n",
    "                               'Bezirksbürgermeister', 'Bezirksbürgermeisterin', 'Erster Bürgermeister',\n",
    "                               'Staatsminister', 'Staatsministerin', 'Staatsminister a. D.', 'Staatsminister a. D.',\n",
    "                                 'Staatssekretär', 'Staatssekretärin',\n",
    "                                'Ministerialdirektor', 'Ministerialdirektorin'\n",
    "                               'Regierungsdirektor', 'Regierungsdirektorin', 'Regierungsdirektor a. D.', 'Regierungsdirektorin a. D.',\n",
    "                                'Gemeindedirektor', 'Gemeindedirektorin', 'Stadtdirektor', 'Stadtdirektorin',\n",
    "                                'Stadtdirektor', 'Stadtdirektorin'\n",
    "                               'Oberregierungsrat', 'Oberregierungsrätin', 'Regierungsrat', 'Regierungsrätin', \n",
    "                                'Regierungspräsident', 'Regierungspräsidentin','Regierungsvizepräsident', 'Regierungsvizepräsidentin','Regierungspräsident z. D.',\n",
    "                               'Ministerialrat', 'Ministerialrätin',\n",
    "                                'Stadtamtmann', 'Stadtoberinspektor', 'Regierungsangestellter',\n",
    "                               'Mitglied der Volkskammer', 'Landesgeschäftsführer'], 'Berufspolitiker', inplace=True)"
   ]
  },
  {
   "cell_type": "code",
   "execution_count": 76,
   "id": "1a13fe46-14f0-42a5-81db-8eed1c05c96d",
   "metadata": {},
   "outputs": [
    {
     "data": {
      "text/plain": [
       "Oberregierungsrat                        14\n",
       "Regierungsangestellte                     2\n",
       "Regierungsschuldirektorin                 1\n",
       "Oberregierungsrat Bundesminister a.D.     1\n",
       "Oberregierungslandwirtschaftsrat          1\n",
       "Regierungs- u.Schulrat z. Wv.             1\n",
       "Regierungsassessor                        1\n",
       "Leitender Regierungsdirektor              1\n",
       "Regierungsinspektor                       1\n",
       "Name: BERUF_MAPPED, dtype: int64"
      ]
     },
     "execution_count": 76,
     "metadata": {},
     "output_type": "execute_result"
    }
   ],
   "source": [
    "df_mdb[df_mdb.BERUF_MAPPED.str.contains('egierung', na=False)].BERUF_MAPPED.value_counts()"
   ]
  },
  {
   "cell_type": "code",
   "execution_count": null,
   "id": "4302e9eb-e432-46a6-a9bb-45b58183dace",
   "metadata": {},
   "outputs": [],
   "source": []
  },
  {
   "cell_type": "code",
   "execution_count": 77,
   "id": "c0b71494-420c-4cca-b38d-6be4a257962d",
   "metadata": {},
   "outputs": [],
   "source": [
    "Berufspolitiker_Strings = df_mdb[(df_mdb.BERUF_MAPPED.str.contains('inister', na=False))].BERUF_MAPPED \n",
    "df_mdb.BERUF_MAPPED.replace(list(Berufspolitiker_Strings), 'Berufspolitiker', inplace=True)"
   ]
  },
  {
   "cell_type": "code",
   "execution_count": 78,
   "id": "82b8de5a-cc4e-4379-80d0-9c912fbcdfa5",
   "metadata": {},
   "outputs": [],
   "source": [
    "df_mdb.BERUF_MAPPED.replace(['Gewerkschaftssekretär', 'Gewerkschaftssekretärin'], 'Gewerkschaftssekretär*in', inplace=True)"
   ]
  },
  {
   "cell_type": "code",
   "execution_count": 79,
   "id": "55c0ae57-29bc-44c0-9e8d-b5d42ed6d78e",
   "metadata": {},
   "outputs": [],
   "source": [
    "df_mdb.BERUF_MAPPED.replace(['Arzt', 'Ärztin', 'Zahnarzt', 'Zahnärztin',\n",
    "                                'Apotheker', 'Apothekerin', 'Tierarzt', 'Tierärztin',\n",
    "                               'Medizinisch-technische Assistentin', 'Facharzt für innere Medizin', 'Facharzt für Innere Medizin'], 'Mediziner/ Ärztin', inplace=True)"
   ]
  },
  {
   "cell_type": "code",
   "execution_count": 80,
   "id": "2902eff3-facc-4621-95ba-68658b59e95a",
   "metadata": {},
   "outputs": [],
   "source": [
    "df_mdb.BERUF_MAPPED.replace(['Pfarrer', 'Pfarrerin', 'Theologe', 'Theologin', 'Diakon', 'Diakonin'], 'Theologe*in', inplace=True)"
   ]
  },
  {
   "cell_type": "code",
   "execution_count": 81,
   "id": "08c18bc1-de6f-4a65-8e25-cbeb3eb70960",
   "metadata": {},
   "outputs": [],
   "source": [
    "df_mdb.BERUF_MAPPED.replace(['Betriebswirt', 'Betriebswirtin', 'Betriebswirt (FH)', 'Betriebswirtin (FH)', \n",
    "                                'Verwaltungsangestellter', 'Verwaltungsangestellterin',\n",
    "                                'Verwaltungsleiter', 'Verwaltungsleiterin',\n",
    "                                'Verwaltungswissenschaftler', 'Verwaltungswissenschaftlerin', \n",
    "                                'Verwaltungswirt', 'Verwaltungswirtin', 'Verwaltungswirt (FH)', 'Verwaltungswirtin (FH)',\n",
    "                                'Oberlandwirtschaftsrat', 'Oberlandwirtschaftsrätin', 'Leitender Angestellter', 'Leitende Angestellte',\n",
    "                                'Verwaltungsdirektor', 'Verwaltungsdirektorin', 'Verwaltungsangestellter', 'Verwaltungsangestellte',\n",
    "                                'Sparkassenbetriebswirt', 'Sparkassenbetriebswirtin', 'Steuerberater', 'Steuerberaterin', 'Bankdirektor', 'Bankdirektorin'\n",
    "                               ], 'Betriebswirt*in / Verwaltungsangestellte*r', inplace=True)"
   ]
  },
  {
   "cell_type": "code",
   "execution_count": 82,
   "id": "d6a8fac0-6293-4e92-a8e9-d402f607efb5",
   "metadata": {},
   "outputs": [],
   "source": [
    "df_mdb.BERUF_MAPPED = df_mdb.BERUF_MAPPED.str.replace('Wirtschafts- und Sozialwissenschaftler', 'Wirtschaftswissenschaftler')\n",
    "df_mdb.BERUF_MAPPED.replace(['Wirtschaftswissenschaftler', 'Wirtschaftswissenschaftler', 'Ökonom', 'Ökonomin', \n",
    "                                'Sozialökonom', 'Sozialökonomin', \n",
    "                                'Prokurist', 'Prokuristin'], 'Wirtschaftswissenschaftler*in', inplace=True)"
   ]
  },
  {
   "cell_type": "code",
   "execution_count": 83,
   "id": "080ca109-7dc8-4388-b65f-82e2b9a5c19a",
   "metadata": {},
   "outputs": [],
   "source": [
    "df_mdb.BERUF_MAPPED.replace(['Politologe', 'Politologin', 'Politikwissenschaftler', 'Politikwissenschaftlerin', \n",
    "                                'Historiker', 'Historikerin', \n",
    "                                'Philosoph', 'Philosophin','Philologe', 'Philologin',\n",
    "                                'Soziologe', 'Soziologin', 'Sozialwissenschaftler', 'Sozialwissenschaftlerin'], 'Geisteswissenschaftler*in', inplace=True)"
   ]
  },
  {
   "cell_type": "code",
   "execution_count": 84,
   "id": "e5982ece-e286-43a9-8b24-a1b94de004d8",
   "metadata": {},
   "outputs": [],
   "source": [
    "df_mdb.BERUF_MAPPED.replace(['Chemiker', 'Chemikerin', 'Physiker', 'Physikerin', 'Pysiker', \n",
    "                                'Geophysiker', 'Geophysikerin', 'Biologe', 'Biologin', 'Physikochemiker',\n",
    "                                'Mathematiker', 'Mathematikerin',\n",
    "                               'Informatiker', 'Informatikerin',\n",
    "                               'Technischer Angestellter', 'Technische Angestellte', \n",
    "                                'Wissenschaftlicher Mitarbeiter', 'Wissenschaftliche Mitarbeiterin',\n",
    "                                'Wissenschaftlicher Assistent', 'Wissenschaftliche Assistentin'], 'Naturwissenschaftler*in', inplace=True)"
   ]
  },
  {
   "cell_type": "code",
   "execution_count": 85,
   "id": "bde40af3-bec1-4bb3-9811-45e5a2493b71",
   "metadata": {},
   "outputs": [],
   "source": [
    "df_mdb.BERUF_MAPPED.replace(['Schriftsetzer', 'Schriftsetzerin'], 'Schriftsetzer*in', inplace=True)"
   ]
  },
  {
   "cell_type": "code",
   "execution_count": 86,
   "id": "273660ce-21d6-46ac-934a-4ac930405d64",
   "metadata": {},
   "outputs": [],
   "source": [
    "df_mdb.BERUF_MAPPED.replace(['Publizist', 'Publizistin', 'Verleger', 'Verlagsleiter'], 'Publizist*in', inplace=True)"
   ]
  },
  {
   "cell_type": "code",
   "execution_count": 87,
   "id": "64f9971e-d4df-4ad6-bfad-e3ed8406b8fe",
   "metadata": {},
   "outputs": [],
   "source": [
    "# wenig!\n",
    "df_mdb.BERUF_MAPPED.replace(['Psychologe', 'Psychologin', 'Beratender Diplompsychologe', 'Fachpsychologin der Medizin'], 'Psycholog*in', inplace=True)"
   ]
  },
  {
   "cell_type": "code",
   "execution_count": 88,
   "id": "a4b7e77b-8ec2-4b69-9957-c5aae03f5e37",
   "metadata": {},
   "outputs": [],
   "source": [
    "#handwerker / Elektroniker / Mechaniker / Maurer / Schreiner / Tischler\n",
    "df_mdb.BERUF_MAPPED.replace(['Elektroingenieur', 'Elektroingenieurin', 'Elektroinstallateur', 'Elektroinstallateurin',\n",
    "                                'Elektromeister', 'Elektromeisterin', 'Elektromechaniker', 'Elektromechanikerin', 'Elektromonteur', 'Elektromonteurin',\n",
    "                                'Elektroschweißer', 'Elektroschweißerin', 'Elektrotechniker', 'Elektrotechnikerin', 'Elektro-Techniker', 'Elektro-Technikerin',\n",
    "                                'Elektroniker', 'Elektronikerin'\n",
    "                                'Elektrohandwerksmeister', 'Elektrohandwerksmeisterin', 'Kraftfahrzeughandwerker', 'Kraftfahrzeughandwerkerin',\n",
    "                                'Handwerksunternehmer', 'Handwerksunternehmerin', 'Elektro.-Ing.',\n",
    "                                'Mechaniker', 'Mechanikerin', 'Feinmechaniker', 'Feinmechanikerin',\n",
    "                                'Werkzeugmacher', 'Werkzeugmacherin', 'Ingenieur (FH) für Maschinenbau Werkzeugmacher',\n",
    "                                'Kfz.-Mechaniker', 'Kfz.-Mechanikerin', 'Industriemechaniker', 'Industriemechanikerin',\n",
    "                                'Selbständiger Kfz.-Mechanikermeister', 'Funkmechaniker', 'Funkmechaniker', 'Mechanikermeister', 'Härterfacharbeiter',\n",
    "                                'Schlosser', 'Schlosserin','Maschinenschlosser', 'Maschinenschlosserin'\n",
    "                                'Meister im Maurer- und Betonbauerhandwerk', 'Meister des Maler- und Lackierhandwerks',\n",
    "                                'Maurer', 'Maurerin',\n",
    "                                'Tischler', 'Tischlerin', 'Tischlermeister', 'Tischlermeisterin', 'Tischlergeselle', 'Tischlergesellin',\n",
    "                                'Schreinermeister', 'Schreinermeisterin', 'Schreiner', 'Schreinerin', 'Modellschreiner', 'Modellschreinerin',\n",
    "                                'Bäckermeister', 'Bäckerm.', 'Bäcker', 'Bäckerin', 'Bäcker- u. Konditormeister', 'selbstständiger Bäckermeister', 'Koch', 'Köchin',\n",
    "                                'Müllermeister', 'Müllermeisterin', 'Bergmann'\n",
    "                               ], 'Handwerker*in', inplace=True)"
   ]
  },
  {
   "cell_type": "code",
   "execution_count": 89,
   "id": "26b2a578-3c12-441e-a5b1-72d11a9e4f5c",
   "metadata": {},
   "outputs": [
    {
     "data": {
      "text/html": [
       "<div>\n",
       "<style scoped>\n",
       "    .dataframe tbody tr th:only-of-type {\n",
       "        vertical-align: middle;\n",
       "    }\n",
       "\n",
       "    .dataframe tbody tr th {\n",
       "        vertical-align: top;\n",
       "    }\n",
       "\n",
       "    .dataframe thead th {\n",
       "        text-align: right;\n",
       "    }\n",
       "</style>\n",
       "<table border=\"1\" class=\"dataframe\">\n",
       "  <thead>\n",
       "    <tr style=\"text-align: right;\">\n",
       "      <th></th>\n",
       "      <th>ID</th>\n",
       "    </tr>\n",
       "    <tr>\n",
       "      <th>BERUF_MAPPED</th>\n",
       "      <th></th>\n",
       "    </tr>\n",
       "  </thead>\n",
       "  <tbody>\n",
       "    <tr>\n",
       "      <th>Hausfrau</th>\n",
       "      <td>52</td>\n",
       "    </tr>\n",
       "    <tr>\n",
       "      <th>Theologe*in</th>\n",
       "      <td>36</td>\n",
       "    </tr>\n",
       "    <tr>\n",
       "      <th>Wirtschaftswissenschaftler*in</th>\n",
       "      <td>24</td>\n",
       "    </tr>\n",
       "    <tr>\n",
       "      <th>Publizist*in</th>\n",
       "      <td>23</td>\n",
       "    </tr>\n",
       "    <tr>\n",
       "      <th>Oberregierungsrat</th>\n",
       "      <td>14</td>\n",
       "    </tr>\n",
       "    <tr>\n",
       "      <th>Psycholog*in</th>\n",
       "      <td>12</td>\n",
       "    </tr>\n",
       "    <tr>\n",
       "      <th>Schriftsteller</th>\n",
       "      <td>12</td>\n",
       "    </tr>\n",
       "    <tr>\n",
       "      <th>Schriftsetzer*in</th>\n",
       "      <td>11</td>\n",
       "    </tr>\n",
       "    <tr>\n",
       "      <th>Sozialarbeiter</th>\n",
       "      <td>9</td>\n",
       "    </tr>\n",
       "    <tr>\n",
       "      <th>Unternehmensberater</th>\n",
       "      <td>9</td>\n",
       "    </tr>\n",
       "    <tr>\n",
       "      <th>Architekt</th>\n",
       "      <td>9</td>\n",
       "    </tr>\n",
       "    <tr>\n",
       "      <th>Studentin</th>\n",
       "      <td>6</td>\n",
       "    </tr>\n",
       "    <tr>\n",
       "      <th>Oberstleutnant</th>\n",
       "      <td>6</td>\n",
       "    </tr>\n",
       "    <tr>\n",
       "      <th>Student</th>\n",
       "      <td>5</td>\n",
       "    </tr>\n",
       "    <tr>\n",
       "      <th>Wirtschaftsprüfer</th>\n",
       "      <td>4</td>\n",
       "    </tr>\n",
       "    <tr>\n",
       "      <th>Sozialarbeiterin</th>\n",
       "      <td>4</td>\n",
       "    </tr>\n",
       "  </tbody>\n",
       "</table>\n",
       "</div>"
      ],
      "text/plain": [
       "                               ID\n",
       "BERUF_MAPPED                     \n",
       "Hausfrau                       52\n",
       "Theologe*in                    36\n",
       "Wirtschaftswissenschaftler*in  24\n",
       "Publizist*in                   23\n",
       "Oberregierungsrat              14\n",
       "Psycholog*in                   12\n",
       "Schriftsteller                 12\n",
       "Schriftsetzer*in               11\n",
       "Sozialarbeiter                  9\n",
       "Unternehmensberater             9\n",
       "Architekt                       9\n",
       "Studentin                       6\n",
       "Oberstleutnant                  6\n",
       "Student                         5\n",
       "Wirtschaftsprüfer               4\n",
       "Sozialarbeiterin                4"
      ]
     },
     "execution_count": 89,
     "metadata": {},
     "output_type": "execute_result"
    }
   ],
   "source": [
    "df_mdb[['ID', 'BERUF_MAPPED']].groupby('BERUF_MAPPED').count().sort_values(by='ID', ascending=False)[16:32]"
   ]
  },
  {
   "cell_type": "code",
   "execution_count": 90,
   "id": "ef9ae9a1-ad6e-4011-8a5f-23aafaa38e4c",
   "metadata": {},
   "outputs": [
    {
     "data": {
      "text/plain": [
       "<AxesSubplot:xlabel='BERUF_MAPPED'>"
      ]
     },
     "execution_count": 90,
     "metadata": {},
     "output_type": "execute_result"
    },
    {
     "data": {
      "image/png": "[encoded data removed]",
      "text/plain": [
       "<Figure size 1152x576 with 1 Axes>"
      ]
     },
     "metadata": {
      "needs_background": "light"
     },
     "output_type": "display_data"
    }
   ],
   "source": [
    "import matplotlib.pyplot as plt\n",
    "plt.figure(figsize=(16,8))\n",
    "df_mdb.groupby('BERUF_MAPPED')['ID'].count().sort_values(ascending=False)[:32].plot(kind='bar')"
   ]
  },
  {
   "cell_type": "code",
   "execution_count": 91,
   "id": "822becb9-c959-4157-917c-0ac96fc9247a",
   "metadata": {},
   "outputs": [
    {
     "data": {
      "text/plain": [
       "766"
      ]
     },
     "execution_count": 91,
     "metadata": {},
     "output_type": "execute_result"
    }
   ],
   "source": [
    "len(set(df_mdb['BERUF_MAPPED']))"
   ]
  },
  {
   "cell_type": "code",
   "execution_count": null,
   "id": "af431cc6-61fa-4567-bf88-7834bbe40168",
   "metadata": {},
   "outputs": [],
   "source": []
  },
  {
   "cell_type": "markdown",
   "id": "2cb734b0-1f43-478b-8c2e-b4923b312574",
   "metadata": {},
   "source": [
    "# construct df_mdb_wp"
   ]
  },
  {
   "cell_type": "code",
   "execution_count": 93,
   "id": "22eb0588-3f1e-447e-b82b-2bd600fde8f0",
   "metadata": {},
   "outputs": [
    {
     "name": "stdout",
     "output_type": "stream",
     "text": [
      "(11627, 17)\n"
     ]
    }
   ],
   "source": [
    "df_mdb_wp = get_mdb_wp_data(df_mdb)\n",
    "print(df_mdb_wp.shape)"
   ]
  },
  {
   "cell_type": "code",
   "execution_count": 94,
   "id": "47c471ca-f842-4b9f-aa75-6d354a818c8b",
   "metadata": {},
   "outputs": [
    {
     "data": {
      "text/html": [
       "<div>\n",
       "<style scoped>\n",
       "    .dataframe tbody tr th:only-of-type {\n",
       "        vertical-align: middle;\n",
       "    }\n",
       "\n",
       "    .dataframe tbody tr th {\n",
       "        vertical-align: top;\n",
       "    }\n",
       "\n",
       "    .dataframe thead th {\n",
       "        text-align: right;\n",
       "    }\n",
       "</style>\n",
       "<table border=\"1\" class=\"dataframe\">\n",
       "  <thead>\n",
       "    <tr style=\"text-align: right;\">\n",
       "      <th></th>\n",
       "      <th>ID</th>\n",
       "      <th>NACHNAME</th>\n",
       "      <th>VORNAME</th>\n",
       "      <th>GEBURTSDATUM</th>\n",
       "      <th>GEBURTSORT</th>\n",
       "      <th>GEBURTSLAND</th>\n",
       "      <th>STERBEDATUM</th>\n",
       "      <th>GESCHLECHT</th>\n",
       "      <th>FAMILIENSTAND</th>\n",
       "      <th>RELIGION</th>\n",
       "      <th>BERUF</th>\n",
       "      <th>PARTEI_KURZ</th>\n",
       "      <th>VITA_KURZ</th>\n",
       "      <th>VEROEFFENTLICHUNGSPFLICHTIGES</th>\n",
       "      <th>ANZ_WAHLPERIODEN</th>\n",
       "      <th>BERUF_MAPPED</th>\n",
       "      <th>WP</th>\n",
       "    </tr>\n",
       "  </thead>\n",
       "  <tbody>\n",
       "    <tr>\n",
       "      <th>1465</th>\n",
       "      <td>11001478</td>\n",
       "      <td>Merkel</td>\n",
       "      <td>Angela</td>\n",
       "      <td>17.07.1954</td>\n",
       "      <td>Hamburg</td>\n",
       "      <td>UNBEKANNT</td>\n",
       "      <td>UNBEKANNT</td>\n",
       "      <td>weiblich</td>\n",
       "      <td>verheiratet</td>\n",
       "      <td>evangelisch</td>\n",
       "      <td>Bundeskanzlerin, Dipl.-Physikerin</td>\n",
       "      <td>CDU</td>\n",
       "      <td>1973 Abitur in Templin. Physikstudium Univ. Le...</td>\n",
       "      <td>4 Funktionen in Körperschaften und Anstalten d...</td>\n",
       "      <td>8</td>\n",
       "      <td>Berufspolitiker</td>\n",
       "      <td>12</td>\n",
       "    </tr>\n",
       "    <tr>\n",
       "      <th>1465</th>\n",
       "      <td>11001478</td>\n",
       "      <td>Merkel</td>\n",
       "      <td>Angela</td>\n",
       "      <td>17.07.1954</td>\n",
       "      <td>Hamburg</td>\n",
       "      <td>UNBEKANNT</td>\n",
       "      <td>UNBEKANNT</td>\n",
       "      <td>weiblich</td>\n",
       "      <td>verheiratet</td>\n",
       "      <td>evangelisch</td>\n",
       "      <td>Bundeskanzlerin, Dipl.-Physikerin</td>\n",
       "      <td>CDU</td>\n",
       "      <td>1973 Abitur in Templin. Physikstudium Univ. Le...</td>\n",
       "      <td>4 Funktionen in Körperschaften und Anstalten d...</td>\n",
       "      <td>8</td>\n",
       "      <td>Berufspolitiker</td>\n",
       "      <td>13</td>\n",
       "    </tr>\n",
       "    <tr>\n",
       "      <th>1465</th>\n",
       "      <td>11001478</td>\n",
       "      <td>Merkel</td>\n",
       "      <td>Angela</td>\n",
       "      <td>17.07.1954</td>\n",
       "      <td>Hamburg</td>\n",
       "      <td>UNBEKANNT</td>\n",
       "      <td>UNBEKANNT</td>\n",
       "      <td>weiblich</td>\n",
       "      <td>verheiratet</td>\n",
       "      <td>evangelisch</td>\n",
       "      <td>Bundeskanzlerin, Dipl.-Physikerin</td>\n",
       "      <td>CDU</td>\n",
       "      <td>1973 Abitur in Templin. Physikstudium Univ. Le...</td>\n",
       "      <td>4 Funktionen in Körperschaften und Anstalten d...</td>\n",
       "      <td>8</td>\n",
       "      <td>Berufspolitiker</td>\n",
       "      <td>14</td>\n",
       "    </tr>\n",
       "    <tr>\n",
       "      <th>1465</th>\n",
       "      <td>11001478</td>\n",
       "      <td>Merkel</td>\n",
       "      <td>Angela</td>\n",
       "      <td>17.07.1954</td>\n",
       "      <td>Hamburg</td>\n",
       "      <td>UNBEKANNT</td>\n",
       "      <td>UNBEKANNT</td>\n",
       "      <td>weiblich</td>\n",
       "      <td>verheiratet</td>\n",
       "      <td>evangelisch</td>\n",
       "      <td>Bundeskanzlerin, Dipl.-Physikerin</td>\n",
       "      <td>CDU</td>\n",
       "      <td>1973 Abitur in Templin. Physikstudium Univ. Le...</td>\n",
       "      <td>4 Funktionen in Körperschaften und Anstalten d...</td>\n",
       "      <td>8</td>\n",
       "      <td>Berufspolitiker</td>\n",
       "      <td>15</td>\n",
       "    </tr>\n",
       "    <tr>\n",
       "      <th>1465</th>\n",
       "      <td>11001478</td>\n",
       "      <td>Merkel</td>\n",
       "      <td>Angela</td>\n",
       "      <td>17.07.1954</td>\n",
       "      <td>Hamburg</td>\n",
       "      <td>UNBEKANNT</td>\n",
       "      <td>UNBEKANNT</td>\n",
       "      <td>weiblich</td>\n",
       "      <td>verheiratet</td>\n",
       "      <td>evangelisch</td>\n",
       "      <td>Bundeskanzlerin, Dipl.-Physikerin</td>\n",
       "      <td>CDU</td>\n",
       "      <td>1973 Abitur in Templin. Physikstudium Univ. Le...</td>\n",
       "      <td>4 Funktionen in Körperschaften und Anstalten d...</td>\n",
       "      <td>8</td>\n",
       "      <td>Berufspolitiker</td>\n",
       "      <td>16</td>\n",
       "    </tr>\n",
       "  </tbody>\n",
       "</table>\n",
       "</div>"
      ],
      "text/plain": [
       "            ID NACHNAME VORNAME GEBURTSDATUM GEBURTSORT GEBURTSLAND  \\\n",
       "1465  11001478   Merkel  Angela   17.07.1954    Hamburg   UNBEKANNT   \n",
       "1465  11001478   Merkel  Angela   17.07.1954    Hamburg   UNBEKANNT   \n",
       "1465  11001478   Merkel  Angela   17.07.1954    Hamburg   UNBEKANNT   \n",
       "1465  11001478   Merkel  Angela   17.07.1954    Hamburg   UNBEKANNT   \n",
       "1465  11001478   Merkel  Angela   17.07.1954    Hamburg   UNBEKANNT   \n",
       "\n",
       "     STERBEDATUM GESCHLECHT FAMILIENSTAND     RELIGION  \\\n",
       "1465   UNBEKANNT   weiblich   verheiratet  evangelisch   \n",
       "1465   UNBEKANNT   weiblich   verheiratet  evangelisch   \n",
       "1465   UNBEKANNT   weiblich   verheiratet  evangelisch   \n",
       "1465   UNBEKANNT   weiblich   verheiratet  evangelisch   \n",
       "1465   UNBEKANNT   weiblich   verheiratet  evangelisch   \n",
       "\n",
       "                                  BERUF PARTEI_KURZ  \\\n",
       "1465  Bundeskanzlerin, Dipl.-Physikerin         CDU   \n",
       "1465  Bundeskanzlerin, Dipl.-Physikerin         CDU   \n",
       "1465  Bundeskanzlerin, Dipl.-Physikerin         CDU   \n",
       "1465  Bundeskanzlerin, Dipl.-Physikerin         CDU   \n",
       "1465  Bundeskanzlerin, Dipl.-Physikerin         CDU   \n",
       "\n",
       "                                              VITA_KURZ  \\\n",
       "1465  1973 Abitur in Templin. Physikstudium Univ. Le...   \n",
       "1465  1973 Abitur in Templin. Physikstudium Univ. Le...   \n",
       "1465  1973 Abitur in Templin. Physikstudium Univ. Le...   \n",
       "1465  1973 Abitur in Templin. Physikstudium Univ. Le...   \n",
       "1465  1973 Abitur in Templin. Physikstudium Univ. Le...   \n",
       "\n",
       "                          VEROEFFENTLICHUNGSPFLICHTIGES  ANZ_WAHLPERIODEN  \\\n",
       "1465  4 Funktionen in Körperschaften und Anstalten d...                 8   \n",
       "1465  4 Funktionen in Körperschaften und Anstalten d...                 8   \n",
       "1465  4 Funktionen in Körperschaften und Anstalten d...                 8   \n",
       "1465  4 Funktionen in Körperschaften und Anstalten d...                 8   \n",
       "1465  4 Funktionen in Körperschaften und Anstalten d...                 8   \n",
       "\n",
       "         BERUF_MAPPED  WP  \n",
       "1465  Berufspolitiker  12  \n",
       "1465  Berufspolitiker  13  \n",
       "1465  Berufspolitiker  14  \n",
       "1465  Berufspolitiker  15  \n",
       "1465  Berufspolitiker  16  "
      ]
     },
     "execution_count": 94,
     "metadata": {},
     "output_type": "execute_result"
    }
   ],
   "source": [
    "df_mdb_wp[df_mdb_wp.NACHNAME == 'Merkel'].head()"
   ]
  },
  {
   "cell_type": "markdown",
   "id": "9235e24c-7820-4d2c-95d9-cb111974cffc",
   "metadata": {},
   "source": [
    "# save as csv"
   ]
  },
  {
   "cell_type": "code",
   "execution_count": 95,
   "id": "b391fce5-2b33-4bdf-8f88-edb6aa19f532",
   "metadata": {},
   "outputs": [],
   "source": [
    "df_mdb.to_csv(DF_MDB_PATH, index=None)\n",
    "df_mdb_wp.to_csv(DF_MDB_WP_PATH, index=None)"
   ]
  },
  {
   "cell_type": "markdown",
   "id": "439eead9-6883-4edb-b1f4-f53c9a156f13",
   "metadata": {},
   "source": [
    "# read in data. exploratory data analysis"
   ]
  },
  {
   "cell_type": "code",
   "execution_count": 99,
   "id": "5d51940f-459e-4b79-8e25-c07ee7c7b58d",
   "metadata": {},
   "outputs": [],
   "source": [
    "df_mdb = pd.read_csv(DF_MDB_PATH, index_col=None)\n",
    "df_mdb_wp = pd.read_csv(DF_MDB_WP_PATH, index_col=None)"
   ]
  },
  {
   "cell_type": "code",
   "execution_count": 100,
   "id": "46c8cb00-8f21-4ea9-9a75-1bada0985a70",
   "metadata": {},
   "outputs": [
    {
     "data": {
      "text/plain": [
       "Index(['ID', 'NACHNAME', 'VORNAME', 'GEBURTSDATUM', 'GEBURTSORT',\n",
       "       'GEBURTSLAND', 'STERBEDATUM', 'GESCHLECHT', 'FAMILIENSTAND', 'RELIGION',\n",
       "       'BERUF', 'PARTEI_KURZ', 'VITA_KURZ', 'VEROEFFENTLICHUNGSPFLICHTIGES',\n",
       "       'ANZ_WAHLPERIODEN', '5', '6', '7', '8', '9', '10', '11', '3', '4', '2',\n",
       "       '12', '13', '14', '15', '16', '1', '17', '18', '19', 'BERUF_MAPPED'],\n",
       "      dtype='object')"
      ]
     },
     "execution_count": 100,
     "metadata": {},
     "output_type": "execute_result"
    }
   ],
   "source": [
    "df_mdb.columns"
   ]
  },
  {
   "cell_type": "code",
   "execution_count": 101,
   "id": "f911c372-4cfa-4cb4-b796-9d9e0ba3e447",
   "metadata": {},
   "outputs": [
    {
     "data": {
      "text/html": [
       "<div>\n",
       "<style scoped>\n",
       "    .dataframe tbody tr th:only-of-type {\n",
       "        vertical-align: middle;\n",
       "    }\n",
       "\n",
       "    .dataframe tbody tr th {\n",
       "        vertical-align: top;\n",
       "    }\n",
       "\n",
       "    .dataframe thead th {\n",
       "        text-align: right;\n",
       "    }\n",
       "</style>\n",
       "<table border=\"1\" class=\"dataframe\">\n",
       "  <thead>\n",
       "    <tr style=\"text-align: right;\">\n",
       "      <th></th>\n",
       "      <th>ID</th>\n",
       "      <th>NACHNAME</th>\n",
       "      <th>VORNAME</th>\n",
       "      <th>GEBURTSDATUM</th>\n",
       "      <th>GEBURTSORT</th>\n",
       "      <th>GEBURTSLAND</th>\n",
       "      <th>STERBEDATUM</th>\n",
       "      <th>GESCHLECHT</th>\n",
       "      <th>FAMILIENSTAND</th>\n",
       "      <th>RELIGION</th>\n",
       "      <th>...</th>\n",
       "      <th>12</th>\n",
       "      <th>13</th>\n",
       "      <th>14</th>\n",
       "      <th>15</th>\n",
       "      <th>16</th>\n",
       "      <th>1</th>\n",
       "      <th>17</th>\n",
       "      <th>18</th>\n",
       "      <th>19</th>\n",
       "      <th>BERUF_MAPPED</th>\n",
       "    </tr>\n",
       "  </thead>\n",
       "  <tbody>\n",
       "    <tr>\n",
       "      <th>4084</th>\n",
       "      <td>11004958</td>\n",
       "      <td>Nölke</td>\n",
       "      <td>Matthias</td>\n",
       "      <td>08.01.1980</td>\n",
       "      <td>Kassel</td>\n",
       "      <td>UNBEKANNT</td>\n",
       "      <td>UNBEKANNT</td>\n",
       "      <td>männlich</td>\n",
       "      <td>ledig</td>\n",
       "      <td>konfessionslos</td>\n",
       "      <td>...</td>\n",
       "      <td>NaN</td>\n",
       "      <td>NaN</td>\n",
       "      <td>NaN</td>\n",
       "      <td>NaN</td>\n",
       "      <td>NaN</td>\n",
       "      <td>NaN</td>\n",
       "      <td>NaN</td>\n",
       "      <td>NaN</td>\n",
       "      <td>1.0</td>\n",
       "      <td>Jurist*in</td>\n",
       "    </tr>\n",
       "    <tr>\n",
       "      <th>4085</th>\n",
       "      <td>11004959</td>\n",
       "      <td>Martin</td>\n",
       "      <td>Dorothee</td>\n",
       "      <td>21.01.1978</td>\n",
       "      <td>UNBEKANNT</td>\n",
       "      <td>UNBEKANNT</td>\n",
       "      <td>UNBEKANNT</td>\n",
       "      <td>weiblich</td>\n",
       "      <td>UNBEKANNT</td>\n",
       "      <td>UNBEKANNT</td>\n",
       "      <td>...</td>\n",
       "      <td>NaN</td>\n",
       "      <td>NaN</td>\n",
       "      <td>NaN</td>\n",
       "      <td>NaN</td>\n",
       "      <td>NaN</td>\n",
       "      <td>NaN</td>\n",
       "      <td>NaN</td>\n",
       "      <td>NaN</td>\n",
       "      <td>1.0</td>\n",
       "      <td>Selbstständige Kommunikationsberaterin</td>\n",
       "    </tr>\n",
       "    <tr>\n",
       "      <th>4086</th>\n",
       "      <td>11004960</td>\n",
       "      <td>Wetzel</td>\n",
       "      <td>Wolfgang</td>\n",
       "      <td>11.05.1968</td>\n",
       "      <td>Schlema</td>\n",
       "      <td>UNBEKANNT</td>\n",
       "      <td>UNBEKANNT</td>\n",
       "      <td>männlich</td>\n",
       "      <td>verheiratet, 2 Kinder</td>\n",
       "      <td>katholisch</td>\n",
       "      <td>...</td>\n",
       "      <td>NaN</td>\n",
       "      <td>NaN</td>\n",
       "      <td>NaN</td>\n",
       "      <td>NaN</td>\n",
       "      <td>NaN</td>\n",
       "      <td>NaN</td>\n",
       "      <td>NaN</td>\n",
       "      <td>NaN</td>\n",
       "      <td>1.0</td>\n",
       "      <td>Lehrer*in / Rektor*in [a. D.]</td>\n",
       "    </tr>\n",
       "    <tr>\n",
       "      <th>4087</th>\n",
       "      <td>11004961</td>\n",
       "      <td>Natterer</td>\n",
       "      <td>Christian</td>\n",
       "      <td>19.02.1981</td>\n",
       "      <td>Tettnang / Deutschland</td>\n",
       "      <td>UNBEKANNT</td>\n",
       "      <td>UNBEKANNT</td>\n",
       "      <td>männlich</td>\n",
       "      <td>verheiratet, 1 Kind</td>\n",
       "      <td>katholisch</td>\n",
       "      <td>...</td>\n",
       "      <td>NaN</td>\n",
       "      <td>NaN</td>\n",
       "      <td>NaN</td>\n",
       "      <td>NaN</td>\n",
       "      <td>NaN</td>\n",
       "      <td>NaN</td>\n",
       "      <td>NaN</td>\n",
       "      <td>NaN</td>\n",
       "      <td>1.0</td>\n",
       "      <td>Kaufmann/-frau</td>\n",
       "    </tr>\n",
       "    <tr>\n",
       "      <th>4088</th>\n",
       "      <td>11004962</td>\n",
       "      <td>Dahmen</td>\n",
       "      <td>Janosch</td>\n",
       "      <td>06.09.1981</td>\n",
       "      <td>UNBEKANNT</td>\n",
       "      <td>UNBEKANNT</td>\n",
       "      <td>UNBEKANNT</td>\n",
       "      <td>männlich</td>\n",
       "      <td>UNBEKANNT</td>\n",
       "      <td>UNBEKANNT</td>\n",
       "      <td>...</td>\n",
       "      <td>NaN</td>\n",
       "      <td>NaN</td>\n",
       "      <td>NaN</td>\n",
       "      <td>NaN</td>\n",
       "      <td>NaN</td>\n",
       "      <td>NaN</td>\n",
       "      <td>NaN</td>\n",
       "      <td>NaN</td>\n",
       "      <td>1.0</td>\n",
       "      <td>Mediziner/ Ärztin</td>\n",
       "    </tr>\n",
       "  </tbody>\n",
       "</table>\n",
       "<p>5 rows × 35 columns</p>\n",
       "</div>"
      ],
      "text/plain": [
       "            ID  NACHNAME    VORNAME GEBURTSDATUM              GEBURTSORT  \\\n",
       "4084  11004958     Nölke   Matthias   08.01.1980                  Kassel   \n",
       "4085  11004959    Martin   Dorothee   21.01.1978               UNBEKANNT   \n",
       "4086  11004960    Wetzel   Wolfgang   11.05.1968                 Schlema   \n",
       "4087  11004961  Natterer  Christian   19.02.1981  Tettnang / Deutschland   \n",
       "4088  11004962    Dahmen    Janosch   06.09.1981               UNBEKANNT   \n",
       "\n",
       "     GEBURTSLAND STERBEDATUM GESCHLECHT          FAMILIENSTAND  \\\n",
       "4084   UNBEKANNT   UNBEKANNT   männlich                  ledig   \n",
       "4085   UNBEKANNT   UNBEKANNT   weiblich              UNBEKANNT   \n",
       "4086   UNBEKANNT   UNBEKANNT   männlich  verheiratet, 2 Kinder   \n",
       "4087   UNBEKANNT   UNBEKANNT   männlich    verheiratet, 1 Kind   \n",
       "4088   UNBEKANNT   UNBEKANNT   männlich              UNBEKANNT   \n",
       "\n",
       "            RELIGION  ...  12  13  14  15  16   1  17  18   19  \\\n",
       "4084  konfessionslos  ... NaN NaN NaN NaN NaN NaN NaN NaN  1.0   \n",
       "4085       UNBEKANNT  ... NaN NaN NaN NaN NaN NaN NaN NaN  1.0   \n",
       "4086      katholisch  ... NaN NaN NaN NaN NaN NaN NaN NaN  1.0   \n",
       "4087      katholisch  ... NaN NaN NaN NaN NaN NaN NaN NaN  1.0   \n",
       "4088       UNBEKANNT  ... NaN NaN NaN NaN NaN NaN NaN NaN  1.0   \n",
       "\n",
       "                                BERUF_MAPPED  \n",
       "4084                               Jurist*in  \n",
       "4085  Selbstständige Kommunikationsberaterin  \n",
       "4086           Lehrer*in / Rektor*in [a. D.]  \n",
       "4087                          Kaufmann/-frau  \n",
       "4088                       Mediziner/ Ärztin  \n",
       "\n",
       "[5 rows x 35 columns]"
      ]
     },
     "execution_count": 101,
     "metadata": {},
     "output_type": "execute_result"
    }
   ],
   "source": [
    "df_mdb.tail()"
   ]
  },
  {
   "cell_type": "code",
   "execution_count": 102,
   "id": "f4d54d7c-24e6-4968-a67b-ac4ec883cb41",
   "metadata": {},
   "outputs": [
    {
     "data": {
      "text/html": [
       "<div>\n",
       "<style scoped>\n",
       "    .dataframe tbody tr th:only-of-type {\n",
       "        vertical-align: middle;\n",
       "    }\n",
       "\n",
       "    .dataframe tbody tr th {\n",
       "        vertical-align: top;\n",
       "    }\n",
       "\n",
       "    .dataframe thead th {\n",
       "        text-align: right;\n",
       "    }\n",
       "</style>\n",
       "<table border=\"1\" class=\"dataframe\">\n",
       "  <thead>\n",
       "    <tr style=\"text-align: right;\">\n",
       "      <th></th>\n",
       "      <th>ID</th>\n",
       "    </tr>\n",
       "    <tr>\n",
       "      <th>WP</th>\n",
       "      <th></th>\n",
       "    </tr>\n",
       "  </thead>\n",
       "  <tbody>\n",
       "    <tr>\n",
       "      <th>19</th>\n",
       "      <td>738</td>\n",
       "    </tr>\n",
       "    <tr>\n",
       "      <th>18</th>\n",
       "      <td>658</td>\n",
       "    </tr>\n",
       "    <tr>\n",
       "      <th>17</th>\n",
       "      <td>652</td>\n",
       "    </tr>\n",
       "    <tr>\n",
       "      <th>16</th>\n",
       "      <td>642</td>\n",
       "    </tr>\n",
       "    <tr>\n",
       "      <th>15</th>\n",
       "      <td>628</td>\n",
       "    </tr>\n",
       "  </tbody>\n",
       "</table>\n",
       "</div>"
      ],
      "text/plain": [
       "     ID\n",
       "WP     \n",
       "19  738\n",
       "18  658\n",
       "17  652\n",
       "16  642\n",
       "15  628"
      ]
     },
     "execution_count": 102,
     "metadata": {},
     "output_type": "execute_result"
    }
   ],
   "source": [
    "df_mdb_wp[['ID', 'WP']].groupby('WP').count().sort_values(by='WP', ascending=False).head()"
   ]
  },
  {
   "cell_type": "code",
   "execution_count": 103,
   "id": "871e5dde-460b-4aed-a3c7-0ed7e61e45c7",
   "metadata": {},
   "outputs": [
    {
     "data": {
      "text/html": [
       "<div>\n",
       "<style scoped>\n",
       "    .dataframe tbody tr th:only-of-type {\n",
       "        vertical-align: middle;\n",
       "    }\n",
       "\n",
       "    .dataframe tbody tr th {\n",
       "        vertical-align: top;\n",
       "    }\n",
       "\n",
       "    .dataframe thead th {\n",
       "        text-align: right;\n",
       "    }\n",
       "</style>\n",
       "<table border=\"1\" class=\"dataframe\">\n",
       "  <thead>\n",
       "    <tr style=\"text-align: right;\">\n",
       "      <th></th>\n",
       "      <th>ID</th>\n",
       "    </tr>\n",
       "    <tr>\n",
       "      <th>PARTEI_KURZ</th>\n",
       "      <th></th>\n",
       "    </tr>\n",
       "  </thead>\n",
       "  <tbody>\n",
       "    <tr>\n",
       "      <th>SPD</th>\n",
       "      <td>4250</td>\n",
       "    </tr>\n",
       "    <tr>\n",
       "      <th>CDU</th>\n",
       "      <td>4150</td>\n",
       "    </tr>\n",
       "    <tr>\n",
       "      <th>FDP</th>\n",
       "      <td>1036</td>\n",
       "    </tr>\n",
       "    <tr>\n",
       "      <th>CSU</th>\n",
       "      <td>993</td>\n",
       "    </tr>\n",
       "    <tr>\n",
       "      <th>DIE GRÜNEN</th>\n",
       "      <td>536</td>\n",
       "    </tr>\n",
       "    <tr>\n",
       "      <th>DIE LINKE.</th>\n",
       "      <td>297</td>\n",
       "    </tr>\n",
       "    <tr>\n",
       "      <th>AfD</th>\n",
       "      <td>90</td>\n",
       "    </tr>\n",
       "    <tr>\n",
       "      <th>PDS</th>\n",
       "      <td>77</td>\n",
       "    </tr>\n",
       "    <tr>\n",
       "      <th>Plos</th>\n",
       "      <td>41</td>\n",
       "    </tr>\n",
       "    <tr>\n",
       "      <th>DP</th>\n",
       "      <td>37</td>\n",
       "    </tr>\n",
       "  </tbody>\n",
       "</table>\n",
       "</div>"
      ],
      "text/plain": [
       "               ID\n",
       "PARTEI_KURZ      \n",
       "SPD          4250\n",
       "CDU          4150\n",
       "FDP          1036\n",
       "CSU           993\n",
       "DIE GRÜNEN    536\n",
       "DIE LINKE.    297\n",
       "AfD            90\n",
       "PDS            77\n",
       "Plos           41\n",
       "DP             37"
      ]
     },
     "execution_count": 103,
     "metadata": {},
     "output_type": "execute_result"
    }
   ],
   "source": [
    "df_mdb_wp[['ID', 'PARTEI_KURZ']].groupby('PARTEI_KURZ').count().sort_values(by='ID', ascending=False).head(10)"
   ]
  },
  {
   "cell_type": "code",
   "execution_count": null,
   "id": "7f03297e-9b16-4427-ad56-8bd37ca4cc08",
   "metadata": {},
   "outputs": [],
   "source": []
  },
  {
   "cell_type": "code",
   "execution_count": 104,
   "id": "7e008294-2e91-4438-a755-60e5f0cafdfa",
   "metadata": {},
   "outputs": [
    {
     "data": {
      "text/html": [
       "<div>\n",
       "<style scoped>\n",
       "    .dataframe tbody tr th:only-of-type {\n",
       "        vertical-align: middle;\n",
       "    }\n",
       "\n",
       "    .dataframe tbody tr th {\n",
       "        vertical-align: top;\n",
       "    }\n",
       "\n",
       "    .dataframe thead th {\n",
       "        text-align: right;\n",
       "    }\n",
       "</style>\n",
       "<table border=\"1\" class=\"dataframe\">\n",
       "  <thead>\n",
       "    <tr style=\"text-align: right;\">\n",
       "      <th></th>\n",
       "      <th>ID</th>\n",
       "    </tr>\n",
       "    <tr>\n",
       "      <th>GESCHLECHT</th>\n",
       "      <th></th>\n",
       "    </tr>\n",
       "  </thead>\n",
       "  <tbody>\n",
       "    <tr>\n",
       "      <th>männlich</th>\n",
       "      <td>9382</td>\n",
       "    </tr>\n",
       "    <tr>\n",
       "      <th>weiblich</th>\n",
       "      <td>2245</td>\n",
       "    </tr>\n",
       "  </tbody>\n",
       "</table>\n",
       "</div>"
      ],
      "text/plain": [
       "              ID\n",
       "GESCHLECHT      \n",
       "männlich    9382\n",
       "weiblich    2245"
      ]
     },
     "execution_count": 104,
     "metadata": {},
     "output_type": "execute_result"
    }
   ],
   "source": [
    "# wie - nur 2 Geschlechter? for the records: heute ist der 02.05.2021\n",
    "df_mdb_wp[['ID', 'GESCHLECHT']].groupby('GESCHLECHT').count().sort_values(by='ID', ascending=False).head()"
   ]
  },
  {
   "cell_type": "code",
   "execution_count": 105,
   "id": "11f946bf-fddb-4ea0-a7f3-3bd73ca0de43",
   "metadata": {},
   "outputs": [
    {
     "data": {
      "text/html": [
       "<div>\n",
       "<style scoped>\n",
       "    .dataframe tbody tr th:only-of-type {\n",
       "        vertical-align: middle;\n",
       "    }\n",
       "\n",
       "    .dataframe tbody tr th {\n",
       "        vertical-align: top;\n",
       "    }\n",
       "\n",
       "    .dataframe thead th {\n",
       "        text-align: right;\n",
       "    }\n",
       "</style>\n",
       "<table border=\"1\" class=\"dataframe\">\n",
       "  <thead>\n",
       "    <tr style=\"text-align: right;\">\n",
       "      <th></th>\n",
       "      <th>ID</th>\n",
       "    </tr>\n",
       "    <tr>\n",
       "      <th>RELIGION</th>\n",
       "      <th></th>\n",
       "    </tr>\n",
       "  </thead>\n",
       "  <tbody>\n",
       "    <tr>\n",
       "      <th>katholisch</th>\n",
       "      <td>3817</td>\n",
       "    </tr>\n",
       "    <tr>\n",
       "      <th>evangelisch</th>\n",
       "      <td>3815</td>\n",
       "    </tr>\n",
       "    <tr>\n",
       "      <th>ohne Angaben</th>\n",
       "      <td>3275</td>\n",
       "    </tr>\n",
       "    <tr>\n",
       "      <th>UNBEKANNT</th>\n",
       "      <td>428</td>\n",
       "    </tr>\n",
       "    <tr>\n",
       "      <th>konfessionslos</th>\n",
       "      <td>234</td>\n",
       "    </tr>\n",
       "    <tr>\n",
       "      <th>Atheistin</th>\n",
       "      <td>12</td>\n",
       "    </tr>\n",
       "    <tr>\n",
       "      <th>Islam</th>\n",
       "      <td>9</td>\n",
       "    </tr>\n",
       "    <tr>\n",
       "      <th>religionslos</th>\n",
       "      <td>9</td>\n",
       "    </tr>\n",
       "    <tr>\n",
       "      <th>freireligiös</th>\n",
       "      <td>8</td>\n",
       "    </tr>\n",
       "    <tr>\n",
       "      <th>muslimisch</th>\n",
       "      <td>7</td>\n",
       "    </tr>\n",
       "    <tr>\n",
       "      <th>Atheist</th>\n",
       "      <td>6</td>\n",
       "    </tr>\n",
       "    <tr>\n",
       "      <th>humanistisch</th>\n",
       "      <td>1</td>\n",
       "    </tr>\n",
       "    <tr>\n",
       "      <th>neuapostolisch</th>\n",
       "      <td>1</td>\n",
       "    </tr>\n",
       "    <tr>\n",
       "      <th>griechisch-orthodox</th>\n",
       "      <td>1</td>\n",
       "    </tr>\n",
       "    <tr>\n",
       "      <th>orthodox</th>\n",
       "      <td>1</td>\n",
       "    </tr>\n",
       "    <tr>\n",
       "      <th>protestantisch</th>\n",
       "      <td>1</td>\n",
       "    </tr>\n",
       "  </tbody>\n",
       "</table>\n",
       "</div>"
      ],
      "text/plain": [
       "                       ID\n",
       "RELIGION                 \n",
       "katholisch           3817\n",
       "evangelisch          3815\n",
       "ohne Angaben         3275\n",
       "UNBEKANNT             428\n",
       "konfessionslos        234\n",
       "Atheistin              12\n",
       "Islam                   9\n",
       "religionslos            9\n",
       "freireligiös            8\n",
       "muslimisch              7\n",
       "Atheist                 6\n",
       "humanistisch            1\n",
       "neuapostolisch          1\n",
       "griechisch-orthodox     1\n",
       "orthodox                1\n",
       "protestantisch          1"
      ]
     },
     "execution_count": 105,
     "metadata": {},
     "output_type": "execute_result"
    }
   ],
   "source": [
    "# auch hier: such diversity. wow\n",
    "df_mdb_wp[['ID', 'RELIGION']].groupby('RELIGION').count().sort_values(by='ID', ascending=False).head(n=16)"
   ]
  },
  {
   "cell_type": "code",
   "execution_count": 106,
   "id": "dcdec27b-8443-497a-a739-8d4035969727",
   "metadata": {},
   "outputs": [
    {
     "data": {
      "text/html": [
       "<div>\n",
       "<style scoped>\n",
       "    .dataframe tbody tr th:only-of-type {\n",
       "        vertical-align: middle;\n",
       "    }\n",
       "\n",
       "    .dataframe tbody tr th {\n",
       "        vertical-align: top;\n",
       "    }\n",
       "\n",
       "    .dataframe thead th {\n",
       "        text-align: right;\n",
       "    }\n",
       "</style>\n",
       "<table border=\"1\" class=\"dataframe\">\n",
       "  <thead>\n",
       "    <tr style=\"text-align: right;\">\n",
       "      <th></th>\n",
       "      <th>ID</th>\n",
       "    </tr>\n",
       "    <tr>\n",
       "      <th>BERUF</th>\n",
       "      <th></th>\n",
       "    </tr>\n",
       "  </thead>\n",
       "  <tbody>\n",
       "    <tr>\n",
       "      <th>Rechtsanwalt</th>\n",
       "      <td>567</td>\n",
       "    </tr>\n",
       "    <tr>\n",
       "      <th>Geschäftsführer</th>\n",
       "      <td>223</td>\n",
       "    </tr>\n",
       "    <tr>\n",
       "      <th>Landwirt</th>\n",
       "      <td>212</td>\n",
       "    </tr>\n",
       "    <tr>\n",
       "      <th>Angestellter</th>\n",
       "      <td>190</td>\n",
       "    </tr>\n",
       "    <tr>\n",
       "      <th>Rechtsanwalt und Notar</th>\n",
       "      <td>126</td>\n",
       "    </tr>\n",
       "    <tr>\n",
       "      <th>Journalist</th>\n",
       "      <td>117</td>\n",
       "    </tr>\n",
       "    <tr>\n",
       "      <th>Dipl.-Ingenieur</th>\n",
       "      <td>109</td>\n",
       "    </tr>\n",
       "    <tr>\n",
       "      <th>Kaufmann</th>\n",
       "      <td>104</td>\n",
       "    </tr>\n",
       "    <tr>\n",
       "      <th>Jurist</th>\n",
       "      <td>102</td>\n",
       "    </tr>\n",
       "    <tr>\n",
       "      <th>Dipl.-Volkswirt</th>\n",
       "      <td>101</td>\n",
       "    </tr>\n",
       "    <tr>\n",
       "      <th>Hausfrau</th>\n",
       "      <td>100</td>\n",
       "    </tr>\n",
       "    <tr>\n",
       "      <th>Bundesminister a. D.</th>\n",
       "      <td>95</td>\n",
       "    </tr>\n",
       "    <tr>\n",
       "      <th>Gewerkschaftssekretär</th>\n",
       "      <td>94</td>\n",
       "    </tr>\n",
       "    <tr>\n",
       "      <th>Redakteur</th>\n",
       "      <td>76</td>\n",
       "    </tr>\n",
       "    <tr>\n",
       "      <th>Oberstudienrat a. D.</th>\n",
       "      <td>56</td>\n",
       "    </tr>\n",
       "    <tr>\n",
       "      <th>Bürgermeister a. D.</th>\n",
       "      <td>55</td>\n",
       "    </tr>\n",
       "  </tbody>\n",
       "</table>\n",
       "</div>"
      ],
      "text/plain": [
       "                         ID\n",
       "BERUF                      \n",
       "Rechtsanwalt            567\n",
       "Geschäftsführer         223\n",
       "Landwirt                212\n",
       "Angestellter            190\n",
       "Rechtsanwalt und Notar  126\n",
       "Journalist              117\n",
       "Dipl.-Ingenieur         109\n",
       "Kaufmann                104\n",
       "Jurist                  102\n",
       "Dipl.-Volkswirt         101\n",
       "Hausfrau                100\n",
       "Bundesminister a. D.     95\n",
       "Gewerkschaftssekretär    94\n",
       "Redakteur                76\n",
       "Oberstudienrat a. D.     56\n",
       "Bürgermeister a. D.      55"
      ]
     },
     "execution_count": 106,
     "metadata": {},
     "output_type": "execute_result"
    }
   ],
   "source": [
    "# jetzt wirds richtig vielseitig. so viele Busfahrer und Krankenschwestern!\n",
    "df_mdb_wp[['ID', 'BERUF']].groupby('BERUF').count().sort_values(by='ID', ascending=False).head(16).head(16)"
   ]
  },
  {
   "cell_type": "code",
   "execution_count": 107,
   "id": "252f1c88-3e0f-4e86-864d-65cb4b2992b5",
   "metadata": {},
   "outputs": [
    {
     "data": {
      "text/html": [
       "<div>\n",
       "<style scoped>\n",
       "    .dataframe tbody tr th:only-of-type {\n",
       "        vertical-align: middle;\n",
       "    }\n",
       "\n",
       "    .dataframe tbody tr th {\n",
       "        vertical-align: top;\n",
       "    }\n",
       "\n",
       "    .dataframe thead th {\n",
       "        text-align: right;\n",
       "    }\n",
       "</style>\n",
       "<table border=\"1\" class=\"dataframe\">\n",
       "  <thead>\n",
       "    <tr style=\"text-align: right;\">\n",
       "      <th></th>\n",
       "      <th>ID</th>\n",
       "    </tr>\n",
       "    <tr>\n",
       "      <th>BERUF_MAPPED</th>\n",
       "      <th></th>\n",
       "    </tr>\n",
       "  </thead>\n",
       "  <tbody>\n",
       "    <tr>\n",
       "      <th>Jurist*in</th>\n",
       "      <td>1678</td>\n",
       "    </tr>\n",
       "    <tr>\n",
       "      <th>Lehrer*in / Rektor*in [a. D.]</th>\n",
       "      <td>1234</td>\n",
       "    </tr>\n",
       "    <tr>\n",
       "      <th>Berufspolitiker</th>\n",
       "      <td>1187</td>\n",
       "    </tr>\n",
       "    <tr>\n",
       "      <th>Kaufmann/-frau</th>\n",
       "      <td>682</td>\n",
       "    </tr>\n",
       "    <tr>\n",
       "      <th>Land-/Forstwirt*in</th>\n",
       "      <td>593</td>\n",
       "    </tr>\n",
       "    <tr>\n",
       "      <th>Ingenieur*in</th>\n",
       "      <td>511</td>\n",
       "    </tr>\n",
       "    <tr>\n",
       "      <th>Geschäftsführer*in/Unternehmer*in</th>\n",
       "      <td>447</td>\n",
       "    </tr>\n",
       "    <tr>\n",
       "      <th>Angestellt[e] / Beamter*in</th>\n",
       "      <td>386</td>\n",
       "    </tr>\n",
       "    <tr>\n",
       "      <th>Betriebswirt*in / Verwaltungsangestellte*r</th>\n",
       "      <td>334</td>\n",
       "    </tr>\n",
       "    <tr>\n",
       "      <th>Handwerker*in</th>\n",
       "      <td>327</td>\n",
       "    </tr>\n",
       "    <tr>\n",
       "      <th>Volkswirtin*in</th>\n",
       "      <td>320</td>\n",
       "    </tr>\n",
       "    <tr>\n",
       "      <th>Geisteswissenschaftler*in</th>\n",
       "      <td>270</td>\n",
       "    </tr>\n",
       "    <tr>\n",
       "      <th>Professor*in</th>\n",
       "      <td>253</td>\n",
       "    </tr>\n",
       "    <tr>\n",
       "      <th>Naturwissenschaftler*in</th>\n",
       "      <td>226</td>\n",
       "    </tr>\n",
       "    <tr>\n",
       "      <th>Mediziner/ Ärztin</th>\n",
       "      <td>158</td>\n",
       "    </tr>\n",
       "    <tr>\n",
       "      <th>Gewerkschaftssekretär*in</th>\n",
       "      <td>149</td>\n",
       "    </tr>\n",
       "  </tbody>\n",
       "</table>\n",
       "</div>"
      ],
      "text/plain": [
       "                                              ID\n",
       "BERUF_MAPPED                                    \n",
       "Jurist*in                                   1678\n",
       "Lehrer*in / Rektor*in [a. D.]               1234\n",
       "Berufspolitiker                             1187\n",
       "Kaufmann/-frau                               682\n",
       "Land-/Forstwirt*in                           593\n",
       "Ingenieur*in                                 511\n",
       "Geschäftsführer*in/Unternehmer*in            447\n",
       "Angestellt[e] / Beamter*in                   386\n",
       "Betriebswirt*in / Verwaltungsangestellte*r   334\n",
       "Handwerker*in                                327\n",
       "Volkswirtin*in                               320\n",
       "Geisteswissenschaftler*in                    270\n",
       "Professor*in                                 253\n",
       "Naturwissenschaftler*in                      226\n",
       "Mediziner/ Ärztin                            158\n",
       "Gewerkschaftssekretär*in                     149"
      ]
     },
     "execution_count": 107,
     "metadata": {},
     "output_type": "execute_result"
    }
   ],
   "source": [
    "# jetzt wirds richtig vielseitig. so viele Busfahrer und Krankenschwestern!\n",
    "df_mdb_wp[['ID', 'BERUF_MAPPED']].groupby('BERUF_MAPPED').count().sort_values(by='ID', ascending=False).head(16).head(16)"
   ]
  },
  {
   "cell_type": "code",
   "execution_count": 108,
   "id": "96e26cb7-192d-4013-9317-f360b8b0f6ce",
   "metadata": {},
   "outputs": [
    {
     "data": {
      "text/html": [
       "<div>\n",
       "<style scoped>\n",
       "    .dataframe tbody tr th:only-of-type {\n",
       "        vertical-align: middle;\n",
       "    }\n",
       "\n",
       "    .dataframe tbody tr th {\n",
       "        vertical-align: top;\n",
       "    }\n",
       "\n",
       "    .dataframe thead th {\n",
       "        text-align: right;\n",
       "    }\n",
       "</style>\n",
       "<table border=\"1\" class=\"dataframe\">\n",
       "  <thead>\n",
       "    <tr style=\"text-align: right;\">\n",
       "      <th></th>\n",
       "      <th>ID</th>\n",
       "    </tr>\n",
       "    <tr>\n",
       "      <th>FAMILIENSTAND</th>\n",
       "      <th></th>\n",
       "    </tr>\n",
       "  </thead>\n",
       "  <tbody>\n",
       "    <tr>\n",
       "      <th>verheiratet, 2 Kinder</th>\n",
       "      <td>2726</td>\n",
       "    </tr>\n",
       "    <tr>\n",
       "      <th>verheiratet, 3 Kinder</th>\n",
       "      <td>1816</td>\n",
       "    </tr>\n",
       "    <tr>\n",
       "      <th>verheiratet</th>\n",
       "      <td>1720</td>\n",
       "    </tr>\n",
       "    <tr>\n",
       "      <th>verheiratet, 1 Kind</th>\n",
       "      <td>1365</td>\n",
       "    </tr>\n",
       "    <tr>\n",
       "      <th>keine Angaben</th>\n",
       "      <td>1043</td>\n",
       "    </tr>\n",
       "    <tr>\n",
       "      <th>verheiratet, 4 Kinder</th>\n",
       "      <td>891</td>\n",
       "    </tr>\n",
       "    <tr>\n",
       "      <th>ledig</th>\n",
       "      <td>424</td>\n",
       "    </tr>\n",
       "    <tr>\n",
       "      <th>verheiratet, 5 Kinder</th>\n",
       "      <td>329</td>\n",
       "    </tr>\n",
       "    <tr>\n",
       "      <th>verheiratet, 6 Kinder</th>\n",
       "      <td>178</td>\n",
       "    </tr>\n",
       "    <tr>\n",
       "      <th>UNBEKANNT</th>\n",
       "      <td>154</td>\n",
       "    </tr>\n",
       "    <tr>\n",
       "      <th>2 Kinder</th>\n",
       "      <td>113</td>\n",
       "    </tr>\n",
       "    <tr>\n",
       "      <th>verwitwet, 2 Kinder</th>\n",
       "      <td>77</td>\n",
       "    </tr>\n",
       "    <tr>\n",
       "      <th>1 Kind</th>\n",
       "      <td>76</td>\n",
       "    </tr>\n",
       "    <tr>\n",
       "      <th>geschieden, 2 Kinder</th>\n",
       "      <td>71</td>\n",
       "    </tr>\n",
       "    <tr>\n",
       "      <th>geschieden, 1 Kind</th>\n",
       "      <td>69</td>\n",
       "    </tr>\n",
       "    <tr>\n",
       "      <th>verwitwet</th>\n",
       "      <td>63</td>\n",
       "    </tr>\n",
       "  </tbody>\n",
       "</table>\n",
       "</div>"
      ],
      "text/plain": [
       "                         ID\n",
       "FAMILIENSTAND              \n",
       "verheiratet, 2 Kinder  2726\n",
       "verheiratet, 3 Kinder  1816\n",
       "verheiratet            1720\n",
       "verheiratet, 1 Kind    1365\n",
       "keine Angaben          1043\n",
       "verheiratet, 4 Kinder   891\n",
       "ledig                   424\n",
       "verheiratet, 5 Kinder   329\n",
       "verheiratet, 6 Kinder   178\n",
       "UNBEKANNT               154\n",
       "2 Kinder                113\n",
       "verwitwet, 2 Kinder      77\n",
       "1 Kind                   76\n",
       "geschieden, 2 Kinder     71\n",
       "geschieden, 1 Kind       69\n",
       "verwitwet                63"
      ]
     },
     "execution_count": 108,
     "metadata": {},
     "output_type": "execute_result"
    }
   ],
   "source": [
    "# gehen sie weiter. hier gibt es kein Klischee zu erkennen!\n",
    "df_mdb_wp[['ID', 'FAMILIENSTAND']].groupby('FAMILIENSTAND').count().sort_values(by='ID', ascending=False).head(16)"
   ]
  },
  {
   "cell_type": "code",
   "execution_count": 109,
   "id": "215e8a01-b2f7-42ea-a115-233db2d60133",
   "metadata": {},
   "outputs": [
    {
     "data": {
      "text/html": [
       "<div>\n",
       "<style scoped>\n",
       "    .dataframe tbody tr th:only-of-type {\n",
       "        vertical-align: middle;\n",
       "    }\n",
       "\n",
       "    .dataframe tbody tr th {\n",
       "        vertical-align: top;\n",
       "    }\n",
       "\n",
       "    .dataframe thead th {\n",
       "        text-align: right;\n",
       "    }\n",
       "</style>\n",
       "<table border=\"1\" class=\"dataframe\">\n",
       "  <thead>\n",
       "    <tr style=\"text-align: right;\">\n",
       "      <th></th>\n",
       "      <th>ID</th>\n",
       "      <th>NACHNAME</th>\n",
       "      <th>VORNAME</th>\n",
       "      <th>GEBURTSDATUM</th>\n",
       "      <th>GEBURTSORT</th>\n",
       "      <th>GEBURTSLAND</th>\n",
       "      <th>STERBEDATUM</th>\n",
       "      <th>GESCHLECHT</th>\n",
       "      <th>FAMILIENSTAND</th>\n",
       "      <th>RELIGION</th>\n",
       "      <th>BERUF</th>\n",
       "      <th>PARTEI_KURZ</th>\n",
       "      <th>VITA_KURZ</th>\n",
       "      <th>VEROEFFENTLICHUNGSPFLICHTIGES</th>\n",
       "      <th>ANZ_WAHLPERIODEN</th>\n",
       "      <th>BERUF_MAPPED</th>\n",
       "      <th>WP</th>\n",
       "    </tr>\n",
       "  </thead>\n",
       "  <tbody>\n",
       "    <tr>\n",
       "      <th>11306</th>\n",
       "      <td>11004450</td>\n",
       "      <td>Zech</td>\n",
       "      <td>Tobias</td>\n",
       "      <td>09.07.1981</td>\n",
       "      <td>Trostberg</td>\n",
       "      <td>UNBEKANNT</td>\n",
       "      <td>UNBEKANNT</td>\n",
       "      <td>männlich</td>\n",
       "      <td>verheiratet, 2 Kinder</td>\n",
       "      <td>katholisch</td>\n",
       "      <td>Geschäftsführer</td>\n",
       "      <td>CSU</td>\n",
       "      <td>1994/98 Wirtschaftsschule Mühldorf. 1998/2000 ...</td>\n",
       "      <td>1 Berufliche Tätigkeit vor der Mitgliedschaft ...</td>\n",
       "      <td>2</td>\n",
       "      <td>Geschäftsführer*in/Unternehmer*in</td>\n",
       "      <td>18</td>\n",
       "    </tr>\n",
       "    <tr>\n",
       "      <th>10950</th>\n",
       "      <td>11004229</td>\n",
       "      <td>Reinhold</td>\n",
       "      <td>Hagen</td>\n",
       "      <td>23.03.1978</td>\n",
       "      <td>Wismar</td>\n",
       "      <td>UNBEKANNT</td>\n",
       "      <td>UNBEKANNT</td>\n",
       "      <td>männlich</td>\n",
       "      <td>3 Kinder</td>\n",
       "      <td>konfessionslos</td>\n",
       "      <td>Meister im Maurer- und Betonbauerhandwerk</td>\n",
       "      <td>FDP</td>\n",
       "      <td>1994/97 Ausbildung zum Maurer und Betonbauer, ...</td>\n",
       "      <td>1 Berufliche Tätigkeit vor der Mitgliedschaft ...</td>\n",
       "      <td>2</td>\n",
       "      <td>Meister im Maurer-</td>\n",
       "      <td>17</td>\n",
       "    </tr>\n",
       "    <tr>\n",
       "      <th>10491</th>\n",
       "      <td>11004004</td>\n",
       "      <td>Aumer</td>\n",
       "      <td>Peter</td>\n",
       "      <td>17.04.1976</td>\n",
       "      <td>Regensburg</td>\n",
       "      <td>UNBEKANNT</td>\n",
       "      <td>UNBEKANNT</td>\n",
       "      <td>männlich</td>\n",
       "      <td>ledig</td>\n",
       "      <td>katholisch</td>\n",
       "      <td>Dipl.-Betriebswirt (FH)</td>\n",
       "      <td>CSU</td>\n",
       "      <td>Berufsausbildung zum Steuerfachgehilfen. Studi...</td>\n",
       "      <td>1 Berufliche Tätigkeit vor der Mitgliedschaft ...</td>\n",
       "      <td>2</td>\n",
       "      <td>Betriebswirt*in / Verwaltungsangestellte*r</td>\n",
       "      <td>17</td>\n",
       "    </tr>\n",
       "    <tr>\n",
       "      <th>10886</th>\n",
       "      <td>11004179</td>\n",
       "      <td>Vogel</td>\n",
       "      <td>Johannes</td>\n",
       "      <td>29.04.1982</td>\n",
       "      <td>Wermelskirchen</td>\n",
       "      <td>UNBEKANNT</td>\n",
       "      <td>UNBEKANNT</td>\n",
       "      <td>männlich</td>\n",
       "      <td>verheiratet</td>\n",
       "      <td>evangelisch</td>\n",
       "      <td>Politikwissenschaftler</td>\n",
       "      <td>FDP</td>\n",
       "      <td>2001 Abitur am Städtischen Gymnasium Wermelski...</td>\n",
       "      <td>1 Berufliche Tätigkeit vor der Mitgliedschaft ...</td>\n",
       "      <td>2</td>\n",
       "      <td>Geisteswissenschaftler*in</td>\n",
       "      <td>17</td>\n",
       "    </tr>\n",
       "    <tr>\n",
       "      <th>11171</th>\n",
       "      <td>11004371</td>\n",
       "      <td>Paschke</td>\n",
       "      <td>Markus</td>\n",
       "      <td>08.06.1963</td>\n",
       "      <td>Bremen</td>\n",
       "      <td>UNBEKANNT</td>\n",
       "      <td>UNBEKANNT</td>\n",
       "      <td>männlich</td>\n",
       "      <td>verheiratet</td>\n",
       "      <td>ohne Angaben</td>\n",
       "      <td>Gewerkschaftssekretär</td>\n",
       "      <td>SPD</td>\n",
       "      <td>Gymnasium in Bremen. 1980/83 Ausbildung zum In...</td>\n",
       "      <td>1 Berufliche Tätigkeit vor der Mitgliedschaft ...</td>\n",
       "      <td>2</td>\n",
       "      <td>Gewerkschaftssekretär*in</td>\n",
       "      <td>18</td>\n",
       "    </tr>\n",
       "  </tbody>\n",
       "</table>\n",
       "</div>"
      ],
      "text/plain": [
       "             ID  NACHNAME   VORNAME GEBURTSDATUM      GEBURTSORT GEBURTSLAND  \\\n",
       "11306  11004450      Zech    Tobias   09.07.1981       Trostberg   UNBEKANNT   \n",
       "10950  11004229  Reinhold     Hagen   23.03.1978          Wismar   UNBEKANNT   \n",
       "10491  11004004     Aumer     Peter   17.04.1976      Regensburg   UNBEKANNT   \n",
       "10886  11004179     Vogel  Johannes   29.04.1982  Wermelskirchen   UNBEKANNT   \n",
       "11171  11004371   Paschke    Markus   08.06.1963          Bremen   UNBEKANNT   \n",
       "\n",
       "      STERBEDATUM GESCHLECHT          FAMILIENSTAND        RELIGION  \\\n",
       "11306   UNBEKANNT   männlich  verheiratet, 2 Kinder      katholisch   \n",
       "10950   UNBEKANNT   männlich               3 Kinder  konfessionslos   \n",
       "10491   UNBEKANNT   männlich                  ledig      katholisch   \n",
       "10886   UNBEKANNT   männlich            verheiratet     evangelisch   \n",
       "11171   UNBEKANNT   männlich            verheiratet    ohne Angaben   \n",
       "\n",
       "                                           BERUF PARTEI_KURZ  \\\n",
       "11306                            Geschäftsführer         CSU   \n",
       "10950  Meister im Maurer- und Betonbauerhandwerk         FDP   \n",
       "10491                    Dipl.-Betriebswirt (FH)         CSU   \n",
       "10886                     Politikwissenschaftler         FDP   \n",
       "11171                      Gewerkschaftssekretär         SPD   \n",
       "\n",
       "                                               VITA_KURZ  \\\n",
       "11306  1994/98 Wirtschaftsschule Mühldorf. 1998/2000 ...   \n",
       "10950  1994/97 Ausbildung zum Maurer und Betonbauer, ...   \n",
       "10491  Berufsausbildung zum Steuerfachgehilfen. Studi...   \n",
       "10886  2001 Abitur am Städtischen Gymnasium Wermelski...   \n",
       "11171  Gymnasium in Bremen. 1980/83 Ausbildung zum In...   \n",
       "\n",
       "                           VEROEFFENTLICHUNGSPFLICHTIGES  ANZ_WAHLPERIODEN  \\\n",
       "11306  1 Berufliche Tätigkeit vor der Mitgliedschaft ...                 2   \n",
       "10950  1 Berufliche Tätigkeit vor der Mitgliedschaft ...                 2   \n",
       "10491  1 Berufliche Tätigkeit vor der Mitgliedschaft ...                 2   \n",
       "10886  1 Berufliche Tätigkeit vor der Mitgliedschaft ...                 2   \n",
       "11171  1 Berufliche Tätigkeit vor der Mitgliedschaft ...                 2   \n",
       "\n",
       "                                     BERUF_MAPPED  WP  \n",
       "11306           Geschäftsführer*in/Unternehmer*in  18  \n",
       "10950                          Meister im Maurer-  17  \n",
       "10491  Betriebswirt*in / Verwaltungsangestellte*r  17  \n",
       "10886                   Geisteswissenschaftler*in  17  \n",
       "11171                    Gewerkschaftssekretär*in  18  "
      ]
     },
     "execution_count": 109,
     "metadata": {},
     "output_type": "execute_result"
    }
   ],
   "source": [
    "# deleteme\n",
    "start_date=16\n",
    "end_date=18\n",
    "#wps = range(start_date, end_date)\n",
    "#selected_df = pd.concat([df_mdb[df_mdb[str(i)] == 1] for i in range(start_date,end_date+1)]).drop_duplicates()# deleteme\n",
    "selected_df = df_mdb_wp[(df_mdb_wp['WP']>= start_date) & (df_mdb_wp['WP']<= end_date)].sort_values(by='VEROEFFENTLICHUNGSPFLICHTIGES')\n",
    "selected_df.head()"
   ]
  },
  {
   "cell_type": "code",
   "execution_count": null,
   "id": "ef9171d6-01f2-4e7f-8cae-634169d2ada4",
   "metadata": {},
   "outputs": [],
   "source": []
  },
  {
   "cell_type": "code",
   "execution_count": 110,
   "id": "27c311f1-72b6-41f5-839f-308379bddc2d",
   "metadata": {},
   "outputs": [],
   "source": [
    "# deleteme BEGIN"
   ]
  },
  {
   "cell_type": "code",
   "execution_count": 111,
   "id": "7f366bcb-e87e-483d-ae8e-97a45921c1a7",
   "metadata": {},
   "outputs": [
    {
     "data": {
      "text/plain": [
       "(11627, 17)"
      ]
     },
     "execution_count": 111,
     "metadata": {},
     "output_type": "execute_result"
    }
   ],
   "source": [
    "df_mdb_wp.shape"
   ]
  },
  {
   "cell_type": "code",
   "execution_count": 112,
   "id": "153cdf35-3293-4e92-a919-3d7001089a78",
   "metadata": {},
   "outputs": [],
   "source": [
    "import logging\n",
    "def replace_sonstige(df_mdb, df_mdb_wp, dimension='PARTEI_KURZ', num_keep = 7):\n",
    "    \"\"\"\n",
    "    keep num_keep most occurences, replace other values by \"sonstige\"\n",
    "    \"\"\"\n",
    "    \n",
    "    # e.g. 'CDU', 'SPD'\n",
    "    values_to_keep = list(df_mdb_wp[['ID', dimension]].groupby(dimension).count().sort_values(by='ID', ascending=False)[:num_keep].index)\n",
    "    values_to_discard = list(df_mdb[['ID', dimension]].groupby(dimension).count().sort_values(by='ID', ascending=False)[num_keep:].index)\n",
    "    \n",
    "    logging.info(f'[{dimension}]. keeping {values_to_keep}. replacing {values_to_discard[:4]} ... with <sonstige>')\n",
    "    df_mdb[dimension].replace(values_to_discard, 'sonstige', inplace=True)\n",
    "    df_mdb_wp[dimension].replace(values_to_discard, 'sonstige', inplace=True)\n",
    "    \n",
    "    return values_to_keep, values_to_discard, df_mdb, df_mdb_wp\n",
    "\n",
    "list_of_parteien, list_of_parteien_discard, df_mdb, df_mdb_wp = replace_sonstige(df_mdb, df_mdb_wp, dimension='PARTEI_KURZ', num_keep = 8)\n",
    "list_of_religion, list_of_religion_discard, df_mdb, df_mdb_wp = replace_sonstige(df_mdb, df_mdb_wp, dimension='RELIGION', num_keep = 6) \n",
    "list_of_familienstand, list_of_familienstand_discard, df_mdb, df_mdb_wp = replace_sonstige(df_mdb, df_mdb_wp, dimension='FAMILIENSTAND', num_keep = 8)\n",
    "list_of_beruf, list_of_beruf_discard, df_mdb, df_mdb_wp = replace_sonstige(df_mdb, df_mdb_wp, dimension='BERUF_MAPPED', num_keep = 12)\n",
    "\n",
    "# append 'sonstige' to list of valid values\n",
    "for list_of_values in [list_of_parteien, list_of_religion, list_of_familienstand, list_of_beruf]:\n",
    "    list_of_values += ['sonstige']"
   ]
  },
  {
   "cell_type": "code",
   "execution_count": 113,
   "id": "48fadc4b-a142-4beb-824c-a63304581d0d",
   "metadata": {},
   "outputs": [
    {
     "name": "stdout",
     "output_type": "stream",
     "text": [
      "(11627, 17)\n"
     ]
    }
   ],
   "source": [
    "df_mdb_wp[['ID', 'PARTEI_KURZ']].groupby('PARTEI_KURZ').count().iloc[0]\n",
    "print(df_mdb_wp.shape)"
   ]
  },
  {
   "cell_type": "code",
   "execution_count": null,
   "id": "5e487157-1816-4b61-9c0a-5a220163c7b5",
   "metadata": {},
   "outputs": [],
   "source": []
  },
  {
   "cell_type": "code",
   "execution_count": 131,
   "id": "c6666556-b82e-491d-ad4d-6a24a9d6b41a",
   "metadata": {},
   "outputs": [],
   "source": [
    "# deleteme START"
   ]
  },
  {
   "cell_type": "code",
   "execution_count": 142,
   "id": "697ffa70-afc4-4cf1-be74-7b9f6cc44c06",
   "metadata": {},
   "outputs": [
    {
     "data": {
      "text/html": [
       "<div>\n",
       "<style scoped>\n",
       "    .dataframe tbody tr th:only-of-type {\n",
       "        vertical-align: middle;\n",
       "    }\n",
       "\n",
       "    .dataframe tbody tr th {\n",
       "        vertical-align: top;\n",
       "    }\n",
       "\n",
       "    .dataframe thead th {\n",
       "        text-align: right;\n",
       "    }\n",
       "</style>\n",
       "<table border=\"1\" class=\"dataframe\">\n",
       "  <thead>\n",
       "    <tr style=\"text-align: right;\">\n",
       "      <th></th>\n",
       "      <th>ID</th>\n",
       "      <th>NACHNAME</th>\n",
       "      <th>VORNAME</th>\n",
       "      <th>GEBURTSDATUM</th>\n",
       "      <th>GEBURTSORT</th>\n",
       "      <th>GEBURTSLAND</th>\n",
       "      <th>STERBEDATUM</th>\n",
       "      <th>GESCHLECHT</th>\n",
       "      <th>FAMILIENSTAND</th>\n",
       "      <th>RELIGION</th>\n",
       "      <th>BERUF</th>\n",
       "      <th>PARTEI_KURZ</th>\n",
       "      <th>VITA_KURZ</th>\n",
       "      <th>VEROEFFENTLICHUNGSPFLICHTIGES</th>\n",
       "      <th>ANZ_WAHLPERIODEN</th>\n",
       "      <th>BERUF_MAPPED</th>\n",
       "    </tr>\n",
       "    <tr>\n",
       "      <th>WP</th>\n",
       "      <th></th>\n",
       "      <th></th>\n",
       "      <th></th>\n",
       "      <th></th>\n",
       "      <th></th>\n",
       "      <th></th>\n",
       "      <th></th>\n",
       "      <th></th>\n",
       "      <th></th>\n",
       "      <th></th>\n",
       "      <th></th>\n",
       "      <th></th>\n",
       "      <th></th>\n",
       "      <th></th>\n",
       "      <th></th>\n",
       "      <th></th>\n",
       "    </tr>\n",
       "  </thead>\n",
       "  <tbody>\n",
       "    <tr>\n",
       "      <th>14</th>\n",
       "      <td>1</td>\n",
       "      <td>1</td>\n",
       "      <td>1</td>\n",
       "      <td>1</td>\n",
       "      <td>1</td>\n",
       "      <td>1</td>\n",
       "      <td>1</td>\n",
       "      <td>1</td>\n",
       "      <td>1</td>\n",
       "      <td>1</td>\n",
       "      <td>1</td>\n",
       "      <td>1</td>\n",
       "      <td>1</td>\n",
       "      <td>1</td>\n",
       "      <td>1</td>\n",
       "      <td>1</td>\n",
       "    </tr>\n",
       "    <tr>\n",
       "      <th>15</th>\n",
       "      <td>1</td>\n",
       "      <td>1</td>\n",
       "      <td>1</td>\n",
       "      <td>1</td>\n",
       "      <td>1</td>\n",
       "      <td>1</td>\n",
       "      <td>1</td>\n",
       "      <td>1</td>\n",
       "      <td>1</td>\n",
       "      <td>1</td>\n",
       "      <td>1</td>\n",
       "      <td>1</td>\n",
       "      <td>1</td>\n",
       "      <td>1</td>\n",
       "      <td>1</td>\n",
       "      <td>1</td>\n",
       "    </tr>\n",
       "    <tr>\n",
       "      <th>19</th>\n",
       "      <td>88</td>\n",
       "      <td>88</td>\n",
       "      <td>88</td>\n",
       "      <td>88</td>\n",
       "      <td>88</td>\n",
       "      <td>88</td>\n",
       "      <td>88</td>\n",
       "      <td>88</td>\n",
       "      <td>88</td>\n",
       "      <td>88</td>\n",
       "      <td>88</td>\n",
       "      <td>88</td>\n",
       "      <td>88</td>\n",
       "      <td>83</td>\n",
       "      <td>88</td>\n",
       "      <td>88</td>\n",
       "    </tr>\n",
       "  </tbody>\n",
       "</table>\n",
       "</div>"
      ],
      "text/plain": [
       "    ID  NACHNAME  VORNAME  GEBURTSDATUM  GEBURTSORT  GEBURTSLAND  STERBEDATUM  \\\n",
       "WP                                                                              \n",
       "14   1         1        1             1           1            1            1   \n",
       "15   1         1        1             1           1            1            1   \n",
       "19  88        88       88            88          88           88           88   \n",
       "\n",
       "    GESCHLECHT  FAMILIENSTAND  RELIGION  BERUF  PARTEI_KURZ  VITA_KURZ  \\\n",
       "WP                                                                       \n",
       "14           1              1         1      1            1          1   \n",
       "15           1              1         1      1            1          1   \n",
       "19          88             88        88     88           88         88   \n",
       "\n",
       "    VEROEFFENTLICHUNGSPFLICHTIGES  ANZ_WAHLPERIODEN  BERUF_MAPPED  \n",
       "WP                                                                 \n",
       "14                              1                 1             1  \n",
       "15                              1                 1             1  \n",
       "19                             83                88            88  "
      ]
     },
     "execution_count": 142,
     "metadata": {},
     "output_type": "execute_result"
    }
   ],
   "source": [
    "start_date = 1\n",
    "end_date = 19\n",
    "df_mdb_wp[df_mdb_wp.PARTEI_KURZ == 'AfD'].groupby('WP').count()"
   ]
  },
  {
   "cell_type": "code",
   "execution_count": 135,
   "id": "ed940bfe-c090-4f0a-bbd7-8357f77312ea",
   "metadata": {},
   "outputs": [
    {
     "data": {
      "text/html": [
       "<div>\n",
       "<style scoped>\n",
       "    .dataframe tbody tr th:only-of-type {\n",
       "        vertical-align: middle;\n",
       "    }\n",
       "\n",
       "    .dataframe tbody tr th {\n",
       "        vertical-align: top;\n",
       "    }\n",
       "\n",
       "    .dataframe thead th {\n",
       "        text-align: right;\n",
       "    }\n",
       "</style>\n",
       "<table border=\"1\" class=\"dataframe\">\n",
       "  <thead>\n",
       "    <tr style=\"text-align: right;\">\n",
       "      <th></th>\n",
       "      <th>ID</th>\n",
       "      <th>NACHNAME</th>\n",
       "      <th>VORNAME</th>\n",
       "      <th>GEBURTSDATUM</th>\n",
       "      <th>GEBURTSORT</th>\n",
       "      <th>GEBURTSLAND</th>\n",
       "      <th>STERBEDATUM</th>\n",
       "      <th>FAMILIENSTAND</th>\n",
       "      <th>RELIGION</th>\n",
       "      <th>BERUF</th>\n",
       "      <th>PARTEI_KURZ</th>\n",
       "      <th>VITA_KURZ</th>\n",
       "      <th>VEROEFFENTLICHUNGSPFLICHTIGES</th>\n",
       "      <th>ANZ_WAHLPERIODEN</th>\n",
       "      <th>BERUF_MAPPED</th>\n",
       "      <th>WP</th>\n",
       "    </tr>\n",
       "    <tr>\n",
       "      <th>GESCHLECHT</th>\n",
       "      <th></th>\n",
       "      <th></th>\n",
       "      <th></th>\n",
       "      <th></th>\n",
       "      <th></th>\n",
       "      <th></th>\n",
       "      <th></th>\n",
       "      <th></th>\n",
       "      <th></th>\n",
       "      <th></th>\n",
       "      <th></th>\n",
       "      <th></th>\n",
       "      <th></th>\n",
       "      <th></th>\n",
       "      <th></th>\n",
       "      <th></th>\n",
       "    </tr>\n",
       "  </thead>\n",
       "  <tbody>\n",
       "    <tr>\n",
       "      <th>männlich</th>\n",
       "      <td>81</td>\n",
       "      <td>81</td>\n",
       "      <td>81</td>\n",
       "      <td>81</td>\n",
       "      <td>81</td>\n",
       "      <td>81</td>\n",
       "      <td>81</td>\n",
       "      <td>81</td>\n",
       "      <td>81</td>\n",
       "      <td>81</td>\n",
       "      <td>81</td>\n",
       "      <td>81</td>\n",
       "      <td>77</td>\n",
       "      <td>81</td>\n",
       "      <td>81</td>\n",
       "      <td>81</td>\n",
       "    </tr>\n",
       "    <tr>\n",
       "      <th>weiblich</th>\n",
       "      <td>9</td>\n",
       "      <td>9</td>\n",
       "      <td>9</td>\n",
       "      <td>9</td>\n",
       "      <td>9</td>\n",
       "      <td>9</td>\n",
       "      <td>9</td>\n",
       "      <td>9</td>\n",
       "      <td>9</td>\n",
       "      <td>9</td>\n",
       "      <td>9</td>\n",
       "      <td>9</td>\n",
       "      <td>8</td>\n",
       "      <td>9</td>\n",
       "      <td>9</td>\n",
       "      <td>9</td>\n",
       "    </tr>\n",
       "  </tbody>\n",
       "</table>\n",
       "</div>"
      ],
      "text/plain": [
       "            ID  NACHNAME  VORNAME  GEBURTSDATUM  GEBURTSORT  GEBURTSLAND  \\\n",
       "GESCHLECHT                                                                 \n",
       "männlich    81        81       81            81          81           81   \n",
       "weiblich     9         9        9             9           9            9   \n",
       "\n",
       "            STERBEDATUM  FAMILIENSTAND  RELIGION  BERUF  PARTEI_KURZ  \\\n",
       "GESCHLECHT                                                             \n",
       "männlich             81             81        81     81           81   \n",
       "weiblich              9              9         9      9            9   \n",
       "\n",
       "            VITA_KURZ  VEROEFFENTLICHUNGSPFLICHTIGES  ANZ_WAHLPERIODEN  \\\n",
       "GESCHLECHT                                                               \n",
       "männlich           81                             77                81   \n",
       "weiblich            9                              8                 9   \n",
       "\n",
       "            BERUF_MAPPED  WP  \n",
       "GESCHLECHT                    \n",
       "männlich              81  81  \n",
       "weiblich               9   9  "
      ]
     },
     "execution_count": 135,
     "metadata": {},
     "output_type": "execute_result"
    }
   ],
   "source": [
    "df_mdb_wp[df_mdb_wp.PARTEI_KURZ=='AfD'].groupby('GESCHLECHT').count()"
   ]
  },
  {
   "cell_type": "code",
   "execution_count": 116,
   "id": "b8d2f47b-65e1-4170-bfb4-84a617c88b90",
   "metadata": {},
   "outputs": [
    {
     "name": "stderr",
     "output_type": "stream",
     "text": [
      "INFO:root:+++++ starting evaluation of PARTEI_KURZ\n",
      "INFO:root:1. before selecting:PARTEI_KURZ 11627\n",
      "INFO:root:2. after selecting wp: PARTEI_KURZ 11627\n"
     ]
    }
   ],
   "source": [
    "logging.getLogger().setLevel(logging.INFO)\n",
    "\n",
    "dimension = 'PARTEI_KURZ'\n",
    "logging.info(f'+++++ starting evaluation of {dimension}')\n",
    "logging.info(f'1. before selecting:{dimension} {df_mdb_wp.shape[0]}')\n",
    "\n",
    "\n",
    "selected_df = df_mdb_wp[(df_mdb_wp['WP']>= start_date) & (df_mdb_wp['WP']<= end_date)]\n",
    "logging.info(f'2. after selecting wp: {dimension} {selected_df.shape[0]}')"
   ]
  },
  {
   "cell_type": "code",
   "execution_count": 122,
   "id": "a3c1651d-4fa8-4eaf-80ee-22fbc388131f",
   "metadata": {},
   "outputs": [
    {
     "data": {
      "text/plain": [
       "(90, 17)"
      ]
     },
     "execution_count": 122,
     "metadata": {},
     "output_type": "execute_result"
    }
   ],
   "source": [
    "selected_df[selected_df.PARTEI_KURZ == 'AfD'].shape"
   ]
  },
  {
   "cell_type": "code",
   "execution_count": 128,
   "id": "e0969cb4-f130-4e08-a30a-15613444133a",
   "metadata": {},
   "outputs": [],
   "source": [
    "selected_parteien = ['AfD']\n",
    "selected_berufe = list_of_beruf"
   ]
  },
  {
   "cell_type": "code",
   "execution_count": 129,
   "id": "890550d6-018c-48da-b4bc-4642100feb4b",
   "metadata": {},
   "outputs": [
    {
     "name": "stderr",
     "output_type": "stream",
     "text": [
      "INFO:root:3. after selecting party: 90\n"
     ]
    },
    {
     "data": {
      "text/plain": [
       "(90, 17)"
      ]
     },
     "execution_count": 129,
     "metadata": {},
     "output_type": "execute_result"
    }
   ],
   "source": [
    "selected_df_1 = selected_df[selected_df['PARTEI_KURZ'].isin(selected_parteien)]\n",
    "logging.info(f'3. after selecting party: {selected_df_1.shape[0]}')\n",
    "selected_df[selected_df.PARTEI_KURZ == 'AfD'].shape"
   ]
  },
  {
   "cell_type": "code",
   "execution_count": 130,
   "id": "3e84f442-d6c0-45b4-b29f-436f4daa52aa",
   "metadata": {},
   "outputs": [
    {
     "name": "stderr",
     "output_type": "stream",
     "text": [
      "INFO:root:['Jurist*in', 'Lehrer*in / Rektor*in [a. D.]', 'Berufspolitiker', 'Kaufmann/-frau', 'Land-/Forstwirt*in', 'Ingenieur*in', 'Geschäftsführer*in/Unternehmer*in', 'Angestellt[e] / Beamter*in', 'Betriebswirt*in / Verwaltungsangestellte*r', 'Handwerker*in', 'Volkswirtin*in', 'Geisteswissenschaftler*in', 'sonstige']\n",
      "INFO:root:4. after selecting beruf: 11627\n"
     ]
    },
    {
     "data": {
      "text/plain": [
       "(90, 17)"
      ]
     },
     "execution_count": 130,
     "metadata": {},
     "output_type": "execute_result"
    }
   ],
   "source": [
    "# select berufe\n",
    "selected_df = selected_df[selected_df['BERUF_MAPPED'].isin(selected_berufe)]\n",
    "logging.info(selected_berufe)\n",
    "logging.info(f'4. after selecting beruf: {selected_df.shape[0]}')\n",
    "selected_df[selected_df.PARTEI_KURZ == 'AfD'].shape"
   ]
  },
  {
   "cell_type": "code",
   "execution_count": null,
   "id": "1bad7ca9-9e99-4b23-8b4b-1c8bc26bc145",
   "metadata": {},
   "outputs": [],
   "source": [
    "# deleteme END"
   ]
  },
  {
   "cell_type": "code",
   "execution_count": null,
   "id": "649fe981-ad34-4458-953f-6089becd2cb9",
   "metadata": {},
   "outputs": [],
   "source": []
  },
  {
   "cell_type": "code",
   "execution_count": null,
   "id": "60e096bf-3d4f-4526-8e49-ce2714ce5bf7",
   "metadata": {},
   "outputs": [],
   "source": [
    "# deleteme\n",
    "# keep occurences\n",
    "NUM_DIM_KEEP = 8\n",
    "values_to_keep = selected_df[['ID', 'FAMILIENSTAND']].groupby('FAMILIENSTAND').count().sort_values(by='ID', ascending=False).index[NUM_DIM_KEEP:2*NUM_DIM_KEEP]\n",
    "values_to_keep"
   ]
  },
  {
   "cell_type": "code",
   "execution_count": null,
   "id": "891266d6-88f1-412e-b32a-5f11a086590f",
   "metadata": {},
   "outputs": [],
   "source": [
    "levels = [values_to_keep, range(start_date, end_date+1)]\n",
    "levels"
   ]
  },
  {
   "cell_type": "code",
   "execution_count": null,
   "id": "4584524e-c280-4736-8923-9cd2cfd573d2",
   "metadata": {},
   "outputs": [],
   "source": [
    "new_index = pd.MultiIndex.from_product(levels, names=['FAMILIENSTAND', 'WP'])\n",
    "new_index"
   ]
  },
  {
   "cell_type": "code",
   "execution_count": null,
   "id": "96d7f07d-2ad0-4b2a-a258-f33469373d79",
   "metadata": {},
   "outputs": [],
   "source": [
    "# deleteme\n",
    "grouped = selected_df[['ID', 'WP', 'FAMILIENSTAND']].groupby(['FAMILIENSTAND', 'WP']).count()\n",
    "grouped.head(16)"
   ]
  },
  {
   "cell_type": "code",
   "execution_count": null,
   "id": "9de3e011-2c9c-4d27-aadc-12dbd85d3f77",
   "metadata": {},
   "outputs": [],
   "source": [
    "grouped = grouped.reindex(new_index, fill_value=0)\n",
    "grouped"
   ]
  },
  {
   "cell_type": "code",
   "execution_count": null,
   "id": "d2917c68-228d-49d2-8dbb-c625675adf69",
   "metadata": {},
   "outputs": [],
   "source": [
    "grouped.reset_index(inplace=True)\n",
    "grouped"
   ]
  },
  {
   "cell_type": "code",
   "execution_count": null,
   "id": "ed6c4583-010c-4d70-94fc-f4fcd9a10be4",
   "metadata": {},
   "outputs": [],
   "source": [
    "# deleteme\n",
    "wps = sorted(list(set(grouped.WP)))\n",
    "familienstands = list(set(grouped.FAMILIENSTAND))\n",
    "traces_values = []\n"
   ]
  },
  {
   "cell_type": "code",
   "execution_count": null,
   "id": "60ff22da-33ad-4712-acb7-04be089980f5",
   "metadata": {},
   "outputs": [],
   "source": [
    "for familienstand in familienstands:\n",
    "    trace = grouped[grouped['FAMILIENSTAND'] == familienstand].sort_values(by='WP').ID.values\n",
    "    traces_values.append(trace)\n",
    "traces_values"
   ]
  },
  {
   "cell_type": "code",
   "execution_count": null,
   "id": "0e5a2efe-6ffa-407c-911c-f2cba382d27d",
   "metadata": {},
   "outputs": [],
   "source": []
  },
  {
   "cell_type": "markdown",
   "id": "863eb41d-0086-45cb-a1a1-ec55f8dbeef3",
   "metadata": {},
   "source": [
    "# quality checks"
   ]
  },
  {
   "cell_type": "code",
   "execution_count": null,
   "id": "8a37b643-1c10-4611-a711-1902e9a96113",
   "metadata": {},
   "outputs": [],
   "source": [
    "df_mdb_wp[(df_mdb_wp.WP==19) & (df_mdb_wp.PARTEI_KURZ == 'CDU')]"
   ]
  },
  {
   "cell_type": "code",
   "execution_count": null,
   "id": "49a500ea-dfec-496f-86dd-25504a9d3580",
   "metadata": {},
   "outputs": [],
   "source": []
  },
  {
   "cell_type": "code",
   "execution_count": null,
   "id": "b24b94cd-fef3-4654-891b-3fa817349f96",
   "metadata": {},
   "outputs": [],
   "source": [
    "df_mdb_wp[(df_mdb_wp.WP==18) & (df_mdb_wp.PARTEI_KURZ == 'CDU') & (df_mdb_wp.BERUF.str.contains('Bürgermeister'))]"
   ]
  },
  {
   "cell_type": "code",
   "execution_count": null,
   "id": "0fe3f529-eb3c-4df4-9a4c-51840c8fe8ca",
   "metadata": {},
   "outputs": [],
   "source": []
  },
  {
   "cell_type": "code",
   "execution_count": null,
   "id": "c8fbefa2-06e2-487c-b2e7-0ac7b1fb97ec",
   "metadata": {},
   "outputs": [],
   "source": []
  },
  {
   "cell_type": "code",
   "execution_count": null,
   "id": "53e74498-0cd5-48a7-9c53-4982fa1792d1",
   "metadata": {},
   "outputs": [],
   "source": []
  },
  {
   "cell_type": "code",
   "execution_count": null,
   "id": "b27c7a8c-68f9-4ea1-ab74-96f886d343d1",
   "metadata": {},
   "outputs": [],
   "source": []
  }
 ],
 "metadata": {
  "kernelspec": {
   "display_name": "Python 3",
   "language": "python",
   "name": "python3"
  },
  "language_info": {
   "codemirror_mode": {
    "name": "ipython",
    "version": 3
   },
   "file_extension": ".py",
   "mimetype": "text/x-python",
   "name": "python",
   "nbconvert_exporter": "python",
   "pygments_lexer": "ipython3",
   "version": "3.9.4"
  }
 },
 "nbformat": 4,
 "nbformat_minor": 5
}
